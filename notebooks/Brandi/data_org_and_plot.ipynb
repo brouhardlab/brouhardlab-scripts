{
 "cells": [
  {
   "cell_type": "code",
   "execution_count": 1,
   "id": "ddf19d6c-d913-43af-ba01-447c5e548056",
   "metadata": {},
   "outputs": [],
   "source": [
    "import numpy as np\n",
    "import seaborn as sns\n",
    "import matplotlib.pyplot as plt\n",
    "import csv\n",
    "import pandas as pd\n",
    "from pandas.api.types import CategoricalDtype\n",
    "import scipy as sp\n",
    "from pathlib import Path\n",
    "import tkinter as tk\n",
    "from tkinter import filedialog\n",
    "import itertools\n",
    "from colour import Color\n",
    "from datetime import date"
   ]
  },
  {
   "cell_type": "code",
   "execution_count": 2,
   "id": "c5de6a8a-3de2-4fb5-bfd4-1d9480fd2e50",
   "metadata": {},
   "outputs": [
    {
     "name": "stdout",
     "output_type": "stream",
     "text": [
      "Today's date: 2022-11-13\n"
     ]
    },
    {
     "data": {
      "text/plain": [
       "'2022-11-13'"
      ]
     },
     "execution_count": 2,
     "metadata": {},
     "output_type": "execute_result"
    }
   ],
   "source": [
    "today = date.today()\n",
    "print(\"Today's date:\", today)\n",
    "date = str(today)\n",
    "date"
   ]
  },
  {
   "cell_type": "code",
   "execution_count": 106,
   "id": "00a242de-0ead-45fe-bf14-9b157dd1cb5f",
   "metadata": {},
   "outputs": [],
   "source": [
    "tubulin = '[Tubulin] ' r'$(\\mu M)$'\n",
    "tub = 'tub'\n",
    "DCXconc = '[DCX] ' r'$(n M)$'\n",
    "DCX = 'DCX'\n",
    "\n",
    "\n",
    "Concentration = 'Concentration ' r'$(\\mu M)$'\n",
    "Length = 'Length ' r'$(\\mu m)$'\n",
    "Lifetime = 'Lifetime ' r'$(min)$'\n",
    "GrowthRate = 'Growth Rate ' r'$(\\mu m / min)$'\n",
    "# TimeToNucleate = 'Time to Nucleate ' r'$(min)$'\n",
    "ShrinkageLength = 'Shrink Length ' r'$(\\mu m)$'\n",
    "ShrinkageLifetime = 'Shrink Lifetime ' r'$(min)$'\n",
    "ShrinkageRate = 'Shrink Rate ' r'$(\\mu m / min)$'"
   ]
  },
  {
   "cell_type": "code",
   "execution_count": 107,
   "id": "1d133753-4539-49d8-b2be-34f636fc2e35",
   "metadata": {},
   "outputs": [
    {
     "name": "stdout",
     "output_type": "stream",
     "text": [
      "[<Color #ab4a9c>, <Color #e468b8>, <Color #ffa4cd>] [<Color #ff5b00>, <Color #ff8341>, <Color #ffac83>]\n"
     ]
    }
   ],
   "source": [
    "black = '#000000'\n",
    "grey = '#777777'\n",
    "blue = '#23459C'\n",
    "cyan = '#0089CF'\n",
    "green = '#79BA1A'\n",
    "purple = '#AB4A9C'\n",
    "lily = '#CB81EA'\n",
    "magenta = '#D80B8C'\n",
    "red = '#e60000'\n",
    "orange = '#FF7300'\n",
    "darkorange = '#FF5B00'\n",
    "lightorange = '#FFAC83'\n",
    "yellow = '#FFCB05'\n",
    "lightyellow = '#F9DC2D'\n",
    "pink = '#FFA4CD'\n",
    "\n",
    "StartHue1 = Color(purple)\n",
    "tub1color = list(StartHue1.range_to(Color(pink),3))\n",
    "StartHue2 = Color(darkorange)\n",
    "tub2color = list(StartHue2.range_to(Color(lightorange),3))\n",
    "print(tub1color,tub2color)\n",
    "\n",
    "palette = [grey,cyan] + list(map(Color.get_hex,tub1color)) + list(map(Color.get_hex,tub2color)) + [green]\n",
    "parameters = [GrowthRate,Length,Lifetime,ShrinkageRate]"
   ]
  },
  {
   "cell_type": "markdown",
   "id": "7cf0c07a-9610-4e42-a7c9-9948609d38fc",
   "metadata": {},
   "source": [
    "## Join Data"
   ]
  },
  {
   "cell_type": "code",
   "execution_count": null,
   "id": "13dd459a-3ee5-45eb-acfe-f9091a705974",
   "metadata": {},
   "outputs": [],
   "source": []
  },
  {
   "cell_type": "code",
   "execution_count": 14,
   "id": "74347479-e049-40c5-bb77-848ae7edb061",
   "metadata": {},
   "outputs": [],
   "source": [
    "askdirectory = filedialog.askdirectory() # show an \"Open\" dialog box and return the path to the selected file\n",
    "path = Path(askdirectory)"
   ]
  },
  {
   "cell_type": "code",
   "execution_count": 15,
   "id": "e876939c-825a-4693-be9b-79aae4a7f4a5",
   "metadata": {},
   "outputs": [
    {
     "data": {
      "text/plain": [
       "[WindowsPath('C:/Users/Brouhard Lab/Data/Results_Files/DCX_Dynamics/2022-08-19_Ch3-tub06uM-DCX00nM_results.csv'),\n",
       " WindowsPath('C:/Users/Brouhard Lab/Data/Results_Files/DCX_Dynamics/2022-11-11_Ch1-tub06uM-DCX15nM_results.csv'),\n",
       " WindowsPath('C:/Users/Brouhard Lab/Data/Results_Files/DCX_Dynamics/2022-11-11_Ch2-tub06uM-DCX15nM_results.csv'),\n",
       " WindowsPath('C:/Users/Brouhard Lab/Data/Results_Files/DCX_Dynamics/2022-11-11_Ch3-tub06uM-DCX05nM_results.csv'),\n",
       " WindowsPath('C:/Users/Brouhard Lab/Data/Results_Files/DCX_Dynamics/2022-11-11_Ch5-tub06uM-DCX05nM_results.csv'),\n",
       " WindowsPath('C:/Users/Brouhard Lab/Data/Results_Files/DCX_Dynamics/2022-11-11_Ch7-tub06uM-DCX200nM_results.csv'),\n",
       " WindowsPath('C:/Users/Brouhard Lab/Data/Results_Files/DCX_Dynamics/2022-11-11_Ch8-tub06uM-DCX50nM_results.csv')]"
      ]
     },
     "execution_count": 15,
     "metadata": {},
     "output_type": "execute_result"
    }
   ],
   "source": [
    "files = [x for x in path.iterdir() if x.is_file()]\n",
    "files = [i for i in files if (str(i)[-10:] != 'results.csv') == True]\n",
    "files = [i for i in files if (str(i)[-3:] == 'csv') == True]\n",
    "files"
   ]
  },
  {
   "cell_type": "code",
   "execution_count": 16,
   "id": "bb4e1d3e-dc33-47fa-80fb-b1e88a4c582f",
   "metadata": {},
   "outputs": [],
   "source": [
    "data = pd.read_csv(files[0], encoding='utf-8')\n",
    "for i in range(1,len(files)):\n",
    "    d = pd.read_csv(files[i], encoding='utf-8')\n",
    "    data = pd.concat([data,d])\n"
   ]
  },
  {
   "cell_type": "code",
   "execution_count": 17,
   "id": "944aa4bf-2c1f-45bc-b2ac-adce47b75ddc",
   "metadata": {},
   "outputs": [
    {
     "data": {
      "text/html": [
       "<div>\n",
       "<style scoped>\n",
       "    .dataframe tbody tr th:only-of-type {\n",
       "        vertical-align: middle;\n",
       "    }\n",
       "\n",
       "    .dataframe tbody tr th {\n",
       "        vertical-align: top;\n",
       "    }\n",
       "\n",
       "    .dataframe thead th {\n",
       "        text-align: right;\n",
       "    }\n",
       "</style>\n",
       "<table border=\"1\" class=\"dataframe\">\n",
       "  <thead>\n",
       "    <tr style=\"text-align: right;\">\n",
       "      <th></th>\n",
       "      <th>Date</th>\n",
       "      <th>CH</th>\n",
       "      <th>[Tubulin] $(\\mu M)$</th>\n",
       "      <th>[DCX] $(n M)$</th>\n",
       "      <th>Length $(\\mu m)$</th>\n",
       "      <th>Lifetime $(min)$</th>\n",
       "      <th>Growth Rate $(\\mu m / min)$</th>\n",
       "      <th>Shrink Length $(\\mu m)$</th>\n",
       "      <th>Shrink Lifetime $(min)$</th>\n",
       "      <th>Shrink Rate $(\\mu m / min)$</th>\n",
       "      <th>Rescues</th>\n",
       "    </tr>\n",
       "  </thead>\n",
       "  <tbody>\n",
       "    <tr>\n",
       "      <th>0</th>\n",
       "      <td>2022-08-19</td>\n",
       "      <td>3</td>\n",
       "      <td>6.0</td>\n",
       "      <td>0.0</td>\n",
       "      <td>1.819000</td>\n",
       "      <td>3.179333</td>\n",
       "      <td>0.572133</td>\n",
       "      <td>1.605000</td>\n",
       "      <td>0.209167</td>\n",
       "      <td>7.673307</td>\n",
       "      <td>False</td>\n",
       "    </tr>\n",
       "    <tr>\n",
       "      <th>1</th>\n",
       "      <td>2022-08-19</td>\n",
       "      <td>3</td>\n",
       "      <td>6.0</td>\n",
       "      <td>0.0</td>\n",
       "      <td>1.605000</td>\n",
       "      <td>4.518000</td>\n",
       "      <td>0.355246</td>\n",
       "      <td>1.605000</td>\n",
       "      <td>0.167333</td>\n",
       "      <td>9.591633</td>\n",
       "      <td>False</td>\n",
       "    </tr>\n",
       "    <tr>\n",
       "      <th>2</th>\n",
       "      <td>2022-08-19</td>\n",
       "      <td>3</td>\n",
       "      <td>6.0</td>\n",
       "      <td>0.0</td>\n",
       "      <td>2.033000</td>\n",
       "      <td>4.685333</td>\n",
       "      <td>0.433907</td>\n",
       "      <td>1.926000</td>\n",
       "      <td>0.083667</td>\n",
       "      <td>23.019920</td>\n",
       "      <td>False</td>\n",
       "    </tr>\n",
       "    <tr>\n",
       "      <th>3</th>\n",
       "      <td>2022-08-19</td>\n",
       "      <td>3</td>\n",
       "      <td>6.0</td>\n",
       "      <td>0.0</td>\n",
       "      <td>1.319667</td>\n",
       "      <td>3.318777</td>\n",
       "      <td>0.397636</td>\n",
       "      <td>1.355333</td>\n",
       "      <td>0.027890</td>\n",
       "      <td>48.596131</td>\n",
       "      <td>False</td>\n",
       "    </tr>\n",
       "    <tr>\n",
       "      <th>4</th>\n",
       "      <td>2022-08-19</td>\n",
       "      <td>3</td>\n",
       "      <td>6.0</td>\n",
       "      <td>0.0</td>\n",
       "      <td>1.391000</td>\n",
       "      <td>2.593667</td>\n",
       "      <td>0.536306</td>\n",
       "      <td>1.605000</td>\n",
       "      <td>NaN</td>\n",
       "      <td>NaN</td>\n",
       "      <td>False</td>\n",
       "    </tr>\n",
       "    <tr>\n",
       "      <th>...</th>\n",
       "      <td>...</td>\n",
       "      <td>...</td>\n",
       "      <td>...</td>\n",
       "      <td>...</td>\n",
       "      <td>...</td>\n",
       "      <td>...</td>\n",
       "      <td>...</td>\n",
       "      <td>...</td>\n",
       "      <td>...</td>\n",
       "      <td>...</td>\n",
       "      <td>...</td>\n",
       "    </tr>\n",
       "    <tr>\n",
       "      <th>7</th>\n",
       "      <td>2022-11-11</td>\n",
       "      <td>8</td>\n",
       "      <td>6.0</td>\n",
       "      <td>50.0</td>\n",
       "      <td>4.815000</td>\n",
       "      <td>8.952333</td>\n",
       "      <td>0.537849</td>\n",
       "      <td>4.708000</td>\n",
       "      <td>0.585667</td>\n",
       "      <td>8.038702</td>\n",
       "      <td>False</td>\n",
       "    </tr>\n",
       "    <tr>\n",
       "      <th>8</th>\n",
       "      <td>2022-11-11</td>\n",
       "      <td>8</td>\n",
       "      <td>6.0</td>\n",
       "      <td>50.0</td>\n",
       "      <td>9.630000</td>\n",
       "      <td>14.139667</td>\n",
       "      <td>0.681063</td>\n",
       "      <td>3.317000</td>\n",
       "      <td>1.004000</td>\n",
       "      <td>3.303785</td>\n",
       "      <td>True</td>\n",
       "    </tr>\n",
       "    <tr>\n",
       "      <th>9</th>\n",
       "      <td>2022-11-11</td>\n",
       "      <td>8</td>\n",
       "      <td>6.0</td>\n",
       "      <td>50.0</td>\n",
       "      <td>9.309000</td>\n",
       "      <td>12.382667</td>\n",
       "      <td>0.751777</td>\n",
       "      <td>5.243000</td>\n",
       "      <td>1.338667</td>\n",
       "      <td>3.916584</td>\n",
       "      <td>True</td>\n",
       "    </tr>\n",
       "    <tr>\n",
       "      <th>10</th>\n",
       "      <td>2022-11-11</td>\n",
       "      <td>8</td>\n",
       "      <td>6.0</td>\n",
       "      <td>50.0</td>\n",
       "      <td>10.593000</td>\n",
       "      <td>12.884667</td>\n",
       "      <td>0.822140</td>\n",
       "      <td>2.996000</td>\n",
       "      <td>1.338667</td>\n",
       "      <td>2.238048</td>\n",
       "      <td>True</td>\n",
       "    </tr>\n",
       "    <tr>\n",
       "      <th>11</th>\n",
       "      <td>2022-11-11</td>\n",
       "      <td>8</td>\n",
       "      <td>6.0</td>\n",
       "      <td>50.0</td>\n",
       "      <td>7.383000</td>\n",
       "      <td>9.370667</td>\n",
       "      <td>0.787884</td>\n",
       "      <td>4.708000</td>\n",
       "      <td>1.338667</td>\n",
       "      <td>3.516932</td>\n",
       "      <td>True</td>\n",
       "    </tr>\n",
       "  </tbody>\n",
       "</table>\n",
       "<p>125 rows × 11 columns</p>\n",
       "</div>"
      ],
      "text/plain": [
       "          Date  CH  [Tubulin] $(\\mu M)$  [DCX] $(n M)$  Length $(\\mu m)$  \\\n",
       "0   2022-08-19   3                  6.0            0.0          1.819000   \n",
       "1   2022-08-19   3                  6.0            0.0          1.605000   \n",
       "2   2022-08-19   3                  6.0            0.0          2.033000   \n",
       "3   2022-08-19   3                  6.0            0.0          1.319667   \n",
       "4   2022-08-19   3                  6.0            0.0          1.391000   \n",
       "..         ...  ..                  ...            ...               ...   \n",
       "7   2022-11-11   8                  6.0           50.0          4.815000   \n",
       "8   2022-11-11   8                  6.0           50.0          9.630000   \n",
       "9   2022-11-11   8                  6.0           50.0          9.309000   \n",
       "10  2022-11-11   8                  6.0           50.0         10.593000   \n",
       "11  2022-11-11   8                  6.0           50.0          7.383000   \n",
       "\n",
       "    Lifetime $(min)$  Growth Rate $(\\mu m / min)$  Shrink Length $(\\mu m)$  \\\n",
       "0           3.179333                     0.572133                 1.605000   \n",
       "1           4.518000                     0.355246                 1.605000   \n",
       "2           4.685333                     0.433907                 1.926000   \n",
       "3           3.318777                     0.397636                 1.355333   \n",
       "4           2.593667                     0.536306                 1.605000   \n",
       "..               ...                          ...                      ...   \n",
       "7           8.952333                     0.537849                 4.708000   \n",
       "8          14.139667                     0.681063                 3.317000   \n",
       "9          12.382667                     0.751777                 5.243000   \n",
       "10         12.884667                     0.822140                 2.996000   \n",
       "11          9.370667                     0.787884                 4.708000   \n",
       "\n",
       "    Shrink Lifetime $(min)$  Shrink Rate $(\\mu m / min)$  Rescues  \n",
       "0                  0.209167                     7.673307    False  \n",
       "1                  0.167333                     9.591633    False  \n",
       "2                  0.083667                    23.019920    False  \n",
       "3                  0.027890                    48.596131    False  \n",
       "4                       NaN                          NaN    False  \n",
       "..                      ...                          ...      ...  \n",
       "7                  0.585667                     8.038702    False  \n",
       "8                  1.004000                     3.303785     True  \n",
       "9                  1.338667                     3.916584     True  \n",
       "10                 1.338667                     2.238048     True  \n",
       "11                 1.338667                     3.516932     True  \n",
       "\n",
       "[125 rows x 11 columns]"
      ]
     },
     "execution_count": 17,
     "metadata": {},
     "output_type": "execute_result"
    }
   ],
   "source": [
    "data"
   ]
  },
  {
   "cell_type": "code",
   "execution_count": 18,
   "id": "9deb333c-459d-45bd-b52c-2c32032021f4",
   "metadata": {},
   "outputs": [],
   "source": [
    "data.to_csv(path/(date+'_MasterSheet.csv'), encoding='utf-8', index=False)"
   ]
  },
  {
   "cell_type": "markdown",
   "id": "575ddccf-d95b-4e25-82cf-6822aa23e760",
   "metadata": {},
   "source": [
    "## Open Master Data"
   ]
  },
  {
   "cell_type": "code",
   "execution_count": 32,
   "id": "e026f123-49eb-4f9f-a8cd-22305e6ddf3f",
   "metadata": {},
   "outputs": [],
   "source": [
    "askmastersheet = filedialog.askopenfilename() # show an \"Open\" dialog box and return the path to the selected file\n",
    "data = pd.read_csv(askmastersheet, encoding='utf-8')"
   ]
  },
  {
   "cell_type": "code",
   "execution_count": 33,
   "id": "9e4c4b92-eac1-4951-9087-1e754c68ede5",
   "metadata": {},
   "outputs": [
    {
     "data": {
      "text/plain": [
       "WindowsPath('C:/Users/Brouhard Lab/Data/Results_Files/DCX_Dynamics/Plots')"
      ]
     },
     "execution_count": 33,
     "metadata": {},
     "output_type": "execute_result"
    }
   ],
   "source": [
    "pathmastersheet = Path(askmastersheet)\n",
    "resultdirectory = str(pathmastersheet.parents[0])+'//Plots'\n",
    "newmydir = Path(resultdirectory)\n",
    "newmydir.mkdir(exist_ok=True)\n",
    "path = newmydir\n",
    "path"
   ]
  },
  {
   "cell_type": "code",
   "execution_count": 34,
   "id": "576ba991-deb2-47aa-8e30-0f2e20b77f32",
   "metadata": {},
   "outputs": [
    {
     "data": {
      "text/html": [
       "<div>\n",
       "<style scoped>\n",
       "    .dataframe tbody tr th:only-of-type {\n",
       "        vertical-align: middle;\n",
       "    }\n",
       "\n",
       "    .dataframe tbody tr th {\n",
       "        vertical-align: top;\n",
       "    }\n",
       "\n",
       "    .dataframe thead th {\n",
       "        text-align: right;\n",
       "    }\n",
       "</style>\n",
       "<table border=\"1\" class=\"dataframe\">\n",
       "  <thead>\n",
       "    <tr style=\"text-align: right;\">\n",
       "      <th></th>\n",
       "      <th>Date</th>\n",
       "      <th>CH</th>\n",
       "      <th>[Tubulin] $(\\mu M)$</th>\n",
       "      <th>[DCX] $(n M)$</th>\n",
       "      <th>Length $(\\mu m)$</th>\n",
       "      <th>Lifetime $(min)$</th>\n",
       "      <th>Growth Rate $(\\mu m / min)$</th>\n",
       "      <th>Shrink Length $(\\mu m)$</th>\n",
       "      <th>Shrink Lifetime $(min)$</th>\n",
       "      <th>Shrink Rate $(\\mu m / min)$</th>\n",
       "      <th>Rescues</th>\n",
       "    </tr>\n",
       "  </thead>\n",
       "  <tbody>\n",
       "    <tr>\n",
       "      <th>0</th>\n",
       "      <td>2022-08-19</td>\n",
       "      <td>3</td>\n",
       "      <td>6</td>\n",
       "      <td>0</td>\n",
       "      <td>1.819000</td>\n",
       "      <td>3.179333</td>\n",
       "      <td>0.572133</td>\n",
       "      <td>1.605000</td>\n",
       "      <td>0.209167</td>\n",
       "      <td>7.673307</td>\n",
       "      <td>False</td>\n",
       "    </tr>\n",
       "    <tr>\n",
       "      <th>1</th>\n",
       "      <td>2022-08-19</td>\n",
       "      <td>3</td>\n",
       "      <td>6</td>\n",
       "      <td>0</td>\n",
       "      <td>1.605000</td>\n",
       "      <td>4.518000</td>\n",
       "      <td>0.355246</td>\n",
       "      <td>1.605000</td>\n",
       "      <td>0.167333</td>\n",
       "      <td>9.591633</td>\n",
       "      <td>False</td>\n",
       "    </tr>\n",
       "    <tr>\n",
       "      <th>2</th>\n",
       "      <td>2022-08-19</td>\n",
       "      <td>3</td>\n",
       "      <td>6</td>\n",
       "      <td>0</td>\n",
       "      <td>2.033000</td>\n",
       "      <td>4.685333</td>\n",
       "      <td>0.433907</td>\n",
       "      <td>1.926000</td>\n",
       "      <td>0.083667</td>\n",
       "      <td>23.019920</td>\n",
       "      <td>False</td>\n",
       "    </tr>\n",
       "    <tr>\n",
       "      <th>3</th>\n",
       "      <td>2022-08-19</td>\n",
       "      <td>3</td>\n",
       "      <td>6</td>\n",
       "      <td>0</td>\n",
       "      <td>1.319667</td>\n",
       "      <td>3.318777</td>\n",
       "      <td>0.397636</td>\n",
       "      <td>1.355333</td>\n",
       "      <td>0.027890</td>\n",
       "      <td>48.596131</td>\n",
       "      <td>False</td>\n",
       "    </tr>\n",
       "    <tr>\n",
       "      <th>4</th>\n",
       "      <td>2022-08-19</td>\n",
       "      <td>3</td>\n",
       "      <td>6</td>\n",
       "      <td>0</td>\n",
       "      <td>1.391000</td>\n",
       "      <td>2.593667</td>\n",
       "      <td>0.536306</td>\n",
       "      <td>1.605000</td>\n",
       "      <td>NaN</td>\n",
       "      <td>NaN</td>\n",
       "      <td>False</td>\n",
       "    </tr>\n",
       "    <tr>\n",
       "      <th>...</th>\n",
       "      <td>...</td>\n",
       "      <td>...</td>\n",
       "      <td>...</td>\n",
       "      <td>...</td>\n",
       "      <td>...</td>\n",
       "      <td>...</td>\n",
       "      <td>...</td>\n",
       "      <td>...</td>\n",
       "      <td>...</td>\n",
       "      <td>...</td>\n",
       "      <td>...</td>\n",
       "    </tr>\n",
       "    <tr>\n",
       "      <th>120</th>\n",
       "      <td>2022-11-11</td>\n",
       "      <td>7</td>\n",
       "      <td>6</td>\n",
       "      <td>200</td>\n",
       "      <td>6.848000</td>\n",
       "      <td>9.557000</td>\n",
       "      <td>0.716543</td>\n",
       "      <td>5.885000</td>\n",
       "      <td>2.515000</td>\n",
       "      <td>2.339960</td>\n",
       "      <td>True</td>\n",
       "    </tr>\n",
       "    <tr>\n",
       "      <th>121</th>\n",
       "      <td>2022-11-11</td>\n",
       "      <td>7</td>\n",
       "      <td>6</td>\n",
       "      <td>200</td>\n",
       "      <td>10.807000</td>\n",
       "      <td>14.335500</td>\n",
       "      <td>0.753863</td>\n",
       "      <td>1.712000</td>\n",
       "      <td>0.922167</td>\n",
       "      <td>1.856497</td>\n",
       "      <td>True</td>\n",
       "    </tr>\n",
       "    <tr>\n",
       "      <th>122</th>\n",
       "      <td>2022-11-11</td>\n",
       "      <td>7</td>\n",
       "      <td>6</td>\n",
       "      <td>200</td>\n",
       "      <td>8.988000</td>\n",
       "      <td>12.323500</td>\n",
       "      <td>0.729338</td>\n",
       "      <td>6.313000</td>\n",
       "      <td>2.850333</td>\n",
       "      <td>2.214829</td>\n",
       "      <td>True</td>\n",
       "    </tr>\n",
       "    <tr>\n",
       "      <th>123</th>\n",
       "      <td>2022-11-11</td>\n",
       "      <td>7</td>\n",
       "      <td>6</td>\n",
       "      <td>200</td>\n",
       "      <td>6.313000</td>\n",
       "      <td>11.820500</td>\n",
       "      <td>0.534072</td>\n",
       "      <td>6.313000</td>\n",
       "      <td>0.838333</td>\n",
       "      <td>7.530417</td>\n",
       "      <td>False</td>\n",
       "    </tr>\n",
       "    <tr>\n",
       "      <th>124</th>\n",
       "      <td>2022-11-11</td>\n",
       "      <td>7</td>\n",
       "      <td>6</td>\n",
       "      <td>200</td>\n",
       "      <td>5.350000</td>\n",
       "      <td>9.808500</td>\n",
       "      <td>0.545445</td>\n",
       "      <td>3.745000</td>\n",
       "      <td>1.006000</td>\n",
       "      <td>3.722664</td>\n",
       "      <td>True</td>\n",
       "    </tr>\n",
       "  </tbody>\n",
       "</table>\n",
       "<p>125 rows × 11 columns</p>\n",
       "</div>"
      ],
      "text/plain": [
       "           Date  CH  [Tubulin] $(\\mu M)$  [DCX] $(n M)$  Length $(\\mu m)$  \\\n",
       "0    2022-08-19   3                    6              0          1.819000   \n",
       "1    2022-08-19   3                    6              0          1.605000   \n",
       "2    2022-08-19   3                    6              0          2.033000   \n",
       "3    2022-08-19   3                    6              0          1.319667   \n",
       "4    2022-08-19   3                    6              0          1.391000   \n",
       "..          ...  ..                  ...            ...               ...   \n",
       "120  2022-11-11   7                    6            200          6.848000   \n",
       "121  2022-11-11   7                    6            200         10.807000   \n",
       "122  2022-11-11   7                    6            200          8.988000   \n",
       "123  2022-11-11   7                    6            200          6.313000   \n",
       "124  2022-11-11   7                    6            200          5.350000   \n",
       "\n",
       "     Lifetime $(min)$  Growth Rate $(\\mu m / min)$  Shrink Length $(\\mu m)$  \\\n",
       "0            3.179333                     0.572133                 1.605000   \n",
       "1            4.518000                     0.355246                 1.605000   \n",
       "2            4.685333                     0.433907                 1.926000   \n",
       "3            3.318777                     0.397636                 1.355333   \n",
       "4            2.593667                     0.536306                 1.605000   \n",
       "..                ...                          ...                      ...   \n",
       "120          9.557000                     0.716543                 5.885000   \n",
       "121         14.335500                     0.753863                 1.712000   \n",
       "122         12.323500                     0.729338                 6.313000   \n",
       "123         11.820500                     0.534072                 6.313000   \n",
       "124          9.808500                     0.545445                 3.745000   \n",
       "\n",
       "     Shrink Lifetime $(min)$  Shrink Rate $(\\mu m / min)$  Rescues  \n",
       "0                   0.209167                     7.673307    False  \n",
       "1                   0.167333                     9.591633    False  \n",
       "2                   0.083667                    23.019920    False  \n",
       "3                   0.027890                    48.596131    False  \n",
       "4                        NaN                          NaN    False  \n",
       "..                       ...                          ...      ...  \n",
       "120                 2.515000                     2.339960     True  \n",
       "121                 0.922167                     1.856497     True  \n",
       "122                 2.850333                     2.214829     True  \n",
       "123                 0.838333                     7.530417    False  \n",
       "124                 1.006000                     3.722664     True  \n",
       "\n",
       "[125 rows x 11 columns]"
      ]
     },
     "execution_count": 34,
     "metadata": {},
     "output_type": "execute_result"
    }
   ],
   "source": [
    "data"
   ]
  },
  {
   "cell_type": "markdown",
   "id": "a7d87305-d827-4c25-a88e-a3880ef9b973",
   "metadata": {},
   "source": [
    "## Seaborn Plot"
   ]
  },
  {
   "cell_type": "code",
   "execution_count": 35,
   "id": "c40f624a-142f-4f0d-86f7-04fa1bd201ec",
   "metadata": {},
   "outputs": [
    {
     "data": {
      "image/png": "[encoded data removed]",
      "text/plain": [
       "<Figure size 1080x1080 with 4 Axes>"
      ]
     },
     "metadata": {},
     "output_type": "display_data"
    }
   ],
   "source": [
    "fig, axs = plt.subplots(2,2,figsize=(15,15))\n",
    "sns.set_style(\"ticks\")\n",
    "\n",
    "c = 0\n",
    "for i in [0,1]:\n",
    "    for j in [0,1]:\n",
    "        sns.pointplot(x=DCXconc, y=parameters[c],\n",
    "                        hue=DCXconc, style = DCXconc , err_style=\"bars\", marker='o', join=False, capsize=.1,\n",
    "                        data=data,err_kws={'capsize':10},ci=95 , palette=palette,ax=axs[i][j])\n",
    "        c += 1\n",
    "        \n",
    "sns.despine()\n",
    "sns.set_context(\"poster\", font_scale=1, rc={\"lines.linewidth\":3.0})\n",
    "plt.tight_layout()\n",
    "plt.savefig(path/('plots'+date+'.pdf'))\n",
    "plt.savefig(path/('plots'+date+'.png'))"
   ]
  },
  {
   "cell_type": "markdown",
   "id": "052b5904-365d-48a7-999a-c59c6f6aac22",
   "metadata": {},
   "source": [
    "## Data Fit"
   ]
  },
  {
   "cell_type": "code",
   "execution_count": 20,
   "id": "4482664e-4352-4c5e-aa1f-c6a15b1ec946",
   "metadata": {},
   "outputs": [],
   "source": [
    "def gaussian(x, mu, sig):\n",
    "    return (np.exp(-np.power(x - mu, 2.) / (2 * np.power(sig, 2.))) )/(sig*np.sqrt(2*np.pi))\n",
    "\n",
    "# def exponential(x, scale):\n",
    "#     return ((np.exp(-x/scale) )/(scale))\n",
    "\n",
    "# def gamma(x, shape, scale):\n",
    "#     return (np.power(x,shape-1)*np.exp(-x/ scale))/(sp.special.gamma(shape) * np.power(scale,shape))"
   ]
  },
  {
   "cell_type": "code",
   "execution_count": 71,
   "id": "fedbcad6-8e88-4a65-ba9d-0d6deb067682",
   "metadata": {},
   "outputs": [],
   "source": [
    "def make_hist(data, c, r) :\n",
    "    \n",
    "    selectdata = data[(data[tubulin]==r)]\n",
    "    \n",
    "    # if c == GrowthRate :\n",
    "    maxbin = 1.5\n",
    "    binsize = 0.05\n",
    "#     elif parameter == ShrinkageRate :\n",
    "#         maxbin = 15\n",
    "#         binsize = 0.1\n",
    "    # else:\n",
    "    #     maxbin = 30\n",
    "    #     binsize = 1\n",
    "        \n",
    "    n, bins, patches = plt.hist(selectdata[c], bins=np.arange(0, maxbin + binsize, binsize), density=True);\n",
    "    plt.clf()\n",
    "       \n",
    "    return n, bins"
   ]
  },
  {
   "cell_type": "code",
   "execution_count": 89,
   "id": "482b7264-1dd3-43ed-b91d-ad8333ff4bbd",
   "metadata": {},
   "outputs": [],
   "source": [
    "def equation_fit(data, c):\n",
    "    \n",
    "    # if (c ==  GrowthRate) :\n",
    "    equation = gaussian\n",
    "        \n",
    "    results = pd.DataFrame(columns=[] , index=[])\n",
    "    \n",
    "    for r in data[tubulin].unique(): #creating a histogram of data assigned to each unique x-value! This is how to create a separate mean for each group/bin!\n",
    "\n",
    "        n, bins =  make_hist(data, c, r)      \n",
    "        if np.isnan(np.sum(n)) == True:\n",
    "                continue\n",
    "\n",
    "#         if equation == gamma :\n",
    "#             coeff, var_matrix = sp.optimize.curve_fit(equation,bins[:-1],n,[2,1])\n",
    "#         else :\n",
    "        coeff, var_matrix = sp.optimize.curve_fit(equation,bins[:-1],n)\n",
    "\n",
    "        variance = np.diagonal(var_matrix) #Refer [3]\n",
    "        SE = np.sqrt(variance) #Refer [4]\n",
    "\n",
    "            #======Making a data frame========\n",
    "        results0 = pd.DataFrame(columns=[] , index=[])\n",
    "        for k in np.arange(0,len(coeff)):\n",
    "            header = [np.array([c]),np.array(['Coefficient '+ str(k)])]\n",
    "            r0 = pd.DataFrame([coeff[k],SE[k]], index=(['Value','SE']),columns= header)\n",
    "            results0 = pd.concat([results0, r0], axis=1, sort=False)\n",
    "\n",
    "        results0[tubulin] = r\n",
    "            \n",
    "\n",
    "        results = pd.concat([results, results0], sort=False)\n",
    "\n",
    "    return results"
   ]
  },
  {
   "cell_type": "code",
   "execution_count": 90,
   "id": "486dc21e-96e5-4a8f-89a2-e530c01082bc",
   "metadata": {},
   "outputs": [],
   "source": [
    "# newmydir = path/(date+'_fitdata')\n",
    "# newmydir.mkdir(exist_ok=True)\n",
    "# newmydir"
   ]
  },
  {
   "cell_type": "code",
   "execution_count": 91,
   "id": "3b66ef2f-b2fd-49ca-85d0-e5f5c3ee9686",
   "metadata": {},
   "outputs": [
    {
     "name": "stderr",
     "output_type": "stream",
     "text": [
      "C:\\Users\\Brandi\\anaconda3\\lib\\site-packages\\numpy\\lib\\histograms.py:906: RuntimeWarning: invalid value encountered in true_divide\n",
      "  return n/db/n.sum(), bin_edges\n"
     ]
    },
    {
     "data": {
      "text/plain": [
       "<Figure size 432x288 with 0 Axes>"
      ]
     },
     "metadata": {},
     "output_type": "display_data"
    }
   ],
   "source": [
    "GrowthRateFit = equation_fit(data, GrowthRate)"
   ]
  },
  {
   "cell_type": "code",
   "execution_count": 92,
   "id": "4c5d8453-89c5-4f07-b8bc-e066c50c7574",
   "metadata": {},
   "outputs": [
    {
     "data": {
      "text/html": [
       "<div>\n",
       "<style scoped>\n",
       "    .dataframe tbody tr th:only-of-type {\n",
       "        vertical-align: middle;\n",
       "    }\n",
       "\n",
       "    .dataframe tbody tr th {\n",
       "        vertical-align: top;\n",
       "    }\n",
       "\n",
       "    .dataframe thead tr th {\n",
       "        text-align: left;\n",
       "    }\n",
       "</style>\n",
       "<table border=\"1\" class=\"dataframe\">\n",
       "  <thead>\n",
       "    <tr>\n",
       "      <th></th>\n",
       "      <th colspan=\"2\" halign=\"left\">Growth Rate $(\\mu m / min)$</th>\n",
       "      <th>[Tubulin] $(\\mu M)$</th>\n",
       "    </tr>\n",
       "    <tr>\n",
       "      <th></th>\n",
       "      <th>Mean</th>\n",
       "      <th>Coefficient 1</th>\n",
       "      <th></th>\n",
       "    </tr>\n",
       "  </thead>\n",
       "  <tbody>\n",
       "    <tr>\n",
       "      <th>Value</th>\n",
       "      <td>0.357493</td>\n",
       "      <td>0.091165</td>\n",
       "      <td>6.0</td>\n",
       "    </tr>\n",
       "    <tr>\n",
       "      <th>SE</th>\n",
       "      <td>0.004694</td>\n",
       "      <td>0.003832</td>\n",
       "      <td>6.0</td>\n",
       "    </tr>\n",
       "    <tr>\n",
       "      <th>Value</th>\n",
       "      <td>0.589003</td>\n",
       "      <td>0.101259</td>\n",
       "      <td>8.0</td>\n",
       "    </tr>\n",
       "    <tr>\n",
       "      <th>SE</th>\n",
       "      <td>0.003425</td>\n",
       "      <td>0.002797</td>\n",
       "      <td>8.0</td>\n",
       "    </tr>\n",
       "    <tr>\n",
       "      <th>Value</th>\n",
       "      <td>0.798786</td>\n",
       "      <td>0.100524</td>\n",
       "      <td>10.0</td>\n",
       "    </tr>\n",
       "    <tr>\n",
       "      <th>SE</th>\n",
       "      <td>0.010161</td>\n",
       "      <td>0.008296</td>\n",
       "      <td>10.0</td>\n",
       "    </tr>\n",
       "    <tr>\n",
       "      <th>Value</th>\n",
       "      <td>1.052251</td>\n",
       "      <td>0.171797</td>\n",
       "      <td>12.0</td>\n",
       "    </tr>\n",
       "    <tr>\n",
       "      <th>SE</th>\n",
       "      <td>0.017078</td>\n",
       "      <td>0.014004</td>\n",
       "      <td>12.0</td>\n",
       "    </tr>\n",
       "  </tbody>\n",
       "</table>\n",
       "</div>"
      ],
      "text/plain": [
       "      Growth Rate $(\\mu m / min)$               [Tubulin] $(\\mu M)$\n",
       "                             Mean Coefficient 1                    \n",
       "Value                    0.357493      0.091165                 6.0\n",
       "SE                       0.004694      0.003832                 6.0\n",
       "Value                    0.589003      0.101259                 8.0\n",
       "SE                       0.003425      0.002797                 8.0\n",
       "Value                    0.798786      0.100524                10.0\n",
       "SE                       0.010161      0.008296                10.0\n",
       "Value                    1.052251      0.171797                12.0\n",
       "SE                       0.017078      0.014004                12.0"
      ]
     },
     "execution_count": 92,
     "metadata": {},
     "output_type": "execute_result"
    }
   ],
   "source": [
    "GrowthRateFit = GrowthRateFit.rename(columns={'Coefficient 0': 'Mean'})\n",
    "\n",
    "ResultFit = pd.concat([GrowthRateFit], axis=1, sort=False)\n",
    "ResultFit = ResultFit.loc[:,~ResultFit.columns.duplicated()]\n",
    "\n",
    "ResultFit.to_csv(newmydir/('ResultFit_'+date+'.csv'), encoding='utf-8', index=False)\n",
    "ResultFit"
   ]
  },
  {
   "cell_type": "markdown",
   "id": "0b807a63-e1d2-4c9d-80ca-4e23a5bdbd86",
   "metadata": {},
   "source": [
    "## Data Plotting"
   ]
  },
  {
   "cell_type": "code",
   "execution_count": 172,
   "id": "1dc172f4-29bb-4bc1-8786-0bf8d6cdd4a8",
   "metadata": {},
   "outputs": [
    {
     "data": {
      "text/plain": [
       "0       6.0\n",
       "1       6.0\n",
       "2       6.0\n",
       "3       6.0\n",
       "4       6.0\n",
       "       ... \n",
       "647    12.0\n",
       "648    12.0\n",
       "649    12.0\n",
       "650    12.0\n",
       "651    12.0\n",
       "Name: [Tubulin] $(\\mu M)$, Length: 652, dtype: float64"
      ]
     },
     "execution_count": 172,
     "metadata": {},
     "output_type": "execute_result"
    }
   ],
   "source": [
    "data[tubulin]"
   ]
  },
  {
   "cell_type": "code",
   "execution_count": 168,
   "id": "332da052-1f7f-42cd-8c1a-005c7d7a7472",
   "metadata": {},
   "outputs": [
    {
     "data": {
      "text/plain": [
       "'[Tubulin] $(\\\\mu M)$'"
      ]
     },
     "execution_count": 200,
     "metadata": {},
     "output_type": "execute_result"
    }
   ],
   "source": [
    "untub=data[tubulin].unique()\n",
    "untub"
   ]
  },
  {
   "cell_type": "code",
   "execution_count": 192,
   "id": "ed096634-8626-4cd2-8125-ea0240a844f2",
   "metadata": {},
   "outputs": [
    {
     "data": {
      "text/html": [
       "<div>\n",
       "<style scoped>\n",
       "    .dataframe tbody tr th:only-of-type {\n",
       "        vertical-align: middle;\n",
       "    }\n",
       "\n",
       "    .dataframe tbody tr th {\n",
       "        vertical-align: top;\n",
       "    }\n",
       "\n",
       "    .dataframe thead th {\n",
       "        text-align: right;\n",
       "    }\n",
       "</style>\n",
       "<table border=\"1\" class=\"dataframe\">\n",
       "  <thead>\n",
       "    <tr style=\"text-align: right;\">\n",
       "      <th></th>\n",
       "      <th>Ch</th>\n",
       "      <th>Length $(\\mu m)$</th>\n",
       "      <th>Lifetime $(min)$</th>\n",
       "      <th>Growth Rate $(\\mu m / min)$</th>\n",
       "      <th>Time to Nucleate $(min)$</th>\n",
       "      <th>Shrink Length $(\\mu m)$</th>\n",
       "      <th>Shrink Lifetime $(min)$</th>\n",
       "      <th>Shrink Rate $(\\mu m / min)$</th>\n",
       "    </tr>\n",
       "    <tr>\n",
       "      <th>[Tubulin] $(\\mu M)$</th>\n",
       "      <th></th>\n",
       "      <th></th>\n",
       "      <th></th>\n",
       "      <th></th>\n",
       "      <th></th>\n",
       "      <th></th>\n",
       "      <th></th>\n",
       "      <th></th>\n",
       "    </tr>\n",
       "  </thead>\n",
       "  <tbody>\n",
       "    <tr>\n",
       "      <th>6.0</th>\n",
       "      <td>2.857143</td>\n",
       "      <td>2.313621</td>\n",
       "      <td>6.085746</td>\n",
       "      <td>0.403111</td>\n",
       "      <td>6.803381</td>\n",
       "      <td>2.303334</td>\n",
       "      <td>0.200582</td>\n",
       "      <td>14.878282</td>\n",
       "    </tr>\n",
       "    <tr>\n",
       "      <th>8.0</th>\n",
       "      <td>1.737705</td>\n",
       "      <td>5.027904</td>\n",
       "      <td>8.169682</td>\n",
       "      <td>0.623198</td>\n",
       "      <td>9.598002</td>\n",
       "      <td>4.997645</td>\n",
       "      <td>0.398455</td>\n",
       "      <td>14.998237</td>\n",
       "    </tr>\n",
       "    <tr>\n",
       "      <th>10.0</th>\n",
       "      <td>3.178571</td>\n",
       "      <td>7.724359</td>\n",
       "      <td>9.141819</td>\n",
       "      <td>0.842666</td>\n",
       "      <td>8.822542</td>\n",
       "      <td>7.817260</td>\n",
       "      <td>0.425135</td>\n",
       "      <td>21.186907</td>\n",
       "    </tr>\n",
       "    <tr>\n",
       "      <th>12.0</th>\n",
       "      <td>3.060000</td>\n",
       "      <td>13.465247</td>\n",
       "      <td>12.482391</td>\n",
       "      <td>1.098787</td>\n",
       "      <td>7.539860</td>\n",
       "      <td>13.826237</td>\n",
       "      <td>0.718850</td>\n",
       "      <td>23.173399</td>\n",
       "    </tr>\n",
       "  </tbody>\n",
       "</table>\n",
       "</div>"
      ],
      "text/plain": [
       "                           Ch  Length $(\\mu m)$  Lifetime $(min)$  \\\n",
       "[Tubulin] $(\\mu M)$                                                 \n",
       "6.0                  2.857143          2.313621          6.085746   \n",
       "8.0                  1.737705          5.027904          8.169682   \n",
       "10.0                 3.178571          7.724359          9.141819   \n",
       "12.0                 3.060000         13.465247         12.482391   \n",
       "\n",
       "                     Growth Rate $(\\mu m / min)$  Time to Nucleate $(min)$  \\\n",
       "[Tubulin] $(\\mu M)$                                                          \n",
       "6.0                                     0.403111                  6.803381   \n",
       "8.0                                     0.623198                  9.598002   \n",
       "10.0                                    0.842666                  8.822542   \n",
       "12.0                                    1.098787                  7.539860   \n",
       "\n",
       "                     Shrink Length $(\\mu m)$  Shrink Lifetime $(min)$  \\\n",
       "[Tubulin] $(\\mu M)$                                                     \n",
       "6.0                                 2.303334                 0.200582   \n",
       "8.0                                 4.997645                 0.398455   \n",
       "10.0                                7.817260                 0.425135   \n",
       "12.0                               13.826237                 0.718850   \n",
       "\n",
       "                     Shrink Rate $(\\mu m / min)$  \n",
       "[Tubulin] $(\\mu M)$                               \n",
       "6.0                                    14.878282  \n",
       "8.0                                    14.998237  \n",
       "10.0                                   21.186907  \n",
       "12.0                                   23.173399  "
      ]
     },
     "execution_count": 192,
     "metadata": {},
     "output_type": "execute_result"
    }
   ],
   "source": [
    "ymean=data.groupby(tubulin).mean()\n",
    "ymean\n"
   ]
  },
  {
   "cell_type": "code",
   "execution_count": 194,
   "id": "8d25a6c7-d4fb-46a6-bb7f-b3e3cbf808a0",
   "metadata": {},
   "outputs": [
    {
     "data": {
      "text/html": [
       "<div>\n",
       "<style scoped>\n",
       "    .dataframe tbody tr th:only-of-type {\n",
       "        vertical-align: middle;\n",
       "    }\n",
       "\n",
       "    .dataframe tbody tr th {\n",
       "        vertical-align: top;\n",
       "    }\n",
       "\n",
       "    .dataframe thead th {\n",
       "        text-align: right;\n",
       "    }\n",
       "</style>\n",
       "<table border=\"1\" class=\"dataframe\">\n",
       "  <thead>\n",
       "    <tr style=\"text-align: right;\">\n",
       "      <th></th>\n",
       "      <th>Ch</th>\n",
       "      <th>Length $(\\mu m)$</th>\n",
       "      <th>Lifetime $(min)$</th>\n",
       "      <th>Growth Rate $(\\mu m / min)$</th>\n",
       "      <th>Time to Nucleate $(min)$</th>\n",
       "      <th>Shrink Length $(\\mu m)$</th>\n",
       "      <th>Shrink Lifetime $(min)$</th>\n",
       "      <th>Shrink Rate $(\\mu m / min)$</th>\n",
       "    </tr>\n",
       "    <tr>\n",
       "      <th>[Tubulin] $(\\mu M)$</th>\n",
       "      <th></th>\n",
       "      <th></th>\n",
       "      <th></th>\n",
       "      <th></th>\n",
       "      <th></th>\n",
       "      <th></th>\n",
       "      <th></th>\n",
       "      <th></th>\n",
       "    </tr>\n",
       "  </thead>\n",
       "  <tbody>\n",
       "    <tr>\n",
       "      <th>6.0</th>\n",
       "      <td>1.128704</td>\n",
       "      <td>1.348780</td>\n",
       "      <td>3.745317</td>\n",
       "      <td>0.099268</td>\n",
       "      <td>5.944081</td>\n",
       "      <td>1.349259</td>\n",
       "      <td>0.134217</td>\n",
       "      <td>9.511765</td>\n",
       "    </tr>\n",
       "    <tr>\n",
       "      <th>8.0</th>\n",
       "      <td>1.184976</td>\n",
       "      <td>3.252343</td>\n",
       "      <td>5.101516</td>\n",
       "      <td>0.108193</td>\n",
       "      <td>7.578300</td>\n",
       "      <td>3.252615</td>\n",
       "      <td>0.257820</td>\n",
       "      <td>10.417108</td>\n",
       "    </tr>\n",
       "    <tr>\n",
       "      <th>10.0</th>\n",
       "      <td>0.386459</td>\n",
       "      <td>5.409052</td>\n",
       "      <td>6.165307</td>\n",
       "      <td>0.123256</td>\n",
       "      <td>7.857857</td>\n",
       "      <td>5.479488</td>\n",
       "      <td>0.287805</td>\n",
       "      <td>9.797352</td>\n",
       "    </tr>\n",
       "    <tr>\n",
       "      <th>12.0</th>\n",
       "      <td>0.874094</td>\n",
       "      <td>7.705022</td>\n",
       "      <td>7.245940</td>\n",
       "      <td>0.169727</td>\n",
       "      <td>6.807545</td>\n",
       "      <td>8.111247</td>\n",
       "      <td>0.479928</td>\n",
       "      <td>12.600540</td>\n",
       "    </tr>\n",
       "  </tbody>\n",
       "</table>\n",
       "</div>"
      ],
      "text/plain": [
       "                           Ch  Length $(\\mu m)$  Lifetime $(min)$  \\\n",
       "[Tubulin] $(\\mu M)$                                                 \n",
       "6.0                  1.128704          1.348780          3.745317   \n",
       "8.0                  1.184976          3.252343          5.101516   \n",
       "10.0                 0.386459          5.409052          6.165307   \n",
       "12.0                 0.874094          7.705022          7.245940   \n",
       "\n",
       "                     Growth Rate $(\\mu m / min)$  Time to Nucleate $(min)$  \\\n",
       "[Tubulin] $(\\mu M)$                                                          \n",
       "6.0                                     0.099268                  5.944081   \n",
       "8.0                                     0.108193                  7.578300   \n",
       "10.0                                    0.123256                  7.857857   \n",
       "12.0                                    0.169727                  6.807545   \n",
       "\n",
       "                     Shrink Length $(\\mu m)$  Shrink Lifetime $(min)$  \\\n",
       "[Tubulin] $(\\mu M)$                                                     \n",
       "6.0                                 1.349259                 0.134217   \n",
       "8.0                                 3.252615                 0.257820   \n",
       "10.0                                5.479488                 0.287805   \n",
       "12.0                                8.111247                 0.479928   \n",
       "\n",
       "                     Shrink Rate $(\\mu m / min)$  \n",
       "[Tubulin] $(\\mu M)$                               \n",
       "6.0                                     9.511765  \n",
       "8.0                                    10.417108  \n",
       "10.0                                    9.797352  \n",
       "12.0                                   12.600540  "
      ]
     },
     "execution_count": 194,
     "metadata": {},
     "output_type": "execute_result"
    }
   ],
   "source": [
    "ystd=data.groupby(tubulin).std()\n",
    "ystd"
   ]
  },
  {
   "cell_type": "code",
   "execution_count": 220,
   "id": "1f18a1b1-4cad-4841-bfc5-82910e6769df",
   "metadata": {},
   "outputs": [
    {
     "data": {
      "text/plain": [
       "[Tubulin] $(\\mu M)$\n",
       "6.0     0.403111\n",
       "8.0     0.623198\n",
       "10.0    0.842666\n",
       "12.0    1.098787\n",
       "Name: Growth Rate $(\\mu m / min)$, dtype: float64"
      ]
     },
     "execution_count": 220,
     "metadata": {},
     "output_type": "execute_result"
    }
   ],
   "source": [
    "ymean['Growth Rate $(\\mu m / min)$']"
   ]
  },
  {
   "cell_type": "code",
   "execution_count": 222,
   "id": "0992d6bb-3b6f-4266-b4cc-17aeae53eb9f",
   "metadata": {},
   "outputs": [
    {
     "ename": "ValueError",
     "evalue": "x and y must have same first dimension, but have shapes (5,) and (4,)",
     "output_type": "error",
     "traceback": [
      "\u001b[1;31m---------------------------------------------------------------------------\u001b[0m",
      "\u001b[1;31mValueError\u001b[0m                                Traceback (most recent call last)",
      "Input \u001b[1;32mIn [222]\u001b[0m, in \u001b[0;36m<cell line: 3>\u001b[1;34m()\u001b[0m\n\u001b[0;32m      1\u001b[0m x\u001b[38;5;241m=\u001b[39mdata[tubulin]\u001b[38;5;241m.\u001b[39munique()\n\u001b[0;32m      2\u001b[0m y\u001b[38;5;241m=\u001b[39mymean[\u001b[38;5;124m'\u001b[39m\u001b[38;5;124mGrowth Rate $(\u001b[39m\u001b[38;5;124m\\\u001b[39m\u001b[38;5;124mmu m / min)$\u001b[39m\u001b[38;5;124m'\u001b[39m]\n\u001b[1;32m----> 3\u001b[0m \u001b[43mplt\u001b[49m\u001b[38;5;241;43m.\u001b[39;49m\u001b[43mplot\u001b[49m\u001b[43m(\u001b[49m\u001b[43mx\u001b[49m\u001b[43m,\u001b[49m\u001b[43my\u001b[49m\u001b[43m,\u001b[49m\u001b[38;5;124;43m'\u001b[39;49m\u001b[38;5;124;43mo\u001b[39;49m\u001b[38;5;124;43m'\u001b[39;49m\u001b[43m)\u001b[49m\n",
      "File \u001b[1;32m~\\anaconda3\\lib\\site-packages\\matplotlib\\pyplot.py:2757\u001b[0m, in \u001b[0;36mplot\u001b[1;34m(scalex, scaley, data, *args, **kwargs)\u001b[0m\n\u001b[0;32m   2755\u001b[0m \u001b[38;5;129m@_copy_docstring_and_deprecators\u001b[39m(Axes\u001b[38;5;241m.\u001b[39mplot)\n\u001b[0;32m   2756\u001b[0m \u001b[38;5;28;01mdef\u001b[39;00m \u001b[38;5;21mplot\u001b[39m(\u001b[38;5;241m*\u001b[39margs, scalex\u001b[38;5;241m=\u001b[39m\u001b[38;5;28;01mTrue\u001b[39;00m, scaley\u001b[38;5;241m=\u001b[39m\u001b[38;5;28;01mTrue\u001b[39;00m, data\u001b[38;5;241m=\u001b[39m\u001b[38;5;28;01mNone\u001b[39;00m, \u001b[38;5;241m*\u001b[39m\u001b[38;5;241m*\u001b[39mkwargs):\n\u001b[1;32m-> 2757\u001b[0m     \u001b[38;5;28;01mreturn\u001b[39;00m gca()\u001b[38;5;241m.\u001b[39mplot(\n\u001b[0;32m   2758\u001b[0m         \u001b[38;5;241m*\u001b[39margs, scalex\u001b[38;5;241m=\u001b[39mscalex, scaley\u001b[38;5;241m=\u001b[39mscaley,\n\u001b[0;32m   2759\u001b[0m         \u001b[38;5;241m*\u001b[39m\u001b[38;5;241m*\u001b[39m({\u001b[38;5;124m\"\u001b[39m\u001b[38;5;124mdata\u001b[39m\u001b[38;5;124m\"\u001b[39m: data} \u001b[38;5;28;01mif\u001b[39;00m data \u001b[38;5;129;01mis\u001b[39;00m \u001b[38;5;129;01mnot\u001b[39;00m \u001b[38;5;28;01mNone\u001b[39;00m \u001b[38;5;28;01melse\u001b[39;00m {}), \u001b[38;5;241m*\u001b[39m\u001b[38;5;241m*\u001b[39mkwargs)\n",
      "File \u001b[1;32m~\\anaconda3\\lib\\site-packages\\matplotlib\\axes\\_axes.py:1632\u001b[0m, in \u001b[0;36mAxes.plot\u001b[1;34m(self, scalex, scaley, data, *args, **kwargs)\u001b[0m\n\u001b[0;32m   1390\u001b[0m \u001b[38;5;124;03m\"\"\"\u001b[39;00m\n\u001b[0;32m   1391\u001b[0m \u001b[38;5;124;03mPlot y versus x as lines and/or markers.\u001b[39;00m\n\u001b[0;32m   1392\u001b[0m \n\u001b[1;32m   (...)\u001b[0m\n\u001b[0;32m   1629\u001b[0m \u001b[38;5;124;03m(``'green'``) or hex strings (``'#008000'``).\u001b[39;00m\n\u001b[0;32m   1630\u001b[0m \u001b[38;5;124;03m\"\"\"\u001b[39;00m\n\u001b[0;32m   1631\u001b[0m kwargs \u001b[38;5;241m=\u001b[39m cbook\u001b[38;5;241m.\u001b[39mnormalize_kwargs(kwargs, mlines\u001b[38;5;241m.\u001b[39mLine2D)\n\u001b[1;32m-> 1632\u001b[0m lines \u001b[38;5;241m=\u001b[39m [\u001b[38;5;241m*\u001b[39m\u001b[38;5;28mself\u001b[39m\u001b[38;5;241m.\u001b[39m_get_lines(\u001b[38;5;241m*\u001b[39margs, data\u001b[38;5;241m=\u001b[39mdata, \u001b[38;5;241m*\u001b[39m\u001b[38;5;241m*\u001b[39mkwargs)]\n\u001b[0;32m   1633\u001b[0m \u001b[38;5;28;01mfor\u001b[39;00m line \u001b[38;5;129;01min\u001b[39;00m lines:\n\u001b[0;32m   1634\u001b[0m     \u001b[38;5;28mself\u001b[39m\u001b[38;5;241m.\u001b[39madd_line(line)\n",
      "File \u001b[1;32m~\\anaconda3\\lib\\site-packages\\matplotlib\\axes\\_base.py:312\u001b[0m, in \u001b[0;36m_process_plot_var_args.__call__\u001b[1;34m(self, data, *args, **kwargs)\u001b[0m\n\u001b[0;32m    310\u001b[0m     this \u001b[38;5;241m+\u001b[39m\u001b[38;5;241m=\u001b[39m args[\u001b[38;5;241m0\u001b[39m],\n\u001b[0;32m    311\u001b[0m     args \u001b[38;5;241m=\u001b[39m args[\u001b[38;5;241m1\u001b[39m:]\n\u001b[1;32m--> 312\u001b[0m \u001b[38;5;28;01myield from\u001b[39;00m \u001b[38;5;28;43mself\u001b[39;49m\u001b[38;5;241;43m.\u001b[39;49m\u001b[43m_plot_args\u001b[49m\u001b[43m(\u001b[49m\u001b[43mthis\u001b[49m\u001b[43m,\u001b[49m\u001b[43m \u001b[49m\u001b[43mkwargs\u001b[49m\u001b[43m)\u001b[49m\n",
      "File \u001b[1;32m~\\anaconda3\\lib\\site-packages\\matplotlib\\axes\\_base.py:498\u001b[0m, in \u001b[0;36m_process_plot_var_args._plot_args\u001b[1;34m(self, tup, kwargs, return_kwargs)\u001b[0m\n\u001b[0;32m    495\u001b[0m     \u001b[38;5;28mself\u001b[39m\u001b[38;5;241m.\u001b[39maxes\u001b[38;5;241m.\u001b[39myaxis\u001b[38;5;241m.\u001b[39mupdate_units(y)\n\u001b[0;32m    497\u001b[0m \u001b[38;5;28;01mif\u001b[39;00m x\u001b[38;5;241m.\u001b[39mshape[\u001b[38;5;241m0\u001b[39m] \u001b[38;5;241m!=\u001b[39m y\u001b[38;5;241m.\u001b[39mshape[\u001b[38;5;241m0\u001b[39m]:\n\u001b[1;32m--> 498\u001b[0m     \u001b[38;5;28;01mraise\u001b[39;00m \u001b[38;5;167;01mValueError\u001b[39;00m(\u001b[38;5;124mf\u001b[39m\u001b[38;5;124m\"\u001b[39m\u001b[38;5;124mx and y must have same first dimension, but \u001b[39m\u001b[38;5;124m\"\u001b[39m\n\u001b[0;32m    499\u001b[0m                      \u001b[38;5;124mf\u001b[39m\u001b[38;5;124m\"\u001b[39m\u001b[38;5;124mhave shapes \u001b[39m\u001b[38;5;132;01m{\u001b[39;00mx\u001b[38;5;241m.\u001b[39mshape\u001b[38;5;132;01m}\u001b[39;00m\u001b[38;5;124m and \u001b[39m\u001b[38;5;132;01m{\u001b[39;00my\u001b[38;5;241m.\u001b[39mshape\u001b[38;5;132;01m}\u001b[39;00m\u001b[38;5;124m\"\u001b[39m)\n\u001b[0;32m    500\u001b[0m \u001b[38;5;28;01mif\u001b[39;00m x\u001b[38;5;241m.\u001b[39mndim \u001b[38;5;241m>\u001b[39m \u001b[38;5;241m2\u001b[39m \u001b[38;5;129;01mor\u001b[39;00m y\u001b[38;5;241m.\u001b[39mndim \u001b[38;5;241m>\u001b[39m \u001b[38;5;241m2\u001b[39m:\n\u001b[0;32m    501\u001b[0m     \u001b[38;5;28;01mraise\u001b[39;00m \u001b[38;5;167;01mValueError\u001b[39;00m(\u001b[38;5;124mf\u001b[39m\u001b[38;5;124m\"\u001b[39m\u001b[38;5;124mx and y can be no greater than 2D, but have \u001b[39m\u001b[38;5;124m\"\u001b[39m\n\u001b[0;32m    502\u001b[0m                      \u001b[38;5;124mf\u001b[39m\u001b[38;5;124m\"\u001b[39m\u001b[38;5;124mshapes \u001b[39m\u001b[38;5;132;01m{\u001b[39;00mx\u001b[38;5;241m.\u001b[39mshape\u001b[38;5;132;01m}\u001b[39;00m\u001b[38;5;124m and \u001b[39m\u001b[38;5;132;01m{\u001b[39;00my\u001b[38;5;241m.\u001b[39mshape\u001b[38;5;132;01m}\u001b[39;00m\u001b[38;5;124m\"\u001b[39m)\n",
      "\u001b[1;31mValueError\u001b[0m: x and y must have same first dimension, but have shapes (5,) and (4,)"
     ]
    },
    {
     "data": {
      "image/png": "[encoded data removed]",
      "text/plain": [
       "<Figure size 432x288 with 1 Axes>"
      ]
     },
     "metadata": {},
     "output_type": "display_data"
    }
   ],
   "source": [
    "\n",
    "plt.plot(x=tubulin,y,'o')\n"
   ]
  },
  {
   "cell_type": "code",
   "execution_count": 1,
   "id": "f40465fa-765c-4004-a4cd-7ae7dbbe9f92",
   "metadata": {},
   "outputs": [
    {
     "ename": "NameError",
     "evalue": "name 'sns' is not defined",
     "output_type": "error",
     "traceback": [
      "\u001b[1;31m---------------------------------------------------------------------------\u001b[0m",
      "\u001b[1;31mNameError\u001b[0m                                 Traceback (most recent call last)",
      "Input \u001b[1;32mIn [1]\u001b[0m, in \u001b[0;36m<cell line: 3>\u001b[1;34m()\u001b[0m\n\u001b[0;32m      1\u001b[0m \u001b[38;5;66;03m#data dump into a plot w/ best fit line - need to add equation\u001b[39;00m\n\u001b[1;32m----> 3\u001b[0m ax \u001b[38;5;241m=\u001b[39m \u001b[43msns\u001b[49m\u001b[38;5;241m.\u001b[39mlmplot(x\u001b[38;5;241m=\u001b[39mtubulin, y\u001b[38;5;241m=\u001b[39m\u001b[38;5;124m'\u001b[39m\u001b[38;5;124mGrowth Rate $(\u001b[39m\u001b[38;5;124m\\\u001b[39m\u001b[38;5;124mmu m / min)$\u001b[39m\u001b[38;5;124m'\u001b[39m, truncate\u001b[38;5;241m=\u001b[39m\u001b[38;5;28;01mFalse\u001b[39;00m, scatter_kws\u001b[38;5;241m=\u001b[39m{\u001b[38;5;124m\"\u001b[39m\u001b[38;5;124ms\u001b[39m\u001b[38;5;124m\"\u001b[39m: \u001b[38;5;241m12\u001b[39m,\u001b[38;5;124m\"\u001b[39m\u001b[38;5;124malpha\u001b[39m\u001b[38;5;124m\"\u001b[39m:\u001b[38;5;241m0.3\u001b[39m}, aspect\u001b[38;5;241m=\u001b[39m\u001b[38;5;241m1\u001b[39m, data\u001b[38;5;241m=\u001b[39mdata, fit_reg\u001b[38;5;241m=\u001b[39m\u001b[38;5;28;01mTrue\u001b[39;00m, markers\u001b[38;5;241m=\u001b[39m\u001b[38;5;124m'\u001b[39m\u001b[38;5;124mo\u001b[39m\u001b[38;5;124m'\u001b[39m, x_jitter\u001b[38;5;241m=\u001b[39m\u001b[38;5;241m.2\u001b[39m, palette\u001b[38;5;241m=\u001b[39msns\u001b[38;5;241m.\u001b[39mcolor_palette(palette))\n\u001b[0;32m      5\u001b[0m \u001b[38;5;66;03m#note: change to truncate=True if you don't want the regression line to go across the whole plot and just where you have data\u001b[39;00m\n\u001b[0;32m      7\u001b[0m sns\u001b[38;5;241m.\u001b[39mdespine(left\u001b[38;5;241m=\u001b[39m\u001b[38;5;28;01mFalse\u001b[39;00m)\n",
      "\u001b[1;31mNameError\u001b[0m: name 'sns' is not defined"
     ]
    }
   ],
   "source": [
    "#data dump into a plot w/ best fit line - need to add equation\n",
    "\n",
    "ax = sns.lmplot(x=tubulin, y='Growth Rate $(\\mu m / min)$', truncate=False, scatter_kws={\"s\": 12,\"alpha\":0.3}, aspect=1, data=data, fit_reg=True, markers='o', x_jitter=.2, palette=sns.color_palette(palette))\n",
    "\n",
    "#note: change to truncate=True if you don't want the regression line to go across the whole plot and just where you have data\n",
    "\n",
    "sns.despine(left=False)\n",
    "sns.set_style(\"whitegrid\")\n",
    "\n",
    "sns.set_style(\"ticks\")\n",
    "plt.rcParams['axes.linewidth'] = 2.5\n",
    "\n",
    "plt.xlabel('[Tubulin] $(\\mu M)$', fontsize=20)\n",
    "plt.ylabel('Growth Rate $(\\mu m/min)$', fontsize=20)\n",
    "plt.yticks(fontsize = 20)\n",
    "plt.xticks(fontsize =20)\n",
    "plt.ylim(0,2)\n",
    "plt.tight_layout()\n",
    "\n",
    "plt.savefig(newmydir/('Growth Rate'+date+'.pdf'))\n",
    "\n",
    "plt.show()"
   ]
  },
  {
   "cell_type": "code",
   "execution_count": 29,
   "id": "f1ee751c-4370-4eac-8701-45f90d6ddf2a",
   "metadata": {},
   "outputs": [
    {
     "data": {
      "image/png": "[encoded data removed]",
      "text/plain": [
       "<Figure size 432x288 with 1 Axes>"
      ]
     },
     "metadata": {},
     "output_type": "display_data"
    }
   ],
   "source": [
    "#regplot\n",
    "\n",
    "ax = sns.regplot(x=tubulin, y='Growth Rate $(\\mu m / min)$', truncate=False, scatter_kws={\"s\": 12,\"alpha\":0.3}, data=data, fit_reg=True, x_jitter=.2)\n",
    "\n",
    "#note: change to truncate=True if you don't want the regression line to go across the whole plot and just where you have data\n",
    "\n",
    "sns.despine(left=False)\n",
    "sns.set_style(\"whitegrid\")\n",
    "\n",
    "sns.set_style(\"ticks\")\n",
    "plt.rcParams['axes.linewidth'] = 2.5\n",
    "\n",
    "plt.xlabel('[Tubulin] $(\\mu M)$', fontsize=20)\n",
    "plt.ylabel('Growth Rate $(\\mu m/min)$', fontsize=20)\n",
    "plt.yticks(fontsize = 20)\n",
    "plt.xticks(fontsize =20)\n",
    "plt.ylim(0,2)\n",
    "plt.tight_layout()\n",
    "\n",
    "plt.savefig(newmydir/('Growth Rate'+date+'.pdf'))\n",
    "\n",
    "plt.show()"
   ]
  },
  {
   "cell_type": "markdown",
   "id": "5982fcd1-2b69-4415-a661-9cc9abaa23fa",
   "metadata": {},
   "source": [
    "## Making a DataFrame"
   ]
  },
  {
   "cell_type": "code",
   "execution_count": null,
   "id": "be93d7f0-eaba-43d1-b430-9d0d50cd2437",
   "metadata": {},
   "outputs": [
    {
     "ename": "NameError",
     "evalue": "name 'data' is not defined",
     "output_type": "error",
     "traceback": [
      "\u001b[1;31m---------------------------------------------------------------------------\u001b[0m",
      "\u001b[1;31mNameError\u001b[0m                                 Traceback (most recent call last)",
      "Input \u001b[1;32mIn [1]\u001b[0m, in \u001b[0;36m<cell line: 1>\u001b[1;34m()\u001b[0m\n\u001b[1;32m----> 1\u001b[0m df\u001b[38;5;241m=\u001b[39m\u001b[43mdata\u001b[49m[tubulin,GR]\n",
      "\u001b[1;31mNameError\u001b[0m: name 'data' is not defined"
     ]
    }
   ],
   "source": [
    "df=data[tubulin,GR"
   ]
  },
  {
   "cell_type": "code",
   "execution_count": null,
   "id": "09968180-d25b-4b12-bf58-4ded5ac2b9f2",
   "metadata": {},
   "outputs": [],
   "source": []
  },
  {
   "cell_type": "code",
   "execution_count": null,
   "id": "546da92a-0536-4249-ae94-f26b3a4f1bcf",
   "metadata": {},
   "outputs": [],
   "source": []
  },
  {
   "cell_type": "code",
   "execution_count": null,
   "id": "34cc8e2f-140c-4940-9fa2-62cf3b9b0012",
   "metadata": {},
   "outputs": [],
   "source": []
  },
  {
   "cell_type": "code",
   "execution_count": 15,
   "id": "23ee50e0-7abd-4563-bded-494646bb74bc",
   "metadata": {},
   "outputs": [
    {
     "ename": "NameError",
     "evalue": "name 'curve_fit' is not defined",
     "output_type": "error",
     "traceback": [
      "\u001b[1;31m---------------------------------------------------------------------------\u001b[0m",
      "\u001b[1;31mNameError\u001b[0m                                 Traceback (most recent call last)",
      "Input \u001b[1;32mIn [15]\u001b[0m, in \u001b[0;36m<cell line: 8>\u001b[1;34m()\u001b[0m\n\u001b[0;32m      6\u001b[0m \u001b[38;5;66;03m# Fitting\u001b[39;00m\n\u001b[0;32m      7\u001b[0m model \u001b[38;5;241m=\u001b[39m \u001b[38;5;28;01mlambda\u001b[39;00m x, A, x0, sigma, offset:  offset\u001b[38;5;241m+\u001b[39mA\u001b[38;5;241m*\u001b[39mnp\u001b[38;5;241m.\u001b[39mexp(\u001b[38;5;241m-\u001b[39m((x\u001b[38;5;241m-\u001b[39mx0)\u001b[38;5;241m/\u001b[39msigma)\u001b[38;5;241m*\u001b[39m\u001b[38;5;241m*\u001b[39m\u001b[38;5;241m2\u001b[39m)\n\u001b[1;32m----> 8\u001b[0m popt, pcov \u001b[38;5;241m=\u001b[39m \u001b[43mcurve_fit\u001b[49m(model, df[tubulin]\u001b[38;5;241m.\u001b[39mvalues, \n\u001b[0;32m      9\u001b[0m                               df[\u001b[38;5;124m'\u001b[39m\u001b[38;5;124mGrowth Rate $(\u001b[39m\u001b[38;5;124m\\\u001b[39m\u001b[38;5;124mmu m / min)$\u001b[39m\u001b[38;5;124m'\u001b[39m]\u001b[38;5;241m.\u001b[39mvalues, p0\u001b[38;5;241m=\u001b[39m[\u001b[38;5;241m1\u001b[39m,\u001b[38;5;241m0\u001b[39m,\u001b[38;5;241m2\u001b[39m,\u001b[38;5;241m0\u001b[39m])\n\u001b[0;32m     10\u001b[0m \u001b[38;5;66;03m#plot fit\u001b[39;00m\n\u001b[0;32m     11\u001b[0m x \u001b[38;5;241m=\u001b[39m np\u001b[38;5;241m.\u001b[39mlinspace(df[tubulin]\u001b[38;5;241m.\u001b[39mvalues\u001b[38;5;241m.\u001b[39mmin(),df[tubulin]\u001b[38;5;241m.\u001b[39mvalues\u001b[38;5;241m.\u001b[39mmax(),\u001b[38;5;241m250\u001b[39m)\n",
      "\u001b[1;31mNameError\u001b[0m: name 'curve_fit' is not defined"
     ]
    },
    {
     "data": {
      "image/png": "[encoded data removed]",
      "text/plain": [
       "<Figure size 432x288 with 1 Axes>"
      ]
     },
     "metadata": {
      "needs_background": "light"
     },
     "output_type": "display_data"
    }
   ],
   "source": [
    "# plot data\n",
    "df = data[data[tubulin]==GrowthRate]\n",
    "\n",
    "plt.scatter(df[tubulin].values,df['Growth Rate $(\\mu m / min)$'].values, label=\"data\")\n",
    "\n",
    "# Fitting\n",
    "model = lambda x, A, x0, sigma, offset:  offset+A*np.exp(-((x-x0)/sigma)**2)\n",
    "popt, pcov = curve_fit(model, df[tubulin].values, \n",
    "                              df['Growth Rate $(\\mu m / min)$'].values, p0=[1,0,2,0])\n",
    "#plot fit\n",
    "x = np.linspace(df[tubulin].values.min(),df[tubulin].values.max(),250)\n",
    "pt.plot(x,model(x,*popt), label=\"fit\")\n",
    "\n",
    "# Fitting\n",
    "model2 = lambda x, sigma:  model(x,1,0,sigma,0)\n",
    "popt2, pcov2 = curve_fit(model2, df[tubulin].values, \n",
    "                              df['Growth Rate $(\\mu m / min)$'].values, p0=[2])\n",
    "\n",
    "\n",
    "#pt.xlim(None,10)\n",
    "plt.legend()\n",
    "plt.show()"
   ]
  },
  {
   "cell_type": "code",
   "execution_count": 16,
   "id": "030b76f5-a508-4e00-b383-a5aa5f9d48bb",
   "metadata": {},
   "outputs": [
    {
     "data": {
      "text/plain": [
       "0.6726867410813716"
      ]
     },
     "execution_count": 16,
     "metadata": {},
     "output_type": "execute_result"
    }
   ],
   "source": [
    "data['Growth Rate $(\\mu m / min)$'].mean()"
   ]
  },
  {
   "cell_type": "code",
   "execution_count": 108,
   "id": "12251996-55fd-4994-830f-d3535bc3ac03",
   "metadata": {},
   "outputs": [],
   "source": [
    "def rescue_count(data):\n",
    "    \n",
    "    results = pd.DataFrame(columns=[] , index=[])\n",
    "    \n",
    "    data.loc[pd.isnull(data[GrowthRate]), ['Rescues']] = np.NaN\n",
    "    \n",
    "    for tubconc in data[tubulin].unique():\n",
    "        \n",
    "        for dcxconc in data[DCXconc].unique():\n",
    "                \n",
    "                selectdata = data[(data[tubulin]==tubconc)&(data[DCXconc]==dcxconc)]\n",
    "                n =  selectdata['Rescues'].count()\n",
    "                \n",
    "                if n == 0:\n",
    "                    continue\n",
    "                    \n",
    "                rv = selectdata['Rescues'].dropna().value_counts(normalize = True).to_frame()\n",
    "                rescue_values = 1-rv.loc[0][0]\n",
    "                \n",
    "\n",
    "            #======Making a data frame========\n",
    "                r0 = {tubulin:[tubconc], DCXconc:[dcxconc], 'Normalized Rescue': [rescue_values],\n",
    "                     'n': [n]}\n",
    "                results0 = pd.DataFrame(data=r0)\n",
    "                results = pd.concat([results, results0], sort=False)\n",
    "\n",
    "    return results"
   ]
  },
  {
   "cell_type": "code",
   "execution_count": 109,
   "id": "dfed8e77-a5c8-45d3-8b8d-b354e4bd494c",
   "metadata": {},
   "outputs": [
    {
     "data": {
      "text/html": [
       "<div>\n",
       "<style scoped>\n",
       "    .dataframe tbody tr th:only-of-type {\n",
       "        vertical-align: middle;\n",
       "    }\n",
       "\n",
       "    .dataframe tbody tr th {\n",
       "        vertical-align: top;\n",
       "    }\n",
       "\n",
       "    .dataframe thead th {\n",
       "        text-align: right;\n",
       "    }\n",
       "</style>\n",
       "<table border=\"1\" class=\"dataframe\">\n",
       "  <thead>\n",
       "    <tr style=\"text-align: right;\">\n",
       "      <th></th>\n",
       "      <th>[Tubulin] $(\\mu M)$</th>\n",
       "      <th>[DCX] $(n M)$</th>\n",
       "      <th>Normalized Rescue</th>\n",
       "      <th>n</th>\n",
       "    </tr>\n",
       "  </thead>\n",
       "  <tbody>\n",
       "    <tr>\n",
       "      <th>0</th>\n",
       "      <td>6</td>\n",
       "      <td>0</td>\n",
       "      <td>0.000000</td>\n",
       "      <td>30</td>\n",
       "    </tr>\n",
       "    <tr>\n",
       "      <th>0</th>\n",
       "      <td>6</td>\n",
       "      <td>5</td>\n",
       "      <td>0.138889</td>\n",
       "      <td>36</td>\n",
       "    </tr>\n",
       "    <tr>\n",
       "      <th>0</th>\n",
       "      <td>6</td>\n",
       "      <td>15</td>\n",
       "      <td>0.171429</td>\n",
       "      <td>35</td>\n",
       "    </tr>\n",
       "    <tr>\n",
       "      <th>0</th>\n",
       "      <td>6</td>\n",
       "      <td>50</td>\n",
       "      <td>0.916667</td>\n",
       "      <td>12</td>\n",
       "    </tr>\n",
       "    <tr>\n",
       "      <th>0</th>\n",
       "      <td>6</td>\n",
       "      <td>200</td>\n",
       "      <td>0.916667</td>\n",
       "      <td>12</td>\n",
       "    </tr>\n",
       "  </tbody>\n",
       "</table>\n",
       "</div>"
      ],
      "text/plain": [
       "   [Tubulin] $(\\mu M)$  [DCX] $(n M)$  Normalized Rescue   n\n",
       "0                    6              0           0.000000  30\n",
       "0                    6              5           0.138889  36\n",
       "0                    6             15           0.171429  35\n",
       "0                    6             50           0.916667  12\n",
       "0                    6            200           0.916667  12"
      ]
     },
     "execution_count": 109,
     "metadata": {},
     "output_type": "execute_result"
    }
   ],
   "source": [
    "rescues = rescue_count(data)\n",
    "rescues"
   ]
  },
  {
   "cell_type": "code",
   "execution_count": 110,
   "id": "ec0a6adb-141c-4eca-8308-66bf9e3ec9cf",
   "metadata": {},
   "outputs": [],
   "source": [
    "rescue=rescues.reset_index(drop=True) # drops the '0' column and resets index, but must be made into a new dataframe to save the change!"
   ]
  },
  {
   "cell_type": "code",
   "execution_count": 111,
   "id": "218b2061-3329-469d-8d95-c58cdbafc095",
   "metadata": {},
   "outputs": [
    {
     "data": {
      "text/plain": [
       "0    0.000000\n",
       "1    0.138889\n",
       "2    0.171429\n",
       "3    0.916667\n",
       "4    0.916667\n",
       "Name: Normalized Rescue, dtype: float64"
      ]
     },
     "execution_count": 111,
     "metadata": {},
     "output_type": "execute_result"
    }
   ],
   "source": [
    "rescue['Normalized Rescue']"
   ]
  },
  {
   "cell_type": "code",
   "execution_count": 112,
   "id": "c4f0c0bc-9dc4-45e7-89ed-65d3331f1698",
   "metadata": {},
   "outputs": [
    {
     "data": {
      "text/plain": [
       "0      0\n",
       "1      5\n",
       "2     15\n",
       "3     50\n",
       "4    200\n",
       "Name: [DCX] $(n M)$, dtype: int64"
      ]
     },
     "execution_count": 112,
     "metadata": {},
     "output_type": "execute_result"
    }
   ],
   "source": [
    "rescue[DCXconc]"
   ]
  },
  {
   "cell_type": "code",
   "execution_count": 114,
   "id": "82fd51c3-9fcd-4cab-83cc-6f998561c5f1",
   "metadata": {},
   "outputs": [
    {
     "data": {
      "image/png": "[encoded data removed]",
      "text/plain": [
       "<Figure size 536.4x558 with 1 Axes>"
      ]
     },
     "metadata": {},
     "output_type": "display_data"
    }
   ],
   "source": [
    "scattersize = 12\n",
    "cap = 5\n",
    "\n",
    "fig, ax = plt.subplots(1,1,figsize=(7.45,7.75))\n",
    "#     plt.suptitle('Fitted pooled data', fontsize=30)\n",
    "\n",
    "x = rescue[DCXconc]\n",
    "y = rescue['Normalized Rescue']\n",
    "\n",
    "ax.plot(x, y, color=green, marker='D', ms=15)\n",
    "   \n",
    "\n",
    "ax.spines['right'].set_visible(False)\n",
    "ax.spines['top'].set_visible(False)\n",
    "ax.spines['left'].set_lw(3)\n",
    "ax.spines['bottom'].set_lw(3)\n",
    "ax.tick_params(axis='both', width = 3.5, length = 7)\n",
    "ax.set_ylim(-0.015,1)\n",
    "ax.set_xlim(-5,235)\n",
    "ax.set_xlabel( DCXconc)\n",
    "\n",
    "\n",
    "\n",
    "\n",
    "ax.set_title('Rescue')\n",
    "ax.set_ylabel('Rescue Probability')\n",
    "\n",
    "\n",
    "#ax.legend((Type_order),loc='upper left',title='DCX Type')\n",
    "#fig.suptitle('[Tubulin] ' r'$= 6 \\mu M$')\n",
    "plt.tight_layout()\n",
    "plt.savefig(newmydir/('joint_graphsRescues.jpg'))"
   ]
  },
  {
   "cell_type": "code",
   "execution_count": null,
   "id": "0e62a18f-fcae-4dc0-991d-55f1b20dec0c",
   "metadata": {},
   "outputs": [],
   "source": []
  }
 ],
 "metadata": {
  "kernelspec": {
   "display_name": "Python 3 (ipykernel)",
   "language": "python",
   "name": "python3"
  },
  "language_info": {
   "codemirror_mode": {
    "name": "ipython",
    "version": 3
   },
   "file_extension": ".py",
   "mimetype": "text/x-python",
   "name": "python",
   "nbconvert_exporter": "python",
   "pygments_lexer": "ipython3",
   "version": "3.9.12"
  }
 },
 "nbformat": 4,
 "nbformat_minor": 5
}
