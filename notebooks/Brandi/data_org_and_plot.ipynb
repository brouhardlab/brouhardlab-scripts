{
 "cells": [
  {
   "cell_type": "code",
   "execution_count": 2,
   "id": "ddf19d6c-d913-43af-ba01-447c5e548056",
   "metadata": {},
   "outputs": [],
   "source": [
    "import numpy as np\n",
    "import seaborn as sns\n",
    "import matplotlib.pyplot as plt\n",
    "import csv\n",
    "import pandas as pd\n",
    "from pandas.api.types import CategoricalDtype\n",
    "import scipy as sp\n",
    "from pathlib import Path\n",
    "import tkinter as tk\n",
    "from tkinter import filedialog\n",
    "import itertools\n",
    "from colour import Color\n",
    "from datetime import date"
   ]
  },
  {
   "cell_type": "code",
   "execution_count": 3,
   "id": "c5de6a8a-3de2-4fb5-bfd4-1d9480fd2e50",
   "metadata": {},
   "outputs": [
    {
     "name": "stdout",
     "output_type": "stream",
     "text": [
      "Today's date: 2022-10-03\n"
     ]
    },
    {
     "data": {
      "text/plain": [
       "'2022-10-03'"
      ]
     },
     "execution_count": 3,
     "metadata": {},
     "output_type": "execute_result"
    }
   ],
   "source": [
    "today = date.today()\n",
    "print(\"Today's date:\", today)\n",
    "date = str(today)\n",
    "date"
   ]
  },
  {
   "cell_type": "code",
   "execution_count": 4,
   "id": "00a242de-0ead-45fe-bf14-9b157dd1cb5f",
   "metadata": {},
   "outputs": [],
   "source": [
    "tubulin = '[Tubulin] ' r'$(\\mu M)$'\n",
    "tub = 'tub'\n",
    "\n",
    "Concentration = 'Concentration ' r'$(\\mu M)$'\n",
    "Length = 'Length ' r'$(\\mu m)$'\n",
    "Lifetime = 'Lifetime ' r'$(min)$'\n",
    "GrowthRate = 'Growth Rate ' r'$(\\mu m / min)$'\n",
    "TimeToNucleate = 'Time to Nucleate ' r'$(min)$'\n",
    "ShrinkageLength = 'Shrink Length ' r'$(\\mu m)$'\n",
    "ShrinkageLifetime = 'Shrink Lifetime ' r'$(min)$'\n",
    "ShrinkageRate = 'Shrink Rate ' r'$(\\mu m / min)$'"
   ]
  },
  {
   "cell_type": "code",
   "execution_count": 5,
   "id": "1d133753-4539-49d8-b2be-34f636fc2e35",
   "metadata": {},
   "outputs": [
    {
     "name": "stdout",
     "output_type": "stream",
     "text": [
      "[<Color #ab4a9c>, <Color #e468b8>, <Color #ffa4cd>] [<Color #ff5b00>, <Color #ff8341>, <Color #ffac83>]\n"
     ]
    }
   ],
   "source": [
    "black = '#000000'\n",
    "grey = '#777777'\n",
    "blue = '#23459C'\n",
    "cyan = '#0089CF'\n",
    "green = '#79BA1A'\n",
    "purple = '#AB4A9C'\n",
    "lily = '#CB81EA'\n",
    "magenta = '#D80B8C'\n",
    "red = '#e60000'\n",
    "orange = '#FF7300'\n",
    "darkorange = '#FF5B00'\n",
    "lightorange = '#FFAC83'\n",
    "yellow = '#FFCB05'\n",
    "lightyellow = '#F9DC2D'\n",
    "pink = '#FFA4CD'\n",
    "\n",
    "StartHue1 = Color(purple)\n",
    "tub1color = list(StartHue1.range_to(Color(pink),3))\n",
    "StartHue2 = Color(darkorange)\n",
    "tub2color = list(StartHue2.range_to(Color(lightorange),3))\n",
    "print(tub1color,tub2color)\n",
    "\n",
    "palette = [grey,cyan] + list(map(Color.get_hex,tub1color)) + list(map(Color.get_hex,tub2color)) + [green]\n",
    "parameters = [GrowthRate]#,Length,Lifetime,ShrinkageRate]"
   ]
  },
  {
   "cell_type": "markdown",
   "id": "7cf0c07a-9610-4e42-a7c9-9948609d38fc",
   "metadata": {},
   "source": [
    "## Join Data"
   ]
  },
  {
   "cell_type": "code",
   "execution_count": null,
   "id": "13dd459a-3ee5-45eb-acfe-f9091a705974",
   "metadata": {},
   "outputs": [],
   "source": []
  },
  {
   "cell_type": "code",
   "execution_count": 6,
   "id": "74347479-e049-40c5-bb77-848ae7edb061",
   "metadata": {},
   "outputs": [],
   "source": [
    "askdirectory = filedialog.askdirectory() # show an \"Open\" dialog box and return the path to the selected file\n",
    "path = Path(askdirectory)"
   ]
  },
  {
   "cell_type": "code",
   "execution_count": 6,
   "id": "e876939c-825a-4693-be9b-79aae4a7f4a5",
   "metadata": {},
   "outputs": [
    {
     "data": {
      "text/plain": [
       "[WindowsPath('C:/Users/Brouhard Lab/Data/Growth curve data/growth-rate/2022-09-20_dynamics_tub06uM_results.csv'),\n",
       " WindowsPath('C:/Users/Brouhard Lab/Data/Growth curve data/growth-rate/2022-09-20_dynamics_tub08uM_results.csv'),\n",
       " WindowsPath('C:/Users/Brouhard Lab/Data/Growth curve data/growth-rate/2022-09-20_dynamics_tub10uM_results.csv'),\n",
       " WindowsPath('C:/Users/Brouhard Lab/Data/Growth curve data/growth-rate/2022-09-20_dynamics_tub12uM_results.csv')]"
      ]
     },
     "execution_count": 6,
     "metadata": {},
     "output_type": "execute_result"
    }
   ],
   "source": [
    "files = [x for x in path.iterdir() if x.is_file()]\n",
    "files = [i for i in files if (str(i)[-10:] != 'results.csv') == True]\n",
    "files = [i for i in files if (str(i)[-3:] == 'csv') == True]\n",
    "files"
   ]
  },
  {
   "cell_type": "code",
   "execution_count": 7,
   "id": "bb4e1d3e-dc33-47fa-80fb-b1e88a4c582f",
   "metadata": {},
   "outputs": [],
   "source": [
    "data = pd.read_csv(files[0], encoding='utf-8')\n",
    "for i in range(1,len(files)):\n",
    "    d = pd.read_csv(files[i], encoding='utf-8')\n",
    "    data = pd.concat([data,d])\n"
   ]
  },
  {
   "cell_type": "code",
   "execution_count": 8,
   "id": "944aa4bf-2c1f-45bc-b2ac-adce47b75ddc",
   "metadata": {},
   "outputs": [
    {
     "data": {
      "text/html": [
       "<div>\n",
       "<style scoped>\n",
       "    .dataframe tbody tr th:only-of-type {\n",
       "        vertical-align: middle;\n",
       "    }\n",
       "\n",
       "    .dataframe tbody tr th {\n",
       "        vertical-align: top;\n",
       "    }\n",
       "\n",
       "    .dataframe thead th {\n",
       "        text-align: right;\n",
       "    }\n",
       "</style>\n",
       "<table border=\"1\" class=\"dataframe\">\n",
       "  <thead>\n",
       "    <tr style=\"text-align: right;\">\n",
       "      <th></th>\n",
       "      <th>Date</th>\n",
       "      <th>Investigator</th>\n",
       "      <th>Ch</th>\n",
       "      <th>[Tubulin] $(\\mu M)$</th>\n",
       "      <th>Length $(\\mu m)$</th>\n",
       "      <th>Lifetime $(min)$</th>\n",
       "      <th>Growth Rate $(\\mu m / min)$</th>\n",
       "      <th>Time to Nucleate $(min)$</th>\n",
       "      <th>Shrink Length $(\\mu m)$</th>\n",
       "      <th>Shrink Lifetime $(min)$</th>\n",
       "      <th>Shrink Rate $(\\mu m / min)$</th>\n",
       "      <th>Rescues</th>\n",
       "    </tr>\n",
       "  </thead>\n",
       "  <tbody>\n",
       "    <tr>\n",
       "      <th>0</th>\n",
       "      <td>2022-08-19</td>\n",
       "      <td>Brandi</td>\n",
       "      <td>1.0</td>\n",
       "      <td>6.0</td>\n",
       "      <td>4.7080</td>\n",
       "      <td>14.307000</td>\n",
       "      <td>0.329070</td>\n",
       "      <td>0.838991</td>\n",
       "      <td>5.0290</td>\n",
       "      <td>NaN</td>\n",
       "      <td>NaN</td>\n",
       "      <td>False</td>\n",
       "    </tr>\n",
       "    <tr>\n",
       "      <th>1</th>\n",
       "      <td>2022-08-19</td>\n",
       "      <td>Brandi</td>\n",
       "      <td>1.0</td>\n",
       "      <td>6.0</td>\n",
       "      <td>0.5350</td>\n",
       "      <td>1.715167</td>\n",
       "      <td>0.311923</td>\n",
       "      <td>0.755324</td>\n",
       "      <td>0.6955</td>\n",
       "      <td>0.041833</td>\n",
       "      <td>16.625498</td>\n",
       "      <td>False</td>\n",
       "    </tr>\n",
       "    <tr>\n",
       "      <th>2</th>\n",
       "      <td>2022-08-19</td>\n",
       "      <td>Brandi</td>\n",
       "      <td>1.0</td>\n",
       "      <td>6.0</td>\n",
       "      <td>1.5515</td>\n",
       "      <td>5.103667</td>\n",
       "      <td>0.303997</td>\n",
       "      <td>2.554157</td>\n",
       "      <td>1.7655</td>\n",
       "      <td>0.251000</td>\n",
       "      <td>7.033865</td>\n",
       "      <td>False</td>\n",
       "    </tr>\n",
       "    <tr>\n",
       "      <th>3</th>\n",
       "      <td>2022-08-19</td>\n",
       "      <td>Brandi</td>\n",
       "      <td>1.0</td>\n",
       "      <td>6.0</td>\n",
       "      <td>1.3910</td>\n",
       "      <td>3.012000</td>\n",
       "      <td>0.461819</td>\n",
       "      <td>2.930657</td>\n",
       "      <td>1.3375</td>\n",
       "      <td>0.209167</td>\n",
       "      <td>6.394422</td>\n",
       "      <td>False</td>\n",
       "    </tr>\n",
       "    <tr>\n",
       "      <th>4</th>\n",
       "      <td>2022-08-19</td>\n",
       "      <td>Brandi</td>\n",
       "      <td>1.0</td>\n",
       "      <td>6.0</td>\n",
       "      <td>2.1400</td>\n",
       "      <td>6.526000</td>\n",
       "      <td>0.327919</td>\n",
       "      <td>1.257324</td>\n",
       "      <td>2.3540</td>\n",
       "      <td>0.083667</td>\n",
       "      <td>28.135458</td>\n",
       "      <td>False</td>\n",
       "    </tr>\n",
       "    <tr>\n",
       "      <th>...</th>\n",
       "      <td>...</td>\n",
       "      <td>...</td>\n",
       "      <td>...</td>\n",
       "      <td>...</td>\n",
       "      <td>...</td>\n",
       "      <td>...</td>\n",
       "      <td>...</td>\n",
       "      <td>...</td>\n",
       "      <td>...</td>\n",
       "      <td>...</td>\n",
       "      <td>...</td>\n",
       "      <td>...</td>\n",
       "    </tr>\n",
       "    <tr>\n",
       "      <th>95</th>\n",
       "      <td>2022-09-14</td>\n",
       "      <td>Brandi</td>\n",
       "      <td>4.0</td>\n",
       "      <td>12.0</td>\n",
       "      <td>21.4000</td>\n",
       "      <td>23.175667</td>\n",
       "      <td>0.923382</td>\n",
       "      <td>6.205278</td>\n",
       "      <td>21.6140</td>\n",
       "      <td>1.004000</td>\n",
       "      <td>21.527888</td>\n",
       "      <td>False</td>\n",
       "    </tr>\n",
       "    <tr>\n",
       "      <th>96</th>\n",
       "      <td>2022-09-14</td>\n",
       "      <td>Brandi</td>\n",
       "      <td>4.0</td>\n",
       "      <td>12.0</td>\n",
       "      <td>10.8070</td>\n",
       "      <td>9.538000</td>\n",
       "      <td>1.133047</td>\n",
       "      <td>1.436278</td>\n",
       "      <td>10.8070</td>\n",
       "      <td>0.502000</td>\n",
       "      <td>21.527888</td>\n",
       "      <td>False</td>\n",
       "    </tr>\n",
       "    <tr>\n",
       "      <th>97</th>\n",
       "      <td>2022-09-14</td>\n",
       "      <td>Brandi</td>\n",
       "      <td>4.0</td>\n",
       "      <td>12.0</td>\n",
       "      <td>13.2680</td>\n",
       "      <td>15.394667</td>\n",
       "      <td>0.861857</td>\n",
       "      <td>12.145611</td>\n",
       "      <td>12.7330</td>\n",
       "      <td>0.167333</td>\n",
       "      <td>76.093625</td>\n",
       "      <td>False</td>\n",
       "    </tr>\n",
       "    <tr>\n",
       "      <th>98</th>\n",
       "      <td>2022-09-14</td>\n",
       "      <td>Brandi</td>\n",
       "      <td>4.0</td>\n",
       "      <td>12.0</td>\n",
       "      <td>9.4160</td>\n",
       "      <td>9.789000</td>\n",
       "      <td>0.961896</td>\n",
       "      <td>0.934278</td>\n",
       "      <td>13.5890</td>\n",
       "      <td>0.251000</td>\n",
       "      <td>54.139442</td>\n",
       "      <td>True</td>\n",
       "    </tr>\n",
       "    <tr>\n",
       "      <th>99</th>\n",
       "      <td>2022-09-14</td>\n",
       "      <td>Brandi</td>\n",
       "      <td>4.0</td>\n",
       "      <td>12.0</td>\n",
       "      <td>24.7170</td>\n",
       "      <td>20.247333</td>\n",
       "      <td>1.220753</td>\n",
       "      <td>1.185278</td>\n",
       "      <td>30.4950</td>\n",
       "      <td>1.422333</td>\n",
       "      <td>21.440122</td>\n",
       "      <td>True</td>\n",
       "    </tr>\n",
       "  </tbody>\n",
       "</table>\n",
       "<p>652 rows × 12 columns</p>\n",
       "</div>"
      ],
      "text/plain": [
       "          Date Investigator   Ch  [Tubulin] $(\\mu M)$  Length $(\\mu m)$  \\\n",
       "0   2022-08-19       Brandi  1.0                  6.0            4.7080   \n",
       "1   2022-08-19       Brandi  1.0                  6.0            0.5350   \n",
       "2   2022-08-19       Brandi  1.0                  6.0            1.5515   \n",
       "3   2022-08-19       Brandi  1.0                  6.0            1.3910   \n",
       "4   2022-08-19       Brandi  1.0                  6.0            2.1400   \n",
       "..         ...          ...  ...                  ...               ...   \n",
       "95  2022-09-14       Brandi  4.0                 12.0           21.4000   \n",
       "96  2022-09-14       Brandi  4.0                 12.0           10.8070   \n",
       "97  2022-09-14       Brandi  4.0                 12.0           13.2680   \n",
       "98  2022-09-14       Brandi  4.0                 12.0            9.4160   \n",
       "99  2022-09-14       Brandi  4.0                 12.0           24.7170   \n",
       "\n",
       "    Lifetime $(min)$  Growth Rate $(\\mu m / min)$  Time to Nucleate $(min)$  \\\n",
       "0          14.307000                     0.329070                  0.838991   \n",
       "1           1.715167                     0.311923                  0.755324   \n",
       "2           5.103667                     0.303997                  2.554157   \n",
       "3           3.012000                     0.461819                  2.930657   \n",
       "4           6.526000                     0.327919                  1.257324   \n",
       "..               ...                          ...                       ...   \n",
       "95         23.175667                     0.923382                  6.205278   \n",
       "96          9.538000                     1.133047                  1.436278   \n",
       "97         15.394667                     0.861857                 12.145611   \n",
       "98          9.789000                     0.961896                  0.934278   \n",
       "99         20.247333                     1.220753                  1.185278   \n",
       "\n",
       "    Shrink Length $(\\mu m)$  Shrink Lifetime $(min)$  \\\n",
       "0                    5.0290                      NaN   \n",
       "1                    0.6955                 0.041833   \n",
       "2                    1.7655                 0.251000   \n",
       "3                    1.3375                 0.209167   \n",
       "4                    2.3540                 0.083667   \n",
       "..                      ...                      ...   \n",
       "95                  21.6140                 1.004000   \n",
       "96                  10.8070                 0.502000   \n",
       "97                  12.7330                 0.167333   \n",
       "98                  13.5890                 0.251000   \n",
       "99                  30.4950                 1.422333   \n",
       "\n",
       "    Shrink Rate $(\\mu m / min)$ Rescues  \n",
       "0                           NaN   False  \n",
       "1                     16.625498   False  \n",
       "2                      7.033865   False  \n",
       "3                      6.394422   False  \n",
       "4                     28.135458   False  \n",
       "..                          ...     ...  \n",
       "95                    21.527888   False  \n",
       "96                    21.527888   False  \n",
       "97                    76.093625   False  \n",
       "98                    54.139442    True  \n",
       "99                    21.440122    True  \n",
       "\n",
       "[652 rows x 12 columns]"
      ]
     },
     "execution_count": 8,
     "metadata": {},
     "output_type": "execute_result"
    }
   ],
   "source": [
    "data"
   ]
  },
  {
   "cell_type": "code",
   "execution_count": 9,
   "id": "9deb333c-459d-45bd-b52c-2c32032021f4",
   "metadata": {},
   "outputs": [],
   "source": [
    "data.to_csv(path/(date+'_MasterSheet.csv'), encoding='utf-8', index=False)"
   ]
  },
  {
   "cell_type": "markdown",
   "id": "575ddccf-d95b-4e25-82cf-6822aa23e760",
   "metadata": {},
   "source": [
    "## Open Master Data"
   ]
  },
  {
   "cell_type": "code",
   "execution_count": 7,
   "id": "e026f123-49eb-4f9f-a8cd-22305e6ddf3f",
   "metadata": {},
   "outputs": [],
   "source": [
    "askmastersheet = filedialog.askopenfilename() # show an \"Open\" dialog box and return the path to the selected file\n",
    "data = pd.read_csv(askmastersheet, encoding='utf-8')"
   ]
  },
  {
   "cell_type": "code",
   "execution_count": 8,
   "id": "9e4c4b92-eac1-4951-9087-1e754c68ede5",
   "metadata": {},
   "outputs": [
    {
     "data": {
      "text/plain": [
       "WindowsPath('C:/Users/Brouhard Lab/Data/Growth curve data/growth-rate/Plots')"
      ]
     },
     "execution_count": 8,
     "metadata": {},
     "output_type": "execute_result"
    }
   ],
   "source": [
    "pathmastersheet = Path(askmastersheet)\n",
    "resultdirectory = str(pathmastersheet.parents[0])+'//Plots'\n",
    "newmydir = Path(resultdirectory)\n",
    "newmydir.mkdir(exist_ok=True)\n",
    "path = newmydir\n",
    "path"
   ]
  },
  {
   "cell_type": "code",
   "execution_count": 9,
   "id": "576ba991-deb2-47aa-8e30-0f2e20b77f32",
   "metadata": {},
   "outputs": [
    {
     "data": {
      "text/html": [
       "<div>\n",
       "<style scoped>\n",
       "    .dataframe tbody tr th:only-of-type {\n",
       "        vertical-align: middle;\n",
       "    }\n",
       "\n",
       "    .dataframe tbody tr th {\n",
       "        vertical-align: top;\n",
       "    }\n",
       "\n",
       "    .dataframe thead th {\n",
       "        text-align: right;\n",
       "    }\n",
       "</style>\n",
       "<table border=\"1\" class=\"dataframe\">\n",
       "  <thead>\n",
       "    <tr style=\"text-align: right;\">\n",
       "      <th></th>\n",
       "      <th>Date</th>\n",
       "      <th>Investigator</th>\n",
       "      <th>Ch</th>\n",
       "      <th>[Tubulin] $(\\mu M)$</th>\n",
       "      <th>Length $(\\mu m)$</th>\n",
       "      <th>Lifetime $(min)$</th>\n",
       "      <th>Growth Rate $(\\mu m / min)$</th>\n",
       "      <th>Time to Nucleate $(min)$</th>\n",
       "      <th>Shrink Length $(\\mu m)$</th>\n",
       "      <th>Shrink Lifetime $(min)$</th>\n",
       "      <th>Shrink Rate $(\\mu m / min)$</th>\n",
       "      <th>Rescues</th>\n",
       "    </tr>\n",
       "  </thead>\n",
       "  <tbody>\n",
       "    <tr>\n",
       "      <th>0</th>\n",
       "      <td>2022-08-19</td>\n",
       "      <td>Brandi</td>\n",
       "      <td>1.0</td>\n",
       "      <td>6.0</td>\n",
       "      <td>4.7080</td>\n",
       "      <td>14.307000</td>\n",
       "      <td>0.329070</td>\n",
       "      <td>0.838991</td>\n",
       "      <td>5.0290</td>\n",
       "      <td>NaN</td>\n",
       "      <td>NaN</td>\n",
       "      <td>False</td>\n",
       "    </tr>\n",
       "    <tr>\n",
       "      <th>1</th>\n",
       "      <td>2022-08-19</td>\n",
       "      <td>Brandi</td>\n",
       "      <td>1.0</td>\n",
       "      <td>6.0</td>\n",
       "      <td>0.5350</td>\n",
       "      <td>1.715167</td>\n",
       "      <td>0.311923</td>\n",
       "      <td>0.755324</td>\n",
       "      <td>0.6955</td>\n",
       "      <td>0.041833</td>\n",
       "      <td>16.625498</td>\n",
       "      <td>False</td>\n",
       "    </tr>\n",
       "    <tr>\n",
       "      <th>2</th>\n",
       "      <td>2022-08-19</td>\n",
       "      <td>Brandi</td>\n",
       "      <td>1.0</td>\n",
       "      <td>6.0</td>\n",
       "      <td>1.5515</td>\n",
       "      <td>5.103667</td>\n",
       "      <td>0.303997</td>\n",
       "      <td>2.554157</td>\n",
       "      <td>1.7655</td>\n",
       "      <td>0.251000</td>\n",
       "      <td>7.033865</td>\n",
       "      <td>False</td>\n",
       "    </tr>\n",
       "    <tr>\n",
       "      <th>3</th>\n",
       "      <td>2022-08-19</td>\n",
       "      <td>Brandi</td>\n",
       "      <td>1.0</td>\n",
       "      <td>6.0</td>\n",
       "      <td>1.3910</td>\n",
       "      <td>3.012000</td>\n",
       "      <td>0.461819</td>\n",
       "      <td>2.930657</td>\n",
       "      <td>1.3375</td>\n",
       "      <td>0.209167</td>\n",
       "      <td>6.394422</td>\n",
       "      <td>False</td>\n",
       "    </tr>\n",
       "    <tr>\n",
       "      <th>4</th>\n",
       "      <td>2022-08-19</td>\n",
       "      <td>Brandi</td>\n",
       "      <td>1.0</td>\n",
       "      <td>6.0</td>\n",
       "      <td>2.1400</td>\n",
       "      <td>6.526000</td>\n",
       "      <td>0.327919</td>\n",
       "      <td>1.257324</td>\n",
       "      <td>2.3540</td>\n",
       "      <td>0.083667</td>\n",
       "      <td>28.135458</td>\n",
       "      <td>False</td>\n",
       "    </tr>\n",
       "    <tr>\n",
       "      <th>...</th>\n",
       "      <td>...</td>\n",
       "      <td>...</td>\n",
       "      <td>...</td>\n",
       "      <td>...</td>\n",
       "      <td>...</td>\n",
       "      <td>...</td>\n",
       "      <td>...</td>\n",
       "      <td>...</td>\n",
       "      <td>...</td>\n",
       "      <td>...</td>\n",
       "      <td>...</td>\n",
       "      <td>...</td>\n",
       "    </tr>\n",
       "    <tr>\n",
       "      <th>647</th>\n",
       "      <td>2022-09-14</td>\n",
       "      <td>Brandi</td>\n",
       "      <td>4.0</td>\n",
       "      <td>12.0</td>\n",
       "      <td>21.4000</td>\n",
       "      <td>23.175667</td>\n",
       "      <td>0.923382</td>\n",
       "      <td>6.205278</td>\n",
       "      <td>21.6140</td>\n",
       "      <td>1.004000</td>\n",
       "      <td>21.527888</td>\n",
       "      <td>False</td>\n",
       "    </tr>\n",
       "    <tr>\n",
       "      <th>648</th>\n",
       "      <td>2022-09-14</td>\n",
       "      <td>Brandi</td>\n",
       "      <td>4.0</td>\n",
       "      <td>12.0</td>\n",
       "      <td>10.8070</td>\n",
       "      <td>9.538000</td>\n",
       "      <td>1.133047</td>\n",
       "      <td>1.436278</td>\n",
       "      <td>10.8070</td>\n",
       "      <td>0.502000</td>\n",
       "      <td>21.527888</td>\n",
       "      <td>False</td>\n",
       "    </tr>\n",
       "    <tr>\n",
       "      <th>649</th>\n",
       "      <td>2022-09-14</td>\n",
       "      <td>Brandi</td>\n",
       "      <td>4.0</td>\n",
       "      <td>12.0</td>\n",
       "      <td>13.2680</td>\n",
       "      <td>15.394667</td>\n",
       "      <td>0.861857</td>\n",
       "      <td>12.145611</td>\n",
       "      <td>12.7330</td>\n",
       "      <td>0.167333</td>\n",
       "      <td>76.093625</td>\n",
       "      <td>False</td>\n",
       "    </tr>\n",
       "    <tr>\n",
       "      <th>650</th>\n",
       "      <td>2022-09-14</td>\n",
       "      <td>Brandi</td>\n",
       "      <td>4.0</td>\n",
       "      <td>12.0</td>\n",
       "      <td>9.4160</td>\n",
       "      <td>9.789000</td>\n",
       "      <td>0.961896</td>\n",
       "      <td>0.934278</td>\n",
       "      <td>13.5890</td>\n",
       "      <td>0.251000</td>\n",
       "      <td>54.139442</td>\n",
       "      <td>True</td>\n",
       "    </tr>\n",
       "    <tr>\n",
       "      <th>651</th>\n",
       "      <td>2022-09-14</td>\n",
       "      <td>Brandi</td>\n",
       "      <td>4.0</td>\n",
       "      <td>12.0</td>\n",
       "      <td>24.7170</td>\n",
       "      <td>20.247333</td>\n",
       "      <td>1.220753</td>\n",
       "      <td>1.185278</td>\n",
       "      <td>30.4950</td>\n",
       "      <td>1.422333</td>\n",
       "      <td>21.440122</td>\n",
       "      <td>True</td>\n",
       "    </tr>\n",
       "  </tbody>\n",
       "</table>\n",
       "<p>652 rows × 12 columns</p>\n",
       "</div>"
      ],
      "text/plain": [
       "           Date Investigator   Ch  [Tubulin] $(\\mu M)$  Length $(\\mu m)$  \\\n",
       "0    2022-08-19       Brandi  1.0                  6.0            4.7080   \n",
       "1    2022-08-19       Brandi  1.0                  6.0            0.5350   \n",
       "2    2022-08-19       Brandi  1.0                  6.0            1.5515   \n",
       "3    2022-08-19       Brandi  1.0                  6.0            1.3910   \n",
       "4    2022-08-19       Brandi  1.0                  6.0            2.1400   \n",
       "..          ...          ...  ...                  ...               ...   \n",
       "647  2022-09-14       Brandi  4.0                 12.0           21.4000   \n",
       "648  2022-09-14       Brandi  4.0                 12.0           10.8070   \n",
       "649  2022-09-14       Brandi  4.0                 12.0           13.2680   \n",
       "650  2022-09-14       Brandi  4.0                 12.0            9.4160   \n",
       "651  2022-09-14       Brandi  4.0                 12.0           24.7170   \n",
       "\n",
       "     Lifetime $(min)$  Growth Rate $(\\mu m / min)$  Time to Nucleate $(min)$  \\\n",
       "0           14.307000                     0.329070                  0.838991   \n",
       "1            1.715167                     0.311923                  0.755324   \n",
       "2            5.103667                     0.303997                  2.554157   \n",
       "3            3.012000                     0.461819                  2.930657   \n",
       "4            6.526000                     0.327919                  1.257324   \n",
       "..                ...                          ...                       ...   \n",
       "647         23.175667                     0.923382                  6.205278   \n",
       "648          9.538000                     1.133047                  1.436278   \n",
       "649         15.394667                     0.861857                 12.145611   \n",
       "650          9.789000                     0.961896                  0.934278   \n",
       "651         20.247333                     1.220753                  1.185278   \n",
       "\n",
       "     Shrink Length $(\\mu m)$  Shrink Lifetime $(min)$  \\\n",
       "0                     5.0290                      NaN   \n",
       "1                     0.6955                 0.041833   \n",
       "2                     1.7655                 0.251000   \n",
       "3                     1.3375                 0.209167   \n",
       "4                     2.3540                 0.083667   \n",
       "..                       ...                      ...   \n",
       "647                  21.6140                 1.004000   \n",
       "648                  10.8070                 0.502000   \n",
       "649                  12.7330                 0.167333   \n",
       "650                  13.5890                 0.251000   \n",
       "651                  30.4950                 1.422333   \n",
       "\n",
       "     Shrink Rate $(\\mu m / min)$ Rescues  \n",
       "0                            NaN   False  \n",
       "1                      16.625498   False  \n",
       "2                       7.033865   False  \n",
       "3                       6.394422   False  \n",
       "4                      28.135458   False  \n",
       "..                           ...     ...  \n",
       "647                    21.527888   False  \n",
       "648                    21.527888   False  \n",
       "649                    76.093625   False  \n",
       "650                    54.139442    True  \n",
       "651                    21.440122    True  \n",
       "\n",
       "[652 rows x 12 columns]"
      ]
     },
     "execution_count": 9,
     "metadata": {},
     "output_type": "execute_result"
    }
   ],
   "source": [
    "data"
   ]
  },
  {
   "cell_type": "markdown",
   "id": "a7d87305-d827-4c25-a88e-a3880ef9b973",
   "metadata": {},
   "source": [
    "## Seaborn Plot"
   ]
  },
  {
   "cell_type": "code",
   "execution_count": 58,
   "id": "c40f624a-142f-4f0d-86f7-04fa1bd201ec",
   "metadata": {},
   "outputs": [
    {
     "data": {
      "image/png": "[encoded data removed]",
      "text/plain": [
       "<Figure size 1080x1080 with 4 Axes>"
      ]
     },
     "metadata": {},
     "output_type": "display_data"
    }
   ],
   "source": [
    "fig, axs = plt.subplots(2,2,figsize=(15,15))\n",
    "sns.set_style(\"ticks\")\n",
    "\n",
    "c = 0\n",
    "for i in [0,1]:\n",
    "    for j in [0,1]:\n",
    "        sns.pointplot(x=tubulin, y=parameters[c],\n",
    "                        hue=tubulin, style = tubulin , err_style=\"bars\", marker='o', join=False, capsize=.1,\n",
    "                        data=data,err_kws={'capsize':10},ci=95 , palette=palette,ax=axs[i][j])\n",
    "        c += 1\n",
    "        \n",
    "sns.despine()\n",
    "sns.set_context(\"poster\", font_scale=1, rc={\"lines.linewidth\":3.0})\n",
    "plt.tight_layout()\n",
    "plt.savefig(path/('plots'+date+'.pdf'))\n",
    "plt.savefig(path/('plots'+date+'.png'))"
   ]
  },
  {
   "cell_type": "markdown",
   "id": "052b5904-365d-48a7-999a-c59c6f6aac22",
   "metadata": {},
   "source": [
    "## Data Fit"
   ]
  },
  {
   "cell_type": "code",
   "execution_count": 20,
   "id": "4482664e-4352-4c5e-aa1f-c6a15b1ec946",
   "metadata": {},
   "outputs": [],
   "source": [
    "def gaussian(x, mu, sig):\n",
    "    return (np.exp(-np.power(x - mu, 2.) / (2 * np.power(sig, 2.))) )/(sig*np.sqrt(2*np.pi))\n",
    "\n",
    "# def exponential(x, scale):\n",
    "#     return ((np.exp(-x/scale) )/(scale))\n",
    "\n",
    "# def gamma(x, shape, scale):\n",
    "#     return (np.power(x,shape-1)*np.exp(-x/ scale))/(sp.special.gamma(shape) * np.power(scale,shape))"
   ]
  },
  {
   "cell_type": "code",
   "execution_count": 71,
   "id": "fedbcad6-8e88-4a65-ba9d-0d6deb067682",
   "metadata": {},
   "outputs": [],
   "source": [
    "def make_hist(data, c, r) :\n",
    "    \n",
    "    selectdata = data[(data[tubulin]==r)]\n",
    "    \n",
    "    # if c == GrowthRate :\n",
    "    maxbin = 1.5\n",
    "    binsize = 0.05\n",
    "#     elif parameter == ShrinkageRate :\n",
    "#         maxbin = 15\n",
    "#         binsize = 0.1\n",
    "    # else:\n",
    "    #     maxbin = 30\n",
    "    #     binsize = 1\n",
    "        \n",
    "    n, bins, patches = plt.hist(selectdata[c], bins=np.arange(0, maxbin + binsize, binsize), density=True);\n",
    "    plt.clf()\n",
    "       \n",
    "    return n, bins"
   ]
  },
  {
   "cell_type": "code",
   "execution_count": 89,
   "id": "482b7264-1dd3-43ed-b91d-ad8333ff4bbd",
   "metadata": {},
   "outputs": [],
   "source": [
    "def equation_fit(data, c):\n",
    "    \n",
    "    # if (c ==  GrowthRate) :\n",
    "    equation = gaussian\n",
    "        \n",
    "    results = pd.DataFrame(columns=[] , index=[])\n",
    "    \n",
    "    for r in data[tubulin].unique(): #creating a histogram of data assigned to each unique x-value! This is how to create a separate mean for each group/bin!\n",
    "\n",
    "        n, bins =  make_hist(data, c, r)      \n",
    "        if np.isnan(np.sum(n)) == True:\n",
    "                continue\n",
    "\n",
    "#         if equation == gamma :\n",
    "#             coeff, var_matrix = sp.optimize.curve_fit(equation,bins[:-1],n,[2,1])\n",
    "#         else :\n",
    "        coeff, var_matrix = sp.optimize.curve_fit(equation,bins[:-1],n)\n",
    "\n",
    "        variance = np.diagonal(var_matrix) #Refer [3]\n",
    "        SE = np.sqrt(variance) #Refer [4]\n",
    "\n",
    "            #======Making a data frame========\n",
    "        results0 = pd.DataFrame(columns=[] , index=[])\n",
    "        for k in np.arange(0,len(coeff)):\n",
    "            header = [np.array([c]),np.array(['Coefficient '+ str(k)])]\n",
    "            r0 = pd.DataFrame([coeff[k],SE[k]], index=(['Value','SE']),columns= header)\n",
    "            results0 = pd.concat([results0, r0], axis=1, sort=False)\n",
    "\n",
    "        results0[tubulin] = r\n",
    "            \n",
    "\n",
    "        results = pd.concat([results, results0], sort=False)\n",
    "\n",
    "    return results"
   ]
  },
  {
   "cell_type": "code",
   "execution_count": 90,
   "id": "486dc21e-96e5-4a8f-89a2-e530c01082bc",
   "metadata": {},
   "outputs": [],
   "source": [
    "# newmydir = path/(date+'_fitdata')\n",
    "# newmydir.mkdir(exist_ok=True)\n",
    "# newmydir"
   ]
  },
  {
   "cell_type": "code",
   "execution_count": 91,
   "id": "3b66ef2f-b2fd-49ca-85d0-e5f5c3ee9686",
   "metadata": {},
   "outputs": [
    {
     "name": "stderr",
     "output_type": "stream",
     "text": [
      "C:\\Users\\Brandi\\anaconda3\\lib\\site-packages\\numpy\\lib\\histograms.py:906: RuntimeWarning: invalid value encountered in true_divide\n",
      "  return n/db/n.sum(), bin_edges\n"
     ]
    },
    {
     "data": {
      "text/plain": [
       "<Figure size 432x288 with 0 Axes>"
      ]
     },
     "metadata": {},
     "output_type": "display_data"
    }
   ],
   "source": [
    "GrowthRateFit = equation_fit(data, GrowthRate)"
   ]
  },
  {
   "cell_type": "code",
   "execution_count": 92,
   "id": "4c5d8453-89c5-4f07-b8bc-e066c50c7574",
   "metadata": {},
   "outputs": [
    {
     "data": {
      "text/html": [
       "<div>\n",
       "<style scoped>\n",
       "    .dataframe tbody tr th:only-of-type {\n",
       "        vertical-align: middle;\n",
       "    }\n",
       "\n",
       "    .dataframe tbody tr th {\n",
       "        vertical-align: top;\n",
       "    }\n",
       "\n",
       "    .dataframe thead tr th {\n",
       "        text-align: left;\n",
       "    }\n",
       "</style>\n",
       "<table border=\"1\" class=\"dataframe\">\n",
       "  <thead>\n",
       "    <tr>\n",
       "      <th></th>\n",
       "      <th colspan=\"2\" halign=\"left\">Growth Rate $(\\mu m / min)$</th>\n",
       "      <th>[Tubulin] $(\\mu M)$</th>\n",
       "    </tr>\n",
       "    <tr>\n",
       "      <th></th>\n",
       "      <th>Mean</th>\n",
       "      <th>Coefficient 1</th>\n",
       "      <th></th>\n",
       "    </tr>\n",
       "  </thead>\n",
       "  <tbody>\n",
       "    <tr>\n",
       "      <th>Value</th>\n",
       "      <td>0.357493</td>\n",
       "      <td>0.091165</td>\n",
       "      <td>6.0</td>\n",
       "    </tr>\n",
       "    <tr>\n",
       "      <th>SE</th>\n",
       "      <td>0.004694</td>\n",
       "      <td>0.003832</td>\n",
       "      <td>6.0</td>\n",
       "    </tr>\n",
       "    <tr>\n",
       "      <th>Value</th>\n",
       "      <td>0.589003</td>\n",
       "      <td>0.101259</td>\n",
       "      <td>8.0</td>\n",
       "    </tr>\n",
       "    <tr>\n",
       "      <th>SE</th>\n",
       "      <td>0.003425</td>\n",
       "      <td>0.002797</td>\n",
       "      <td>8.0</td>\n",
       "    </tr>\n",
       "    <tr>\n",
       "      <th>Value</th>\n",
       "      <td>0.798786</td>\n",
       "      <td>0.100524</td>\n",
       "      <td>10.0</td>\n",
       "    </tr>\n",
       "    <tr>\n",
       "      <th>SE</th>\n",
       "      <td>0.010161</td>\n",
       "      <td>0.008296</td>\n",
       "      <td>10.0</td>\n",
       "    </tr>\n",
       "    <tr>\n",
       "      <th>Value</th>\n",
       "      <td>1.052251</td>\n",
       "      <td>0.171797</td>\n",
       "      <td>12.0</td>\n",
       "    </tr>\n",
       "    <tr>\n",
       "      <th>SE</th>\n",
       "      <td>0.017078</td>\n",
       "      <td>0.014004</td>\n",
       "      <td>12.0</td>\n",
       "    </tr>\n",
       "  </tbody>\n",
       "</table>\n",
       "</div>"
      ],
      "text/plain": [
       "      Growth Rate $(\\mu m / min)$               [Tubulin] $(\\mu M)$\n",
       "                             Mean Coefficient 1                    \n",
       "Value                    0.357493      0.091165                 6.0\n",
       "SE                       0.004694      0.003832                 6.0\n",
       "Value                    0.589003      0.101259                 8.0\n",
       "SE                       0.003425      0.002797                 8.0\n",
       "Value                    0.798786      0.100524                10.0\n",
       "SE                       0.010161      0.008296                10.0\n",
       "Value                    1.052251      0.171797                12.0\n",
       "SE                       0.017078      0.014004                12.0"
      ]
     },
     "execution_count": 92,
     "metadata": {},
     "output_type": "execute_result"
    }
   ],
   "source": [
    "GrowthRateFit = GrowthRateFit.rename(columns={'Coefficient 0': 'Mean'})\n",
    "\n",
    "ResultFit = pd.concat([GrowthRateFit], axis=1, sort=False)\n",
    "ResultFit = ResultFit.loc[:,~ResultFit.columns.duplicated()]\n",
    "\n",
    "ResultFit.to_csv(newmydir/('ResultFit_'+date+'.csv'), encoding='utf-8', index=False)\n",
    "ResultFit"
   ]
  },
  {
   "cell_type": "markdown",
   "id": "0b807a63-e1d2-4c9d-80ca-4e23a5bdbd86",
   "metadata": {},
   "source": [
    "## Data Plotting"
   ]
  },
  {
   "cell_type": "code",
   "execution_count": 172,
   "id": "1dc172f4-29bb-4bc1-8786-0bf8d6cdd4a8",
   "metadata": {},
   "outputs": [
    {
     "data": {
      "text/plain": [
       "0       6.0\n",
       "1       6.0\n",
       "2       6.0\n",
       "3       6.0\n",
       "4       6.0\n",
       "       ... \n",
       "647    12.0\n",
       "648    12.0\n",
       "649    12.0\n",
       "650    12.0\n",
       "651    12.0\n",
       "Name: [Tubulin] $(\\mu M)$, Length: 652, dtype: float64"
      ]
     },
     "execution_count": 172,
     "metadata": {},
     "output_type": "execute_result"
    }
   ],
   "source": [
    "data[tubulin]"
   ]
  },
  {
   "cell_type": "code",
   "execution_count": 168,
   "id": "332da052-1f7f-42cd-8c1a-005c7d7a7472",
   "metadata": {},
   "outputs": [
    {
     "data": {
      "text/plain": [
       "'[Tubulin] $(\\\\mu M)$'"
      ]
     },
     "execution_count": 200,
     "metadata": {},
     "output_type": "execute_result"
    }
   ],
   "source": [
    "untub=data[tubulin].unique()\n",
    "untub"
   ]
  },
  {
   "cell_type": "code",
   "execution_count": 192,
   "id": "ed096634-8626-4cd2-8125-ea0240a844f2",
   "metadata": {},
   "outputs": [
    {
     "data": {
      "text/html": [
       "<div>\n",
       "<style scoped>\n",
       "    .dataframe tbody tr th:only-of-type {\n",
       "        vertical-align: middle;\n",
       "    }\n",
       "\n",
       "    .dataframe tbody tr th {\n",
       "        vertical-align: top;\n",
       "    }\n",
       "\n",
       "    .dataframe thead th {\n",
       "        text-align: right;\n",
       "    }\n",
       "</style>\n",
       "<table border=\"1\" class=\"dataframe\">\n",
       "  <thead>\n",
       "    <tr style=\"text-align: right;\">\n",
       "      <th></th>\n",
       "      <th>Ch</th>\n",
       "      <th>Length $(\\mu m)$</th>\n",
       "      <th>Lifetime $(min)$</th>\n",
       "      <th>Growth Rate $(\\mu m / min)$</th>\n",
       "      <th>Time to Nucleate $(min)$</th>\n",
       "      <th>Shrink Length $(\\mu m)$</th>\n",
       "      <th>Shrink Lifetime $(min)$</th>\n",
       "      <th>Shrink Rate $(\\mu m / min)$</th>\n",
       "    </tr>\n",
       "    <tr>\n",
       "      <th>[Tubulin] $(\\mu M)$</th>\n",
       "      <th></th>\n",
       "      <th></th>\n",
       "      <th></th>\n",
       "      <th></th>\n",
       "      <th></th>\n",
       "      <th></th>\n",
       "      <th></th>\n",
       "      <th></th>\n",
       "    </tr>\n",
       "  </thead>\n",
       "  <tbody>\n",
       "    <tr>\n",
       "      <th>6.0</th>\n",
       "      <td>2.857143</td>\n",
       "      <td>2.313621</td>\n",
       "      <td>6.085746</td>\n",
       "      <td>0.403111</td>\n",
       "      <td>6.803381</td>\n",
       "      <td>2.303334</td>\n",
       "      <td>0.200582</td>\n",
       "      <td>14.878282</td>\n",
       "    </tr>\n",
       "    <tr>\n",
       "      <th>8.0</th>\n",
       "      <td>1.737705</td>\n",
       "      <td>5.027904</td>\n",
       "      <td>8.169682</td>\n",
       "      <td>0.623198</td>\n",
       "      <td>9.598002</td>\n",
       "      <td>4.997645</td>\n",
       "      <td>0.398455</td>\n",
       "      <td>14.998237</td>\n",
       "    </tr>\n",
       "    <tr>\n",
       "      <th>10.0</th>\n",
       "      <td>3.178571</td>\n",
       "      <td>7.724359</td>\n",
       "      <td>9.141819</td>\n",
       "      <td>0.842666</td>\n",
       "      <td>8.822542</td>\n",
       "      <td>7.817260</td>\n",
       "      <td>0.425135</td>\n",
       "      <td>21.186907</td>\n",
       "    </tr>\n",
       "    <tr>\n",
       "      <th>12.0</th>\n",
       "      <td>3.060000</td>\n",
       "      <td>13.465247</td>\n",
       "      <td>12.482391</td>\n",
       "      <td>1.098787</td>\n",
       "      <td>7.539860</td>\n",
       "      <td>13.826237</td>\n",
       "      <td>0.718850</td>\n",
       "      <td>23.173399</td>\n",
       "    </tr>\n",
       "  </tbody>\n",
       "</table>\n",
       "</div>"
      ],
      "text/plain": [
       "                           Ch  Length $(\\mu m)$  Lifetime $(min)$  \\\n",
       "[Tubulin] $(\\mu M)$                                                 \n",
       "6.0                  2.857143          2.313621          6.085746   \n",
       "8.0                  1.737705          5.027904          8.169682   \n",
       "10.0                 3.178571          7.724359          9.141819   \n",
       "12.0                 3.060000         13.465247         12.482391   \n",
       "\n",
       "                     Growth Rate $(\\mu m / min)$  Time to Nucleate $(min)$  \\\n",
       "[Tubulin] $(\\mu M)$                                                          \n",
       "6.0                                     0.403111                  6.803381   \n",
       "8.0                                     0.623198                  9.598002   \n",
       "10.0                                    0.842666                  8.822542   \n",
       "12.0                                    1.098787                  7.539860   \n",
       "\n",
       "                     Shrink Length $(\\mu m)$  Shrink Lifetime $(min)$  \\\n",
       "[Tubulin] $(\\mu M)$                                                     \n",
       "6.0                                 2.303334                 0.200582   \n",
       "8.0                                 4.997645                 0.398455   \n",
       "10.0                                7.817260                 0.425135   \n",
       "12.0                               13.826237                 0.718850   \n",
       "\n",
       "                     Shrink Rate $(\\mu m / min)$  \n",
       "[Tubulin] $(\\mu M)$                               \n",
       "6.0                                    14.878282  \n",
       "8.0                                    14.998237  \n",
       "10.0                                   21.186907  \n",
       "12.0                                   23.173399  "
      ]
     },
     "execution_count": 192,
     "metadata": {},
     "output_type": "execute_result"
    }
   ],
   "source": [
    "ymean=data.groupby(tubulin).mean()\n",
    "ymean\n"
   ]
  },
  {
   "cell_type": "code",
   "execution_count": 194,
   "id": "8d25a6c7-d4fb-46a6-bb7f-b3e3cbf808a0",
   "metadata": {},
   "outputs": [
    {
     "data": {
      "text/html": [
       "<div>\n",
       "<style scoped>\n",
       "    .dataframe tbody tr th:only-of-type {\n",
       "        vertical-align: middle;\n",
       "    }\n",
       "\n",
       "    .dataframe tbody tr th {\n",
       "        vertical-align: top;\n",
       "    }\n",
       "\n",
       "    .dataframe thead th {\n",
       "        text-align: right;\n",
       "    }\n",
       "</style>\n",
       "<table border=\"1\" class=\"dataframe\">\n",
       "  <thead>\n",
       "    <tr style=\"text-align: right;\">\n",
       "      <th></th>\n",
       "      <th>Ch</th>\n",
       "      <th>Length $(\\mu m)$</th>\n",
       "      <th>Lifetime $(min)$</th>\n",
       "      <th>Growth Rate $(\\mu m / min)$</th>\n",
       "      <th>Time to Nucleate $(min)$</th>\n",
       "      <th>Shrink Length $(\\mu m)$</th>\n",
       "      <th>Shrink Lifetime $(min)$</th>\n",
       "      <th>Shrink Rate $(\\mu m / min)$</th>\n",
       "    </tr>\n",
       "    <tr>\n",
       "      <th>[Tubulin] $(\\mu M)$</th>\n",
       "      <th></th>\n",
       "      <th></th>\n",
       "      <th></th>\n",
       "      <th></th>\n",
       "      <th></th>\n",
       "      <th></th>\n",
       "      <th></th>\n",
       "      <th></th>\n",
       "    </tr>\n",
       "  </thead>\n",
       "  <tbody>\n",
       "    <tr>\n",
       "      <th>6.0</th>\n",
       "      <td>1.128704</td>\n",
       "      <td>1.348780</td>\n",
       "      <td>3.745317</td>\n",
       "      <td>0.099268</td>\n",
       "      <td>5.944081</td>\n",
       "      <td>1.349259</td>\n",
       "      <td>0.134217</td>\n",
       "      <td>9.511765</td>\n",
       "    </tr>\n",
       "    <tr>\n",
       "      <th>8.0</th>\n",
       "      <td>1.184976</td>\n",
       "      <td>3.252343</td>\n",
       "      <td>5.101516</td>\n",
       "      <td>0.108193</td>\n",
       "      <td>7.578300</td>\n",
       "      <td>3.252615</td>\n",
       "      <td>0.257820</td>\n",
       "      <td>10.417108</td>\n",
       "    </tr>\n",
       "    <tr>\n",
       "      <th>10.0</th>\n",
       "      <td>0.386459</td>\n",
       "      <td>5.409052</td>\n",
       "      <td>6.165307</td>\n",
       "      <td>0.123256</td>\n",
       "      <td>7.857857</td>\n",
       "      <td>5.479488</td>\n",
       "      <td>0.287805</td>\n",
       "      <td>9.797352</td>\n",
       "    </tr>\n",
       "    <tr>\n",
       "      <th>12.0</th>\n",
       "      <td>0.874094</td>\n",
       "      <td>7.705022</td>\n",
       "      <td>7.245940</td>\n",
       "      <td>0.169727</td>\n",
       "      <td>6.807545</td>\n",
       "      <td>8.111247</td>\n",
       "      <td>0.479928</td>\n",
       "      <td>12.600540</td>\n",
       "    </tr>\n",
       "  </tbody>\n",
       "</table>\n",
       "</div>"
      ],
      "text/plain": [
       "                           Ch  Length $(\\mu m)$  Lifetime $(min)$  \\\n",
       "[Tubulin] $(\\mu M)$                                                 \n",
       "6.0                  1.128704          1.348780          3.745317   \n",
       "8.0                  1.184976          3.252343          5.101516   \n",
       "10.0                 0.386459          5.409052          6.165307   \n",
       "12.0                 0.874094          7.705022          7.245940   \n",
       "\n",
       "                     Growth Rate $(\\mu m / min)$  Time to Nucleate $(min)$  \\\n",
       "[Tubulin] $(\\mu M)$                                                          \n",
       "6.0                                     0.099268                  5.944081   \n",
       "8.0                                     0.108193                  7.578300   \n",
       "10.0                                    0.123256                  7.857857   \n",
       "12.0                                    0.169727                  6.807545   \n",
       "\n",
       "                     Shrink Length $(\\mu m)$  Shrink Lifetime $(min)$  \\\n",
       "[Tubulin] $(\\mu M)$                                                     \n",
       "6.0                                 1.349259                 0.134217   \n",
       "8.0                                 3.252615                 0.257820   \n",
       "10.0                                5.479488                 0.287805   \n",
       "12.0                                8.111247                 0.479928   \n",
       "\n",
       "                     Shrink Rate $(\\mu m / min)$  \n",
       "[Tubulin] $(\\mu M)$                               \n",
       "6.0                                     9.511765  \n",
       "8.0                                    10.417108  \n",
       "10.0                                    9.797352  \n",
       "12.0                                   12.600540  "
      ]
     },
     "execution_count": 194,
     "metadata": {},
     "output_type": "execute_result"
    }
   ],
   "source": [
    "ystd=data.groupby(tubulin).std()\n",
    "ystd"
   ]
  },
  {
   "cell_type": "code",
   "execution_count": 220,
   "id": "1f18a1b1-4cad-4841-bfc5-82910e6769df",
   "metadata": {},
   "outputs": [
    {
     "data": {
      "text/plain": [
       "[Tubulin] $(\\mu M)$\n",
       "6.0     0.403111\n",
       "8.0     0.623198\n",
       "10.0    0.842666\n",
       "12.0    1.098787\n",
       "Name: Growth Rate $(\\mu m / min)$, dtype: float64"
      ]
     },
     "execution_count": 220,
     "metadata": {},
     "output_type": "execute_result"
    }
   ],
   "source": [
    "ymean['Growth Rate $(\\mu m / min)$']"
   ]
  },
  {
   "cell_type": "code",
   "execution_count": 222,
   "id": "0992d6bb-3b6f-4266-b4cc-17aeae53eb9f",
   "metadata": {},
   "outputs": [
    {
     "ename": "ValueError",
     "evalue": "x and y must have same first dimension, but have shapes (5,) and (4,)",
     "output_type": "error",
     "traceback": [
      "\u001b[1;31m---------------------------------------------------------------------------\u001b[0m",
      "\u001b[1;31mValueError\u001b[0m                                Traceback (most recent call last)",
      "Input \u001b[1;32mIn [222]\u001b[0m, in \u001b[0;36m<cell line: 3>\u001b[1;34m()\u001b[0m\n\u001b[0;32m      1\u001b[0m x\u001b[38;5;241m=\u001b[39mdata[tubulin]\u001b[38;5;241m.\u001b[39munique()\n\u001b[0;32m      2\u001b[0m y\u001b[38;5;241m=\u001b[39mymean[\u001b[38;5;124m'\u001b[39m\u001b[38;5;124mGrowth Rate $(\u001b[39m\u001b[38;5;124m\\\u001b[39m\u001b[38;5;124mmu m / min)$\u001b[39m\u001b[38;5;124m'\u001b[39m]\n\u001b[1;32m----> 3\u001b[0m \u001b[43mplt\u001b[49m\u001b[38;5;241;43m.\u001b[39;49m\u001b[43mplot\u001b[49m\u001b[43m(\u001b[49m\u001b[43mx\u001b[49m\u001b[43m,\u001b[49m\u001b[43my\u001b[49m\u001b[43m,\u001b[49m\u001b[38;5;124;43m'\u001b[39;49m\u001b[38;5;124;43mo\u001b[39;49m\u001b[38;5;124;43m'\u001b[39;49m\u001b[43m)\u001b[49m\n",
      "File \u001b[1;32m~\\anaconda3\\lib\\site-packages\\matplotlib\\pyplot.py:2757\u001b[0m, in \u001b[0;36mplot\u001b[1;34m(scalex, scaley, data, *args, **kwargs)\u001b[0m\n\u001b[0;32m   2755\u001b[0m \u001b[38;5;129m@_copy_docstring_and_deprecators\u001b[39m(Axes\u001b[38;5;241m.\u001b[39mplot)\n\u001b[0;32m   2756\u001b[0m \u001b[38;5;28;01mdef\u001b[39;00m \u001b[38;5;21mplot\u001b[39m(\u001b[38;5;241m*\u001b[39margs, scalex\u001b[38;5;241m=\u001b[39m\u001b[38;5;28;01mTrue\u001b[39;00m, scaley\u001b[38;5;241m=\u001b[39m\u001b[38;5;28;01mTrue\u001b[39;00m, data\u001b[38;5;241m=\u001b[39m\u001b[38;5;28;01mNone\u001b[39;00m, \u001b[38;5;241m*\u001b[39m\u001b[38;5;241m*\u001b[39mkwargs):\n\u001b[1;32m-> 2757\u001b[0m     \u001b[38;5;28;01mreturn\u001b[39;00m gca()\u001b[38;5;241m.\u001b[39mplot(\n\u001b[0;32m   2758\u001b[0m         \u001b[38;5;241m*\u001b[39margs, scalex\u001b[38;5;241m=\u001b[39mscalex, scaley\u001b[38;5;241m=\u001b[39mscaley,\n\u001b[0;32m   2759\u001b[0m         \u001b[38;5;241m*\u001b[39m\u001b[38;5;241m*\u001b[39m({\u001b[38;5;124m\"\u001b[39m\u001b[38;5;124mdata\u001b[39m\u001b[38;5;124m\"\u001b[39m: data} \u001b[38;5;28;01mif\u001b[39;00m data \u001b[38;5;129;01mis\u001b[39;00m \u001b[38;5;129;01mnot\u001b[39;00m \u001b[38;5;28;01mNone\u001b[39;00m \u001b[38;5;28;01melse\u001b[39;00m {}), \u001b[38;5;241m*\u001b[39m\u001b[38;5;241m*\u001b[39mkwargs)\n",
      "File \u001b[1;32m~\\anaconda3\\lib\\site-packages\\matplotlib\\axes\\_axes.py:1632\u001b[0m, in \u001b[0;36mAxes.plot\u001b[1;34m(self, scalex, scaley, data, *args, **kwargs)\u001b[0m\n\u001b[0;32m   1390\u001b[0m \u001b[38;5;124;03m\"\"\"\u001b[39;00m\n\u001b[0;32m   1391\u001b[0m \u001b[38;5;124;03mPlot y versus x as lines and/or markers.\u001b[39;00m\n\u001b[0;32m   1392\u001b[0m \n\u001b[1;32m   (...)\u001b[0m\n\u001b[0;32m   1629\u001b[0m \u001b[38;5;124;03m(``'green'``) or hex strings (``'#008000'``).\u001b[39;00m\n\u001b[0;32m   1630\u001b[0m \u001b[38;5;124;03m\"\"\"\u001b[39;00m\n\u001b[0;32m   1631\u001b[0m kwargs \u001b[38;5;241m=\u001b[39m cbook\u001b[38;5;241m.\u001b[39mnormalize_kwargs(kwargs, mlines\u001b[38;5;241m.\u001b[39mLine2D)\n\u001b[1;32m-> 1632\u001b[0m lines \u001b[38;5;241m=\u001b[39m [\u001b[38;5;241m*\u001b[39m\u001b[38;5;28mself\u001b[39m\u001b[38;5;241m.\u001b[39m_get_lines(\u001b[38;5;241m*\u001b[39margs, data\u001b[38;5;241m=\u001b[39mdata, \u001b[38;5;241m*\u001b[39m\u001b[38;5;241m*\u001b[39mkwargs)]\n\u001b[0;32m   1633\u001b[0m \u001b[38;5;28;01mfor\u001b[39;00m line \u001b[38;5;129;01min\u001b[39;00m lines:\n\u001b[0;32m   1634\u001b[0m     \u001b[38;5;28mself\u001b[39m\u001b[38;5;241m.\u001b[39madd_line(line)\n",
      "File \u001b[1;32m~\\anaconda3\\lib\\site-packages\\matplotlib\\axes\\_base.py:312\u001b[0m, in \u001b[0;36m_process_plot_var_args.__call__\u001b[1;34m(self, data, *args, **kwargs)\u001b[0m\n\u001b[0;32m    310\u001b[0m     this \u001b[38;5;241m+\u001b[39m\u001b[38;5;241m=\u001b[39m args[\u001b[38;5;241m0\u001b[39m],\n\u001b[0;32m    311\u001b[0m     args \u001b[38;5;241m=\u001b[39m args[\u001b[38;5;241m1\u001b[39m:]\n\u001b[1;32m--> 312\u001b[0m \u001b[38;5;28;01myield from\u001b[39;00m \u001b[38;5;28;43mself\u001b[39;49m\u001b[38;5;241;43m.\u001b[39;49m\u001b[43m_plot_args\u001b[49m\u001b[43m(\u001b[49m\u001b[43mthis\u001b[49m\u001b[43m,\u001b[49m\u001b[43m \u001b[49m\u001b[43mkwargs\u001b[49m\u001b[43m)\u001b[49m\n",
      "File \u001b[1;32m~\\anaconda3\\lib\\site-packages\\matplotlib\\axes\\_base.py:498\u001b[0m, in \u001b[0;36m_process_plot_var_args._plot_args\u001b[1;34m(self, tup, kwargs, return_kwargs)\u001b[0m\n\u001b[0;32m    495\u001b[0m     \u001b[38;5;28mself\u001b[39m\u001b[38;5;241m.\u001b[39maxes\u001b[38;5;241m.\u001b[39myaxis\u001b[38;5;241m.\u001b[39mupdate_units(y)\n\u001b[0;32m    497\u001b[0m \u001b[38;5;28;01mif\u001b[39;00m x\u001b[38;5;241m.\u001b[39mshape[\u001b[38;5;241m0\u001b[39m] \u001b[38;5;241m!=\u001b[39m y\u001b[38;5;241m.\u001b[39mshape[\u001b[38;5;241m0\u001b[39m]:\n\u001b[1;32m--> 498\u001b[0m     \u001b[38;5;28;01mraise\u001b[39;00m \u001b[38;5;167;01mValueError\u001b[39;00m(\u001b[38;5;124mf\u001b[39m\u001b[38;5;124m\"\u001b[39m\u001b[38;5;124mx and y must have same first dimension, but \u001b[39m\u001b[38;5;124m\"\u001b[39m\n\u001b[0;32m    499\u001b[0m                      \u001b[38;5;124mf\u001b[39m\u001b[38;5;124m\"\u001b[39m\u001b[38;5;124mhave shapes \u001b[39m\u001b[38;5;132;01m{\u001b[39;00mx\u001b[38;5;241m.\u001b[39mshape\u001b[38;5;132;01m}\u001b[39;00m\u001b[38;5;124m and \u001b[39m\u001b[38;5;132;01m{\u001b[39;00my\u001b[38;5;241m.\u001b[39mshape\u001b[38;5;132;01m}\u001b[39;00m\u001b[38;5;124m\"\u001b[39m)\n\u001b[0;32m    500\u001b[0m \u001b[38;5;28;01mif\u001b[39;00m x\u001b[38;5;241m.\u001b[39mndim \u001b[38;5;241m>\u001b[39m \u001b[38;5;241m2\u001b[39m \u001b[38;5;129;01mor\u001b[39;00m y\u001b[38;5;241m.\u001b[39mndim \u001b[38;5;241m>\u001b[39m \u001b[38;5;241m2\u001b[39m:\n\u001b[0;32m    501\u001b[0m     \u001b[38;5;28;01mraise\u001b[39;00m \u001b[38;5;167;01mValueError\u001b[39;00m(\u001b[38;5;124mf\u001b[39m\u001b[38;5;124m\"\u001b[39m\u001b[38;5;124mx and y can be no greater than 2D, but have \u001b[39m\u001b[38;5;124m\"\u001b[39m\n\u001b[0;32m    502\u001b[0m                      \u001b[38;5;124mf\u001b[39m\u001b[38;5;124m\"\u001b[39m\u001b[38;5;124mshapes \u001b[39m\u001b[38;5;132;01m{\u001b[39;00mx\u001b[38;5;241m.\u001b[39mshape\u001b[38;5;132;01m}\u001b[39;00m\u001b[38;5;124m and \u001b[39m\u001b[38;5;132;01m{\u001b[39;00my\u001b[38;5;241m.\u001b[39mshape\u001b[38;5;132;01m}\u001b[39;00m\u001b[38;5;124m\"\u001b[39m)\n",
      "\u001b[1;31mValueError\u001b[0m: x and y must have same first dimension, but have shapes (5,) and (4,)"
     ]
    },
    {
     "data": {
      "image/png": "[encoded data removed]",
      "text/plain": [
       "<Figure size 432x288 with 1 Axes>"
      ]
     },
     "metadata": {},
     "output_type": "display_data"
    }
   ],
   "source": [
    "\n",
    "plt.plot(x=tubulin,y,'o')\n"
   ]
  },
  {
   "cell_type": "code",
   "execution_count": 1,
   "id": "f40465fa-765c-4004-a4cd-7ae7dbbe9f92",
   "metadata": {},
   "outputs": [
    {
     "ename": "NameError",
     "evalue": "name 'sns' is not defined",
     "output_type": "error",
     "traceback": [
      "\u001b[1;31m---------------------------------------------------------------------------\u001b[0m",
      "\u001b[1;31mNameError\u001b[0m                                 Traceback (most recent call last)",
      "Input \u001b[1;32mIn [1]\u001b[0m, in \u001b[0;36m<cell line: 3>\u001b[1;34m()\u001b[0m\n\u001b[0;32m      1\u001b[0m \u001b[38;5;66;03m#data dump into a plot w/ best fit line - need to add equation\u001b[39;00m\n\u001b[1;32m----> 3\u001b[0m ax \u001b[38;5;241m=\u001b[39m \u001b[43msns\u001b[49m\u001b[38;5;241m.\u001b[39mlmplot(x\u001b[38;5;241m=\u001b[39mtubulin, y\u001b[38;5;241m=\u001b[39m\u001b[38;5;124m'\u001b[39m\u001b[38;5;124mGrowth Rate $(\u001b[39m\u001b[38;5;124m\\\u001b[39m\u001b[38;5;124mmu m / min)$\u001b[39m\u001b[38;5;124m'\u001b[39m, truncate\u001b[38;5;241m=\u001b[39m\u001b[38;5;28;01mFalse\u001b[39;00m, scatter_kws\u001b[38;5;241m=\u001b[39m{\u001b[38;5;124m\"\u001b[39m\u001b[38;5;124ms\u001b[39m\u001b[38;5;124m\"\u001b[39m: \u001b[38;5;241m12\u001b[39m,\u001b[38;5;124m\"\u001b[39m\u001b[38;5;124malpha\u001b[39m\u001b[38;5;124m\"\u001b[39m:\u001b[38;5;241m0.3\u001b[39m}, aspect\u001b[38;5;241m=\u001b[39m\u001b[38;5;241m1\u001b[39m, data\u001b[38;5;241m=\u001b[39mdata, fit_reg\u001b[38;5;241m=\u001b[39m\u001b[38;5;28;01mTrue\u001b[39;00m, markers\u001b[38;5;241m=\u001b[39m\u001b[38;5;124m'\u001b[39m\u001b[38;5;124mo\u001b[39m\u001b[38;5;124m'\u001b[39m, x_jitter\u001b[38;5;241m=\u001b[39m\u001b[38;5;241m.2\u001b[39m, palette\u001b[38;5;241m=\u001b[39msns\u001b[38;5;241m.\u001b[39mcolor_palette(palette))\n\u001b[0;32m      5\u001b[0m \u001b[38;5;66;03m#note: change to truncate=True if you don't want the regression line to go across the whole plot and just where you have data\u001b[39;00m\n\u001b[0;32m      7\u001b[0m sns\u001b[38;5;241m.\u001b[39mdespine(left\u001b[38;5;241m=\u001b[39m\u001b[38;5;28;01mFalse\u001b[39;00m)\n",
      "\u001b[1;31mNameError\u001b[0m: name 'sns' is not defined"
     ]
    }
   ],
   "source": [
    "#data dump into a plot w/ best fit line - need to add equation\n",
    "\n",
    "ax = sns.lmplot(x=tubulin, y='Growth Rate $(\\mu m / min)$', truncate=False, scatter_kws={\"s\": 12,\"alpha\":0.3}, aspect=1, data=data, fit_reg=True, markers='o', x_jitter=.2, palette=sns.color_palette(palette))\n",
    "\n",
    "#note: change to truncate=True if you don't want the regression line to go across the whole plot and just where you have data\n",
    "\n",
    "sns.despine(left=False)\n",
    "sns.set_style(\"whitegrid\")\n",
    "\n",
    "sns.set_style(\"ticks\")\n",
    "plt.rcParams['axes.linewidth'] = 2.5\n",
    "\n",
    "plt.xlabel('[Tubulin] $(\\mu M)$', fontsize=20)\n",
    "plt.ylabel('Growth Rate $(\\mu m/min)$', fontsize=20)\n",
    "plt.yticks(fontsize = 20)\n",
    "plt.xticks(fontsize =20)\n",
    "plt.ylim(0,2)\n",
    "plt.tight_layout()\n",
    "\n",
    "plt.savefig(newmydir/('Growth Rate'+date+'.pdf'))\n",
    "\n",
    "plt.show()"
   ]
  },
  {
   "cell_type": "code",
   "execution_count": 29,
   "id": "f1ee751c-4370-4eac-8701-45f90d6ddf2a",
   "metadata": {},
   "outputs": [
    {
     "data": {
      "image/png": "[encoded data removed]",
      "text/plain": [
       "<Figure size 432x288 with 1 Axes>"
      ]
     },
     "metadata": {},
     "output_type": "display_data"
    }
   ],
   "source": [
    "#regplot\n",
    "\n",
    "ax = sns.regplot(x=tubulin, y='Growth Rate $(\\mu m / min)$', truncate=False, scatter_kws={\"s\": 12,\"alpha\":0.3}, data=data, fit_reg=True, x_jitter=.2)\n",
    "\n",
    "#note: change to truncate=True if you don't want the regression line to go across the whole plot and just where you have data\n",
    "\n",
    "sns.despine(left=False)\n",
    "sns.set_style(\"whitegrid\")\n",
    "\n",
    "sns.set_style(\"ticks\")\n",
    "plt.rcParams['axes.linewidth'] = 2.5\n",
    "\n",
    "plt.xlabel('[Tubulin] $(\\mu M)$', fontsize=20)\n",
    "plt.ylabel('Growth Rate $(\\mu m/min)$', fontsize=20)\n",
    "plt.yticks(fontsize = 20)\n",
    "plt.xticks(fontsize =20)\n",
    "plt.ylim(0,2)\n",
    "plt.tight_layout()\n",
    "\n",
    "plt.savefig(newmydir/('Growth Rate'+date+'.pdf'))\n",
    "\n",
    "plt.show()"
   ]
  },
  {
   "cell_type": "markdown",
   "id": "5982fcd1-2b69-4415-a661-9cc9abaa23fa",
   "metadata": {},
   "source": [
    "## Making a DataFrame"
   ]
  },
  {
   "cell_type": "code",
   "execution_count": null,
   "id": "be93d7f0-eaba-43d1-b430-9d0d50cd2437",
   "metadata": {},
   "outputs": [
    {
     "ename": "NameError",
     "evalue": "name 'data' is not defined",
     "output_type": "error",
     "traceback": [
      "\u001b[1;31m---------------------------------------------------------------------------\u001b[0m",
      "\u001b[1;31mNameError\u001b[0m                                 Traceback (most recent call last)",
      "Input \u001b[1;32mIn [1]\u001b[0m, in \u001b[0;36m<cell line: 1>\u001b[1;34m()\u001b[0m\n\u001b[1;32m----> 1\u001b[0m df\u001b[38;5;241m=\u001b[39m\u001b[43mdata\u001b[49m[tubulin,GR]\n",
      "\u001b[1;31mNameError\u001b[0m: name 'data' is not defined"
     ]
    }
   ],
   "source": [
    "df=data[tubulin,GR"
   ]
  },
  {
   "cell_type": "code",
   "execution_count": null,
   "id": "09968180-d25b-4b12-bf58-4ded5ac2b9f2",
   "metadata": {},
   "outputs": [],
   "source": []
  },
  {
   "cell_type": "code",
   "execution_count": null,
   "id": "546da92a-0536-4249-ae94-f26b3a4f1bcf",
   "metadata": {},
   "outputs": [],
   "source": []
  },
  {
   "cell_type": "code",
   "execution_count": null,
   "id": "34cc8e2f-140c-4940-9fa2-62cf3b9b0012",
   "metadata": {},
   "outputs": [],
   "source": []
  },
  {
   "cell_type": "code",
   "execution_count": 15,
   "id": "23ee50e0-7abd-4563-bded-494646bb74bc",
   "metadata": {},
   "outputs": [
    {
     "ename": "NameError",
     "evalue": "name 'curve_fit' is not defined",
     "output_type": "error",
     "traceback": [
      "\u001b[1;31m---------------------------------------------------------------------------\u001b[0m",
      "\u001b[1;31mNameError\u001b[0m                                 Traceback (most recent call last)",
      "Input \u001b[1;32mIn [15]\u001b[0m, in \u001b[0;36m<cell line: 8>\u001b[1;34m()\u001b[0m\n\u001b[0;32m      6\u001b[0m \u001b[38;5;66;03m# Fitting\u001b[39;00m\n\u001b[0;32m      7\u001b[0m model \u001b[38;5;241m=\u001b[39m \u001b[38;5;28;01mlambda\u001b[39;00m x, A, x0, sigma, offset:  offset\u001b[38;5;241m+\u001b[39mA\u001b[38;5;241m*\u001b[39mnp\u001b[38;5;241m.\u001b[39mexp(\u001b[38;5;241m-\u001b[39m((x\u001b[38;5;241m-\u001b[39mx0)\u001b[38;5;241m/\u001b[39msigma)\u001b[38;5;241m*\u001b[39m\u001b[38;5;241m*\u001b[39m\u001b[38;5;241m2\u001b[39m)\n\u001b[1;32m----> 8\u001b[0m popt, pcov \u001b[38;5;241m=\u001b[39m \u001b[43mcurve_fit\u001b[49m(model, df[tubulin]\u001b[38;5;241m.\u001b[39mvalues, \n\u001b[0;32m      9\u001b[0m                               df[\u001b[38;5;124m'\u001b[39m\u001b[38;5;124mGrowth Rate $(\u001b[39m\u001b[38;5;124m\\\u001b[39m\u001b[38;5;124mmu m / min)$\u001b[39m\u001b[38;5;124m'\u001b[39m]\u001b[38;5;241m.\u001b[39mvalues, p0\u001b[38;5;241m=\u001b[39m[\u001b[38;5;241m1\u001b[39m,\u001b[38;5;241m0\u001b[39m,\u001b[38;5;241m2\u001b[39m,\u001b[38;5;241m0\u001b[39m])\n\u001b[0;32m     10\u001b[0m \u001b[38;5;66;03m#plot fit\u001b[39;00m\n\u001b[0;32m     11\u001b[0m x \u001b[38;5;241m=\u001b[39m np\u001b[38;5;241m.\u001b[39mlinspace(df[tubulin]\u001b[38;5;241m.\u001b[39mvalues\u001b[38;5;241m.\u001b[39mmin(),df[tubulin]\u001b[38;5;241m.\u001b[39mvalues\u001b[38;5;241m.\u001b[39mmax(),\u001b[38;5;241m250\u001b[39m)\n",
      "\u001b[1;31mNameError\u001b[0m: name 'curve_fit' is not defined"
     ]
    },
    {
     "data": {
      "image/png": "[encoded data removed]",
      "text/plain": [
       "<Figure size 432x288 with 1 Axes>"
      ]
     },
     "metadata": {
      "needs_background": "light"
     },
     "output_type": "display_data"
    }
   ],
   "source": [
    "# plot data\n",
    "df = data[data[tubulin]==GrowthRate]\n",
    "\n",
    "plt.scatter(df[tubulin].values,df['Growth Rate $(\\mu m / min)$'].values, label=\"data\")\n",
    "\n",
    "# Fitting\n",
    "model = lambda x, A, x0, sigma, offset:  offset+A*np.exp(-((x-x0)/sigma)**2)\n",
    "popt, pcov = curve_fit(model, df[tubulin].values, \n",
    "                              df['Growth Rate $(\\mu m / min)$'].values, p0=[1,0,2,0])\n",
    "#plot fit\n",
    "x = np.linspace(df[tubulin].values.min(),df[tubulin].values.max(),250)\n",
    "pt.plot(x,model(x,*popt), label=\"fit\")\n",
    "\n",
    "# Fitting\n",
    "model2 = lambda x, sigma:  model(x,1,0,sigma,0)\n",
    "popt2, pcov2 = curve_fit(model2, df[tubulin].values, \n",
    "                              df['Growth Rate $(\\mu m / min)$'].values, p0=[2])\n",
    "\n",
    "\n",
    "#pt.xlim(None,10)\n",
    "plt.legend()\n",
    "plt.show()"
   ]
  },
  {
   "cell_type": "code",
   "execution_count": 16,
   "id": "030b76f5-a508-4e00-b383-a5aa5f9d48bb",
   "metadata": {},
   "outputs": [
    {
     "data": {
      "text/plain": [
       "0.6726867410813716"
      ]
     },
     "execution_count": 16,
     "metadata": {},
     "output_type": "execute_result"
    }
   ],
   "source": [
    "data['Growth Rate $(\\mu m / min)$'].mean()"
   ]
  },
  {
   "cell_type": "code",
   "execution_count": 161,
   "id": "12251996-55fd-4994-830f-d3535bc3ac03",
   "metadata": {},
   "outputs": [],
   "source": []
  },
  {
   "cell_type": "code",
   "execution_count": null,
   "id": "dfed8e77-a5c8-45d3-8b8d-b354e4bd494c",
   "metadata": {},
   "outputs": [],
   "source": []
  }
 ],
 "metadata": {
  "kernelspec": {
   "display_name": "Python 3 (ipykernel)",
   "language": "python",
   "name": "python3"
  },
  "language_info": {
   "codemirror_mode": {
    "name": "ipython",
    "version": 3
   },
   "file_extension": ".py",
   "mimetype": "text/x-python",
   "name": "python",
   "nbconvert_exporter": "python",
   "pygments_lexer": "ipython3",
   "version": "3.9.12"
  }
 },
 "nbformat": 4,
 "nbformat_minor": 5
}
