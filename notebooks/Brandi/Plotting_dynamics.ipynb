{
 "cells": [
  {
   "cell_type": "code",
   "execution_count": 1,
   "id": "9af7fe52-1b80-49cb-827e-b894cddd87c0",
   "metadata": {},
   "outputs": [],
   "source": [
    "import numpy as np\n",
    "import seaborn as sns\n",
    "import matplotlib.pyplot as plt\n",
    "import csv\n",
    "import pandas as pd\n",
    "from pandas.api.types import CategoricalDtype\n",
    "import scipy as sp\n",
    "from pathlib import Path\n",
    "import tkinter as tk\n",
    "from tkinter import filedialog\n",
    "import itertools\n",
    "from colour import Color\n",
    "from datetime import date\n",
    "from matplotlib.ticker import MultipleLocator\n",
    "from matplotlib.ticker import MaxNLocator\n",
    "from scipy import stats"
   ]
  },
  {
   "cell_type": "code",
   "execution_count": 2,
   "id": "156c51fc-85db-412c-8694-01d05d59d628",
   "metadata": {},
   "outputs": [
    {
     "name": "stdout",
     "output_type": "stream",
     "text": [
      "Today's date: 2022-11-10\n"
     ]
    },
    {
     "data": {
      "text/plain": [
       "'2022-11-10'"
      ]
     },
     "execution_count": 2,
     "metadata": {},
     "output_type": "execute_result"
    }
   ],
   "source": [
    "today = date.today()\n",
    "print(\"Today's date:\", today)\n",
    "date = str(today)\n",
    "date"
   ]
  },
  {
   "cell_type": "code",
   "execution_count": 3,
   "id": "deb4fce1-5f3f-44af-99a6-8cc154839469",
   "metadata": {},
   "outputs": [],
   "source": [
    "tubulin = '[Tubulin] ' r'$(\\mu M)$'\n",
    "tub = 'tub'\n",
    "GrowthRate = 'Growth Rate ' r'$(\\mu m / min)$'\n"
   ]
  },
  {
   "cell_type": "code",
   "execution_count": 4,
   "id": "3b70a086-57c8-40f4-a7e5-e9560616ea82",
   "metadata": {},
   "outputs": [],
   "source": [
    "black = '#000000'\n",
    "grey = '#777777'\n",
    "blue = '#23459C'\n",
    "cyan = '#0089CF'\n",
    "green = '#79BA1A'\n",
    "purple = '#AB4A9C'\n",
    "lily = '#CB81EA'\n",
    "magenta = '#D80B8C'\n",
    "red = '#e60000'\n",
    "orange = '#FF7300'\n",
    "darkorange = '#FF5B00'\n",
    "lightorange = '#FFAC83'\n",
    "yellow = '#FFCB05'\n",
    "lightyellow = '#F9DC2D'\n",
    "pink = '#FFA4CD'\n",
    "\n",
    "palette = [grey,cyan] "
   ]
  },
  {
   "cell_type": "code",
   "execution_count": 5,
   "id": "6af945a2-f5d1-4f7d-85ce-d089db8db3e3",
   "metadata": {},
   "outputs": [
    {
     "data": {
      "text/html": [
       "<div>\n",
       "<style scoped>\n",
       "    .dataframe tbody tr th:only-of-type {\n",
       "        vertical-align: middle;\n",
       "    }\n",
       "\n",
       "    .dataframe tbody tr th {\n",
       "        vertical-align: top;\n",
       "    }\n",
       "\n",
       "    .dataframe thead th {\n",
       "        text-align: right;\n",
       "    }\n",
       "</style>\n",
       "<table border=\"1\" class=\"dataframe\">\n",
       "  <thead>\n",
       "    <tr style=\"text-align: right;\">\n",
       "      <th></th>\n",
       "      <th>Date</th>\n",
       "      <th>Investigator</th>\n",
       "      <th>Ch</th>\n",
       "      <th>[Tubulin] $(\\mu M)$</th>\n",
       "      <th>Length $(\\mu m)$</th>\n",
       "      <th>Lifetime $(min)$</th>\n",
       "      <th>Growth Rate $(\\mu m / min)$</th>\n",
       "      <th>Time to Nucleate $(min)$</th>\n",
       "      <th>Shrink Length $(\\mu m)$</th>\n",
       "      <th>Shrink Lifetime $(min)$</th>\n",
       "      <th>Shrink Rate $(\\mu m / min)$</th>\n",
       "      <th>Rescues</th>\n",
       "    </tr>\n",
       "  </thead>\n",
       "  <tbody>\n",
       "    <tr>\n",
       "      <th>0</th>\n",
       "      <td>2022-08-19</td>\n",
       "      <td>Brandi</td>\n",
       "      <td>1</td>\n",
       "      <td>6</td>\n",
       "      <td>4.7080</td>\n",
       "      <td>14.307000</td>\n",
       "      <td>0.329070</td>\n",
       "      <td>0.838991</td>\n",
       "      <td>5.0290</td>\n",
       "      <td>NaN</td>\n",
       "      <td>NaN</td>\n",
       "      <td>False</td>\n",
       "    </tr>\n",
       "    <tr>\n",
       "      <th>1</th>\n",
       "      <td>2022-08-19</td>\n",
       "      <td>Brandi</td>\n",
       "      <td>1</td>\n",
       "      <td>6</td>\n",
       "      <td>0.5350</td>\n",
       "      <td>1.715167</td>\n",
       "      <td>0.311923</td>\n",
       "      <td>0.755324</td>\n",
       "      <td>0.6955</td>\n",
       "      <td>0.041833</td>\n",
       "      <td>16.625498</td>\n",
       "      <td>False</td>\n",
       "    </tr>\n",
       "    <tr>\n",
       "      <th>2</th>\n",
       "      <td>2022-08-19</td>\n",
       "      <td>Brandi</td>\n",
       "      <td>1</td>\n",
       "      <td>6</td>\n",
       "      <td>1.5515</td>\n",
       "      <td>5.103667</td>\n",
       "      <td>0.303997</td>\n",
       "      <td>2.554157</td>\n",
       "      <td>1.7655</td>\n",
       "      <td>0.251000</td>\n",
       "      <td>7.033865</td>\n",
       "      <td>False</td>\n",
       "    </tr>\n",
       "    <tr>\n",
       "      <th>3</th>\n",
       "      <td>2022-08-19</td>\n",
       "      <td>Brandi</td>\n",
       "      <td>1</td>\n",
       "      <td>6</td>\n",
       "      <td>1.3910</td>\n",
       "      <td>3.012000</td>\n",
       "      <td>0.461819</td>\n",
       "      <td>2.930657</td>\n",
       "      <td>1.3375</td>\n",
       "      <td>0.209167</td>\n",
       "      <td>6.394422</td>\n",
       "      <td>False</td>\n",
       "    </tr>\n",
       "    <tr>\n",
       "      <th>4</th>\n",
       "      <td>2022-08-19</td>\n",
       "      <td>Brandi</td>\n",
       "      <td>1</td>\n",
       "      <td>6</td>\n",
       "      <td>2.1400</td>\n",
       "      <td>6.526000</td>\n",
       "      <td>0.327919</td>\n",
       "      <td>1.257324</td>\n",
       "      <td>2.3540</td>\n",
       "      <td>0.083667</td>\n",
       "      <td>28.135458</td>\n",
       "      <td>False</td>\n",
       "    </tr>\n",
       "    <tr>\n",
       "      <th>...</th>\n",
       "      <td>...</td>\n",
       "      <td>...</td>\n",
       "      <td>...</td>\n",
       "      <td>...</td>\n",
       "      <td>...</td>\n",
       "      <td>...</td>\n",
       "      <td>...</td>\n",
       "      <td>...</td>\n",
       "      <td>...</td>\n",
       "      <td>...</td>\n",
       "      <td>...</td>\n",
       "      <td>...</td>\n",
       "    </tr>\n",
       "    <tr>\n",
       "      <th>541</th>\n",
       "      <td>2022-09-14</td>\n",
       "      <td>Brandi</td>\n",
       "      <td>4</td>\n",
       "      <td>12</td>\n",
       "      <td>21.4000</td>\n",
       "      <td>23.175667</td>\n",
       "      <td>0.923382</td>\n",
       "      <td>6.205278</td>\n",
       "      <td>21.6140</td>\n",
       "      <td>1.004000</td>\n",
       "      <td>21.527888</td>\n",
       "      <td>False</td>\n",
       "    </tr>\n",
       "    <tr>\n",
       "      <th>542</th>\n",
       "      <td>2022-09-14</td>\n",
       "      <td>Brandi</td>\n",
       "      <td>4</td>\n",
       "      <td>12</td>\n",
       "      <td>10.8070</td>\n",
       "      <td>9.538000</td>\n",
       "      <td>1.133047</td>\n",
       "      <td>1.436278</td>\n",
       "      <td>10.8070</td>\n",
       "      <td>0.502000</td>\n",
       "      <td>21.527888</td>\n",
       "      <td>False</td>\n",
       "    </tr>\n",
       "    <tr>\n",
       "      <th>543</th>\n",
       "      <td>2022-09-14</td>\n",
       "      <td>Brandi</td>\n",
       "      <td>4</td>\n",
       "      <td>12</td>\n",
       "      <td>13.2680</td>\n",
       "      <td>15.394667</td>\n",
       "      <td>0.861857</td>\n",
       "      <td>12.145611</td>\n",
       "      <td>12.7330</td>\n",
       "      <td>0.167333</td>\n",
       "      <td>76.093626</td>\n",
       "      <td>False</td>\n",
       "    </tr>\n",
       "    <tr>\n",
       "      <th>544</th>\n",
       "      <td>2022-09-14</td>\n",
       "      <td>Brandi</td>\n",
       "      <td>4</td>\n",
       "      <td>12</td>\n",
       "      <td>9.4160</td>\n",
       "      <td>9.789000</td>\n",
       "      <td>0.961896</td>\n",
       "      <td>0.934278</td>\n",
       "      <td>13.5890</td>\n",
       "      <td>0.251000</td>\n",
       "      <td>54.139442</td>\n",
       "      <td>True</td>\n",
       "    </tr>\n",
       "    <tr>\n",
       "      <th>545</th>\n",
       "      <td>2022-09-14</td>\n",
       "      <td>Brandi</td>\n",
       "      <td>4</td>\n",
       "      <td>12</td>\n",
       "      <td>24.7170</td>\n",
       "      <td>20.247333</td>\n",
       "      <td>1.220753</td>\n",
       "      <td>1.185278</td>\n",
       "      <td>30.4950</td>\n",
       "      <td>1.422333</td>\n",
       "      <td>21.440122</td>\n",
       "      <td>True</td>\n",
       "    </tr>\n",
       "  </tbody>\n",
       "</table>\n",
       "<p>546 rows × 12 columns</p>\n",
       "</div>"
      ],
      "text/plain": [
       "           Date Investigator  Ch  [Tubulin] $(\\mu M)$  Length $(\\mu m)$  \\\n",
       "0    2022-08-19       Brandi   1                    6            4.7080   \n",
       "1    2022-08-19       Brandi   1                    6            0.5350   \n",
       "2    2022-08-19       Brandi   1                    6            1.5515   \n",
       "3    2022-08-19       Brandi   1                    6            1.3910   \n",
       "4    2022-08-19       Brandi   1                    6            2.1400   \n",
       "..          ...          ...  ..                  ...               ...   \n",
       "541  2022-09-14       Brandi   4                   12           21.4000   \n",
       "542  2022-09-14       Brandi   4                   12           10.8070   \n",
       "543  2022-09-14       Brandi   4                   12           13.2680   \n",
       "544  2022-09-14       Brandi   4                   12            9.4160   \n",
       "545  2022-09-14       Brandi   4                   12           24.7170   \n",
       "\n",
       "     Lifetime $(min)$  Growth Rate $(\\mu m / min)$  Time to Nucleate $(min)$  \\\n",
       "0           14.307000                     0.329070                  0.838991   \n",
       "1            1.715167                     0.311923                  0.755324   \n",
       "2            5.103667                     0.303997                  2.554157   \n",
       "3            3.012000                     0.461819                  2.930657   \n",
       "4            6.526000                     0.327919                  1.257324   \n",
       "..                ...                          ...                       ...   \n",
       "541         23.175667                     0.923382                  6.205278   \n",
       "542          9.538000                     1.133047                  1.436278   \n",
       "543         15.394667                     0.861857                 12.145611   \n",
       "544          9.789000                     0.961896                  0.934278   \n",
       "545         20.247333                     1.220753                  1.185278   \n",
       "\n",
       "     Shrink Length $(\\mu m)$  Shrink Lifetime $(min)$  \\\n",
       "0                     5.0290                      NaN   \n",
       "1                     0.6955                 0.041833   \n",
       "2                     1.7655                 0.251000   \n",
       "3                     1.3375                 0.209167   \n",
       "4                     2.3540                 0.083667   \n",
       "..                       ...                      ...   \n",
       "541                  21.6140                 1.004000   \n",
       "542                  10.8070                 0.502000   \n",
       "543                  12.7330                 0.167333   \n",
       "544                  13.5890                 0.251000   \n",
       "545                  30.4950                 1.422333   \n",
       "\n",
       "     Shrink Rate $(\\mu m / min)$  Rescues  \n",
       "0                            NaN    False  \n",
       "1                      16.625498    False  \n",
       "2                       7.033865    False  \n",
       "3                       6.394422    False  \n",
       "4                      28.135458    False  \n",
       "..                           ...      ...  \n",
       "541                    21.527888    False  \n",
       "542                    21.527888    False  \n",
       "543                    76.093626    False  \n",
       "544                    54.139442     True  \n",
       "545                    21.440122     True  \n",
       "\n",
       "[546 rows x 12 columns]"
      ]
     },
     "execution_count": 5,
     "metadata": {},
     "output_type": "execute_result"
    }
   ],
   "source": [
    "askmastersheet = filedialog.askopenfilename() # show an \"Open\" dialog box and return the path to the selected file\n",
    "data = pd.read_csv(askmastersheet, encoding='utf-8')\n",
    "data"
   ]
  },
  {
   "cell_type": "code",
   "execution_count": 6,
   "id": "90e2209d-cd05-4da3-9919-0d63aa61c961",
   "metadata": {},
   "outputs": [
    {
     "data": {
      "text/plain": [
       "WindowsPath('C:/Users/Brouhard Lab/Data/Growth curve data/growth-rate/Plots')"
      ]
     },
     "execution_count": 6,
     "metadata": {},
     "output_type": "execute_result"
    }
   ],
   "source": [
    "pathmastersheet = Path(askmastersheet)\n",
    "resultdirectory = str(pathmastersheet.parents[0])+'//Plots'\n",
    "newmydir = Path(resultdirectory)\n",
    "newmydir.mkdir(exist_ok=True)\n",
    "path = newmydir\n",
    "path"
   ]
  },
  {
   "cell_type": "code",
   "execution_count": 62,
   "id": "95ea4510-1dde-4cd0-9c19-6284a3e8af2b",
   "metadata": {},
   "outputs": [
    {
     "data": {
      "image/png": "[encoded data removed]",
      "text/plain": [
       "<Figure size 432x288 with 1 Axes>"
      ]
     },
     "metadata": {},
     "output_type": "display_data"
    }
   ],
   "source": [
    "#regplot\n",
    "\n",
    "ax = sns.regplot(x=tubulin, y='Growth Rate $(\\mu m / min)$', truncate=False, scatter_kws={\"s\": 12,\"alpha\":0.3}, data=data, fit_reg=True, x_jitter=.2)\n",
    "\n",
    "#note: change to truncate=True if you don't want the regression line to go across the whole plot and just where you have data\n",
    "\n",
    "sns.despine(left=False)\n",
    "sns.set_style(\"whitegrid\")\n",
    "\n",
    "sns.set_style(\"ticks\")\n",
    "plt.rcParams['axes.linewidth'] = 1.5\n",
    "\n",
    "plt.xlabel('[Tubulin] $(\\mu M)$', fontsize=18)\n",
    "plt.ylabel('Growth Rate $(\\mu m/min)$', fontsize=18)\n",
    "plt.yticks(np.arange(0, max(y)+1.5, 0.5),fontsize = 18)\n",
    "\n",
    "plt.xticks(fontsize =18)\n",
    "plt.ylim(0,2)\n",
    "plt.xlim(4,14)\n",
    "plt.tight_layout()\n",
    "plt.title('[Tubulin] vs Growth Rate', fontsize=18)\n",
    "\n",
    "plt.savefig(newmydir/('Growth Rate'+date+'.jpg'),bbox_inches='tight')#bbox_inches-'tight' condenses savefig, prevents title cutoff\n",
    "\n",
    "plt.show()"
   ]
  },
  {
   "cell_type": "markdown",
   "id": "edbacd07-9de4-48dd-a481-cc8482971fd1",
   "metadata": {},
   "source": [
    "## Making a DataFrame"
   ]
  },
  {
   "cell_type": "code",
   "execution_count": 8,
   "id": "a85028eb-76d8-4f35-bbc1-d0232ecab701",
   "metadata": {},
   "outputs": [
    {
     "data": {
      "text/html": [
       "<div>\n",
       "<style scoped>\n",
       "    .dataframe tbody tr th:only-of-type {\n",
       "        vertical-align: middle;\n",
       "    }\n",
       "\n",
       "    .dataframe tbody tr th {\n",
       "        vertical-align: top;\n",
       "    }\n",
       "\n",
       "    .dataframe thead th {\n",
       "        text-align: right;\n",
       "    }\n",
       "</style>\n",
       "<table border=\"1\" class=\"dataframe\">\n",
       "  <thead>\n",
       "    <tr style=\"text-align: right;\">\n",
       "      <th></th>\n",
       "      <th>[Tubulin] $(\\mu M)$</th>\n",
       "      <th>Growth Rate $(\\mu m / min)$</th>\n",
       "    </tr>\n",
       "  </thead>\n",
       "  <tbody>\n",
       "    <tr>\n",
       "      <th>0</th>\n",
       "      <td>6</td>\n",
       "      <td>0.329070</td>\n",
       "    </tr>\n",
       "    <tr>\n",
       "      <th>1</th>\n",
       "      <td>6</td>\n",
       "      <td>0.311923</td>\n",
       "    </tr>\n",
       "    <tr>\n",
       "      <th>2</th>\n",
       "      <td>6</td>\n",
       "      <td>0.303997</td>\n",
       "    </tr>\n",
       "    <tr>\n",
       "      <th>3</th>\n",
       "      <td>6</td>\n",
       "      <td>0.461819</td>\n",
       "    </tr>\n",
       "    <tr>\n",
       "      <th>4</th>\n",
       "      <td>6</td>\n",
       "      <td>0.327919</td>\n",
       "    </tr>\n",
       "    <tr>\n",
       "      <th>...</th>\n",
       "      <td>...</td>\n",
       "      <td>...</td>\n",
       "    </tr>\n",
       "    <tr>\n",
       "      <th>541</th>\n",
       "      <td>12</td>\n",
       "      <td>0.923382</td>\n",
       "    </tr>\n",
       "    <tr>\n",
       "      <th>542</th>\n",
       "      <td>12</td>\n",
       "      <td>1.133047</td>\n",
       "    </tr>\n",
       "    <tr>\n",
       "      <th>543</th>\n",
       "      <td>12</td>\n",
       "      <td>0.861857</td>\n",
       "    </tr>\n",
       "    <tr>\n",
       "      <th>544</th>\n",
       "      <td>12</td>\n",
       "      <td>0.961896</td>\n",
       "    </tr>\n",
       "    <tr>\n",
       "      <th>545</th>\n",
       "      <td>12</td>\n",
       "      <td>1.220753</td>\n",
       "    </tr>\n",
       "  </tbody>\n",
       "</table>\n",
       "<p>546 rows × 2 columns</p>\n",
       "</div>"
      ],
      "text/plain": [
       "     [Tubulin] $(\\mu M)$  Growth Rate $(\\mu m / min)$\n",
       "0                      6                     0.329070\n",
       "1                      6                     0.311923\n",
       "2                      6                     0.303997\n",
       "3                      6                     0.461819\n",
       "4                      6                     0.327919\n",
       "..                   ...                          ...\n",
       "541                   12                     0.923382\n",
       "542                   12                     1.133047\n",
       "543                   12                     0.861857\n",
       "544                   12                     0.961896\n",
       "545                   12                     1.220753\n",
       "\n",
       "[546 rows x 2 columns]"
      ]
     },
     "execution_count": 8,
     "metadata": {},
     "output_type": "execute_result"
    }
   ],
   "source": [
    "df=data[[tubulin,GrowthRate]]\n",
    "df"
   ]
  },
  {
   "cell_type": "code",
   "execution_count": 9,
   "id": "9bfcf3c9-ea08-4041-bba6-5db4a0ee6e9b",
   "metadata": {},
   "outputs": [
    {
     "data": {
      "text/html": [
       "<div>\n",
       "<style scoped>\n",
       "    .dataframe tbody tr th:only-of-type {\n",
       "        vertical-align: middle;\n",
       "    }\n",
       "\n",
       "    .dataframe tbody tr th {\n",
       "        vertical-align: top;\n",
       "    }\n",
       "\n",
       "    .dataframe thead th {\n",
       "        text-align: right;\n",
       "    }\n",
       "</style>\n",
       "<table border=\"1\" class=\"dataframe\">\n",
       "  <thead>\n",
       "    <tr style=\"text-align: right;\">\n",
       "      <th></th>\n",
       "      <th>[Tubulin] $(\\mu M)$</th>\n",
       "      <th>Mean Growth Rate$(\\mu m / min)$</th>\n",
       "    </tr>\n",
       "  </thead>\n",
       "  <tbody>\n",
       "    <tr>\n",
       "      <th>0</th>\n",
       "      <td>6</td>\n",
       "      <td>0.403111</td>\n",
       "    </tr>\n",
       "    <tr>\n",
       "      <th>1</th>\n",
       "      <td>8</td>\n",
       "      <td>0.623198</td>\n",
       "    </tr>\n",
       "    <tr>\n",
       "      <th>2</th>\n",
       "      <td>10</td>\n",
       "      <td>0.842666</td>\n",
       "    </tr>\n",
       "    <tr>\n",
       "      <th>3</th>\n",
       "      <td>12</td>\n",
       "      <td>1.098787</td>\n",
       "    </tr>\n",
       "  </tbody>\n",
       "</table>\n",
       "</div>"
      ],
      "text/plain": [
       "   [Tubulin] $(\\mu M)$  Mean Growth Rate$(\\mu m / min)$\n",
       "0                    6                         0.403111\n",
       "1                    8                         0.623198\n",
       "2                   10                         0.842666\n",
       "3                   12                         1.098787"
      ]
     },
     "execution_count": 9,
     "metadata": {},
     "output_type": "execute_result"
    }
   ],
   "source": [
    "GRmn='Mean Growth Rate' r'$(\\mu m / min)$'\n",
    "dfmn=df.groupby(tubulin, as_index=False).mean()\n",
    "dfmn.rename(columns={GrowthRate:GRmn}, inplace=True)\n",
    "\n",
    "dfmn"
   ]
  },
  {
   "cell_type": "code",
   "execution_count": 10,
   "id": "5f854375-b5c9-4839-9be7-04db04eda9a3",
   "metadata": {},
   "outputs": [
    {
     "data": {
      "text/html": [
       "<div>\n",
       "<style scoped>\n",
       "    .dataframe tbody tr th:only-of-type {\n",
       "        vertical-align: middle;\n",
       "    }\n",
       "\n",
       "    .dataframe tbody tr th {\n",
       "        vertical-align: top;\n",
       "    }\n",
       "\n",
       "    .dataframe thead th {\n",
       "        text-align: right;\n",
       "    }\n",
       "</style>\n",
       "<table border=\"1\" class=\"dataframe\">\n",
       "  <thead>\n",
       "    <tr style=\"text-align: right;\">\n",
       "      <th></th>\n",
       "      <th>[Tubulin] $(\\mu M)$</th>\n",
       "      <th>Std Dev.</th>\n",
       "    </tr>\n",
       "  </thead>\n",
       "  <tbody>\n",
       "    <tr>\n",
       "      <th>0</th>\n",
       "      <td>6</td>\n",
       "      <td>0.099268</td>\n",
       "    </tr>\n",
       "    <tr>\n",
       "      <th>1</th>\n",
       "      <td>8</td>\n",
       "      <td>0.108193</td>\n",
       "    </tr>\n",
       "    <tr>\n",
       "      <th>2</th>\n",
       "      <td>10</td>\n",
       "      <td>0.123256</td>\n",
       "    </tr>\n",
       "    <tr>\n",
       "      <th>3</th>\n",
       "      <td>12</td>\n",
       "      <td>0.169727</td>\n",
       "    </tr>\n",
       "  </tbody>\n",
       "</table>\n",
       "</div>"
      ],
      "text/plain": [
       "   [Tubulin] $(\\mu M)$  Std Dev.\n",
       "0                    6  0.099268\n",
       "1                    8  0.108193\n",
       "2                   10  0.123256\n",
       "3                   12  0.169727"
      ]
     },
     "execution_count": 10,
     "metadata": {},
     "output_type": "execute_result"
    }
   ],
   "source": [
    "GRstd='Std Dev.'\n",
    "dfstd=df.groupby(tubulin, as_index=False).std()\n",
    "dfstd.rename(columns={GrowthRate:GRstd}, inplace=True)\n",
    "dfstd"
   ]
  },
  {
   "cell_type": "code",
   "execution_count": 11,
   "id": "27736d6f-8319-410a-bb78-c2afeb968c83",
   "metadata": {},
   "outputs": [
    {
     "data": {
      "text/html": [
       "<div>\n",
       "<style scoped>\n",
       "    .dataframe tbody tr th:only-of-type {\n",
       "        vertical-align: middle;\n",
       "    }\n",
       "\n",
       "    .dataframe tbody tr th {\n",
       "        vertical-align: top;\n",
       "    }\n",
       "\n",
       "    .dataframe thead th {\n",
       "        text-align: right;\n",
       "    }\n",
       "</style>\n",
       "<table border=\"1\" class=\"dataframe\">\n",
       "  <thead>\n",
       "    <tr style=\"text-align: right;\">\n",
       "      <th></th>\n",
       "      <th>[Tubulin] $(\\mu M)$</th>\n",
       "      <th>Mean Growth Rate$(\\mu m / min)$</th>\n",
       "      <th>Std Dev.</th>\n",
       "    </tr>\n",
       "  </thead>\n",
       "  <tbody>\n",
       "    <tr>\n",
       "      <th>0</th>\n",
       "      <td>6</td>\n",
       "      <td>0.403111</td>\n",
       "      <td>0.099268</td>\n",
       "    </tr>\n",
       "    <tr>\n",
       "      <th>1</th>\n",
       "      <td>8</td>\n",
       "      <td>0.623198</td>\n",
       "      <td>0.108193</td>\n",
       "    </tr>\n",
       "    <tr>\n",
       "      <th>2</th>\n",
       "      <td>10</td>\n",
       "      <td>0.842666</td>\n",
       "      <td>0.123256</td>\n",
       "    </tr>\n",
       "    <tr>\n",
       "      <th>3</th>\n",
       "      <td>12</td>\n",
       "      <td>1.098787</td>\n",
       "      <td>0.169727</td>\n",
       "    </tr>\n",
       "  </tbody>\n",
       "</table>\n",
       "</div>"
      ],
      "text/plain": [
       "   [Tubulin] $(\\mu M)$  Mean Growth Rate$(\\mu m / min)$  Std Dev.\n",
       "0                    6                         0.403111  0.099268\n",
       "1                    8                         0.623198  0.108193\n",
       "2                   10                         0.842666  0.123256\n",
       "3                   12                         1.098787  0.169727"
      ]
     },
     "execution_count": 11,
     "metadata": {},
     "output_type": "execute_result"
    }
   ],
   "source": [
    "dferr=pd.merge(dfmn,dfstd)\n",
    "dferr"
   ]
  },
  {
   "cell_type": "markdown",
   "id": "cdfde2e3-87ca-4a6a-b59b-4517e5064589",
   "metadata": {},
   "source": [
    "## Plotting"
   ]
  },
  {
   "cell_type": "code",
   "execution_count": 12,
   "id": "0d443aa6-e7b5-4db5-a6df-b129fd91d60f",
   "metadata": {},
   "outputs": [
    {
     "data": {
      "text/plain": [
       "<matplotlib.collections.PathCollection at 0x267f10cc460>"
      ]
     },
     "execution_count": 12,
     "metadata": {},
     "output_type": "execute_result"
    },
    {
     "data": {
      "image/png": "[encoded data removed]",
      "text/plain": [
       "<Figure size 432x288 with 1 Axes>"
      ]
     },
     "metadata": {},
     "output_type": "display_data"
    }
   ],
   "source": [
    "plt.scatter(x=tubulin,y=GRmn,s=85,c=green,marker='v',data=dferr)"
   ]
  },
  {
   "cell_type": "code",
   "execution_count": 66,
   "id": "7838e0fb-0f69-47a3-9ff9-4951a605096b",
   "metadata": {},
   "outputs": [
    {
     "data": {
      "text/plain": [
       "<matplotlib.legend.Legend at 0x1c7cebfecd0>"
      ]
     },
     "execution_count": 66,
     "metadata": {},
     "output_type": "execute_result"
    },
    {
     "data": {
      "image/png": "[encoded data removed]",
      "text/plain": [
       "<Figure size 400x400 with 1 Axes>"
      ]
     },
     "metadata": {},
     "output_type": "display_data"
    }
   ],
   "source": [
    "fig = plt.figure(figsize=(2,2), dpi=200)\n",
    "ax = plt.subplot(111)\n",
    "ax.spines['right'].set_visible(False)\n",
    "ax.spines['top'].set_visible(False)\n",
    "ax.spines['left'].set_lw(1)\n",
    "ax.spines['bottom'].set_lw(1)\n",
    "ax.tick_params(axis='both', width = 1, length = 3)\n",
    "plt.xticks(fontsize=7)\n",
    "plt.yticks(fontsize=7)\n",
    "ax.set_xlabel(tubulin,fontsize=7)\n",
    "ax.set_ylabel(GrowthRate, fontsize=7)\n",
    "\n",
    "x=data[tubulin]\n",
    "y=data[GrowthRate]\n",
    "\n",
    "\n",
    "plt.xlim(0, 14)\n",
    "plt.ylim(0, 2)\n",
    "\n",
    "ax.xaxis.set_major_locator(MaxNLocator(7))\n",
    "ax.yaxis.set_major_locator(MaxNLocator(6))\n",
    "\n",
    "slope, intercept, r_value, p_value, std_err = stats.linregress(x,y)\n",
    "line = slope*x+intercept\n",
    "plt.plot(x,line,grey,label='y={:.2f}x+{:.2f}'.format(slope,intercept))\n",
    "#end\n",
    "\n",
    "plt.scatter(x,y, marker='.',c=cyan, s=0.5)\n",
    "plt.legend(fontsize=5)\n",
    "\n"
   ]
  },
  {
   "cell_type": "code",
   "execution_count": 67,
   "id": "11e8f372-5c5e-43ca-9b67-c48d57007ad3",
   "metadata": {},
   "outputs": [
    {
     "data": {
      "text/plain": [
       "array([ 6,  6,  6,  6,  6,  6,  6,  6,  6,  6,  6,  6,  6,  6,  6,  6,  6,\n",
       "        6,  6,  6,  6,  6,  6,  6,  6,  6,  6,  6,  6,  6,  6,  6,  6,  6,\n",
       "        6,  6,  6,  6,  6,  6,  6,  6,  6,  6,  6,  6,  6,  6,  6,  6,  6,\n",
       "        6,  6,  6,  6,  6,  6,  6,  6,  6,  6,  6,  6,  6,  6,  6,  6,  6,\n",
       "        6,  6,  6,  6,  6,  6,  6,  6,  6,  6,  6,  6,  6,  6,  6,  6,  6,\n",
       "        6,  6,  6,  6,  6,  6,  6,  6,  6,  6,  6,  6,  6,  6,  6,  6,  6,\n",
       "        6,  6,  6,  6,  6,  6,  6,  6,  6,  6,  6,  6,  6,  6,  6,  6,  6,\n",
       "        6,  6,  6,  6,  6,  6,  6,  6,  6,  6,  6,  6,  6,  6,  6,  6,  6,\n",
       "        6,  6,  6,  6,  6,  6,  6,  6,  6,  6,  6,  8,  8,  8,  8,  8,  8,\n",
       "        8,  8,  8,  8,  8,  8,  8,  8,  8,  8,  8,  8,  8,  8,  8,  8,  8,\n",
       "        8,  8,  8,  8,  8,  8,  8,  8,  8,  8,  8,  8,  8,  8,  8,  8,  8,\n",
       "        8,  8,  8,  8,  8,  8,  8,  8,  8,  8,  8,  8,  8,  8,  8,  8,  8,\n",
       "        8,  8,  8,  8,  8,  8,  8,  8,  8,  8,  8,  8,  8,  8,  8,  8,  8,\n",
       "        8,  8,  8,  8,  8,  8,  8,  8,  8,  8,  8,  8,  8,  8,  8,  8,  8,\n",
       "        8,  8,  8,  8,  8,  8,  8,  8,  8,  8,  8,  8,  8,  8,  8,  8,  8,\n",
       "        8,  8,  8,  8,  8,  8,  8,  8,  8,  8,  8,  8,  8,  8,  8,  8,  8,\n",
       "        8,  8,  8,  8,  8,  8,  8,  8,  8,  8,  8,  8,  8,  8,  8,  8,  8,\n",
       "        8,  8,  8,  8,  8,  8,  8,  8,  8,  8,  8,  8,  8,  8,  8,  8,  8,\n",
       "        8,  8,  8,  8,  8,  8,  8,  8,  8,  8,  8,  8,  8,  8,  8,  8,  8,\n",
       "        8,  8,  8,  8,  8,  8,  8,  8,  8,  8,  8,  8,  8,  8,  8,  8,  8,\n",
       "        8,  8,  8,  8,  8,  8,  8,  8,  8,  8,  8,  8,  8,  8,  8,  8,  8,\n",
       "        8,  8,  8,  8,  8,  8,  8,  8,  8,  8,  8,  8,  8,  8,  8,  8,  8,\n",
       "        8,  8,  8,  8,  8,  8,  8,  8,  8,  8,  8,  8,  8,  8,  8,  8,  8,\n",
       "       10, 10, 10, 10, 10, 10, 10, 10, 10, 10, 10, 10, 10, 10, 10, 10, 10,\n",
       "       10, 10, 10, 10, 10, 10, 10, 10, 10, 10, 10, 10, 10, 10, 10, 10, 10,\n",
       "       10, 10, 10, 10, 10, 10, 10, 10, 10, 10, 10, 10, 10, 10, 10, 10, 10,\n",
       "       10, 10, 10, 10, 10, 12, 12, 12, 12, 12, 12, 12, 12, 12, 12, 12, 12,\n",
       "       12, 12, 12, 12, 12, 12, 12, 12, 12, 12, 12, 12, 12, 12, 12, 12, 12,\n",
       "       12, 12, 12, 12, 12, 12, 12, 12, 12, 12, 12, 12, 12, 12, 12, 12, 12,\n",
       "       12, 12, 12, 12, 12, 12, 12, 12, 12, 12, 12, 12, 12, 12, 12, 12, 12,\n",
       "       12, 12, 12, 12, 12, 12, 12, 12, 12, 12, 12, 12, 12, 12, 12, 12, 12,\n",
       "       12, 12, 12, 12, 12, 12, 12, 12, 12, 12, 12, 12, 12, 12, 12, 12, 12,\n",
       "       12, 12], dtype=int64)"
      ]
     },
     "execution_count": 67,
     "metadata": {},
     "output_type": "execute_result"
    }
   ],
   "source": [
    "data[tubulin].values"
   ]
  },
  {
   "cell_type": "markdown",
   "id": "b311a094-93de-463b-907f-49f7ba0e9835",
   "metadata": {},
   "source": [
    "\n",
    "## Violin Plots"
   ]
  },
  {
   "cell_type": "code",
   "execution_count": 68,
   "id": "de2dfd9b-ee53-4331-a491-d016141728a0",
   "metadata": {},
   "outputs": [
    {
     "data": {
      "text/plain": [
       "[Tubulin] $(\\mu M)$\n",
       "6     [0.329069686, 0.31192304, 0.303997126, 0.46181...\n",
       "8     [0.456744451, 0.481657784, 0.507143838, 0.6168...\n",
       "10    [0.932859798, 0.721378512, 1.030684015, 0.7874...\n",
       "12    [1.115622616, 0.940699209, 0.898498314, 1.0291...\n",
       "Name: Growth Rate $(\\mu m / min)$, dtype: object"
      ]
     },
     "execution_count": 68,
     "metadata": {},
     "output_type": "execute_result"
    }
   ],
   "source": [
    "df1=(data.groupby(tubulin)[GrowthRate].agg(lambda x:list(x)))\n",
    "df1"
   ]
  },
  {
   "cell_type": "code",
   "execution_count": 69,
   "id": "9e2dfeb4-20a0-4bed-b692-be23cb70ea78",
   "metadata": {},
   "outputs": [
    {
     "data": {
      "text/plain": [
       "Int64Index([6, 8, 10, 12], dtype='int64', name='[Tubulin] $(\\mu M)$')"
      ]
     },
     "execution_count": 69,
     "metadata": {},
     "output_type": "execute_result"
    }
   ],
   "source": [
    "df1.index"
   ]
  },
  {
   "cell_type": "code",
   "execution_count": 76,
   "id": "44f85e69-4bfd-4861-9940-71eb3321879f",
   "metadata": {},
   "outputs": [
    {
     "data": {
      "image/png": "[encoded data removed]",
      "text/plain": [
       "<Figure size 432x288 with 1 Axes>"
      ]
     },
     "metadata": {},
     "output_type": "display_data"
    }
   ],
   "source": [
    "labels = df1.index\n",
    "fig, ax = plt.subplots()\n",
    "\n",
    "# ax.set_title('[Tubulin] vs Growth Rate', fontsize=20)\n",
    "\n",
    "ax.violinplot(df1)\n",
    "ax.set_xticks(np.arange(1, len(labels) + 1), labels=labels)\n",
    "ax.set_xlabel(tubulin, fontsize=16)\n",
    "ax.set_ylabel(GrowthRate, fontsize=16)\n",
    "ax.tick_params(axis='both', width = 3.5, length = 7, labelsize=16)\n",
    "plt.tight_layout()\n",
    "fig.savefig(newmydir/('GrowthRate_violin.jpg'))"
   ]
  },
  {
   "cell_type": "code",
   "execution_count": null,
   "id": "5913a5d8-8363-4a8a-a4ac-a9eb9a447a12",
   "metadata": {},
   "outputs": [],
   "source": []
  },
  {
   "cell_type": "code",
   "execution_count": null,
   "id": "50a9cbd8-64fe-4bf0-bbe8-c5f01a4bef0b",
   "metadata": {},
   "outputs": [],
   "source": []
  }
 ],
 "metadata": {
  "kernelspec": {
   "display_name": "Python 3 (ipykernel)",
   "language": "python",
   "name": "python3"
  },
  "language_info": {
   "codemirror_mode": {
    "name": "ipython",
    "version": 3
   },
   "file_extension": ".py",
   "mimetype": "text/x-python",
   "name": "python",
   "nbconvert_exporter": "python",
   "pygments_lexer": "ipython3",
   "version": "3.9.12"
  }
 },
 "nbformat": 4,
 "nbformat_minor": 5
}
