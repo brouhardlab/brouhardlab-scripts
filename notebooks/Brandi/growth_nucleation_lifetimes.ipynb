{
 "cells": [
  {
   "cell_type": "code",
   "execution_count": 1,
   "metadata": {},
   "outputs": [],
   "source": [
    "import numpy as np\n",
    "import matplotlib.pyplot as plt\n",
    "import csv\n",
    "import pandas as pd\n",
    "from pathlib import Path\n",
    "from read_roi import read_roi_zip\n",
    "from collections import OrderedDict, Counter\n",
    "import math\n",
    "import PIL\n",
    "from PIL import Image\n",
    "from PIL.TiffTags import TAGS\n",
    "import tkinter as tk\n",
    "from tkinter import filedialog\n",
    "import seaborn as sns"
   ]
  },
  {
   "cell_type": "markdown",
   "metadata": {},
   "source": [
    "# Read, format and save raw data from ROIs #"
   ]
  },
  {
   "cell_type": "code",
   "execution_count": 2,
   "metadata": {},
   "outputs": [
    {
     "data": {
      "text/plain": [
       "WindowsPath('F:/Data/Images/2022-08-12_dynamics/2022-08-12_dynamics_Ch4-10uM-T2')"
      ]
     },
     "execution_count": 2,
     "metadata": {},
     "output_type": "execute_result"
    }
   ],
   "source": [
    "askdirectory = filedialog.askdirectory() # show an \"Open\" dialog box and return the path to the selected file\n",
    "path = Path(askdirectory)\n",
    "path"
   ]
  },
  {
   "cell_type": "code",
   "execution_count": 3,
   "metadata": {},
   "outputs": [],
   "source": [
    "tubulin = '[Tubulin] ' r'$(\\mu M)$'\n",
    "tub = 'tub'\n",
    "\n",
    "DCXconc = '[DCX] ' r'$(n M)$'\n",
    "DCX = 'DCX'\n",
    "\n",
    "investigator = 'Brandy'"
   ]
  },
  {
   "cell_type": "code",
   "execution_count": 13,
   "metadata": {},
   "outputs": [
    {
     "data": {
      "text/plain": [
       "('2022-08-12', ['4'], ['10'])"
      ]
     },
     "execution_count": 13,
     "metadata": {},
     "output_type": "execute_result"
    }
   ],
   "source": [
    "dateloc = str(path).find(\"202\")\n",
    "date = str(path)[dateloc : dateloc+10]\n",
    "\n",
    "folders = [x for x in path.iterdir() if x.is_dir()]\n",
    "folders = [i for i in folders if (str(i)[-5:] == 'FINAL') == True]\n",
    "\n",
    "ch = []\n",
    "conc_tub = []\n",
    "conc_DCX = []\n",
    "DCX_type = []\n",
    "\n",
    "for i in folders:\n",
    "    CHloc = str(i).rfind(\"Ch\")\n",
    "    tubloc = str(i).rfind(tub)\n",
    "    #DCXloc = str(i).rfind(DCX)\n",
    "    #dcxtype = str(i).find(\"type\")\n",
    "    ch = ch + [str(i)[CHloc+2:CHloc+3]]\n",
    "    conc_tub = conc_tub + [(str(i)[tubloc+3:tubloc+5])]\n",
    "    #conc_DCX = conc_DCX + [(str(i)[DCXloc+3:DCXloc+6])]\n",
    "    #DCX_type = DCX_type + [(str(i)[dcxtype+4:DCXloc-1])]\n",
    "\n",
    "date,ch, conc_tub#, conc_DCX, DCX_type\n"
   ]
  },
  {
   "cell_type": "code",
   "execution_count": 22,
   "metadata": {},
   "outputs": [
    {
     "data": {
      "text/plain": [
       "[WindowsPath('F:/Data/Images/2022-08-12_dynamics/2022-08-12_dynamics_Ch4-10uM-T2/2022-08-12_dynamics_Ch4-tub10uM_FINAL')]"
      ]
     },
     "execution_count": 22,
     "metadata": {},
     "output_type": "execute_result"
    }
   ],
   "source": [
    "tub_conc =  [float(i) for i in conc_tub]\n",
    "#DCX_conc =  [float(i) for i in conc_DCX]\n",
    "frame_analyzer = pd.read_csv(path/'frame_rates_avg.csv',sep=',')\n",
    "pixel =  0.107 #T2 0.107 #T1 0.0633\n",
    "folders"
   ]
  },
  {
   "cell_type": "code",
   "execution_count": 23,
   "metadata": {},
   "outputs": [
    {
     "data": {
      "text/html": [
       "<div>\n",
       "<style scoped>\n",
       "    .dataframe tbody tr th:only-of-type {\n",
       "        vertical-align: middle;\n",
       "    }\n",
       "\n",
       "    .dataframe tbody tr th {\n",
       "        vertical-align: top;\n",
       "    }\n",
       "\n",
       "    .dataframe thead th {\n",
       "        text-align: right;\n",
       "    }\n",
       "</style>\n",
       "<table border=\"1\" class=\"dataframe\">\n",
       "  <thead>\n",
       "    <tr style=\"text-align: right;\">\n",
       "      <th></th>\n",
       "      <th>Directory</th>\n",
       "      <th>Mean</th>\n",
       "      <th>SD</th>\n",
       "      <th>Frames</th>\n",
       "      <th>Outliers</th>\n",
       "      <th>MeanWOutliers</th>\n",
       "      <th>SDWOutliers</th>\n",
       "    </tr>\n",
       "  </thead>\n",
       "  <tbody>\n",
       "    <tr>\n",
       "      <th>0</th>\n",
       "      <td>F:\\Data\\Images\\2022-08-12_dynamics\\2022-08-12_...</td>\n",
       "      <td>5.04</td>\n",
       "      <td>0.02</td>\n",
       "      <td>400</td>\n",
       "      <td>1</td>\n",
       "      <td>10.31</td>\n",
       "      <td>105.43</td>\n",
       "    </tr>\n",
       "  </tbody>\n",
       "</table>\n",
       "</div>"
      ],
      "text/plain": [
       "                                           Directory  Mean    SD  Frames  \\\n",
       "0  F:\\Data\\Images\\2022-08-12_dynamics\\2022-08-12_...  5.04  0.02     400   \n",
       "\n",
       "   Outliers  MeanWOutliers  SDWOutliers  \n",
       "0         1          10.31       105.43  "
      ]
     },
     "execution_count": 23,
     "metadata": {},
     "output_type": "execute_result"
    }
   ],
   "source": [
    "#frame_analyzer = frame_analyzer.iloc[[1,3]].reset_index()\n",
    "frame_analyzer"
   ]
  },
  {
   "cell_type": "code",
   "execution_count": 24,
   "metadata": {},
   "outputs": [],
   "source": [
    "def open_roi_poly(k,name):\n",
    "    roi_path = folders[k]/(name)\n",
    "\n",
    "    roi_data = read_roi_zip(roi_path)\n",
    "    roi_df = pd.DataFrame(columns=['Track ID','x1','x2','x3','y1','y2','y3'])\n",
    "    for key in roi_data:\n",
    "        roi_df = roi_df.append({'Track ID': roi_data[key]['name'],'x1': roi_data[key]['x'][0],'x2': roi_data[key]['x'][1],'x3': roi_data[key]['x'][2],'y1': roi_data[key]['y'][0],'y2': roi_data[key]['y'][1],'y3': roi_data[key]['y'][2]}, ignore_index=True)\n",
    "    return roi_df\n",
    "\n",
    "def open_roi_line(k,name):\n",
    "    roi_path = folders[k]/(name)\n",
    "\n",
    "    roi_data = read_roi_zip(roi_path)\n",
    "    roi_df = pd.DataFrame(columns=['Track ID','x1','x2','y1','y2'])\n",
    "    for key in roi_data:\n",
    "        roi_df = roi_df.append({'Track ID': roi_data[key]['name'],'x1': roi_data[key]['x1'],'x2': roi_data[key]['x2'],'y1': roi_data[key]['y1'],'y2': roi_data[key]['y2']}, ignore_index=True)\n",
    "    return roi_df"
   ]
  },
  {
   "cell_type": "code",
   "execution_count": 26,
   "metadata": {},
   "outputs": [
    {
     "data": {
      "text/html": [
       "<div>\n",
       "<style scoped>\n",
       "    .dataframe tbody tr th:only-of-type {\n",
       "        vertical-align: middle;\n",
       "    }\n",
       "\n",
       "    .dataframe tbody tr th {\n",
       "        vertical-align: top;\n",
       "    }\n",
       "\n",
       "    .dataframe thead th {\n",
       "        text-align: right;\n",
       "    }\n",
       "</style>\n",
       "<table border=\"1\" class=\"dataframe\">\n",
       "  <thead>\n",
       "    <tr style=\"text-align: right;\">\n",
       "      <th></th>\n",
       "      <th>Track ID</th>\n",
       "      <th>x1</th>\n",
       "      <th>x2</th>\n",
       "      <th>x3</th>\n",
       "      <th>y1</th>\n",
       "      <th>y2</th>\n",
       "      <th>y3</th>\n",
       "    </tr>\n",
       "  </thead>\n",
       "  <tbody>\n",
       "    <tr>\n",
       "      <th>0</th>\n",
       "      <td>0107-0100</td>\n",
       "      <td>43</td>\n",
       "      <td>158</td>\n",
       "      <td>41</td>\n",
       "      <td>13</td>\n",
       "      <td>195</td>\n",
       "      <td>201</td>\n",
       "    </tr>\n",
       "    <tr>\n",
       "      <th>1</th>\n",
       "      <td>0259-0081</td>\n",
       "      <td>39</td>\n",
       "      <td>123</td>\n",
       "      <td>45</td>\n",
       "      <td>201</td>\n",
       "      <td>312</td>\n",
       "      <td>316</td>\n",
       "    </tr>\n",
       "    <tr>\n",
       "      <th>2</th>\n",
       "      <td>0351-0063</td>\n",
       "      <td>46</td>\n",
       "      <td>84</td>\n",
       "      <td>42</td>\n",
       "      <td>316</td>\n",
       "      <td>385</td>\n",
       "      <td>385</td>\n",
       "    </tr>\n",
       "    <tr>\n",
       "      <th>3</th>\n",
       "      <td>0287-0080</td>\n",
       "      <td>128</td>\n",
       "      <td>28</td>\n",
       "      <td>131</td>\n",
       "      <td>201</td>\n",
       "      <td>368</td>\n",
       "      <td>373</td>\n",
       "    </tr>\n",
       "    <tr>\n",
       "      <th>4</th>\n",
       "      <td>0045-0081</td>\n",
       "      <td>55</td>\n",
       "      <td>106</td>\n",
       "      <td>58</td>\n",
       "      <td>15</td>\n",
       "      <td>74</td>\n",
       "      <td>75</td>\n",
       "    </tr>\n",
       "    <tr>\n",
       "      <th>5</th>\n",
       "      <td>0177-0121</td>\n",
       "      <td>58</td>\n",
       "      <td>188</td>\n",
       "      <td>53</td>\n",
       "      <td>72</td>\n",
       "      <td>269</td>\n",
       "      <td>281</td>\n",
       "    </tr>\n",
       "    <tr>\n",
       "      <th>6</th>\n",
       "      <td>0167-0136</td>\n",
       "      <td>28</td>\n",
       "      <td>245</td>\n",
       "      <td>26</td>\n",
       "      <td>13</td>\n",
       "      <td>308</td>\n",
       "      <td>321</td>\n",
       "    </tr>\n",
       "    <tr>\n",
       "      <th>7</th>\n",
       "      <td>0035-0044</td>\n",
       "      <td>30</td>\n",
       "      <td>58</td>\n",
       "      <td>30</td>\n",
       "      <td>13</td>\n",
       "      <td>56</td>\n",
       "      <td>56</td>\n",
       "    </tr>\n",
       "    <tr>\n",
       "      <th>8</th>\n",
       "      <td>0134-0077</td>\n",
       "      <td>29</td>\n",
       "      <td>127</td>\n",
       "      <td>27</td>\n",
       "      <td>56</td>\n",
       "      <td>208</td>\n",
       "      <td>211</td>\n",
       "    </tr>\n",
       "    <tr>\n",
       "      <th>9</th>\n",
       "      <td>0287-0067</td>\n",
       "      <td>30</td>\n",
       "      <td>107</td>\n",
       "      <td>27</td>\n",
       "      <td>212</td>\n",
       "      <td>356</td>\n",
       "      <td>362</td>\n",
       "    </tr>\n",
       "  </tbody>\n",
       "</table>\n",
       "</div>"
      ],
      "text/plain": [
       "    Track ID   x1   x2   x3   y1   y2   y3\n",
       "0  0107-0100   43  158   41   13  195  201\n",
       "1  0259-0081   39  123   45  201  312  316\n",
       "2  0351-0063   46   84   42  316  385  385\n",
       "3  0287-0080  128   28  131  201  368  373\n",
       "4  0045-0081   55  106   58   15   74   75\n",
       "5  0177-0121   58  188   53   72  269  281\n",
       "6  0167-0136   28  245   26   13  308  321\n",
       "7  0035-0044   30   58   30   13   56   56\n",
       "8  0134-0077   29  127   27   56  208  211\n",
       "9  0287-0067   30  107   27  212  356  362"
      ]
     },
     "execution_count": 26,
     "metadata": {},
     "output_type": "execute_result"
    }
   ],
   "source": [
    "open_roi_poly(0,'2022-08-12_Ch4-10uM_kymo-set1.zip')"
   ]
  },
  {
   "cell_type": "code",
   "execution_count": 25,
   "metadata": {},
   "outputs": [],
   "source": [
    "Length = 'Length ' r'$(\\mu m)$'\n",
    "Lifetime = 'Lifetime ' r'$(min)$'\n",
    "GrowthRate = 'Growth Rate ' r'$(\\mu m / min)$'\n",
    "TimeToNucleate = 'Time to Nucleate ' r'$(min)$'\n",
    "ShrinkageLength = 'Shrink Length ' r'$(\\mu m)$'\n",
    "ShrinkageLifetime = 'Shrink Lifetime ' r'$(min)$'\n",
    "ShrinkageRate = 'Shrink Rate ' r'$(\\mu m / min)$'\n",
    "poly_parameter_names = (Length,Lifetime,GrowthRate,TimeToNucleate)\n",
    "line_parameter_names = (Length,Lifetime,GrowthRate,TimeToNucleate,ShrinkageLength,ShrinkageLifetime,ShrinkageRate)"
   ]
  },
  {
   "cell_type": "code",
   "execution_count": 27,
   "metadata": {},
   "outputs": [],
   "source": [
    "def poly_dynamics(k):\n",
    "        \n",
    "    data = open_roi_poly(k,'2022-08-12_Ch4-10uM_kymo-set1.zip')\n",
    "    supp = open_roi_line(k,'start.zip')\n",
    "    \n",
    "    spf = frame_analyzer['Mean'][k];\n",
    "    frames = frame_analyzer['Frames'][k]\n",
    "    \n",
    "    suppn = len(supp)\n",
    "    start = sum(abs(supp['y2']-supp['y1']))/suppn;\n",
    "    \n",
    "    n = len(data)\n",
    "    pre_df = {'Date': np.full((n), date), 'Investigator': np.full((n), investigator),\n",
    "              'CH': np.full((n), ch[k]),tubulin: np.full((n), tub_conc[k])}\n",
    "    df = pd.DataFrame(pre_df) \n",
    "    \n",
    "    df[Length] = abs((data['x2']-data['x1'])*pixel)\n",
    "    \n",
    "    data[Lifetime] = abs((data['y2']-data['y1'])*spf/60)\n",
    "    df[Lifetime] = data[[Lifetime,'y2']].apply(lambda x: x[Lifetime] if x['y2'] < frames else np.NaN, axis=1)\n",
    "    df[Lifetime] = data[[Lifetime,'y2']].apply(lambda x: x[Lifetime] if x[Lifetime] != 0 else np.NaN, axis=1)\n",
    "    \n",
    "    df[GrowthRate] = df[Length]/df[Lifetime]\n",
    "    df[GrowthRate] = df[GrowthRate].apply(lambda x: x if x <= 5 else np.NAN )\n",
    "    \n",
    "    df[TimeToNucleate] = (data['y1']-start)*spf/60\n",
    "    \n",
    "    df[ShrinkageLength] = abs((data['x3']-data['x2'])*pixel)\n",
    "    df[ShrinkageLifetime] = abs((data['y3']-data['y2'])*spf/60)\n",
    "    df[ShrinkageLifetime] = df[ShrinkageLifetime].apply(lambda x: np.NAN if x == 0 else x)\n",
    "    df[ShrinkageRate] = df[ShrinkageLength]/df[ShrinkageLifetime]\n",
    "    \n",
    "    df.loc[pd.isnull(df[GrowthRate]), \n",
    "           [Length,Lifetime,TimeToNucleate,ShrinkageLength,ShrinkageLifetime,ShrinkageRate]] = np.NaN\n",
    "    \n",
    "    df['Rescues'] = df[[Length,ShrinkageLength]].apply(lambda x: True if abs(x[Length]-x[ShrinkageLength]) > pixel*5 else False, axis=1)\n",
    "    \n",
    "    \n",
    "    return df\n",
    "\n",
    "def line_dynamics(k):\n",
    "        \n",
    "    data = open_roi_line(k,'kymoslopes.zip')\n",
    "    #data_even = data.iloc[::2].reset_index()\n",
    "    #data_odd = data.iloc[1::2].reset_index()\n",
    "    data_even = data\n",
    "    data_odd = data\n",
    "    \n",
    "    supp = open_roi_line(k,'start.zip')\n",
    "    \n",
    "    spf = frame_analyzer['Mean'][k];\n",
    "    frames = frame_analyzer['Frames'][k]-2\n",
    "    \n",
    "    suppn = len(supp)\n",
    "    start = sum(abs(supp['y2']-supp['y1']))/suppn;\n",
    "    \n",
    "    n = len(data_even)\n",
    "    pre_df = {'Date': np.full((n), date),'CH': np.full((n), ch[k]),'Concentration ' r'$(\\mu M)$': np.full((n), conc[k])}\n",
    "    df = pd.DataFrame(pre_df) \n",
    "    \n",
    "    data_even[Length] = abs((data_even['x2']-data_even['x1'])*pixel)\n",
    "    data_even[Lifetime] = abs((data_even['y2']-data_even['y1'])*spf/60)\n",
    "    df[GrowthRate] = data_even[Length]/data_even[Lifetime]\n",
    "    df[GrowthRate] = df[GrowthRate].apply(lambda x: x if x <= 5 else np.NaN )\n",
    "    \n",
    "    data[Lifetime] = abs((data_odd['y2']-data_odd['y1'])*spf/60)\n",
    "    df[Lifetime] = data[[Lifetime,'y2']].apply(lambda x: x[Lifetime] if x['y2'] < frames else np.NaN, axis=1)\n",
    "    \n",
    "    df[Length] = df[GrowthRate]*df[Lifetime]\n",
    "    \n",
    "    df[TimeToNucleate] = ((data_odd[['y1','y2']].min(axis=1))-start)*spf/60\n",
    "    \n",
    "    df.loc[pd.isnull(df[GrowthRate]), [Length,Lifetime,TimeToNucleate]] = np.NaN\n",
    "    \n",
    "    df = df[['Date','CH','Concentration ' r'$(\\mu M)$',Length,Lifetime,GrowthRate,TimeToNucleate]]\n",
    "        \n",
    "    return df"
   ]
  },
  {
   "cell_type": "code",
   "execution_count": 29,
   "metadata": {},
   "outputs": [
    {
     "data": {
      "text/plain": [
       "(WindowsPath('F:/Data/Images/2022-08-12_dynamics'),\n",
       " WindowsPath('F:/Data/Images/2022-08-12_dynamics/2022-08-12_dynamics_Ch4-10uM-T2'))"
      ]
     },
     "execution_count": 29,
     "metadata": {},
     "output_type": "execute_result"
    }
   ],
   "source": [
    "path.parents[0],path"
   ]
  },
  {
   "cell_type": "code",
   "execution_count": 13,
   "metadata": {},
   "outputs": [],
   "source": [
    "# newdirectory = str(path.parents[0])+'//Data_Sheets'\n",
    "# newmydir = Path(newdirectory)\n",
    "# newmydir.mkdir(exist_ok=True)"
   ]
  },
  {
   "cell_type": "code",
   "execution_count": 30,
   "metadata": {},
   "outputs": [
    {
     "data": {
      "text/html": [
       "<div>\n",
       "<style scoped>\n",
       "    .dataframe tbody tr th:only-of-type {\n",
       "        vertical-align: middle;\n",
       "    }\n",
       "\n",
       "    .dataframe tbody tr th {\n",
       "        vertical-align: top;\n",
       "    }\n",
       "\n",
       "    .dataframe thead th {\n",
       "        text-align: right;\n",
       "    }\n",
       "</style>\n",
       "<table border=\"1\" class=\"dataframe\">\n",
       "  <thead>\n",
       "    <tr style=\"text-align: right;\">\n",
       "      <th></th>\n",
       "      <th>Date</th>\n",
       "      <th>Investigator</th>\n",
       "      <th>CH</th>\n",
       "      <th>[Tubulin] $(\\mu M)$</th>\n",
       "      <th>Length $(\\mu m)$</th>\n",
       "      <th>Lifetime $(min)$</th>\n",
       "      <th>Growth Rate $(\\mu m / min)$</th>\n",
       "      <th>Time to Nucleate $(min)$</th>\n",
       "      <th>Shrink Length $(\\mu m)$</th>\n",
       "      <th>Shrink Lifetime $(min)$</th>\n",
       "      <th>Shrink Rate $(\\mu m / min)$</th>\n",
       "      <th>Rescues</th>\n",
       "    </tr>\n",
       "  </thead>\n",
       "  <tbody>\n",
       "    <tr>\n",
       "      <th>0</th>\n",
       "      <td>2022-08-12</td>\n",
       "      <td>Brandy</td>\n",
       "      <td>4</td>\n",
       "      <td>10.0</td>\n",
       "      <td>12.305</td>\n",
       "      <td>15.288</td>\n",
       "      <td>0.804880</td>\n",
       "      <td>-0.0735</td>\n",
       "      <td>12.519</td>\n",
       "      <td>0.504</td>\n",
       "      <td>24.839286</td>\n",
       "      <td>False</td>\n",
       "    </tr>\n",
       "    <tr>\n",
       "      <th>1</th>\n",
       "      <td>2022-08-12</td>\n",
       "      <td>Brandy</td>\n",
       "      <td>4</td>\n",
       "      <td>10.0</td>\n",
       "      <td>8.988</td>\n",
       "      <td>9.324</td>\n",
       "      <td>0.963964</td>\n",
       "      <td>15.7185</td>\n",
       "      <td>8.346</td>\n",
       "      <td>0.336</td>\n",
       "      <td>24.839286</td>\n",
       "      <td>True</td>\n",
       "    </tr>\n",
       "    <tr>\n",
       "      <th>2</th>\n",
       "      <td>2022-08-12</td>\n",
       "      <td>Brandy</td>\n",
       "      <td>4</td>\n",
       "      <td>10.0</td>\n",
       "      <td>4.066</td>\n",
       "      <td>5.796</td>\n",
       "      <td>0.701518</td>\n",
       "      <td>25.3785</td>\n",
       "      <td>4.494</td>\n",
       "      <td>NaN</td>\n",
       "      <td>NaN</td>\n",
       "      <td>False</td>\n",
       "    </tr>\n",
       "    <tr>\n",
       "      <th>3</th>\n",
       "      <td>2022-08-12</td>\n",
       "      <td>Brandy</td>\n",
       "      <td>4</td>\n",
       "      <td>10.0</td>\n",
       "      <td>10.7</td>\n",
       "      <td>14.028</td>\n",
       "      <td>0.762760</td>\n",
       "      <td>15.7185</td>\n",
       "      <td>11.021</td>\n",
       "      <td>0.420</td>\n",
       "      <td>26.240476</td>\n",
       "      <td>False</td>\n",
       "    </tr>\n",
       "    <tr>\n",
       "      <th>4</th>\n",
       "      <td>2022-08-12</td>\n",
       "      <td>Brandy</td>\n",
       "      <td>4</td>\n",
       "      <td>10.0</td>\n",
       "      <td>5.457</td>\n",
       "      <td>4.956</td>\n",
       "      <td>1.101090</td>\n",
       "      <td>0.0945</td>\n",
       "      <td>5.136</td>\n",
       "      <td>0.084</td>\n",
       "      <td>61.142857</td>\n",
       "      <td>False</td>\n",
       "    </tr>\n",
       "    <tr>\n",
       "      <th>5</th>\n",
       "      <td>2022-08-12</td>\n",
       "      <td>Brandy</td>\n",
       "      <td>4</td>\n",
       "      <td>10.0</td>\n",
       "      <td>13.91</td>\n",
       "      <td>16.548</td>\n",
       "      <td>0.840585</td>\n",
       "      <td>4.8825</td>\n",
       "      <td>14.445</td>\n",
       "      <td>1.008</td>\n",
       "      <td>14.330357</td>\n",
       "      <td>True</td>\n",
       "    </tr>\n",
       "    <tr>\n",
       "      <th>6</th>\n",
       "      <td>2022-08-12</td>\n",
       "      <td>Brandy</td>\n",
       "      <td>4</td>\n",
       "      <td>10.0</td>\n",
       "      <td>23.219</td>\n",
       "      <td>24.780</td>\n",
       "      <td>0.937006</td>\n",
       "      <td>-0.0735</td>\n",
       "      <td>23.433</td>\n",
       "      <td>1.092</td>\n",
       "      <td>21.458791</td>\n",
       "      <td>False</td>\n",
       "    </tr>\n",
       "    <tr>\n",
       "      <th>7</th>\n",
       "      <td>2022-08-12</td>\n",
       "      <td>Brandy</td>\n",
       "      <td>4</td>\n",
       "      <td>10.0</td>\n",
       "      <td>2.996</td>\n",
       "      <td>3.612</td>\n",
       "      <td>0.829457</td>\n",
       "      <td>-0.0735</td>\n",
       "      <td>2.996</td>\n",
       "      <td>NaN</td>\n",
       "      <td>NaN</td>\n",
       "      <td>False</td>\n",
       "    </tr>\n",
       "    <tr>\n",
       "      <th>8</th>\n",
       "      <td>2022-08-12</td>\n",
       "      <td>Brandy</td>\n",
       "      <td>4</td>\n",
       "      <td>10.0</td>\n",
       "      <td>10.486</td>\n",
       "      <td>12.768</td>\n",
       "      <td>0.821272</td>\n",
       "      <td>3.5385</td>\n",
       "      <td>10.7</td>\n",
       "      <td>0.252</td>\n",
       "      <td>42.460317</td>\n",
       "      <td>False</td>\n",
       "    </tr>\n",
       "    <tr>\n",
       "      <th>9</th>\n",
       "      <td>2022-08-12</td>\n",
       "      <td>Brandy</td>\n",
       "      <td>4</td>\n",
       "      <td>10.0</td>\n",
       "      <td>8.239</td>\n",
       "      <td>12.096</td>\n",
       "      <td>0.681134</td>\n",
       "      <td>16.6425</td>\n",
       "      <td>8.56</td>\n",
       "      <td>0.504</td>\n",
       "      <td>16.984127</td>\n",
       "      <td>False</td>\n",
       "    </tr>\n",
       "  </tbody>\n",
       "</table>\n",
       "</div>"
      ],
      "text/plain": [
       "         Date Investigator CH  [Tubulin] $(\\mu M)$ Length $(\\mu m)$  \\\n",
       "0  2022-08-12       Brandy  4                 10.0           12.305   \n",
       "1  2022-08-12       Brandy  4                 10.0            8.988   \n",
       "2  2022-08-12       Brandy  4                 10.0            4.066   \n",
       "3  2022-08-12       Brandy  4                 10.0             10.7   \n",
       "4  2022-08-12       Brandy  4                 10.0            5.457   \n",
       "5  2022-08-12       Brandy  4                 10.0            13.91   \n",
       "6  2022-08-12       Brandy  4                 10.0           23.219   \n",
       "7  2022-08-12       Brandy  4                 10.0            2.996   \n",
       "8  2022-08-12       Brandy  4                 10.0           10.486   \n",
       "9  2022-08-12       Brandy  4                 10.0            8.239   \n",
       "\n",
       "   Lifetime $(min)$  Growth Rate $(\\mu m / min)$ Time to Nucleate $(min)$  \\\n",
       "0            15.288                     0.804880                  -0.0735   \n",
       "1             9.324                     0.963964                  15.7185   \n",
       "2             5.796                     0.701518                  25.3785   \n",
       "3            14.028                     0.762760                  15.7185   \n",
       "4             4.956                     1.101090                   0.0945   \n",
       "5            16.548                     0.840585                   4.8825   \n",
       "6            24.780                     0.937006                  -0.0735   \n",
       "7             3.612                     0.829457                  -0.0735   \n",
       "8            12.768                     0.821272                   3.5385   \n",
       "9            12.096                     0.681134                  16.6425   \n",
       "\n",
       "  Shrink Length $(\\mu m)$  Shrink Lifetime $(min)$  \\\n",
       "0                  12.519                    0.504   \n",
       "1                   8.346                    0.336   \n",
       "2                   4.494                      NaN   \n",
       "3                  11.021                    0.420   \n",
       "4                   5.136                    0.084   \n",
       "5                  14.445                    1.008   \n",
       "6                  23.433                    1.092   \n",
       "7                   2.996                      NaN   \n",
       "8                    10.7                    0.252   \n",
       "9                    8.56                    0.504   \n",
       "\n",
       "  Shrink Rate $(\\mu m / min)$  Rescues  \n",
       "0                   24.839286    False  \n",
       "1                   24.839286     True  \n",
       "2                         NaN    False  \n",
       "3                   26.240476    False  \n",
       "4                   61.142857    False  \n",
       "5                   14.330357     True  \n",
       "6                   21.458791    False  \n",
       "7                         NaN    False  \n",
       "8                   42.460317    False  \n",
       "9                   16.984127    False  "
      ]
     },
     "execution_count": 30,
     "metadata": {},
     "output_type": "execute_result"
    }
   ],
   "source": [
    "df = poly_dynamics(0)\n",
    "for i in range(1,len(ch)):\n",
    "    df0 = poly_dynamics(i)\n",
    "    df = df.append(df0, ignore_index=True)\n",
    "\n",
    "df.to_csv(path/(investigator+'_'+date +'.csv'), encoding='utf-8', index=False)\n",
    "#df.to_csv(newmydir/(investigator+'_'+date+'.csv'), encoding='utf-8', index=False)\n",
    "df"
   ]
  },
  {
   "cell_type": "code",
   "execution_count": 31,
   "metadata": {},
   "outputs": [
    {
     "data": {
      "text/html": [
       "<div>\n",
       "<style scoped>\n",
       "    .dataframe tbody tr th:only-of-type {\n",
       "        vertical-align: middle;\n",
       "    }\n",
       "\n",
       "    .dataframe tbody tr th {\n",
       "        vertical-align: top;\n",
       "    }\n",
       "\n",
       "    .dataframe thead th {\n",
       "        text-align: right;\n",
       "    }\n",
       "</style>\n",
       "<table border=\"1\" class=\"dataframe\">\n",
       "  <thead>\n",
       "    <tr style=\"text-align: right;\">\n",
       "      <th></th>\n",
       "      <th>[Tubulin] $(\\mu M)$</th>\n",
       "      <th>Lifetime $(min)$</th>\n",
       "      <th>Growth Rate $(\\mu m / min)$</th>\n",
       "      <th>Shrink Lifetime $(min)$</th>\n",
       "      <th>Rescues</th>\n",
       "    </tr>\n",
       "    <tr>\n",
       "      <th>CH</th>\n",
       "      <th></th>\n",
       "      <th></th>\n",
       "      <th></th>\n",
       "      <th></th>\n",
       "      <th></th>\n",
       "    </tr>\n",
       "  </thead>\n",
       "  <tbody>\n",
       "    <tr>\n",
       "      <th>4</th>\n",
       "      <td>10.0</td>\n",
       "      <td>11.9196</td>\n",
       "      <td>0.844367</td>\n",
       "      <td>0.525</td>\n",
       "      <td>0.2</td>\n",
       "    </tr>\n",
       "  </tbody>\n",
       "</table>\n",
       "</div>"
      ],
      "text/plain": [
       "    [Tubulin] $(\\mu M)$  Lifetime $(min)$  Growth Rate $(\\mu m / min)$  \\\n",
       "CH                                                                       \n",
       "4                  10.0           11.9196                     0.844367   \n",
       "\n",
       "    Shrink Lifetime $(min)$  Rescues  \n",
       "CH                                    \n",
       "4                     0.525      0.2  "
      ]
     },
     "execution_count": 31,
     "metadata": {},
     "output_type": "execute_result"
    }
   ],
   "source": [
    "dfmean = df.groupby('CH').mean()\n",
    "#dfmean.to_csv(path/(date+'_0_mean.csv'), encoding='utf-8', index=False)\n",
    "dfmean"
   ]
  },
  {
   "cell_type": "code",
   "execution_count": 68,
   "metadata": {},
   "outputs": [
    {
     "data": {
      "text/html": [
       "<div>\n",
       "<style scoped>\n",
       "    .dataframe tbody tr th:only-of-type {\n",
       "        vertical-align: middle;\n",
       "    }\n",
       "\n",
       "    .dataframe tbody tr th {\n",
       "        vertical-align: top;\n",
       "    }\n",
       "\n",
       "    .dataframe thead th {\n",
       "        text-align: right;\n",
       "    }\n",
       "</style>\n",
       "<table border=\"1\" class=\"dataframe\">\n",
       "  <thead>\n",
       "    <tr style=\"text-align: right;\">\n",
       "      <th></th>\n",
       "      <th>[Tubulin] $(\\mu M)$</th>\n",
       "      <th>[DCX] $(n M)$</th>\n",
       "      <th>Length $(\\mu m)$</th>\n",
       "      <th>Lifetime $(min)$</th>\n",
       "      <th>Growth Rate $(\\mu m / min)$</th>\n",
       "      <th>Time to Nucleate $(min)$</th>\n",
       "      <th>Shrink Length $(\\mu m)$</th>\n",
       "      <th>Shrink Lifetime $(min)$</th>\n",
       "      <th>Shrink Rate $(\\mu m / min)$</th>\n",
       "      <th>Rescues</th>\n",
       "    </tr>\n",
       "    <tr>\n",
       "      <th>CH</th>\n",
       "      <th></th>\n",
       "      <th></th>\n",
       "      <th></th>\n",
       "      <th></th>\n",
       "      <th></th>\n",
       "      <th></th>\n",
       "      <th></th>\n",
       "      <th></th>\n",
       "      <th></th>\n",
       "      <th></th>\n",
       "    </tr>\n",
       "  </thead>\n",
       "  <tbody>\n",
       "    <tr>\n",
       "      <td>11</td>\n",
       "      <td>0.0</td>\n",
       "      <td>0.0</td>\n",
       "      <td>2.220003</td>\n",
       "      <td>5.607553</td>\n",
       "      <td>0.065197</td>\n",
       "      <td>2.292193</td>\n",
       "      <td>1.395496</td>\n",
       "      <td>0.921506</td>\n",
       "      <td>0.641015</td>\n",
       "      <td>0.262082</td>\n",
       "    </tr>\n",
       "    <tr>\n",
       "      <td>12</td>\n",
       "      <td>0.0</td>\n",
       "      <td>0.0</td>\n",
       "      <td>2.141587</td>\n",
       "      <td>4.409483</td>\n",
       "      <td>0.054800</td>\n",
       "      <td>3.401007</td>\n",
       "      <td>2.164654</td>\n",
       "      <td>0.683917</td>\n",
       "      <td>1.171587</td>\n",
       "      <td>0.308520</td>\n",
       "    </tr>\n",
       "    <tr>\n",
       "      <td>13</td>\n",
       "      <td>0.0</td>\n",
       "      <td>0.0</td>\n",
       "      <td>3.114664</td>\n",
       "      <td>5.224431</td>\n",
       "      <td>0.101222</td>\n",
       "      <td>2.719833</td>\n",
       "      <td>1.212097</td>\n",
       "      <td>0.659128</td>\n",
       "      <td>1.351292</td>\n",
       "      <td>0.408032</td>\n",
       "    </tr>\n",
       "    <tr>\n",
       "      <td>22</td>\n",
       "      <td>0.0</td>\n",
       "      <td>0.0</td>\n",
       "      <td>2.888860</td>\n",
       "      <td>6.023168</td>\n",
       "      <td>0.068091</td>\n",
       "      <td>0.961065</td>\n",
       "      <td>1.543716</td>\n",
       "      <td>0.755316</td>\n",
       "      <td>0.779552</td>\n",
       "      <td>0.000000</td>\n",
       "    </tr>\n",
       "  </tbody>\n",
       "</table>\n",
       "</div>"
      ],
      "text/plain": [
       "    [Tubulin] $(\\mu M)$  [DCX] $(n M)$  Length $(\\mu m)$  Lifetime $(min)$  \\\n",
       "CH                                                                           \n",
       "11                  0.0            0.0          2.220003          5.607553   \n",
       "12                  0.0            0.0          2.141587          4.409483   \n",
       "13                  0.0            0.0          3.114664          5.224431   \n",
       "22                  0.0            0.0          2.888860          6.023168   \n",
       "\n",
       "    Growth Rate $(\\mu m / min)$  Time to Nucleate $(min)$  \\\n",
       "CH                                                          \n",
       "11                     0.065197                  2.292193   \n",
       "12                     0.054800                  3.401007   \n",
       "13                     0.101222                  2.719833   \n",
       "22                     0.068091                  0.961065   \n",
       "\n",
       "    Shrink Length $(\\mu m)$  Shrink Lifetime $(min)$  \\\n",
       "CH                                                     \n",
       "11                 1.395496                 0.921506   \n",
       "12                 2.164654                 0.683917   \n",
       "13                 1.212097                 0.659128   \n",
       "22                 1.543716                 0.755316   \n",
       "\n",
       "    Shrink Rate $(\\mu m / min)$   Rescues  \n",
       "CH                                         \n",
       "11                     0.641015  0.262082  \n",
       "12                     1.171587  0.308520  \n",
       "13                     1.351292  0.408032  \n",
       "22                     0.779552  0.000000  "
      ]
     },
     "execution_count": 68,
     "metadata": {},
     "output_type": "execute_result"
    }
   ],
   "source": [
    "dfstd = df.groupby('CH').std()\n",
    "#dfstd.to_csv(path/(date+'_0_std.csv'), encoding='utf-8', index=False)\n",
    "dfstd"
   ]
  },
  {
   "cell_type": "markdown",
   "metadata": {},
   "source": [
    "# Preliminary plot Histograms #"
   ]
  },
  {
   "cell_type": "code",
   "execution_count": 33,
   "metadata": {},
   "outputs": [
    {
     "data": {
      "text/plain": [
       "<seaborn.axisgrid.FacetGrid at 0x208c5347970>"
      ]
     },
     "execution_count": 33,
     "metadata": {},
     "output_type": "execute_result"
    },
    {
     "data": {
      "image/png": "[encoded data removed]",
      "text/plain": [
       "<Figure size 216x216 with 1 Axes>"
      ]
     },
     "metadata": {
      "needs_background": "light"
     },
     "output_type": "display_data"
    }
   ],
   "source": [
    "g = sns.FacetGrid(df, row=tubulin, margin_titles=True)\n",
    "bins = np.linspace(0, 1.5, 20)\n",
    "g.map(plt.hist, GrowthRate, bins=bins, density=True)"
   ]
  },
  {
   "cell_type": "code",
   "execution_count": 34,
   "metadata": {},
   "outputs": [
    {
     "data": {
      "text/plain": [
       "<seaborn.axisgrid.FacetGrid at 0x208c5635a00>"
      ]
     },
     "execution_count": 34,
     "metadata": {},
     "output_type": "execute_result"
    },
    {
     "data": {
      "image/png": "[encoded data removed]",
      "text/plain": [
       "<Figure size 216x216 with 1 Axes>"
      ]
     },
     "metadata": {
      "needs_background": "light"
     },
     "output_type": "display_data"
    }
   ],
   "source": [
    "g = sns.FacetGrid(df, row=tubulin, margin_titles=True)\n",
    "bins = np.linspace(0, 30, 20)\n",
    "g.map(plt.hist, TimeToNucleate, bins=bins)"
   ]
  },
  {
   "cell_type": "code",
   "execution_count": 59,
   "metadata": {},
   "outputs": [
    {
     "data": {
      "text/plain": [
       "<seaborn.axisgrid.FacetGrid at 0x1d91d87c408>"
      ]
     },
     "execution_count": 59,
     "metadata": {},
     "output_type": "execute_result"
    },
    {
     "data": {
      "image/png": "[encoded data removed]",
      "text/plain": [
       "<Figure size 1296x432 with 12 Axes>"
      ]
     },
     "metadata": {
      "needs_background": "light"
     },
     "output_type": "display_data"
    }
   ],
   "source": [
    "g = sns.FacetGrid(df, row=tubulin, col=\"CH\", margin_titles=True)\n",
    "bins = np.linspace(0, 45, 20)\n",
    "g.map(plt.hist, Lifetime, bins=bins)"
   ]
  },
  {
   "cell_type": "code",
   "execution_count": 53,
   "metadata": {},
   "outputs": [
    {
     "data": {
      "text/plain": [
       "<seaborn.axisgrid.FacetGrid at 0x23838be7448>"
      ]
     },
     "execution_count": 53,
     "metadata": {},
     "output_type": "execute_result"
    },
    {
     "data": {
      "image/png": "[encoded data removed]",
      "text/plain": [
       "<Figure size 648x216 with 3 Axes>"
      ]
     },
     "metadata": {
      "needs_background": "light"
     },
     "output_type": "display_data"
    }
   ],
   "source": [
    "g = sns.FacetGrid(df, row=tubulin, col=\"DCX Type\", margin_titles=True)\n",
    "bins = np.linspace(0, 10, 20)\n",
    "g.map(plt.hist, ShrinkageRate, bins=bins)"
   ]
  },
  {
   "cell_type": "code",
   "execution_count": null,
   "metadata": {},
   "outputs": [],
   "source": []
  }
 ],
 "metadata": {
  "kernelspec": {
   "display_name": "Python 3",
   "language": "python",
   "name": "python3"
  },
  "language_info": {
   "codemirror_mode": {
    "name": "ipython",
    "version": 3
   },
   "file_extension": ".py",
   "mimetype": "text/x-python",
   "name": "python",
   "nbconvert_exporter": "python",
   "pygments_lexer": "ipython3",
   "version": "3.8.8"
  }
 },
 "nbformat": 4,
 "nbformat_minor": 4
}
