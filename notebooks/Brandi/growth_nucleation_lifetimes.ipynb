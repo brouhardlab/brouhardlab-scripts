{
 "cells": [
  {
   "cell_type": "code",
   "execution_count": 2,
   "metadata": {},
   "outputs": [],
   "source": [
    "import numpy as np\n",
    "import matplotlib.pyplot as plt\n",
    "import csv\n",
    "import pandas as pd\n",
    "from pathlib import Path\n",
    "from read_roi import read_roi_zip\n",
    "from collections import OrderedDict, Counter\n",
    "import math\n",
    "import PIL\n",
    "from PIL import Image\n",
    "from PIL.TiffTags import TAGS\n",
    "import tkinter as tk\n",
    "from tkinter import filedialog\n",
    "import seaborn as sns"
   ]
  },
  {
   "cell_type": "markdown",
   "metadata": {},
   "source": [
    "# Read, format and save raw data from ROIs #"
   ]
  },
  {
   "cell_type": "code",
   "execution_count": 3,
   "metadata": {},
   "outputs": [
    {
     "data": {
      "text/plain": [
       "WindowsPath('C:/Users/Brouhard Lab/Data/Images/2022-09-07_dynamics/2022-09-07_dynamics_Ch1-tub10uM')"
      ]
     },
     "execution_count": 3,
     "metadata": {},
     "output_type": "execute_result"
    }
   ],
   "source": [
    "askdirectory = filedialog.askdirectory() # show an \"Open\" dialog box and return the path to the selected file\n",
    "path = Path(askdirectory)\n",
    "path"
   ]
  },
  {
   "cell_type": "code",
   "execution_count": 4,
   "metadata": {},
   "outputs": [],
   "source": [
    "tubulin = '[Tubulin] ' r'$(\\mu M)$'\n",
    "tub = 'tub'\n",
    "\n",
    "DCXconc = '[DCX] ' r'$(n M)$'\n",
    "DCX = 'DCX'\n",
    "\n",
    "investigator = 'Brandi'"
   ]
  },
  {
   "cell_type": "code",
   "execution_count": 5,
   "metadata": {},
   "outputs": [
    {
     "data": {
      "text/plain": [
       "('2022-09-07', ['1'], ['10'])"
      ]
     },
     "execution_count": 5,
     "metadata": {},
     "output_type": "execute_result"
    }
   ],
   "source": [
    "dateloc = str(path).find(\"202\")\n",
    "date = str(path)[dateloc : dateloc+10]\n",
    "\n",
    "folders = [x for x in path.iterdir() if x.is_dir()]\n",
    "folders = [i for i in folders if (str(i)[-5:] == 'final') == True]\n",
    "\n",
    "ch = []\n",
    "conc_tub = []\n",
    "conc_DCX = []\n",
    "DCX_type = []\n",
    "\n",
    "for i in folders:\n",
    "    CHloc = str(i).rfind(\"Ch\")\n",
    "    tubloc = str(i).rfind(tub)\n",
    "    #DCXloc = str(i).rfind(DCX)\n",
    "    #dcxtype = str(i).find(\"type\")\n",
    "    ch = ch + [str(i)[CHloc+2:CHloc+3]]\n",
    "    conc_tub = conc_tub + [(str(i)[tubloc+3:tubloc+5])]\n",
    "    #conc_DCX = conc_DCX + [(str(i)[DCXloc+3:DCXloc+6])]\n",
    "    #DCX_type = DCX_type + [(str(i)[dcxtype+4:DCXloc-1])]\n",
    "\n",
    "date,ch, conc_tub#, conc_DCX, DCX_type\n"
   ]
  },
  {
   "cell_type": "code",
   "execution_count": 6,
   "metadata": {},
   "outputs": [
    {
     "data": {
      "text/plain": [
       "[WindowsPath('C:/Users/Brouhard Lab/Data/Images/2022-09-07_dynamics/2022-09-07_dynamics_Ch1-tub10uM/2022-09-07_dynamics_Ch1-tub10uM_final')]"
      ]
     },
     "execution_count": 6,
     "metadata": {},
     "output_type": "execute_result"
    }
   ],
   "source": [
    "tub_conc =  [float(i) for i in conc_tub]\n",
    "#DCX_conc =  [float(i) for i in conc_DCX]\n",
    "frame_analyzer = pd.read_csv(path/'frame_rates_avg.csv',sep=',')\n",
    "pixel =  0.107 #T2 0.107 #T1 0.0633\n",
    "folders"
   ]
  },
  {
   "cell_type": "code",
   "execution_count": 7,
   "metadata": {},
   "outputs": [
    {
     "data": {
      "text/html": [
       "<div>\n",
       "<style scoped>\n",
       "    .dataframe tbody tr th:only-of-type {\n",
       "        vertical-align: middle;\n",
       "    }\n",
       "\n",
       "    .dataframe tbody tr th {\n",
       "        vertical-align: top;\n",
       "    }\n",
       "\n",
       "    .dataframe thead th {\n",
       "        text-align: right;\n",
       "    }\n",
       "</style>\n",
       "<table border=\"1\" class=\"dataframe\">\n",
       "  <thead>\n",
       "    <tr style=\"text-align: right;\">\n",
       "      <th></th>\n",
       "      <th>Directory</th>\n",
       "      <th>Mean</th>\n",
       "      <th>SD</th>\n",
       "      <th>Frames</th>\n",
       "      <th>Outliers</th>\n",
       "      <th>MeanWOutliers</th>\n",
       "      <th>SDWOutliers</th>\n",
       "    </tr>\n",
       "  </thead>\n",
       "  <tbody>\n",
       "    <tr>\n",
       "      <th>0</th>\n",
       "      <td>C:\\Users\\Brouhard Lab\\Data\\Images\\2022-09-07_d...</td>\n",
       "      <td>5.01</td>\n",
       "      <td>0.25</td>\n",
       "      <td>405</td>\n",
       "      <td>4</td>\n",
       "      <td>12.0</td>\n",
       "      <td>127.82</td>\n",
       "    </tr>\n",
       "  </tbody>\n",
       "</table>\n",
       "</div>"
      ],
      "text/plain": [
       "                                           Directory  Mean    SD  Frames  \\\n",
       "0  C:\\Users\\Brouhard Lab\\Data\\Images\\2022-09-07_d...  5.01  0.25     405   \n",
       "\n",
       "   Outliers  MeanWOutliers  SDWOutliers  \n",
       "0         4           12.0       127.82  "
      ]
     },
     "execution_count": 7,
     "metadata": {},
     "output_type": "execute_result"
    }
   ],
   "source": [
    "#frame_analyzer = frame_analyzer.iloc[[1,3]].reset_index()\n",
    "frame_analyzer"
   ]
  },
  {
   "cell_type": "code",
   "execution_count": 22,
   "metadata": {},
   "outputs": [],
   "source": [
    "def open_roi_poly(k,name):\n",
    "    roi_path = folders[k]/(name)\n",
    "\n",
    "    roi_data = read_roi_zip(roi_path)\n",
    "    roi_df = pd.DataFrame(columns=['Track ID','x1','x2','x3','y1','y2','y3'])\n",
    "    \n",
    "    for key in roi_data:\n",
    "        roi_df1 = pd.DataFrame({'Track ID': [roi_data[key]['name']],'x1': [roi_data[key]['x'][0]],'x2': [roi_data[key]['x'][1]],'x3': [roi_data[key]['x'][2]],'y1': [roi_data[key]['y'][0]],'y2': [roi_data[key]['y'][1]],'y3': [roi_data[key]['y'][2]]})\n",
    "        roi_df = pd.concat([roi_df,roi_df1])\n",
    "    \n",
    "    roi_df = roi_df.reset_index(drop = True)\n",
    "    return roi_df\n",
    "\n",
    "def open_roi_line(k,name):\n",
    "    roi_path = folders[k]/(name)\n",
    "    roi_data = read_roi_zip(roi_path)\n",
    "    roi_df = pd.DataFrame(columns=['Track ID','x1','x2','y1','y2'])\n",
    "    \n",
    "    for key in roi_data:\n",
    "        roi_df1 = pd.DataFrame({'Track ID': [roi_data[key]['name']],'x1': [roi_data[key]['x1']],'x2': [roi_data[key]['x2']],'y1': [roi_data[key]['y1']],'y2': [roi_data[key]['y2']]})\n",
    "        roi_df = pd.concat([roi_df,roi_df1])\n",
    "        \n",
    "    roi_df = roi_df.reset_index(drop = True)\n",
    "    return roi_df\n"
   ]
  },
  {
   "cell_type": "code",
   "execution_count": 12,
   "metadata": {},
   "outputs": [
    {
     "data": {
      "text/html": [
       "<div>\n",
       "<style scoped>\n",
       "    .dataframe tbody tr th:only-of-type {\n",
       "        vertical-align: middle;\n",
       "    }\n",
       "\n",
       "    .dataframe tbody tr th {\n",
       "        vertical-align: top;\n",
       "    }\n",
       "\n",
       "    .dataframe thead th {\n",
       "        text-align: right;\n",
       "    }\n",
       "</style>\n",
       "<table border=\"1\" class=\"dataframe\">\n",
       "  <thead>\n",
       "    <tr style=\"text-align: right;\">\n",
       "      <th></th>\n",
       "      <th>Track ID</th>\n",
       "      <th>x1</th>\n",
       "      <th>x2</th>\n",
       "      <th>x3</th>\n",
       "      <th>y1</th>\n",
       "      <th>y2</th>\n",
       "      <th>y3</th>\n",
       "    </tr>\n",
       "  </thead>\n",
       "  <tbody>\n",
       "    <tr>\n",
       "      <th>0</th>\n",
       "      <td>0096-0055</td>\n",
       "      <td>1</td>\n",
       "      <td>109</td>\n",
       "      <td>1</td>\n",
       "      <td>15</td>\n",
       "      <td>169</td>\n",
       "      <td>176</td>\n",
       "    </tr>\n",
       "    <tr>\n",
       "      <th>1</th>\n",
       "      <td>0124-0077</td>\n",
       "      <td>34</td>\n",
       "      <td>126</td>\n",
       "      <td>28</td>\n",
       "      <td>61</td>\n",
       "      <td>184</td>\n",
       "      <td>187</td>\n",
       "    </tr>\n",
       "    <tr>\n",
       "      <th>2</th>\n",
       "      <td>0115-0099</td>\n",
       "      <td>55</td>\n",
       "      <td>142</td>\n",
       "      <td>60</td>\n",
       "      <td>41</td>\n",
       "      <td>183</td>\n",
       "      <td>189</td>\n",
       "    </tr>\n",
       "    <tr>\n",
       "      <th>3</th>\n",
       "      <td>0151-0040</td>\n",
       "      <td>10</td>\n",
       "      <td>71</td>\n",
       "      <td>8</td>\n",
       "      <td>109</td>\n",
       "      <td>190</td>\n",
       "      <td>192</td>\n",
       "    </tr>\n",
       "    <tr>\n",
       "      <th>4</th>\n",
       "      <td>0059-0065</td>\n",
       "      <td>34</td>\n",
       "      <td>101</td>\n",
       "      <td>29</td>\n",
       "      <td>16</td>\n",
       "      <td>98</td>\n",
       "      <td>101</td>\n",
       "    </tr>\n",
       "    <tr>\n",
       "      <th>...</th>\n",
       "      <td>...</td>\n",
       "      <td>...</td>\n",
       "      <td>...</td>\n",
       "      <td>...</td>\n",
       "      <td>...</td>\n",
       "      <td>...</td>\n",
       "      <td>...</td>\n",
       "    </tr>\n",
       "    <tr>\n",
       "      <th>61</th>\n",
       "      <td>0158-0113</td>\n",
       "      <td>15</td>\n",
       "      <td>211</td>\n",
       "      <td>23</td>\n",
       "      <td>17</td>\n",
       "      <td>286</td>\n",
       "      <td>299</td>\n",
       "    </tr>\n",
       "    <tr>\n",
       "      <th>62</th>\n",
       "      <td>0127-0108</td>\n",
       "      <td>52</td>\n",
       "      <td>163</td>\n",
       "      <td>53</td>\n",
       "      <td>40</td>\n",
       "      <td>207</td>\n",
       "      <td>214</td>\n",
       "    </tr>\n",
       "    <tr>\n",
       "      <th>63</th>\n",
       "      <td>0080-0091</td>\n",
       "      <td>53</td>\n",
       "      <td>132</td>\n",
       "      <td>50</td>\n",
       "      <td>13</td>\n",
       "      <td>142</td>\n",
       "      <td>146</td>\n",
       "    </tr>\n",
       "    <tr>\n",
       "      <th>64</th>\n",
       "      <td>0101-0106</td>\n",
       "      <td>44</td>\n",
       "      <td>174</td>\n",
       "      <td>38</td>\n",
       "      <td>21</td>\n",
       "      <td>174</td>\n",
       "      <td>180</td>\n",
       "    </tr>\n",
       "    <tr>\n",
       "      <th>65</th>\n",
       "      <td>0089-0090</td>\n",
       "      <td>38</td>\n",
       "      <td>143</td>\n",
       "      <td>36</td>\n",
       "      <td>14</td>\n",
       "      <td>158</td>\n",
       "      <td>164</td>\n",
       "    </tr>\n",
       "  </tbody>\n",
       "</table>\n",
       "<p>66 rows × 7 columns</p>\n",
       "</div>"
      ],
      "text/plain": [
       "     Track ID  x1   x2  x3   y1   y2   y3\n",
       "0   0096-0055   1  109   1   15  169  176\n",
       "1   0124-0077  34  126  28   61  184  187\n",
       "2   0115-0099  55  142  60   41  183  189\n",
       "3   0151-0040  10   71   8  109  190  192\n",
       "4   0059-0065  34  101  29   16   98  101\n",
       "..        ...  ..  ...  ..  ...  ...  ...\n",
       "61  0158-0113  15  211  23   17  286  299\n",
       "62  0127-0108  52  163  53   40  207  214\n",
       "63  0080-0091  53  132  50   13  142  146\n",
       "64  0101-0106  44  174  38   21  174  180\n",
       "65  0089-0090  38  143  36   14  158  164\n",
       "\n",
       "[66 rows x 7 columns]"
      ]
     },
     "execution_count": 12,
     "metadata": {},
     "output_type": "execute_result"
    }
   ],
   "source": [
    "open_roi_poly(0,'kymoslopes.zip')"
   ]
  },
  {
   "cell_type": "code",
   "execution_count": 13,
   "metadata": {},
   "outputs": [
    {
     "data": {
      "text/plain": [
       "OrderedDict([('0006-0029',\n",
       "              {'type': 'polyline',\n",
       "               'x': [22.5, 30.5, 35.33333206176758],\n",
       "               'y': [10.5, 4.666666507720947, -0.33333301544189453],\n",
       "               'n': 3,\n",
       "               'width': 0,\n",
       "               'name': '0006-0029',\n",
       "               'position': 0}),\n",
       "             ('0006-0051',\n",
       "              {'type': 'polyline',\n",
       "               'x': [42.16666793823242, 51.833335876464844, 58.66666793823242],\n",
       "               'y': [10.5, 4.333333492279053, -0.33333301544189453],\n",
       "               'n': 3,\n",
       "               'width': 0,\n",
       "               'name': '0006-0051',\n",
       "               'position': 0}),\n",
       "             ('0005-0068',\n",
       "              {'type': 'polyline',\n",
       "               'x': [63.5, 68.0, 72.0],\n",
       "               'y': [10.333333015441895,\n",
       "                5.166666507720947,\n",
       "                -0.16666698455810547],\n",
       "               'n': 3,\n",
       "               'width': 0,\n",
       "               'name': '0005-0068',\n",
       "               'position': 0})])"
      ]
     },
     "execution_count": 13,
     "metadata": {},
     "output_type": "execute_result"
    }
   ],
   "source": [
    "roi_path = folders[0]/('start.zip')\n",
    "roi_data = read_roi_zip(roi_path)\n",
    "roi_data"
   ]
  },
  {
   "cell_type": "code",
   "execution_count": 14,
   "metadata": {},
   "outputs": [],
   "source": [
    "Length = 'Length ' r'$(\\mu m)$'\n",
    "Lifetime = 'Lifetime ' r'$(min)$'\n",
    "GrowthRate = 'Growth Rate ' r'$(\\mu m / min)$'\n",
    "TimeToNucleate = 'Time to Nucleate ' r'$(min)$'\n",
    "ShrinkageLength = 'Shrink Length ' r'$(\\mu m)$'\n",
    "ShrinkageLifetime = 'Shrink Lifetime ' r'$(min)$'\n",
    "ShrinkageRate = 'Shrink Rate ' r'$(\\mu m / min)$'\n",
    "poly_parameter_names = (Length,Lifetime,GrowthRate,TimeToNucleate)\n",
    "line_parameter_names = (Length,Lifetime,GrowthRate,TimeToNucleate,ShrinkageLength,ShrinkageLifetime,ShrinkageRate)"
   ]
  },
  {
   "cell_type": "code",
   "execution_count": 23,
   "metadata": {},
   "outputs": [],
   "source": [
    "def poly_dynamics(k):\n",
    "        \n",
    "    data = open_roi_poly(k,'kymoslopes.zip')\n",
    "    supp = open_roi_poly(k,'start.zip')\n",
    "    \n",
    "    spf = frame_analyzer['Mean'][k];\n",
    "    frames = frame_analyzer['Frames'][k]\n",
    "    \n",
    "    suppn = len(supp)\n",
    "    start = sum(abs(supp['y2']-supp['y1']))/suppn;\n",
    "    \n",
    "    n = len(data)\n",
    "    pre_df = {'Date': np.full((n), date), 'Investigator': np.full((n), investigator),\n",
    "              'Ch': np.full((n), ch[k]),tubulin: np.full((n), tub_conc[k])}\n",
    "    df = pd.DataFrame(pre_df) \n",
    "    \n",
    "    df[Length] = abs((data['x2']-data['x1'])*pixel)\n",
    "    data[Lifetime] = abs((data['y2']-data['y1'])*spf/60)\n",
    "    \n",
    "    df[Lifetime] = data[[Lifetime,'y2']].apply(lambda x: x[Lifetime] if x['y2'] < frames else np.NaN, axis=1)\n",
    "    df[Lifetime] = data[[Lifetime,'y2']].apply(lambda x: x[Lifetime] if x[Lifetime] != 0 else np.NaN, axis=1)\n",
    "    \n",
    "    df[GrowthRate] = df[Length]/df[Lifetime]\n",
    "    df[GrowthRate] = df[GrowthRate].apply(lambda x: x if x <= 5 else np.NAN )\n",
    "    \n",
    "    df[TimeToNucleate] = (data['y1']-start)*spf/60\n",
    "    \n",
    "    df[ShrinkageLength] = abs((data['x3']-data['x2'])*pixel)\n",
    "    df[ShrinkageLifetime] = abs((data['y3']-data['y2'])*spf/60)\n",
    "    df[ShrinkageLifetime] = df[ShrinkageLifetime].apply(lambda x: np.NAN if x == 0 else x)\n",
    "    df[ShrinkageRate] = df[ShrinkageLength]/df[ShrinkageLifetime]\n",
    "    \n",
    "    df.loc[pd.isnull(df[GrowthRate]), \n",
    "           [Length,Lifetime,TimeToNucleate,ShrinkageLength,ShrinkageLifetime,ShrinkageRate]] = np.NaN\n",
    "    \n",
    "    df['Rescues'] = df[[Length,ShrinkageLength]].apply(lambda x: True if abs(x[Length]-x[ShrinkageLength]) > pixel*5 else False, axis=1)\n",
    "    \n",
    "    \n",
    "    return df\n",
    "\n",
    "def line_dynamics(k):\n",
    "        \n",
    "    data = open_roi_line(k,'kymoslope_line.zip')\n",
    "    supp = open_roi_line(k,'start_line.zip')\n",
    "    \n",
    "    \n",
    "    spf = frame_analyzer['Mean'][k];\n",
    "    frames = frame_analyzer['Frames'][k]-2\n",
    "    \n",
    "    suppn = len(supp)\n",
    "    start = sum(abs(supp['y2']-supp['y1']))/suppn;\n",
    "    \n",
    "    n = len(data)\n",
    "    pre_df = {'Date': np.full((n), date),'Ch': np.full((n), ch[k]),'Concentration ' r'$(\\mu M)$': np.full((n), tub_conc[k])}\n",
    "    df = pd.DataFrame(pre_df) \n",
    "    \n",
    "    \n",
    "    df[Length] = abs((data['x2']-data['x1'])*pixel)\n",
    "    df[Lifetime] = abs((data['y2']-data['y1'])*spf/60)\n",
    "    \n",
    "    df[GrowthRate] = df[Length]/df[Lifetime]\n",
    "    df[GrowthRate] = df[GrowthRate].apply(lambda x: x if x <= 5 else np.NaN )\n",
    "    \n",
    "    data[Lifetime] = abs((data['y2']-data['y1'])*spf/60)\n",
    "    df[Lifetime] = data[[Lifetime,'y2']].apply(lambda x: x[Lifetime] if x['y2'] < frames else np.NaN, axis=1)\n",
    "    \n",
    "    df[Length] = df[GrowthRate]*df[Lifetime]\n",
    "    \n",
    "    df.loc[pd.isnull(df[GrowthRate]), [Length,\n",
    "        Lifetime]] = np.NaN\n",
    "    \n",
    "    df = df[['Date','Ch','Concentration ' r'$(\\mu M)$',Length,\n",
    "             Lifetime,GrowthRate]]\n",
    "\n",
    "    \n",
    "    return df\n"
   ]
  },
  {
   "cell_type": "code",
   "execution_count": 16,
   "metadata": {},
   "outputs": [
    {
     "data": {
      "text/plain": [
       "(WindowsPath('C:/Users/Brouhard Lab/Data/Images/2022-09-07_dynamics'),\n",
       " WindowsPath('C:/Users/Brouhard Lab/Data/Images/2022-09-07_dynamics/2022-09-07_dynamics_Ch1-tub10uM'))"
      ]
     },
     "execution_count": 16,
     "metadata": {},
     "output_type": "execute_result"
    }
   ],
   "source": [
    "path.parents[0],path"
   ]
  },
  {
   "cell_type": "code",
   "execution_count": 17,
   "metadata": {},
   "outputs": [],
   "source": [
    "# newdirectory = str(path.parents[0])+'//Data_Sheets'\n",
    "# newmydir = Path(newdirectory)\n",
    "# newmydir.mkdir(exist_ok=True)"
   ]
  },
  {
   "cell_type": "code",
   "execution_count": 18,
   "metadata": {},
   "outputs": [
    {
     "data": {
      "text/html": [
       "<div>\n",
       "<style scoped>\n",
       "    .dataframe tbody tr th:only-of-type {\n",
       "        vertical-align: middle;\n",
       "    }\n",
       "\n",
       "    .dataframe tbody tr th {\n",
       "        vertical-align: top;\n",
       "    }\n",
       "\n",
       "    .dataframe thead th {\n",
       "        text-align: right;\n",
       "    }\n",
       "</style>\n",
       "<table border=\"1\" class=\"dataframe\">\n",
       "  <thead>\n",
       "    <tr style=\"text-align: right;\">\n",
       "      <th></th>\n",
       "      <th>Date</th>\n",
       "      <th>Investigator</th>\n",
       "      <th>Ch</th>\n",
       "      <th>[Tubulin] $(\\mu M)$</th>\n",
       "      <th>Length $(\\mu m)$</th>\n",
       "      <th>Lifetime $(min)$</th>\n",
       "      <th>Growth Rate $(\\mu m / min)$</th>\n",
       "      <th>Time to Nucleate $(min)$</th>\n",
       "      <th>Shrink Length $(\\mu m)$</th>\n",
       "      <th>Shrink Lifetime $(min)$</th>\n",
       "      <th>Shrink Rate $(\\mu m / min)$</th>\n",
       "      <th>Rescues</th>\n",
       "    </tr>\n",
       "  </thead>\n",
       "  <tbody>\n",
       "    <tr>\n",
       "      <th>0</th>\n",
       "      <td>2022-09-07</td>\n",
       "      <td>Brandi</td>\n",
       "      <td>1</td>\n",
       "      <td>10.0</td>\n",
       "      <td>11.556</td>\n",
       "      <td>12.8590</td>\n",
       "      <td>0.898670</td>\n",
       "      <td>0.774694</td>\n",
       "      <td>11.556</td>\n",
       "      <td>0.5845</td>\n",
       "      <td>19.770744</td>\n",
       "      <td>False</td>\n",
       "    </tr>\n",
       "    <tr>\n",
       "      <th>1</th>\n",
       "      <td>2022-09-07</td>\n",
       "      <td>Brandi</td>\n",
       "      <td>1</td>\n",
       "      <td>10.0</td>\n",
       "      <td>9.844</td>\n",
       "      <td>10.2705</td>\n",
       "      <td>0.958473</td>\n",
       "      <td>4.615694</td>\n",
       "      <td>10.486</td>\n",
       "      <td>0.2505</td>\n",
       "      <td>41.860279</td>\n",
       "      <td>True</td>\n",
       "    </tr>\n",
       "    <tr>\n",
       "      <th>2</th>\n",
       "      <td>2022-09-07</td>\n",
       "      <td>Brandi</td>\n",
       "      <td>1</td>\n",
       "      <td>10.0</td>\n",
       "      <td>9.309</td>\n",
       "      <td>11.8570</td>\n",
       "      <td>0.785106</td>\n",
       "      <td>2.945694</td>\n",
       "      <td>8.774</td>\n",
       "      <td>0.5010</td>\n",
       "      <td>17.512974</td>\n",
       "      <td>True</td>\n",
       "    </tr>\n",
       "    <tr>\n",
       "      <th>3</th>\n",
       "      <td>2022-09-07</td>\n",
       "      <td>Brandi</td>\n",
       "      <td>1</td>\n",
       "      <td>10.0</td>\n",
       "      <td>6.527</td>\n",
       "      <td>6.7635</td>\n",
       "      <td>0.965033</td>\n",
       "      <td>8.623694</td>\n",
       "      <td>6.741</td>\n",
       "      <td>0.1670</td>\n",
       "      <td>40.365269</td>\n",
       "      <td>False</td>\n",
       "    </tr>\n",
       "    <tr>\n",
       "      <th>4</th>\n",
       "      <td>2022-09-07</td>\n",
       "      <td>Brandi</td>\n",
       "      <td>1</td>\n",
       "      <td>10.0</td>\n",
       "      <td>7.169</td>\n",
       "      <td>6.8470</td>\n",
       "      <td>1.047028</td>\n",
       "      <td>0.858194</td>\n",
       "      <td>7.704</td>\n",
       "      <td>0.2505</td>\n",
       "      <td>30.754491</td>\n",
       "      <td>True</td>\n",
       "    </tr>\n",
       "    <tr>\n",
       "      <th>...</th>\n",
       "      <td>...</td>\n",
       "      <td>...</td>\n",
       "      <td>...</td>\n",
       "      <td>...</td>\n",
       "      <td>...</td>\n",
       "      <td>...</td>\n",
       "      <td>...</td>\n",
       "      <td>...</td>\n",
       "      <td>...</td>\n",
       "      <td>...</td>\n",
       "      <td>...</td>\n",
       "      <td>...</td>\n",
       "    </tr>\n",
       "    <tr>\n",
       "      <th>61</th>\n",
       "      <td>2022-09-07</td>\n",
       "      <td>Brandi</td>\n",
       "      <td>1</td>\n",
       "      <td>10.0</td>\n",
       "      <td>20.972</td>\n",
       "      <td>22.4615</td>\n",
       "      <td>0.933687</td>\n",
       "      <td>0.941694</td>\n",
       "      <td>20.116</td>\n",
       "      <td>1.0855</td>\n",
       "      <td>18.531552</td>\n",
       "      <td>True</td>\n",
       "    </tr>\n",
       "    <tr>\n",
       "      <th>62</th>\n",
       "      <td>2022-09-07</td>\n",
       "      <td>Brandi</td>\n",
       "      <td>1</td>\n",
       "      <td>10.0</td>\n",
       "      <td>11.877</td>\n",
       "      <td>13.9445</td>\n",
       "      <td>0.851734</td>\n",
       "      <td>2.862194</td>\n",
       "      <td>11.77</td>\n",
       "      <td>0.5845</td>\n",
       "      <td>20.136869</td>\n",
       "      <td>False</td>\n",
       "    </tr>\n",
       "    <tr>\n",
       "      <th>63</th>\n",
       "      <td>2022-09-07</td>\n",
       "      <td>Brandi</td>\n",
       "      <td>1</td>\n",
       "      <td>10.0</td>\n",
       "      <td>8.453</td>\n",
       "      <td>10.7715</td>\n",
       "      <td>0.784756</td>\n",
       "      <td>0.607694</td>\n",
       "      <td>8.774</td>\n",
       "      <td>0.3340</td>\n",
       "      <td>26.269461</td>\n",
       "      <td>False</td>\n",
       "    </tr>\n",
       "    <tr>\n",
       "      <th>64</th>\n",
       "      <td>2022-09-07</td>\n",
       "      <td>Brandi</td>\n",
       "      <td>1</td>\n",
       "      <td>10.0</td>\n",
       "      <td>13.91</td>\n",
       "      <td>12.7755</td>\n",
       "      <td>1.088803</td>\n",
       "      <td>1.275694</td>\n",
       "      <td>14.552</td>\n",
       "      <td>0.5010</td>\n",
       "      <td>29.045908</td>\n",
       "      <td>True</td>\n",
       "    </tr>\n",
       "    <tr>\n",
       "      <th>65</th>\n",
       "      <td>2022-09-07</td>\n",
       "      <td>Brandi</td>\n",
       "      <td>1</td>\n",
       "      <td>10.0</td>\n",
       "      <td>11.235</td>\n",
       "      <td>12.0240</td>\n",
       "      <td>0.934381</td>\n",
       "      <td>0.691194</td>\n",
       "      <td>11.449</td>\n",
       "      <td>0.5010</td>\n",
       "      <td>22.852295</td>\n",
       "      <td>False</td>\n",
       "    </tr>\n",
       "  </tbody>\n",
       "</table>\n",
       "<p>66 rows × 12 columns</p>\n",
       "</div>"
      ],
      "text/plain": [
       "          Date Investigator Ch  [Tubulin] $(\\mu M)$ Length $(\\mu m)$  \\\n",
       "0   2022-09-07       Brandi  1                 10.0           11.556   \n",
       "1   2022-09-07       Brandi  1                 10.0            9.844   \n",
       "2   2022-09-07       Brandi  1                 10.0            9.309   \n",
       "3   2022-09-07       Brandi  1                 10.0            6.527   \n",
       "4   2022-09-07       Brandi  1                 10.0            7.169   \n",
       "..         ...          ... ..                  ...              ...   \n",
       "61  2022-09-07       Brandi  1                 10.0           20.972   \n",
       "62  2022-09-07       Brandi  1                 10.0           11.877   \n",
       "63  2022-09-07       Brandi  1                 10.0            8.453   \n",
       "64  2022-09-07       Brandi  1                 10.0            13.91   \n",
       "65  2022-09-07       Brandi  1                 10.0           11.235   \n",
       "\n",
       "    Lifetime $(min)$  Growth Rate $(\\mu m / min)$ Time to Nucleate $(min)$  \\\n",
       "0            12.8590                     0.898670                 0.774694   \n",
       "1            10.2705                     0.958473                 4.615694   \n",
       "2            11.8570                     0.785106                 2.945694   \n",
       "3             6.7635                     0.965033                 8.623694   \n",
       "4             6.8470                     1.047028                 0.858194   \n",
       "..               ...                          ...                      ...   \n",
       "61           22.4615                     0.933687                 0.941694   \n",
       "62           13.9445                     0.851734                 2.862194   \n",
       "63           10.7715                     0.784756                 0.607694   \n",
       "64           12.7755                     1.088803                 1.275694   \n",
       "65           12.0240                     0.934381                 0.691194   \n",
       "\n",
       "   Shrink Length $(\\mu m)$  Shrink Lifetime $(min)$  \\\n",
       "0                   11.556                   0.5845   \n",
       "1                   10.486                   0.2505   \n",
       "2                    8.774                   0.5010   \n",
       "3                    6.741                   0.1670   \n",
       "4                    7.704                   0.2505   \n",
       "..                     ...                      ...   \n",
       "61                  20.116                   1.0855   \n",
       "62                   11.77                   0.5845   \n",
       "63                   8.774                   0.3340   \n",
       "64                  14.552                   0.5010   \n",
       "65                  11.449                   0.5010   \n",
       "\n",
       "   Shrink Rate $(\\mu m / min)$  Rescues  \n",
       "0                    19.770744    False  \n",
       "1                    41.860279     True  \n",
       "2                    17.512974     True  \n",
       "3                    40.365269    False  \n",
       "4                    30.754491     True  \n",
       "..                         ...      ...  \n",
       "61                   18.531552     True  \n",
       "62                   20.136869    False  \n",
       "63                   26.269461    False  \n",
       "64                   29.045908     True  \n",
       "65                   22.852295    False  \n",
       "\n",
       "[66 rows x 12 columns]"
      ]
     },
     "execution_count": 18,
     "metadata": {},
     "output_type": "execute_result"
    }
   ],
   "source": [
    "df = poly_dynamics(0)\n",
    "for i in range(1,len(ch)):\n",
    "    df0 = poly_dynamics(i)\n",
    "    df = df.append(df0, ignore_index=True)\n",
    "\n",
    "df.to_csv(path/(investigator+'_'+date +'.csv'), encoding='utf-8', index=False)\n",
    "#df.to_csv(newmydir/(investigator+'_'+date+'.csv'), encoding='utf-8', index=False)\n",
    "df"
   ]
  },
  {
   "cell_type": "code",
   "execution_count": 19,
   "metadata": {},
   "outputs": [
    {
     "data": {
      "text/html": [
       "<div>\n",
       "<style scoped>\n",
       "    .dataframe tbody tr th:only-of-type {\n",
       "        vertical-align: middle;\n",
       "    }\n",
       "\n",
       "    .dataframe tbody tr th {\n",
       "        vertical-align: top;\n",
       "    }\n",
       "\n",
       "    .dataframe thead th {\n",
       "        text-align: right;\n",
       "    }\n",
       "</style>\n",
       "<table border=\"1\" class=\"dataframe\">\n",
       "  <thead>\n",
       "    <tr style=\"text-align: right;\">\n",
       "      <th></th>\n",
       "      <th>[Tubulin] $(\\mu M)$</th>\n",
       "      <th>Lifetime $(min)$</th>\n",
       "      <th>Growth Rate $(\\mu m / min)$</th>\n",
       "      <th>Shrink Lifetime $(min)$</th>\n",
       "      <th>Rescues</th>\n",
       "    </tr>\n",
       "    <tr>\n",
       "      <th>Ch</th>\n",
       "      <th></th>\n",
       "      <th></th>\n",
       "      <th></th>\n",
       "      <th></th>\n",
       "      <th></th>\n",
       "    </tr>\n",
       "  </thead>\n",
       "  <tbody>\n",
       "    <tr>\n",
       "      <th>1</th>\n",
       "      <td>10.0</td>\n",
       "      <td>9.77203</td>\n",
       "      <td>0.912641</td>\n",
       "      <td>0.45925</td>\n",
       "      <td>0.19697</td>\n",
       "    </tr>\n",
       "  </tbody>\n",
       "</table>\n",
       "</div>"
      ],
      "text/plain": [
       "    [Tubulin] $(\\mu M)$  Lifetime $(min)$  Growth Rate $(\\mu m / min)$  \\\n",
       "Ch                                                                       \n",
       "1                  10.0           9.77203                     0.912641   \n",
       "\n",
       "    Shrink Lifetime $(min)$  Rescues  \n",
       "Ch                                    \n",
       "1                   0.45925  0.19697  "
      ]
     },
     "execution_count": 19,
     "metadata": {},
     "output_type": "execute_result"
    }
   ],
   "source": [
    "dfmean = df.groupby('Ch').mean()\n",
    "dfmean.to_csv(path/(date+'_0_mean.csv'), encoding='utf-8', index=False)\n",
    "dfmean"
   ]
  },
  {
   "cell_type": "code",
   "execution_count": 21,
   "metadata": {},
   "outputs": [
    {
     "data": {
      "text/html": [
       "<div>\n",
       "<style scoped>\n",
       "    .dataframe tbody tr th:only-of-type {\n",
       "        vertical-align: middle;\n",
       "    }\n",
       "\n",
       "    .dataframe tbody tr th {\n",
       "        vertical-align: top;\n",
       "    }\n",
       "\n",
       "    .dataframe thead th {\n",
       "        text-align: right;\n",
       "    }\n",
       "</style>\n",
       "<table border=\"1\" class=\"dataframe\">\n",
       "  <thead>\n",
       "    <tr style=\"text-align: right;\">\n",
       "      <th></th>\n",
       "      <th>[Tubulin] $(\\mu M)$</th>\n",
       "      <th>Lifetime $(min)$</th>\n",
       "      <th>Growth Rate $(\\mu m / min)$</th>\n",
       "      <th>Shrink Lifetime $(min)$</th>\n",
       "      <th>Rescues</th>\n",
       "    </tr>\n",
       "    <tr>\n",
       "      <th>Ch</th>\n",
       "      <th></th>\n",
       "      <th></th>\n",
       "      <th></th>\n",
       "      <th></th>\n",
       "      <th></th>\n",
       "    </tr>\n",
       "  </thead>\n",
       "  <tbody>\n",
       "    <tr>\n",
       "      <th>1</th>\n",
       "      <td>0.0</td>\n",
       "      <td>4.557294</td>\n",
       "      <td>0.13764</td>\n",
       "      <td>0.278507</td>\n",
       "      <td>0.400757</td>\n",
       "    </tr>\n",
       "  </tbody>\n",
       "</table>\n",
       "</div>"
      ],
      "text/plain": [
       "    [Tubulin] $(\\mu M)$  Lifetime $(min)$  Growth Rate $(\\mu m / min)$  \\\n",
       "Ch                                                                       \n",
       "1                   0.0          4.557294                      0.13764   \n",
       "\n",
       "    Shrink Lifetime $(min)$   Rescues  \n",
       "Ch                                     \n",
       "1                  0.278507  0.400757  "
      ]
     },
     "execution_count": 21,
     "metadata": {},
     "output_type": "execute_result"
    }
   ],
   "source": [
    "dfstd = df.groupby('Ch').std()\n",
    "dfstd.to_csv(path/(date+'_0_std.csv'), encoding='utf-8', index=False)\n",
    "dfstd"
   ]
  },
  {
   "cell_type": "markdown",
   "metadata": {},
   "source": [
    "# Preliminary plot Histograms #"
   ]
  },
  {
   "cell_type": "code",
   "execution_count": 89,
   "metadata": {},
   "outputs": [
    {
     "data": {
      "text/plain": [
       "<seaborn.axisgrid.FacetGrid at 0x2113c46b310>"
      ]
     },
     "execution_count": 89,
     "metadata": {},
     "output_type": "execute_result"
    },
    {
     "data": {
      "image/png": "[encoded data removed]",
      "text/plain": [
       "<Figure size 216x216 with 1 Axes>"
      ]
     },
     "metadata": {
      "needs_background": "light"
     },
     "output_type": "display_data"
    }
   ],
   "source": [
    "g = sns.FacetGrid(df, row=tubulin, margin_titles=True)\n",
    "bins = np.linspace(0, 1.5, 20)\n",
    "g.map(plt.hist, GrowthRate, bins=bins, density=True)"
   ]
  },
  {
   "cell_type": "code",
   "execution_count": 90,
   "metadata": {},
   "outputs": [
    {
     "data": {
      "text/plain": [
       "<seaborn.axisgrid.FacetGrid at 0x2113cc85fa0>"
      ]
     },
     "execution_count": 90,
     "metadata": {},
     "output_type": "execute_result"
    },
    {
     "data": {
      "image/png": "[encoded data removed]",
      "text/plain": [
       "<Figure size 216x216 with 1 Axes>"
      ]
     },
     "metadata": {
      "needs_background": "light"
     },
     "output_type": "display_data"
    }
   ],
   "source": [
    "g = sns.FacetGrid(df, row=tubulin, margin_titles=True)\n",
    "bins = np.linspace(0, 30, 20)\n",
    "g.map(plt.hist, TimeToNucleate, bins=bins)"
   ]
  },
  {
   "cell_type": "code",
   "execution_count": 91,
   "metadata": {},
   "outputs": [
    {
     "ename": "KeyError",
     "evalue": "'CH'",
     "output_type": "error",
     "traceback": [
      "\u001b[1;31m---------------------------------------------------------------------------\u001b[0m",
      "\u001b[1;31mKeyError\u001b[0m                                  Traceback (most recent call last)",
      "File \u001b[1;32m~\\anaconda3\\lib\\site-packages\\pandas\\core\\indexes\\base.py:3621\u001b[0m, in \u001b[0;36mIndex.get_loc\u001b[1;34m(self, key, method, tolerance)\u001b[0m\n\u001b[0;32m   3620\u001b[0m \u001b[38;5;28;01mtry\u001b[39;00m:\n\u001b[1;32m-> 3621\u001b[0m     \u001b[38;5;28;01mreturn\u001b[39;00m \u001b[38;5;28;43mself\u001b[39;49m\u001b[38;5;241;43m.\u001b[39;49m\u001b[43m_engine\u001b[49m\u001b[38;5;241;43m.\u001b[39;49m\u001b[43mget_loc\u001b[49m\u001b[43m(\u001b[49m\u001b[43mcasted_key\u001b[49m\u001b[43m)\u001b[49m\n\u001b[0;32m   3622\u001b[0m \u001b[38;5;28;01mexcept\u001b[39;00m \u001b[38;5;167;01mKeyError\u001b[39;00m \u001b[38;5;28;01mas\u001b[39;00m err:\n",
      "File \u001b[1;32m~\\anaconda3\\lib\\site-packages\\pandas\\_libs\\index.pyx:136\u001b[0m, in \u001b[0;36mpandas._libs.index.IndexEngine.get_loc\u001b[1;34m()\u001b[0m\n",
      "File \u001b[1;32m~\\anaconda3\\lib\\site-packages\\pandas\\_libs\\index.pyx:163\u001b[0m, in \u001b[0;36mpandas._libs.index.IndexEngine.get_loc\u001b[1;34m()\u001b[0m\n",
      "File \u001b[1;32mpandas\\_libs\\hashtable_class_helper.pxi:5198\u001b[0m, in \u001b[0;36mpandas._libs.hashtable.PyObjectHashTable.get_item\u001b[1;34m()\u001b[0m\n",
      "File \u001b[1;32mpandas\\_libs\\hashtable_class_helper.pxi:5206\u001b[0m, in \u001b[0;36mpandas._libs.hashtable.PyObjectHashTable.get_item\u001b[1;34m()\u001b[0m\n",
      "\u001b[1;31mKeyError\u001b[0m: 'CH'",
      "\nThe above exception was the direct cause of the following exception:\n",
      "\u001b[1;31mKeyError\u001b[0m                                  Traceback (most recent call last)",
      "Input \u001b[1;32mIn [91]\u001b[0m, in \u001b[0;36m<cell line: 1>\u001b[1;34m()\u001b[0m\n\u001b[1;32m----> 1\u001b[0m g \u001b[38;5;241m=\u001b[39m \u001b[43msns\u001b[49m\u001b[38;5;241;43m.\u001b[39;49m\u001b[43mFacetGrid\u001b[49m\u001b[43m(\u001b[49m\u001b[43mdf\u001b[49m\u001b[43m,\u001b[49m\u001b[43m \u001b[49m\u001b[43mrow\u001b[49m\u001b[38;5;241;43m=\u001b[39;49m\u001b[43mtubulin\u001b[49m\u001b[43m,\u001b[49m\u001b[43m \u001b[49m\u001b[43mcol\u001b[49m\u001b[38;5;241;43m=\u001b[39;49m\u001b[38;5;124;43m\"\u001b[39;49m\u001b[38;5;124;43mCH\u001b[39;49m\u001b[38;5;124;43m\"\u001b[39;49m\u001b[43m,\u001b[49m\u001b[43m \u001b[49m\u001b[43mmargin_titles\u001b[49m\u001b[38;5;241;43m=\u001b[39;49m\u001b[38;5;28;43;01mTrue\u001b[39;49;00m\u001b[43m)\u001b[49m\n\u001b[0;32m      2\u001b[0m bins \u001b[38;5;241m=\u001b[39m np\u001b[38;5;241m.\u001b[39mlinspace(\u001b[38;5;241m0\u001b[39m, \u001b[38;5;241m45\u001b[39m, \u001b[38;5;241m20\u001b[39m)\n\u001b[0;32m      3\u001b[0m g\u001b[38;5;241m.\u001b[39mmap(plt\u001b[38;5;241m.\u001b[39mhist, Lifetime, bins\u001b[38;5;241m=\u001b[39mbins)\n",
      "File \u001b[1;32m~\\anaconda3\\lib\\site-packages\\seaborn\\_decorators.py:46\u001b[0m, in \u001b[0;36m_deprecate_positional_args.<locals>.inner_f\u001b[1;34m(*args, **kwargs)\u001b[0m\n\u001b[0;32m     36\u001b[0m     warnings\u001b[38;5;241m.\u001b[39mwarn(\n\u001b[0;32m     37\u001b[0m         \u001b[38;5;124m\"\u001b[39m\u001b[38;5;124mPass the following variable\u001b[39m\u001b[38;5;132;01m{}\u001b[39;00m\u001b[38;5;124m as \u001b[39m\u001b[38;5;132;01m{}\u001b[39;00m\u001b[38;5;124mkeyword arg\u001b[39m\u001b[38;5;132;01m{}\u001b[39;00m\u001b[38;5;124m: \u001b[39m\u001b[38;5;132;01m{}\u001b[39;00m\u001b[38;5;124m. \u001b[39m\u001b[38;5;124m\"\u001b[39m\n\u001b[0;32m     38\u001b[0m         \u001b[38;5;124m\"\u001b[39m\u001b[38;5;124mFrom version 0.12, the only valid positional argument \u001b[39m\u001b[38;5;124m\"\u001b[39m\n\u001b[1;32m   (...)\u001b[0m\n\u001b[0;32m     43\u001b[0m         \u001b[38;5;167;01mFutureWarning\u001b[39;00m\n\u001b[0;32m     44\u001b[0m     )\n\u001b[0;32m     45\u001b[0m kwargs\u001b[38;5;241m.\u001b[39mupdate({k: arg \u001b[38;5;28;01mfor\u001b[39;00m k, arg \u001b[38;5;129;01min\u001b[39;00m \u001b[38;5;28mzip\u001b[39m(sig\u001b[38;5;241m.\u001b[39mparameters, args)})\n\u001b[1;32m---> 46\u001b[0m \u001b[38;5;28;01mreturn\u001b[39;00m f(\u001b[38;5;241m*\u001b[39m\u001b[38;5;241m*\u001b[39mkwargs)\n",
      "File \u001b[1;32m~\\anaconda3\\lib\\site-packages\\seaborn\\axisgrid.py:357\u001b[0m, in \u001b[0;36mFacetGrid.__init__\u001b[1;34m(self, data, row, col, hue, col_wrap, sharex, sharey, height, aspect, palette, row_order, col_order, hue_order, hue_kws, dropna, legend_out, despine, margin_titles, xlim, ylim, subplot_kws, gridspec_kws, size)\u001b[0m\n\u001b[0;32m    355\u001b[0m     col_names \u001b[38;5;241m=\u001b[39m []\n\u001b[0;32m    356\u001b[0m \u001b[38;5;28;01melse\u001b[39;00m:\n\u001b[1;32m--> 357\u001b[0m     col_names \u001b[38;5;241m=\u001b[39m categorical_order(\u001b[43mdata\u001b[49m\u001b[43m[\u001b[49m\u001b[43mcol\u001b[49m\u001b[43m]\u001b[49m, col_order)\n\u001b[0;32m    359\u001b[0m \u001b[38;5;66;03m# Additional dict of kwarg -> list of values for mapping the hue var\u001b[39;00m\n\u001b[0;32m    360\u001b[0m hue_kws \u001b[38;5;241m=\u001b[39m hue_kws \u001b[38;5;28;01mif\u001b[39;00m hue_kws \u001b[38;5;129;01mis\u001b[39;00m \u001b[38;5;129;01mnot\u001b[39;00m \u001b[38;5;28;01mNone\u001b[39;00m \u001b[38;5;28;01melse\u001b[39;00m {}\n",
      "File \u001b[1;32m~\\anaconda3\\lib\\site-packages\\pandas\\core\\frame.py:3505\u001b[0m, in \u001b[0;36mDataFrame.__getitem__\u001b[1;34m(self, key)\u001b[0m\n\u001b[0;32m   3503\u001b[0m \u001b[38;5;28;01mif\u001b[39;00m \u001b[38;5;28mself\u001b[39m\u001b[38;5;241m.\u001b[39mcolumns\u001b[38;5;241m.\u001b[39mnlevels \u001b[38;5;241m>\u001b[39m \u001b[38;5;241m1\u001b[39m:\n\u001b[0;32m   3504\u001b[0m     \u001b[38;5;28;01mreturn\u001b[39;00m \u001b[38;5;28mself\u001b[39m\u001b[38;5;241m.\u001b[39m_getitem_multilevel(key)\n\u001b[1;32m-> 3505\u001b[0m indexer \u001b[38;5;241m=\u001b[39m \u001b[38;5;28;43mself\u001b[39;49m\u001b[38;5;241;43m.\u001b[39;49m\u001b[43mcolumns\u001b[49m\u001b[38;5;241;43m.\u001b[39;49m\u001b[43mget_loc\u001b[49m\u001b[43m(\u001b[49m\u001b[43mkey\u001b[49m\u001b[43m)\u001b[49m\n\u001b[0;32m   3506\u001b[0m \u001b[38;5;28;01mif\u001b[39;00m is_integer(indexer):\n\u001b[0;32m   3507\u001b[0m     indexer \u001b[38;5;241m=\u001b[39m [indexer]\n",
      "File \u001b[1;32m~\\anaconda3\\lib\\site-packages\\pandas\\core\\indexes\\base.py:3623\u001b[0m, in \u001b[0;36mIndex.get_loc\u001b[1;34m(self, key, method, tolerance)\u001b[0m\n\u001b[0;32m   3621\u001b[0m     \u001b[38;5;28;01mreturn\u001b[39;00m \u001b[38;5;28mself\u001b[39m\u001b[38;5;241m.\u001b[39m_engine\u001b[38;5;241m.\u001b[39mget_loc(casted_key)\n\u001b[0;32m   3622\u001b[0m \u001b[38;5;28;01mexcept\u001b[39;00m \u001b[38;5;167;01mKeyError\u001b[39;00m \u001b[38;5;28;01mas\u001b[39;00m err:\n\u001b[1;32m-> 3623\u001b[0m     \u001b[38;5;28;01mraise\u001b[39;00m \u001b[38;5;167;01mKeyError\u001b[39;00m(key) \u001b[38;5;28;01mfrom\u001b[39;00m \u001b[38;5;21;01merr\u001b[39;00m\n\u001b[0;32m   3624\u001b[0m \u001b[38;5;28;01mexcept\u001b[39;00m \u001b[38;5;167;01mTypeError\u001b[39;00m:\n\u001b[0;32m   3625\u001b[0m     \u001b[38;5;66;03m# If we have a listlike key, _check_indexing_error will raise\u001b[39;00m\n\u001b[0;32m   3626\u001b[0m     \u001b[38;5;66;03m#  InvalidIndexError. Otherwise we fall through and re-raise\u001b[39;00m\n\u001b[0;32m   3627\u001b[0m     \u001b[38;5;66;03m#  the TypeError.\u001b[39;00m\n\u001b[0;32m   3628\u001b[0m     \u001b[38;5;28mself\u001b[39m\u001b[38;5;241m.\u001b[39m_check_indexing_error(key)\n",
      "\u001b[1;31mKeyError\u001b[0m: 'CH'"
     ]
    }
   ],
   "source": [
    "g = sns.FacetGrid(df, row=tubulin, col=\"CH\", margin_titles=True)\n",
    "bins = np.linspace(0, 45, 20)\n",
    "g.map(plt.hist, Lifetime, bins=bins)"
   ]
  },
  {
   "cell_type": "code",
   "execution_count": 53,
   "metadata": {},
   "outputs": [
    {
     "data": {
      "text/plain": [
       "<seaborn.axisgrid.FacetGrid at 0x23838be7448>"
      ]
     },
     "execution_count": 53,
     "metadata": {},
     "output_type": "execute_result"
    },
    {
     "data": {
      "image/png": "[encoded data removed]",
      "text/plain": [
       "<Figure size 648x216 with 3 Axes>"
      ]
     },
     "metadata": {
      "needs_background": "light"
     },
     "output_type": "display_data"
    }
   ],
   "source": [
    "g = sns.FacetGrid(df, row=tubulin, col=\"DCX Type\", margin_titles=True)\n",
    "bins = np.linspace(0, 10, 20)\n",
    "g.map(plt.hist, ShrinkageRate, bins=bins)"
   ]
  },
  {
   "cell_type": "code",
   "execution_count": null,
   "metadata": {},
   "outputs": [],
   "source": []
  }
 ],
 "metadata": {
  "kernelspec": {
   "display_name": "Python 3 (ipykernel)",
   "language": "python",
   "name": "python3"
  },
  "language_info": {
   "codemirror_mode": {
    "name": "ipython",
    "version": 3
   },
   "file_extension": ".py",
   "mimetype": "text/x-python",
   "name": "python",
   "nbconvert_exporter": "python",
   "pygments_lexer": "ipython3",
   "version": "3.9.12"
  }
 },
 "nbformat": 4,
 "nbformat_minor": 4
}
