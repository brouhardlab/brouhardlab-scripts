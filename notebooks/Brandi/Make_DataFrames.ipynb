{
 "cells": [
  {
   "cell_type": "code",
   "execution_count": 1,
   "id": "3046d14a-e336-44b5-80a9-c954fcd31e90",
   "metadata": {},
   "outputs": [],
   "source": [
    "import numpy as np\n",
    "import seaborn as sns\n",
    "import matplotlib.pyplot as plt\n",
    "import csv\n",
    "import pandas as pd\n",
    "from pandas.api.types import CategoricalDtype\n",
    "import scipy as sp\n",
    "from pathlib import Path\n",
    "import tkinter as tk\n",
    "from tkinter import filedialog\n",
    "import itertools\n",
    "from colour import Color\n",
    "from datetime import date\n",
    "from matplotlib.ticker import MultipleLocator\n",
    "from matplotlib.ticker import MaxNLocator\n",
    "from scipy import stats"
   ]
  },
  {
   "cell_type": "code",
   "execution_count": 2,
   "id": "3c877db2-60fb-4f55-a6fa-dd27a54c68f7",
   "metadata": {},
   "outputs": [
    {
     "name": "stdout",
     "output_type": "stream",
     "text": [
      "Today's date: 2023-04-22\n"
     ]
    },
    {
     "data": {
      "text/plain": [
       "'2023-04-22'"
      ]
     },
     "execution_count": 2,
     "metadata": {},
     "output_type": "execute_result"
    }
   ],
   "source": [
    "today = date.today()\n",
    "print(\"Today's date:\", today)\n",
    "date = str(today)\n",
    "date"
   ]
  },
  {
   "cell_type": "code",
   "execution_count": 3,
   "id": "8e7efed9-10bf-4341-a572-243ef9c8c92f",
   "metadata": {},
   "outputs": [],
   "source": [
    "#set variables\n",
    "\n",
    "tubulin = '[Tubulin] ' r'$(\\mu M)$'\n",
    "tub = 'tub'\n",
    "\n",
    "DCXconc = '[DCX] ' r'$(n M)$'\n",
    "DCX = 'DCX'\n",
    "Type = 'DCX Type'\n",
    "\n",
    "EBconc = '[EB] ' r'$(n M)$'\n",
    "EB = 'EB'\n",
    "Expt = 'Expt'\n",
    "\n",
    "Concentration = 'Concentration ' r'$(\\mu M)$'\n",
    "Length = 'Length ' r'$(\\mu m)$'\n",
    "Lifetime = 'Lifetime ' r'$(min)$'\n",
    "GrowthRate = 'Growth Rate ' r'$(\\mu m / min)$'\n",
    "TimeToNucleate = 'Time to Nucleate ' r'$(min)$'\n",
    "ShrinkageLength = 'Shrink Length ' r'$(\\mu m)$'\n",
    "ShrinkageLifetime = 'Shrink Lifetime ' r'$(min)$'\n",
    "ShrinkageRate = 'Shrink Rate ' r'$(\\mu m / min)$'"
   ]
  },
  {
   "cell_type": "code",
   "execution_count": 4,
   "id": "16a8049e-596f-42f8-87b8-e35789cc863b",
   "metadata": {},
   "outputs": [
    {
     "name": "stdout",
     "output_type": "stream",
     "text": [
      "[<Color #ab4a9c>, <Color #e468b8>, <Color #ffa4cd>] [<Color #ff5b00>, <Color #ff8341>, <Color #ffac83>]\n"
     ]
    }
   ],
   "source": [
    "#set colors\n",
    "\n",
    "black = '#000000'\n",
    "grey = '#777777'\n",
    "blue = '#23459C'\n",
    "cyan = '#0089CF'\n",
    "green = '#79BA1A'\n",
    "purple = '#AB4A9C'\n",
    "lily = '#CB81EA'\n",
    "magenta = '#D80B8C'\n",
    "red = '#e60000'\n",
    "orange = '#FF7300'\n",
    "darkorange = '#FF5B00'\n",
    "lightorange = '#FFAC83'\n",
    "yellow = '#FFCB05'\n",
    "lightyellow = '#F9DC2D'\n",
    "pink = '#FFA4CD'\n",
    "StartHue1 = Color(purple)\n",
    "DC1color = list(StartHue1.range_to(Color(pink),3))\n",
    "StartHue2 = Color(darkorange)\n",
    "DC2color = list(StartHue2.range_to(Color(lightorange),3))\n",
    "print(DC1color,DC2color)\n",
    "\n",
    "palette = [cyan,orange] + list(map(Color.get_hex,DC1color)) + list(map(Color.get_hex,DC2color)) + [green]\n",
    "parameters = [GrowthRate,TimeToNucleate,Lifetime,ShrinkageRate]"
   ]
  },
  {
   "cell_type": "code",
   "execution_count": null,
   "id": "767f73bf-328e-4518-8d05-339f4947e76a",
   "metadata": {},
   "outputs": [],
   "source": [
    "#open directory\n",
    "\n",
    "askdirectory = filedialog.askdirectory() # show an \"Open\" dialog box and return the path to the selected file\n",
    "path = Path(askdirectory)\n",
    "path"
   ]
  },
  {
   "cell_type": "code",
   "execution_count": null,
   "id": "89ca2393-6af2-470d-8dde-68d05c5b8b89",
   "metadata": {},
   "outputs": [],
   "source": [
    "#search for relevant data files\n",
    "\n",
    "dateloc = str(path).find(\"202\")\n",
    "date = str(path)[dateloc : dateloc+10]\n",
    "\n",
    "folders = [x for x in path.iterdir() if x.is_dir()]\n",
    "folders = [i for i in folders if (str(i)[-7:] == 'finalDS') == True]\n",
    "\n",
    "ch = []\n",
    "conc_tub = []\n",
    "conc_DCX = []\n",
    "conc_EB = []\n",
    "DCX_type = []\n",
    "\n",
    "for i in folders:\n",
    "    CHloc = str(i).rfind(\"Ch\")\n",
    "    tubloc = str(i).rfind(tub)\n",
    "    DCXloc = str(i).rfind(DCX)\n",
    "    dcxtypeloc = str(i).find(\"nM_EB\")\n",
    "    EBloc = str(i).rfind(EB)\n",
    "    \n",
    "    ch = ch + [str(i)[CHloc+2:CHloc+3]]\n",
    "    conc_tub = conc_tub + [(str(i)[tubloc+3:tubloc+5])]\n",
    "    conc_DCX = conc_DCX + [(str(i)[dcxtypeloc-2:dcxtypeloc])]\n",
    "    conc_EB = conc_EB + [(str(i)[EBloc+2:EBloc+4])]\n",
    "    DCX_type = DCX_type + [(str(i)[DCXloc+4:dcxtypeloc-3])]\n",
    "\n",
    "date,ch, conc_tub, conc_DCX, DCX_type, conc_EB\n"
   ]
  },
  {
   "cell_type": "code",
   "execution_count": null,
   "id": "22e71f08-e06c-4a05-b95d-261ed27ad4f6",
   "metadata": {},
   "outputs": [],
   "source": [
    "#get values for concentration of species\n",
    "\n",
    "tub_conc =  [float(i) for i in conc_tub]\n",
    "# DCX_conc =  [float(i) for i in conc_DCX]\n",
    "# EB_conc = [float(i) for i in conc_EB]\n"
   ]
  },
  {
   "cell_type": "code",
   "execution_count": null,
   "id": "ac91a8ad-a77a-45c2-8ee4-86ccdfd74795",
   "metadata": {},
   "outputs": [],
   "source": [
    "#calculate pixel scale \n",
    "\n",
    "frame_analyzer = pd.read_csv(path/'frame_rates_avg.csv',sep=',')\n",
    "pixel =  0.107 #T2 0.107 #T1 0.0633\n",
    "folders"
   ]
  },
  {
   "cell_type": "code",
   "execution_count": null,
   "id": "656a8799-ea01-4084-bf6c-ee478d9471d2",
   "metadata": {},
   "outputs": [],
   "source": [
    "#frame_analyzer = frame_analyzer.iloc[[1,3]].reset_index()\n",
    "frame_analyzer"
   ]
  },
  {
   "cell_type": "code",
   "execution_count": null,
   "id": "47844d5e-e156-4fbf-b370-5e023673cf3e",
   "metadata": {},
   "outputs": [],
   "source": [
    "#Build Data Frame (empty)\n",
    "\n",
    "def open_roi_poly(k,name):\n",
    "    roi_path = folders[k]/(name)\n",
    "\n",
    "    roi_data = read_roi_zip(roi_path)\n",
    "    roi_df = pd.DataFrame(columns=['Track ID','x1','x2','x3','y1','y2','y3'])\n",
    "    \n",
    "    for key in roi_data:\n",
    "        roi_df1 = pd.DataFrame({'Track ID': [roi_data[key]['name']],'x1': [roi_data[key]['x'][0]],'x2': [roi_data[key]['x'][1]],'x3': [roi_data[key]['x'][2]],'y1': [roi_data[key]['y'][0]],'y2': [roi_data[key]['y'][1]],'y3': [roi_data[key]['y'][2]]})\n",
    "        roi_df = pd.concat([roi_df,roi_df1])\n",
    "    \n",
    "    roi_df = roi_df.reset_index(drop = True)\n",
    "    return roi_df"
   ]
  },
  {
   "cell_type": "code",
   "execution_count": null,
   "id": "157c0843-3574-4ea9-a92a-0b3937b6f1e2",
   "metadata": {},
   "outputs": [],
   "source": [
    "#Read ROI data\n",
    "\n",
    "open_roi_poly(0,'kymoslopes.zip')"
   ]
  },
  {
   "cell_type": "code",
   "execution_count": null,
   "id": "44027c1f-a632-4176-8e1c-79218697e44a",
   "metadata": {},
   "outputs": [],
   "source": [
    "#Read data for T=0 correction\n",
    "\n",
    "roi_path = folders[0]/('start.zip')\n",
    "roi_data = read_roi_zip(roi_path)\n",
    "roi_data"
   ]
  },
  {
   "cell_type": "code",
   "execution_count": null,
   "id": "8e53867b-ade8-4fd1-8078-0716b50361db",
   "metadata": {},
   "outputs": [],
   "source": [
    "#Define data Parameters\n",
    "\n",
    "Length = 'Length ' r'$(\\mu m)$'\n",
    "Lifetime = 'Lifetime ' r'$(min)$'\n",
    "GrowthRate = 'Growth Rate ' r'$(\\mu m / min)$'\n",
    "TimeToNucleate = 'Time to Nucleate ' r'$(min)$'\n",
    "ShrinkageLength = 'Shrink Length ' r'$(\\mu m)$'\n",
    "ShrinkageLifetime = 'Shrink Lifetime ' r'$(min)$'\n",
    "ShrinkageRate = 'Shrink Rate ' r'$(\\mu m / min)$'\n",
    "poly_parameter_names = (Length,Lifetime,GrowthRate,TimeToNucleate)\n",
    "line_parameter_names = (Length,Lifetime,GrowthRate,TimeToNucleate,ShrinkageLength,ShrinkageLifetime,ShrinkageRate)"
   ]
  },
  {
   "cell_type": "code",
   "execution_count": null,
   "id": "017af6c3-dcea-4bc0-9c7e-85b32badb87d",
   "metadata": {},
   "outputs": [],
   "source": [
    "#Extract parameter data to fill data frame\n",
    "\n",
    "def poly_dynamics(k):\n",
    "        \n",
    "    data = open_roi_poly(k,'kymoslopes.zip')\n",
    "    supp = open_roi_poly(k,'start.zip')\n",
    "    \n",
    "    spf = frame_analyzer['Mean'][k];\n",
    "    frames = frame_analyzer['Frames'][k]\n",
    "    \n",
    "    suppn = len(supp)\n",
    "    start = sum(abs(supp['y2']-supp['y1']))/suppn;\n",
    "    \n",
    "    n = len(data)\n",
    "    pre_df ={'Date': np.full((n), date), 'Investigator': np.full((n), investigator),\n",
    "              'Ch': np.full((n), ch[k]),tubulin: np.full((n), tub_conc[k])#,DCXconc: np.full((n), DCX_conc[k]),EBconc: np.full((n), EB_conc[k])\n",
    "            }\n",
    "    df = pd.DataFrame(pre_df) \n",
    "    \n",
    "    df[Length] = abs((data['x2']-data['x1'])*pixel)\n",
    "    data[Lifetime] = abs((data['y2']-data['y1'])*spf/60)\n",
    "    \n",
    "    df[Lifetime] = data[[Lifetime,'y2']].apply(lambda x: x[Lifetime] if x['y2'] < frames else np.NaN, axis=1)\n",
    "    df[Lifetime] = data[[Lifetime,'y2']].apply(lambda x: x[Lifetime] if x[Lifetime] != 0 else np.NaN, axis=1)\n",
    "    \n",
    "    df[GrowthRate] = df[Length]/df[Lifetime]\n",
    "    df[GrowthRate] = df[GrowthRate].apply(lambda x: x if x <= 5 else np.NAN )\n",
    "    \n",
    "    df[TimeToNucleate] = (data['y1']-start)*spf/60\n",
    "    \n",
    "    df[ShrinkageLength] = abs((data['x3']-data['x2'])*pixel)\n",
    "    df[ShrinkageLifetime] = abs((data['y3']-data['y2'])*spf/60)\n",
    "    df[ShrinkageLifetime] = df[ShrinkageLifetime].apply(lambda x: np.NAN if x == 0 else x)\n",
    "    df[ShrinkageRate] = df[ShrinkageLength]/df[ShrinkageLifetime]\n",
    "    \n",
    "    df.loc[pd.isnull(df[GrowthRate]), \n",
    "           [Length,Lifetime,TimeToNucleate,ShrinkageLength,ShrinkageLifetime,ShrinkageRate]] = np.NaN\n",
    "    \n",
    "    df['Rescues'] = df[[Length,ShrinkageLength]].apply(lambda x: True if abs(x[Length]-x[ShrinkageLength]) > pixel*5 else False, axis=1)\n",
    "    \n",
    "    # df['DCX Type'] = DCX_type[k]\n",
    "    \n",
    "    return df"
   ]
  },
  {
   "cell_type": "code",
   "execution_count": null,
   "id": "56d741d4-30b3-48b6-9e18-ff4084d9b9b2",
   "metadata": {},
   "outputs": [],
   "source": [
    "#set path\n",
    "\n",
    "path.parents[0],path"
   ]
  },
  {
   "cell_type": "code",
   "execution_count": null,
   "id": "e4b0a546-5476-42d1-9313-7f1030d2f083",
   "metadata": {},
   "outputs": [],
   "source": [
    "#set directory for new data file\n",
    "\n",
    "newdirectory = str(path.parents[0])+'//Data_Sheets'\n",
    "newmydir = Path(newdirectory)\n",
    "newmydir.mkdir(exist_ok=True)"
   ]
  },
  {
   "cell_type": "code",
   "execution_count": null,
   "id": "c8296c8d-f509-484f-81f5-18f2572d365b",
   "metadata": {},
   "outputs": [],
   "source": [
    "#Fill data frame with corrected ROI data\n",
    "\n",
    "df = poly_dynamics(0)\n",
    "for i in range(1,len(ch)):\n",
    "    df0 = poly_dynamics(i)\n",
    "    df = df.append(df0, ignore_index=True)\n",
    "\n",
    "df.to_csv(path/(investigator+'_'+date +'.csv'), encoding='utf-8', index=False)\n",
    "df.to_csv(newmydir/(investigator+'_'+date+'.csv'), encoding='utf-8', index=False)\n",
    "df"
   ]
  },
  {
   "cell_type": "code",
   "execution_count": null,
   "id": "28e042e1-de7e-4356-8650-ebca27c29003",
   "metadata": {},
   "outputs": [],
   "source": [
    "#open data frame directory for Joining files\n",
    "\n",
    "askdirectory = filedialog.askdirectory() # show an \"Open\" dialog box and return the path to the selected file\n",
    "path = Path(askdirectory)"
   ]
  },
  {
   "cell_type": "code",
   "execution_count": null,
   "id": "5c641550-e7f8-4fbf-b91e-a610b65501e2",
   "metadata": {},
   "outputs": [],
   "source": [
    "#Find relevant files to concatenate\n",
    "\n",
    "files = [x for x in path.iterdir() if x.is_file()]\n",
    "files = [i for i in files if (str(i)[-10:] != 'results.csv') == True]\n",
    "files = [i for i in files if (str(i)[-3:] == 'csv') == True]\n",
    "files"
   ]
  },
  {
   "cell_type": "code",
   "execution_count": null,
   "id": "9e720462-4444-423c-afc6-eb489e4f4ce5",
   "metadata": {},
   "outputs": [],
   "source": [
    "#read files and concatenate into single joint file\n",
    "\n",
    "data = pd.read_csv(files[0], encoding='utf-8')\n",
    "for i in range(1,len(files)):\n",
    "    d = pd.read_csv(files[i], encoding='utf-8')\n",
    "    data = pd.concat([data,d])"
   ]
  },
  {
   "cell_type": "code",
   "execution_count": null,
   "id": "48c77b6f-ee15-4632-8014-0b37869472af",
   "metadata": {},
   "outputs": [],
   "source": [
    "#sort data frame \n",
    "\n",
    "data[Type] = data[Type].astype(category_Type)\n",
    "data = data.sort_values(by=[Type, DCXconc])\n",
    "#FIX CONCENTRATION\n",
    "#data[DCXconc] = data[DCXconc].apply(lambda x: round(x*2.27))\n",
    "#np.sort(data[DCXconc].unique())"
   ]
  },
  {
   "cell_type": "code",
   "execution_count": null,
   "id": "c2cf60ea-05f0-4b11-9ed4-68097fed215e",
   "metadata": {},
   "outputs": [],
   "source": [
    "#view data frame\n",
    "\n",
    "data"
   ]
  },
  {
   "cell_type": "code",
   "execution_count": null,
   "id": "c633883e-746d-4ef4-bf9a-09f411b867dc",
   "metadata": {},
   "outputs": [],
   "source": [
    "#save concatenated data frame as mastersheet \n",
    "\n",
    "data.to_csv(path/(date+'_MasterSheet.csv'), encoding='utf-8', index=False)"
   ]
  },
  {
   "cell_type": "code",
   "execution_count": null,
   "id": "16e21bbe-c2c8-4a13-a91e-2e76b287de81",
   "metadata": {},
   "outputs": [],
   "source": [
    "#Open concatenated data frame (mastersheet)\n",
    "\n",
    "askmastersheet = filedialog.askopenfilename() # show an \"Open\" dialog box and return the path to the selected file\n",
    "data = pd.read_csv(askmastersheet, encoding='utf-8')\n",
    "data"
   ]
  },
  {
   "cell_type": "code",
   "execution_count": null,
   "id": "cab73a32-7be8-47c1-9e30-ef85ee3699a1",
   "metadata": {},
   "outputs": [],
   "source": [
    "#Group data by mean, using (data parameter, as_index=False to reset index).calculation() \n",
    "\n",
    "GRmn='Mean'\n",
    "dfmn=data.groupby(tubulin, as_index=False).mean()\n",
    "dfmn.rename(columns={GrowthRate:GRstd}, inplace=True)\n",
    "dfmn"
   ]
  },
  {
   "cell_type": "code",
   "execution_count": null,
   "id": "073183a3-2c86-43d9-a9fd-98f9ddb31139",
   "metadata": {},
   "outputs": [],
   "source": [
    "#Group data by std dev.\n",
    "\n",
    "GRstd='Std Dev.'\n",
    "dfstd=data.groupby(tubulin, as_index=False).std()\n",
    "dfstd.rename(columns={GrowthRate:GRstd}, inplace=True)\n",
    "dfstd"
   ]
  },
  {
   "cell_type": "code",
   "execution_count": null,
   "id": "a6a485dd-ed91-409a-83af-006f3f2d3ea7",
   "metadata": {},
   "outputs": [],
   "source": [
    "#merge mean and std dev data groups\n",
    "\n",
    "dferr=pd.merge(dfmn,dfstd)\n",
    "dferr"
   ]
  },
  {
   "cell_type": "code",
   "execution_count": null,
   "id": "83b966ff-a24e-4596-9930-88ce32250790",
   "metadata": {},
   "outputs": [],
   "source": [
    "#define fit parameters\n",
    "\n",
    "def gaussian(x, mu, sig):\n",
    "    return (np.exp(-np.power(x - mu, 2.) / (2 * np.power(sig, 2.))) )/(sig*np.sqrt(2*np.pi))\n",
    "\n",
    "def exponential(x, scale):\n",
    "    return ((np.exp(-x/scale) )/(scale))\n",
    "\n",
    "def gamma(x, shape, scale):\n",
    "    return (np.power(x,shape-1)*np.exp(-x/ scale))/(sp.special.gamma(shape) * np.power(scale,shape))\n"
   ]
  },
  {
   "cell_type": "code",
   "execution_count": null,
   "id": "e854d3ed-ffd3-43bd-afb4-dcb1e4ca55f6",
   "metadata": {},
   "outputs": [],
   "source": [
    "#define bins\n",
    "\n",
    "def make_hist(data, parameter, tubconc, dcxtype, dcxconc, ebconc) :\n",
    "    \n",
    "    selectdata = data[(data[tubulin]==tubconc)&(data[Type]==dcxtype)&(data[DCXconc]==dcxconc)&(data[EBconc]==ebconc)]\n",
    "    \n",
    "    if parameter == GrowthRate :\n",
    "        maxbin = 1.5\n",
    "        binsize = 0.05\n",
    "    elif parameter == ShrinkageRate :\n",
    "         maxbin = 15\n",
    "         binsize = 0.1\n",
    "    else:\n",
    "        maxbin = 30\n",
    "        binsize = 1\n",
    "        \n",
    "    n, bins, patches = plt.hist(selectdata[parameter], bins=np.arange(0, maxbin + binsize, binsize), density=True);\n",
    "    plt.clf()\n",
    "       \n",
    "    return n, bins"
   ]
  },
  {
   "cell_type": "code",
   "execution_count": null,
   "id": "638c2cf4-11bb-460f-bd28-439515d843c4",
   "metadata": {},
   "outputs": [],
   "source": [
    "#fit data \n",
    "\n",
    "def equation_fit(data, parameter):\n",
    "    \n",
    "    if (parameter ==  GrowthRate) | (parameter == ShrinkageRate) :\n",
    "        equation = gaussian\n",
    "    elif parameter == TimeToNucleate :\n",
    "        equation = exponential\n",
    "    elif parameter == Lifetime :\n",
    "        equation = gamma\n",
    "        \n",
    "    results = pd.DataFrame(columns=[] , index=[])\n",
    "    \n",
    "    for tubconc in data[tubulin].unique():\n",
    "        for dcxtype in data[Type].unique():\n",
    "            for dcxconc in data[DCXconc].unique():\n",
    "                for ebconc in data[EBconc].unique():\n",
    "\n",
    "                    n, bins =  make_hist(data, parameter, tubconc, dcxtype, dcxconc,ebconc)      \n",
    "\n",
    "                    if np.isnan(np.sum(n)) == True:\n",
    "                        continue\n",
    "\n",
    "                    if equation == gamma :\n",
    "                        coeff, var_matrix = sp.optimize.curve_fit(equation,bins[:-1],n,[2,1])\n",
    "                    else :\n",
    "                        coeff, var_matrix = sp.optimize.curve_fit(equation,bins[:-1],n)\n",
    "\n",
    "                    variance = np.diagonal(var_matrix) #Refer [3]\n",
    "                    SE = np.sqrt(variance) #Refer [4]\n",
    "\n",
    "                #======Making a data frame========\n",
    "                    results0 = pd.DataFrame(columns=[] , index=[])\n",
    "                    \n",
    "                    for k in np.arange(0,len(coeff)):\n",
    "                        \n",
    "                        r0 = pd.DataFrame([[coeff[k],SE[k]],],columns=['Fit', 'SE'])\n",
    "                        r0['Coefficient'] = k\n",
    "                        results0 = pd.concat([results0, r0], sort=False)\n",
    "                        \n",
    "#                     for k in np.arange(0,len(coeff)):\n",
    "#                         header = [np.array([parameter]),np.array(['Coefficient '+ str(k)])]\n",
    "#                         r0 = pd.DataFrame([coeff[k],SE[k]], index=(['Value','SE']),columns= header)\n",
    "#                         results0 = pd.concat([results0, r0], axis=1, sort=False)\n",
    "\n",
    "                    results0[tubulin] = tubconc\n",
    "                    results0[Type] = dcxtype\n",
    "                    results0[DCXconc] = dcxconc\n",
    "                    results0[EBconc] = ebconc\n",
    "                    results0['Parameter'] = parameter\n",
    "\n",
    "                    results = pd.concat([results, results0], sort=False)\n",
    "\n",
    "    return results"
   ]
  },
  {
   "cell_type": "code",
   "execution_count": null,
   "id": "4408647a-a9f0-4075-aeac-c5975597685b",
   "metadata": {},
   "outputs": [],
   "source": [
    "#create directory for fit data\n",
    "\n",
    "newmydir = path/(date+'_fitdata')\n",
    "newmydir.mkdir(exist_ok=True)\n",
    "newmydir"
   ]
  },
  {
   "cell_type": "code",
   "execution_count": null,
   "id": "1cbfcb19-bd87-44fd-936f-d9de9d1a62c7",
   "metadata": {},
   "outputs": [],
   "source": [
    "#define fit variables\n",
    "\n",
    "GrowthRateFit = equation_fit(data, GrowthRate);\n",
    "TimeToNucleateFit = equation_fit(data, TimeToNucleate);\n",
    "LifetimeFit = equation_fit(data, Lifetime);\n",
    "ShrinkageRateFit = equation_fit(data, ShrinkageRate);"
   ]
  },
  {
   "cell_type": "code",
   "execution_count": null,
   "id": "cb9177fe-1a1b-4552-b865-50c86201c331",
   "metadata": {},
   "outputs": [],
   "source": [
    "#define fit parameters\n",
    "\n",
    "GrowthRateFit['Moment'] = GrowthRateFit['Coefficient'].apply(lambda x: 'Mean' if x == 0 else 'Std')\n",
    "TimeToNucleateFit['Moment'] = 'Mean'\n",
    "ShrinkageRateFit['Moment'] = ShrinkageRateFit['Coefficient'].apply(lambda x: 'Mean' if x == 0 else 'Std')"
   ]
  },
  {
   "cell_type": "code",
   "execution_count": null,
   "id": "968a0824-0546-4e85-b168-00a0021aa5b1",
   "metadata": {},
   "outputs": [],
   "source": [
    "#visualize data frame\n",
    "\n",
    "GrowthRateFit"
   ]
  },
  {
   "cell_type": "code",
   "execution_count": null,
   "id": "c2aa3b14-a012-4ba4-b1cf-9a00393896f5",
   "metadata": {},
   "outputs": [],
   "source": [
    "#build array for lifetimes\n",
    "\n",
    "LifetimeCoeff0 = LifetimeFit[(LifetimeFit['Coefficient']==0)]['Fit'].values\n",
    "LifetimeCoeff1 = LifetimeFit[(LifetimeFit['Coefficient']==1)]['Fit'].values\n",
    "LifetimeSE0 = LifetimeFit[(LifetimeFit['Coefficient']==0)]['SE'].values\n",
    "LifetimeSE1 = LifetimeFit[(LifetimeFit['Coefficient']==1)]['SE'].values\n",
    "LifetimeMean = LifetimeCoeff0*LifetimeCoeff1\n",
    "LifetimeSE = np.sqrt(np.square(LifetimeCoeff0*LifetimeSE1) + np.square(LifetimeCoeff1*LifetimeSE0))\n",
    "LifetimeSE"
   ]
  },
  {
   "cell_type": "code",
   "execution_count": null,
   "id": "bd04f551-09d4-412d-b02b-c9fd41978153",
   "metadata": {},
   "outputs": [],
   "source": [
    "LTmeandf = LifetimeFit[(LifetimeFit['Coefficient']==0)]\n",
    "LTmeandf['Fit'] = LifetimeMean\n",
    "LTmeandf['SE'] = LifetimeSE\n",
    "LTmeandf['Coefficient'] = np.NaN\n",
    "LTmeandf['Moment'] = 'Mean'\n",
    "LTmeandf"
   ]
  },
  {
   "cell_type": "code",
   "execution_count": null,
   "id": "bdceb803-f1ca-4590-9f75-52de4f2f02ec",
   "metadata": {},
   "outputs": [],
   "source": [
    "#Fit results\n",
    "\n",
    "ResultFit = pd.concat([GrowthRateFit, TimeToNucleateFit,LifetimeFit,LTmeandf,ShrinkageRateFit], axis=0, sort=False)\n",
    "ResultFit.to_csv(newmydir/('ResultFit_'+date+'.csv'), encoding='utf-8', index=False)\n",
    "ResultFit"
   ]
  },
  {
   "cell_type": "code",
   "execution_count": null,
   "id": "35cf1e25-8dfe-4e69-befe-a2d0b0f7632e",
   "metadata": {},
   "outputs": [],
   "source": []
  }
 ],
 "metadata": {
  "kernelspec": {
   "display_name": "Python 3 (ipykernel)",
   "language": "python",
   "name": "python3"
  },
  "language_info": {
   "codemirror_mode": {
    "name": "ipython",
    "version": 3
   },
   "file_extension": ".py",
   "mimetype": "text/x-python",
   "name": "python",
   "nbconvert_exporter": "python",
   "pygments_lexer": "ipython3",
   "version": "3.9.12"
  }
 },
 "nbformat": 4,
 "nbformat_minor": 5
}
