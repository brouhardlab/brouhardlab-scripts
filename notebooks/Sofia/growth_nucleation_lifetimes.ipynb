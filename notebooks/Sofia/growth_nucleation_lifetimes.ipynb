{
 "cells": [
  {
   "cell_type": "code",
   "execution_count": 2,
   "metadata": {},
   "outputs": [],
   "source": [
    "import numpy as np\n",
    "import matplotlib.pyplot as plt\n",
    "import csv\n",
    "import pandas as pd\n",
    "import statistics as stat\n",
    "from pathlib import Path"
   ]
  },
  {
   "cell_type": "code",
   "execution_count": 25,
   "metadata": {},
   "outputs": [
    {
     "data": {
      "text/plain": [
       "True"
      ]
     },
     "execution_count": 25,
     "metadata": {},
     "output_type": "execute_result"
    }
   ],
   "source": [
    "date = '2019-01-31' # // 2019-01-31 // 2018-12-07\n",
    "micscp = 'TIRF' #TIRF or DIC\n",
    "\n",
    "p = 'C:\\\\Users\\\\brouhardlab\\Documents\\GitHub\\sofia-brouhardlab\\\\'+date+'_'+micscp ## C:\\\\Users\\sofia\\OneDrive\\Documentos\\GitHub\\sofia-brouhardlab\\\\\n",
    "path = Path(p)\n",
    "path.exists()"
   ]
  },
  {
   "cell_type": "code",
   "execution_count": 26,
   "metadata": {},
   "outputs": [],
   "source": [
    "ch = ['11','12','13','21','22','23','31','32','33']\n",
    "conc_name = ['7-5','15','6','10','17-5','12-5','12-5','10','7-5']\n",
    "conc = [7.5,15,6,10,17.5,12.5,12.5,10,7.5]\n",
    "\n",
    "#ch = ['22','23','31','32','33']\n",
    "#conc_name = ['10','15','7-5','12-5','20']\n",
    "#conc = [10,15,7.5,12.5,20]\n",
    "\n",
    "t_interval = 10"
   ]
  },
  {
   "cell_type": "code",
   "execution_count": 27,
   "metadata": {},
   "outputs": [],
   "source": [
    "def dynamics(k):\n",
    "    \n",
    "    filename = path/(date+'_CH'+ch[k]+'_'+conc_name[k]+'uM.csv')\n",
    "    filename_s = path/(date+'_CH'+ch[k]+'_'+conc_name[k]+'uM_start.csv')\n",
    "    \n",
    "    data = pd.read_csv(filename,sep=',');\n",
    "    supp = pd.read_csv(filename_s,sep=',');\n",
    "    \n",
    "    inter = t_interval;\n",
    "    \n",
    "    n = len(supp['Track ID'])\n",
    "    start = sum(supp['Track duration (s)'])/n;\n",
    "    \n",
    "    ####################################\n",
    "    \n",
    "    oddID = [n-1 for n in data['Track ID'] if n%2]\n",
    "    growth = []\n",
    "    \n",
    "    for i in oddID:\n",
    "        g = abs(data['Track speed (um/s)'][i])*60;\n",
    "        growth = np.append(growth,g)\n",
    "       \n",
    "    ####################################\n",
    "    \n",
    "    evenID = [n for n in data['Track ID'] if n%2]\n",
    "    \n",
    "    y1 = []\n",
    "    lifetime = []\n",
    "    \n",
    "    for i in evenID:\n",
    "        y1 = np.append(y1,min(data['y1'][i],data['y2'][i]))\n",
    "        y2 = max(data['y1'][i],data['y2'][i])\n",
    "        \n",
    "        #if y2 < 130:\n",
    "        lt = (data['Track duration (s)'][i]);\n",
    "        lifetime = np.append(lifetime,lt/60)\n",
    "    \n",
    "    t_2_nuc = (y1*inter - start)/60;\n",
    "    \n",
    "    ######################################\n",
    "        \n",
    "    return growth, t_2_nuc , lifetime"
   ]
  },
  {
   "cell_type": "code",
   "execution_count": 28,
   "metadata": {},
   "outputs": [],
   "source": [
    "def save_raw(j,name):\n",
    "\n",
    "    track = dynamics(0)\n",
    "    df = pd.DataFrame(track[j], columns=[str(conc[0])])\n",
    "\n",
    "    for i in range(1,len(ch)):\n",
    "    \n",
    "        track = dynamics(i)\n",
    "        df0 = pd.DataFrame(track[j], columns=[str(conc[i])])\n",
    "        df = pd.concat([df, df0], axis=1, sort=False)\n",
    "\n",
    "    df.to_csv(path/(date+'_'+name+'.csv'), encoding='utf-8', index=False)"
   ]
  },
  {
   "cell_type": "code",
   "execution_count": 29,
   "metadata": {},
   "outputs": [
    {
     "data": {
      "image/png": "[encoded data removed]",
      "text/plain": [
       "<Figure size 1440x360 with 3 Axes>"
      ]
     },
     "metadata": {
      "needs_background": "light"
     },
     "output_type": "display_data"
    }
   ],
   "source": [
    "j=1\n",
    "track = dynamics(j)\n",
    "titles = ('Growth','Nucleation','Catastrophe')\n",
    "xlables = ('Growth Rate ' r'$(\\mu m / min)$','Time to Nucleate ' r'$(min)$','Lifetime ' r'$(min)$')\n",
    "\n",
    "plt.figure(figsize=(20,5))\n",
    "for i in [0,1,2] :\n",
    "    \n",
    "    plt.subplot(1,3,i+1)\n",
    "    plt.hist(track[i],25, density=True)\n",
    "    plt.ylabel('Relative Frequency')\n",
    "    plt.xlabel(xlables[i])\n",
    "    plt.title(titles[i]);\n",
    "\n",
    "plt.suptitle('Histograms of [Tub]= %.2f' r'$\\mu M$'%(conc[j]), fontsize=16)\n",
    "plt.savefig(path/(date+'_histograms.png'))"
   ]
  },
  {
   "cell_type": "code",
   "execution_count": 30,
   "metadata": {},
   "outputs": [],
   "source": [
    "name = ['growth','time2nuc','lifetime']\n",
    "\n",
    "for j in [0,1,2]:\n",
    "    save_raw(j,name[j])"
   ]
  },
  {
   "cell_type": "code",
   "execution_count": 31,
   "metadata": {},
   "outputs": [],
   "source": [
    "def get_mean_std(name):\n",
    "    data = pd.read_csv(path/(date+'_'+name+'.csv'),sep=',');\n",
    "\n",
    "    mean = []\n",
    "    sdev = []\n",
    "\n",
    "    #mean = data.mean(axis=0)\n",
    "    #sdev = data.std(axis=0)\n",
    "    for i in data.columns:\n",
    "        mean = np.append(mean,data[i].mean())\n",
    "        sdev = np.append(sdev,data[i].std())\n",
    "    \n",
    "    df = pd.DataFrame([mean, sdev], columns=ch, index=[name+' mean', name+' std'])\n",
    "\n",
    "    return df"
   ]
  },
  {
   "cell_type": "code",
   "execution_count": 32,
   "metadata": {},
   "outputs": [],
   "source": [
    "df = get_mean_std(name[0])\n",
    "df = df.append(get_mean_std(name[1]))\n",
    "df = df.append(get_mean_std(name[2]))\n",
    "df = df.T\n",
    "df.insert(loc=0, column='tub conc', value=conc)\n",
    "df.to_csv(path/(date+'_data.csv'), encoding='utf-8', index=True)"
   ]
  },
  {
   "cell_type": "code",
   "execution_count": 33,
   "metadata": {},
   "outputs": [
    {
     "data": {
      "text/html": [
       "<div>\n",
       "<style scoped>\n",
       "    .dataframe tbody tr th:only-of-type {\n",
       "        vertical-align: middle;\n",
       "    }\n",
       "\n",
       "    .dataframe tbody tr th {\n",
       "        vertical-align: top;\n",
       "    }\n",
       "\n",
       "    .dataframe thead th {\n",
       "        text-align: right;\n",
       "    }\n",
       "</style>\n",
       "<table border=\"1\" class=\"dataframe\">\n",
       "  <thead>\n",
       "    <tr style=\"text-align: right;\">\n",
       "      <th></th>\n",
       "      <th>tub conc</th>\n",
       "      <th>growth mean</th>\n",
       "      <th>growth std</th>\n",
       "      <th>time2nuc mean</th>\n",
       "      <th>time2nuc std</th>\n",
       "      <th>lifetime mean</th>\n",
       "      <th>lifetime std</th>\n",
       "    </tr>\n",
       "  </thead>\n",
       "  <tbody>\n",
       "    <tr>\n",
       "      <th>11</th>\n",
       "      <td>7.5</td>\n",
       "      <td>0.507391</td>\n",
       "      <td>0.077673</td>\n",
       "      <td>4.945652</td>\n",
       "      <td>3.764241</td>\n",
       "      <td>7.804348</td>\n",
       "      <td>4.603850</td>\n",
       "    </tr>\n",
       "    <tr>\n",
       "      <th>12</th>\n",
       "      <td>15.0</td>\n",
       "      <td>1.109388</td>\n",
       "      <td>0.222864</td>\n",
       "      <td>3.253401</td>\n",
       "      <td>3.107542</td>\n",
       "      <td>13.588435</td>\n",
       "      <td>6.025131</td>\n",
       "    </tr>\n",
       "    <tr>\n",
       "      <th>13</th>\n",
       "      <td>6.0</td>\n",
       "      <td>0.333000</td>\n",
       "      <td>0.066495</td>\n",
       "      <td>5.779167</td>\n",
       "      <td>4.053574</td>\n",
       "      <td>6.216667</td>\n",
       "      <td>3.749682</td>\n",
       "    </tr>\n",
       "    <tr>\n",
       "      <th>21</th>\n",
       "      <td>10.0</td>\n",
       "      <td>0.910345</td>\n",
       "      <td>0.348778</td>\n",
       "      <td>6.508621</td>\n",
       "      <td>4.319710</td>\n",
       "      <td>12.425287</td>\n",
       "      <td>6.903471</td>\n",
       "    </tr>\n",
       "    <tr>\n",
       "      <th>22</th>\n",
       "      <td>17.5</td>\n",
       "      <td>1.390769</td>\n",
       "      <td>0.274220</td>\n",
       "      <td>3.061966</td>\n",
       "      <td>3.370664</td>\n",
       "      <td>16.769231</td>\n",
       "      <td>8.172985</td>\n",
       "    </tr>\n",
       "    <tr>\n",
       "      <th>23</th>\n",
       "      <td>12.5</td>\n",
       "      <td>1.096216</td>\n",
       "      <td>0.254813</td>\n",
       "      <td>2.141892</td>\n",
       "      <td>2.712629</td>\n",
       "      <td>14.900901</td>\n",
       "      <td>7.534843</td>\n",
       "    </tr>\n",
       "    <tr>\n",
       "      <th>31</th>\n",
       "      <td>12.5</td>\n",
       "      <td>1.104828</td>\n",
       "      <td>0.355152</td>\n",
       "      <td>5.566092</td>\n",
       "      <td>3.816564</td>\n",
       "      <td>14.591954</td>\n",
       "      <td>6.489397</td>\n",
       "    </tr>\n",
       "    <tr>\n",
       "      <th>32</th>\n",
       "      <td>10.0</td>\n",
       "      <td>0.642857</td>\n",
       "      <td>0.134017</td>\n",
       "      <td>6.380952</td>\n",
       "      <td>3.370421</td>\n",
       "      <td>8.214286</td>\n",
       "      <td>4.594882</td>\n",
       "    </tr>\n",
       "    <tr>\n",
       "      <th>33</th>\n",
       "      <td>7.5</td>\n",
       "      <td>0.448000</td>\n",
       "      <td>0.081346</td>\n",
       "      <td>5.494444</td>\n",
       "      <td>4.428832</td>\n",
       "      <td>8.077778</td>\n",
       "      <td>6.250354</td>\n",
       "    </tr>\n",
       "  </tbody>\n",
       "</table>\n",
       "</div>"
      ],
      "text/plain": [
       "    tub conc  growth mean  growth std  time2nuc mean  time2nuc std  \\\n",
       "11       7.5     0.507391    0.077673       4.945652      3.764241   \n",
       "12      15.0     1.109388    0.222864       3.253401      3.107542   \n",
       "13       6.0     0.333000    0.066495       5.779167      4.053574   \n",
       "21      10.0     0.910345    0.348778       6.508621      4.319710   \n",
       "22      17.5     1.390769    0.274220       3.061966      3.370664   \n",
       "23      12.5     1.096216    0.254813       2.141892      2.712629   \n",
       "31      12.5     1.104828    0.355152       5.566092      3.816564   \n",
       "32      10.0     0.642857    0.134017       6.380952      3.370421   \n",
       "33       7.5     0.448000    0.081346       5.494444      4.428832   \n",
       "\n",
       "    lifetime mean  lifetime std  \n",
       "11       7.804348      4.603850  \n",
       "12      13.588435      6.025131  \n",
       "13       6.216667      3.749682  \n",
       "21      12.425287      6.903471  \n",
       "22      16.769231      8.172985  \n",
       "23      14.900901      7.534843  \n",
       "31      14.591954      6.489397  \n",
       "32       8.214286      4.594882  \n",
       "33       8.077778      6.250354  "
      ]
     },
     "execution_count": 33,
     "metadata": {},
     "output_type": "execute_result"
    }
   ],
   "source": [
    "data = pd.read_csv(path/(date+'_data.csv'),sep=',', index_col=0);\n",
    "data"
   ]
  },
  {
   "cell_type": "code",
   "execution_count": 34,
   "metadata": {},
   "outputs": [
    {
     "data": {
      "image/png": "[encoded data removed]",
      "text/plain": [
       "<Figure size 1440x360 with 3 Axes>"
      ]
     },
     "metadata": {
      "needs_background": "light"
     },
     "output_type": "display_data"
    }
   ],
   "source": [
    "titles = ('Growth','Nucleation','Catastrophe')\n",
    "ylables = ('Growth Rate ' r'$(\\mu m / min)$','Time to Nucleate ' r'$(min)$','Lifetime ' r'$(min)$')\n",
    "\n",
    "a1 , a0 = np.polyfit(data['tub conc'], data['growth mean'], 1)\n",
    "y_int = -a0/a1\n",
    "x_range = np.arange(0,20,0.1)\n",
    "\n",
    "plt.figure(figsize=(20,5))\n",
    "plt.suptitle('Analysis of '+micscp+' data from '+date, fontsize=16)\n",
    "\n",
    "plt.subplot(1,3,1)\n",
    "plt.errorbar(data['tub conc'], data['growth mean'], yerr=data['growth std'], fmt='o')\n",
    "plt.plot(x_range, a1*x_range+a0)\n",
    "plt.ylim(0,2.5)\n",
    "plt.legend(('Linear Fit:  'r'$K_a$'' = %.2f 'r'$\\frac{dimers}{\\mu M \\; s}$'', 'r'$C_c$'' = %.2f 'r'$\\mu M$' %(a1*27.1, y_int),'Data'),loc='upper left')\n",
    "\n",
    "plt.subplot(1,3,2)\n",
    "plt.scatter(data['tub conc'], data['time2nuc mean'])\n",
    "plt.scatter(data['tub conc'], data['time2nuc std'])\n",
    "plt.ylim(0,10)\n",
    "plt.legend(( 'Mean',r'$\\sigma$'),loc='upper left')\n",
    "\n",
    "plt.subplot(1,3,3)\n",
    "plt.scatter(data['tub conc'], data['lifetime mean'])\n",
    "plt.scatter(data['tub conc'], data['lifetime std'])\n",
    "plt.ylim(0,20)\n",
    "plt.legend(('Mean', r'$\\sigma$'),loc='upper left')\n",
    "\n",
    "\n",
    "for i in [0,1,2] :\n",
    "    plt.subplot(1,3,i+1)\n",
    "    plt.xlabel('[Tub] ' r'$(\\mu M)$')\n",
    "    plt.ylabel(ylables[i])\n",
    "    plt.title(titles[i]);\n",
    "    plt.xlim(0,21)\n",
    "    plt.grid(True)\n",
    "    \n",
    "plt.savefig(path/(date+'_graphs.pdf'))\n",
    "plt.savefig(path/(date+'_graphs.png'))"
   ]
  },
  {
   "cell_type": "code",
   "execution_count": null,
   "metadata": {},
   "outputs": [],
   "source": []
  }
 ],
 "metadata": {
  "kernelspec": {
   "display_name": "Python 3",
   "language": "python",
   "name": "python3"
  },
  "language_info": {
   "codemirror_mode": {
    "name": "ipython",
    "version": 3
   },
   "file_extension": ".py",
   "mimetype": "text/x-python",
   "name": "python",
   "nbconvert_exporter": "python",
   "pygments_lexer": "ipython3",
   "version": "3.7.1"
  }
 },
 "nbformat": 4,
 "nbformat_minor": 2
}
