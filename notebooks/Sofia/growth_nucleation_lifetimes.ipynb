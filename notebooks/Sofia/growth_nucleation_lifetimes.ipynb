{
 "cells": [
  {
   "cell_type": "code",
   "execution_count": 1,
   "metadata": {},
   "outputs": [],
   "source": [
    "import numpy as np\n",
    "import matplotlib.pyplot as plt\n",
    "import csv\n",
    "import pandas as pd\n",
    "import statistics as stat\n",
    "import os\n",
    "from pathlib import Path"
   ]
  },
  {
   "cell_type": "code",
   "execution_count": 2,
   "metadata": {},
   "outputs": [
    {
     "data": {
      "text/plain": [
       "'C://Users/brouhardlab/Documents/GitHub/sofia-brouhardlab/2018-12-07_DIC/'"
      ]
     },
     "execution_count": 2,
     "metadata": {},
     "output_type": "execute_result"
    }
   ],
   "source": [
    "date = '2018-12-07'\n",
    "path = \"C://Users/brouhardlab/Documents/GitHub/sofia-brouhardlab/\"+date+\"_DIC/\"\n",
    "\n",
    "ch = ['22','23','31','32','33']\n",
    "conc_name = ['10','15','7-5','12-5','20']\n",
    "conc = [10,15,7.5,12.5,20]\n",
    "inter_s = [10,10,10,10,10]\n",
    "path"
   ]
  },
  {
   "cell_type": "code",
   "execution_count": 4,
   "metadata": {},
   "outputs": [],
   "source": [
    "def dynamics(k):\n",
    "    \n",
    "    filename = path+date+'_CH'+ch[k]+'_'+conc_name[k]+'uM'\n",
    "    \n",
    "    data = pd.read_csv(filename+'.csv',sep=',');\n",
    "    supp = pd.read_csv(filename+'_start.csv',sep=',');\n",
    "    \n",
    "    inter = inter_s[k];\n",
    "    \n",
    "    n = len(supp['Track ID'])\n",
    "    start = sum(supp['Track duration (s)'])/n;\n",
    "    \n",
    "    ####################################\n",
    "    \n",
    "    oddID = [n-1 for n in data['Track ID'] if n%2]\n",
    "    growth = []\n",
    "    \n",
    "    for i in oddID:\n",
    "        g = abs(data['Track speed (um/s)'][i])*60;\n",
    "        growth = np.append(growth,g)\n",
    "       \n",
    "    ####################################\n",
    "    \n",
    "    evenID = [n for n in data['Track ID'] if n%2]\n",
    "    \n",
    "    y1 = []\n",
    "    lifetime = []\n",
    "    \n",
    "    for i in evenID:\n",
    "        y1 = np.append(y1,min(data['y1'][i],data['y2'][i]))\n",
    "        y2 = max(data['y1'][i],data['y2'][i])\n",
    "        \n",
    "        if y2 < 119:\n",
    "            lt = (data['Track duration (s)'][i]);\n",
    "            lifetime = np.append(lifetime,lt/60)\n",
    "    \n",
    "    nuc_lag = (y1*inter - start)/60;\n",
    "    \n",
    "    ######################################\n",
    "        \n",
    "    return growth, nuc_lag , lifetime"
   ]
  },
  {
   "cell_type": "code",
   "execution_count": 5,
   "metadata": {},
   "outputs": [],
   "source": [
    "def save_raw(j,name):\n",
    "\n",
    "    track = dynamics(0)\n",
    "    df = pd.DataFrame(track[j], columns=[str(conc[0])])\n",
    "\n",
    "    for i in range(1,len(ch)):\n",
    "    \n",
    "        track = dynamics(i)\n",
    "        df0 = pd.DataFrame(track[j], columns=[str(conc[i])])\n",
    "        df = pd.concat([df, df0], axis=1, sort=False)\n",
    "\n",
    "    df.to_csv(path+date+'_'+name+'.csv', encoding='utf-8', index=False)"
   ]
  },
  {
   "cell_type": "code",
   "execution_count": 6,
   "metadata": {},
   "outputs": [],
   "source": [
    "name = ['growth','nuc-lag','lifetime']\n",
    "\n",
    "for j in [0,1,2]:\n",
    "    save_raw(j,name[j])"
   ]
  },
  {
   "cell_type": "code",
   "execution_count": 7,
   "metadata": {},
   "outputs": [],
   "source": [
    "def get_mean_std(name):\n",
    "    data = pd.read_csv(path+date+'_'+name+'.csv',sep=',');\n",
    "\n",
    "    mean = []\n",
    "    sdev = []\n",
    "\n",
    "    #mean = data.mean(axis=0)\n",
    "    for i in data.columns:\n",
    "        mean = np.append(mean,data[i].mean())\n",
    "        sdev = np.append(sdev,data[i].std())\n",
    "    \n",
    "    df = pd.DataFrame([mean, sdev], columns=data.columns, index=[name+' mean', name+' std'])\n",
    "\n",
    "    return df"
   ]
  },
  {
   "cell_type": "code",
   "execution_count": 8,
   "metadata": {},
   "outputs": [],
   "source": [
    "df = get_mean_std(name[0])\n",
    "df = df.append(get_mean_std(name[1]))\n",
    "df = df.append(get_mean_std(name[2]))\n",
    "df = df.T\n",
    "df.to_csv(path+date+'_data.csv', encoding='utf-8', index=True)"
   ]
  },
  {
   "cell_type": "code",
   "execution_count": 9,
   "metadata": {},
   "outputs": [
    {
     "data": {
      "text/html": [
       "<div>\n",
       "<style scoped>\n",
       "    .dataframe tbody tr th:only-of-type {\n",
       "        vertical-align: middle;\n",
       "    }\n",
       "\n",
       "    .dataframe tbody tr th {\n",
       "        vertical-align: top;\n",
       "    }\n",
       "\n",
       "    .dataframe thead th {\n",
       "        text-align: right;\n",
       "    }\n",
       "</style>\n",
       "<table border=\"1\" class=\"dataframe\">\n",
       "  <thead>\n",
       "    <tr style=\"text-align: right;\">\n",
       "      <th></th>\n",
       "      <th>growth mean</th>\n",
       "      <th>growth std</th>\n",
       "      <th>nuc-lag mean</th>\n",
       "      <th>nuc-lag std</th>\n",
       "      <th>lifetime mean</th>\n",
       "      <th>lifetime std</th>\n",
       "    </tr>\n",
       "  </thead>\n",
       "  <tbody>\n",
       "    <tr>\n",
       "      <th>10.0</th>\n",
       "      <td>0.518824</td>\n",
       "      <td>0.211006</td>\n",
       "      <td>1.014706</td>\n",
       "      <td>2.904773</td>\n",
       "      <td>2.058824</td>\n",
       "      <td>1.081635</td>\n",
       "    </tr>\n",
       "    <tr>\n",
       "      <th>15.0</th>\n",
       "      <td>0.520000</td>\n",
       "      <td>0.131339</td>\n",
       "      <td>2.174242</td>\n",
       "      <td>3.194258</td>\n",
       "      <td>5.955128</td>\n",
       "      <td>3.309098</td>\n",
       "    </tr>\n",
       "    <tr>\n",
       "      <th>7.5</th>\n",
       "      <td>0.310909</td>\n",
       "      <td>0.125336</td>\n",
       "      <td>4.704545</td>\n",
       "      <td>4.983914</td>\n",
       "      <td>4.407407</td>\n",
       "      <td>3.149196</td>\n",
       "    </tr>\n",
       "    <tr>\n",
       "      <th>12.5</th>\n",
       "      <td>0.468000</td>\n",
       "      <td>0.104105</td>\n",
       "      <td>3.616667</td>\n",
       "      <td>3.324814</td>\n",
       "      <td>4.500000</td>\n",
       "      <td>2.267592</td>\n",
       "    </tr>\n",
       "    <tr>\n",
       "      <th>20.0</th>\n",
       "      <td>1.292000</td>\n",
       "      <td>0.370446</td>\n",
       "      <td>1.033333</td>\n",
       "      <td>1.991914</td>\n",
       "      <td>9.630952</td>\n",
       "      <td>4.840701</td>\n",
       "    </tr>\n",
       "  </tbody>\n",
       "</table>\n",
       "</div>"
      ],
      "text/plain": [
       "      growth mean  growth std  nuc-lag mean  nuc-lag std  lifetime mean  \\\n",
       "10.0     0.518824    0.211006      1.014706     2.904773       2.058824   \n",
       "15.0     0.520000    0.131339      2.174242     3.194258       5.955128   \n",
       "7.5      0.310909    0.125336      4.704545     4.983914       4.407407   \n",
       "12.5     0.468000    0.104105      3.616667     3.324814       4.500000   \n",
       "20.0     1.292000    0.370446      1.033333     1.991914       9.630952   \n",
       "\n",
       "      lifetime std  \n",
       "10.0      1.081635  \n",
       "15.0      3.309098  \n",
       "7.5       3.149196  \n",
       "12.5      2.267592  \n",
       "20.0      4.840701  "
      ]
     },
     "execution_count": 9,
     "metadata": {},
     "output_type": "execute_result"
    }
   ],
   "source": [
    "data = pd.read_csv(path+date+'_data.csv',sep=',', index_col=0);\n",
    "data"
   ]
  },
  {
   "cell_type": "code",
   "execution_count": 10,
   "metadata": {},
   "outputs": [
    {
     "data": {
      "image/png": "[encoded data removed]",
      "text/plain": [
       "<Figure size 432x288 with 1 Axes>"
      ]
     },
     "metadata": {
      "needs_background": "light"
     },
     "output_type": "display_data"
    }
   ],
   "source": [
    "a1 , a0 = np.polyfit(data.index, data['growth mean'], 1)\n",
    "y_int = -a0/a1\n",
    "x_range = np.arange(0,20,0.1)\n",
    "\n",
    "plt.errorbar(data.index, data['growth mean'], yerr=data['growth std'], fmt='o')\n",
    "plt.plot(x_range, a1*x_range+a0)\n",
    "plt.legend(('Linear Fit:  'r'$K_a$'' = %.2f 'r'$\\frac{dimers}{\\mu M \\; s}$'', 'r'$C_c$'' = %.2f 'r'$\\mu M$' %(a1*27.1, y_int),'Data'),loc='upper left')\n",
    "plt.xlabel('[Tub] ' r'$(\\mu M)$')\n",
    "plt.ylabel('Growth Rate ' r'$(\\mu m / min)$')\n",
    "plt.ylim(0,2.5)\n",
    "plt.xlim(0,21)\n",
    "plt.grid(True)\n",
    "plt.title('DIC');\n",
    "plt.savefig(path+date+'_growth.pdf')"
   ]
  },
  {
   "cell_type": "code",
   "execution_count": 11,
   "metadata": {},
   "outputs": [
    {
     "data": {
      "image/png": "[encoded data removed]",
      "text/plain": [
       "<Figure size 432x288 with 1 Axes>"
      ]
     },
     "metadata": {
      "needs_background": "light"
     },
     "output_type": "display_data"
    }
   ],
   "source": [
    "plt.scatter(data.index, data['nuc-lag mean'])\n",
    "plt.scatter(data.index, data['nuc-lag std'])\n",
    "plt.legend(( r'$\\mu$' ' Nucleation Time',r'$\\sigma$' ' Nucleation Time'),loc='upper left')\n",
    "plt.xlabel('[Tub] ' r'$(\\mu M)$')\n",
    "plt.ylabel('Nucleation Lag ' r'$(min)$')\n",
    "plt.ylim(0,10)\n",
    "plt.xlim(0,21)\n",
    "plt.grid(True)\n",
    "plt.title('DIC');\n",
    "plt.savefig(path+date+'_nuc-lag.pdf')"
   ]
  },
  {
   "cell_type": "code",
   "execution_count": 12,
   "metadata": {},
   "outputs": [
    {
     "data": {
      "image/png": "[encoded data removed]",
      "text/plain": [
       "<Figure size 432x288 with 1 Axes>"
      ]
     },
     "metadata": {
      "needs_background": "light"
     },
     "output_type": "display_data"
    }
   ],
   "source": [
    "plt.scatter(data.index, data['lifetime mean'])\n",
    "plt.scatter(data.index, data['lifetime std'])\n",
    "plt.legend(( r'$\\mu$' ' Lifetime',r'$\\sigma$' ' Lifetime'),loc='upper left')\n",
    "plt.xlabel('[Tub] ' r'$(\\mu M)$')\n",
    "plt.ylabel('Lifetime ' r'$(min)$')\n",
    "plt.ylim(0,15)\n",
    "plt.xlim(0,21)\n",
    "plt.grid(True)\n",
    "plt.title('DIC');\n",
    "plt.savefig(path+date+'_lifetime.pdf')"
   ]
  },
  {
   "cell_type": "code",
   "execution_count": 13,
   "metadata": {},
   "outputs": [
    {
     "data": {
      "image/png": "[encoded data removed]",
      "text/plain": [
       "<Figure size 432x288 with 1 Axes>"
      ]
     },
     "metadata": {
      "needs_background": "light"
     },
     "output_type": "display_data"
    }
   ],
   "source": [
    "track = dynamics(2)\n",
    "\n",
    "for i in [1,2] :\n",
    "    weights = np.ones_like(track[i])/float(len(track[i]))\n",
    "    plt.hist(track[i],20, weights=weights)"
   ]
  },
  {
   "cell_type": "code",
   "execution_count": null,
   "metadata": {},
   "outputs": [],
   "source": []
  },
  {
   "cell_type": "code",
   "execution_count": null,
   "metadata": {},
   "outputs": [],
   "source": []
  }
 ],
 "metadata": {
  "kernelspec": {
   "display_name": "Python 3",
   "language": "python",
   "name": "python3"
  },
  "language_info": {
   "codemirror_mode": {
    "name": "ipython",
    "version": 3
   },
   "file_extension": ".py",
   "mimetype": "text/x-python",
   "name": "python",
   "nbconvert_exporter": "python",
   "pygments_lexer": "ipython3",
   "version": "3.7.1"
  }
 },
 "nbformat": 4,
 "nbformat_minor": 2
}
