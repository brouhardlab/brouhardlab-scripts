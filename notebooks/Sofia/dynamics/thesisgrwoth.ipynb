{
 "cells": [
  {
   "cell_type": "code",
   "execution_count": 2,
   "id": "fe7ae6a8-54f4-4c58-97f7-dcbb1f5c1da0",
   "metadata": {
    "tags": []
   },
   "outputs": [],
   "source": [
    "import numpy as np\n",
    "import seaborn as sns\n",
    "import matplotlib\n",
    "import matplotlib.pyplot as plt\n",
    "import csv\n",
    "import pandas as pd\n",
    "from pandas.api.types import CategoricalDtype\n",
    "import scipy as sp\n",
    "from pathlib import Path\n",
    "import tkinter as tk\n",
    "from tkinter import filedialog\n",
    "import itertools\n",
    "from colour import Color\n",
    "from datetime import date\n",
    "import statsmodels.api as sm\n",
    "from statsmodels.stats.weightstats import ztest as ztest\n",
    "from sklearn.metrics import r2_score as R2S\n",
    "import cairo"
   ]
  },
  {
   "cell_type": "markdown",
   "id": "39fd21f4-a419-4d77-bcc5-549fb79a2ede",
   "metadata": {},
   "source": [
    "## Names and Palette ##"
   ]
  },
  {
   "cell_type": "code",
   "execution_count": 3,
   "id": "824c2328-d938-4274-95bc-9b83b7ea43af",
   "metadata": {
    "tags": []
   },
   "outputs": [
    {
     "name": "stdout",
     "output_type": "stream",
     "text": [
      "Today's date: 2024-03-21\n"
     ]
    },
    {
     "data": {
      "text/plain": [
       "'2024-03-21'"
      ]
     },
     "execution_count": 3,
     "metadata": {},
     "output_type": "execute_result"
    }
   ],
   "source": [
    "today = date.today()\n",
    "print(\"Today's date:\", today)\n",
    "date = str(today)\n",
    "date"
   ]
  },
  {
   "cell_type": "code",
   "execution_count": 4,
   "id": "4e78c1d6-bd92-4a56-b8c3-93b72e129b50",
   "metadata": {
    "tags": []
   },
   "outputs": [],
   "source": [
    "tubulin = '[Tubulin] (' r'$\\mu$' 'M)'\n",
    "tub = 'tub'\n",
    "\n",
    "DCXconc = '[DCX] (nM)' \n",
    "EBconc = '[EB] (nM)'\n",
    "DCX = 'DCX'\n",
    "Type = 'DCX Type'\n",
    "\n",
    "Concentration = 'Concentration (' r'$\\mu$' 'M)'\n",
    "Length = 'Length (' r'$\\mu$' 'm)'\n",
    "Lifetime = 'Lifetime (min)'\n",
    "GrowthRate = 'Growth Rate (' r'$\\mu$' 'm/min)'\n",
    "TimeToNucleate = 'Time to Nucleate (min)'\n",
    "ShrinkageLength = 'Shrink Length (' r'$\\mu$' 'm)'\n",
    "ShrinkageLifetime = 'Shrink Lifetime (min)'\n",
    "ShrinkageRate = 'Shrink Rate (' r'$\\mu$' 'm/min)'\n",
    "RescuePerLength = 'Rescues (' r'$\\mu$' 'm' r'$^{-1}$' ')'\n",
    "RescuePerTime = 'Rescues ( s' r'$^{-1}$' ')'\n",
    "RescuePerLT = 'Rescues (' r'$\\mu$' 'm' r'$^{-1}$' 's'  r'$^{-1}$' ')'"
   ]
  },
  {
   "cell_type": "code",
   "execution_count": 5,
   "id": "c81c6b64-3536-47da-bf30-f13a1b861275",
   "metadata": {
    "tags": []
   },
   "outputs": [],
   "source": [
    "Type_order = ['None', 'Y64N','R76S','R102S', 'R178L', 'P191R', 'G223E','R303X', 'WT']\n",
    "\n",
    "category_Type = CategoricalDtype(Type_order, ordered=True,) #order mutants"
   ]
  },
  {
   "cell_type": "code",
   "execution_count": 6,
   "id": "1f426fc1-d3f9-437b-93b6-43326c3a6f27",
   "metadata": {
    "tags": []
   },
   "outputs": [],
   "source": [
    "grey00 = '#777777'\n",
    "grey20 = '#C5C5C5'\n",
    "cyan00 = '#0089CF'  \n",
    "cyan20 = '#65CBFF'\n",
    "pink00 = '#e468b8'\n",
    "pink20 = '#FBB0E1'\n",
    "orange00 = '#ff8341'\n",
    "orange20 = '#FFC6A8'\n"
   ]
  },
  {
   "cell_type": "code",
   "execution_count": 7,
   "id": "377bf315-0d26-4dea-98bb-29650e52ab3f",
   "metadata": {
    "tags": []
   },
   "outputs": [
    {
     "name": "stdout",
     "output_type": "stream",
     "text": [
      "[<Color #ab4a9c>, <Color #e468b8>, <Color #ffa4cd>] [<Color #ff5b00>, <Color #ff8341>, <Color #ffac83>]\n"
     ]
    },
    {
     "data": {
      "text/plain": [
       "['#777777', '#ab4a9c', '#e468b8', '#ff5b00', '#ff8341', '#ffac83', '#0089CF']"
      ]
     },
     "execution_count": 7,
     "metadata": {},
     "output_type": "execute_result"
    }
   ],
   "source": [
    "black = '#000000'\n",
    "grey = '#777777'\n",
    "blue = '#23459C'\n",
    "cyan = '#0089CF'\n",
    "green = '#79BA1A'\n",
    "purple = '#AB4A9C'\n",
    "lily = '#CB81EA'\n",
    "magenta = '#D80B8C'\n",
    "red = '#e60000'\n",
    "orange = '#FF7300'\n",
    "darkorange = '#FF5B00'\n",
    "lightorange = '#FFAC83'\n",
    "yellow = '#FFCB05'\n",
    "lightyellow = '#F9DC2D'\n",
    "pink = '#FFA4CD'\n",
    "StartHue1 = Color(purple)\n",
    "DC1color = list(StartHue1.range_to(Color(pink),3))\n",
    "StartHue2 = Color(darkorange)\n",
    "DC2color = list(StartHue2.range_to(Color(lightorange),3))\n",
    "print(DC1color,DC2color)\n",
    "\n",
    "palette_all = [grey] + list(map(Color.get_hex,DC1color)) + list(map(Color.get_hex,DC2color)) + [green,cyan]\n",
    "palette_ppr = [grey] + list(map(Color.get_hex,DC1color))[:-1] + list(map(Color.get_hex,DC2color)) + [cyan]\n",
    "\n",
    "parameters = [GrowthRate,TimeToNucleate,Lifetime,ShrinkageRate]\n",
    "palette_ppr"
   ]
  },
  {
   "cell_type": "code",
   "execution_count": 8,
   "id": "7a68f083-e6dd-4fc8-bae4-2bf9976b923e",
   "metadata": {
    "tags": []
   },
   "outputs": [],
   "source": [
    "### font for matplotlib\n",
    "matplotlib.rcParams['font.family'] = 'Helvetica Neue LT Std'"
   ]
  },
  {
   "cell_type": "markdown",
   "id": "b8da92f8-1505-45e5-831e-855bfa20fa1e",
   "metadata": {},
   "source": [
    "## Open data if already saved ##"
   ]
  },
  {
   "cell_type": "code",
   "execution_count": 9,
   "id": "0be1689c-9c05-4523-bc68-e6acfbf75bf9",
   "metadata": {
    "tags": []
   },
   "outputs": [],
   "source": [
    "askmastersheet = filedialog.askopenfilename() # show an \"Open\" dialog box and return the path to the selected file\n"
   ]
  },
  {
   "cell_type": "code",
   "execution_count": 13,
   "id": "d2485bbb-ffe8-4f01-92a8-90212bd4b523",
   "metadata": {
    "tags": []
   },
   "outputs": [
    {
     "data": {
      "text/html": [
       "<div>\n",
       "<style scoped>\n",
       "    .dataframe tbody tr th:only-of-type {\n",
       "        vertical-align: middle;\n",
       "    }\n",
       "\n",
       "    .dataframe tbody tr th {\n",
       "        vertical-align: top;\n",
       "    }\n",
       "\n",
       "    .dataframe thead th {\n",
       "        text-align: right;\n",
       "    }\n",
       "</style>\n",
       "<table border=\"1\" class=\"dataframe\">\n",
       "  <thead>\n",
       "    <tr style=\"text-align: right;\">\n",
       "      <th></th>\n",
       "      <th>[Tubulin] ($\\mu$M)</th>\n",
       "      <th>Growth Rate ($\\mu$m/min)</th>\n",
       "    </tr>\n",
       "  </thead>\n",
       "  <tbody>\n",
       "    <tr>\n",
       "      <th>0</th>\n",
       "      <td>6</td>\n",
       "      <td>0.204303</td>\n",
       "    </tr>\n",
       "    <tr>\n",
       "      <th>1</th>\n",
       "      <td>6</td>\n",
       "      <td>0.216410</td>\n",
       "    </tr>\n",
       "    <tr>\n",
       "      <th>2</th>\n",
       "      <td>6</td>\n",
       "      <td>0.397606</td>\n",
       "    </tr>\n",
       "    <tr>\n",
       "      <th>3</th>\n",
       "      <td>6</td>\n",
       "      <td>0.404851</td>\n",
       "    </tr>\n",
       "    <tr>\n",
       "      <th>4</th>\n",
       "      <td>6</td>\n",
       "      <td>0.382525</td>\n",
       "    </tr>\n",
       "    <tr>\n",
       "      <th>...</th>\n",
       "      <td>...</td>\n",
       "      <td>...</td>\n",
       "    </tr>\n",
       "    <tr>\n",
       "      <th>2384</th>\n",
       "      <td>15</td>\n",
       "      <td>1.167496</td>\n",
       "    </tr>\n",
       "    <tr>\n",
       "      <th>2385</th>\n",
       "      <td>15</td>\n",
       "      <td>0.941585</td>\n",
       "    </tr>\n",
       "    <tr>\n",
       "      <th>2386</th>\n",
       "      <td>15</td>\n",
       "      <td>0.999491</td>\n",
       "    </tr>\n",
       "    <tr>\n",
       "      <th>2387</th>\n",
       "      <td>15</td>\n",
       "      <td>1.458611</td>\n",
       "    </tr>\n",
       "    <tr>\n",
       "      <th>2388</th>\n",
       "      <td>15</td>\n",
       "      <td>1.202152</td>\n",
       "    </tr>\n",
       "  </tbody>\n",
       "</table>\n",
       "<p>2389 rows × 2 columns</p>\n",
       "</div>"
      ],
      "text/plain": [
       "      [Tubulin] ($\\mu$M)  Growth Rate ($\\mu$m/min)\n",
       "0                      6                  0.204303\n",
       "1                      6                  0.216410\n",
       "2                      6                  0.397606\n",
       "3                      6                  0.404851\n",
       "4                      6                  0.382525\n",
       "...                  ...                       ...\n",
       "2384                  15                  1.167496\n",
       "2385                  15                  0.941585\n",
       "2386                  15                  0.999491\n",
       "2387                  15                  1.458611\n",
       "2388                  15                  1.202152\n",
       "\n",
       "[2389 rows x 2 columns]"
      ]
     },
     "execution_count": 13,
     "metadata": {},
     "output_type": "execute_result"
    }
   ],
   "source": [
    "data = pd.read_csv(askmastersheet, encoding='utf-8')\n",
    "data "
   ]
  },
  {
   "cell_type": "code",
   "execution_count": 14,
   "id": "a4de5f04-07f8-4dea-93b8-9cc5e9c2770d",
   "metadata": {
    "tags": []
   },
   "outputs": [
    {
     "data": {
      "text/plain": [
       "WindowsPath('C:/Users/sofia/OneDrive/Documentos/mcgill/Thesis/Figures-intro/growth_curve/Plots')"
      ]
     },
     "execution_count": 14,
     "metadata": {},
     "output_type": "execute_result"
    }
   ],
   "source": [
    "pathmastersheet = Path(askmastersheet)\n",
    "resultdirectory = str(pathmastersheet.parents[0])+'//Plots'\n",
    "newmydir = Path(resultdirectory)\n",
    "newmydir.mkdir(exist_ok=True)\n",
    "path = newmydir\n",
    "path"
   ]
  },
  {
   "cell_type": "code",
   "execution_count": 51,
   "id": "88582d23-87dc-4442-a9b0-e4de676b99c6",
   "metadata": {
    "tags": []
   },
   "outputs": [],
   "source": [
    "GRmean = data.groupby(by=[tubulin]).mean()"
   ]
  },
  {
   "cell_type": "code",
   "execution_count": 62,
   "id": "738d3d46-c4a0-4b18-b85f-23c42b6fb7fa",
   "metadata": {
    "tags": []
   },
   "outputs": [],
   "source": [
    "y = GRmean[GrowthRate].values\n",
    "x = data[tubulin].unique()"
   ]
  },
  {
   "cell_type": "code",
   "execution_count": 63,
   "id": "3c40e76e-b693-4f93-9bfc-d95ac9fe70b1",
   "metadata": {
    "tags": []
   },
   "outputs": [
    {
     "data": {
      "text/plain": [
       "(array([ 0.09132218, -0.25880356]), array([0.00453989, 0.0489563 ]))"
      ]
     },
     "execution_count": 63,
     "metadata": {},
     "output_type": "execute_result"
    }
   ],
   "source": [
    "p, cov = np.polyfit(x,y, 1, cov=True)\n",
    "var = np.diagonal(cov) #Refer [3]\n",
    "SElin = np.sqrt(var) #Refer [4]\n",
    "p, SElin"
   ]
  },
  {
   "cell_type": "markdown",
   "id": "f86bb662-89f0-4649-a863-a20564bb0b44",
   "metadata": {},
   "source": [
    "## Growth Curve ##"
   ]
  },
  {
   "cell_type": "code",
   "execution_count": 99,
   "id": "564f9997-ee04-4727-ab2a-75814c001de7",
   "metadata": {
    "tags": []
   },
   "outputs": [
    {
     "data": {
      "image/png": "[encoded data removed]",
      "text/plain": [
       "<Figure size 525x525 with 1 Axes>"
      ]
     },
     "metadata": {},
     "output_type": "display_data"
    }
   ],
   "source": [
    "scattersize = 8\n",
    "cap = 1\n",
    "linetype = ['','--', ':','--', ':', '-.','']\n",
    "\n",
    "fig, ax = plt.subplots(1,1,figsize=(5.25,5.25))\n",
    "#     plt.suptitle('Fitted pooled data', fontsize=30)\n",
    "\n",
    "count = 0\n",
    "#palette = [grey,list(map(Color.get_hex,DC1color))[1],list(map(Color.get_hex,DC2color))[1],cyan] #+ list(map(Color.get_hex,DC1color)) + list(map(Color.get_hex,DC2color)) + [green,cyan]\n",
    "#palette = [grey,cyan]\n",
    "palette = [grey,cyan]#palette_ppr\n",
    "\n",
    "linx = np.arange(0, 20, 1)\n",
    "ax.plot(linx, linx*p[0]+p[1], color = grey, lw=3,ls= '--',alpha = 1)\n",
    "\n",
    "\n",
    "sns.pointplot(\n",
    "    data=data, x=tubulin, y=GrowthRate, errorbar=('sd'),native_scale=True,markersize=scattersize,\n",
    "    ax=ax, linestyle=\"none\", color = cyan,alpha = 0.9, capsize=cap, linewidth=3\n",
    ")\n",
    "\n",
    "\n",
    "ax.spines['right'].set_visible(False)\n",
    "ax.spines['top'].set_visible(False)\n",
    "ax.spines['left'].set_lw(3)\n",
    "ax.spines['bottom'].set_lw(3)\n",
    "ax.tick_params(axis='both', width = 3.5, length = 7)\n",
    "ax.set_ylim(-0,1.5)\n",
    "ax.set_yticks(np.arange(0, 1.51, 0.5))\n",
    "ax.set_xlim(0,20)\n",
    "ax.set_xticks(np.arange(0, 20.1, 5))\n",
    "ax.set_xlabel(tubulin)\n",
    "\n",
    "\n",
    "#ax.set_title('Rescue')\n",
    "ax.set_ylabel(GrowthRate)\n",
    "\n",
    "sns.set_context(\"poster\", font_scale=1, rc={\"lines.linewidth\":3.0})\n",
    "plt.tight_layout()\n",
    "#ax.legend((Type_order),loc='upper left',title='DCX Type')\n",
    "#fig.suptitle('[Tubulin] ' r'$= 6 \\mu M$')\n",
    "\n",
    "#plt.savefig(path.parents[0]/('joint_graphsFit_'+jointdate+'.png'))\n",
    "plt.savefig(newmydir/('growthrate'+date+'.pdf'))"
   ]
  },
  {
   "cell_type": "code",
   "execution_count": 100,
   "id": "051b5f3b-81b2-43df-93f4-d4bab2e6c55b",
   "metadata": {
    "tags": []
   },
   "outputs": [
    {
     "data": {
      "text/plain": [
       "1.615785554728221"
      ]
     },
     "execution_count": 100,
     "metadata": {},
     "output_type": "execute_result"
    }
   ],
   "source": [
    "(13.89-7.38)/(9.29-5.261)"
   ]
  },
  {
   "cell_type": "code",
   "execution_count": null,
   "id": "9d689339-4c70-4888-a1f5-cbab5a8d1f8d",
   "metadata": {},
   "outputs": [],
   "source": []
  }
 ],
 "metadata": {
  "kernelspec": {
   "display_name": "Python 3 (ipykernel)",
   "language": "python",
   "name": "python3"
  },
  "language_info": {
   "codemirror_mode": {
    "name": "ipython",
    "version": 3
   },
   "file_extension": ".py",
   "mimetype": "text/x-python",
   "name": "python",
   "nbconvert_exporter": "python",
   "pygments_lexer": "ipython3",
   "version": "3.11.5"
  }
 },
 "nbformat": 4,
 "nbformat_minor": 5
}
