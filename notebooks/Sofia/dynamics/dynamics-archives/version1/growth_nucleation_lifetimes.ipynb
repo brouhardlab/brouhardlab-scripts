{
 "cells": [
  {
   "cell_type": "code",
   "execution_count": 1,
   "metadata": {},
   "outputs": [],
   "source": [
    "import numpy as np\n",
    "import matplotlib.pyplot as plt\n",
    "import csv\n",
    "import pandas as pd\n",
    "from pathlib import Path\n",
    "from read_roi import read_roi_zip\n",
    "from collections import OrderedDict, Counter\n",
    "import math\n",
    "import PIL\n",
    "from PIL import Image\n",
    "from PIL.TiffTags import TAGS\n",
    "import tkinter as tk\n",
    "from tkinter import filedialog\n",
    "import seaborn as sns"
   ]
  },
  {
   "cell_type": "markdown",
   "metadata": {},
   "source": [
    "# Read, format and save raw data from ROIs #"
   ]
  },
  {
   "cell_type": "code",
   "execution_count": 35,
   "metadata": {},
   "outputs": [
    {
     "data": {
      "text/plain": [
       "WindowsPath('D:/Sofia/2020-03-11_DCX_WT_P191R')"
      ]
     },
     "execution_count": 35,
     "metadata": {},
     "output_type": "execute_result"
    }
   ],
   "source": [
    "askdirectory = filedialog.askdirectory() # show an \"Open\" dialog box and return the path to the selected file\n",
    "path = Path(askdirectory)\n",
    "path"
   ]
  },
  {
   "cell_type": "code",
   "execution_count": 36,
   "metadata": {},
   "outputs": [],
   "source": [
    "tubulin = '[Tubulin] ' r'$(\\mu M)$'\n",
    "tub = 'tub'\n",
    "\n",
    "DCXconc = '[DCX] ' r'$(\\mu M)$'\n",
    "DCX = 'DCX'\n",
    "\n",
    "investigator = 'Sofia'"
   ]
  },
  {
   "cell_type": "code",
   "execution_count": 37,
   "metadata": {},
   "outputs": [
    {
     "data": {
      "text/plain": [
       "('2020-03-11',\n",
       " ['12', '13', '21'],\n",
       " ['05', '05', '05'],\n",
       " ['100', '100', '000'],\n",
       " ['WT', 'P191R', 'None'])"
      ]
     },
     "execution_count": 37,
     "metadata": {},
     "output_type": "execute_result"
    }
   ],
   "source": [
    "dateloc = str(path).find(\"2020\")\n",
    "date = str(path)[dateloc : dateloc+10]\n",
    "\n",
    "folders = [x for x in path.iterdir() if x.is_dir()]\n",
    "folders = [i for i in folders if (str(i)[-7:] == 'results') == True]\n",
    "\n",
    "ch = []\n",
    "conc_tub = []\n",
    "conc_DCX = []\n",
    "DCX_type = []\n",
    "\n",
    "for i in folders:\n",
    "    CHloc = str(i).find(\"CH\")\n",
    "    tubloc = str(i).rfind(tub)\n",
    "    DCXloc = str(i).rfind(DCX)\n",
    "    dcxtype = str(i).find(\"type\")\n",
    "    ch = ch + [str(i)[CHloc+2:CHloc+4]]\n",
    "    conc_tub = conc_tub + [(str(i)[tubloc+3:tubloc+5])]\n",
    "    conc_DCX = conc_DCX + [(str(i)[DCXloc+3:DCXloc+6])]\n",
    "    DCX_type = DCX_type + [(str(i)[dcxtype+4:DCXloc-1])]\n",
    "\n",
    "date,ch, conc_tub, conc_DCX, DCX_type"
   ]
  },
  {
   "cell_type": "code",
   "execution_count": 38,
   "metadata": {},
   "outputs": [
    {
     "data": {
      "text/plain": [
       "[WindowsPath('D:/Sofia/2020-03-11_DCX_WT_P191R/CH12_tub05uM_typeWT_DCX100nM-results'),\n",
       " WindowsPath('D:/Sofia/2020-03-11_DCX_WT_P191R/CH13_tub05uM_typeP191R_DCX100nM-results'),\n",
       " WindowsPath('D:/Sofia/2020-03-11_DCX_WT_P191R/CH21_tub05uM_typeNone_DCX000nM-results')]"
      ]
     },
     "execution_count": 38,
     "metadata": {},
     "output_type": "execute_result"
    }
   ],
   "source": [
    "tub_conc =  [float(i) for i in conc_tub]\n",
    "DCX_conc =  [float(i) for i in conc_DCX]\n",
    "frame_analyzer = pd.read_csv(path/'frame_rates_avg.csv',sep=',')\n",
    "pixel = 0.0633\n",
    "folders"
   ]
  },
  {
   "cell_type": "code",
   "execution_count": 39,
   "metadata": {},
   "outputs": [
    {
     "data": {
      "text/html": [
       "<div>\n",
       "<style scoped>\n",
       "    .dataframe tbody tr th:only-of-type {\n",
       "        vertical-align: middle;\n",
       "    }\n",
       "\n",
       "    .dataframe tbody tr th {\n",
       "        vertical-align: top;\n",
       "    }\n",
       "\n",
       "    .dataframe thead th {\n",
       "        text-align: right;\n",
       "    }\n",
       "</style>\n",
       "<table border=\"1\" class=\"dataframe\">\n",
       "  <thead>\n",
       "    <tr style=\"text-align: right;\">\n",
       "      <th></th>\n",
       "      <th>Directory</th>\n",
       "      <th>Mean</th>\n",
       "      <th>SD</th>\n",
       "      <th>Frames</th>\n",
       "      <th>Outliers</th>\n",
       "      <th>MeanWOutliers</th>\n",
       "      <th>SDWOutliers</th>\n",
       "    </tr>\n",
       "  </thead>\n",
       "  <tbody>\n",
       "    <tr>\n",
       "      <td>0</td>\n",
       "      <td>D:\\Sofia\\2020-03-11_DCX_WT_P191R\\CH12_tub05uM_...</td>\n",
       "      <td>5.78</td>\n",
       "      <td>0.06</td>\n",
       "      <td>500</td>\n",
       "      <td>3</td>\n",
       "      <td>6.20</td>\n",
       "      <td>9.11</td>\n",
       "    </tr>\n",
       "    <tr>\n",
       "      <td>1</td>\n",
       "      <td>D:\\Sofia\\2020-03-11_DCX_WT_P191R\\CH13_tub05uM_...</td>\n",
       "      <td>5.82</td>\n",
       "      <td>0.09</td>\n",
       "      <td>500</td>\n",
       "      <td>1</td>\n",
       "      <td>6.55</td>\n",
       "      <td>16.32</td>\n",
       "    </tr>\n",
       "    <tr>\n",
       "      <td>2</td>\n",
       "      <td>D:\\Sofia\\2020-03-11_DCX_WT_P191R\\CH21_tub05uM_...</td>\n",
       "      <td>5.82</td>\n",
       "      <td>0.08</td>\n",
       "      <td>500</td>\n",
       "      <td>2</td>\n",
       "      <td>5.94</td>\n",
       "      <td>2.65</td>\n",
       "    </tr>\n",
       "  </tbody>\n",
       "</table>\n",
       "</div>"
      ],
      "text/plain": [
       "                                           Directory  Mean    SD  Frames  \\\n",
       "0  D:\\Sofia\\2020-03-11_DCX_WT_P191R\\CH12_tub05uM_...  5.78  0.06     500   \n",
       "1  D:\\Sofia\\2020-03-11_DCX_WT_P191R\\CH13_tub05uM_...  5.82  0.09     500   \n",
       "2  D:\\Sofia\\2020-03-11_DCX_WT_P191R\\CH21_tub05uM_...  5.82  0.08     500   \n",
       "\n",
       "   Outliers  MeanWOutliers  SDWOutliers  \n",
       "0         3           6.20         9.11  \n",
       "1         1           6.55        16.32  \n",
       "2         2           5.94         2.65  "
      ]
     },
     "execution_count": 39,
     "metadata": {},
     "output_type": "execute_result"
    }
   ],
   "source": [
    "#frame_analyzer = frame_analyzer.iloc[[1,3]].reset_index()\n",
    "frame_analyzer"
   ]
  },
  {
   "cell_type": "code",
   "execution_count": 40,
   "metadata": {},
   "outputs": [],
   "source": [
    "def open_roi_poly(k,name):\n",
    "    roi_path = folders[k]/(name)\n",
    "\n",
    "    roi_data = read_roi_zip(roi_path)\n",
    "    roi_df = pd.DataFrame(columns=['Track ID','x1','x2','x3','y1','y2','y3'])\n",
    "    for key in roi_data:\n",
    "        roi_df = roi_df.append({'Track ID': roi_data[key]['name'],'x1': roi_data[key]['x'][0],'x2': roi_data[key]['x'][1],'x3': roi_data[key]['x'][2],'y1': roi_data[key]['y'][0],'y2': roi_data[key]['y'][1],'y3': roi_data[key]['y'][2]}, ignore_index=True)\n",
    "    return roi_df\n",
    "\n",
    "def open_roi_line(k,name):\n",
    "    roi_path = folders[k]/(name)\n",
    "\n",
    "    roi_data = read_roi_zip(roi_path)\n",
    "    roi_df = pd.DataFrame(columns=['Track ID','x1','x2','y1','y2'])\n",
    "    for key in roi_data:\n",
    "        roi_df = roi_df.append({'Track ID': roi_data[key]['name'],'x1': roi_data[key]['x1'],'x2': roi_data[key]['x2'],'y1': roi_data[key]['y1'],'y2': roi_data[key]['y2']}, ignore_index=True)\n",
    "    return roi_df"
   ]
  },
  {
   "cell_type": "code",
   "execution_count": 41,
   "metadata": {},
   "outputs": [],
   "source": [
    "Length = 'Length ' r'$(\\mu m)$'\n",
    "Lifetime = 'Lifetime ' r'$(min)$'\n",
    "GrowthRate = 'Growth Rate ' r'$(\\mu m / min)$'\n",
    "TimeToNucleate = 'Time to Nucleate ' r'$(min)$'\n",
    "ShrinkageLength = 'Shrink Length ' r'$(\\mu m)$'\n",
    "ShrinkageLifetime = 'Shrink Lifetime ' r'$(min)$'\n",
    "ShrinkageRate = 'Shrink Rate ' r'$(\\mu m / min)$'\n",
    "poly_parameter_names = (Length,Lifetime,GrowthRate,TimeToNucleate)\n",
    "line_parameter_names = (Length,Lifetime,GrowthRate,TimeToNucleate,ShrinkageLength,ShrinkageLifetime,ShrinkageRate)"
   ]
  },
  {
   "cell_type": "code",
   "execution_count": 42,
   "metadata": {},
   "outputs": [],
   "source": [
    "def poly_dynamics(k):\n",
    "        \n",
    "    data = open_roi_poly(k,'kymoslopes.zip')\n",
    "    supp = open_roi_line(k,'start.zip')\n",
    "    \n",
    "    spf = frame_analyzer['Mean'][k];\n",
    "    frames = frame_analyzer['Frames'][k]-2\n",
    "    \n",
    "    suppn = len(supp)\n",
    "    start = sum(abs(supp['y2']-supp['y1']))/suppn;\n",
    "    \n",
    "    n = len(data)\n",
    "    pre_df = {'Date': np.full((n), date), 'Investigator': np.full((n), investigator),'CH': np.full((n), ch[k]),tubulin: np.full((n), tub_conc[k]),DCXconc: np.full((n), DCX_conc[k])}\n",
    "    df = pd.DataFrame(pre_df) \n",
    "    \n",
    "    df[Length] = abs((data['x2']-data['x1'])*pixel)\n",
    "    \n",
    "    data[Lifetime] = abs((data['y2']-data['y1'])*spf/60)\n",
    "    df[Lifetime] = data[[Lifetime,'y2']].apply(lambda x: x[Lifetime] if x['y2'] < frames-2 else np.NaN, axis=1)\n",
    "    df[Lifetime] = data[[Lifetime,'y2']].apply(lambda x: x[Lifetime] if x[Lifetime] != 0 else np.NaN, axis=1)\n",
    "    \n",
    "    df[GrowthRate] = df[Length]/df[Lifetime]\n",
    "    df[GrowthRate] = df[GrowthRate].apply(lambda x: x if x <= 5 else np.NAN )\n",
    "    \n",
    "    df[TimeToNucleate] = (data['y1']-start)*spf/60\n",
    "    \n",
    "    df[ShrinkageLength] = abs((data['x3']-data['x2'])*pixel)\n",
    "    df[ShrinkageLifetime] = abs((data['y3']-data['y2'])*spf/60)\n",
    "    df[ShrinkageLifetime] = df[ShrinkageLifetime].apply(lambda x: np.NAN if x == 0 else x)\n",
    "    df[ShrinkageRate] = df[ShrinkageLength]/df[ShrinkageLifetime]\n",
    "    \n",
    "    df.loc[pd.isnull(df[GrowthRate]), [Length,Lifetime,TimeToNucleate,ShrinkageLength,ShrinkageLifetime,ShrinkageRate]] = np.NaN\n",
    "    \n",
    "    df['Rescues'] = df[[Length,ShrinkageLength]].apply(lambda x: True if abs(x[Length]-x[ShrinkageLength]) > pixel*5 else False, axis=1)\n",
    "    \n",
    "    df['DCX Type'] = DCX_type[k]\n",
    "        \n",
    "    return df\n",
    "\n",
    "def line_dynamics(k):\n",
    "        \n",
    "    data = open_roi_line(k,'kymoslopes.zip')\n",
    "    #data_even = data.iloc[::2].reset_index()\n",
    "    #data_odd = data.iloc[1::2].reset_index()\n",
    "    data_even = data\n",
    "    data_odd = data\n",
    "    \n",
    "    supp = open_roi_line(k,'start.zip')\n",
    "    \n",
    "    spf = frame_analyzer['Mean'][k];\n",
    "    frames = frame_analyzer['Frames'][k]-2\n",
    "    \n",
    "    suppn = len(supp)\n",
    "    start = sum(abs(supp['y2']-supp['y1']))/suppn;\n",
    "    \n",
    "    n = len(data_even)\n",
    "    pre_df = {'Date': np.full((n), date),'CH': np.full((n), ch[k]),'Concentration ' r'$(\\mu M)$': np.full((n), conc[k])}\n",
    "    df = pd.DataFrame(pre_df) \n",
    "    \n",
    "    data_even[Length] = abs((data_even['x2']-data_even['x1'])*pixel)\n",
    "    data_even[Lifetime] = abs((data_even['y2']-data_even['y1'])*spf/60)\n",
    "    df[GrowthRate] = data_even[Length]/data_even[Lifetime]\n",
    "    df[GrowthRate] = df[GrowthRate].apply(lambda x: x if x <= 5 else np.NaN )\n",
    "    \n",
    "    data[Lifetime] = abs((data_odd['y2']-data_odd['y1'])*spf/60)\n",
    "    df[Lifetime] = data[[Lifetime,'y2']].apply(lambda x: x[Lifetime] if x['y2'] < frames else np.NaN, axis=1)\n",
    "    \n",
    "    df[Length] = df[GrowthRate]*df[Lifetime]\n",
    "    \n",
    "    df[TimeToNucleate] = ((data_odd[['y1','y2']].min(axis=1))-start)*spf/60\n",
    "    \n",
    "    df.loc[pd.isnull(df[GrowthRate]), [Length,Lifetime,TimeToNucleate]] = np.NaN\n",
    "    \n",
    "    df = df[['Date','CH','Concentration ' r'$(\\mu M)$',Length,Lifetime,GrowthRate,TimeToNucleate]]\n",
    "        \n",
    "    return df"
   ]
  },
  {
   "cell_type": "code",
   "execution_count": 43,
   "metadata": {},
   "outputs": [
    {
     "data": {
      "text/plain": [
       "WindowsPath('D:/Sofia')"
      ]
     },
     "execution_count": 43,
     "metadata": {},
     "output_type": "execute_result"
    }
   ],
   "source": [
    "path.parents[0]"
   ]
  },
  {
   "cell_type": "code",
   "execution_count": 44,
   "metadata": {},
   "outputs": [],
   "source": [
    "newdirectory = str(path.parents[0])+'//Data_Sheets_methylcellulose'\n",
    "newmydir = Path(newdirectory)\n",
    "newmydir.mkdir(exist_ok=True)"
   ]
  },
  {
   "cell_type": "code",
   "execution_count": 45,
   "metadata": {},
   "outputs": [
    {
     "data": {
      "text/html": [
       "<div>\n",
       "<style scoped>\n",
       "    .dataframe tbody tr th:only-of-type {\n",
       "        vertical-align: middle;\n",
       "    }\n",
       "\n",
       "    .dataframe tbody tr th {\n",
       "        vertical-align: top;\n",
       "    }\n",
       "\n",
       "    .dataframe thead th {\n",
       "        text-align: right;\n",
       "    }\n",
       "</style>\n",
       "<table border=\"1\" class=\"dataframe\">\n",
       "  <thead>\n",
       "    <tr style=\"text-align: right;\">\n",
       "      <th></th>\n",
       "      <th>Date</th>\n",
       "      <th>Investigator</th>\n",
       "      <th>CH</th>\n",
       "      <th>[Tubulin] $(\\mu M)$</th>\n",
       "      <th>[DCX] $(\\mu M)$</th>\n",
       "      <th>Length $(\\mu m)$</th>\n",
       "      <th>Lifetime $(min)$</th>\n",
       "      <th>Growth Rate $(\\mu m / min)$</th>\n",
       "      <th>Time to Nucleate $(min)$</th>\n",
       "      <th>Shrink Length $(\\mu m)$</th>\n",
       "      <th>Shrink Lifetime $(min)$</th>\n",
       "      <th>Shrink Rate $(\\mu m / min)$</th>\n",
       "      <th>Rescues</th>\n",
       "      <th>DCX Type</th>\n",
       "    </tr>\n",
       "  </thead>\n",
       "  <tbody>\n",
       "    <tr>\n",
       "      <td>0</td>\n",
       "      <td>2020-03-11</td>\n",
       "      <td>Sofia</td>\n",
       "      <td>12</td>\n",
       "      <td>5.0</td>\n",
       "      <td>100.0</td>\n",
       "      <td>8.4189</td>\n",
       "      <td>10.789333</td>\n",
       "      <td>0.780298</td>\n",
       "      <td>0.385333</td>\n",
       "      <td>3.1017</td>\n",
       "      <td>2.601000</td>\n",
       "      <td>1.1925</td>\n",
       "      <td>True</td>\n",
       "      <td>WT</td>\n",
       "    </tr>\n",
       "    <tr>\n",
       "      <td>1</td>\n",
       "      <td>2020-03-11</td>\n",
       "      <td>Sofia</td>\n",
       "      <td>12</td>\n",
       "      <td>5.0</td>\n",
       "      <td>100.0</td>\n",
       "      <td>12.4701</td>\n",
       "      <td>19.652000</td>\n",
       "      <td>0.634546</td>\n",
       "      <td>0.867</td>\n",
       "      <td>2.0256</td>\n",
       "      <td>1.541333</td>\n",
       "      <td>1.31419</td>\n",
       "      <td>True</td>\n",
       "      <td>WT</td>\n",
       "    </tr>\n",
       "    <tr>\n",
       "      <td>2</td>\n",
       "      <td>2020-03-11</td>\n",
       "      <td>Sofia</td>\n",
       "      <td>12</td>\n",
       "      <td>5.0</td>\n",
       "      <td>100.0</td>\n",
       "      <td>12.027</td>\n",
       "      <td>19.652000</td>\n",
       "      <td>0.611999</td>\n",
       "      <td>0.192667</td>\n",
       "      <td>6.0768</td>\n",
       "      <td>2.697333</td>\n",
       "      <td>2.25289</td>\n",
       "      <td>True</td>\n",
       "      <td>WT</td>\n",
       "    </tr>\n",
       "    <tr>\n",
       "      <td>3</td>\n",
       "      <td>2020-03-11</td>\n",
       "      <td>Sofia</td>\n",
       "      <td>12</td>\n",
       "      <td>5.0</td>\n",
       "      <td>100.0</td>\n",
       "      <td>5.5704</td>\n",
       "      <td>9.922333</td>\n",
       "      <td>0.561400</td>\n",
       "      <td>0.0963333</td>\n",
       "      <td>2.7852</td>\n",
       "      <td>0.770667</td>\n",
       "      <td>3.61401</td>\n",
       "      <td>True</td>\n",
       "      <td>WT</td>\n",
       "    </tr>\n",
       "    <tr>\n",
       "      <td>4</td>\n",
       "      <td>2020-03-11</td>\n",
       "      <td>Sofia</td>\n",
       "      <td>12</td>\n",
       "      <td>5.0</td>\n",
       "      <td>100.0</td>\n",
       "      <td>6.0768</td>\n",
       "      <td>12.716000</td>\n",
       "      <td>0.477886</td>\n",
       "      <td>1.156</td>\n",
       "      <td>4.3677</td>\n",
       "      <td>2.408333</td>\n",
       "      <td>1.81358</td>\n",
       "      <td>True</td>\n",
       "      <td>WT</td>\n",
       "    </tr>\n",
       "    <tr>\n",
       "      <td>...</td>\n",
       "      <td>...</td>\n",
       "      <td>...</td>\n",
       "      <td>...</td>\n",
       "      <td>...</td>\n",
       "      <td>...</td>\n",
       "      <td>...</td>\n",
       "      <td>...</td>\n",
       "      <td>...</td>\n",
       "      <td>...</td>\n",
       "      <td>...</td>\n",
       "      <td>...</td>\n",
       "      <td>...</td>\n",
       "      <td>...</td>\n",
       "      <td>...</td>\n",
       "    </tr>\n",
       "    <tr>\n",
       "      <td>185</td>\n",
       "      <td>2020-03-11</td>\n",
       "      <td>Sofia</td>\n",
       "      <td>21</td>\n",
       "      <td>5.0</td>\n",
       "      <td>0.0</td>\n",
       "      <td>3.9246</td>\n",
       "      <td>7.178000</td>\n",
       "      <td>0.546754</td>\n",
       "      <td>5.82</td>\n",
       "      <td>4.0512</td>\n",
       "      <td>0.194000</td>\n",
       "      <td>20.8825</td>\n",
       "      <td>False</td>\n",
       "      <td>None</td>\n",
       "    </tr>\n",
       "    <tr>\n",
       "      <td>186</td>\n",
       "      <td>2020-03-11</td>\n",
       "      <td>Sofia</td>\n",
       "      <td>21</td>\n",
       "      <td>5.0</td>\n",
       "      <td>0.0</td>\n",
       "      <td>3.9879</td>\n",
       "      <td>5.917000</td>\n",
       "      <td>0.673973</td>\n",
       "      <td>0.97</td>\n",
       "      <td>3.7347</td>\n",
       "      <td>0.291000</td>\n",
       "      <td>12.834</td>\n",
       "      <td>False</td>\n",
       "      <td>None</td>\n",
       "    </tr>\n",
       "    <tr>\n",
       "      <td>187</td>\n",
       "      <td>2020-03-11</td>\n",
       "      <td>Sofia</td>\n",
       "      <td>21</td>\n",
       "      <td>5.0</td>\n",
       "      <td>0.0</td>\n",
       "      <td>5.5704</td>\n",
       "      <td>9.797000</td>\n",
       "      <td>0.568582</td>\n",
       "      <td>1.843</td>\n",
       "      <td>5.697</td>\n",
       "      <td>0.194000</td>\n",
       "      <td>29.366</td>\n",
       "      <td>False</td>\n",
       "      <td>None</td>\n",
       "    </tr>\n",
       "    <tr>\n",
       "      <td>188</td>\n",
       "      <td>2020-03-11</td>\n",
       "      <td>Sofia</td>\n",
       "      <td>21</td>\n",
       "      <td>5.0</td>\n",
       "      <td>0.0</td>\n",
       "      <td>10.6977</td>\n",
       "      <td>19.885000</td>\n",
       "      <td>0.537978</td>\n",
       "      <td>3.977</td>\n",
       "      <td>10.6977</td>\n",
       "      <td>0.582000</td>\n",
       "      <td>18.3809</td>\n",
       "      <td>False</td>\n",
       "      <td>None</td>\n",
       "    </tr>\n",
       "    <tr>\n",
       "      <td>189</td>\n",
       "      <td>2020-03-11</td>\n",
       "      <td>Sofia</td>\n",
       "      <td>21</td>\n",
       "      <td>5.0</td>\n",
       "      <td>0.0</td>\n",
       "      <td>2.3421</td>\n",
       "      <td>4.171000</td>\n",
       "      <td>0.561520</td>\n",
       "      <td>7.469</td>\n",
       "      <td>2.3421</td>\n",
       "      <td>0.194000</td>\n",
       "      <td>12.0727</td>\n",
       "      <td>False</td>\n",
       "      <td>None</td>\n",
       "    </tr>\n",
       "  </tbody>\n",
       "</table>\n",
       "<p>190 rows × 14 columns</p>\n",
       "</div>"
      ],
      "text/plain": [
       "           Date Investigator  CH  [Tubulin] $(\\mu M)$  [DCX] $(\\mu M)$  \\\n",
       "0    2020-03-11        Sofia  12                  5.0            100.0   \n",
       "1    2020-03-11        Sofia  12                  5.0            100.0   \n",
       "2    2020-03-11        Sofia  12                  5.0            100.0   \n",
       "3    2020-03-11        Sofia  12                  5.0            100.0   \n",
       "4    2020-03-11        Sofia  12                  5.0            100.0   \n",
       "..          ...          ...  ..                  ...              ...   \n",
       "185  2020-03-11        Sofia  21                  5.0              0.0   \n",
       "186  2020-03-11        Sofia  21                  5.0              0.0   \n",
       "187  2020-03-11        Sofia  21                  5.0              0.0   \n",
       "188  2020-03-11        Sofia  21                  5.0              0.0   \n",
       "189  2020-03-11        Sofia  21                  5.0              0.0   \n",
       "\n",
       "    Length $(\\mu m)$  Lifetime $(min)$  Growth Rate $(\\mu m / min)$  \\\n",
       "0             8.4189         10.789333                     0.780298   \n",
       "1            12.4701         19.652000                     0.634546   \n",
       "2             12.027         19.652000                     0.611999   \n",
       "3             5.5704          9.922333                     0.561400   \n",
       "4             6.0768         12.716000                     0.477886   \n",
       "..               ...               ...                          ...   \n",
       "185           3.9246          7.178000                     0.546754   \n",
       "186           3.9879          5.917000                     0.673973   \n",
       "187           5.5704          9.797000                     0.568582   \n",
       "188          10.6977         19.885000                     0.537978   \n",
       "189           2.3421          4.171000                     0.561520   \n",
       "\n",
       "    Time to Nucleate $(min)$ Shrink Length $(\\mu m)$  Shrink Lifetime $(min)$  \\\n",
       "0                   0.385333                  3.1017                 2.601000   \n",
       "1                      0.867                  2.0256                 1.541333   \n",
       "2                   0.192667                  6.0768                 2.697333   \n",
       "3                  0.0963333                  2.7852                 0.770667   \n",
       "4                      1.156                  4.3677                 2.408333   \n",
       "..                       ...                     ...                      ...   \n",
       "185                     5.82                  4.0512                 0.194000   \n",
       "186                     0.97                  3.7347                 0.291000   \n",
       "187                    1.843                   5.697                 0.194000   \n",
       "188                    3.977                 10.6977                 0.582000   \n",
       "189                    7.469                  2.3421                 0.194000   \n",
       "\n",
       "    Shrink Rate $(\\mu m / min)$  Rescues DCX Type  \n",
       "0                        1.1925     True       WT  \n",
       "1                       1.31419     True       WT  \n",
       "2                       2.25289     True       WT  \n",
       "3                       3.61401     True       WT  \n",
       "4                       1.81358     True       WT  \n",
       "..                          ...      ...      ...  \n",
       "185                     20.8825    False     None  \n",
       "186                      12.834    False     None  \n",
       "187                      29.366    False     None  \n",
       "188                     18.3809    False     None  \n",
       "189                     12.0727    False     None  \n",
       "\n",
       "[190 rows x 14 columns]"
      ]
     },
     "execution_count": 45,
     "metadata": {},
     "output_type": "execute_result"
    }
   ],
   "source": [
    "df = poly_dynamics(0)\n",
    "for i in range(1,len(ch)):\n",
    "    df0 = poly_dynamics(i)\n",
    "    df = df.append(df0, ignore_index=True)\n",
    "\n",
    "df.to_csv(path/(investigator+'_'+date +'.csv'), encoding='utf-8', index=False)\n",
    "df.to_csv(newmydir/(investigator+'_'+date+'.csv'), encoding='utf-8', index=False)\n",
    "df"
   ]
  },
  {
   "cell_type": "code",
   "execution_count": 46,
   "metadata": {},
   "outputs": [
    {
     "data": {
      "text/html": [
       "<div>\n",
       "<style scoped>\n",
       "    .dataframe tbody tr th:only-of-type {\n",
       "        vertical-align: middle;\n",
       "    }\n",
       "\n",
       "    .dataframe tbody tr th {\n",
       "        vertical-align: top;\n",
       "    }\n",
       "\n",
       "    .dataframe thead th {\n",
       "        text-align: right;\n",
       "    }\n",
       "</style>\n",
       "<table border=\"1\" class=\"dataframe\">\n",
       "  <thead>\n",
       "    <tr style=\"text-align: right;\">\n",
       "      <th></th>\n",
       "      <th>[Tubulin] $(\\mu M)$</th>\n",
       "      <th>[DCX] $(\\mu M)$</th>\n",
       "      <th>Lifetime $(min)$</th>\n",
       "      <th>Growth Rate $(\\mu m / min)$</th>\n",
       "      <th>Shrink Lifetime $(min)$</th>\n",
       "      <th>Rescues</th>\n",
       "    </tr>\n",
       "    <tr>\n",
       "      <th>CH</th>\n",
       "      <th></th>\n",
       "      <th></th>\n",
       "      <th></th>\n",
       "      <th></th>\n",
       "      <th></th>\n",
       "      <th></th>\n",
       "    </tr>\n",
       "  </thead>\n",
       "  <tbody>\n",
       "    <tr>\n",
       "      <td>12</td>\n",
       "      <td>5.0</td>\n",
       "      <td>100.0</td>\n",
       "      <td>10.543148</td>\n",
       "      <td>0.594657</td>\n",
       "      <td>1.873148</td>\n",
       "      <td>0.964286</td>\n",
       "    </tr>\n",
       "    <tr>\n",
       "      <td>13</td>\n",
       "      <td>5.0</td>\n",
       "      <td>100.0</td>\n",
       "      <td>9.198639</td>\n",
       "      <td>0.576322</td>\n",
       "      <td>1.140627</td>\n",
       "      <td>0.975904</td>\n",
       "    </tr>\n",
       "    <tr>\n",
       "      <td>21</td>\n",
       "      <td>5.0</td>\n",
       "      <td>0.0</td>\n",
       "      <td>6.176506</td>\n",
       "      <td>0.551201</td>\n",
       "      <td>0.241730</td>\n",
       "      <td>0.063291</td>\n",
       "    </tr>\n",
       "  </tbody>\n",
       "</table>\n",
       "</div>"
      ],
      "text/plain": [
       "    [Tubulin] $(\\mu M)$  [DCX] $(\\mu M)$  Lifetime $(min)$  \\\n",
       "CH                                                           \n",
       "12                  5.0            100.0         10.543148   \n",
       "13                  5.0            100.0          9.198639   \n",
       "21                  5.0              0.0          6.176506   \n",
       "\n",
       "    Growth Rate $(\\mu m / min)$  Shrink Lifetime $(min)$   Rescues  \n",
       "CH                                                                  \n",
       "12                     0.594657                 1.873148  0.964286  \n",
       "13                     0.576322                 1.140627  0.975904  \n",
       "21                     0.551201                 0.241730  0.063291  "
      ]
     },
     "execution_count": 46,
     "metadata": {},
     "output_type": "execute_result"
    }
   ],
   "source": [
    "dfmean = df.groupby('CH').mean()\n",
    "#dfmean.to_csv(path/(date+'_0_mean.csv'), encoding='utf-8', index=False)\n",
    "dfmean"
   ]
  },
  {
   "cell_type": "code",
   "execution_count": 25,
   "metadata": {},
   "outputs": [
    {
     "data": {
      "text/html": [
       "<div>\n",
       "<style scoped>\n",
       "    .dataframe tbody tr th:only-of-type {\n",
       "        vertical-align: middle;\n",
       "    }\n",
       "\n",
       "    .dataframe tbody tr th {\n",
       "        vertical-align: top;\n",
       "    }\n",
       "\n",
       "    .dataframe thead th {\n",
       "        text-align: right;\n",
       "    }\n",
       "</style>\n",
       "<table border=\"1\" class=\"dataframe\">\n",
       "  <thead>\n",
       "    <tr style=\"text-align: right;\">\n",
       "      <th></th>\n",
       "      <th>[Tubulin] $(\\mu M)$</th>\n",
       "      <th>[DCX] $(\\mu M)$</th>\n",
       "      <th>Lifetime $(min)$</th>\n",
       "      <th>Growth Rate $(\\mu m / min)$</th>\n",
       "      <th>Shrink Lifetime $(min)$</th>\n",
       "      <th>Rescues</th>\n",
       "    </tr>\n",
       "    <tr>\n",
       "      <th>CH</th>\n",
       "      <th></th>\n",
       "      <th></th>\n",
       "      <th></th>\n",
       "      <th></th>\n",
       "      <th></th>\n",
       "      <th></th>\n",
       "    </tr>\n",
       "  </thead>\n",
       "  <tbody>\n",
       "    <tr>\n",
       "      <td>12</td>\n",
       "      <td>0.0</td>\n",
       "      <td>0.0</td>\n",
       "      <td>4.957129</td>\n",
       "      <td>0.094106</td>\n",
       "      <td>0.194430</td>\n",
       "      <td>0.189556</td>\n",
       "    </tr>\n",
       "    <tr>\n",
       "      <td>13</td>\n",
       "      <td>0.0</td>\n",
       "      <td>0.0</td>\n",
       "      <td>4.904159</td>\n",
       "      <td>0.071797</td>\n",
       "      <td>0.124142</td>\n",
       "      <td>0.000000</td>\n",
       "    </tr>\n",
       "    <tr>\n",
       "      <td>23</td>\n",
       "      <td>0.0</td>\n",
       "      <td>0.0</td>\n",
       "      <td>5.943609</td>\n",
       "      <td>0.085030</td>\n",
       "      <td>1.703055</td>\n",
       "      <td>0.174078</td>\n",
       "    </tr>\n",
       "  </tbody>\n",
       "</table>\n",
       "</div>"
      ],
      "text/plain": [
       "    [Tubulin] $(\\mu M)$  [DCX] $(\\mu M)$  Lifetime $(min)$  \\\n",
       "CH                                                           \n",
       "12                  0.0              0.0          4.957129   \n",
       "13                  0.0              0.0          4.904159   \n",
       "23                  0.0              0.0          5.943609   \n",
       "\n",
       "    Growth Rate $(\\mu m / min)$  Shrink Lifetime $(min)$   Rescues  \n",
       "CH                                                                  \n",
       "12                     0.094106                 0.194430  0.189556  \n",
       "13                     0.071797                 0.124142  0.000000  \n",
       "23                     0.085030                 1.703055  0.174078  "
      ]
     },
     "execution_count": 25,
     "metadata": {},
     "output_type": "execute_result"
    }
   ],
   "source": [
    "dfstd = df.groupby('CH').std()\n",
    "#dfstd.to_csv(path/(date+'_0_std.csv'), encoding='utf-8', index=False)\n",
    "dfstd"
   ]
  },
  {
   "cell_type": "markdown",
   "metadata": {},
   "source": [
    "# Preliminary plot Histograms #"
   ]
  },
  {
   "cell_type": "code",
   "execution_count": 56,
   "metadata": {},
   "outputs": [
    {
     "data": {
      "text/plain": [
       "<seaborn.axisgrid.FacetGrid at 0x2383928a2c8>"
      ]
     },
     "execution_count": 56,
     "metadata": {},
     "output_type": "execute_result"
    },
    {
     "data": {
      "image/png": "[encoded data removed]",
      "text/plain": [
       "<Figure size 648x216 with 3 Axes>"
      ]
     },
     "metadata": {
      "needs_background": "light"
     },
     "output_type": "display_data"
    }
   ],
   "source": [
    "g = sns.FacetGrid(df, row=tubulin, col=\"DCX Type\", margin_titles=True)\n",
    "bins = np.linspace(0, 1, 20)\n",
    "g.map(plt.hist, GrowthRate, bins=bins, density=True)"
   ]
  },
  {
   "cell_type": "code",
   "execution_count": 49,
   "metadata": {},
   "outputs": [
    {
     "data": {
      "text/plain": [
       "<seaborn.axisgrid.FacetGrid at 0x23837e34c08>"
      ]
     },
     "execution_count": 49,
     "metadata": {},
     "output_type": "execute_result"
    },
    {
     "data": {
      "image/png": "[encoded data removed]",
      "text/plain": [
       "<Figure size 648x216 with 3 Axes>"
      ]
     },
     "metadata": {
      "needs_background": "light"
     },
     "output_type": "display_data"
    }
   ],
   "source": [
    "g = sns.FacetGrid(df, row=tubulin, col=\"DCX Type\", margin_titles=True)\n",
    "bins = np.linspace(0, 10, 20)\n",
    "g.map(plt.hist, TimeToNucleate, bins=bins)"
   ]
  },
  {
   "cell_type": "code",
   "execution_count": 50,
   "metadata": {},
   "outputs": [
    {
     "data": {
      "text/plain": [
       "<seaborn.axisgrid.FacetGrid at 0x23837f88a08>"
      ]
     },
     "execution_count": 50,
     "metadata": {},
     "output_type": "execute_result"
    },
    {
     "data": {
      "image/png": "[encoded data removed]",
      "text/plain": [
       "<Figure size 648x216 with 3 Axes>"
      ]
     },
     "metadata": {
      "needs_background": "light"
     },
     "output_type": "display_data"
    }
   ],
   "source": [
    "g = sns.FacetGrid(df, row=tubulin, col=\"DCX Type\", margin_titles=True)\n",
    "bins = np.linspace(0, 45, 20)\n",
    "g.map(plt.hist, Lifetime, bins=bins)"
   ]
  },
  {
   "cell_type": "code",
   "execution_count": 53,
   "metadata": {},
   "outputs": [
    {
     "data": {
      "text/plain": [
       "<seaborn.axisgrid.FacetGrid at 0x23838be7448>"
      ]
     },
     "execution_count": 53,
     "metadata": {},
     "output_type": "execute_result"
    },
    {
     "data": {
      "image/png": "[encoded data removed]",
      "text/plain": [
       "<Figure size 648x216 with 3 Axes>"
      ]
     },
     "metadata": {
      "needs_background": "light"
     },
     "output_type": "display_data"
    }
   ],
   "source": [
    "g = sns.FacetGrid(df, row=tubulin, col=\"DCX Type\", margin_titles=True)\n",
    "bins = np.linspace(0, 10, 20)\n",
    "g.map(plt.hist, ShrinkageRate, bins=bins)"
   ]
  },
  {
   "cell_type": "code",
   "execution_count": null,
   "metadata": {},
   "outputs": [],
   "source": []
  }
 ],
 "metadata": {
  "kernelspec": {
   "display_name": "Python 3",
   "language": "python",
   "name": "python3"
  },
  "language_info": {
   "codemirror_mode": {
    "name": "ipython",
    "version": 3
   },
   "file_extension": ".py",
   "mimetype": "text/x-python",
   "name": "python",
   "nbconvert_exporter": "python",
   "pygments_lexer": "ipython3",
   "version": "3.7.4"
  }
 },
 "nbformat": 4,
 "nbformat_minor": 4
}
