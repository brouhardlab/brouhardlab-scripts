{
 "cells": [
  {
   "cell_type": "code",
   "execution_count": 12,
   "id": "6fdda77e-abdc-4583-a5d6-26628c48e324",
   "metadata": {
    "tags": []
   },
   "outputs": [],
   "source": [
    "import numpy as np\n",
    "import seaborn as sns\n",
    "import matplotlib.pyplot as plt\n",
    "import matplotlib\n",
    "import csv\n",
    "import pandas as pd\n",
    "from pandas.api.types import CategoricalDtype\n",
    "import scipy as sp\n",
    "from pathlib import Path\n",
    "from tkinter import filedialog\n",
    "import itertools\n",
    "from colour import Color\n",
    "from datetime import date\n",
    "# import statsmodels.api as sm\n",
    "# from statsmodels.stats.weightstats import ztest as ztest\n",
    "from sklearn.metrics import r2_score as R2S\n",
    "import cairo\n",
    "import lmfit as lm\n"
   ]
  },
  {
   "cell_type": "markdown",
   "id": "bbfc4b07-372a-4fe6-995d-6f103513a8eb",
   "metadata": {},
   "source": [
    "## Names and Palette ##"
   ]
  },
  {
   "cell_type": "code",
   "execution_count": 33,
   "id": "9dfe9645-c55f-42d2-9d55-55e88e8f9f77",
   "metadata": {
    "tags": []
   },
   "outputs": [
    {
     "name": "stdout",
     "output_type": "stream",
     "text": [
      "Today's date: 2024-07-05\n"
     ]
    },
    {
     "data": {
      "text/plain": [
       "'2024-07-05'"
      ]
     },
     "execution_count": 33,
     "metadata": {},
     "output_type": "execute_result"
    }
   ],
   "source": [
    "today = date.today()\n",
    "print(\"Today's date:\", today)\n",
    "date = str(today)\n",
    "date"
   ]
  },
  {
   "cell_type": "code",
   "execution_count": 14,
   "id": "d466d37c-a5b6-4a9d-953c-ab44dc896b35",
   "metadata": {
    "tags": []
   },
   "outputs": [],
   "source": [
    "tubulin = '[Tubulin] (' r'$\\mu$' 'M)'\n",
    "tub = 'tub'\n",
    "\n",
    "DCXconc = '[DCX] (nM)' \n",
    "EBconc = '[EB] (nM)'\n",
    "DCX = 'DCX'\n",
    "Type = 'DCX Type'\n",
    "\n",
    "Concentration = 'Concentration (' r'$\\mu$' 'M)'\n",
    "Length = 'Length (' r'$\\mu$' 'm)'\n",
    "Lifetime = 'Lifetime (min)'\n",
    "GrowthRate = 'Growth Rate (' r'$\\mu$' 'm/min)'\n",
    "TimeToNucleate = 'Time to Nucleate (min)'\n",
    "ShrinkageLength = 'Shrink Length (' r'$\\mu$' 'm)'\n",
    "ShrinkageLifetime = 'Shrink Lifetime (min)'\n",
    "ShrinkageRate = 'Shrink Rate (' r'$\\mu$' 'm/min)'\n",
    "RescuePerLength = 'Rescues (' r'$\\mu$' 'm' r'$^{-1}$' ')'\n",
    "RescuePerTime = 'Rescues ( s' r'$^{-1}$' ')'\n",
    "RescuePerLT = 'Rescues (' r'$\\mu$' 'm' r'$^{-1}$' 's'  r'$^{-1}$' ')'\n",
    "Intensity = 'Intensity (a.u.)'"
   ]
  },
  {
   "cell_type": "code",
   "execution_count": 4,
   "id": "1fb8b8e6-27d2-408e-b5b2-55bee7e13551",
   "metadata": {
    "tags": []
   },
   "outputs": [],
   "source": [
    "Type_order = ['None', 'Y64N','R76S','R102S', 'R178L', 'P191R', 'G223E','R303X', 'WT']\n",
    "\n",
    "category_Type = CategoricalDtype(Type_order, ordered=True,) #order mutants"
   ]
  },
  {
   "cell_type": "code",
   "execution_count": 5,
   "id": "63688dba-dd3d-464e-9047-06ba3beb9810",
   "metadata": {
    "tags": []
   },
   "outputs": [],
   "source": [
    "grey00 = '#777777'\n",
    "grey20 = '#C5C5C5'\n",
    "cyan00 = '#0089CF'  \n",
    "cyan20 = '#65CBFF'\n",
    "pink00 = '#e468b8'\n",
    "pink20 = '#FBB0E1'\n",
    "orange00 = '#ff8341'\n",
    "orange20 = '#FFC6A8'\n"
   ]
  },
  {
   "cell_type": "code",
   "execution_count": 6,
   "id": "6cdd5f69-399d-446a-93dd-876ea09ec8fd",
   "metadata": {
    "tags": []
   },
   "outputs": [
    {
     "name": "stdout",
     "output_type": "stream",
     "text": [
      "[<Color #ab4a9c>, <Color #e468b8>, <Color #ffa4cd>] [<Color #ff5b00>, <Color #ff8341>, <Color #ffac83>]\n"
     ]
    },
    {
     "data": {
      "text/plain": [
       "['#777777', '#ab4a9c', '#e468b8', '#ff5b00', '#ff8341', '#ffac83', '#0089CF']"
      ]
     },
     "execution_count": 6,
     "metadata": {},
     "output_type": "execute_result"
    }
   ],
   "source": [
    "black = '#000000'\n",
    "grey = '#777777'\n",
    "blue = '#23459C'\n",
    "cyan = '#0089CF'\n",
    "green = '#79BA1A'\n",
    "purple = '#AB4A9C'\n",
    "lily = '#CB81EA'\n",
    "magenta = '#D80B8C'\n",
    "red = '#e60000'\n",
    "orange = '#FF7300'\n",
    "darkorange = '#FF5B00'\n",
    "lightorange = '#FFAC83'\n",
    "yellow = '#FFCB05'\n",
    "lightyellow = '#F9DC2D'\n",
    "pink = '#FFA4CD'\n",
    "StartHue1 = Color(purple)\n",
    "DC1color = list(StartHue1.range_to(Color(pink),3))\n",
    "StartHue2 = Color(darkorange)\n",
    "DC2color = list(StartHue2.range_to(Color(lightorange),3))\n",
    "print(DC1color,DC2color)\n",
    "\n",
    "palette_all = [grey] + list(map(Color.get_hex,DC1color)) + list(map(Color.get_hex,DC2color)) + [green,cyan]\n",
    "palette_ppr = [grey] + list(map(Color.get_hex,DC1color))[:-1] + list(map(Color.get_hex,DC2color)) + [cyan]\n",
    "\n",
    "parameters = [GrowthRate,TimeToNucleate,Lifetime,ShrinkageRate]\n",
    "palette_ppr"
   ]
  },
  {
   "cell_type": "code",
   "execution_count": 7,
   "id": "b0b82e44-8125-407d-ba28-fc234124d6e5",
   "metadata": {
    "tags": []
   },
   "outputs": [],
   "source": [
    "### font for matplotlib\n",
    "matplotlib.rcParams['font.family'] = 'Helvetica Neue LT Std'"
   ]
  },
  {
   "cell_type": "markdown",
   "id": "e257db47-447b-451a-b7d2-ba8008329646",
   "metadata": {},
   "source": [
    "## Minimize Chi square ##"
   ]
  },
  {
   "cell_type": "code",
   "execution_count": 8,
   "id": "68daf5ec-dd22-465e-b3c7-0de18969da81",
   "metadata": {
    "tags": []
   },
   "outputs": [],
   "source": [
    "askmastersheet = filedialog.askopenfilename() # show an \"Open\" dialog box and return the path to the selected file\n"
   ]
  },
  {
   "cell_type": "code",
   "execution_count": 34,
   "id": "4157c72c-22df-4d16-84f7-2dc022006951",
   "metadata": {
    "tags": []
   },
   "outputs": [
    {
     "data": {
      "text/plain": [
       "WindowsPath('C:/Users/sofia/OneDrive - McGill University/EJCB2023/Sofia_EJCB_Figs/Data/Chi-square/Plots_2024-07-05')"
      ]
     },
     "execution_count": 34,
     "metadata": {},
     "output_type": "execute_result"
    }
   ],
   "source": [
    "pathmastersheet = Path(askmastersheet)\n",
    "resultdirectory = str(pathmastersheet.parents[0])+'//Plots_'+date\n",
    "newmydir = Path(resultdirectory)\n",
    "newmydir.mkdir(exist_ok=True)\n",
    "path = newmydir\n",
    "path"
   ]
  },
  {
   "cell_type": "code",
   "execution_count": 44,
   "id": "be7f2062-d157-4620-9ba3-fc8c8f767f96",
   "metadata": {
    "tags": []
   },
   "outputs": [
    {
     "data": {
      "text/html": [
       "<div>\n",
       "<style scoped>\n",
       "    .dataframe tbody tr th:only-of-type {\n",
       "        vertical-align: middle;\n",
       "    }\n",
       "\n",
       "    .dataframe tbody tr th {\n",
       "        vertical-align: top;\n",
       "    }\n",
       "\n",
       "    .dataframe thead th {\n",
       "        text-align: right;\n",
       "    }\n",
       "</style>\n",
       "<table border=\"1\" class=\"dataframe\">\n",
       "  <thead>\n",
       "    <tr style=\"text-align: right;\">\n",
       "      <th></th>\n",
       "      <th>Fit</th>\n",
       "      <th>SE</th>\n",
       "      <th>Coefficient</th>\n",
       "      <th>[Tubulin] ($\\mu$M)</th>\n",
       "      <th>DCX Type</th>\n",
       "      <th>[DCX] (nM)</th>\n",
       "      <th>Parameter</th>\n",
       "      <th>Moment</th>\n",
       "    </tr>\n",
       "  </thead>\n",
       "  <tbody>\n",
       "    <tr>\n",
       "      <th>0</th>\n",
       "      <td>3.846022</td>\n",
       "      <td>0.647369</td>\n",
       "      <td>NaN</td>\n",
       "      <td>6</td>\n",
       "      <td>NaN</td>\n",
       "      <td>1.000000e-08</td>\n",
       "      <td>Lifetime (min)</td>\n",
       "      <td>Mean</td>\n",
       "    </tr>\n",
       "    <tr>\n",
       "      <th>1</th>\n",
       "      <td>4.925653</td>\n",
       "      <td>0.838534</td>\n",
       "      <td>NaN</td>\n",
       "      <td>6</td>\n",
       "      <td>WT</td>\n",
       "      <td>3.200000e+01</td>\n",
       "      <td>Lifetime (min)</td>\n",
       "      <td>Mean</td>\n",
       "    </tr>\n",
       "    <tr>\n",
       "      <th>2</th>\n",
       "      <td>8.355608</td>\n",
       "      <td>1.353599</td>\n",
       "      <td>NaN</td>\n",
       "      <td>6</td>\n",
       "      <td>WT</td>\n",
       "      <td>5.700000e+01</td>\n",
       "      <td>Lifetime (min)</td>\n",
       "      <td>Mean</td>\n",
       "    </tr>\n",
       "    <tr>\n",
       "      <th>3</th>\n",
       "      <td>11.392211</td>\n",
       "      <td>2.391049</td>\n",
       "      <td>NaN</td>\n",
       "      <td>6</td>\n",
       "      <td>WT</td>\n",
       "      <td>7.900000e+01</td>\n",
       "      <td>Lifetime (min)</td>\n",
       "      <td>Mean</td>\n",
       "    </tr>\n",
       "    <tr>\n",
       "      <th>4</th>\n",
       "      <td>11.632526</td>\n",
       "      <td>1.963239</td>\n",
       "      <td>NaN</td>\n",
       "      <td>6</td>\n",
       "      <td>WT</td>\n",
       "      <td>1.140000e+02</td>\n",
       "      <td>Lifetime (min)</td>\n",
       "      <td>Mean</td>\n",
       "    </tr>\n",
       "    <tr>\n",
       "      <th>5</th>\n",
       "      <td>12.805699</td>\n",
       "      <td>2.285701</td>\n",
       "      <td>NaN</td>\n",
       "      <td>6</td>\n",
       "      <td>WT</td>\n",
       "      <td>2.270000e+02</td>\n",
       "      <td>Lifetime (min)</td>\n",
       "      <td>Mean</td>\n",
       "    </tr>\n",
       "    <tr>\n",
       "      <th>6</th>\n",
       "      <td>0.004958</td>\n",
       "      <td>0.000242</td>\n",
       "      <td>NaN</td>\n",
       "      <td>6</td>\n",
       "      <td>NaN</td>\n",
       "      <td>1.000000e-08</td>\n",
       "      <td>Rescues ($\\mu$m$^{-1}$)</td>\n",
       "      <td>Mean</td>\n",
       "    </tr>\n",
       "    <tr>\n",
       "      <th>7</th>\n",
       "      <td>0.062534</td>\n",
       "      <td>0.003254</td>\n",
       "      <td>NaN</td>\n",
       "      <td>6</td>\n",
       "      <td>WT</td>\n",
       "      <td>3.200000e+01</td>\n",
       "      <td>Rescues ($\\mu$m$^{-1}$)</td>\n",
       "      <td>Mean</td>\n",
       "    </tr>\n",
       "    <tr>\n",
       "      <th>8</th>\n",
       "      <td>0.110049</td>\n",
       "      <td>0.003709</td>\n",
       "      <td>NaN</td>\n",
       "      <td>6</td>\n",
       "      <td>WT</td>\n",
       "      <td>5.700000e+01</td>\n",
       "      <td>Rescues ($\\mu$m$^{-1}$)</td>\n",
       "      <td>Mean</td>\n",
       "    </tr>\n",
       "    <tr>\n",
       "      <th>9</th>\n",
       "      <td>0.273669</td>\n",
       "      <td>0.011758</td>\n",
       "      <td>NaN</td>\n",
       "      <td>6</td>\n",
       "      <td>WT</td>\n",
       "      <td>7.900000e+01</td>\n",
       "      <td>Rescues ($\\mu$m$^{-1}$)</td>\n",
       "      <td>Mean</td>\n",
       "    </tr>\n",
       "    <tr>\n",
       "      <th>10</th>\n",
       "      <td>0.319906</td>\n",
       "      <td>0.012718</td>\n",
       "      <td>NaN</td>\n",
       "      <td>6</td>\n",
       "      <td>WT</td>\n",
       "      <td>1.140000e+02</td>\n",
       "      <td>Rescues ($\\mu$m$^{-1}$)</td>\n",
       "      <td>Mean</td>\n",
       "    </tr>\n",
       "    <tr>\n",
       "      <th>11</th>\n",
       "      <td>0.412335</td>\n",
       "      <td>0.019442</td>\n",
       "      <td>NaN</td>\n",
       "      <td>6</td>\n",
       "      <td>WT</td>\n",
       "      <td>2.270000e+02</td>\n",
       "      <td>Rescues ($\\mu$m$^{-1}$)</td>\n",
       "      <td>Mean</td>\n",
       "    </tr>\n",
       "    <tr>\n",
       "      <th>12</th>\n",
       "      <td>0.992615</td>\n",
       "      <td>0.279762</td>\n",
       "      <td>NaN</td>\n",
       "      <td>6</td>\n",
       "      <td>NaN</td>\n",
       "      <td>5.000000e+00</td>\n",
       "      <td>Intensity (a.u.)</td>\n",
       "      <td>Mean</td>\n",
       "    </tr>\n",
       "    <tr>\n",
       "      <th>13</th>\n",
       "      <td>17.765138</td>\n",
       "      <td>4.559955</td>\n",
       "      <td>NaN</td>\n",
       "      <td>6</td>\n",
       "      <td>WT</td>\n",
       "      <td>3.000000e+01</td>\n",
       "      <td>Intensity (a.u.)</td>\n",
       "      <td>Mean</td>\n",
       "    </tr>\n",
       "    <tr>\n",
       "      <th>14</th>\n",
       "      <td>23.234559</td>\n",
       "      <td>8.048555</td>\n",
       "      <td>NaN</td>\n",
       "      <td>6</td>\n",
       "      <td>WT</td>\n",
       "      <td>6.000000e+01</td>\n",
       "      <td>Intensity (a.u.)</td>\n",
       "      <td>Mean</td>\n",
       "    </tr>\n",
       "    <tr>\n",
       "      <th>15</th>\n",
       "      <td>26.608397</td>\n",
       "      <td>7.432653</td>\n",
       "      <td>NaN</td>\n",
       "      <td>6</td>\n",
       "      <td>WT</td>\n",
       "      <td>8.000000e+01</td>\n",
       "      <td>Intensity (a.u.)</td>\n",
       "      <td>Mean</td>\n",
       "    </tr>\n",
       "    <tr>\n",
       "      <th>16</th>\n",
       "      <td>36.465775</td>\n",
       "      <td>12.912461</td>\n",
       "      <td>NaN</td>\n",
       "      <td>6</td>\n",
       "      <td>WT</td>\n",
       "      <td>1.150000e+02</td>\n",
       "      <td>Intensity (a.u.)</td>\n",
       "      <td>Mean</td>\n",
       "    </tr>\n",
       "    <tr>\n",
       "      <th>17</th>\n",
       "      <td>42.496069</td>\n",
       "      <td>16.155757</td>\n",
       "      <td>NaN</td>\n",
       "      <td>6</td>\n",
       "      <td>WT</td>\n",
       "      <td>2.300000e+02</td>\n",
       "      <td>Intensity (a.u.)</td>\n",
       "      <td>Mean</td>\n",
       "    </tr>\n",
       "    <tr>\n",
       "      <th>18</th>\n",
       "      <td>39.874810</td>\n",
       "      <td>15.962532</td>\n",
       "      <td>NaN</td>\n",
       "      <td>6</td>\n",
       "      <td>WT</td>\n",
       "      <td>5.000000e+02</td>\n",
       "      <td>Intensity (a.u.)</td>\n",
       "      <td>Mean</td>\n",
       "    </tr>\n",
       "  </tbody>\n",
       "</table>\n",
       "</div>"
      ],
      "text/plain": [
       "          Fit         SE  Coefficient  [Tubulin] ($\\mu$M) DCX Type  \\\n",
       "0    3.846022   0.647369          NaN                   6      NaN   \n",
       "1    4.925653   0.838534          NaN                   6       WT   \n",
       "2    8.355608   1.353599          NaN                   6       WT   \n",
       "3   11.392211   2.391049          NaN                   6       WT   \n",
       "4   11.632526   1.963239          NaN                   6       WT   \n",
       "5   12.805699   2.285701          NaN                   6       WT   \n",
       "6    0.004958   0.000242          NaN                   6      NaN   \n",
       "7    0.062534   0.003254          NaN                   6       WT   \n",
       "8    0.110049   0.003709          NaN                   6       WT   \n",
       "9    0.273669   0.011758          NaN                   6       WT   \n",
       "10   0.319906   0.012718          NaN                   6       WT   \n",
       "11   0.412335   0.019442          NaN                   6       WT   \n",
       "12   0.992615   0.279762          NaN                   6      NaN   \n",
       "13  17.765138   4.559955          NaN                   6       WT   \n",
       "14  23.234559   8.048555          NaN                   6       WT   \n",
       "15  26.608397   7.432653          NaN                   6       WT   \n",
       "16  36.465775  12.912461          NaN                   6       WT   \n",
       "17  42.496069  16.155757          NaN                   6       WT   \n",
       "18  39.874810  15.962532          NaN                   6       WT   \n",
       "\n",
       "      [DCX] (nM)                Parameter Moment  \n",
       "0   1.000000e-08           Lifetime (min)   Mean  \n",
       "1   3.200000e+01           Lifetime (min)   Mean  \n",
       "2   5.700000e+01           Lifetime (min)   Mean  \n",
       "3   7.900000e+01           Lifetime (min)   Mean  \n",
       "4   1.140000e+02           Lifetime (min)   Mean  \n",
       "5   2.270000e+02           Lifetime (min)   Mean  \n",
       "6   1.000000e-08  Rescues ($\\mu$m$^{-1}$)   Mean  \n",
       "7   3.200000e+01  Rescues ($\\mu$m$^{-1}$)   Mean  \n",
       "8   5.700000e+01  Rescues ($\\mu$m$^{-1}$)   Mean  \n",
       "9   7.900000e+01  Rescues ($\\mu$m$^{-1}$)   Mean  \n",
       "10  1.140000e+02  Rescues ($\\mu$m$^{-1}$)   Mean  \n",
       "11  2.270000e+02  Rescues ($\\mu$m$^{-1}$)   Mean  \n",
       "12  5.000000e+00         Intensity (a.u.)   Mean  \n",
       "13  3.000000e+01         Intensity (a.u.)   Mean  \n",
       "14  6.000000e+01         Intensity (a.u.)   Mean  \n",
       "15  8.000000e+01         Intensity (a.u.)   Mean  \n",
       "16  1.150000e+02         Intensity (a.u.)   Mean  \n",
       "17  2.300000e+02         Intensity (a.u.)   Mean  \n",
       "18  5.000000e+02         Intensity (a.u.)   Mean  "
      ]
     },
     "execution_count": 44,
     "metadata": {},
     "output_type": "execute_result"
    }
   ],
   "source": [
    "data = pd.read_csv(askmastersheet, encoding='utf-8')\n",
    "data "
   ]
  },
  {
   "cell_type": "code",
   "execution_count": 45,
   "id": "e7432c7e-f4a5-49f6-b867-5598f2f4b490",
   "metadata": {
    "tags": []
   },
   "outputs": [],
   "source": [
    "def hillEQ(x, kd, sat, n):\n",
    "    return  sat * np.power(x, n)/(kd + np.power(x,n))"
   ]
  },
  {
   "cell_type": "code",
   "execution_count": 46,
   "id": "623e1f8e-3341-49a6-b6ea-f877eb0f4867",
   "metadata": {
    "tags": []
   },
   "outputs": [],
   "source": [
    "choose_data = data[data['Parameter'] == Lifetime]\n",
    "x = choose_data[DCXconc].values\n",
    "y = choose_data['Fit'].values\n",
    "yerr = choose_data['SE'].values\n",
    "\n",
    "\n",
    "# Use this line for lifetimes\n",
    "y1 = y - y[0]\n",
    "y = y1\n",
    "\n",
    "y1err = np.sqrt(yerr**2+yerr[0]**2)\n",
    "yerr = y1err"
   ]
  },
  {
   "cell_type": "code",
   "execution_count": 49,
   "id": "66219456-c5f3-42b2-bd2f-4d479c6f02dc",
   "metadata": {
    "tags": []
   },
   "outputs": [],
   "source": [
    "hillEQ_model = lm.Model(hillEQ)\n",
    "chi_min = []\n",
    "red_chi = []\n",
    "# n_values = np.linspace(1.48,2.32,100)\n",
    "n_values = np.linspace(1,5,200)\n",
    "for n in n_values:\n",
    "    hillEQ_params = hillEQ_model.make_params(kd=1,sat=1)\n",
    "    hillEQ_params['kd'].set(value=1,vary=True,min=0)\n",
    "    hillEQ_params['n'].set(value=n,vary=False) #fix this parameter\n",
    "    resultEQ = hillEQ_model.fit(y,x=x, params=hillEQ_params,weights=1/yerr)\n",
    "    chi_min.append(resultEQ.chisqr) #extract chi square\n",
    "    red_chi.append(resultEQ.redchi)"
   ]
  },
  {
   "cell_type": "code",
   "execution_count": 50,
   "id": "dd54fc43-65b6-4be0-bdc5-b759fb6493bb",
   "metadata": {
    "tags": []
   },
   "outputs": [
    {
     "data": {
      "text/plain": [
       "Text(0, 0.5, 'chisqr min')"
      ]
     },
     "execution_count": 50,
     "metadata": {},
     "output_type": "execute_result"
    },
    {
     "data": {
      "image/png": "[encoded data removed]",
      "text/plain": [
       "<Figure size 640x480 with 1 Axes>"
      ]
     },
     "metadata": {},
     "output_type": "display_data"
    }
   ],
   "source": [
    "plt.figure()\n",
    "plt.title('Hill')\n",
    "plt.plot(n_values,chi_min)\n",
    "data = np.array([n_values,chi_min]).transpose()\n",
    "df = pd.DataFrame(data,columns=['n values','chimin'])\n",
    "df.to_csv('intensity.csv')\n",
    "# plt.axhline(y=0.90534755)\n",
    "# plt.axhline(y=1.18)\n",
    "# plt.ylim(0.9,1.9)\n",
    "plt.xlabel('fixed N')\n",
    "plt.ylabel('chisqr min')"
   ]
  },
  {
   "cell_type": "code",
   "execution_count": 51,
   "id": "d1526352-15f1-4b43-a445-8f91cb3a6cc4",
   "metadata": {
    "tags": []
   },
   "outputs": [
    {
     "data": {
      "text/html": [
       "<div>\n",
       "<style scoped>\n",
       "    .dataframe tbody tr th:only-of-type {\n",
       "        vertical-align: middle;\n",
       "    }\n",
       "\n",
       "    .dataframe tbody tr th {\n",
       "        vertical-align: top;\n",
       "    }\n",
       "\n",
       "    .dataframe thead th {\n",
       "        text-align: right;\n",
       "    }\n",
       "</style>\n",
       "<table border=\"1\" class=\"dataframe\">\n",
       "  <thead>\n",
       "    <tr style=\"text-align: right;\">\n",
       "      <th></th>\n",
       "      <th>n_values</th>\n",
       "      <th>chi_min</th>\n",
       "    </tr>\n",
       "  </thead>\n",
       "  <tbody>\n",
       "    <tr>\n",
       "      <th>0</th>\n",
       "      <td>1.000000</td>\n",
       "      <td>3.228119</td>\n",
       "    </tr>\n",
       "    <tr>\n",
       "      <th>1</th>\n",
       "      <td>1.020101</td>\n",
       "      <td>3.169646</td>\n",
       "    </tr>\n",
       "    <tr>\n",
       "      <th>2</th>\n",
       "      <td>1.040201</td>\n",
       "      <td>3.111701</td>\n",
       "    </tr>\n",
       "    <tr>\n",
       "      <th>3</th>\n",
       "      <td>1.060302</td>\n",
       "      <td>3.054293</td>\n",
       "    </tr>\n",
       "    <tr>\n",
       "      <th>4</th>\n",
       "      <td>1.080402</td>\n",
       "      <td>2.997433</td>\n",
       "    </tr>\n",
       "    <tr>\n",
       "      <th>...</th>\n",
       "      <td>...</td>\n",
       "      <td>...</td>\n",
       "    </tr>\n",
       "    <tr>\n",
       "      <th>195</th>\n",
       "      <td>4.919598</td>\n",
       "      <td>0.342615</td>\n",
       "    </tr>\n",
       "    <tr>\n",
       "      <th>196</th>\n",
       "      <td>4.939698</td>\n",
       "      <td>0.348127</td>\n",
       "    </tr>\n",
       "    <tr>\n",
       "      <th>197</th>\n",
       "      <td>4.959799</td>\n",
       "      <td>0.353662</td>\n",
       "    </tr>\n",
       "    <tr>\n",
       "      <th>198</th>\n",
       "      <td>4.979899</td>\n",
       "      <td>0.359217</td>\n",
       "    </tr>\n",
       "    <tr>\n",
       "      <th>199</th>\n",
       "      <td>5.000000</td>\n",
       "      <td>0.364792</td>\n",
       "    </tr>\n",
       "  </tbody>\n",
       "</table>\n",
       "<p>200 rows × 2 columns</p>\n",
       "</div>"
      ],
      "text/plain": [
       "     n_values   chi_min\n",
       "0    1.000000  3.228119\n",
       "1    1.020101  3.169646\n",
       "2    1.040201  3.111701\n",
       "3    1.060302  3.054293\n",
       "4    1.080402  2.997433\n",
       "..        ...       ...\n",
       "195  4.919598  0.342615\n",
       "196  4.939698  0.348127\n",
       "197  4.959799  0.353662\n",
       "198  4.979899  0.359217\n",
       "199  5.000000  0.364792\n",
       "\n",
       "[200 rows x 2 columns]"
      ]
     },
     "execution_count": 51,
     "metadata": {},
     "output_type": "execute_result"
    }
   ],
   "source": [
    "d = {'n_values': n_values, 'chi_min': chi_min}\n",
    "results = pd.DataFrame(data=d)\n",
    "results"
   ]
  },
  {
   "cell_type": "code",
   "execution_count": 52,
   "id": "53ba1b4c-6eee-4602-bf5d-973149c85658",
   "metadata": {
    "tags": []
   },
   "outputs": [],
   "source": [
    "results.to_csv(path/('lifetime_'+date+'.csv'), encoding='utf-8', index=False)"
   ]
  },
  {
   "cell_type": "markdown",
   "id": "4e866954-26c5-44c9-9d10-10a9c8b3c949",
   "metadata": {},
   "source": [
    "### Choose file int ###"
   ]
  },
  {
   "cell_type": "code",
   "execution_count": 53,
   "id": "ee9d6e1a-905e-422e-845c-97743db18a2a",
   "metadata": {
    "tags": []
   },
   "outputs": [],
   "source": [
    "askchi2 = filedialog.askopenfilename() # show an \"Open\" dialog box and return the path to the selected file\n",
    "ResultFit = pd.read_csv(askchi2, encoding='utf-8')\n",
    "\n"
   ]
  },
  {
   "cell_type": "code",
   "execution_count": 54,
   "id": "3410dd93-eec8-4ad8-af32-d8a17f908d13",
   "metadata": {
    "tags": []
   },
   "outputs": [
    {
     "data": {
      "text/html": [
       "<div>\n",
       "<style scoped>\n",
       "    .dataframe tbody tr th:only-of-type {\n",
       "        vertical-align: middle;\n",
       "    }\n",
       "\n",
       "    .dataframe tbody tr th {\n",
       "        vertical-align: top;\n",
       "    }\n",
       "\n",
       "    .dataframe thead th {\n",
       "        text-align: right;\n",
       "    }\n",
       "</style>\n",
       "<table border=\"1\" class=\"dataframe\">\n",
       "  <thead>\n",
       "    <tr style=\"text-align: right;\">\n",
       "      <th></th>\n",
       "      <th>n_values</th>\n",
       "      <th>chi_min</th>\n",
       "    </tr>\n",
       "  </thead>\n",
       "  <tbody>\n",
       "    <tr>\n",
       "      <th>0</th>\n",
       "      <td>1.000000</td>\n",
       "      <td>11.323700</td>\n",
       "    </tr>\n",
       "    <tr>\n",
       "      <th>1</th>\n",
       "      <td>1.010050</td>\n",
       "      <td>10.995532</td>\n",
       "    </tr>\n",
       "    <tr>\n",
       "      <th>2</th>\n",
       "      <td>1.020101</td>\n",
       "      <td>10.672289</td>\n",
       "    </tr>\n",
       "    <tr>\n",
       "      <th>3</th>\n",
       "      <td>1.030151</td>\n",
       "      <td>10.354111</td>\n",
       "    </tr>\n",
       "    <tr>\n",
       "      <th>4</th>\n",
       "      <td>1.040201</td>\n",
       "      <td>10.041126</td>\n",
       "    </tr>\n",
       "    <tr>\n",
       "      <th>...</th>\n",
       "      <td>...</td>\n",
       "      <td>...</td>\n",
       "    </tr>\n",
       "    <tr>\n",
       "      <th>195</th>\n",
       "      <td>2.959799</td>\n",
       "      <td>3.874830</td>\n",
       "    </tr>\n",
       "    <tr>\n",
       "      <th>196</th>\n",
       "      <td>2.969849</td>\n",
       "      <td>3.896531</td>\n",
       "    </tr>\n",
       "    <tr>\n",
       "      <th>197</th>\n",
       "      <td>2.979899</td>\n",
       "      <td>3.917924</td>\n",
       "    </tr>\n",
       "    <tr>\n",
       "      <th>198</th>\n",
       "      <td>2.989950</td>\n",
       "      <td>3.939011</td>\n",
       "    </tr>\n",
       "    <tr>\n",
       "      <th>199</th>\n",
       "      <td>3.000000</td>\n",
       "      <td>3.959793</td>\n",
       "    </tr>\n",
       "  </tbody>\n",
       "</table>\n",
       "<p>200 rows × 2 columns</p>\n",
       "</div>"
      ],
      "text/plain": [
       "     n_values    chi_min\n",
       "0    1.000000  11.323700\n",
       "1    1.010050  10.995532\n",
       "2    1.020101  10.672289\n",
       "3    1.030151  10.354111\n",
       "4    1.040201  10.041126\n",
       "..        ...        ...\n",
       "195  2.959799   3.874830\n",
       "196  2.969849   3.896531\n",
       "197  2.979899   3.917924\n",
       "198  2.989950   3.939011\n",
       "199  3.000000   3.959793\n",
       "\n",
       "[200 rows x 2 columns]"
      ]
     },
     "execution_count": 54,
     "metadata": {},
     "output_type": "execute_result"
    }
   ],
   "source": [
    "ResultFit"
   ]
  },
  {
   "cell_type": "code",
   "execution_count": 55,
   "id": "8ed78b12-0fc7-49c9-9c7a-08516748faf9",
   "metadata": {
    "tags": []
   },
   "outputs": [
    {
     "data": {
      "text/plain": [
       "WindowsPath('C:/Users/sofia/OneDrive - McGill University/EJCB2023/Sofia_EJCB_Figs/Data/Chi-square/Plots_2024-07-05/Plots_2024-07-05')"
      ]
     },
     "execution_count": 55,
     "metadata": {},
     "output_type": "execute_result"
    }
   ],
   "source": [
    "resultdirectory = str(Path(askchi2).parent)+'//Plots_'+date\n",
    "newmydir = Path(resultdirectory)\n",
    "newmydir.mkdir(exist_ok=True)\n",
    "newmydir"
   ]
  },
  {
   "cell_type": "code",
   "execution_count": 57,
   "id": "82c82eb5-f11c-4110-b732-cc72818a6063",
   "metadata": {
    "tags": []
   },
   "outputs": [],
   "source": [
    "x = ResultFit['n_values']\n",
    "y = ResultFit['chi_min']"
   ]
  },
  {
   "cell_type": "code",
   "execution_count": 58,
   "id": "31f12928-fde1-41a2-bae6-f70908352823",
   "metadata": {
    "tags": []
   },
   "outputs": [],
   "source": [
    "ymin = y.min()\n",
    "loc_ymin = np.argmin(y)\n",
    "xmin = x[loc_ymin]"
   ]
  },
  {
   "cell_type": "code",
   "execution_count": 59,
   "id": "584c5c10-a3f2-4082-bb54-276acf84f31f",
   "metadata": {
    "tags": []
   },
   "outputs": [],
   "source": [
    "nH = 1.7\n",
    "SE = 0.1"
   ]
  },
  {
   "cell_type": "code",
   "execution_count": 61,
   "id": "548e1448-64e1-4552-b043-aa3273e8170d",
   "metadata": {
    "tags": []
   },
   "outputs": [
    {
     "data": {
      "image/png": "[encoded data removed]",
      "text/plain": [
       "<Figure size 525x525 with 1 Axes>"
      ]
     },
     "metadata": {},
     "output_type": "display_data"
    }
   ],
   "source": [
    "scattersize = 8\n",
    "cap = 5\n",
    "linetype = ['','--', ':','--', ':', '-.','']\n",
    "\n",
    "fig, ax = plt.subplots(1,1,figsize=(5.25,5.25))\n",
    "#     plt.suptitle('Fitted pooled data', fontsize=30)\n",
    "\n",
    "count = 0\n",
    "\n",
    "\n",
    "linx = np.arange(0, 230, 1)\n",
    "\n",
    "ax.plot(x, y,color = grey, lw=3,ls= '-',alpha = 0.5,label='_nolegend_')\n",
    "ax.scatter(xmin,ymin, color=cyan)\n",
    "ax.axvline(x = nH, color = cyan ,linestyle=\"--\", linewidth=4,alpha = 0.3)\n",
    "ax.axvspan(nH-SE,nH+SE, alpha=0.3, color=cyan,ec = None)\n",
    "\n",
    "ax.spines['right'].set_visible(False)\n",
    "ax.spines['top'].set_visible(False)\n",
    "ax.spines['left'].set_lw(3)\n",
    "ax.spines['bottom'].set_lw(3)\n",
    "ax.tick_params(axis='both', width = 3.5, length = 7)\n",
    "# ax.set_ylim(-0.015,0.7)\n",
    "# ax.set_yticks(np.arange(0, 0.71, 0.2))\n",
    "# #ax.set_xlim(-10,250)\n",
    "# ax.set_xticks(np.arange(0, 251, 100))\n",
    "ax.set_xlabel('n')\n",
    "\n",
    "\n",
    "#ax.set_title('Rescue')\n",
    "ax.set_ylabel(r'$\\chi^2$'  ' of Intensity Fit')\n",
    "\n",
    "sns.set_context(\"poster\", font_scale=1, rc={\"lines.linewidth\":3.0})\n",
    "plt.tight_layout()\n",
    "#ax.legend((Type_order),loc='upper left',title='DCX Type')\n",
    "#fig.suptitle('[Tubulin] ' r'$= 6 \\mu M$')\n",
    "\n",
    "#plt.savefig(path.parents[0]/('joint_graphsFit_'+jointdate+'.png'))\n",
    "plt.savefig(newmydir/('chi2_intensity'+date+'.pdf'))"
   ]
  },
  {
   "cell_type": "markdown",
   "id": "0fc60039-125f-482f-81ae-ce0c65156a60",
   "metadata": {},
   "source": [
    "### Choose file lifetime ###"
   ]
  },
  {
   "cell_type": "code",
   "execution_count": 57,
   "id": "3e356fee-a017-4f5a-b121-4a667147535f",
   "metadata": {
    "tags": []
   },
   "outputs": [],
   "source": [
    "askchi2 = filedialog.askopenfilename() # show an \"Open\" dialog box and return the path to the selected file\n",
    "ResultFit = pd.read_csv(askchi2, encoding='utf-8')\n",
    "\n"
   ]
  },
  {
   "cell_type": "code",
   "execution_count": 58,
   "id": "0d573d7c-7966-4c2f-a434-338d830f776f",
   "metadata": {
    "tags": []
   },
   "outputs": [
    {
     "data": {
      "text/html": [
       "<div>\n",
       "<style scoped>\n",
       "    .dataframe tbody tr th:only-of-type {\n",
       "        vertical-align: middle;\n",
       "    }\n",
       "\n",
       "    .dataframe tbody tr th {\n",
       "        vertical-align: top;\n",
       "    }\n",
       "\n",
       "    .dataframe thead th {\n",
       "        text-align: right;\n",
       "    }\n",
       "</style>\n",
       "<table border=\"1\" class=\"dataframe\">\n",
       "  <thead>\n",
       "    <tr style=\"text-align: right;\">\n",
       "      <th></th>\n",
       "      <th>Unnamed: 0</th>\n",
       "      <th>n values</th>\n",
       "      <th>chimin</th>\n",
       "    </tr>\n",
       "  </thead>\n",
       "  <tbody>\n",
       "    <tr>\n",
       "      <th>0</th>\n",
       "      <td>0</td>\n",
       "      <td>1.000000</td>\n",
       "      <td>3.228119</td>\n",
       "    </tr>\n",
       "    <tr>\n",
       "      <th>1</th>\n",
       "      <td>1</td>\n",
       "      <td>1.020101</td>\n",
       "      <td>3.169646</td>\n",
       "    </tr>\n",
       "    <tr>\n",
       "      <th>2</th>\n",
       "      <td>2</td>\n",
       "      <td>1.040201</td>\n",
       "      <td>3.111701</td>\n",
       "    </tr>\n",
       "    <tr>\n",
       "      <th>3</th>\n",
       "      <td>3</td>\n",
       "      <td>1.060302</td>\n",
       "      <td>3.054293</td>\n",
       "    </tr>\n",
       "    <tr>\n",
       "      <th>4</th>\n",
       "      <td>4</td>\n",
       "      <td>1.080402</td>\n",
       "      <td>2.997433</td>\n",
       "    </tr>\n",
       "    <tr>\n",
       "      <th>...</th>\n",
       "      <td>...</td>\n",
       "      <td>...</td>\n",
       "      <td>...</td>\n",
       "    </tr>\n",
       "    <tr>\n",
       "      <th>195</th>\n",
       "      <td>195</td>\n",
       "      <td>4.919598</td>\n",
       "      <td>0.342615</td>\n",
       "    </tr>\n",
       "    <tr>\n",
       "      <th>196</th>\n",
       "      <td>196</td>\n",
       "      <td>4.939698</td>\n",
       "      <td>0.348127</td>\n",
       "    </tr>\n",
       "    <tr>\n",
       "      <th>197</th>\n",
       "      <td>197</td>\n",
       "      <td>4.959799</td>\n",
       "      <td>0.353662</td>\n",
       "    </tr>\n",
       "    <tr>\n",
       "      <th>198</th>\n",
       "      <td>198</td>\n",
       "      <td>4.979899</td>\n",
       "      <td>0.359217</td>\n",
       "    </tr>\n",
       "    <tr>\n",
       "      <th>199</th>\n",
       "      <td>199</td>\n",
       "      <td>5.000000</td>\n",
       "      <td>0.364792</td>\n",
       "    </tr>\n",
       "  </tbody>\n",
       "</table>\n",
       "<p>200 rows × 3 columns</p>\n",
       "</div>"
      ],
      "text/plain": [
       "     Unnamed: 0  n values    chimin\n",
       "0             0  1.000000  3.228119\n",
       "1             1  1.020101  3.169646\n",
       "2             2  1.040201  3.111701\n",
       "3             3  1.060302  3.054293\n",
       "4             4  1.080402  2.997433\n",
       "..          ...       ...       ...\n",
       "195         195  4.919598  0.342615\n",
       "196         196  4.939698  0.348127\n",
       "197         197  4.959799  0.353662\n",
       "198         198  4.979899  0.359217\n",
       "199         199  5.000000  0.364792\n",
       "\n",
       "[200 rows x 3 columns]"
      ]
     },
     "execution_count": 58,
     "metadata": {},
     "output_type": "execute_result"
    }
   ],
   "source": [
    "ResultFit"
   ]
  },
  {
   "cell_type": "code",
   "execution_count": 59,
   "id": "e5112a8b-e32e-415f-a09b-4f30d4848647",
   "metadata": {
    "tags": []
   },
   "outputs": [
    {
     "data": {
      "text/plain": [
       "WindowsPath('C:/Users/sofia/OneDrive/Casa/Data/Adam comments/Plots_2024-05-23')"
      ]
     },
     "execution_count": 59,
     "metadata": {},
     "output_type": "execute_result"
    }
   ],
   "source": [
    "resultdirectory = str(Path(askchi2).parent)+'//Plots_'+date\n",
    "newmydir = Path(resultdirectory)\n",
    "newmydir.mkdir(exist_ok=True)\n",
    "newmydir"
   ]
  },
  {
   "cell_type": "code",
   "execution_count": 60,
   "id": "9b451efa-0ede-469b-bec0-2b15e20ea054",
   "metadata": {
    "tags": []
   },
   "outputs": [],
   "source": [
    "x = ResultFit['n_values']\n",
    "y = ResultFit['chi_min']"
   ]
  },
  {
   "cell_type": "code",
   "execution_count": 61,
   "id": "6c004e2c-9c3f-4c13-aa64-5f000ad62aaa",
   "metadata": {
    "tags": []
   },
   "outputs": [],
   "source": [
    "ymin = y.min()\n",
    "loc_ymin = np.argmin(y)\n",
    "xmin = x[loc_ymin]"
   ]
  },
  {
   "cell_type": "code",
   "execution_count": 62,
   "id": "9f351d0f-02fc-422f-8c41-a5b855fa4dc0",
   "metadata": {
    "tags": []
   },
   "outputs": [],
   "source": [
    "nH = 3.4\n",
    "SE = 0.3"
   ]
  },
  {
   "cell_type": "code",
   "execution_count": 65,
   "id": "6b1b0070-39ee-496c-8e5c-57a9aacaee13",
   "metadata": {
    "tags": []
   },
   "outputs": [
    {
     "data": {
      "image/png": "[encoded data removed]",
      "text/plain": [
       "<Figure size 525x525 with 1 Axes>"
      ]
     },
     "metadata": {},
     "output_type": "display_data"
    }
   ],
   "source": [
    "scattersize = 8\n",
    "cap = 5\n",
    "linetype = ['','--', ':','--', ':', '-.','']\n",
    "\n",
    "fig, ax = plt.subplots(1,1,figsize=(5.25,5.25))\n",
    "#     plt.suptitle('Fitted pooled data', fontsize=30)\n",
    "\n",
    "count = 0\n",
    "\n",
    "\n",
    "linx = np.arange(0, 230, 1)\n",
    "\n",
    "ax.plot(x, y,color = grey, lw=3,ls= '-',alpha = 0.5,label='_nolegend_')\n",
    "ax.scatter(xmin,ymin, color=cyan)\n",
    "ax.axvline(x = nH, color = cyan ,linestyle=\"--\", linewidth=4,alpha = 0.3)\n",
    "ax.axvspan(nH-SE,nH+SE, alpha=0.3, color=cyan,ec = None)\n",
    "\n",
    "ax.spines['right'].set_visible(False)\n",
    "ax.spines['top'].set_visible(False)\n",
    "ax.spines['left'].set_lw(3)\n",
    "ax.spines['bottom'].set_lw(3)\n",
    "ax.tick_params(axis='both', width = 3.5, length = 7)\n",
    "# ax.set_ylim(-0.015,0.7)\n",
    "# ax.set_yticks(np.arange(0, 0.71, 0.2))\n",
    "# #ax.set_xlim(-10,250)\n",
    "ax.set_xticks(np.arange(1, 5.1, 1))\n",
    "ax.set_xlabel('n')\n",
    "\n",
    "\n",
    "#ax.set_title('Rescue')\n",
    "ax.set_ylabel(r'$\\chi^2$'  ' of Lifetime Fit')\n",
    "\n",
    "sns.set_context(\"poster\", font_scale=1, rc={\"lines.linewidth\":3.0})\n",
    "plt.tight_layout()\n",
    "#ax.legend((Type_order),loc='upper left',title='DCX Type')\n",
    "#fig.suptitle('[Tubulin] ' r'$= 6 \\mu M$')\n",
    "\n",
    "#plt.savefig(path.parents[0]/('joint_graphsFit_'+jointdate+'.png'))\n",
    "plt.savefig(newmydir/('chi2_lifetime'+date+'.pdf'))"
   ]
  },
  {
   "cell_type": "markdown",
   "id": "c297e95e-1357-42ce-b158-a7d6869d2bfa",
   "metadata": {},
   "source": [
    "### Choose file resc ###"
   ]
  },
  {
   "cell_type": "code",
   "execution_count": 66,
   "id": "483b75bb-aae9-42cf-90bb-5caad1900b81",
   "metadata": {
    "tags": []
   },
   "outputs": [],
   "source": [
    "askchi2 = filedialog.askopenfilename() # show an \"Open\" dialog box and return the path to the selected file\n",
    "ResultFit = pd.read_csv(askchi2, encoding='utf-8')\n",
    "\n"
   ]
  },
  {
   "cell_type": "code",
   "execution_count": 67,
   "id": "05ed9708-3bb2-4a6d-b12f-18519d32099b",
   "metadata": {
    "tags": []
   },
   "outputs": [
    {
     "data": {
      "text/html": [
       "<div>\n",
       "<style scoped>\n",
       "    .dataframe tbody tr th:only-of-type {\n",
       "        vertical-align: middle;\n",
       "    }\n",
       "\n",
       "    .dataframe tbody tr th {\n",
       "        vertical-align: top;\n",
       "    }\n",
       "\n",
       "    .dataframe thead th {\n",
       "        text-align: right;\n",
       "    }\n",
       "</style>\n",
       "<table border=\"1\" class=\"dataframe\">\n",
       "  <thead>\n",
       "    <tr style=\"text-align: right;\">\n",
       "      <th></th>\n",
       "      <th>Unnamed: 0</th>\n",
       "      <th>n values</th>\n",
       "      <th>chimin</th>\n",
       "    </tr>\n",
       "  </thead>\n",
       "  <tbody>\n",
       "    <tr>\n",
       "      <th>0</th>\n",
       "      <td>0</td>\n",
       "      <td>1.000000</td>\n",
       "      <td>558.946754</td>\n",
       "    </tr>\n",
       "    <tr>\n",
       "      <th>1</th>\n",
       "      <td>1</td>\n",
       "      <td>1.010050</td>\n",
       "      <td>557.694229</td>\n",
       "    </tr>\n",
       "    <tr>\n",
       "      <th>2</th>\n",
       "      <td>2</td>\n",
       "      <td>1.020101</td>\n",
       "      <td>556.454986</td>\n",
       "    </tr>\n",
       "    <tr>\n",
       "      <th>3</th>\n",
       "      <td>3</td>\n",
       "      <td>1.030151</td>\n",
       "      <td>555.229112</td>\n",
       "    </tr>\n",
       "    <tr>\n",
       "      <th>4</th>\n",
       "      <td>4</td>\n",
       "      <td>1.040201</td>\n",
       "      <td>554.016689</td>\n",
       "    </tr>\n",
       "    <tr>\n",
       "      <th>...</th>\n",
       "      <td>...</td>\n",
       "      <td>...</td>\n",
       "      <td>...</td>\n",
       "    </tr>\n",
       "    <tr>\n",
       "      <th>195</th>\n",
       "      <td>195</td>\n",
       "      <td>2.959799</td>\n",
       "      <td>553.709906</td>\n",
       "    </tr>\n",
       "    <tr>\n",
       "      <th>196</th>\n",
       "      <td>196</td>\n",
       "      <td>2.969849</td>\n",
       "      <td>554.477611</td>\n",
       "    </tr>\n",
       "    <tr>\n",
       "      <th>197</th>\n",
       "      <td>197</td>\n",
       "      <td>2.979899</td>\n",
       "      <td>555.247722</td>\n",
       "    </tr>\n",
       "    <tr>\n",
       "      <th>198</th>\n",
       "      <td>198</td>\n",
       "      <td>2.989950</td>\n",
       "      <td>556.020168</td>\n",
       "    </tr>\n",
       "    <tr>\n",
       "      <th>199</th>\n",
       "      <td>199</td>\n",
       "      <td>3.000000</td>\n",
       "      <td>556.794878</td>\n",
       "    </tr>\n",
       "  </tbody>\n",
       "</table>\n",
       "<p>200 rows × 3 columns</p>\n",
       "</div>"
      ],
      "text/plain": [
       "     Unnamed: 0  n values      chimin\n",
       "0             0  1.000000  558.946754\n",
       "1             1  1.010050  557.694229\n",
       "2             2  1.020101  556.454986\n",
       "3             3  1.030151  555.229112\n",
       "4             4  1.040201  554.016689\n",
       "..          ...       ...         ...\n",
       "195         195  2.959799  553.709906\n",
       "196         196  2.969849  554.477611\n",
       "197         197  2.979899  555.247722\n",
       "198         198  2.989950  556.020168\n",
       "199         199  3.000000  556.794878\n",
       "\n",
       "[200 rows x 3 columns]"
      ]
     },
     "execution_count": 67,
     "metadata": {},
     "output_type": "execute_result"
    }
   ],
   "source": [
    "ResultFit"
   ]
  },
  {
   "cell_type": "code",
   "execution_count": 68,
   "id": "7f4a787e-1abb-4e69-80a9-a2446ca88c58",
   "metadata": {
    "tags": []
   },
   "outputs": [
    {
     "data": {
      "text/plain": [
       "WindowsPath('C:/Users/sofia/OneDrive/Casa/Data/Adam comments/Plots_2024-05-23')"
      ]
     },
     "execution_count": 68,
     "metadata": {},
     "output_type": "execute_result"
    }
   ],
   "source": [
    "resultdirectory = str(Path(askchi2).parent)+'//Plots_'+date\n",
    "newmydir = Path(resultdirectory)\n",
    "newmydir.mkdir(exist_ok=True)\n",
    "newmydir"
   ]
  },
  {
   "cell_type": "code",
   "execution_count": 69,
   "id": "34ffec06-1465-430f-8dd2-969aaa4af35d",
   "metadata": {
    "tags": []
   },
   "outputs": [],
   "source": [
    "x = ResultFit['n_values']\n",
    "y = ResultFit['chi_min']"
   ]
  },
  {
   "cell_type": "code",
   "execution_count": 70,
   "id": "f8a8255a-4eae-4b9a-b492-9af658cc8ff8",
   "metadata": {
    "tags": []
   },
   "outputs": [],
   "source": [
    "ymin = y.min()\n",
    "loc_ymin = np.argmin(y)\n",
    "xmin = x[loc_ymin]"
   ]
  },
  {
   "cell_type": "code",
   "execution_count": 71,
   "id": "ecefc4ae-9aad-403b-b67b-846baf16bbcd",
   "metadata": {
    "tags": []
   },
   "outputs": [],
   "source": [
    "nH = 2.0\n",
    "SE = 0.6"
   ]
  },
  {
   "cell_type": "code",
   "execution_count": 72,
   "id": "f51361bf-a61d-429e-8937-fc0eedf07afe",
   "metadata": {
    "tags": []
   },
   "outputs": [
    {
     "data": {
      "image/png": "[encoded data removed]",
      "text/plain": [
       "<Figure size 525x525 with 1 Axes>"
      ]
     },
     "metadata": {},
     "output_type": "display_data"
    }
   ],
   "source": [
    "scattersize = 8\n",
    "cap = 5\n",
    "linetype = ['','--', ':','--', ':', '-.','']\n",
    "\n",
    "fig, ax = plt.subplots(1,1,figsize=(5.25,5.25))\n",
    "#     plt.suptitle('Fitted pooled data', fontsize=30)\n",
    "\n",
    "count = 0\n",
    "\n",
    "\n",
    "linx = np.arange(0, 230, 1)\n",
    "\n",
    "ax.plot(x, y,color = grey, lw=3,ls= '-',alpha = 0.5,label='_nolegend_')\n",
    "ax.scatter(xmin,ymin, color=cyan)\n",
    "ax.axvline(x = nH, color = cyan ,linestyle=\"--\", linewidth=4,alpha = 0.3)\n",
    "ax.axvspan(nH-SE,nH+SE, alpha=0.3, color=cyan,ec = None)\n",
    "\n",
    "ax.spines['right'].set_visible(False)\n",
    "ax.spines['top'].set_visible(False)\n",
    "ax.spines['left'].set_lw(3)\n",
    "ax.spines['bottom'].set_lw(3)\n",
    "ax.tick_params(axis='both', width = 3.5, length = 7)\n",
    "# ax.set_ylim(-0.015,0.7)\n",
    "# ax.set_yticks(np.arange(0, 0.71, 0.2))\n",
    "# #ax.set_xlim(-10,250)\n",
    "# ax.set_xticks(np.arange(0, 251, 100))\n",
    "ax.set_xlabel('n')\n",
    "\n",
    "\n",
    "#ax.set_title('Rescue')\n",
    "ax.set_ylabel(r'$\\chi^2$'  ' of Rescue Fit')\n",
    "\n",
    "sns.set_context(\"poster\", font_scale=1, rc={\"lines.linewidth\":3.0})\n",
    "plt.tight_layout()\n",
    "#ax.legend((Type_order),loc='upper left',title='DCX Type')\n",
    "#fig.suptitle('[Tubulin] ' r'$= 6 \\mu M$')\n",
    "\n",
    "#plt.savefig(path.parents[0]/('joint_graphsFit_'+jointdate+'.png'))\n",
    "plt.savefig(newmydir/('chi2_rescue'+date+'.pdf'))"
   ]
  },
  {
   "cell_type": "code",
   "execution_count": null,
   "id": "6f64b142-dcdc-49e7-82cd-828f7c72c885",
   "metadata": {},
   "outputs": [],
   "source": []
  }
 ],
 "metadata": {
  "kernelspec": {
   "display_name": "Python 3 (ipykernel)",
   "language": "python",
   "name": "python3"
  },
  "language_info": {
   "codemirror_mode": {
    "name": "ipython",
    "version": 3
   },
   "file_extension": ".py",
   "mimetype": "text/x-python",
   "name": "python",
   "nbconvert_exporter": "python",
   "pygments_lexer": "ipython3",
   "version": "3.11.5"
  }
 },
 "nbformat": 4,
 "nbformat_minor": 5
}
