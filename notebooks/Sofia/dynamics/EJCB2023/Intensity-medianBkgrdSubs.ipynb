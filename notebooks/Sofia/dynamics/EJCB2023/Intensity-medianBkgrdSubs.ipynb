{
 "cells": [
  {
   "cell_type": "code",
   "execution_count": 1,
   "metadata": {
    "tags": []
   },
   "outputs": [],
   "source": [
    "import numpy as np\n",
    "import seaborn as sns\n",
    "import matplotlib.pyplot as plt\n",
    "import matplotlib\n",
    "import csv\n",
    "import pandas as pd\n",
    "from pandas.api.types import CategoricalDtype\n",
    "import scipy as sp\n",
    "from pathlib import Path\n",
    "from tkinter import filedialog\n",
    "import itertools\n",
    "from colour import Color\n",
    "from datetime import date\n",
    "# import statsmodels.api as sm\n",
    "# from statsmodels.stats.weightstats import ztest as ztest\n",
    "from sklearn.metrics import r2_score as R2S\n",
    "import cairo\n"
   ]
  },
  {
   "cell_type": "markdown",
   "metadata": {},
   "source": [
    "## Names and Palette ##"
   ]
  },
  {
   "cell_type": "code",
   "execution_count": 2,
   "metadata": {
    "tags": []
   },
   "outputs": [
    {
     "name": "stdout",
     "output_type": "stream",
     "text": [
      "Today's date: 2024-05-22\n"
     ]
    },
    {
     "data": {
      "text/plain": [
       "'2024-05-22'"
      ]
     },
     "execution_count": 2,
     "metadata": {},
     "output_type": "execute_result"
    }
   ],
   "source": [
    "today = date.today()\n",
    "print(\"Today's date:\", today)\n",
    "date = str(today)\n",
    "date"
   ]
  },
  {
   "cell_type": "code",
   "execution_count": 3,
   "metadata": {
    "tags": []
   },
   "outputs": [],
   "source": [
    "tubulin = '[Tubulin] (' r'$\\mu$' 'M)'\n",
    "tub = 'tub'\n",
    "\n",
    "DCXconc = '[DCX] (nM)' \n",
    "EBconc = '[EB] (nM)'\n",
    "DCX = 'DCX'\n",
    "Type = 'DCX Type'\n",
    "\n",
    "Concentration = 'Concentration (' r'$\\mu$' 'M)'\n",
    "Length = 'Length (' r'$\\mu$' 'm)'\n",
    "Lifetime = 'Lifetime (min)'\n",
    "GrowthRate = 'Growth Rate (' r'$\\mu$' 'm/min)'\n",
    "TimeToNucleate = 'Time to Nucleate (min)'\n",
    "ShrinkageLength = 'Shrink Length (' r'$\\mu$' 'm)'\n",
    "ShrinkageLifetime = 'Shrink Lifetime (min)'\n",
    "ShrinkageRate = 'Shrink Rate (' r'$\\mu$' 'm/min)'\n",
    "RescuePerLength = 'Rescues (' r'$\\mu$' 'm' r'$^{-1}$' ')'"
   ]
  },
  {
   "cell_type": "code",
   "execution_count": 4,
   "metadata": {
    "tags": []
   },
   "outputs": [
    {
     "name": "stdout",
     "output_type": "stream",
     "text": [
      "[<Color #ab4a9c>, <Color #e468b8>, <Color #ffa4cd>] [<Color #ff5b00>, <Color #ff8341>, <Color #ffac83>]\n"
     ]
    }
   ],
   "source": [
    "black = '#000000'\n",
    "grey = '#777777'\n",
    "blue = '#23459C'\n",
    "cyan = '#0089CF'\n",
    "green = '#79BA1A'\n",
    "purple = '#AB4A9C'\n",
    "lily = '#CB81EA'\n",
    "magenta = '#D80B8C'\n",
    "red = '#e60000'\n",
    "orange = '#FF7300'\n",
    "darkorange = '#FF5B00'\n",
    "lightorange = '#FFAC83'\n",
    "yellow = '#FFCB05'\n",
    "lightyellow = '#F9DC2D'\n",
    "pink = '#FFA4CD'\n",
    "StartHue1 = Color(purple)\n",
    "DC1color = list(StartHue1.range_to(Color(pink),3))\n",
    "StartHue2 = Color(darkorange)\n",
    "DC2color = list(StartHue2.range_to(Color(lightorange),3))\n",
    "print(DC1color,DC2color)\n",
    "\n",
    "palette_all = [grey] + list(map(Color.get_hex,DC1color)) + list(map(Color.get_hex,DC2color)) + [green,cyan]\n",
    "\n",
    "parameters = [GrowthRate,TimeToNucleate,Lifetime,ShrinkageRate]"
   ]
  },
  {
   "cell_type": "code",
   "execution_count": 5,
   "metadata": {
    "tags": []
   },
   "outputs": [],
   "source": [
    "### font for matplotlib\n",
    "matplotlib.rcParams['font.family'] = 'Helvetica Neue LT Std'"
   ]
  },
  {
   "cell_type": "markdown",
   "metadata": {},
   "source": [
    "## Join Data ##"
   ]
  },
  {
   "cell_type": "code",
   "execution_count": 261,
   "metadata": {},
   "outputs": [],
   "source": [
    "askdirectory = filedialog.askdirectory() # show an \"Open\" dialog box and return the path to the selected file\n",
    "path = Path(askdirectory)"
   ]
  },
  {
   "cell_type": "code",
   "execution_count": 262,
   "metadata": {},
   "outputs": [
    {
     "data": {
      "text/plain": [
       "[WindowsPath('D:/Sofia/2023_2summer-fall_DCXintensitydynmts/2023-11-01_nonSEC-dcxdynMut/CH1_typeR76S_DCX115nM'),\n",
       " WindowsPath('D:/Sofia/2023_2summer-fall_DCXintensitydynmts/2023-11-01_nonSEC-dcxdynMut/CH2_typeR76S_DCX60nM'),\n",
       " WindowsPath('D:/Sofia/2023_2summer-fall_DCXintensitydynmts/2023-11-01_nonSEC-dcxdynMut/CH3_typeR76S_DCX500nM'),\n",
       " WindowsPath('D:/Sofia/2023_2summer-fall_DCXintensitydynmts/2023-11-01_nonSEC-dcxdynMut/CH4_typeR76S_DCX80nM'),\n",
       " WindowsPath('D:/Sofia/2023_2summer-fall_DCXintensitydynmts/2023-11-01_nonSEC-dcxdynMut/CH6_typeR76S_DCX230nM')]"
      ]
     },
     "execution_count": 262,
     "metadata": {},
     "output_type": "execute_result"
    }
   ],
   "source": [
    "folders = [x for x in path.iterdir() if x.is_dir()]\n",
    "folders = [i for i in folders if str(i.stem)[-1] == 'M']\n",
    "folders"
   ]
  },
  {
   "cell_type": "code",
   "execution_count": 263,
   "metadata": {},
   "outputs": [
    {
     "data": {
      "text/plain": [
       "[WindowsPath('D:/Sofia/2023_2summer-fall_DCXintensitydynmts/2023-11-01_nonSEC-dcxdynMut/CH1_typeR76S_DCX115nM/Results_processed.csv'),\n",
       " WindowsPath('D:/Sofia/2023_2summer-fall_DCXintensitydynmts/2023-11-01_nonSEC-dcxdynMut/CH2_typeR76S_DCX60nM/Results_processed.csv'),\n",
       " WindowsPath('D:/Sofia/2023_2summer-fall_DCXintensitydynmts/2023-11-01_nonSEC-dcxdynMut/CH3_typeR76S_DCX500nM/Results_processed.csv'),\n",
       " WindowsPath('D:/Sofia/2023_2summer-fall_DCXintensitydynmts/2023-11-01_nonSEC-dcxdynMut/CH4_typeR76S_DCX80nM/Results_processed.csv'),\n",
       " WindowsPath('D:/Sofia/2023_2summer-fall_DCXintensitydynmts/2023-11-01_nonSEC-dcxdynMut/CH6_typeR76S_DCX230nM/Results_processed.csv')]"
      ]
     },
     "execution_count": 263,
     "metadata": {},
     "output_type": "execute_result"
    }
   ],
   "source": [
    "files = []\n",
    "for k in folders:\n",
    "    files0 = [x for x in k.iterdir() if x.is_file()]\n",
    "    files0 = [i for i in files0 if str(i).rfind('Results_') != -1 if str(i).rfind('csv') != -1]\n",
    "    files = files + files0\n",
    "files"
   ]
  },
  {
   "cell_type": "code",
   "execution_count": 264,
   "metadata": {},
   "outputs": [],
   "source": [
    "def findmetadata(tag,end,i):\n",
    "    n = len(tag)\n",
    "    locstart = str(i).rfind(tag) \n",
    "    locend = str(i).find(end, locstart)\n",
    "    tag0 = str(i)[locstart+n: locend]\n",
    "    \n",
    "    return tag0"
   ]
  },
  {
   "cell_type": "code",
   "execution_count": 265,
   "metadata": {},
   "outputs": [
    {
     "data": {
      "text/plain": [
       "(['2023-11-01', '2023-11-01', '2023-11-01', '2023-11-01', '2023-11-01'],\n",
       " ['1', '2', '3', '4', '6'],\n",
       " [115.0, 60.0, 500.0, 80.0, 230.0],\n",
       " ['R76S', 'R76S', 'R76S', 'R76S', 'R76S'])"
      ]
     },
     "execution_count": 265,
     "metadata": {},
     "output_type": "execute_result"
    }
   ],
   "source": [
    "dates= []\n",
    "CH= []\n",
    "dcx = []\n",
    "dcxtype= []\n",
    "for i in files:\n",
    "    dateloc = str(i).rfind(\"202\")   \n",
    "    dates0 = str(i)[dateloc : dateloc+10]\n",
    "    dates = dates + [dates0]\n",
    "\n",
    "    CH0 = findmetadata(\"CH\",'_',i)\n",
    "    CH = CH + [CH0]  \n",
    "    \n",
    "    type0 = findmetadata(\"type\",'_',i)\n",
    "    dcxtype = dcxtype + [type0] \n",
    "    \n",
    "    dcx0 = findmetadata(\"DCX\",'nM',i)\n",
    "    dcx = dcx + [float(dcx0)] \n",
    "\n",
    "dates,CH,dcx, dcxtype"
   ]
  },
  {
   "cell_type": "markdown",
   "metadata": {},
   "source": [
    "## Open Data ##"
   ]
  },
  {
   "cell_type": "code",
   "execution_count": 266,
   "metadata": {
    "tags": []
   },
   "outputs": [
    {
     "data": {
      "text/html": [
       "<div>\n",
       "<style scoped>\n",
       "    .dataframe tbody tr th:only-of-type {\n",
       "        vertical-align: middle;\n",
       "    }\n",
       "\n",
       "    .dataframe tbody tr th {\n",
       "        vertical-align: top;\n",
       "    }\n",
       "\n",
       "    .dataframe thead th {\n",
       "        text-align: right;\n",
       "    }\n",
       "</style>\n",
       "<table border=\"1\" class=\"dataframe\">\n",
       "  <thead>\n",
       "    <tr style=\"text-align: right;\">\n",
       "      <th></th>\n",
       "      <th></th>\n",
       "      <th>Area</th>\n",
       "      <th>Intensity</th>\n",
       "      <th>Min</th>\n",
       "      <th>Max</th>\n",
       "      <th>Angle</th>\n",
       "      <th>Length</th>\n",
       "      <th>Date</th>\n",
       "      <th>CH</th>\n",
       "      <th>[DCX] (nM)</th>\n",
       "      <th>Type</th>\n",
       "    </tr>\n",
       "  </thead>\n",
       "  <tbody>\n",
       "    <tr>\n",
       "      <th>32</th>\n",
       "      <td>16</td>\n",
       "      <td>328</td>\n",
       "      <td>1.418</td>\n",
       "      <td>0</td>\n",
       "      <td>4</td>\n",
       "      <td>100.620</td>\n",
       "      <td>65.115</td>\n",
       "      <td>2023-11-01</td>\n",
       "      <td>2</td>\n",
       "      <td>60.0</td>\n",
       "      <td>R76S</td>\n",
       "    </tr>\n",
       "    <tr>\n",
       "      <th>27</th>\n",
       "      <td>11</td>\n",
       "      <td>216</td>\n",
       "      <td>1.644</td>\n",
       "      <td>0</td>\n",
       "      <td>4</td>\n",
       "      <td>123.690</td>\n",
       "      <td>43.267</td>\n",
       "      <td>2023-11-01</td>\n",
       "      <td>2</td>\n",
       "      <td>60.0</td>\n",
       "      <td>R76S</td>\n",
       "    </tr>\n",
       "    <tr>\n",
       "      <th>26</th>\n",
       "      <td>10</td>\n",
       "      <td>88</td>\n",
       "      <td>1.750</td>\n",
       "      <td>0</td>\n",
       "      <td>4</td>\n",
       "      <td>-42.709</td>\n",
       "      <td>17.692</td>\n",
       "      <td>2023-11-01</td>\n",
       "      <td>2</td>\n",
       "      <td>60.0</td>\n",
       "      <td>R76S</td>\n",
       "    </tr>\n",
       "    <tr>\n",
       "      <th>25</th>\n",
       "      <td>9</td>\n",
       "      <td>270</td>\n",
       "      <td>1.881</td>\n",
       "      <td>0</td>\n",
       "      <td>5</td>\n",
       "      <td>33.690</td>\n",
       "      <td>54.083</td>\n",
       "      <td>2023-11-01</td>\n",
       "      <td>2</td>\n",
       "      <td>60.0</td>\n",
       "      <td>R76S</td>\n",
       "    </tr>\n",
       "    <tr>\n",
       "      <th>24</th>\n",
       "      <td>8</td>\n",
       "      <td>113</td>\n",
       "      <td>2.442</td>\n",
       "      <td>0</td>\n",
       "      <td>7</td>\n",
       "      <td>138.576</td>\n",
       "      <td>22.672</td>\n",
       "      <td>2023-11-01</td>\n",
       "      <td>2</td>\n",
       "      <td>60.0</td>\n",
       "      <td>R76S</td>\n",
       "    </tr>\n",
       "    <tr>\n",
       "      <th>...</th>\n",
       "      <td>...</td>\n",
       "      <td>...</td>\n",
       "      <td>...</td>\n",
       "      <td>...</td>\n",
       "      <td>...</td>\n",
       "      <td>...</td>\n",
       "      <td>...</td>\n",
       "      <td>...</td>\n",
       "      <td>...</td>\n",
       "      <td>...</td>\n",
       "      <td>...</td>\n",
       "    </tr>\n",
       "    <tr>\n",
       "      <th>40</th>\n",
       "      <td>6</td>\n",
       "      <td>68</td>\n",
       "      <td>102.426</td>\n",
       "      <td>46</td>\n",
       "      <td>180</td>\n",
       "      <td>-138.013</td>\n",
       "      <td>13.454</td>\n",
       "      <td>2023-11-01</td>\n",
       "      <td>3</td>\n",
       "      <td>500.0</td>\n",
       "      <td>R76S</td>\n",
       "    </tr>\n",
       "    <tr>\n",
       "      <th>41</th>\n",
       "      <td>7</td>\n",
       "      <td>64</td>\n",
       "      <td>107.375</td>\n",
       "      <td>52</td>\n",
       "      <td>166</td>\n",
       "      <td>-141.340</td>\n",
       "      <td>12.806</td>\n",
       "      <td>2023-11-01</td>\n",
       "      <td>3</td>\n",
       "      <td>500.0</td>\n",
       "      <td>R76S</td>\n",
       "    </tr>\n",
       "    <tr>\n",
       "      <th>42</th>\n",
       "      <td>8</td>\n",
       "      <td>80</td>\n",
       "      <td>181.588</td>\n",
       "      <td>103</td>\n",
       "      <td>283</td>\n",
       "      <td>-39.806</td>\n",
       "      <td>15.620</td>\n",
       "      <td>2023-11-01</td>\n",
       "      <td>3</td>\n",
       "      <td>500.0</td>\n",
       "      <td>R76S</td>\n",
       "    </tr>\n",
       "    <tr>\n",
       "      <th>44</th>\n",
       "      <td>10</td>\n",
       "      <td>128</td>\n",
       "      <td>141.422</td>\n",
       "      <td>72</td>\n",
       "      <td>225</td>\n",
       "      <td>13.496</td>\n",
       "      <td>25.710</td>\n",
       "      <td>2023-11-01</td>\n",
       "      <td>3</td>\n",
       "      <td>500.0</td>\n",
       "      <td>R76S</td>\n",
       "    </tr>\n",
       "    <tr>\n",
       "      <th>43</th>\n",
       "      <td>9</td>\n",
       "      <td>85</td>\n",
       "      <td>121.412</td>\n",
       "      <td>42</td>\n",
       "      <td>212</td>\n",
       "      <td>-139.764</td>\n",
       "      <td>17.029</td>\n",
       "      <td>2023-11-01</td>\n",
       "      <td>3</td>\n",
       "      <td>500.0</td>\n",
       "      <td>R76S</td>\n",
       "    </tr>\n",
       "  </tbody>\n",
       "</table>\n",
       "<p>66 rows × 11 columns</p>\n",
       "</div>"
      ],
      "text/plain": [
       "        Area  Intensity  Min  Max    Angle  Length        Date CH  [DCX] (nM)  \\\n",
       "32  16   328      1.418    0    4  100.620  65.115  2023-11-01  2        60.0   \n",
       "27  11   216      1.644    0    4  123.690  43.267  2023-11-01  2        60.0   \n",
       "26  10    88      1.750    0    4  -42.709  17.692  2023-11-01  2        60.0   \n",
       "25   9   270      1.881    0    5   33.690  54.083  2023-11-01  2        60.0   \n",
       "24   8   113      2.442    0    7  138.576  22.672  2023-11-01  2        60.0   \n",
       "..  ..   ...        ...  ...  ...      ...     ...         ... ..         ...   \n",
       "40   6    68    102.426   46  180 -138.013  13.454  2023-11-01  3       500.0   \n",
       "41   7    64    107.375   52  166 -141.340  12.806  2023-11-01  3       500.0   \n",
       "42   8    80    181.588  103  283  -39.806  15.620  2023-11-01  3       500.0   \n",
       "44  10   128    141.422   72  225   13.496  25.710  2023-11-01  3       500.0   \n",
       "43   9    85    121.412   42  212 -139.764  17.029  2023-11-01  3       500.0   \n",
       "\n",
       "    Type  \n",
       "32  R76S  \n",
       "27  R76S  \n",
       "26  R76S  \n",
       "25  R76S  \n",
       "24  R76S  \n",
       "..   ...  \n",
       "40  R76S  \n",
       "41  R76S  \n",
       "42  R76S  \n",
       "44  R76S  \n",
       "43  R76S  \n",
       "\n",
       "[66 rows x 11 columns]"
      ]
     },
     "execution_count": 266,
     "metadata": {},
     "output_type": "execute_result"
    }
   ],
   "source": [
    "data = pd.DataFrame(columns=[] , index=[])\n",
    "\n",
    "for i in np.arange(len(files)):\n",
    "    data0 = pd.read_csv(files[i], encoding='utf-8',keep_default_na=False)\n",
    "\n",
    "    \n",
    "    data0['Date'] = dates[i]\n",
    "    data0['CH'] = CH[i]\n",
    "    data0[DCXconc] = dcx[i]\n",
    "    data0['Type'] = dcxtype[i]\n",
    "    \n",
    "    data = pd.concat([data,data0], ignore_index=True)\n",
    "\n",
    "data = data.rename(columns={\"Mean\": \"Intensity\"})\n",
    "data = data.sort_values(by = DCXconc)\n",
    "data"
   ]
  },
  {
   "cell_type": "code",
   "execution_count": 267,
   "metadata": {},
   "outputs": [
    {
     "data": {
      "text/plain": [
       "WindowsPath('D:/Sofia/2023_2summer-fall_DCXintensitydynmts/Intensity_Data_Sheets')"
      ]
     },
     "execution_count": 267,
     "metadata": {},
     "output_type": "execute_result"
    }
   ],
   "source": [
    "newdirectory = str(path.parents[0])+'//Intensity_Data_Sheets'\n",
    "newmydir = Path(newdirectory)\n",
    "newmydir.mkdir(exist_ok=True)\n",
    "newmydir"
   ]
  },
  {
   "cell_type": "code",
   "execution_count": 268,
   "metadata": {},
   "outputs": [
    {
     "data": {
      "text/plain": [
       "'2023-11-01_Intensity_analysed-on_2023-11-01.csv'"
      ]
     },
     "execution_count": 268,
     "metadata": {},
     "output_type": "execute_result"
    }
   ],
   "source": [
    "name = dates[0]+'_Intensity_analysed-on_'+date +'.csv'\n",
    "name"
   ]
  },
  {
   "cell_type": "code",
   "execution_count": 269,
   "metadata": {},
   "outputs": [],
   "source": [
    "data.to_csv(path/(name), encoding='utf-8', index=False)\n",
    "data.to_csv(newmydir/(name), encoding='utf-8', index=False)"
   ]
  },
  {
   "cell_type": "markdown",
   "metadata": {},
   "source": [
    "## Open prev sevad data ##"
   ]
  },
  {
   "cell_type": "code",
   "execution_count": 6,
   "metadata": {
    "tags": []
   },
   "outputs": [
    {
     "data": {
      "text/html": [
       "<div>\n",
       "<style scoped>\n",
       "    .dataframe tbody tr th:only-of-type {\n",
       "        vertical-align: middle;\n",
       "    }\n",
       "\n",
       "    .dataframe tbody tr th {\n",
       "        vertical-align: top;\n",
       "    }\n",
       "\n",
       "    .dataframe thead th {\n",
       "        text-align: right;\n",
       "    }\n",
       "</style>\n",
       "<table border=\"1\" class=\"dataframe\">\n",
       "  <thead>\n",
       "    <tr style=\"text-align: right;\">\n",
       "      <th></th>\n",
       "      <th></th>\n",
       "      <th>Area</th>\n",
       "      <th>Intensity (a.u.)</th>\n",
       "      <th>Min</th>\n",
       "      <th>Max</th>\n",
       "      <th>Angle</th>\n",
       "      <th>Length</th>\n",
       "      <th>Date</th>\n",
       "      <th>CH</th>\n",
       "      <th>[DCX] (nM)</th>\n",
       "      <th>Type</th>\n",
       "    </tr>\n",
       "  </thead>\n",
       "  <tbody>\n",
       "    <tr>\n",
       "      <th>0</th>\n",
       "      <td>8</td>\n",
       "      <td>130</td>\n",
       "      <td>15.946</td>\n",
       "      <td>3</td>\n",
       "      <td>29</td>\n",
       "      <td>-62.447</td>\n",
       "      <td>25.942</td>\n",
       "      <td>2023-10-04</td>\n",
       "      <td>8</td>\n",
       "      <td>30</td>\n",
       "      <td>WT</td>\n",
       "    </tr>\n",
       "    <tr>\n",
       "      <th>1</th>\n",
       "      <td>1</td>\n",
       "      <td>265</td>\n",
       "      <td>25.411</td>\n",
       "      <td>10</td>\n",
       "      <td>38</td>\n",
       "      <td>-88.919</td>\n",
       "      <td>53.009</td>\n",
       "      <td>2023-10-04</td>\n",
       "      <td>4</td>\n",
       "      <td>30</td>\n",
       "      <td>WT</td>\n",
       "    </tr>\n",
       "    <tr>\n",
       "      <th>2</th>\n",
       "      <td>2</td>\n",
       "      <td>112</td>\n",
       "      <td>23.259</td>\n",
       "      <td>9</td>\n",
       "      <td>38</td>\n",
       "      <td>144.162</td>\n",
       "      <td>22.204</td>\n",
       "      <td>2023-10-04</td>\n",
       "      <td>4</td>\n",
       "      <td>30</td>\n",
       "      <td>WT</td>\n",
       "    </tr>\n",
       "    <tr>\n",
       "      <th>3</th>\n",
       "      <td>4</td>\n",
       "      <td>143</td>\n",
       "      <td>20.867</td>\n",
       "      <td>5</td>\n",
       "      <td>33</td>\n",
       "      <td>36.469</td>\n",
       "      <td>28.601</td>\n",
       "      <td>2023-10-04</td>\n",
       "      <td>4</td>\n",
       "      <td>30</td>\n",
       "      <td>WT</td>\n",
       "    </tr>\n",
       "    <tr>\n",
       "      <th>4</th>\n",
       "      <td>5</td>\n",
       "      <td>240</td>\n",
       "      <td>22.913</td>\n",
       "      <td>2</td>\n",
       "      <td>38</td>\n",
       "      <td>153.435</td>\n",
       "      <td>44.721</td>\n",
       "      <td>2023-10-04</td>\n",
       "      <td>4</td>\n",
       "      <td>30</td>\n",
       "      <td>WT</td>\n",
       "    </tr>\n",
       "    <tr>\n",
       "      <th>...</th>\n",
       "      <td>...</td>\n",
       "      <td>...</td>\n",
       "      <td>...</td>\n",
       "      <td>...</td>\n",
       "      <td>...</td>\n",
       "      <td>...</td>\n",
       "      <td>...</td>\n",
       "      <td>...</td>\n",
       "      <td>...</td>\n",
       "      <td>...</td>\n",
       "      <td>...</td>\n",
       "    </tr>\n",
       "    <tr>\n",
       "      <th>483</th>\n",
       "      <td>18</td>\n",
       "      <td>128</td>\n",
       "      <td>69.617</td>\n",
       "      <td>38</td>\n",
       "      <td>108</td>\n",
       "      <td>-67.380</td>\n",
       "      <td>26.000</td>\n",
       "      <td>2023-10-16</td>\n",
       "      <td>4</td>\n",
       "      <td>500</td>\n",
       "      <td>WT</td>\n",
       "    </tr>\n",
       "    <tr>\n",
       "      <th>484</th>\n",
       "      <td>2</td>\n",
       "      <td>185</td>\n",
       "      <td>59.838</td>\n",
       "      <td>35</td>\n",
       "      <td>84</td>\n",
       "      <td>-90.000</td>\n",
       "      <td>37.000</td>\n",
       "      <td>2023-10-16</td>\n",
       "      <td>4</td>\n",
       "      <td>500</td>\n",
       "      <td>WT</td>\n",
       "    </tr>\n",
       "    <tr>\n",
       "      <th>485</th>\n",
       "      <td>1</td>\n",
       "      <td>378</td>\n",
       "      <td>58.413</td>\n",
       "      <td>27</td>\n",
       "      <td>80</td>\n",
       "      <td>69.887</td>\n",
       "      <td>75.611</td>\n",
       "      <td>2023-10-16</td>\n",
       "      <td>4</td>\n",
       "      <td>500</td>\n",
       "      <td>WT</td>\n",
       "    </tr>\n",
       "    <tr>\n",
       "      <th>486</th>\n",
       "      <td>9</td>\n",
       "      <td>301</td>\n",
       "      <td>52.718</td>\n",
       "      <td>28</td>\n",
       "      <td>79</td>\n",
       "      <td>79.439</td>\n",
       "      <td>60.017</td>\n",
       "      <td>2023-10-16</td>\n",
       "      <td>4</td>\n",
       "      <td>500</td>\n",
       "      <td>WT</td>\n",
       "    </tr>\n",
       "    <tr>\n",
       "      <th>487</th>\n",
       "      <td>19</td>\n",
       "      <td>110</td>\n",
       "      <td>51.082</td>\n",
       "      <td>14</td>\n",
       "      <td>78</td>\n",
       "      <td>140.528</td>\n",
       "      <td>22.023</td>\n",
       "      <td>2023-10-16</td>\n",
       "      <td>4</td>\n",
       "      <td>500</td>\n",
       "      <td>WT</td>\n",
       "    </tr>\n",
       "  </tbody>\n",
       "</table>\n",
       "<p>488 rows × 11 columns</p>\n",
       "</div>"
      ],
      "text/plain": [
       "         Area  Intensity (a.u.)  Min  Max    Angle  Length        Date  CH  \\\n",
       "0     8   130            15.946    3   29  -62.447  25.942  2023-10-04   8   \n",
       "1     1   265            25.411   10   38  -88.919  53.009  2023-10-04   4   \n",
       "2     2   112            23.259    9   38  144.162  22.204  2023-10-04   4   \n",
       "3     4   143            20.867    5   33   36.469  28.601  2023-10-04   4   \n",
       "4     5   240            22.913    2   38  153.435  44.721  2023-10-04   4   \n",
       "..   ..   ...               ...  ...  ...      ...     ...         ...  ..   \n",
       "483  18   128            69.617   38  108  -67.380  26.000  2023-10-16   4   \n",
       "484   2   185            59.838   35   84  -90.000  37.000  2023-10-16   4   \n",
       "485   1   378            58.413   27   80   69.887  75.611  2023-10-16   4   \n",
       "486   9   301            52.718   28   79   79.439  60.017  2023-10-16   4   \n",
       "487  19   110            51.082   14   78  140.528  22.023  2023-10-16   4   \n",
       "\n",
       "     [DCX] (nM) Type  \n",
       "0            30   WT  \n",
       "1            30   WT  \n",
       "2            30   WT  \n",
       "3            30   WT  \n",
       "4            30   WT  \n",
       "..          ...  ...  \n",
       "483         500   WT  \n",
       "484         500   WT  \n",
       "485         500   WT  \n",
       "486         500   WT  \n",
       "487         500   WT  \n",
       "\n",
       "[488 rows x 11 columns]"
      ]
     },
     "execution_count": 6,
     "metadata": {},
     "output_type": "execute_result"
    }
   ],
   "source": [
    "askFitParam = filedialog.askopenfilename() # show an \"Open\" dialog box and return the path to the selected file\n",
    "data = pd.read_csv(askFitParam, encoding='utf-8',keep_default_na=False)\n",
    "data"
   ]
  },
  {
   "cell_type": "code",
   "execution_count": 7,
   "metadata": {
    "tags": []
   },
   "outputs": [],
   "source": [
    "newmydir = Path(askFitParam)\n",
    "newmydir = newmydir.parent"
   ]
  },
  {
   "cell_type": "code",
   "execution_count": 8,
   "metadata": {
    "tags": []
   },
   "outputs": [
    {
     "data": {
      "text/plain": [
       "WindowsPath('C:/Users/sofia/OneDrive - McGill University/EJCB2023/Sofia_EJCB_Figs/Data/Intensity')"
      ]
     },
     "execution_count": 8,
     "metadata": {},
     "output_type": "execute_result"
    }
   ],
   "source": [
    "newmydir"
   ]
  },
  {
   "cell_type": "markdown",
   "metadata": {},
   "source": [
    "## Plot ##"
   ]
  },
  {
   "cell_type": "code",
   "execution_count": 9,
   "metadata": {
    "tags": []
   },
   "outputs": [],
   "source": [
    "grey00 = '#777777'\n",
    "grey20 = '#C5C5C5'"
   ]
  },
  {
   "cell_type": "code",
   "execution_count": 11,
   "metadata": {
    "tags": []
   },
   "outputs": [
    {
     "data": {
      "image/png": "[encoded data removed]",
      "text/plain": [
       "<Figure size 1000x1000 with 1 Axes>"
      ]
     },
     "metadata": {},
     "output_type": "display_data"
    }
   ],
   "source": [
    "sns.set_style({'font.family':'Helvetica Neue LT Std', 'font.serif':'Helvetica Neue LT Std'})\n",
    "fig, ax = plt.subplots(1,1,figsize=(10,10))\n",
    "\n",
    "# ax = sns.boxplot(x= DCXconc, y='Mean', data=data, whis=np.inf,linewidth=3,native_scale=True)\n",
    "# ax = sns.swarmplot(x=DCXconc, y='Mean', data=data, hue='Date', size=5,native_scale=True , palette = [grey00, grey20])\n",
    "\n",
    "\n",
    "#ax = sns.swarmplot(x=DCXconc, y='Intensity (a.u.)', data=data, size=6,native_scale=True)\n",
    "x0 = np.arange(0, 500, 1)\n",
    "# ax.plot(x0, hillEQ(x0,p[0], np.exp(-p[1])), lw=3,ls= '-',alpha = 0.5, color = cyan)\n",
    "# ax.plot(x0, hillEQ(x0,C1H, C2H), lw=3,ls= '-',alpha = 0.5, color = orange)\n",
    "# ax.plot(x0, MMEQ(x0,C1M), lw=3,ls= '-',alpha = 0.5, color = pink)\n",
    "\n",
    "# ax.legend(('Hill plot coeff', 'regular Hill','MM'),loc='lower right')\n",
    "\n",
    "ax = sns.boxplot(x= DCXconc, y='Intensity (a.u.)', data=data,hue = 'Type', whis=np.inf,linewidth=3,native_scale=True)\n",
    "#ax.legend('')\n",
    "ax.set_xlabel(DCXconc)\n",
    "\n",
    "ax.set_xlim(-15,550) \n",
    "ax.set_ylim(0,) \n",
    "ax.set_xticks(np.arange(0, 501, 250))\n",
    "sns.set_style(\"ticks\")\n",
    "sns.despine()\n",
    "ax.spines['left'].set_lw(5)\n",
    "ax.spines['bottom'].set_lw(5)\n",
    "ax.tick_params(axis='both', width = 5, length = 15)\n",
    "sns.set_context(\"poster\", font_scale=1.7, rc={\"lines.linewidth\":3.0})\n",
    "\n",
    "plt.tight_layout()\n",
    "\n",
    "#plt.savefig(newmydir/('intensity_'+date+'.pdf'))"
   ]
  },
  {
   "cell_type": "code",
   "execution_count": 18,
   "metadata": {
    "tags": []
   },
   "outputs": [],
   "source": [
    "datamedian = data.groupby(by=['Type',DCXconc])[[\"Intensity (a.u.)\", DCXconc]].median()\n",
    "datamean = data.groupby(by=['Type',DCXconc])[[\"Intensity (a.u.)\", DCXconc]].mean()\n",
    "datastd = data.groupby(by=['Type',DCXconc])[[\"Intensity (a.u.)\", DCXconc]].std()"
   ]
  },
  {
   "cell_type": "code",
   "execution_count": 19,
   "metadata": {
    "tags": []
   },
   "outputs": [
    {
     "data": {
      "text/html": [
       "<div>\n",
       "<style scoped>\n",
       "    .dataframe tbody tr th:only-of-type {\n",
       "        vertical-align: middle;\n",
       "    }\n",
       "\n",
       "    .dataframe tbody tr th {\n",
       "        vertical-align: top;\n",
       "    }\n",
       "\n",
       "    .dataframe thead th {\n",
       "        text-align: right;\n",
       "    }\n",
       "</style>\n",
       "<table border=\"1\" class=\"dataframe\">\n",
       "  <thead>\n",
       "    <tr style=\"text-align: right;\">\n",
       "      <th></th>\n",
       "      <th></th>\n",
       "      <th>Intensity (a.u.)</th>\n",
       "      <th>[DCX] (nM)</th>\n",
       "    </tr>\n",
       "    <tr>\n",
       "      <th>Type</th>\n",
       "      <th>[DCX] (nM)</th>\n",
       "      <th></th>\n",
       "      <th></th>\n",
       "    </tr>\n",
       "  </thead>\n",
       "  <tbody>\n",
       "    <tr>\n",
       "      <th rowspan=\"7\" valign=\"top\">WT</th>\n",
       "      <th>5</th>\n",
       "      <td>0.9200</td>\n",
       "      <td>5.0</td>\n",
       "    </tr>\n",
       "    <tr>\n",
       "      <th>30</th>\n",
       "      <td>16.7370</td>\n",
       "      <td>30.0</td>\n",
       "    </tr>\n",
       "    <tr>\n",
       "      <th>60</th>\n",
       "      <td>21.6180</td>\n",
       "      <td>60.0</td>\n",
       "    </tr>\n",
       "    <tr>\n",
       "      <th>80</th>\n",
       "      <td>26.7660</td>\n",
       "      <td>80.0</td>\n",
       "    </tr>\n",
       "    <tr>\n",
       "      <th>115</th>\n",
       "      <td>35.5890</td>\n",
       "      <td>115.0</td>\n",
       "    </tr>\n",
       "    <tr>\n",
       "      <th>230</th>\n",
       "      <td>38.4890</td>\n",
       "      <td>230.0</td>\n",
       "    </tr>\n",
       "    <tr>\n",
       "      <th>500</th>\n",
       "      <td>38.9835</td>\n",
       "      <td>500.0</td>\n",
       "    </tr>\n",
       "  </tbody>\n",
       "</table>\n",
       "</div>"
      ],
      "text/plain": [
       "                 Intensity (a.u.)  [DCX] (nM)\n",
       "Type [DCX] (nM)                              \n",
       "WT   5                     0.9200         5.0\n",
       "     30                   16.7370        30.0\n",
       "     60                   21.6180        60.0\n",
       "     80                   26.7660        80.0\n",
       "     115                  35.5890       115.0\n",
       "     230                  38.4890       230.0\n",
       "     500                  38.9835       500.0"
      ]
     },
     "execution_count": 19,
     "metadata": {},
     "output_type": "execute_result"
    }
   ],
   "source": [
    "datamedian"
   ]
  },
  {
   "cell_type": "code",
   "execution_count": 20,
   "metadata": {
    "tags": []
   },
   "outputs": [
    {
     "data": {
      "text/html": [
       "<div>\n",
       "<style scoped>\n",
       "    .dataframe tbody tr th:only-of-type {\n",
       "        vertical-align: middle;\n",
       "    }\n",
       "\n",
       "    .dataframe tbody tr th {\n",
       "        vertical-align: top;\n",
       "    }\n",
       "\n",
       "    .dataframe thead th {\n",
       "        text-align: right;\n",
       "    }\n",
       "</style>\n",
       "<table border=\"1\" class=\"dataframe\">\n",
       "  <thead>\n",
       "    <tr style=\"text-align: right;\">\n",
       "      <th></th>\n",
       "      <th></th>\n",
       "      <th>Intensity (a.u.)</th>\n",
       "      <th>[DCX] (nM)</th>\n",
       "    </tr>\n",
       "    <tr>\n",
       "      <th>Type</th>\n",
       "      <th>[DCX] (nM)</th>\n",
       "      <th></th>\n",
       "      <th></th>\n",
       "    </tr>\n",
       "  </thead>\n",
       "  <tbody>\n",
       "    <tr>\n",
       "      <th rowspan=\"7\" valign=\"top\">WT</th>\n",
       "      <th>5</th>\n",
       "      <td>0.992615</td>\n",
       "      <td>5.0</td>\n",
       "    </tr>\n",
       "    <tr>\n",
       "      <th>30</th>\n",
       "      <td>17.765138</td>\n",
       "      <td>30.0</td>\n",
       "    </tr>\n",
       "    <tr>\n",
       "      <th>60</th>\n",
       "      <td>23.234559</td>\n",
       "      <td>60.0</td>\n",
       "    </tr>\n",
       "    <tr>\n",
       "      <th>80</th>\n",
       "      <td>26.608397</td>\n",
       "      <td>80.0</td>\n",
       "    </tr>\n",
       "    <tr>\n",
       "      <th>115</th>\n",
       "      <td>36.465775</td>\n",
       "      <td>115.0</td>\n",
       "    </tr>\n",
       "    <tr>\n",
       "      <th>230</th>\n",
       "      <td>42.496069</td>\n",
       "      <td>230.0</td>\n",
       "    </tr>\n",
       "    <tr>\n",
       "      <th>500</th>\n",
       "      <td>39.874810</td>\n",
       "      <td>500.0</td>\n",
       "    </tr>\n",
       "  </tbody>\n",
       "</table>\n",
       "</div>"
      ],
      "text/plain": [
       "                 Intensity (a.u.)  [DCX] (nM)\n",
       "Type [DCX] (nM)                              \n",
       "WT   5                   0.992615         5.0\n",
       "     30                 17.765138        30.0\n",
       "     60                 23.234559        60.0\n",
       "     80                 26.608397        80.0\n",
       "     115                36.465775       115.0\n",
       "     230                42.496069       230.0\n",
       "     500                39.874810       500.0"
      ]
     },
     "execution_count": 20,
     "metadata": {},
     "output_type": "execute_result"
    }
   ],
   "source": [
    "datamean"
   ]
  },
  {
   "cell_type": "code",
   "execution_count": 21,
   "metadata": {
    "tags": []
   },
   "outputs": [
    {
     "data": {
      "text/html": [
       "<div>\n",
       "<style scoped>\n",
       "    .dataframe tbody tr th:only-of-type {\n",
       "        vertical-align: middle;\n",
       "    }\n",
       "\n",
       "    .dataframe tbody tr th {\n",
       "        vertical-align: top;\n",
       "    }\n",
       "\n",
       "    .dataframe thead th {\n",
       "        text-align: right;\n",
       "    }\n",
       "</style>\n",
       "<table border=\"1\" class=\"dataframe\">\n",
       "  <thead>\n",
       "    <tr style=\"text-align: right;\">\n",
       "      <th></th>\n",
       "      <th></th>\n",
       "      <th>Intensity (a.u.)</th>\n",
       "      <th>[DCX] (nM)</th>\n",
       "    </tr>\n",
       "    <tr>\n",
       "      <th>Type</th>\n",
       "      <th>[DCX] (nM)</th>\n",
       "      <th></th>\n",
       "      <th></th>\n",
       "    </tr>\n",
       "  </thead>\n",
       "  <tbody>\n",
       "    <tr>\n",
       "      <th rowspan=\"7\" valign=\"top\">WT</th>\n",
       "      <th>5</th>\n",
       "      <td>13</td>\n",
       "      <td>13</td>\n",
       "    </tr>\n",
       "    <tr>\n",
       "      <th>30</th>\n",
       "      <td>65</td>\n",
       "      <td>65</td>\n",
       "    </tr>\n",
       "    <tr>\n",
       "      <th>60</th>\n",
       "      <td>59</td>\n",
       "      <td>59</td>\n",
       "    </tr>\n",
       "    <tr>\n",
       "      <th>80</th>\n",
       "      <td>73</td>\n",
       "      <td>73</td>\n",
       "    </tr>\n",
       "    <tr>\n",
       "      <th>115</th>\n",
       "      <td>89</td>\n",
       "      <td>89</td>\n",
       "    </tr>\n",
       "    <tr>\n",
       "      <th>230</th>\n",
       "      <td>131</td>\n",
       "      <td>131</td>\n",
       "    </tr>\n",
       "    <tr>\n",
       "      <th>500</th>\n",
       "      <td>58</td>\n",
       "      <td>58</td>\n",
       "    </tr>\n",
       "  </tbody>\n",
       "</table>\n",
       "</div>"
      ],
      "text/plain": [
       "                 Intensity (a.u.)  [DCX] (nM)\n",
       "Type [DCX] (nM)                              \n",
       "WT   5                         13          13\n",
       "     30                        65          65\n",
       "     60                        59          59\n",
       "     80                        73          73\n",
       "     115                       89          89\n",
       "     230                      131         131\n",
       "     500                       58          58"
      ]
     },
     "execution_count": 21,
     "metadata": {},
     "output_type": "execute_result"
    }
   ],
   "source": [
    "data.groupby(by=['Type',DCXconc])[[\"Intensity (a.u.)\", DCXconc]].count()"
   ]
  },
  {
   "cell_type": "code",
   "execution_count": 22,
   "metadata": {
    "tags": []
   },
   "outputs": [
    {
     "data": {
      "text/plain": [
       "[DCX] (nM)\n",
       "5        5.0\n",
       "30      30.0\n",
       "60      60.0\n",
       "80      80.0\n",
       "115    115.0\n",
       "230    230.0\n",
       "500    500.0\n",
       "Name: [DCX] (nM), dtype: float64"
      ]
     },
     "execution_count": 22,
     "metadata": {},
     "output_type": "execute_result"
    }
   ],
   "source": [
    "datamean[DCXconc]['WT']"
   ]
  },
  {
   "cell_type": "markdown",
   "metadata": {
    "tags": []
   },
   "source": [
    "### fIT WITH EQS###"
   ]
  },
  {
   "cell_type": "code",
   "execution_count": 106,
   "metadata": {
    "tags": []
   },
   "outputs": [],
   "source": [
    "x = datamean[DCXconc]['WT'].values\n",
    "y = datamean['Intensity (a.u.)']['WT'].values\n",
    "yerr = datastd['Intensity (a.u.)']['WT'].values"
   ]
  },
  {
   "cell_type": "code",
   "execution_count": 183,
   "metadata": {
    "tags": []
   },
   "outputs": [],
   "source": [
    "def hillEQ_norm(x, n, kd):\n",
    "    return  (y[-1]- y[0]) * np.power(x, n)/(kd + np.power(x, n))\n",
    "\n",
    "def hillEQ(x, n, kd, sat):\n",
    "    return  sat * np.power(x, n)/(kd + np.power(x, n))\n",
    "\n",
    "def hillEQ3(x, kd,sat):\n",
    "    return  sat * np.power(x, 3)/(kd + np.power(x,3))\n",
    "\n",
    "def MMEQ(x, kd,sat):\n",
    "    return  sat * np.power(x, 1)/(kd + np.power(x,1))"
   ]
  },
  {
   "cell_type": "code",
   "execution_count": 184,
   "metadata": {
    "tags": []
   },
   "outputs": [
    {
     "data": {
      "text/plain": [
       "(array([  1.82054208, 665.40697979,  37.00600805]),\n",
       " array([1.60770217e-01, 1.94924332e+02, 4.41626707e+00]))"
      ]
     },
     "execution_count": 184,
     "metadata": {},
     "output_type": "execute_result"
    }
   ],
   "source": [
    "coeffH, var_matrixH = sp.optimize.curve_fit(hillEQ,x,y,sigma = yerr)\n",
    "\n",
    "varianceH = np.diagonal(var_matrixH) #Refer [3]\n",
    "SEH = np.sqrt(varianceH)\n",
    "\n",
    "coeffH,SEH"
   ]
  },
  {
   "cell_type": "code",
   "execution_count": 185,
   "metadata": {
    "tags": []
   },
   "outputs": [
    {
     "data": {
      "text/plain": [
       "(array([299.37560971,  86.7560288 ]), array([248.17856057,  58.44280384]))"
      ]
     },
     "execution_count": 185,
     "metadata": {},
     "output_type": "execute_result"
    }
   ],
   "source": [
    "coeffMn, var_matrixM = sp.optimize.curve_fit(MMEQ,x,y,sigma = yerr)\n",
    "\n",
    "varianceM = np.diagonal(var_matrixM) #Refer [3]\n",
    "SEMn = np.sqrt(varianceM)\n",
    "\n",
    "coeffMn,SEMn"
   ]
  },
  {
   "cell_type": "code",
   "execution_count": 186,
   "metadata": {
    "tags": []
   },
   "outputs": [
    {
     "data": {
      "text/plain": [
       "(array([3239.55434949,   25.38527137]), array([1023.38635458,    3.24518846]))"
      ]
     },
     "execution_count": 186,
     "metadata": {},
     "output_type": "execute_result"
    }
   ],
   "source": [
    "coeffMn3, var_matrixM = sp.optimize.curve_fit(hillEQ3,x,y,sigma = yerr)\n",
    "\n",
    "varianceM = np.diagonal(var_matrixM) #Refer [3]\n",
    "SEMn3 = np.sqrt(varianceM)\n",
    "\n",
    "coeffMn3,SEMn3"
   ]
  },
  {
   "cell_type": "markdown",
   "metadata": {},
   "source": [
    "### Fit with hill plot ###"
   ]
  },
  {
   "cell_type": "code",
   "execution_count": 191,
   "metadata": {
    "tags": []
   },
   "outputs": [],
   "source": [
    "logx = np.log(x[0:-2])\n",
    "normy =( y)/(y[-1])\n",
    "logy = np.log(normy[0:-2]/(1-normy[0:-2]))\n",
    "\n"
   ]
  },
  {
   "cell_type": "code",
   "execution_count": 158,
   "metadata": {
    "tags": []
   },
   "outputs": [
    {
     "data": {
      "text/plain": [
       "(array([  5.,  30.,  60.,  80., 115., 230., 500.]),\n",
       " array([ 0.99261538, 17.76513846, 23.23455932, 26.60839726, 36.46577528,\n",
       "        42.4960687 , 39.87481034]),\n",
       " array([ 0.27976167,  4.55995503,  8.04855477,  7.43265278, 12.91246145,\n",
       "        16.15575718, 15.96253172]))"
      ]
     },
     "execution_count": 158,
     "metadata": {},
     "output_type": "execute_result"
    }
   ],
   "source": [
    "x,y,yerr"
   ]
  },
  {
   "cell_type": "code",
   "execution_count": 190,
   "metadata": {
    "tags": []
   },
   "outputs": [
    {
     "data": {
      "text/plain": [
       "array([0.01218726, 0.21186363, 0.30846643, 0.32573528, 0.48875948,\n",
       "       0.58836295, 0.56613257])"
      ]
     },
     "execution_count": 190,
     "metadata": {},
     "output_type": "execute_result"
    }
   ],
   "source": [
    "normyerr = np.sqrt(  np.square( yerr )/np.square( y[-1] ) + np.square( y )* np.square( yerr[-1] ) /np.power( y[-1],4 ) )\n",
    "normyerr"
   ]
  },
  {
   "cell_type": "code",
   "execution_count": 198,
   "metadata": {
    "tags": []
   },
   "outputs": [
    {
     "name": "stderr",
     "output_type": "stream",
     "text": [
      "C:\\Users\\sofia\\AppData\\Local\\Temp\\ipykernel_27888\\232344730.py:1: RuntimeWarning: divide by zero encountered in divide\n",
      "  logyerrR = np.sqrt( np.square(normyerr) / (  np.square( normy-1 ) *np.square( normy ) ) )\n"
     ]
    },
    {
     "data": {
      "text/plain": [
       "array([0.50207831, 0.85763553, 1.26855955, 1.46720171, 6.25137477])"
      ]
     },
     "execution_count": 198,
     "metadata": {},
     "output_type": "execute_result"
    }
   ],
   "source": [
    "logyerrR = np.sqrt( np.square(normyerr) / (  np.square( normy-1 ) *np.square( normy ) ) )\n",
    "logyerrR = logyerrR[0:-2]\n",
    "logyerrR"
   ]
  },
  {
   "cell_type": "code",
   "execution_count": 199,
   "metadata": {
    "tags": []
   },
   "outputs": [],
   "source": [
    "def linfit(x,m,b):\n",
    "    return m*x + b"
   ]
  },
  {
   "cell_type": "code",
   "execution_count": 200,
   "metadata": {
    "tags": []
   },
   "outputs": [
    {
     "data": {
      "text/plain": [
       "(array([ 1.70322894, -6.37061739]), array([0.1168026 , 0.31193162]))"
      ]
     },
     "execution_count": 200,
     "metadata": {},
     "output_type": "execute_result"
    }
   ],
   "source": [
    "p, cov = sp.optimize.curve_fit(linfit,logx,logy,sigma = logyerrR)\n",
    "var = np.diagonal(cov) #Refer [3]\n",
    "SElin = np.sqrt(var) #Refer [4]\n",
    "\n",
    "mL,bL = p\n",
    "\n",
    "\n",
    "p, SElin"
   ]
  },
  {
   "cell_type": "code",
   "execution_count": 201,
   "metadata": {
    "tags": []
   },
   "outputs": [
    {
     "data": {
      "text/plain": [
       "0.9596077314626991"
      ]
     },
     "execution_count": 201,
     "metadata": {},
     "output_type": "execute_result"
    }
   ],
   "source": [
    "R2S(logy,logx*mL+bL)"
   ]
  },
  {
   "cell_type": "code",
   "execution_count": 202,
   "metadata": {
    "tags": []
   },
   "outputs": [],
   "source": [
    "def K_A(p):\n",
    "    return np.exp(-p[1]/p[0]) , np.exp(-p[1]/p[0])/p[0]*np.sqrt(np.square(SElin[1])+np.square(p[1]*SElin[0]/p[0]))"
   ]
  },
  {
   "cell_type": "code",
   "execution_count": 203,
   "metadata": {
    "tags": []
   },
   "outputs": [
    {
     "data": {
      "text/plain": [
       "(42.111367958236876, 13.27231011608825)"
      ]
     },
     "execution_count": 203,
     "metadata": {},
     "output_type": "execute_result"
    }
   ],
   "source": [
    "K_A(p)"
   ]
  },
  {
   "cell_type": "code",
   "execution_count": 131,
   "metadata": {
    "tags": []
   },
   "outputs": [
    {
     "data": {
      "text/plain": [
       "0.9613555748863942"
      ]
     },
     "execution_count": 131,
     "metadata": {},
     "output_type": "execute_result"
    }
   ],
   "source": [
    "R2S(logy,np.multiply(logx,m)+b)"
   ]
  },
  {
   "cell_type": "code",
   "execution_count": 216,
   "metadata": {
    "tags": []
   },
   "outputs": [
    {
     "data": {
      "image/png": "[encoded data removed]",
      "text/plain": [
       "<Figure size 475x475 with 1 Axes>"
      ]
     },
     "metadata": {},
     "output_type": "display_data"
    }
   ],
   "source": [
    "scattersize = 9\n",
    "cap = 5\n",
    "sns.set_style({'font.family':'Helvetica Neue LT Std', 'font.serif':'Helvetica Neue LT Std'})\n",
    "fig, ax = plt.subplots(1,1,figsize=(4.75,4.75))\n",
    "ax.errorbar(logx , logy , yerr= logyerrR , fmt='',marker='o', markersize=scattersize,capsize = cap,\n",
    "                              markeredgewidth=4, alpha = 1, ls='', color = cyan)\n",
    "\n",
    "x0 = np.arange(1.3, 5.7, 0.05)\n",
    "ax.plot(x0, x0*m+b, lw=3,ls= '-',alpha = 0.5, color = cyan)\n",
    "\n",
    "ax.set_ylim(-5,10)\n",
    "ax.set_xlim(1,6)\n",
    "ax.set_xlabel(r'$\\log([$''DCX' r'$])$')\n",
    "#ax.set_xticks(np.arange(0, 22.1, 2))\n",
    "ax.set_yticks(np.arange(-5, 10+0.1, 5))\n",
    "ax.set_ylabel(r'$\\log(\\frac{I_N}{1-I_N})$') \n",
    "ax.spines['right'].set_visible(False)\n",
    "ax.spines['top'].set_visible(False)\n",
    "ax.spines['left'].set_lw(3)\n",
    "ax.spines['bottom'].set_lw(3)\n",
    "ax.tick_params(axis='both', width = 3.5, length = 7)\n",
    "\n",
    "#ax.legend((r'$n=2.94 \\pm 0.49$' '\\n' r'$R^2 > 0.945$',),loc='lower right',title='Hill Equation')\n",
    "\n",
    "sns.set_context(\"poster\", font_scale=1, rc={\"lines.linewidth\":3.0})\n",
    "\n",
    "plt.savefig(newmydir/('logexpHillfit_Intensity_'+date+'.pdf'), bbox_inches = 'tight')"
   ]
  },
  {
   "cell_type": "markdown",
   "metadata": {},
   "source": [
    "### plot ###"
   ]
  },
  {
   "cell_type": "code",
   "execution_count": 187,
   "metadata": {
    "tags": []
   },
   "outputs": [
    {
     "data": {
      "image/png": "[encoded data removed]",
      "text/plain": [
       "<Figure size 900x900 with 1 Axes>"
      ]
     },
     "metadata": {},
     "output_type": "display_data"
    }
   ],
   "source": [
    "sns.set_style({'font.family':'Helvetica Neue LT Std', 'font.serif':'Helvetica Neue LT Std'})\n",
    "fig, ax = plt.subplots(1,1,figsize=(9,9))\n",
    "\n",
    "xmax = 510\n",
    "\n",
    "x0 = np.arange(0, xmax, 1)\n",
    "ax.plot(x0, hillEQ_norm(x0,p[0], np.exp(-p[1])), lw=3,ls= '-',alpha = 0.5, color = cyan)\n",
    "# ax.plot(x0, hillEQ(x0,coeffH[0], coeffH[1],coeffH[2]), lw=3,ls= '-',alpha = 0.5, color = orange)\n",
    "ax.plot(x0, hillEQ3(x0,coeffMn3[0],coeffMn3[1]), lw=3,ls= '-',alpha = 0.5, color = green)\n",
    "ax.plot(x0, MMEQ(x0,coeffMn[0],coeffMn[1]), lw=3,ls= '-',alpha = 0.5, color = grey)\n",
    "\n",
    "# ax.legend(('Hill plot coeff', 'regular Hill','MM'),loc='lower right')\n",
    "\n",
    "ax = sns.boxplot(x= DCXconc, y='Intensity (a.u.)', data=data, color = cyan, whis=np.inf,linewidth=3,native_scale=True,legend = False)\n",
    "#ax.legend('')\n",
    "ax.set_xlabel(DCXconc)\n",
    "\n",
    "ax.set_xlim(-15,xmax) \n",
    "ax.set_ylim(0,100) \n",
    "ax.set_xticks(np.arange(0, xmax+1, 150))\n",
    "ax.set_yticks(np.arange(0, 101, 25))\n",
    "sns.set_style(\"ticks\")\n",
    "sns.despine()\n",
    "ax.spines['left'].set_lw(5)\n",
    "ax.spines['bottom'].set_lw(5)\n",
    "ax.tick_params(axis='both', width = 5, length = 15)\n",
    "sns.set_context(\"poster\", font_scale=1.7, rc={\"lines.linewidth\":3.0})\n",
    "\n",
    "plt.tight_layout()\n",
    "\n",
    "plt.savefig(newmydir/('intensity1_'+date+'.pdf'))"
   ]
  },
  {
   "cell_type": "code",
   "execution_count": 176,
   "metadata": {
    "tags": []
   },
   "outputs": [
    {
     "name": "stderr",
     "output_type": "stream",
     "text": [
      "C:\\Users\\sofia\\AppData\\Local\\Temp\\ipykernel_27888\\2747995592.py:2: RuntimeWarning: invalid value encountered in power\n",
      "  return  (y[-1]- y[0]) * np.power(x, n)/(kd + np.power(x, n))\n"
     ]
    },
    {
     "data": {
      "image/png": "[encoded data removed]",
      "text/plain": [
       "<Figure size 1000x1000 with 1 Axes>"
      ]
     },
     "metadata": {},
     "output_type": "display_data"
    }
   ],
   "source": [
    "sns.set_style({'font.family':'Helvetica Neue LT Std', 'font.serif':'Helvetica Neue LT Std'})\n",
    "fig, ax = plt.subplots(1,1,figsize=(10,10))\n",
    "\n",
    "\n",
    "x0 = np.arange(500-xmax, 500, 1)\n",
    "ax.plot(x0, hillEQ_norm(x0,p[0], np.exp(-p[1])), lw=3,ls= '-',alpha = 0.5, color = cyan)\n",
    "# ax.plot(x0, hillEQ(x0,coeffH[0], coeffH[1],coeffH[2]), lw=3,ls= '-',alpha = 0.5, color = orange)\n",
    "ax.plot(x0, hillEQ3(x0,coeffMn3[0],coeffMn3[1]), lw=3,ls= '-',alpha = 0.5, color = green)\n",
    "ax.plot(x0, MMEQ(x0,coeffMn[0],coeffMn[1]), lw=3,ls= '-',alpha = 0.5, color = grey)\n",
    "\n",
    "# ax.legend(('Hill plot coeff', 'regular Hill','MM'),loc='lower right')\n",
    "\n",
    "ax = sns.boxplot(x= DCXconc, y='Intensity (a.u.)', data=data,hue = 'Type', whis=np.inf,linewidth=3,native_scale=True,legend = False)\n",
    "#ax.legend('')\n",
    "ax.set_xlabel(DCXconc)\n",
    "\n",
    "ax.set_xlim(500-xmax,520) \n",
    "ax.set_ylim(0,100) \n",
    "ax.set_xticks(np.arange(500-xmax, 501, 175))\n",
    "ax.set_yticks(np.arange(0, 101, 25))\n",
    "sns.set_style(\"ticks\")\n",
    "sns.despine()\n",
    "ax.spines['left'].set_lw(5)\n",
    "ax.spines['bottom'].set_lw(5)\n",
    "ax.tick_params(axis='both', width = 5, length = 15)\n",
    "sns.set_context(\"poster\", font_scale=1.7, rc={\"lines.linewidth\":3.0})\n",
    "\n",
    "plt.tight_layout()\n",
    "\n",
    "plt.savefig(newmydir/('intensity2_'+date+'.pdf'))"
   ]
  },
  {
   "cell_type": "code",
   "execution_count": 153,
   "metadata": {
    "tags": []
   },
   "outputs": [],
   "source": [
    "def reduced_chi_squared(obs,fit,sigma,obsN,paramN): \n",
    "    freedom = obsN-paramN\n",
    "\n",
    "    return np.sum(np.square(fit - obs)/np.square(sigma)), np.sum(np.square(fit - obs)/np.square(sigma)) / freedom"
   ]
  },
  {
   "cell_type": "code",
   "execution_count": 154,
   "metadata": {
    "tags": []
   },
   "outputs": [
    {
     "data": {
      "text/plain": [
       "(1.0078662215129326, 0.20157324430258652)"
      ]
     },
     "execution_count": 154,
     "metadata": {},
     "output_type": "execute_result"
    }
   ],
   "source": [
    "reduced_chi_squared(y,hillEQ_norm(x,p[0], np.exp(-p[1])),yerr,len(y),2)"
   ]
  },
  {
   "cell_type": "code",
   "execution_count": 155,
   "metadata": {
    "tags": []
   },
   "outputs": [
    {
     "data": {
      "text/plain": [
       "(15.830722556666144, 3.1661445113332287)"
      ]
     },
     "execution_count": 155,
     "metadata": {},
     "output_type": "execute_result"
    }
   ],
   "source": [
    "reduced_chi_squared(y,hillEQ3(x,coeffMn3[0],coeffMn3[1]),yerr,len(y),2)"
   ]
  },
  {
   "cell_type": "code",
   "execution_count": 156,
   "metadata": {
    "tags": []
   },
   "outputs": [
    {
     "data": {
      "text/plain": [
       "(119.44228083728869, 23.88845616745774)"
      ]
     },
     "execution_count": 156,
     "metadata": {},
     "output_type": "execute_result"
    }
   ],
   "source": [
    "reduced_chi_squared(y,MMEQ(x,coeffMn[0],coeffMn[1]),yerr,len(y),2)"
   ]
  },
  {
   "cell_type": "code",
   "execution_count": 160,
   "metadata": {
    "tags": []
   },
   "outputs": [],
   "source": []
  },
  {
   "cell_type": "code",
   "execution_count": 168,
   "metadata": {
    "tags": []
   },
   "outputs": [],
   "source": [
    "def get_chi2(x,y,yerr,n):\n",
    "    \n",
    "    def hillEQ_fix_n(x, kd, sat):\n",
    "    return  sat * np.power(x, n)/(kd + np.power(x, n))\n",
    "    \n",
    "    coeff, var_matrix = sp.optimize.curve_fit(hillEQ_fix_n,x,y)\n",
    "    \n",
    "    # chi2, red_chi2 = reduced_chi_squared(y,hillEQ_norm(x,p[0], np.exp(-p[1])),yerr,len(y),2)\n",
    "    return coeff"
   ]
  },
  {
   "cell_type": "code",
   "execution_count": 169,
   "metadata": {
    "tags": []
   },
   "outputs": [
    {
     "data": {
      "text/plain": [
       "array([54.50683031, 48.14978069])"
      ]
     },
     "execution_count": 169,
     "metadata": {},
     "output_type": "execute_result"
    }
   ],
   "source": [
    "get_chi2(x,y,yerr,3)\n",
    "    \n",
    "\n"
   ]
  },
  {
   "cell_type": "code",
   "execution_count": null,
   "metadata": {},
   "outputs": [],
   "source": []
  }
 ],
 "metadata": {
  "kernelspec": {
   "display_name": "Python 3 (ipykernel)",
   "language": "python",
   "name": "python3"
  },
  "language_info": {
   "codemirror_mode": {
    "name": "ipython",
    "version": 3
   },
   "file_extension": ".py",
   "mimetype": "text/x-python",
   "name": "python",
   "nbconvert_exporter": "python",
   "pygments_lexer": "ipython3",
   "version": "3.11.5"
  }
 },
 "nbformat": 4,
 "nbformat_minor": 4
}
