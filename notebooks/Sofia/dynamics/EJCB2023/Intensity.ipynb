{
 "cells": [
  {
   "cell_type": "code",
   "execution_count": 53,
   "metadata": {},
   "outputs": [],
   "source": [
    "import numpy as np\n",
    "import seaborn as sns\n",
    "import matplotlib.pyplot as plt\n",
    "import csv\n",
    "import pandas as pd\n",
    "from pandas.api.types import CategoricalDtype\n",
    "import scipy as sp\n",
    "from pathlib import Path\n",
    "from tkinter import filedialog\n",
    "import itertools\n",
    "#from colour import Color\n",
    "from datetime import date\n",
    "# import statsmodels.api as sm\n",
    "# from statsmodels.stats.weightstats import ztest as ztest\n",
    "# from sklearn.metrics import r2_score as R2S\n",
    "import cairo"
   ]
  },
  {
   "cell_type": "markdown",
   "metadata": {},
   "source": [
    "## Names and Palette ##"
   ]
  },
  {
   "cell_type": "code",
   "execution_count": 54,
   "metadata": {
    "tags": []
   },
   "outputs": [
    {
     "name": "stdout",
     "output_type": "stream",
     "text": [
      "Today's date: 2023-10-10\n"
     ]
    },
    {
     "data": {
      "text/plain": [
       "'2023-10-10'"
      ]
     },
     "execution_count": 54,
     "metadata": {},
     "output_type": "execute_result"
    }
   ],
   "source": [
    "today = date.today()\n",
    "print(\"Today's date:\", today)\n",
    "date = str(today)\n",
    "date"
   ]
  },
  {
   "cell_type": "code",
   "execution_count": 55,
   "metadata": {
    "tags": []
   },
   "outputs": [],
   "source": [
    "tubulin = '[Tubulin] ' r'$(\\mu M)$'\n",
    "tub = 'tub'\n",
    "\n",
    "DCXconc = '[DCX] ' r'$(n M)$'\n",
    "EBconc = '[EB] ' r'$(n M)$'\n",
    "DCX = 'DCX'\n",
    "Type = 'DCX Type'\n",
    "\n",
    "Concentration = 'Concentration ' r'$(\\mu M)$'\n",
    "Length = 'Length ' r'$(\\mu m)$'\n",
    "Lifetime = 'Lifetime ' r'$(min)$'\n",
    "GrowthRate = 'Growth Rate ' r'$(\\mu m / min)$'\n",
    "TimeToNucleate = 'Time to Nucleate ' r'$(min)$'\n",
    "ShrinkageLength = 'Shrink Length ' r'$(\\mu m)$'\n",
    "ShrinkageLifetime = 'Shrink Lifetime ' r'$(min)$'\n",
    "ShrinkageRate = 'Shrink Rate ' r'$(\\mu m / min)$'"
   ]
  },
  {
   "cell_type": "markdown",
   "metadata": {},
   "source": [
    "## Join Data ##"
   ]
  },
  {
   "cell_type": "code",
   "execution_count": 86,
   "metadata": {},
   "outputs": [],
   "source": [
    "askdirectory = filedialog.askdirectory() # show an \"Open\" dialog box and return the path to the selected file\n",
    "path = Path(askdirectory)"
   ]
  },
  {
   "cell_type": "code",
   "execution_count": 87,
   "metadata": {},
   "outputs": [
    {
     "data": {
      "text/plain": [
       "[WindowsPath('D:/Sofia/2023_2summer-fall_DCXintensitydynmts/2023-09-28_nonSEC-dcxdynWT/CH3_typeWT_DCX60nM'),\n",
       " WindowsPath('D:/Sofia/2023_2summer-fall_DCXintensitydynmts/2023-09-28_nonSEC-dcxdynWT/CH4_typeWT_DCX230nM'),\n",
       " WindowsPath('D:/Sofia/2023_2summer-fall_DCXintensitydynmts/2023-09-28_nonSEC-dcxdynWT/CH7_typeWT_DCX115nM'),\n",
       " WindowsPath('D:/Sofia/2023_2summer-fall_DCXintensitydynmts/2023-09-28_nonSEC-dcxdynWT/CH8_typeWT_DCX30nM')]"
      ]
     },
     "execution_count": 87,
     "metadata": {},
     "output_type": "execute_result"
    }
   ],
   "source": [
    "folders = [x for x in path.iterdir() if x.is_dir()]\n",
    "folders = [i for i in folders if str(i.stem)[-1] == 'M']\n",
    "folders"
   ]
  },
  {
   "cell_type": "code",
   "execution_count": 88,
   "metadata": {},
   "outputs": [
    {
     "data": {
      "text/plain": [
       "[WindowsPath('D:/Sofia/2023_2summer-fall_DCXintensitydynmts/2023-09-28_nonSEC-dcxdynWT/CH3_typeWT_DCX60nM/Results.csv'),\n",
       " WindowsPath('D:/Sofia/2023_2summer-fall_DCXintensitydynmts/2023-09-28_nonSEC-dcxdynWT/CH4_typeWT_DCX230nM/Results.csv'),\n",
       " WindowsPath('D:/Sofia/2023_2summer-fall_DCXintensitydynmts/2023-09-28_nonSEC-dcxdynWT/CH7_typeWT_DCX115nM/Results.csv'),\n",
       " WindowsPath('D:/Sofia/2023_2summer-fall_DCXintensitydynmts/2023-09-28_nonSEC-dcxdynWT/CH8_typeWT_DCX30nM/Results.csv')]"
      ]
     },
     "execution_count": 88,
     "metadata": {},
     "output_type": "execute_result"
    }
   ],
   "source": [
    "files = []\n",
    "for k in folders:\n",
    "    files0 = [x for x in k.iterdir() if x.is_file()]\n",
    "    files0 = [i for i in files0 if str(i).rfind('Results') != -1 if str(i).rfind('csv') != -1]\n",
    "    files = files + files0\n",
    "files"
   ]
  },
  {
   "cell_type": "code",
   "execution_count": 89,
   "metadata": {},
   "outputs": [
    {
     "data": {
      "text/plain": [
       "[WindowsPath('D:/Sofia/2023_2summer-fall_DCXintensitydynmts/2023-09-28_nonSEC-dcxdynWT/CH3_typeWT_DCX60nM/background.csv'),\n",
       " WindowsPath('D:/Sofia/2023_2summer-fall_DCXintensitydynmts/2023-09-28_nonSEC-dcxdynWT/CH4_typeWT_DCX230nM/background.csv'),\n",
       " WindowsPath('D:/Sofia/2023_2summer-fall_DCXintensitydynmts/2023-09-28_nonSEC-dcxdynWT/CH7_typeWT_DCX115nM/background.csv'),\n",
       " WindowsPath('D:/Sofia/2023_2summer-fall_DCXintensitydynmts/2023-09-28_nonSEC-dcxdynWT/CH8_typeWT_DCX30nM/background.csv')]"
      ]
     },
     "execution_count": 89,
     "metadata": {},
     "output_type": "execute_result"
    }
   ],
   "source": [
    "bkgrnd = []\n",
    "for k in folders:\n",
    "    bkgrnd0 = [x for x in k.iterdir() if x.is_file()]\n",
    "    bkgrnd0 = [i for i in bkgrnd0 if str(i).rfind('background') != -1 if str(i).rfind('csv') != -1]\n",
    "    bkgrnd = bkgrnd + bkgrnd0\n",
    "bkgrnd"
   ]
  },
  {
   "cell_type": "code",
   "execution_count": 90,
   "metadata": {},
   "outputs": [],
   "source": [
    "def findmetadata(tag,end,i):\n",
    "    n = len(tag)\n",
    "    locstart = str(i).rfind(tag) \n",
    "    locend = str(i).find(end, locstart)\n",
    "    tag0 = str(i)[locstart+n: locend]\n",
    "    \n",
    "    return tag0"
   ]
  },
  {
   "cell_type": "code",
   "execution_count": 91,
   "metadata": {},
   "outputs": [
    {
     "data": {
      "text/plain": [
       "(['2023-09-28', '2023-09-28', '2023-09-28', '2023-09-28'],\n",
       " ['3', '4', '7', '8'],\n",
       " [60.0, 230.0, 115.0, 30.0],\n",
       " ['WT', 'WT', 'WT', 'WT'])"
      ]
     },
     "execution_count": 91,
     "metadata": {},
     "output_type": "execute_result"
    }
   ],
   "source": [
    "dates= []\n",
    "CH= []\n",
    "dcx = []\n",
    "dcxtype= []\n",
    "for i in files:\n",
    "    dateloc = str(i).rfind(\"202\")   \n",
    "    dates0 = str(i)[dateloc : dateloc+10]\n",
    "    dates = dates + [dates0]\n",
    "\n",
    "    CH0 = findmetadata(\"CH\",'_',i)\n",
    "    CH = CH + [CH0]  \n",
    "    \n",
    "    type0 = findmetadata(\"type\",'_',i)\n",
    "    dcxtype = dcxtype + [type0] \n",
    "    \n",
    "    dcx0 = findmetadata(\"DCX\",'nM',i)\n",
    "    dcx = dcx + [float(dcx0)] \n",
    "\n",
    "dates,CH,dcx, dcxtype"
   ]
  },
  {
   "cell_type": "markdown",
   "metadata": {},
   "source": [
    "## Open Data ##"
   ]
  },
  {
   "cell_type": "code",
   "execution_count": 92,
   "metadata": {
    "tags": []
   },
   "outputs": [
    {
     "data": {
      "text/html": [
       "<div>\n",
       "<style scoped>\n",
       "    .dataframe tbody tr th:only-of-type {\n",
       "        vertical-align: middle;\n",
       "    }\n",
       "\n",
       "    .dataframe tbody tr th {\n",
       "        vertical-align: top;\n",
       "    }\n",
       "\n",
       "    .dataframe thead th {\n",
       "        text-align: right;\n",
       "    }\n",
       "</style>\n",
       "<table border=\"1\" class=\"dataframe\">\n",
       "  <thead>\n",
       "    <tr style=\"text-align: right;\">\n",
       "      <th></th>\n",
       "      <th></th>\n",
       "      <th>Area</th>\n",
       "      <th>Mean</th>\n",
       "      <th>Min</th>\n",
       "      <th>Max</th>\n",
       "      <th>Angle</th>\n",
       "      <th>Length</th>\n",
       "      <th>Background</th>\n",
       "      <th>Intensity</th>\n",
       "      <th>Date</th>\n",
       "      <th>CH</th>\n",
       "      <th>[DCX] $(n M)$</th>\n",
       "      <th>Type</th>\n",
       "    </tr>\n",
       "  </thead>\n",
       "  <tbody>\n",
       "    <tr>\n",
       "      <th>121</th>\n",
       "      <td>30</td>\n",
       "      <td>120</td>\n",
       "      <td>119.767</td>\n",
       "      <td>108</td>\n",
       "      <td>139</td>\n",
       "      <td>-92.386</td>\n",
       "      <td>24.021</td>\n",
       "      <td>104.121</td>\n",
       "      <td>15.646</td>\n",
       "      <td>2023-09-28</td>\n",
       "      <td>8</td>\n",
       "      <td>30.0</td>\n",
       "      <td>WT</td>\n",
       "    </tr>\n",
       "    <tr>\n",
       "      <th>93</th>\n",
       "      <td>2</td>\n",
       "      <td>270</td>\n",
       "      <td>129.604</td>\n",
       "      <td>111</td>\n",
       "      <td>144</td>\n",
       "      <td>173.660</td>\n",
       "      <td>54.332</td>\n",
       "      <td>104.121</td>\n",
       "      <td>25.483</td>\n",
       "      <td>2023-09-28</td>\n",
       "      <td>8</td>\n",
       "      <td>30.0</td>\n",
       "      <td>WT</td>\n",
       "    </tr>\n",
       "    <tr>\n",
       "      <th>94</th>\n",
       "      <td>3</td>\n",
       "      <td>332</td>\n",
       "      <td>121.078</td>\n",
       "      <td>109</td>\n",
       "      <td>143</td>\n",
       "      <td>-141.746</td>\n",
       "      <td>66.219</td>\n",
       "      <td>104.121</td>\n",
       "      <td>16.957</td>\n",
       "      <td>2023-09-28</td>\n",
       "      <td>8</td>\n",
       "      <td>30.0</td>\n",
       "      <td>WT</td>\n",
       "    </tr>\n",
       "    <tr>\n",
       "      <th>95</th>\n",
       "      <td>4</td>\n",
       "      <td>460</td>\n",
       "      <td>119.337</td>\n",
       "      <td>108</td>\n",
       "      <td>140</td>\n",
       "      <td>151.489</td>\n",
       "      <td>92.179</td>\n",
       "      <td>104.121</td>\n",
       "      <td>15.216</td>\n",
       "      <td>2023-09-28</td>\n",
       "      <td>8</td>\n",
       "      <td>30.0</td>\n",
       "      <td>WT</td>\n",
       "    </tr>\n",
       "    <tr>\n",
       "      <th>96</th>\n",
       "      <td>5</td>\n",
       "      <td>358</td>\n",
       "      <td>117.827</td>\n",
       "      <td>106</td>\n",
       "      <td>135</td>\n",
       "      <td>-41.035</td>\n",
       "      <td>71.589</td>\n",
       "      <td>104.121</td>\n",
       "      <td>13.706</td>\n",
       "      <td>2023-09-28</td>\n",
       "      <td>8</td>\n",
       "      <td>30.0</td>\n",
       "      <td>WT</td>\n",
       "    </tr>\n",
       "    <tr>\n",
       "      <th>...</th>\n",
       "      <td>...</td>\n",
       "      <td>...</td>\n",
       "      <td>...</td>\n",
       "      <td>...</td>\n",
       "      <td>...</td>\n",
       "      <td>...</td>\n",
       "      <td>...</td>\n",
       "      <td>...</td>\n",
       "      <td>...</td>\n",
       "      <td>...</td>\n",
       "      <td>...</td>\n",
       "      <td>...</td>\n",
       "      <td>...</td>\n",
       "    </tr>\n",
       "    <tr>\n",
       "      <th>57</th>\n",
       "      <td>28</td>\n",
       "      <td>360</td>\n",
       "      <td>186.364</td>\n",
       "      <td>157</td>\n",
       "      <td>211</td>\n",
       "      <td>-30.486</td>\n",
       "      <td>71.946</td>\n",
       "      <td>111.902</td>\n",
       "      <td>74.462</td>\n",
       "      <td>2023-09-28</td>\n",
       "      <td>4</td>\n",
       "      <td>230.0</td>\n",
       "      <td>WT</td>\n",
       "    </tr>\n",
       "    <tr>\n",
       "      <th>58</th>\n",
       "      <td>29</td>\n",
       "      <td>466</td>\n",
       "      <td>183.753</td>\n",
       "      <td>135</td>\n",
       "      <td>214</td>\n",
       "      <td>77.305</td>\n",
       "      <td>93.280</td>\n",
       "      <td>111.902</td>\n",
       "      <td>71.851</td>\n",
       "      <td>2023-09-28</td>\n",
       "      <td>4</td>\n",
       "      <td>230.0</td>\n",
       "      <td>WT</td>\n",
       "    </tr>\n",
       "    <tr>\n",
       "      <th>59</th>\n",
       "      <td>30</td>\n",
       "      <td>304</td>\n",
       "      <td>180.641</td>\n",
       "      <td>150</td>\n",
       "      <td>216</td>\n",
       "      <td>-66.801</td>\n",
       "      <td>60.926</td>\n",
       "      <td>111.902</td>\n",
       "      <td>68.739</td>\n",
       "      <td>2023-09-28</td>\n",
       "      <td>4</td>\n",
       "      <td>230.0</td>\n",
       "      <td>WT</td>\n",
       "    </tr>\n",
       "    <tr>\n",
       "      <th>46</th>\n",
       "      <td>17</td>\n",
       "      <td>376</td>\n",
       "      <td>161.314</td>\n",
       "      <td>130</td>\n",
       "      <td>190</td>\n",
       "      <td>-170.036</td>\n",
       "      <td>75.133</td>\n",
       "      <td>111.902</td>\n",
       "      <td>49.412</td>\n",
       "      <td>2023-09-28</td>\n",
       "      <td>4</td>\n",
       "      <td>230.0</td>\n",
       "      <td>WT</td>\n",
       "    </tr>\n",
       "    <tr>\n",
       "      <th>31</th>\n",
       "      <td>2</td>\n",
       "      <td>493</td>\n",
       "      <td>199.209</td>\n",
       "      <td>141</td>\n",
       "      <td>242</td>\n",
       "      <td>173.307</td>\n",
       "      <td>98.672</td>\n",
       "      <td>111.902</td>\n",
       "      <td>87.307</td>\n",
       "      <td>2023-09-28</td>\n",
       "      <td>4</td>\n",
       "      <td>230.0</td>\n",
       "      <td>WT</td>\n",
       "    </tr>\n",
       "  </tbody>\n",
       "</table>\n",
       "<p>122 rows × 13 columns</p>\n",
       "</div>"
      ],
      "text/plain": [
       "         Area     Mean  Min  Max    Angle  Length  Background  Intensity  \\\n",
       "121  30   120  119.767  108  139  -92.386  24.021     104.121     15.646   \n",
       "93    2   270  129.604  111  144  173.660  54.332     104.121     25.483   \n",
       "94    3   332  121.078  109  143 -141.746  66.219     104.121     16.957   \n",
       "95    4   460  119.337  108  140  151.489  92.179     104.121     15.216   \n",
       "96    5   358  117.827  106  135  -41.035  71.589     104.121     13.706   \n",
       "..   ..   ...      ...  ...  ...      ...     ...         ...        ...   \n",
       "57   28   360  186.364  157  211  -30.486  71.946     111.902     74.462   \n",
       "58   29   466  183.753  135  214   77.305  93.280     111.902     71.851   \n",
       "59   30   304  180.641  150  216  -66.801  60.926     111.902     68.739   \n",
       "46   17   376  161.314  130  190 -170.036  75.133     111.902     49.412   \n",
       "31    2   493  199.209  141  242  173.307  98.672     111.902     87.307   \n",
       "\n",
       "           Date CH  [DCX] $(n M)$ Type  \n",
       "121  2023-09-28  8           30.0   WT  \n",
       "93   2023-09-28  8           30.0   WT  \n",
       "94   2023-09-28  8           30.0   WT  \n",
       "95   2023-09-28  8           30.0   WT  \n",
       "96   2023-09-28  8           30.0   WT  \n",
       "..          ... ..            ...  ...  \n",
       "57   2023-09-28  4          230.0   WT  \n",
       "58   2023-09-28  4          230.0   WT  \n",
       "59   2023-09-28  4          230.0   WT  \n",
       "46   2023-09-28  4          230.0   WT  \n",
       "31   2023-09-28  4          230.0   WT  \n",
       "\n",
       "[122 rows x 13 columns]"
      ]
     },
     "execution_count": 92,
     "metadata": {},
     "output_type": "execute_result"
    }
   ],
   "source": [
    "data = pd.DataFrame(columns=[] , index=[])\n",
    "\n",
    "for i in np.arange(len(files)):\n",
    "    data0 = pd.read_csv(files[i], encoding='utf-8',keep_default_na=False)\n",
    "    dataBkgrnd0 = pd.read_csv(bkgrnd[i], encoding='utf-8',keep_default_na=False)\n",
    "    data0['Background'] = dataBkgrnd0['Mean'][0]\n",
    "    data0['Intensity'] = data0['Mean'] - dataBkgrnd0['Mean'][0]\n",
    "    data0['Date'] = dates[i]\n",
    "    data0['CH'] = CH[i]\n",
    "    data0[DCXconc] = dcx[i]\n",
    "    data0['Type'] = dcxtype[i]\n",
    "    \n",
    "    data = pd.concat([data,data0], ignore_index=True)\n",
    "\n",
    "data = data.sort_values(by = DCXconc)\n",
    "data"
   ]
  },
  {
   "cell_type": "code",
   "execution_count": 93,
   "metadata": {},
   "outputs": [
    {
     "data": {
      "text/plain": [
       "WindowsPath('D:/Sofia/2023_2summer-fall_DCXintensitydynmts/Intensity_Data_Sheets')"
      ]
     },
     "execution_count": 93,
     "metadata": {},
     "output_type": "execute_result"
    }
   ],
   "source": [
    "newdirectory = str(path.parents[0])+'//Intensity_Data_Sheets'\n",
    "newmydir = Path(newdirectory)\n",
    "newmydir.mkdir(exist_ok=True)\n",
    "newmydir"
   ]
  },
  {
   "cell_type": "code",
   "execution_count": 94,
   "metadata": {},
   "outputs": [
    {
     "data": {
      "text/plain": [
       "'2023-09-28_Intensity_analysed-on_2023-10-10.csv'"
      ]
     },
     "execution_count": 94,
     "metadata": {},
     "output_type": "execute_result"
    }
   ],
   "source": [
    "name = dates[0]+'_Intensity_analysed-on_'+date +'.csv'\n",
    "name"
   ]
  },
  {
   "cell_type": "code",
   "execution_count": 95,
   "metadata": {},
   "outputs": [],
   "source": [
    "data.to_csv(path/(name), encoding='utf-8', index=False)\n",
    "data.to_csv(newmydir/(name), encoding='utf-8', index=False)"
   ]
  },
  {
   "cell_type": "markdown",
   "metadata": {},
   "source": [
    "## Open prev sevad data ##"
   ]
  },
  {
   "cell_type": "code",
   "execution_count": 96,
   "metadata": {},
   "outputs": [
    {
     "data": {
      "text/html": [
       "<div>\n",
       "<style scoped>\n",
       "    .dataframe tbody tr th:only-of-type {\n",
       "        vertical-align: middle;\n",
       "    }\n",
       "\n",
       "    .dataframe tbody tr th {\n",
       "        vertical-align: top;\n",
       "    }\n",
       "\n",
       "    .dataframe thead th {\n",
       "        text-align: right;\n",
       "    }\n",
       "</style>\n",
       "<table border=\"1\" class=\"dataframe\">\n",
       "  <thead>\n",
       "    <tr style=\"text-align: right;\">\n",
       "      <th></th>\n",
       "      <th></th>\n",
       "      <th>Area</th>\n",
       "      <th>Mean</th>\n",
       "      <th>Min</th>\n",
       "      <th>Max</th>\n",
       "      <th>Angle</th>\n",
       "      <th>Length</th>\n",
       "      <th>Background</th>\n",
       "      <th>Intensity</th>\n",
       "      <th>Date</th>\n",
       "      <th>CH</th>\n",
       "      <th>[DCX] $(n M)$</th>\n",
       "      <th>Type</th>\n",
       "    </tr>\n",
       "  </thead>\n",
       "  <tbody>\n",
       "    <tr>\n",
       "      <th>0</th>\n",
       "      <td>7</td>\n",
       "      <td>266</td>\n",
       "      <td>125.868</td>\n",
       "      <td>113</td>\n",
       "      <td>139</td>\n",
       "      <td>-19.799</td>\n",
       "      <td>53.141</td>\n",
       "      <td>103.607</td>\n",
       "      <td>22.261</td>\n",
       "      <td>2023-10-04</td>\n",
       "      <td>8</td>\n",
       "      <td>30</td>\n",
       "      <td>WT</td>\n",
       "    </tr>\n",
       "    <tr>\n",
       "      <th>1</th>\n",
       "      <td>1</td>\n",
       "      <td>265</td>\n",
       "      <td>133.019</td>\n",
       "      <td>117</td>\n",
       "      <td>146</td>\n",
       "      <td>-88.919</td>\n",
       "      <td>53.009</td>\n",
       "      <td>105.673</td>\n",
       "      <td>27.346</td>\n",
       "      <td>2023-10-04</td>\n",
       "      <td>4</td>\n",
       "      <td>30</td>\n",
       "      <td>WT</td>\n",
       "    </tr>\n",
       "    <tr>\n",
       "      <th>2</th>\n",
       "      <td>2</td>\n",
       "      <td>112</td>\n",
       "      <td>130.259</td>\n",
       "      <td>116</td>\n",
       "      <td>145</td>\n",
       "      <td>144.162</td>\n",
       "      <td>22.204</td>\n",
       "      <td>105.673</td>\n",
       "      <td>24.586</td>\n",
       "      <td>2023-10-04</td>\n",
       "      <td>4</td>\n",
       "      <td>30</td>\n",
       "      <td>WT</td>\n",
       "    </tr>\n",
       "    <tr>\n",
       "      <th>3</th>\n",
       "      <td>3</td>\n",
       "      <td>142</td>\n",
       "      <td>131.901</td>\n",
       "      <td>111</td>\n",
       "      <td>146</td>\n",
       "      <td>-50.711</td>\n",
       "      <td>28.425</td>\n",
       "      <td>105.673</td>\n",
       "      <td>26.228</td>\n",
       "      <td>2023-10-04</td>\n",
       "      <td>4</td>\n",
       "      <td>30</td>\n",
       "      <td>WT</td>\n",
       "    </tr>\n",
       "    <tr>\n",
       "      <th>4</th>\n",
       "      <td>5</td>\n",
       "      <td>240</td>\n",
       "      <td>129.912</td>\n",
       "      <td>109</td>\n",
       "      <td>145</td>\n",
       "      <td>153.435</td>\n",
       "      <td>44.721</td>\n",
       "      <td>105.673</td>\n",
       "      <td>24.239</td>\n",
       "      <td>2023-10-04</td>\n",
       "      <td>4</td>\n",
       "      <td>30</td>\n",
       "      <td>WT</td>\n",
       "    </tr>\n",
       "    <tr>\n",
       "      <th>...</th>\n",
       "      <td>...</td>\n",
       "      <td>...</td>\n",
       "      <td>...</td>\n",
       "      <td>...</td>\n",
       "      <td>...</td>\n",
       "      <td>...</td>\n",
       "      <td>...</td>\n",
       "      <td>...</td>\n",
       "      <td>...</td>\n",
       "      <td>...</td>\n",
       "      <td>...</td>\n",
       "      <td>...</td>\n",
       "      <td>...</td>\n",
       "    </tr>\n",
       "    <tr>\n",
       "      <th>357</th>\n",
       "      <td>28</td>\n",
       "      <td>360</td>\n",
       "      <td>186.364</td>\n",
       "      <td>157</td>\n",
       "      <td>211</td>\n",
       "      <td>-30.486</td>\n",
       "      <td>71.946</td>\n",
       "      <td>111.902</td>\n",
       "      <td>74.462</td>\n",
       "      <td>2023-09-28</td>\n",
       "      <td>4</td>\n",
       "      <td>230</td>\n",
       "      <td>WT</td>\n",
       "    </tr>\n",
       "    <tr>\n",
       "      <th>358</th>\n",
       "      <td>29</td>\n",
       "      <td>466</td>\n",
       "      <td>183.753</td>\n",
       "      <td>135</td>\n",
       "      <td>214</td>\n",
       "      <td>77.305</td>\n",
       "      <td>93.280</td>\n",
       "      <td>111.902</td>\n",
       "      <td>71.851</td>\n",
       "      <td>2023-09-28</td>\n",
       "      <td>4</td>\n",
       "      <td>230</td>\n",
       "      <td>WT</td>\n",
       "    </tr>\n",
       "    <tr>\n",
       "      <th>359</th>\n",
       "      <td>30</td>\n",
       "      <td>304</td>\n",
       "      <td>180.641</td>\n",
       "      <td>150</td>\n",
       "      <td>216</td>\n",
       "      <td>-66.801</td>\n",
       "      <td>60.926</td>\n",
       "      <td>111.902</td>\n",
       "      <td>68.739</td>\n",
       "      <td>2023-09-28</td>\n",
       "      <td>4</td>\n",
       "      <td>230</td>\n",
       "      <td>WT</td>\n",
       "    </tr>\n",
       "    <tr>\n",
       "      <th>360</th>\n",
       "      <td>17</td>\n",
       "      <td>376</td>\n",
       "      <td>161.314</td>\n",
       "      <td>130</td>\n",
       "      <td>190</td>\n",
       "      <td>-170.036</td>\n",
       "      <td>75.133</td>\n",
       "      <td>111.902</td>\n",
       "      <td>49.412</td>\n",
       "      <td>2023-09-28</td>\n",
       "      <td>4</td>\n",
       "      <td>230</td>\n",
       "      <td>WT</td>\n",
       "    </tr>\n",
       "    <tr>\n",
       "      <th>361</th>\n",
       "      <td>2</td>\n",
       "      <td>493</td>\n",
       "      <td>199.209</td>\n",
       "      <td>141</td>\n",
       "      <td>242</td>\n",
       "      <td>173.307</td>\n",
       "      <td>98.672</td>\n",
       "      <td>111.902</td>\n",
       "      <td>87.307</td>\n",
       "      <td>2023-09-28</td>\n",
       "      <td>4</td>\n",
       "      <td>230</td>\n",
       "      <td>WT</td>\n",
       "    </tr>\n",
       "  </tbody>\n",
       "</table>\n",
       "<p>362 rows × 13 columns</p>\n",
       "</div>"
      ],
      "text/plain": [
       "         Area     Mean  Min  Max    Angle  Length  Background  Intensity  \\\n",
       "0     7   266  125.868  113  139  -19.799  53.141     103.607     22.261   \n",
       "1     1   265  133.019  117  146  -88.919  53.009     105.673     27.346   \n",
       "2     2   112  130.259  116  145  144.162  22.204     105.673     24.586   \n",
       "3     3   142  131.901  111  146  -50.711  28.425     105.673     26.228   \n",
       "4     5   240  129.912  109  145  153.435  44.721     105.673     24.239   \n",
       "..   ..   ...      ...  ...  ...      ...     ...         ...        ...   \n",
       "357  28   360  186.364  157  211  -30.486  71.946     111.902     74.462   \n",
       "358  29   466  183.753  135  214   77.305  93.280     111.902     71.851   \n",
       "359  30   304  180.641  150  216  -66.801  60.926     111.902     68.739   \n",
       "360  17   376  161.314  130  190 -170.036  75.133     111.902     49.412   \n",
       "361   2   493  199.209  141  242  173.307  98.672     111.902     87.307   \n",
       "\n",
       "           Date  CH  [DCX] $(n M)$ Type  \n",
       "0    2023-10-04   8             30   WT  \n",
       "1    2023-10-04   4             30   WT  \n",
       "2    2023-10-04   4             30   WT  \n",
       "3    2023-10-04   4             30   WT  \n",
       "4    2023-10-04   4             30   WT  \n",
       "..          ...  ..            ...  ...  \n",
       "357  2023-09-28   4            230   WT  \n",
       "358  2023-09-28   4            230   WT  \n",
       "359  2023-09-28   4            230   WT  \n",
       "360  2023-09-28   4            230   WT  \n",
       "361  2023-09-28   4            230   WT  \n",
       "\n",
       "[362 rows x 13 columns]"
      ]
     },
     "execution_count": 96,
     "metadata": {},
     "output_type": "execute_result"
    }
   ],
   "source": [
    "askFitParam = filedialog.askopenfilename() # show an \"Open\" dialog box and return the path to the selected file\n",
    "data = pd.read_csv(askFitParam, encoding='utf-8',keep_default_na=False)\n",
    "data"
   ]
  },
  {
   "cell_type": "markdown",
   "metadata": {},
   "source": [
    "## Plot ##"
   ]
  },
  {
   "cell_type": "code",
   "execution_count": 97,
   "metadata": {},
   "outputs": [],
   "source": [
    "grey00 = '#777777'\n",
    "grey20 = '#C5C5C5'"
   ]
  },
  {
   "cell_type": "code",
   "execution_count": 113,
   "metadata": {},
   "outputs": [
    {
     "data": {
      "image/png": "[encoded data removed]",
      "text/plain": [
       "<Figure size 1700x1200 with 1 Axes>"
      ]
     },
     "metadata": {},
     "output_type": "display_data"
    }
   ],
   "source": [
    "fig, ax = plt.subplots(1,1,figsize=(17,12))\n",
    "\n",
    "# ax = sns.boxplot(x= DCXconc, y='Mean', data=data, whis=np.inf,linewidth=3,native_scale=True)\n",
    "# ax = sns.swarmplot(x=DCXconc, y='Mean', data=data, hue='Date', size=5,native_scale=True , palette = [grey00, grey20])\n",
    "\n",
    "ax = sns.boxplot(x= DCXconc, y='Intensity', data=data, whis=np.inf,linewidth=3,native_scale=True)\n",
    "ax = sns.swarmplot(x=DCXconc, y='Intensity', data=data, hue='Date', size=6,native_scale=True , palette = [grey00, grey20])\n",
    "\n",
    "#ax.legend( loc = 'lower right')\n",
    "ax.legend('')\n",
    "ax.set_xlabel(DCXconc)\n",
    "\n",
    "ax.set_xlim(0,120) \n",
    "ax.set_ylim(0,120) \n",
    "ax.set_xticks(np.arange(0, 251, 50))\n",
    "sns.set_style(\"ticks\")\n",
    "sns.despine()\n",
    "ax.spines['left'].set_lw(5)\n",
    "ax.spines['bottom'].set_lw(5)\n",
    "ax.tick_params(axis='both', width = 5, length = 15)\n",
    "sns.set_context(\"poster\", font_scale=1.7, rc={\"lines.linewidth\":3.0})\n",
    "\n",
    "plt.tight_layout()\n",
    "\n",
    "\n",
    "plt.savefig(newmydir/('intensity_'+date+'.svg'),backend='Cairo')\n",
    "plt.savefig(newmydir/('intensity_'+date+'.png'),backend='Cairo')"
   ]
  },
  {
   "cell_type": "code",
   "execution_count": null,
   "metadata": {},
   "outputs": [],
   "source": []
  }
 ],
 "metadata": {
  "kernelspec": {
   "display_name": "Python 3 (ipykernel)",
   "language": "python",
   "name": "python3"
  },
  "language_info": {
   "codemirror_mode": {
    "name": "ipython",
    "version": 3
   },
   "file_extension": ".py",
   "mimetype": "text/x-python",
   "name": "python",
   "nbconvert_exporter": "python",
   "pygments_lexer": "ipython3",
   "version": "3.11.5"
  }
 },
 "nbformat": 4,
 "nbformat_minor": 4
}
