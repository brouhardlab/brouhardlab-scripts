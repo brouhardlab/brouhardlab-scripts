{
 "cells": [
  {
   "cell_type": "code",
   "execution_count": 1,
   "metadata": {
    "tags": []
   },
   "outputs": [],
   "source": [
    "import numpy as np\n",
    "import seaborn as sns\n",
    "import matplotlib.pyplot as plt\n",
    "import csv\n",
    "import pandas as pd\n",
    "from pandas.api.types import CategoricalDtype\n",
    "import scipy as sp\n",
    "from pathlib import Path\n",
    "import tkinter as tk\n",
    "from tkinter import filedialog\n",
    "import itertools\n",
    "from colour import Color\n",
    "from datetime import date\n",
    "import statsmodels.api as sm\n",
    "from statsmodels.stats.weightstats import ztest as ztest\n",
    "from sklearn.metrics import r2_score as R2S\n",
    "import cairo"
   ]
  },
  {
   "cell_type": "markdown",
   "metadata": {},
   "source": [
    "## Names and Palette ##"
   ]
  },
  {
   "cell_type": "code",
   "execution_count": 2,
   "metadata": {
    "tags": []
   },
   "outputs": [
    {
     "name": "stdout",
     "output_type": "stream",
     "text": [
      "Today's date: 2023-09-19\n"
     ]
    },
    {
     "data": {
      "text/plain": [
       "'2023-09-19'"
      ]
     },
     "execution_count": 2,
     "metadata": {},
     "output_type": "execute_result"
    }
   ],
   "source": [
    "today = date.today()\n",
    "print(\"Today's date:\", today)\n",
    "date = str(today)\n",
    "date"
   ]
  },
  {
   "cell_type": "code",
   "execution_count": 45,
   "metadata": {
    "tags": []
   },
   "outputs": [],
   "source": [
    "tubulin = '[Tubulin] ' r'$(\\mu M)$'\n",
    "tub = 'tub'\n",
    "\n",
    "DCXconc = '[DCX] ' r'$(n M)$'\n",
    "EBconc = '[EB1] ' r'$(n M)$'\n",
    "DCX = 'DCX'\n",
    "Type = 'DCX Type'\n",
    "\n",
    "Concentration = 'Concentration ' r'$(\\mu M)$'\n",
    "Length = 'Length ' r'$(\\mu m)$'\n",
    "Lifetime = 'Lifetime ' r'$(min)$'\n",
    "GrowthRate = 'Growth Rate ' r'$(\\mu m / min)$'\n",
    "TimeToNucleate = 'Time to Nucleate ' r'$(min)$'\n",
    "ShrinkageLength = 'Shrink Length ' r'$(\\mu m)$'\n",
    "ShrinkageLifetime = 'Shrink Lifetime ' r'$(min)$'\n",
    "ShrinkageRate = 'Shrink Rate ' r'$(\\mu m / min)$'"
   ]
  },
  {
   "cell_type": "code",
   "execution_count": 4,
   "metadata": {
    "tags": []
   },
   "outputs": [],
   "source": [
    "Type_order = ['None', 'Y64N','R76S','R102S', 'R178L', 'P191R', 'G223E','R303X', 'WT']\n",
    "\n",
    "category_Type = CategoricalDtype(Type_order, ordered=True,) #order mutants"
   ]
  },
  {
   "cell_type": "code",
   "execution_count": 5,
   "metadata": {
    "tags": []
   },
   "outputs": [
    {
     "name": "stdout",
     "output_type": "stream",
     "text": [
      "[<Color #ab4a9c>, <Color #e468b8>, <Color #ffa4cd>] [<Color #ff5b00>, <Color #ff8341>, <Color #ffac83>]\n"
     ]
    }
   ],
   "source": [
    "black = '#000000'\n",
    "grey = '#777777'\n",
    "blue = '#23459C'\n",
    "cyan = '#0089CF'\n",
    "green = '#79BA1A'\n",
    "purple = '#AB4A9C'\n",
    "lily = '#CB81EA'\n",
    "magenta = '#D80B8C'\n",
    "red = '#e60000'\n",
    "orange = '#FF7300'\n",
    "darkorange = '#FF5B00'\n",
    "lightorange = '#FFAC83'\n",
    "yellow = '#FFCB05'\n",
    "lightyellow = '#F9DC2D'\n",
    "pink = '#FFA4CD'\n",
    "StartHue1 = Color(purple)\n",
    "DC1color = list(StartHue1.range_to(Color(pink),3))\n",
    "StartHue2 = Color(darkorange)\n",
    "DC2color = list(StartHue2.range_to(Color(lightorange),3))\n",
    "print(DC1color,DC2color)\n",
    "\n",
    "palette = [grey] + list(map(Color.get_hex,DC1color)) + list(map(Color.get_hex,DC2color)) + [green,cyan]\n",
    "\n",
    "parameters = [GrowthRate,TimeToNucleate,Lifetime,ShrinkageRate]"
   ]
  },
  {
   "cell_type": "code",
   "execution_count": 6,
   "metadata": {},
   "outputs": [
    {
     "data": {
      "text/plain": [
       "[<Color #ff5b00>, <Color #37efd4>, <Color #e468b8>]"
      ]
     },
     "execution_count": 6,
     "metadata": {},
     "output_type": "execute_result"
    }
   ],
   "source": [
    "StartHue1 = Color(yellow)\n",
    "DC1color = list(StartHue2.range_to(Color('#e468b8'),3))\n",
    "DC1color"
   ]
  },
  {
   "cell_type": "markdown",
   "metadata": {},
   "source": [
    "## EB Maurer data ##"
   ]
  },
  {
   "cell_type": "code",
   "execution_count": 46,
   "metadata": {
    "tags": []
   },
   "outputs": [],
   "source": [
    "ebconc = np.array([2,10,50,250]) ###nM\n",
    "eblifetime = np.divide([99.1,84.2,50.1,41.7],60) ## s turned into minutes\n",
    "eblifesigma = np.divide([41.3,41.1,29,27.2],60)\n",
    "ebn = [53,93,71,72]"
   ]
  },
  {
   "cell_type": "code",
   "execution_count": 47,
   "metadata": {
    "tags": []
   },
   "outputs": [
    {
     "data": {
      "text/html": [
       "<div>\n",
       "<style scoped>\n",
       "    .dataframe tbody tr th:only-of-type {\n",
       "        vertical-align: middle;\n",
       "    }\n",
       "\n",
       "    .dataframe tbody tr th {\n",
       "        vertical-align: top;\n",
       "    }\n",
       "\n",
       "    .dataframe thead th {\n",
       "        text-align: right;\n",
       "    }\n",
       "</style>\n",
       "<table border=\"1\" class=\"dataframe\">\n",
       "  <thead>\n",
       "    <tr style=\"text-align: right;\">\n",
       "      <th></th>\n",
       "      <th>[EB1] $(n M)$</th>\n",
       "      <th>Lifetime $(min)$</th>\n",
       "      <th>$\\sigma$</th>\n",
       "      <th>n</th>\n",
       "    </tr>\n",
       "  </thead>\n",
       "  <tbody>\n",
       "    <tr>\n",
       "      <td>0</td>\n",
       "      <td>2</td>\n",
       "      <td>1.651667</td>\n",
       "      <td>0.688333</td>\n",
       "      <td>53</td>\n",
       "    </tr>\n",
       "    <tr>\n",
       "      <td>1</td>\n",
       "      <td>10</td>\n",
       "      <td>1.403333</td>\n",
       "      <td>0.685000</td>\n",
       "      <td>93</td>\n",
       "    </tr>\n",
       "    <tr>\n",
       "      <td>2</td>\n",
       "      <td>50</td>\n",
       "      <td>0.835000</td>\n",
       "      <td>0.483333</td>\n",
       "      <td>71</td>\n",
       "    </tr>\n",
       "    <tr>\n",
       "      <td>3</td>\n",
       "      <td>250</td>\n",
       "      <td>0.695000</td>\n",
       "      <td>0.453333</td>\n",
       "      <td>72</td>\n",
       "    </tr>\n",
       "  </tbody>\n",
       "</table>\n",
       "</div>"
      ],
      "text/plain": [
       "   [EB1] $(n M)$  Lifetime $(min)$  $\\sigma$   n\n",
       "0              2          1.651667  0.688333  53\n",
       "1             10          1.403333  0.685000  93\n",
       "2             50          0.835000  0.483333  71\n",
       "3            250          0.695000  0.453333  72"
      ]
     },
     "execution_count": 47,
     "metadata": {},
     "output_type": "execute_result"
    }
   ],
   "source": [
    "r0 = { EBconc:ebconc, Lifetime : eblifetime, r'$\\sigma$' : eblifesigma, 'n':ebn}\n",
    "results0 = pd.DataFrame(data=r0)\n",
    "results0"
   ]
  },
  {
   "cell_type": "code",
   "execution_count": 48,
   "metadata": {
    "tags": []
   },
   "outputs": [],
   "source": [
    "YN = eblifetime\n",
    "X = ebconc"
   ]
  },
  {
   "cell_type": "code",
   "execution_count": 49,
   "metadata": {
    "tags": []
   },
   "outputs": [],
   "source": [
    "def hill_inv(x, n,kd):\n",
    "    return  (YN[-1]- YN[0]) * ( np.power(x, n)/(kd + np.power(x, n))) + YN[0]\n",
    "def MM_inv(x,kd):\n",
    "    return  (YN[-1]- YN[0]) * ( np.power(x, 1)/(kd + np.power(x, 1))) + YN[0]"
   ]
  },
  {
   "cell_type": "code",
   "execution_count": 50,
   "metadata": {
    "tags": []
   },
   "outputs": [
    {
     "data": {
      "text/plain": [
       "(array([  1.78259074, 176.75113302]), array([ 0.09105924, 46.07910896]))"
      ]
     },
     "execution_count": 50,
     "metadata": {},
     "output_type": "execute_result"
    }
   ],
   "source": [
    "coeffH, var_matrix = sp.optimize.curve_fit(hill_inv,X,YN)\n",
    "\n",
    "variance = np.diagonal(var_matrix) #Refer [3]\n",
    "SE = np.sqrt(variance)\n",
    "coeffH,SE"
   ]
  },
  {
   "cell_type": "code",
   "execution_count": 51,
   "metadata": {
    "tags": []
   },
   "outputs": [
    {
     "data": {
      "text/plain": [
       "0.9992823602640994"
      ]
     },
     "execution_count": 51,
     "metadata": {},
     "output_type": "execute_result"
    }
   ],
   "source": [
    "R2S(YN,hill_inv(X,coeffH[0],coeffH[1]))"
   ]
  },
  {
   "cell_type": "code",
   "execution_count": 52,
   "metadata": {
    "tags": []
   },
   "outputs": [
    {
     "data": {
      "text/plain": [
       "(array([18.58089662]), array([6.52080962]))"
      ]
     },
     "execution_count": 52,
     "metadata": {},
     "output_type": "execute_result"
    }
   ],
   "source": [
    "coeffMM, var_matrix = sp.optimize.curve_fit(MM_inv,X,YN)\n",
    "\n",
    "variance = np.diagonal(var_matrix) #Refer [3]\n",
    "SE = np.sqrt(variance)\n",
    "coeffMM,SE"
   ]
  },
  {
   "cell_type": "code",
   "execution_count": 53,
   "metadata": {
    "tags": []
   },
   "outputs": [
    {
     "data": {
      "text/plain": [
       "0.9442267610809858"
      ]
     },
     "execution_count": 53,
     "metadata": {},
     "output_type": "execute_result"
    }
   ],
   "source": [
    "R2S(YN,MM_inv(X,coeffMM[0]))"
   ]
  },
  {
   "cell_type": "code",
   "execution_count": 54,
   "metadata": {
    "tags": []
   },
   "outputs": [],
   "source": [
    "def exponential(x, scale, A, B):\n",
    "    return A*((np.exp(-x/scale) )/(scale)) + B"
   ]
  },
  {
   "cell_type": "code",
   "execution_count": 55,
   "metadata": {
    "tags": []
   },
   "outputs": [
    {
     "data": {
      "text/plain": [
       "(array([25.59669894, 26.65712923,  0.69237181]),\n",
       " array([0.96015483, 1.01972143, 0.00897959]))"
      ]
     },
     "execution_count": 55,
     "metadata": {},
     "output_type": "execute_result"
    }
   ],
   "source": [
    "coeff, var_matrix = sp.optimize.curve_fit(exponential,X,YN)\n",
    "\n",
    "variance = np.diagonal(var_matrix) #Refer [3]\n",
    "SE = np.sqrt(variance)\n",
    "coeff,SE"
   ]
  },
  {
   "cell_type": "code",
   "execution_count": 56,
   "metadata": {
    "tags": []
   },
   "outputs": [
    {
     "data": {
      "text/plain": [
       "0.9998601636534707"
      ]
     },
     "execution_count": 56,
     "metadata": {},
     "output_type": "execute_result"
    }
   ],
   "source": [
    "R2S(YN,exponential(X,coeff[0],coeff[1],coeff[2]))"
   ]
  },
  {
   "cell_type": "code",
   "execution_count": 58,
   "metadata": {},
   "outputs": [],
   "source": [
    "askdirectory = filedialog.askdirectory() # show an \"Open\" dialog box and return the path to the selected file\n",
    "path = Path(askdirectory)"
   ]
  },
  {
   "cell_type": "code",
   "execution_count": 60,
   "metadata": {
    "tags": []
   },
   "outputs": [
    {
     "data": {
      "image/png": "[encoded data removed]",
      "text/plain": [
       "<Figure size 396x396 with 1 Axes>"
      ]
     },
     "metadata": {
      "needs_background": "light"
     },
     "output_type": "display_data"
    }
   ],
   "source": [
    "scattersize = 9\n",
    "cap = 5\n",
    "\n",
    "fig, ax = plt.subplots(1,1,figsize=(5.5,5.5))\n",
    "ax.errorbar(ebconc , eblifetime , yerr= eblifesigma , fmt='',marker='o', markersize=scattersize,capsize = cap,\n",
    "                              markeredgewidth=4,color=yellow, alpha = 1, ls='')\n",
    "\n",
    "linx = np.arange(0, 250, 1)\n",
    "#ax.plot(linx, hill_inv(linx,coeffH[0],coeffH[1]) ,color = yellow, lw=3,ls= '-',alpha = 0.5)\n",
    "#ax.plot(linx, MM_inv(linx,coeffMM[0]) ,color = grey, lw=3,ls= '-',alpha = 0.5)\n",
    "ax.plot(linx, exponential(linx,coeff[0],coeff[1],coeff[2]) ,color = yellow, lw=3,ls= '-',alpha = 0.5)\n",
    "\n",
    "ax.set_ylim(0,3)\n",
    "ax.set_xlim(-5,260)\n",
    "ax.set_xlabel(EBconc)\n",
    "#ax.set_xticks(np.arange(0, 22.1, 2))\n",
    "ax.set_xticks(np.arange(0, 250.1, 50))\n",
    "ax.set_ylabel(Lifetime) \n",
    "ax.spines['right'].set_visible(False)\n",
    "ax.spines['top'].set_visible(False)\n",
    "ax.spines['left'].set_lw(3)\n",
    "ax.spines['bottom'].set_lw(3)\n",
    "ax.tick_params(axis='both', width = 3.5, length = 7)\n",
    "\n",
    "#ax.legend(('Hill n = 1.8','Michaelis Menten','Exponential'),loc='upper right')\n",
    "ax.legend(('Exponential fit \\n'r'$y = A + B \\cdot e^{-x/ \\lambda}$', 'Maurer et.al. (2014)'),loc='upper right')\n",
    "\n",
    "sns.set_context(\"poster\", font_scale=1, rc={\"lines.linewidth\":3.0})\n",
    "\n",
    "plt.savefig(path/('expfit_MaurerEB_'+date+'.svg'))"
   ]
  },
  {
   "cell_type": "code",
   "execution_count": 99,
   "metadata": {
    "tags": []
   },
   "outputs": [
    {
     "data": {
      "image/png": "[encoded data removed]",
      "text/plain": [
       "<Figure size 550x550 with 1 Axes>"
      ]
     },
     "metadata": {},
     "output_type": "display_data"
    }
   ],
   "source": [
    "scattersize = 9\n",
    "cap = 5\n",
    "\n",
    "fig, ax = plt.subplots(1,1,figsize=(5.5,5.5))\n",
    "ax.errorbar(ebconc , eblifetime , yerr= eblifesigma , fmt='',marker='o', markersize=scattersize,capsize = cap,\n",
    "                              markeredgewidth=4,color=yellow, alpha = 1, ls='')\n",
    "\n",
    "linx = np.arange(0, 250, 1)\n",
    "ax.plot(linx, exponential(linx,coeff[0],coeff[1],coeff[2]) ,color = yellow, lw=3,ls= '-',alpha = 0.5)\n",
    "\n",
    "ax.set_ylim(0,3)\n",
    "# ax.set_xlim(3,6)\n",
    "ax.set_xlabel(EBconc)\n",
    "#ax.set_xticks(np.arange(0, 22.1, 2))\n",
    "#ax.set_yticks(np.arange(0, 150.1, 25))\n",
    "ax.set_ylabel(Lifetime) \n",
    "ax.spines['right'].set_visible(False)\n",
    "ax.spines['top'].set_visible(False)\n",
    "ax.spines['left'].set_lw(3)\n",
    "ax.spines['bottom'].set_lw(3)\n",
    "ax.tick_params(axis='both', width = 3.5, length = 7)\n",
    "\n",
    "ax.legend(('Exponential',),loc='upper right')\n",
    "\n",
    "sns.set_context(\"poster\", font_scale=1, rc={\"lines.linewidth\":3.0})\n",
    "\n",
    "#plt.savefig(newmydir/('logexpHillfit_ShrinkR76S_'+date+'.svg'))"
   ]
  },
  {
   "cell_type": "code",
   "execution_count": 41,
   "metadata": {
    "tags": []
   },
   "outputs": [
    {
     "data": {
      "image/png": "[encoded data removed]",
      "text/plain": [
       "<Figure size 550x550 with 1 Axes>"
      ]
     },
     "metadata": {},
     "output_type": "display_data"
    }
   ],
   "source": [
    "scattersize = 9\n",
    "cap = 5\n",
    "\n",
    "fig, ax = plt.subplots(1,1,figsize=(5.5,5.5))\n",
    "ax.errorbar(ebconc , eblifetime , yerr= eblifesigma , fmt='',marker='o', markersize=scattersize,capsize = cap,\n",
    "                              markeredgewidth=4,color=yellow, alpha = 1, ls='')\n",
    "ax.errorbar(0 , 18 , yerr= 0 , fmt='',marker='o', markersize=scattersize,capsize = cap,\n",
    "                              markeredgewidth=4,color=grey, alpha = 1, ls='')\n",
    "\n",
    "x0 = np.arange(3.3, 4.8, 0.05)\n",
    "#ax.plot(x0, x0*m+b,color = pink00, lw=3,ls= '-',alpha = 0.5)\n",
    "\n",
    "#ax.set_ylim(-2.5,3)\n",
    "# ax.set_xlim(3,6)\n",
    "ax.set_xlabel(EBconc)\n",
    "#ax.set_xticks(np.arange(0, 22.1, 2))\n",
    "#ax.set_yticks(np.arange(0, 150.1, 25))\n",
    "ax.set_ylabel(Lifetime) \n",
    "ax.spines['right'].set_visible(False)\n",
    "ax.spines['top'].set_visible(False)\n",
    "ax.spines['left'].set_lw(3)\n",
    "ax.spines['bottom'].set_lw(3)\n",
    "ax.tick_params(axis='both', width = 3.5, length = 7)\n",
    "\n",
    "#ax.legend((r'$n=2.94 \\pm 0.49$' '\\n' r'$R^2 > 0.945$',),loc='lower right',title='Hill Equation')\n",
    "\n",
    "sns.set_context(\"poster\", font_scale=1, rc={\"lines.linewidth\":3.0})\n",
    "\n",
    "#plt.savefig(newmydir/('logexpHillfit_ShrinkR76S_'+date+'.svg'))"
   ]
  },
  {
   "cell_type": "code",
   "execution_count": 43,
   "metadata": {
    "tags": []
   },
   "outputs": [],
   "source": [
    "def hillEQ_inv(x, n, kd):\n",
    "    return  (eblifetime[-1]- 18) * ( np.power(x, n)/(kd + np.power(x, n))) + 18"
   ]
  },
  {
   "cell_type": "code",
   "execution_count": 48,
   "metadata": {
    "tags": []
   },
   "outputs": [],
   "source": [
    "X = [0,2,10,50,250]\n",
    "YL = np.divide([1083,99.1,84.2,50.1,41.7],60)"
   ]
  },
  {
   "cell_type": "code",
   "execution_count": 49,
   "metadata": {
    "tags": []
   },
   "outputs": [
    {
     "data": {
      "text/plain": [
       "(array([0.61214352, 2.19396225]), array([0.24021728, 0.63685939]))"
      ]
     },
     "execution_count": 49,
     "metadata": {},
     "output_type": "execute_result"
    }
   ],
   "source": [
    "logx = np.log(X[1:-1])\n",
    "normy =( YL[1:-1]-YL[0])/(YL[-1]-YL[0])\n",
    "logy = np.log(normy/(1-normy))\n",
    "\n",
    "p, cov = np.polyfit(logx, logy, 1, cov=True)\n",
    "var = np.diagonal(cov) #Refer [3]\n",
    "SElin = np.sqrt(var) #Refer [4]\n",
    "\n",
    "m,b = p\n",
    "\n",
    "p, SElin"
   ]
  },
  {
   "cell_type": "code",
   "execution_count": 52,
   "metadata": {
    "tags": []
   },
   "outputs": [
    {
     "ename": "NameError",
     "evalue": "name 'newmydir' is not defined",
     "output_type": "error",
     "traceback": [
      "\u001b[1;31m---------------------------------------------------------------------------\u001b[0m",
      "\u001b[1;31mNameError\u001b[0m                                 Traceback (most recent call last)",
      "Cell \u001b[1;32mIn[52], line 27\u001b[0m\n\u001b[0;32m     23\u001b[0m \u001b[38;5;66;03m#ax.legend((r'$n=2.94 \\pm 0.49$' '\\n' r'$R^2 > 0.945$',),loc='lower right',title='Hill Equation')\u001b[39;00m\n\u001b[0;32m     25\u001b[0m sns\u001b[38;5;241m.\u001b[39mset_context(\u001b[38;5;124m\"\u001b[39m\u001b[38;5;124mposter\u001b[39m\u001b[38;5;124m\"\u001b[39m, font_scale\u001b[38;5;241m=\u001b[39m\u001b[38;5;241m1\u001b[39m, rc\u001b[38;5;241m=\u001b[39m{\u001b[38;5;124m\"\u001b[39m\u001b[38;5;124mlines.linewidth\u001b[39m\u001b[38;5;124m\"\u001b[39m:\u001b[38;5;241m3.0\u001b[39m})\n\u001b[1;32m---> 27\u001b[0m plt\u001b[38;5;241m.\u001b[39msavefig(newmydir\u001b[38;5;241m/\u001b[39m(\u001b[38;5;124m'\u001b[39m\u001b[38;5;124mlogexpHillfit_TimetoNucR76S_\u001b[39m\u001b[38;5;124m'\u001b[39m\u001b[38;5;241m+\u001b[39mdate\u001b[38;5;241m+\u001b[39m\u001b[38;5;124m'\u001b[39m\u001b[38;5;124m.svg\u001b[39m\u001b[38;5;124m'\u001b[39m),backend\u001b[38;5;241m=\u001b[39m\u001b[38;5;124m'\u001b[39m\u001b[38;5;124mCairo\u001b[39m\u001b[38;5;124m'\u001b[39m)\n",
      "\u001b[1;31mNameError\u001b[0m: name 'newmydir' is not defined"
     ]
    },
    {
     "data": {
      "image/png": "[encoded data removed]",
      "text/plain": [
       "<Figure size 250x250 with 1 Axes>"
      ]
     },
     "metadata": {},
     "output_type": "display_data"
    }
   ],
   "source": [
    "scattersize = 9\n",
    "cap = 5\n",
    "\n",
    "fig, ax = plt.subplots(1,1,figsize=(2.5,2.5))\n",
    "ax.errorbar(logx , logy , yerr= 0 , fmt='',marker='o', markersize=scattersize,capsize = cap,\n",
    "                              markeredgewidth=4,color=yellow, alpha = 1, ls='')\n",
    "\n",
    "x0 = np.arange(1, 4.8, 0.05)\n",
    "ax.plot(x0, x0*m+b,color = yellow, lw=3,ls= '-',alpha = 0.5)\n",
    "\n",
    "#ax.set_ylim(-2.5,3)\n",
    "# ax.set_xlim(3,6)\n",
    "ax.set_xlabel(r'$\\log([DCX])$')\n",
    "#ax.set_xticks(np.arange(0, 22.1, 2))\n",
    "#ax.set_yticks(np.arange(0, 150.1, 25))\n",
    "ax.set_ylabel(r'$\\log(\\frac{T_N}{1-T_N})$') \n",
    "ax.spines['right'].set_visible(False)\n",
    "ax.spines['top'].set_visible(False)\n",
    "ax.spines['left'].set_lw(3)\n",
    "ax.spines['bottom'].set_lw(3)\n",
    "ax.tick_params(axis='both', width = 3.5, length = 7)\n",
    "\n",
    "#ax.legend((r'$n=2.94 \\pm 0.49$' '\\n' r'$R^2 > 0.945$',),loc='lower right',title='Hill Equation')\n",
    "\n",
    "sns.set_context(\"poster\", font_scale=1, rc={\"lines.linewidth\":3.0})\n",
    "\n",
    "plt.savefig(newmydir/('logexpHillfit_TimetoNucR76S_'+date+'.svg'),backend='Cairo')"
   ]
  },
  {
   "cell_type": "code",
   "execution_count": null,
   "metadata": {},
   "outputs": [],
   "source": []
  }
 ],
 "metadata": {
  "kernelspec": {
   "display_name": "Python 3",
   "language": "python",
   "name": "python3"
  },
  "language_info": {
   "codemirror_mode": {
    "name": "ipython",
    "version": 3
   },
   "file_extension": ".py",
   "mimetype": "text/x-python",
   "name": "python",
   "nbconvert_exporter": "python",
   "pygments_lexer": "ipython3",
   "version": "3.7.4"
  }
 },
 "nbformat": 4,
 "nbformat_minor": 5
}
