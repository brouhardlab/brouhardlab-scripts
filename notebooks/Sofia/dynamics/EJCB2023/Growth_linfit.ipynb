{
 "cells": [
  {
   "cell_type": "code",
   "execution_count": 1,
   "id": "7eb1eaaa-a25e-4eb8-a142-aa4f2fbdcf4e",
   "metadata": {
    "tags": []
   },
   "outputs": [],
   "source": [
    "import numpy as np\n",
    "import seaborn as sns\n",
    "import matplotlib.pyplot as plt\n",
    "import csv\n",
    "import pandas as pd\n",
    "from pandas.api.types import CategoricalDtype\n",
    "import scipy as sp\n",
    "from pathlib import Path\n",
    "import tkinter as tk\n",
    "from tkinter import filedialog\n",
    "import itertools\n",
    "from colour import Color\n",
    "from datetime import date\n",
    "import statsmodels.api as sm\n",
    "from statsmodels.stats.weightstats import ztest as ztest\n",
    "from sklearn.metrics import r2_score as R2S\n",
    "import cairo"
   ]
  },
  {
   "cell_type": "markdown",
   "id": "3c2048eb-148f-46da-bae1-6eb44cd712e2",
   "metadata": {},
   "source": [
    "## Names and Palette ##"
   ]
  },
  {
   "cell_type": "code",
   "execution_count": 2,
   "id": "06dc4757-c854-4972-96d4-df880b0f5a9e",
   "metadata": {
    "tags": []
   },
   "outputs": [
    {
     "name": "stdout",
     "output_type": "stream",
     "text": [
      "Today's date: 2024-05-06\n"
     ]
    },
    {
     "data": {
      "text/plain": [
       "'2024-05-06'"
      ]
     },
     "execution_count": 2,
     "metadata": {},
     "output_type": "execute_result"
    }
   ],
   "source": [
    "today = date.today()\n",
    "print(\"Today's date:\", today)\n",
    "date = str(today)\n",
    "date"
   ]
  },
  {
   "cell_type": "code",
   "execution_count": 30,
   "id": "bf0b6254-2454-4ee5-9014-e34de1e70b3e",
   "metadata": {
    "tags": []
   },
   "outputs": [],
   "source": [
    "tubulin = '[Tubulin] (' r'$\\mu$' 'M)'\n",
    "tub = 'tub'\n",
    "\n",
    "DCXconc = '[DCX] (nM)' \n",
    "EBconc = '[EB] (nM)'\n",
    "DCX = 'DCX'\n",
    "Type = 'DCX Type'\n",
    "\n",
    "Concentration = 'Concentration (' r'$\\mu$' 'M)'\n",
    "Length = 'Length (' r'$\\mu$' 'm)'\n",
    "Lifetime = 'Lifetime (min)'\n",
    "GrowthRate = 'Growth Rate (' r'$\\mu$' 'm/min)'\n",
    "TimeToNucleate = 'Time to Nucleate (min)'\n",
    "ShrinkageLength = 'Shrink Length (' r'$\\mu$' 'm)'\n",
    "ShrinkageLifetime = 'Shrink Lifetime (min)'\n",
    "ShrinkageRate = 'Shrink Rate (' r'$\\mu$' 'm/min)'\n",
    "RescuePerLength = 'Rescues (' r'$\\mu$' 'm' r'$^{-1}$' ')'"
   ]
  },
  {
   "cell_type": "code",
   "execution_count": 4,
   "id": "e2a5dd09-e4d8-4a72-9b43-bc250dc0b58b",
   "metadata": {
    "tags": []
   },
   "outputs": [],
   "source": [
    "Type_order = ['None', 'Y64N','R76S','R102S', 'R178L', 'P191R', 'G223E','R303X', 'WT']\n",
    "\n",
    "category_Type = CategoricalDtype(Type_order, ordered=True,) #order mutants"
   ]
  },
  {
   "cell_type": "code",
   "execution_count": 42,
   "id": "9f1d0fe9-9d39-4e5d-96ce-a6282c6e7411",
   "metadata": {
    "tags": []
   },
   "outputs": [
    {
     "name": "stdout",
     "output_type": "stream",
     "text": [
      "[<Color #ab4a9c>, <Color #e468b8>, <Color #ffa4cd>] [<Color #ff5b00>, <Color #ff8341>, <Color #ffac83>]\n"
     ]
    }
   ],
   "source": [
    "black = '#000000'\n",
    "grey = '#777777'\n",
    "blue = '#23459C'\n",
    "cyan = '#0089CF'\n",
    "green = '#79BA1A'\n",
    "purple = '#AB4A9C'\n",
    "lily = '#CB81EA'\n",
    "magenta = '#D80B8C'\n",
    "red = '#e60000'\n",
    "orange = '#FF7300'\n",
    "darkorange = '#FF5B00'\n",
    "lightorange = '#FFAC83'\n",
    "yellow = '#FFCB05'\n",
    "lightyellow = '#F9DC2D'\n",
    "pink = '#FFA4CD'\n",
    "StartHue1 = Color(purple)\n",
    "DC1color = list(StartHue1.range_to(Color(pink),3))\n",
    "StartHue2 = Color(darkorange)\n",
    "DC2color = list(StartHue2.range_to(Color(lightorange),3))\n",
    "print(DC1color,DC2color)\n",
    "\n",
    "palette = [grey] + list(map(Color.get_hex,DC1color)) + list(map(Color.get_hex,DC2color)) + [green,cyan]\n",
    "\n",
    "parameters = [GrowthRate,TimeToNucleate,Lifetime,ShrinkageRate]\n",
    "\n"
   ]
  },
  {
   "cell_type": "markdown",
   "id": "42b58171-a51b-4a1f-ba41-060262d75c19",
   "metadata": {},
   "source": [
    "#  Open saved fit parameters  #"
   ]
  },
  {
   "cell_type": "code",
   "execution_count": 6,
   "id": "6a4b2941-8723-4d7e-a18f-7ad4b9af1438",
   "metadata": {
    "tags": []
   },
   "outputs": [
    {
     "data": {
      "text/html": [
       "<div>\n",
       "<style scoped>\n",
       "    .dataframe tbody tr th:only-of-type {\n",
       "        vertical-align: middle;\n",
       "    }\n",
       "\n",
       "    .dataframe tbody tr th {\n",
       "        vertical-align: top;\n",
       "    }\n",
       "\n",
       "    .dataframe thead th {\n",
       "        text-align: right;\n",
       "    }\n",
       "</style>\n",
       "<table border=\"1\" class=\"dataframe\">\n",
       "  <thead>\n",
       "    <tr style=\"text-align: right;\">\n",
       "      <th></th>\n",
       "      <th>Fit</th>\n",
       "      <th>SE</th>\n",
       "      <th>Coefficient</th>\n",
       "      <th>[Tubulin] ($\\mu$M)</th>\n",
       "      <th>DCX Type</th>\n",
       "      <th>[DCX] (nM)</th>\n",
       "      <th>Parameter</th>\n",
       "      <th>Moment</th>\n",
       "    </tr>\n",
       "  </thead>\n",
       "  <tbody>\n",
       "    <tr>\n",
       "      <th>0</th>\n",
       "      <td>1.070577</td>\n",
       "      <td>0.008903</td>\n",
       "      <td>0.0</td>\n",
       "      <td>12</td>\n",
       "      <td>None</td>\n",
       "      <td>0</td>\n",
       "      <td>Growth Rate ($\\mu$m/min)</td>\n",
       "      <td>Mean</td>\n",
       "    </tr>\n",
       "    <tr>\n",
       "      <th>1</th>\n",
       "      <td>0.157043</td>\n",
       "      <td>0.007290</td>\n",
       "      <td>1.0</td>\n",
       "      <td>12</td>\n",
       "      <td>None</td>\n",
       "      <td>0</td>\n",
       "      <td>Growth Rate ($\\mu$m/min)</td>\n",
       "      <td>Std</td>\n",
       "    </tr>\n",
       "    <tr>\n",
       "      <th>2</th>\n",
       "      <td>0.797346</td>\n",
       "      <td>0.025314</td>\n",
       "      <td>0.0</td>\n",
       "      <td>8</td>\n",
       "      <td>None</td>\n",
       "      <td>0</td>\n",
       "      <td>Growth Rate ($\\mu$m/min)</td>\n",
       "      <td>Mean</td>\n",
       "    </tr>\n",
       "    <tr>\n",
       "      <th>3</th>\n",
       "      <td>0.149149</td>\n",
       "      <td>0.020669</td>\n",
       "      <td>1.0</td>\n",
       "      <td>8</td>\n",
       "      <td>None</td>\n",
       "      <td>0</td>\n",
       "      <td>Growth Rate ($\\mu$m/min)</td>\n",
       "      <td>Std</td>\n",
       "    </tr>\n",
       "    <tr>\n",
       "      <th>4</th>\n",
       "      <td>0.416686</td>\n",
       "      <td>0.002427</td>\n",
       "      <td>0.0</td>\n",
       "      <td>6</td>\n",
       "      <td>None</td>\n",
       "      <td>0</td>\n",
       "      <td>Growth Rate ($\\mu$m/min)</td>\n",
       "      <td>Mean</td>\n",
       "    </tr>\n",
       "    <tr>\n",
       "      <th>...</th>\n",
       "      <td>...</td>\n",
       "      <td>...</td>\n",
       "      <td>...</td>\n",
       "      <td>...</td>\n",
       "      <td>...</td>\n",
       "      <td>...</td>\n",
       "      <td>...</td>\n",
       "      <td>...</td>\n",
       "    </tr>\n",
       "    <tr>\n",
       "      <th>363</th>\n",
       "      <td>5.080860</td>\n",
       "      <td>0.468668</td>\n",
       "      <td>1.0</td>\n",
       "      <td>14</td>\n",
       "      <td>None</td>\n",
       "      <td>0</td>\n",
       "      <td>Shrink Rate ($\\mu$m/min)</td>\n",
       "      <td>Std</td>\n",
       "    </tr>\n",
       "    <tr>\n",
       "      <th>364</th>\n",
       "      <td>19.051355</td>\n",
       "      <td>0.549069</td>\n",
       "      <td>0.0</td>\n",
       "      <td>10</td>\n",
       "      <td>None</td>\n",
       "      <td>0</td>\n",
       "      <td>Shrink Rate ($\\mu$m/min)</td>\n",
       "      <td>Mean</td>\n",
       "    </tr>\n",
       "    <tr>\n",
       "      <th>365</th>\n",
       "      <td>5.591572</td>\n",
       "      <td>0.456008</td>\n",
       "      <td>1.0</td>\n",
       "      <td>10</td>\n",
       "      <td>None</td>\n",
       "      <td>0</td>\n",
       "      <td>Shrink Rate ($\\mu$m/min)</td>\n",
       "      <td>Std</td>\n",
       "    </tr>\n",
       "    <tr>\n",
       "      <th>366</th>\n",
       "      <td>12.426828</td>\n",
       "      <td>0.919834</td>\n",
       "      <td>0.0</td>\n",
       "      <td>7</td>\n",
       "      <td>None</td>\n",
       "      <td>0</td>\n",
       "      <td>Shrink Rate ($\\mu$m/min)</td>\n",
       "      <td>Mean</td>\n",
       "    </tr>\n",
       "    <tr>\n",
       "      <th>367</th>\n",
       "      <td>5.414029</td>\n",
       "      <td>0.755402</td>\n",
       "      <td>1.0</td>\n",
       "      <td>7</td>\n",
       "      <td>None</td>\n",
       "      <td>0</td>\n",
       "      <td>Shrink Rate ($\\mu$m/min)</td>\n",
       "      <td>Std</td>\n",
       "    </tr>\n",
       "  </tbody>\n",
       "</table>\n",
       "<p>368 rows × 8 columns</p>\n",
       "</div>"
      ],
      "text/plain": [
       "           Fit        SE  Coefficient  [Tubulin] ($\\mu$M) DCX Type  \\\n",
       "0     1.070577  0.008903          0.0                  12     None   \n",
       "1     0.157043  0.007290          1.0                  12     None   \n",
       "2     0.797346  0.025314          0.0                   8     None   \n",
       "3     0.149149  0.020669          1.0                   8     None   \n",
       "4     0.416686  0.002427          0.0                   6     None   \n",
       "..         ...       ...          ...                 ...      ...   \n",
       "363   5.080860  0.468668          1.0                  14     None   \n",
       "364  19.051355  0.549069          0.0                  10     None   \n",
       "365   5.591572  0.456008          1.0                  10     None   \n",
       "366  12.426828  0.919834          0.0                   7     None   \n",
       "367   5.414029  0.755402          1.0                   7     None   \n",
       "\n",
       "     [DCX] (nM)                 Parameter Moment  \n",
       "0             0  Growth Rate ($\\mu$m/min)   Mean  \n",
       "1             0  Growth Rate ($\\mu$m/min)    Std  \n",
       "2             0  Growth Rate ($\\mu$m/min)   Mean  \n",
       "3             0  Growth Rate ($\\mu$m/min)    Std  \n",
       "4             0  Growth Rate ($\\mu$m/min)   Mean  \n",
       "..          ...                       ...    ...  \n",
       "363           0  Shrink Rate ($\\mu$m/min)    Std  \n",
       "364           0  Shrink Rate ($\\mu$m/min)   Mean  \n",
       "365           0  Shrink Rate ($\\mu$m/min)    Std  \n",
       "366           0  Shrink Rate ($\\mu$m/min)   Mean  \n",
       "367           0  Shrink Rate ($\\mu$m/min)    Std  \n",
       "\n",
       "[368 rows x 8 columns]"
      ]
     },
     "execution_count": 6,
     "metadata": {},
     "output_type": "execute_result"
    }
   ],
   "source": [
    "askFitParam = filedialog.askopenfilename() # show an \"Open\" dialog box and return the path to the selected file\n",
    "ResultFit = pd.read_csv(askFitParam, encoding='utf-8')\n",
    "ResultFit[Type] = ResultFit[Type].fillna('None')\n",
    "ResultFit"
   ]
  },
  {
   "cell_type": "code",
   "execution_count": 7,
   "id": "d7bdfc79-a6e2-4ce4-950f-7860b6883421",
   "metadata": {
    "tags": []
   },
   "outputs": [
    {
     "data": {
      "text/plain": [
       "WindowsPath('C:/Users/sofia/OneDrive - McGill University/EJCB2023/Sofia_EJCB_Figs/Data/2023-08-08_fitdata-final')"
      ]
     },
     "execution_count": 7,
     "metadata": {},
     "output_type": "execute_result"
    }
   ],
   "source": [
    "newmydir = Path(askFitParam).parent\n",
    "newmydir"
   ]
  },
  {
   "cell_type": "markdown",
   "id": "be611b4d-7836-4575-8651-a470a57a4d99",
   "metadata": {},
   "source": [
    "## dcx EQ FIT ##"
   ]
  },
  {
   "cell_type": "code",
   "execution_count": 24,
   "id": "9f5e9e41-3e72-4e4f-a400-92fc2494146a",
   "metadata": {
    "tags": []
   },
   "outputs": [],
   "source": [
    "def pickdata(dcxtype, parameterNo):\n",
    "    dcxtype_DF = ResultFit[(ResultFit[tubulin]==6) & (ResultFit[Type]==dcxtype) & (ResultFit['Moment']=='Mean')]\n",
    "\n",
    "    parameterMeanDF = dcxtype_DF[dcxtype_DF['Parameter']==parameters[parameterNo]]\n",
    "\n",
    "    x = parameterMeanDF[DCXconc].values\n",
    "    y = parameterMeanDF['Fit'].values\n",
    "    yerr = parameterMeanDF['SE'].values\n",
    "    \n",
    "    return x,y,yerr"
   ]
  },
  {
   "cell_type": "code",
   "execution_count": 34,
   "id": "972dbf5a-2a34-4503-aa99-5575c39ef5b9",
   "metadata": {
    "tags": []
   },
   "outputs": [
    {
     "data": {
      "text/plain": [
       "(array([1.56756522e-04, 4.00706260e-01]), array([0.00018496, 0.02068445]))"
      ]
     },
     "execution_count": 34,
     "metadata": {},
     "output_type": "execute_result"
    }
   ],
   "source": [
    "x,y,yerr = pickdata('WT', 0)\n",
    "x0,y0,yerr0 = pickdata('None', 0)\n",
    "\n",
    "X = [*x0,*x]\n",
    "Y = [*y0,*y]\n",
    "# X=x\n",
    "# Y=y\n",
    "\n",
    "p, cov = np.polyfit(X,Y, 1, cov=True)\n",
    "var = np.diagonal(cov) #Refer [3]\n",
    "SElin = np.sqrt(var) #Refer [4]\n",
    "mG,bG=p\n",
    "p, SElin"
   ]
  },
  {
   "cell_type": "code",
   "execution_count": 35,
   "id": "3434d594-fa1b-4f6d-ab21-fe9f8d14b543",
   "metadata": {
    "tags": []
   },
   "outputs": [
    {
     "data": {
      "text/plain": [
       "0.15223502329376337"
      ]
     },
     "execution_count": 35,
     "metadata": {},
     "output_type": "execute_result"
    }
   ],
   "source": [
    "R2S(Y,np.multiply(X,p[0])+p[1])"
   ]
  },
  {
   "cell_type": "code",
   "execution_count": 36,
   "id": "367e32af-391d-436b-aac1-bf3ee4af24af",
   "metadata": {
    "tags": []
   },
   "outputs": [
    {
     "data": {
      "text/plain": [
       "(array([3.56732513e-04, 4.34344271e-01]), array([0.00013967, 0.01561943]))"
      ]
     },
     "execution_count": 36,
     "metadata": {},
     "output_type": "execute_result"
    }
   ],
   "source": [
    "x,y,yerr = pickdata('R76S', 0)\n",
    "x0,y0,yerr0 = pickdata('None', 0)\n",
    "\n",
    "X = [*x0,*x]\n",
    "Y = [*y0,*y]\n",
    "# X=x\n",
    "# Y=y\n",
    "\n",
    "p76, cov = np.polyfit(X,Y, 1, cov=True)\n",
    "var = np.diagonal(cov) #Refer [3]\n",
    "SElin76 = np.sqrt(var) #Refer [4]\n",
    "\n",
    "p76, SElin76"
   ]
  },
  {
   "cell_type": "code",
   "execution_count": 37,
   "id": "fe0d777a-f627-4771-a8d5-3f77e8306f35",
   "metadata": {
    "tags": []
   },
   "outputs": [
    {
     "data": {
      "text/plain": [
       "0.6199039098325785"
      ]
     },
     "execution_count": 37,
     "metadata": {},
     "output_type": "execute_result"
    }
   ],
   "source": [
    "R2S(Y,np.multiply(X,p76[0])+p76[1])"
   ]
  },
  {
   "cell_type": "code",
   "execution_count": 38,
   "id": "f7b9b2c5-fc88-4c49-b7d2-bc7a347bce24",
   "metadata": {
    "tags": []
   },
   "outputs": [
    {
     "data": {
      "text/plain": [
       "(array([-4.37247026e-05,  4.08699967e-01]), array([0.00019631, 0.02195383]))"
      ]
     },
     "execution_count": 38,
     "metadata": {},
     "output_type": "execute_result"
    }
   ],
   "source": [
    "x,y,yerr = pickdata('P191R', 0)\n",
    "x0,y0,yerr0 = pickdata('None', 0)\n",
    "\n",
    "X = [*x0,*x]\n",
    "Y = [*y0,*y]\n",
    "# X=x\n",
    "# Y=y\n",
    "\n",
    "p191, cov = np.polyfit(X,Y, 1, cov=True)\n",
    "var = np.diagonal(cov) #Refer [3]\n",
    "SElin191 = np.sqrt(var) #Refer [4]\n",
    "\n",
    "p191, SElin191"
   ]
  },
  {
   "cell_type": "code",
   "execution_count": 39,
   "id": "046d4a8f-4e50-4a8c-90a1-21a593ae976a",
   "metadata": {
    "tags": []
   },
   "outputs": [
    {
     "data": {
      "text/plain": [
       "0.012250549908347175"
      ]
     },
     "execution_count": 39,
     "metadata": {},
     "output_type": "execute_result"
    }
   ],
   "source": [
    "R2S(Y,np.multiply(X,p191[0])+p191[1])"
   ]
  },
  {
   "cell_type": "markdown",
   "id": "42789025-b038-4446-9f49-3f28af210199",
   "metadata": {},
   "source": [
    "#  PLOT DATA  #"
   ]
  },
  {
   "cell_type": "code",
   "execution_count": 43,
   "id": "6351d75f-6bf7-49ac-bccf-6005f0c2dbe6",
   "metadata": {
    "tags": []
   },
   "outputs": [
    {
     "ename": "NameError",
     "evalue": "name 'data' is not defined",
     "output_type": "error",
     "traceback": [
      "\u001b[1;31m---------------------------------------------------------------------------\u001b[0m",
      "\u001b[1;31mNameError\u001b[0m                                 Traceback (most recent call last)",
      "Cell \u001b[1;32mIn[43], line 31\u001b[0m\n\u001b[0;32m     25\u001b[0m count \u001b[38;5;241m=\u001b[39m \u001b[38;5;241m0\u001b[39m\n\u001b[0;32m     27\u001b[0m \u001b[38;5;66;03m#palette = [grey,list(map(Color.get_hex,DC1color))[1],list(map(Color.get_hex,DC2color))[1],cyan] #+ list(map(Color.get_hex,DC1color)) + list(map(Color.get_hex,DC2color)) + [green,cyan]\u001b[39;00m\n\u001b[0;32m     28\u001b[0m \u001b[38;5;66;03m#palette = [grey,cyan]\u001b[39;00m\n\u001b[0;32m     29\u001b[0m \u001b[38;5;66;03m#palette = [grey,pink00,orange00,cyan]\u001b[39;00m\n\u001b[1;32m---> 31\u001b[0m \u001b[38;5;28;01mfor\u001b[39;00m dcxtype \u001b[38;5;129;01min\u001b[39;00m \u001b[43mdata\u001b[49m[Type]\u001b[38;5;241m.\u001b[39munique(): \u001b[38;5;66;03m#['None','WT']:#ResultFit[Type].unique(): #data[Type].unique():  #['None','R76S','P191R','WT']\u001b[39;00m\n\u001b[0;32m     33\u001b[0m     dcxtype_DF \u001b[38;5;241m=\u001b[39m ResultFit[(ResultFit[Type]\u001b[38;5;241m==\u001b[39mdcxtype) \u001b[38;5;241m&\u001b[39m (ResultFit[\u001b[38;5;124m'\u001b[39m\u001b[38;5;124mMoment\u001b[39m\u001b[38;5;124m'\u001b[39m]\u001b[38;5;241m==\u001b[39m\u001b[38;5;124m'\u001b[39m\u001b[38;5;124mMean\u001b[39m\u001b[38;5;124m'\u001b[39m)\u001b[38;5;241m&\u001b[39m (ResultFit[tubulin]\u001b[38;5;241m==\u001b[39m\u001b[38;5;241m6\u001b[39m)]\n\u001b[0;32m     35\u001b[0m     c\u001b[38;5;241m=\u001b[39m\u001b[38;5;241m0\u001b[39m\n",
      "\u001b[1;31mNameError\u001b[0m: name 'data' is not defined"
     ]
    },
    {
     "data": {
      "image/png": "[encoded data removed]",
      "text/plain": [
       "<Figure size 1125x1075 with 4 Axes>"
      ]
     },
     "metadata": {},
     "output_type": "display_data"
    }
   ],
   "source": [
    "scattersize = 9\n",
    "cap = 5\n",
    "\n",
    "parameters = [GrowthRate,TimeToNucleate,Lifetime,ShrinkageRate]\n",
    "titles = ('Growth','Nucleation','Lifetime','Shrinkage Rate')\n",
    "ylables = (GrowthRate,TimeToNucleate,Lifetime,ShrinkageRate)\n",
    "\n",
    "fig, ax = plt.subplots(2,2,figsize=(11.25,10.75))\n",
    "\n",
    "linx = np.arange(0, 230, 1)\n",
    "\n",
    "ax[0][0].plot(linx, linx*p[0]+p[1] ,color = cyan, lw=3,ls= '-',alpha = 0.5)\n",
    "# ax[0][0].plot(linx, linx*p76[0]+p76[1] ,color = pink00, lw=3,ls= '-',alpha = 0.5)\n",
    "# ax[0][0].plot(linx, linx*p191[0]+p191[1] ,color = orange00, lw=3,ls= '-',alpha = 0.5)\n",
    "# ax[1][0].plot(linx, hillEQ(linx,C1L, C2L),color = cyan, lw=3,ls= '-',alpha = 0.5)\n",
    "# ax[1][0].plot(linx, michaelis_menten(linx,coeff),color = grey, lw=3,ls= '-',alpha = 0.5)\n",
    "\n",
    "# ax[0][1].plot(linx, hillEQ_inv(linx, C1T, C2T) ,color = cyan, lw=3,ls= '-',alpha = 0.5)\n",
    "# ax[0][1].plot(linx, MMEQ_inv(linx, coeffMMN) ,color = grey, lw=3,ls= '-',alpha = 0.5)\n",
    "# # linx = np.arange(35, 230, 1)\n",
    "# ax[1][0].plot(linx, linx*mL76+bL76 ,color = '#e468b8', lw=3,ls= '-',alpha = 0.5)\n",
    "# ax[1][0].plot(linx, linx*mL191+bL191 ,color = '#ff8341', lw=3,ls= '-',alpha = 0.5)\n",
    "\n",
    "\n",
    "count = 0\n",
    "\n",
    "#palette = [grey,list(map(Color.get_hex,DC1color))[1],list(map(Color.get_hex,DC2color))[1],cyan] #+ list(map(Color.get_hex,DC1color)) + list(map(Color.get_hex,DC2color)) + [green,cyan]\n",
    "#palette = [grey,cyan]\n",
    "#palette = [grey,pink00,orange00,cyan]\n",
    "\n",
    "for dcxtype in data[Type].unique(): #['None','WT']:#ResultFit[Type].unique(): #data[Type].unique():  #['None','R76S','P191R','WT']\n",
    "    \n",
    "    dcxtype_DF = ResultFit[(ResultFit[Type]==dcxtype) & (ResultFit['Moment']=='Mean')& (ResultFit[tubulin]==6)]\n",
    "    \n",
    "    c=0\n",
    "    for i in np.arange(len(ax)):\n",
    "        for j in np.arange(len(ax)):\n",
    "    \n",
    "            parameterMeanDF = dcxtype_DF[dcxtype_DF['Parameter']==parameters[c]]\n",
    "\n",
    "            x = parameterMeanDF[DCXconc].values\n",
    "            y = parameterMeanDF['Fit'].values\n",
    "            yerr = parameterMeanDF['SE'].values\n",
    "            \n",
    "            if dcxtype == 'None' or  dcxtype == 'WT':\n",
    "\n",
    "                ax[i][j].errorbar(x , y , yerr= yerr , fmt=' ',marker='o', markersize=scattersize,capsize = cap,\n",
    "                              markeredgewidth=4,elinewidth=3,color=palette[count], alpha = 1)\n",
    "            \n",
    "            else:\n",
    "                ax[i][j].errorbar(x , y , yerr= yerr , fmt=' ',marker='o', markersize=scattersize,capsize = cap,\n",
    "                              markeredgewidth=4,elinewidth=3,color=palette[count], alpha = 0.80)\n",
    "\n",
    "            c += 1\n",
    "\n",
    "    count += 1\n",
    "\n",
    "ax[0][0].set_ylim(0,1)\n",
    "ax[1][0].set_ylim(0,15)\n",
    "ax[0][1].set_ylim(0,10)\n",
    "ax[1][1].set_ylim(0,15)\n",
    "\n",
    "\n",
    "# linx = np.arange(30, 230, 1)\n",
    "# ax[1][1].plot(linx, linx*mS+bS,color = cyan, lw=3,ls= '-',alpha = 0.5)\n",
    "\n",
    "count = 0\n",
    "for i in np.arange(len(ax)):\n",
    "    for j in np.arange(len(ax)):\n",
    "    \n",
    "        ax[i][j].set_xlim(-10,250)\n",
    "        ax[i][j].set_xlabel(DCXconc)\n",
    "        ax[i][j].set_xticks(np.arange(0, 251, 50))\n",
    "        ax[i][j].set_ylabel(ylables[count])\n",
    "        ax[i][j].spines['right'].set_visible(False)\n",
    "        ax[i][j].spines['top'].set_visible(False)\n",
    "        ax[i][j].spines['left'].set_lw(3)\n",
    "        ax[i][j].spines['bottom'].set_lw(3)\n",
    "        ax[i][j].tick_params(axis='both', width = 3.5, length = 7)\n",
    "        #ax[i][1].legend((Type_order),loc='upper right',title='DCX Type')\n",
    "        #ax[i][j].set_title(titles[count])\n",
    "        \n",
    "        count += 1\n",
    "\n",
    "#ax[0][0].legend((Type_order),loc='upper right',title='DCX Type')\n",
    "sns.set_context(\"poster\", font_scale=1, rc={\"lines.linewidth\":3.0})\n",
    "plt.tight_layout()\n",
    "\n",
    "# plt.savefig(newmydir/('dynamics_WT_growth'+date+'.svg'),backend='Cairo')"
   ]
  },
  {
   "cell_type": "code",
   "execution_count": 49,
   "id": "c41cafcd-9a28-4fa9-86b0-93a76884c209",
   "metadata": {
    "tags": []
   },
   "outputs": [
    {
     "data": {
      "text/plain": [
       "WindowsPath('C:/Users/sofia/OneDrive - McGill University/EJCB2023/Sofia_EJCB_Figs/Data/2023-08-08_fitdata-final')"
      ]
     },
     "execution_count": 49,
     "metadata": {},
     "output_type": "execute_result"
    }
   ],
   "source": [
    "newmydir"
   ]
  }
 ],
 "metadata": {
  "kernelspec": {
   "display_name": "Python 3 (ipykernel)",
   "language": "python",
   "name": "python3"
  },
  "language_info": {
   "codemirror_mode": {
    "name": "ipython",
    "version": 3
   },
   "file_extension": ".py",
   "mimetype": "text/x-python",
   "name": "python",
   "nbconvert_exporter": "python",
   "pygments_lexer": "ipython3",
   "version": "3.11.5"
  }
 },
 "nbformat": 4,
 "nbformat_minor": 5
}
