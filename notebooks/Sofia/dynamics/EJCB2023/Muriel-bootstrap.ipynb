{
 "cells": [
  {
   "cell_type": "code",
   "execution_count": 1,
   "metadata": {
    "tags": []
   },
   "outputs": [],
   "source": [
    "import numpy as np\n",
    "import seaborn as sns\n",
    "import matplotlib.pyplot as plt\n",
    "import csv\n",
    "import pandas as pd\n",
    "from pandas.api.types import CategoricalDtype\n",
    "import scipy as sp\n",
    "from pathlib import Path\n",
    "import tkinter as tk\n",
    "from tkinter import filedialog\n",
    "import itertools\n",
    "from colour import Color\n",
    "from datetime import date\n",
    "from scipy.stats import bootstrap\n",
    "from statsmodels.stats.weightstats import ztest as ztest"
   ]
  },
  {
   "cell_type": "code",
   "execution_count": 2,
   "metadata": {
    "tags": []
   },
   "outputs": [
    {
     "name": "stdout",
     "output_type": "stream",
     "text": [
      "Today's date: 2023-08-31\n"
     ]
    },
    {
     "data": {
      "text/plain": [
       "'2023-08-31'"
      ]
     },
     "execution_count": 2,
     "metadata": {},
     "output_type": "execute_result"
    }
   ],
   "source": [
    "today = date.today()\n",
    "print(\"Today's date:\", today)\n",
    "date = str(today)\n",
    "date"
   ]
  },
  {
   "cell_type": "code",
   "execution_count": 3,
   "metadata": {
    "tags": []
   },
   "outputs": [
    {
     "data": {
      "text/html": [
       "<div>\n",
       "<style scoped>\n",
       "    .dataframe tbody tr th:only-of-type {\n",
       "        vertical-align: middle;\n",
       "    }\n",
       "\n",
       "    .dataframe tbody tr th {\n",
       "        vertical-align: top;\n",
       "    }\n",
       "\n",
       "    .dataframe thead th {\n",
       "        text-align: right;\n",
       "    }\n",
       "</style>\n",
       "<table border=\"1\" class=\"dataframe\">\n",
       "  <thead>\n",
       "    <tr style=\"text-align: right;\">\n",
       "      <th></th>\n",
       "      <th>EXP_ID</th>\n",
       "      <th>CONDITION</th>\n",
       "      <th>TRACK_ID</th>\n",
       "      <th>TRACK_MEAN_SPEED (um/min)</th>\n",
       "      <th>TRACK_MAX_SPEED (um/min)</th>\n",
       "      <th>TRACK_DURATION (min)</th>\n",
       "      <th>TRACK_DISPLACEMENT (um)</th>\n",
       "      <th>TOTAL_DISTANCE_TRAVELED (um)</th>\n",
       "      <th>CONFINEMENT_RATIO</th>\n",
       "      <th>INTERVAL (min)</th>\n",
       "    </tr>\n",
       "  </thead>\n",
       "  <tbody>\n",
       "    <tr>\n",
       "      <th>0</th>\n",
       "      <td>20230803</td>\n",
       "      <td>Control</td>\n",
       "      <td>0</td>\n",
       "      <td>0.095340</td>\n",
       "      <td>0.272400</td>\n",
       "      <td>65.000007</td>\n",
       "      <td>0.681000</td>\n",
       "      <td>4.767003</td>\n",
       "      <td>0.142857</td>\n",
       "      <td>5</td>\n",
       "    </tr>\n",
       "    <tr>\n",
       "      <th>1</th>\n",
       "      <td>20230803</td>\n",
       "      <td>Control</td>\n",
       "      <td>1</td>\n",
       "      <td>0.190680</td>\n",
       "      <td>0.272400</td>\n",
       "      <td>25.000003</td>\n",
       "      <td>3.405002</td>\n",
       "      <td>4.767003</td>\n",
       "      <td>0.714286</td>\n",
       "      <td>5</td>\n",
       "    </tr>\n",
       "    <tr>\n",
       "      <th>2</th>\n",
       "      <td>20230803</td>\n",
       "      <td>Control</td>\n",
       "      <td>2</td>\n",
       "      <td>0.203652</td>\n",
       "      <td>0.799816</td>\n",
       "      <td>300.000034</td>\n",
       "      <td>3.668367</td>\n",
       "      <td>61.095628</td>\n",
       "      <td>0.060043</td>\n",
       "      <td>5</td>\n",
       "    </tr>\n",
       "    <tr>\n",
       "      <th>3</th>\n",
       "      <td>20230803</td>\n",
       "      <td>Control</td>\n",
       "      <td>3</td>\n",
       "      <td>0.145696</td>\n",
       "      <td>0.359580</td>\n",
       "      <td>300.000034</td>\n",
       "      <td>4.823901</td>\n",
       "      <td>43.708789</td>\n",
       "      <td>0.110365</td>\n",
       "      <td>5</td>\n",
       "    </tr>\n",
       "    <tr>\n",
       "      <th>4</th>\n",
       "      <td>20230803</td>\n",
       "      <td>Control</td>\n",
       "      <td>4</td>\n",
       "      <td>0.261398</td>\n",
       "      <td>0.738912</td>\n",
       "      <td>85.000010</td>\n",
       "      <td>2.749551</td>\n",
       "      <td>22.218820</td>\n",
       "      <td>0.123749</td>\n",
       "      <td>5</td>\n",
       "    </tr>\n",
       "    <tr>\n",
       "      <th>...</th>\n",
       "      <td>...</td>\n",
       "      <td>...</td>\n",
       "      <td>...</td>\n",
       "      <td>...</td>\n",
       "      <td>...</td>\n",
       "      <td>...</td>\n",
       "      <td>...</td>\n",
       "      <td>...</td>\n",
       "      <td>...</td>\n",
       "      <td>...</td>\n",
       "    </tr>\n",
       "    <tr>\n",
       "      <th>48190</th>\n",
       "      <td>20230817</td>\n",
       "      <td>Trichostatin 1uM</td>\n",
       "      <td>89</td>\n",
       "      <td>0.877320</td>\n",
       "      <td>1.428091</td>\n",
       "      <td>20.000000</td>\n",
       "      <td>1.231369</td>\n",
       "      <td>17.546406</td>\n",
       "      <td>0.070178</td>\n",
       "      <td>5</td>\n",
       "    </tr>\n",
       "    <tr>\n",
       "      <th>48191</th>\n",
       "      <td>20230817</td>\n",
       "      <td>Trichostatin 1uM</td>\n",
       "      <td>90</td>\n",
       "      <td>1.546515</td>\n",
       "      <td>3.733446</td>\n",
       "      <td>15.000000</td>\n",
       "      <td>14.888366</td>\n",
       "      <td>23.197726</td>\n",
       "      <td>0.641803</td>\n",
       "      <td>5</td>\n",
       "    </tr>\n",
       "    <tr>\n",
       "      <th>48192</th>\n",
       "      <td>20230817</td>\n",
       "      <td>Trichostatin 1uM</td>\n",
       "      <td>91</td>\n",
       "      <td>0.837844</td>\n",
       "      <td>0.844755</td>\n",
       "      <td>10.000000</td>\n",
       "      <td>6.454361</td>\n",
       "      <td>8.378436</td>\n",
       "      <td>0.770354</td>\n",
       "      <td>5</td>\n",
       "    </tr>\n",
       "    <tr>\n",
       "      <th>48193</th>\n",
       "      <td>20230817</td>\n",
       "      <td>Trichostatin 1uM</td>\n",
       "      <td>92</td>\n",
       "      <td>0.670108</td>\n",
       "      <td>0.670108</td>\n",
       "      <td>5.000000</td>\n",
       "      <td>3.350539</td>\n",
       "      <td>3.350539</td>\n",
       "      <td>1.000000</td>\n",
       "      <td>5</td>\n",
       "    </tr>\n",
       "    <tr>\n",
       "      <th>48194</th>\n",
       "      <td>20230817</td>\n",
       "      <td>Trichostatin 1uM</td>\n",
       "      <td>93</td>\n",
       "      <td>0.846110</td>\n",
       "      <td>0.846110</td>\n",
       "      <td>5.000000</td>\n",
       "      <td>4.230552</td>\n",
       "      <td>4.230552</td>\n",
       "      <td>1.000000</td>\n",
       "      <td>5</td>\n",
       "    </tr>\n",
       "  </tbody>\n",
       "</table>\n",
       "<p>48195 rows × 10 columns</p>\n",
       "</div>"
      ],
      "text/plain": [
       "         EXP_ID         CONDITION  TRACK_ID  TRACK_MEAN_SPEED (um/min)  \\\n",
       "0      20230803           Control         0                   0.095340   \n",
       "1      20230803           Control         1                   0.190680   \n",
       "2      20230803           Control         2                   0.203652   \n",
       "3      20230803           Control         3                   0.145696   \n",
       "4      20230803           Control         4                   0.261398   \n",
       "...         ...               ...       ...                        ...   \n",
       "48190  20230817  Trichostatin 1uM        89                   0.877320   \n",
       "48191  20230817  Trichostatin 1uM        90                   1.546515   \n",
       "48192  20230817  Trichostatin 1uM        91                   0.837844   \n",
       "48193  20230817  Trichostatin 1uM        92                   0.670108   \n",
       "48194  20230817  Trichostatin 1uM        93                   0.846110   \n",
       "\n",
       "       TRACK_MAX_SPEED (um/min)  TRACK_DURATION (min)  \\\n",
       "0                      0.272400             65.000007   \n",
       "1                      0.272400             25.000003   \n",
       "2                      0.799816            300.000034   \n",
       "3                      0.359580            300.000034   \n",
       "4                      0.738912             85.000010   \n",
       "...                         ...                   ...   \n",
       "48190                  1.428091             20.000000   \n",
       "48191                  3.733446             15.000000   \n",
       "48192                  0.844755             10.000000   \n",
       "48193                  0.670108              5.000000   \n",
       "48194                  0.846110              5.000000   \n",
       "\n",
       "       TRACK_DISPLACEMENT (um)  TOTAL_DISTANCE_TRAVELED (um)  \\\n",
       "0                     0.681000                      4.767003   \n",
       "1                     3.405002                      4.767003   \n",
       "2                     3.668367                     61.095628   \n",
       "3                     4.823901                     43.708789   \n",
       "4                     2.749551                     22.218820   \n",
       "...                        ...                           ...   \n",
       "48190                 1.231369                     17.546406   \n",
       "48191                14.888366                     23.197726   \n",
       "48192                 6.454361                      8.378436   \n",
       "48193                 3.350539                      3.350539   \n",
       "48194                 4.230552                      4.230552   \n",
       "\n",
       "       CONFINEMENT_RATIO  INTERVAL (min)  \n",
       "0               0.142857               5  \n",
       "1               0.714286               5  \n",
       "2               0.060043               5  \n",
       "3               0.110365               5  \n",
       "4               0.123749               5  \n",
       "...                  ...             ...  \n",
       "48190           0.070178               5  \n",
       "48191           0.641803               5  \n",
       "48192           0.770354               5  \n",
       "48193           1.000000               5  \n",
       "48194           1.000000               5  \n",
       "\n",
       "[48195 rows x 10 columns]"
      ]
     },
     "execution_count": 3,
     "metadata": {},
     "output_type": "execute_result"
    }
   ],
   "source": [
    "askmastersheet = filedialog.askopenfilename() # show an \"Open\" dialog box and return the path to the selected file\n",
    "data = pd.read_csv(askmastersheet, encoding='utf-8')\n",
    "data "
   ]
  },
  {
   "cell_type": "code",
   "execution_count": 6,
   "metadata": {
    "tags": []
   },
   "outputs": [
    {
     "data": {
      "text/plain": [
       "array(['Control', 'DZA 100nM', 'Spastazoline 1uM', 'Taxol 100nM',\n",
       "       'Trichostatin 100nM', 'DZA 1uM', 'Spastazoline 10uM', 'Taxol 1uM',\n",
       "       'Trichostatin 1uM'], dtype=object)"
      ]
     },
     "execution_count": 6,
     "metadata": {},
     "output_type": "execute_result"
    }
   ],
   "source": [
    "data['CONDITION'].unique()"
   ]
  },
  {
   "cell_type": "code",
   "execution_count": 9,
   "metadata": {
    "tags": []
   },
   "outputs": [],
   "source": [
    "rng = np.random.default_rng()"
   ]
  },
  {
   "cell_type": "code",
   "execution_count": 10,
   "metadata": {
    "tags": []
   },
   "outputs": [],
   "source": [
    "def bootstrap_ztest(data,parameter,statistic): #parameter e.g. 'TRACK_MEAN_SPEED (um/min)' #statistic e.g. np.mean\n",
    "    \n",
    "    data_ctl =  (data[(data['CONDITION']=='Control')][parameter],)\n",
    "    res_ctl = bootstrap(data_ctl, statistic, confidence_level=0.9, n_resamples=1000,\n",
    "                random_state=rng)\n",
    "    df = pd.DataFrame(columns=[] , index=[])\n",
    "    \n",
    "    for condition in data['CONDITION'].unique():\n",
    "        data_test = (data[(data['CONDITION']==condition)][parameter],)\n",
    "        res_test = bootstrap(data_test, statistic, confidence_level=0.9, n_resamples=1000,\n",
    "                random_state=rng)\n",
    "        \n",
    "        stat, pvalue = ztest(res_ctl.bootstrap_distribution, res_test.bootstrap_distribution, value=0)\\\n",
    "        \n",
    "        star = 0\n",
    "    \n",
    "        if pvalue > 0.05:\n",
    "            star = 0\n",
    "        if pvalue <= 0.05:\n",
    "            star = 1\n",
    "        if pvalue <= 0.01:\n",
    "            star = 2\n",
    "        if pvalue <= 0.001:\n",
    "            star = 3\n",
    "        if pvalue <= 0.0001:\n",
    "            star = 4\n",
    "            \n",
    "        d = {'Bootstrap': res_test.bootstrap_distribution}\n",
    "        df0 = pd.DataFrame(data=d)\n",
    "      \n",
    "        df0['CONDITION'] = condition\n",
    "        df0['Mean of Statistic'] = res_test.bootstrap_distribution.mean()\n",
    "        #df0['Confidence Interval'] = res_test.confidence_interval\n",
    "        df0['Z-test p-value'] = pvalue\n",
    "        df0['Star'] = star\n",
    "        \n",
    "        df = pd.concat([df, df0], sort=False)\n",
    "    \n",
    "    return df"
   ]
  },
  {
   "cell_type": "code",
   "execution_count": 11,
   "metadata": {
    "tags": []
   },
   "outputs": [
    {
     "data": {
      "text/html": [
       "<div>\n",
       "<style scoped>\n",
       "    .dataframe tbody tr th:only-of-type {\n",
       "        vertical-align: middle;\n",
       "    }\n",
       "\n",
       "    .dataframe tbody tr th {\n",
       "        vertical-align: top;\n",
       "    }\n",
       "\n",
       "    .dataframe thead th {\n",
       "        text-align: right;\n",
       "    }\n",
       "</style>\n",
       "<table border=\"1\" class=\"dataframe\">\n",
       "  <thead>\n",
       "    <tr style=\"text-align: right;\">\n",
       "      <th></th>\n",
       "      <th>Bootstrap</th>\n",
       "      <th>CONDITION</th>\n",
       "      <th>Mean of Statistic</th>\n",
       "      <th>Z-test p-value</th>\n",
       "      <th>Star</th>\n",
       "    </tr>\n",
       "  </thead>\n",
       "  <tbody>\n",
       "    <tr>\n",
       "      <th>0</th>\n",
       "      <td>0.579544</td>\n",
       "      <td>Control</td>\n",
       "      <td>0.578297</td>\n",
       "      <td>2.804096e-01</td>\n",
       "      <td>0</td>\n",
       "    </tr>\n",
       "    <tr>\n",
       "      <th>1</th>\n",
       "      <td>0.580636</td>\n",
       "      <td>Control</td>\n",
       "      <td>0.578297</td>\n",
       "      <td>2.804096e-01</td>\n",
       "      <td>0</td>\n",
       "    </tr>\n",
       "    <tr>\n",
       "      <th>2</th>\n",
       "      <td>0.571908</td>\n",
       "      <td>Control</td>\n",
       "      <td>0.578297</td>\n",
       "      <td>2.804096e-01</td>\n",
       "      <td>0</td>\n",
       "    </tr>\n",
       "    <tr>\n",
       "      <th>3</th>\n",
       "      <td>0.579236</td>\n",
       "      <td>Control</td>\n",
       "      <td>0.578297</td>\n",
       "      <td>2.804096e-01</td>\n",
       "      <td>0</td>\n",
       "    </tr>\n",
       "    <tr>\n",
       "      <th>4</th>\n",
       "      <td>0.586231</td>\n",
       "      <td>Control</td>\n",
       "      <td>0.578297</td>\n",
       "      <td>2.804096e-01</td>\n",
       "      <td>0</td>\n",
       "    </tr>\n",
       "    <tr>\n",
       "      <th>...</th>\n",
       "      <td>...</td>\n",
       "      <td>...</td>\n",
       "      <td>...</td>\n",
       "      <td>...</td>\n",
       "      <td>...</td>\n",
       "    </tr>\n",
       "    <tr>\n",
       "      <th>995</th>\n",
       "      <td>0.581153</td>\n",
       "      <td>Trichostatin 1uM</td>\n",
       "      <td>0.570726</td>\n",
       "      <td>5.008020e-96</td>\n",
       "      <td>4</td>\n",
       "    </tr>\n",
       "    <tr>\n",
       "      <th>996</th>\n",
       "      <td>0.585088</td>\n",
       "      <td>Trichostatin 1uM</td>\n",
       "      <td>0.570726</td>\n",
       "      <td>5.008020e-96</td>\n",
       "      <td>4</td>\n",
       "    </tr>\n",
       "    <tr>\n",
       "      <th>997</th>\n",
       "      <td>0.585900</td>\n",
       "      <td>Trichostatin 1uM</td>\n",
       "      <td>0.570726</td>\n",
       "      <td>5.008020e-96</td>\n",
       "      <td>4</td>\n",
       "    </tr>\n",
       "    <tr>\n",
       "      <th>998</th>\n",
       "      <td>0.560867</td>\n",
       "      <td>Trichostatin 1uM</td>\n",
       "      <td>0.570726</td>\n",
       "      <td>5.008020e-96</td>\n",
       "      <td>4</td>\n",
       "    </tr>\n",
       "    <tr>\n",
       "      <th>999</th>\n",
       "      <td>0.590900</td>\n",
       "      <td>Trichostatin 1uM</td>\n",
       "      <td>0.570726</td>\n",
       "      <td>5.008020e-96</td>\n",
       "      <td>4</td>\n",
       "    </tr>\n",
       "  </tbody>\n",
       "</table>\n",
       "<p>9000 rows × 5 columns</p>\n",
       "</div>"
      ],
      "text/plain": [
       "     Bootstrap         CONDITION  Mean of Statistic  Z-test p-value  Star\n",
       "0     0.579544           Control           0.578297    2.804096e-01     0\n",
       "1     0.580636           Control           0.578297    2.804096e-01     0\n",
       "2     0.571908           Control           0.578297    2.804096e-01     0\n",
       "3     0.579236           Control           0.578297    2.804096e-01     0\n",
       "4     0.586231           Control           0.578297    2.804096e-01     0\n",
       "..         ...               ...                ...             ...   ...\n",
       "995   0.581153  Trichostatin 1uM           0.570726    5.008020e-96     4\n",
       "996   0.585088  Trichostatin 1uM           0.570726    5.008020e-96     4\n",
       "997   0.585900  Trichostatin 1uM           0.570726    5.008020e-96     4\n",
       "998   0.560867  Trichostatin 1uM           0.570726    5.008020e-96     4\n",
       "999   0.590900  Trichostatin 1uM           0.570726    5.008020e-96     4\n",
       "\n",
       "[9000 rows x 5 columns]"
      ]
     },
     "execution_count": 11,
     "metadata": {},
     "output_type": "execute_result"
    }
   ],
   "source": [
    "bootstrap_ztest(data,'TRACK_MEAN_SPEED (um/min)',np.mean)"
   ]
  },
  {
   "cell_type": "code",
   "execution_count": 12,
   "metadata": {
    "tags": []
   },
   "outputs": [],
   "source": [
    "speeddf = bootstrap_ztest(data,'TRACK_MEAN_SPEED (um/min)',np.median)"
   ]
  },
  {
   "cell_type": "code",
   "execution_count": 15,
   "metadata": {
    "tags": []
   },
   "outputs": [],
   "source": [
    "data_ctl =  data[(data['CONDITION']=='Control')]\n",
    "data_tx100 =  data[(data['CONDITION']=='Taxol 100nM')]\n",
    "data_dza =  data[(data['CONDITION']=='DZA 1uM')]"
   ]
  },
  {
   "cell_type": "code",
   "execution_count": 17,
   "metadata": {
    "tags": []
   },
   "outputs": [
    {
     "data": {
      "text/plain": [
       "(array([ 10.,   5.,  10.,  54.,  77.,  87., 120., 140., 138., 162., 163.,\n",
       "        153., 162., 152., 135., 141., 129., 131., 114., 100., 105.,  91.,\n",
       "         68.,  80.,  71.,  58.,  62.,  54.,  47.,  52.,  43.,  41.,  50.,\n",
       "         27.,  28.,  28.,  24.,  18.,  23.,  24.,  17.,  14.,  10.,  10.,\n",
       "         13.,  14.,   9.,   8.,  18.,   8.,   5.,   4.,   1.,   8.,   9.,\n",
       "          5.,   9.,   3.,   3.,   3.,   4.,   4.,   6.,   3.,   5.,   7.,\n",
       "          3.,   5.,   5.,   1.,   5.,   2.,   7.,   5.,   2.,   6.,   0.,\n",
       "          2.,   2.,   3.,   2.,   1.,   2.,   0.,   1.,   2.,   5.,   3.,\n",
       "          2.,   4.,   1.,   2.,   2.,   2.,   4.,   1.,   3.,   5.,   5.,\n",
       "          6.]),\n",
       " array([0.        , 0.03978994, 0.07957988, 0.11936981, 0.15915975,\n",
       "        0.19894969, 0.23873963, 0.27852956, 0.3183195 , 0.35810944,\n",
       "        0.39789938, 0.43768932, 0.47747925, 0.51726919, 0.55705913,\n",
       "        0.59684907, 0.636639  , 0.67642894, 0.71621888, 0.75600882,\n",
       "        0.79579875, 0.83558869, 0.87537863, 0.91516857, 0.95495851,\n",
       "        0.99474844, 1.03453838, 1.07432832, 1.11411826, 1.15390819,\n",
       "        1.19369813, 1.23348807, 1.27327801, 1.31306795, 1.35285788,\n",
       "        1.39264782, 1.43243776, 1.4722277 , 1.51201763, 1.55180757,\n",
       "        1.59159751, 1.63138745, 1.67117739, 1.71096732, 1.75075726,\n",
       "        1.7905472 , 1.83033714, 1.87012707, 1.90991701, 1.94970695,\n",
       "        1.98949689, 2.02928682, 2.06907676, 2.1088667 , 2.14865664,\n",
       "        2.18844658, 2.22823651, 2.26802645, 2.30781639, 2.34760633,\n",
       "        2.38739626, 2.4271862 , 2.46697614, 2.50676608, 2.54655602,\n",
       "        2.58634595, 2.62613589, 2.66592583, 2.70571577, 2.7455057 ,\n",
       "        2.78529564, 2.82508558, 2.86487552, 2.90466546, 2.94445539,\n",
       "        2.98424533, 3.02403527, 3.06382521, 3.10361514, 3.14340508,\n",
       "        3.18319502, 3.22298496, 3.26277489, 3.30256483, 3.34235477,\n",
       "        3.38214471, 3.42193465, 3.46172458, 3.50151452, 3.54130446,\n",
       "        3.5810944 , 3.62088433, 3.66067427, 3.70046421, 3.74025415,\n",
       "        3.78004409, 3.81983402, 3.85962396, 3.8994139 , 3.93920384,\n",
       "        3.97899377]),\n",
       " <BarContainer object of 100 artists>)"
      ]
     },
     "execution_count": 17,
     "metadata": {},
     "output_type": "execute_result"
    },
    {
     "data": {
      "image/png": "[encoded data removed]",
      "text/plain": [
       "<Figure size 640x480 with 1 Axes>"
      ]
     },
     "metadata": {},
     "output_type": "display_data"
    }
   ],
   "source": [
    "fig, ax = plt.subplots()\n",
    "ax.hist(data_ctl['TRACK_MEAN_SPEED (um/min)'], bins=100)\n",
    "ax.hist(data_tx100['TRACK_MEAN_SPEED (um/min)'], bins=100)\n",
    "ax.hist(data_dza['TRACK_MEAN_SPEED (um/min)'], bins=100)"
   ]
  },
  {
   "cell_type": "code",
   "execution_count": 134,
   "metadata": {
    "tags": []
   },
   "outputs": [],
   "source": [
    "data_ctl_speed = (data_ctl['TRACK_MEAN_SPEED (um/min)'],)\n",
    "res_ctl = bootstrap(data_ctl_speed, np.mean, confidence_level=0.9, n_resamples=100,\n",
    "                random_state=rng)"
   ]
  },
  {
   "cell_type": "code",
   "execution_count": 135,
   "metadata": {
    "tags": []
   },
   "outputs": [],
   "source": [
    "data_spa_speed = (data_spa['TRACK_MEAN_SPEED (um/min)'],)\n",
    "res_spa = bootstrap(data_spa_speed, np.mean, confidence_level=0.9, n_resamples=100,\n",
    "                random_state=rng)"
   ]
  },
  {
   "cell_type": "code",
   "execution_count": 136,
   "metadata": {
    "tags": []
   },
   "outputs": [],
   "source": [
    "data_tx100_speed = (data_tx100['TRACK_MEAN_SPEED (um/min)'],)\n",
    "res_tx100 = bootstrap(data_tx100_speed, np.mean, confidence_level=0.90, n_resamples=100,\n",
    "                random_state=rng)"
   ]
  },
  {
   "cell_type": "code",
   "execution_count": 137,
   "metadata": {
    "tags": []
   },
   "outputs": [
    {
     "data": {
      "image/png": "[encoded data removed]",
      "text/plain": [
       "<Figure size 640x480 with 1 Axes>"
      ]
     },
     "metadata": {},
     "output_type": "display_data"
    }
   ],
   "source": [
    "fig, ax = plt.subplots()\n",
    "ax.hist(res_ctl.bootstrap_distribution, bins=50)\n",
    "ax.hist(res_spa.bootstrap_distribution, bins=50)\n",
    "ax.hist(res_tx100.bootstrap_distribution, bins=50)\n",
    "ax.set_title('Bootstrap Distribution')\n",
    "ax.set_xlabel('statistic value')\n",
    "ax.set_ylabel('frequency')\n",
    "plt.show()"
   ]
  },
  {
   "cell_type": "code",
   "execution_count": 138,
   "metadata": {
    "tags": []
   },
   "outputs": [
    {
     "data": {
      "text/plain": [
       "(-21.02207102137657, 4.1205625919537e-98)"
      ]
     },
     "execution_count": 138,
     "metadata": {},
     "output_type": "execute_result"
    }
   ],
   "source": [
    "ztest(res_spa.bootstrap_distribution,res_tx100.bootstrap_distribution)"
   ]
  },
  {
   "cell_type": "code",
   "execution_count": 143,
   "metadata": {
    "tags": []
   },
   "outputs": [
    {
     "data": {
      "text/plain": [
       "(0.0, 1.0)"
      ]
     },
     "execution_count": 143,
     "metadata": {},
     "output_type": "execute_result"
    },
    {
     "data": {
      "image/png": "[encoded data removed]",
      "text/plain": [
       "<Figure size 1500x700 with 1 Axes>"
      ]
     },
     "metadata": {},
     "output_type": "display_data"
    }
   ],
   "source": [
    "fig, ax = plt.subplots(1,1,figsize=(15,7))\n",
    "sns.pointplot(data=data, x='CONDITION', y='TRACK_MEAN_SPEED (um/min)', errorbar = ('ci', 95), join = False,estimator='mean', n_boot=1000)\n",
    "ax.set_ylim(0,1)"
   ]
  },
  {
   "cell_type": "code",
   "execution_count": null,
   "metadata": {},
   "outputs": [],
   "source": []
  }
 ],
 "metadata": {
  "kernelspec": {
   "display_name": "Python 3 (ipykernel)",
   "language": "python",
   "name": "python3"
  },
  "language_info": {
   "codemirror_mode": {
    "name": "ipython",
    "version": 3
   },
   "file_extension": ".py",
   "mimetype": "text/x-python",
   "name": "python",
   "nbconvert_exporter": "python",
   "pygments_lexer": "ipython3",
   "version": "3.11.5"
  }
 },
 "nbformat": 4,
 "nbformat_minor": 4
}
