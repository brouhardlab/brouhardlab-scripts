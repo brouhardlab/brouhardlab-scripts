{
 "cells": [
  {
   "cell_type": "code",
   "execution_count": null,
   "id": "8f944936-1ed9-4729-95be-26c4ebe41992",
   "metadata": {},
   "outputs": [],
   "source": []
  },
  {
   "cell_type": "markdown",
   "id": "934ab328-6ea0-4ad0-9fc9-e4c623e6c9f9",
   "metadata": {},
   "source": [
    "# BIC = K*log(n) - n * log(R2/n) #\n",
    "http://faculty.washington.edu/yenchic/19A_stat535/Lec7_model.pdf"
   ]
  },
  {
   "cell_type": "markdown",
   "id": "0cee908d-1dd7-40dd-ba8c-bf8b148eb9dc",
   "metadata": {},
   "source": [
    "BIC d< 2: Weak evidence that Model 1 is superior to Model 2\n",
    "\n",
    "2 ≤ BIC d ≤ 6: Moderate evidence that Model 1 is superior\n",
    "\n",
    "6 < BIC d ≤ 10: Strong evidence that Model 1 is superior\n",
    "\n",
    "BIC d > 10: Very strong evidence that Model 1 is superior\n",
    "\n",
    "https://hea-www.harvard.edu/astrostat/Stat310_0910/dr_20100323_mle.pdf"
   ]
  },
  {
   "cell_type": "code",
   "execution_count": 99,
   "id": "9e7fddb3-54dd-4de3-9467-c5ba1149dfa3",
   "metadata": {
    "tags": []
   },
   "outputs": [],
   "source": [
    "def BIC(n,R2,k):\n",
    "    return  k * np.log(n) - n*np.log(R2/n) \n",
    "\n",
    "def AIC(n,R2,k):\n",
    "    return  2*k - n*np.log(R2/n) "
   ]
  },
  {
   "cell_type": "code",
   "execution_count": 108,
   "id": "699156f2-070b-406e-b2fa-ef0ba775d4f0",
   "metadata": {
    "tags": []
   },
   "outputs": [
    {
     "data": {
      "text/plain": [
       "-5.22605057260796"
      ]
     },
     "execution_count": 108,
     "metadata": {},
     "output_type": "execute_result"
    }
   ],
   "source": [
    "BIChill = BIC(40,R2hill,2)\n",
    "BICmm = BIC(40,R2mm,1)\n",
    "BIChill-BICmm"
   ]
  },
  {
   "cell_type": "code",
   "execution_count": 103,
   "id": "e12166fa-040c-4a17-97cc-b4800fdbdf2e",
   "metadata": {
    "tags": []
   },
   "outputs": [
    {
     "data": {
      "text/plain": [
       "(12.09232484114564, 11.206691094485876)"
      ]
     },
     "execution_count": 103,
     "metadata": {},
     "output_type": "execute_result"
    }
   ],
   "source": [
    "AIChill = AIC(5,R2hill,2)\n",
    "AICmm = AIC(5,R2mm,1)\n",
    "AIChill,AICmm"
   ]
  }
 ],
 "metadata": {
  "kernelspec": {
   "display_name": "Python 3 (ipykernel)",
   "language": "python",
   "name": "python3"
  },
  "language_info": {
   "codemirror_mode": {
    "name": "ipython",
    "version": 3
   },
   "file_extension": ".py",
   "mimetype": "text/x-python",
   "name": "python",
   "nbconvert_exporter": "python",
   "pygments_lexer": "ipython3",
   "version": "3.10.13"
  }
 },
 "nbformat": 4,
 "nbformat_minor": 5
}
