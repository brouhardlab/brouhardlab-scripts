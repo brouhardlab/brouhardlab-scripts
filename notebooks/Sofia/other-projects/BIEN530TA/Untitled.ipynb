{
 "cells": [
  {
   "cell_type": "code",
   "execution_count": 5,
   "id": "1f315d06-492f-42dd-96dc-e01223f86d60",
   "metadata": {
    "tags": []
   },
   "outputs": [],
   "source": [
    "import numpy as np"
   ]
  },
  {
   "cell_type": "code",
   "execution_count": 6,
   "id": "2c431620-52ea-449a-8c97-9217241ff1df",
   "metadata": {
    "tags": []
   },
   "outputs": [],
   "source": [
    "def mirror(f1,f2,dx):\n",
    "    return f1-np.square(f1/f2)*dx"
   ]
  },
  {
   "cell_type": "code",
   "execution_count": 7,
   "id": "1c66abc6-0bbf-4005-b7b6-60d0d5b46eec",
   "metadata": {
    "tags": []
   },
   "outputs": [
    {
     "data": {
      "text/plain": [
       "93.75"
      ]
     },
     "execution_count": 7,
     "metadata": {},
     "output_type": "execute_result"
    }
   ],
   "source": [
    "f1 = 100\n",
    "f2 = 400\n",
    "dx = 100\n",
    "mirror(f1,f2,dx)"
   ]
  },
  {
   "cell_type": "code",
   "execution_count": 8,
   "id": "b1af77de-5d73-4499-af6c-5f083403b122",
   "metadata": {
    "tags": []
   },
   "outputs": [
    {
     "data": {
      "text/plain": [
       "123.5432"
      ]
     },
     "execution_count": 8,
     "metadata": {},
     "output_type": "execute_result"
    }
   ],
   "source": [
    "f1 = 139\n",
    "f2 = 500\n",
    "dx = 200\n",
    "mirror(f1,f2,dx)"
   ]
  },
  {
   "cell_type": "code",
   "execution_count": 9,
   "id": "86748651-4fbc-4ecc-ab8c-3d8d0cc11820",
   "metadata": {
    "tags": []
   },
   "outputs": [
    {
     "data": {
      "text/plain": [
       "31.25"
      ]
     },
     "execution_count": 9,
     "metadata": {},
     "output_type": "execute_result"
    }
   ],
   "source": [
    "f1 = 50\n",
    "f2 = 200\n",
    "dx = 300\n",
    "mirror(f1,f2,dx)"
   ]
  },
  {
   "cell_type": "code",
   "execution_count": 12,
   "id": "bac52d0c-5e22-4472-ac5d-825708a3fd11",
   "metadata": {
    "tags": []
   },
   "outputs": [
    {
     "data": {
      "text/plain": [
       "(89.19753086419753, 10.802469135802468)"
      ]
     },
     "execution_count": 12,
     "metadata": {},
     "output_type": "execute_result"
    }
   ],
   "source": [
    "f1 = 100\n",
    "f2 = 360\n",
    "dx = 140\n",
    "mirror(f1,f2,dx), f1-mirror(f1,f2,dx)"
   ]
  },
  {
   "cell_type": "code",
   "execution_count": null,
   "id": "ae3364a0-eb83-4570-bc39-0a4da78fb219",
   "metadata": {},
   "outputs": [],
   "source": []
  }
 ],
 "metadata": {
  "kernelspec": {
   "display_name": "Python 3 (ipykernel)",
   "language": "python",
   "name": "python3"
  },
  "language_info": {
   "codemirror_mode": {
    "name": "ipython",
    "version": 3
   },
   "file_extension": ".py",
   "mimetype": "text/x-python",
   "name": "python",
   "nbconvert_exporter": "python",
   "pygments_lexer": "ipython3",
   "version": "3.11.5"
  }
 },
 "nbformat": 4,
 "nbformat_minor": 5
}
