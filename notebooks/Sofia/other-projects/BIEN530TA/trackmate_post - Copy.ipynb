{
  "nbformat": 4,
  "nbformat_minor": 0,
  "metadata": {
    "colab": {
      "name": "CaseStudy2-intracellular-transport.ipynb",
      "provenance": [],
      "collapsed_sections": []
    },
    "kernelspec": {
      "name": "python3",
      "display_name": "Python 3"
    }
  },
  "cells": [
    {
      "cell_type": "markdown",
      "metadata": {
        "id": "uPcX_dvRN3vo"
      },
      "source": [
        "**bold text**# Case Study 2"
      ]
    },
    {
      "cell_type": "markdown",
      "metadata": {
        "id": "1gDJxv1kqkDY"
      },
      "source": [
        "In this case study, we will explore using  mean-squared displacement to quantify the motility of organelles. The mean-squared displacement measures the displacement of a particle for a given duration of time. When plotted on a log-log scale, the slope of the mean-squared displacement curve indicates the type of motility, where a slope of 0 indicates a stationary particle (x^2=C^2), a slope of 1 indicates diffusion (x^2=2Dt), and a slope of 2 indicates processive movement (x^2=v^2 t^2). We explored this concept in Problem Set 1.\n",
        "\n",
        "Here, we will examine the trajectories of lysosomes in neurons. Lysosomes are responsible for packaging and degrading damaged proteins and organelles. The lysosomes were labeled using Lysotracker -- a fluoroscent compound that enriches in acidic organelles -- and imaged using a spinning disk confocal fluorescence microscope (see *.tif). The ImageJ plugin Trackmate was used to calculate the position of the lysosomes in each frame of the movie, and then link the positions into trajectories. \n",
        "\n",
        "The code below loads the tracking data (SpotsInTracksStatistics.csv) and plots the positions and mean-squared displacement for one of the trajectories. The trajectory to be plotted is specified by the variable \"k_track\".\n",
        "\n",
        "Using mean-squared displacement analysis, characterize the motility in tracks 5, 9, 11, 12, 13, and 21 as stationary, diffusive, processive, or a combination of these modes. Estimate the diffusion coefficient using the primarily diffusive trajectories, and the velocity of the primarily processive trajectories.\n"
      ]
    },
    {
      "cell_type": "code",
      "metadata": {
        "id": "-dNT2q0_8nf2",
        "colab": {
          "base_uri": "https://localhost:8080/"
        },
        "outputId": "252962e2-5f2f-438a-9ed7-f420b4471ca1"
      },
      "source": [
        "# mount data folder \n",
        "#uncomment these lines if running using google colab\n",
        "## - you will need to edit the os.chdir command depending on the directory you have the files stored in\n",
        "import os\n",
        "from google.colab import drive\n",
        "drive.mount('/content/gdrive',force_remount=True)\n",
        "os.chdir(\"/content/gdrive/MyDrive/Fall 2020/CaseStudies/\")\n",
        "#!ls \"/content/gdrive/MyDrive\"\n",
        "\n",
        "# load libraries\n",
        "import numpy as np\n",
        "import matplotlib.pyplot as plt\n",
        "import csv\n",
        "import math\n"
      ],
      "execution_count": 50,
      "outputs": [
        {
          "output_type": "stream",
          "text": [
            "Mounted at /content/gdrive\n"
          ],
          "name": "stdout"
        }
      ]
    },
    {
      "cell_type": "code",
      "metadata": {
        "id": "_9XGo6vOMBJJ"
      },
      "source": [
        "# Define variables\n",
        "track_id = np.empty((0))\n",
        "frame = np.empty((0))\n",
        "time = np.empty((0))\n",
        "x = np.empty((0))\n",
        "y = np.empty((0))"
      ],
      "execution_count": 51,
      "outputs": []
    },
    {
      "cell_type": "code",
      "metadata": {
        "id": "c_O414IwI0-T"
      },
      "source": [
        "# Read in data from csv file\n",
        "filename = \"SpotsInTracksStatistics.csv\" #table containing tracking results\n",
        "exp_time = 0.5 #Exposure time [s]\n",
        "\n",
        "data = open(filename)\n",
        "csv_reader = csv.reader(data)\n",
        "\n",
        "# Initialize row counter\n",
        "i = 0\n",
        "    \n",
        "# Read file row by row\n",
        "for row in csv_reader: \n",
        "    \n",
        "    # Skip the first line (contains header)\n",
        "    if i <= 1:\n",
        "        \n",
        "      i += 1\n",
        "      continue\n",
        "    \n",
        "    try:\n",
        "        track_id=np.append(track_id,int(row[2]))\n",
        "        frame=np.append(frame,int(row[8]))\n",
        "        time=np.append(time,float(row[7]))\n",
        "        x=np.append(x,float(row[4]))\n",
        "        y=np.append(y,float(row[5]))\n",
        "        #track_id.append(row[2]) # first column, track id\n",
        "        #frame.append(row[8]) # frame\n",
        "        #time.append(float(row[7])) # time (s)\n",
        "        #x.append(float(row[4])) # x position (um)\n",
        "        #y.append(float(row[5])) #y position (um)\n",
        "  \n",
        "\n",
        "    except ValueError:\n",
        "      continue\n",
        "\n",
        "data.close()\n"
      ],
      "execution_count": 52,
      "outputs": []
    },
    {
      "cell_type": "code",
      "metadata": {
        "colab": {
          "base_uri": "https://localhost:8080/",
          "height": 279
        },
        "id": "MoMoUF6xLBOa",
        "outputId": "cade8739-3341-489b-bc63-a3ac1dd5aae4"
      },
      "source": [
        "#choose a trajectory to analyze\n",
        "k_track = 21 # 21 #12 #5 #9 #5 #21 #9 #13 #12 #11 #5 #21 #9 #13 #21 #number of trajectory to analyze \n",
        "jt=np.where(track_id==k_track) #indices corresponding to track\n",
        "track_id[jt]\n",
        "\n",
        "#plot trajectory\n",
        "plt.plot(x[jt],y[jt])\n",
        "plt.xlabel(\"x (um)\")\n",
        "plt.ylabel(\"y (um)\")\n",
        "plt.axis('equal')\n",
        "plt.show()"
      ],
      "execution_count": 53,
      "outputs": [
        {
          "output_type": "display_data",
          "data": {
            "image/png": "[encoded data removed]",
            "text/plain": [
              "<Figure size 432x288 with 1 Axes>"
            ]
          },
          "metadata": {
            "tags": [],
            "needs_background": "light"
          }
        }
      ]
    },
    {
      "cell_type": "code",
      "metadata": {
        "id": "GI36-475LrVi"
      },
      "source": [
        "#Calculate the Mean-Squared Displacement for a single trajectory\n",
        "Ndat = np.size(jt) #no. of points in trajectory\n",
        "# K = np.arange(3,math.ceil(0.2*Ndat)) #Delays [frames]\n",
        "# K = np.arange(1,math.ceil(0.2*Ndat)) #Delays [frames]\n",
        "K = np.arange(3,math.ceil(0.5*Ndat)) #Delays [frames]\n",
        "\n",
        "N=np.empty(np.size(K)) #Number of segments for each delay\n",
        "msd=np.empty(np.size(K)) #Mean-Squared Displacement\n",
        "msd_std=np.empty(np.size(K)) #Standard Deviation of the MSD\n",
        "\n",
        "xk=x[jt] #x positions for the specified trajectory\n",
        "yk=y[jt] #y positions for the specified trajectory\n",
        "\n",
        "for j in range(np.size(K)): #for each delay\n",
        "  k = K[j] #delay\n",
        "  dispsqk = [] #displacement squared\n",
        "        \n",
        "  #for kd in range(Ntraj): #for each trajectory             \n",
        "  if k < (Ndat - 1):\n",
        "    jmax = min(Ndat, max(K)*4)\n",
        "    j0 = list(range(1,(jmax-k)))\n",
        "    j1 = list(range((k + 1), jmax))\n",
        "                          \n",
        "    dkd = (xk[j1]-xk[j0])**2+(yk[j1]-yk[j0])**2 #calculate MSD\n",
        "                          \n",
        "    dispsqk = np.concatenate((dispsqk, dkd), axis=0) \n",
        "            \n",
        "    #if k == 1:\n",
        "      # msd_delay1 = np.concatenate((msd_delay1, dispsqk), axis=1) #msd for 1 frame delay (not currently used)  \n",
        "        \n",
        "    jk=np.where(np.isnan(dispsqk)==False)\n",
        "        \n",
        "    N[j] = np.size(dispsqk[jk]) #no. of sample points for each delta_t\n",
        "    msd[j] = sum(dispsqk[jk])/N[j] #mean MSD for each delta_t\n",
        "    msd_std[j] = np.std(dispsqk[jk]) #standard deviation for each delta_t\n",
        "    msd_sem=msd_std/(N**0.5)"
      ],
      "execution_count": 54,
      "outputs": []
    },
    {
      "cell_type": "code",
      "metadata": {
        "colab": {
          "base_uri": "https://localhost:8080/",
          "height": 283
        },
        "id": "1nhVQaMyU-Z3",
        "outputId": "d663b094-8102-4829-b686-a120cff9109b"
      },
      "source": [
        "#plot mean-squared displacement\n",
        "#plt.plot(K*exp_time,msd)\n",
        "plt.errorbar(K*exp_time,msd,yerr=msd_sem,xerr=None)\n",
        "#plt.plot(K*exp_time,msd-msd_std)\n",
        "plt.xlabel(\"Delay (s)\")\n",
        "plt.ylabel(\"Mean-Squared Disp. (um^2)\")\n",
        "plt.xscale(\"log\")\n",
        "plt.yscale(\"log\")\n",
        "plt.axis('equal')\n",
        "plt.show()"
      ],
      "execution_count": 55,
      "outputs": [
        {
          "output_type": "display_data",
          "data": {
            "image/png": "[encoded data removed]",
            "text/plain": [
              "<Figure size 432x288 with 1 Axes>"
            ]
          },
          "metadata": {
            "tags": [],
            "needs_background": "light"
          }
        }
      ]
    },
    {
      "cell_type": "code",
      "metadata": {
        "colab": {
          "base_uri": "https://localhost:8080/"
        },
        "id": "x6owLaW9UFIq",
        "outputId": "16f2b42c-94a5-43ee-c5a8-abcc39e20fea"
      },
      "source": [
        "#polynomial fit to find slope\n",
        "p = np.polyfit(np.log10(K*exp_time),np.log10(msd),1)\n",
        "print(p[1])\n",
        "print(p[0]) #slope on log-log plot\n",
        "\n",
        "#polynomial fit to find non-log slope\n",
        "p1 = np.polyfit(K*exp_time,msd,1)\n",
        "print(p1[0]) #slope on log-log plot"
      ],
      "execution_count": 56,
      "outputs": [
        {
          "output_type": "stream",
          "text": [
            "-1.1893502721508333\n",
            "1.292305274507492\n",
            "0.20322431478097433\n"
          ],
          "name": "stdout"
        }
      ]
    },
    {
      "cell_type": "code",
      "metadata": {
        "id": "vqCnrimYXRzU",
        "colab": {
          "base_uri": "https://localhost:8080/",
          "height": 330
        },
        "outputId": "fc7d85d1-9e65-4c9f-ddcc-8fb933061d4e"
      },
      "source": [
        "#polynomial fit to linear data to solve for D, v\n",
        "# <dx^> = (tracking uncertainty)^2 + 4*D*dt + velocity^2*dt^2\n",
        "\n",
        "# for processive trajectory\n",
        "if p[0]>1.1:\n",
        "  p_lin = np.polyfit(K*exp_time,msd,2) \n",
        "  velocity = math.sqrt(p_lin[0])\n",
        "  D = p_lin[1]/4\n",
        "  tracking_uncertainty = math.sqrt(max(0,p_lin[2]))\n",
        "  print('Velocity = ',velocity,' um/s')\n",
        "  print(\"D = \",D,\" um^2/s\")\n",
        "  print('tracking_uncertainty = ',tracking_uncertainty,' um')\n",
        "else:#if p[0]<=1.1 & p[0]>0.5 #diffusive/stationary trajectory\n",
        "  p_lin = np.polyfit(K*exp_time,msd,1) \n",
        "  #velocity = math.sqrt(p_lin[0])\n",
        "  D = p_lin[0]/4\n",
        "  tracking_uncertainty = math.sqrt(max(0,p_lin[1]))\n",
        "  #print('Velocity = ',velocity,' um/s')\n",
        "  print(\"D = \",D,\" um^2/s\")\n",
        "  print('tracking_uncertainty = ',tracking_uncertainty,' um')\n",
        "\n",
        "#plot fit\n",
        "plt.errorbar(K*exp_time,msd,yerr=msd_sem,xerr=None)\n",
        "plt.plot(K*exp_time,np.polyval(p_lin,K*exp_time))\n",
        "plt.xlabel(\"Delay (s)\")\n",
        "plt.ylabel(\"Mean-Squared Disp. (um^2)\")\n",
        "#plt.xscale(\"log\")\n",
        "#plt.yscale(\"log\")\n",
        "#plt.axis('equal')\n",
        "plt.show()\n"
      ],
      "execution_count": 57,
      "outputs": [
        {
          "output_type": "stream",
          "text": [
            "Velocity =  0.07365761918954193  um/s\n",
            "D =  0.006046158561703068  um^2/s\n",
            "tracking_uncertainty =  0.5559565877711771  um\n"
          ],
          "name": "stdout"
        },
        {
          "output_type": "display_data",
          "data": {
            "image/png": "[encoded data removed]",
            "text/plain": [
              "<Figure size 432x288 with 1 Axes>"
            ]
          },
          "metadata": {
            "tags": [],
            "needs_background": "light"
          }
        }
      ]
    },
    {
      "cell_type": "code",
      "metadata": {
        "id": "hW0E0CvaWx1K"
      },
      "source": [
        ""
      ],
      "execution_count": 57,
      "outputs": []
    },
    {
      "cell_type": "code",
      "metadata": {
        "id": "dk5o9NHxW_T6"
      },
      "source": [
        ""
      ],
      "execution_count": 57,
      "outputs": []
    }
  ]
}