{
 "cells": [
  {
   "cell_type": "code",
   "execution_count": 1,
   "metadata": {},
   "outputs": [],
   "source": [
    "import statsmodels.api as sm\n",
    "from statsmodels.formula.api import ols\n",
    "import numpy as np\n",
    "import matplotlib.pyplot as plt\n",
    "import csv\n",
    "import pandas as pd\n",
    "from pathlib import Path\n",
    "import seaborn as sns\n",
    "from datetime import date\n",
    "from scipy import stats\n",
    "\n",
    "#info and functions from here https://www.statology.org/two-way-anova-python/"
   ]
  },
  {
   "cell_type": "code",
   "execution_count": 3,
   "metadata": {},
   "outputs": [
    {
     "name": "stdout",
     "output_type": "stream",
     "text": [
      "Today's date: 2022-01-13\n"
     ]
    },
    {
     "data": {
      "text/html": [
       "<div>\n",
       "<style scoped>\n",
       "    .dataframe tbody tr th:only-of-type {\n",
       "        vertical-align: middle;\n",
       "    }\n",
       "\n",
       "    .dataframe tbody tr th {\n",
       "        vertical-align: top;\n",
       "    }\n",
       "\n",
       "    .dataframe thead th {\n",
       "        text-align: right;\n",
       "    }\n",
       "</style>\n",
       "<table border=\"1\" class=\"dataframe\">\n",
       "  <thead>\n",
       "    <tr style=\"text-align: right;\">\n",
       "      <th></th>\n",
       "      <th>mutant</th>\n",
       "      <th>pearson</th>\n",
       "      <th>dcx_conc</th>\n",
       "    </tr>\n",
       "  </thead>\n",
       "  <tbody>\n",
       "    <tr>\n",
       "      <th>11</th>\n",
       "      <td>WT</td>\n",
       "      <td>0.525376</td>\n",
       "      <td>8.5</td>\n",
       "    </tr>\n",
       "    <tr>\n",
       "      <th>12</th>\n",
       "      <td>WT</td>\n",
       "      <td>0.564458</td>\n",
       "      <td>8.5</td>\n",
       "    </tr>\n",
       "    <tr>\n",
       "      <th>13</th>\n",
       "      <td>WT</td>\n",
       "      <td>0.719327</td>\n",
       "      <td>8.5</td>\n",
       "    </tr>\n",
       "    <tr>\n",
       "      <th>14</th>\n",
       "      <td>WT</td>\n",
       "      <td>0.618079</td>\n",
       "      <td>8.5</td>\n",
       "    </tr>\n",
       "    <tr>\n",
       "      <th>15</th>\n",
       "      <td>WT</td>\n",
       "      <td>0.575891</td>\n",
       "      <td>8.5</td>\n",
       "    </tr>\n",
       "  </tbody>\n",
       "</table>\n",
       "</div>"
      ],
      "text/plain": [
       "   mutant   pearson  dcx_conc\n",
       "11     WT  0.525376       8.5\n",
       "12     WT  0.564458       8.5\n",
       "13     WT  0.719327       8.5\n",
       "14     WT  0.618079       8.5\n",
       "15     WT  0.575891       8.5"
      ]
     },
     "execution_count": 3,
     "metadata": {},
     "output_type": "execute_result"
    }
   ],
   "source": [
    "today = date.today()\n",
    "print(\"Today's date:\", today)\n",
    "date_today = str(today)\n",
    "date_today\n",
    "\n",
    "data_dir = Path.cwd() / 'Pearson Correlation data2022-01-13 ignoring non-MT pixels-using ALL DATA.csv'\n",
    "\n",
    "df = pd.read_csv(str(data_dir))\n",
    "df = df[df['[GFP-DCX](nM)']==0.5]\n",
    "\n",
    "df = df.rename(columns = {'Pearson Coeff' : 'pearson', \n",
    "                    '[RFP-DCX](nM)': 'dcx_conc', \n",
    "                    'Type': 'mutant'})\n",
    "\n",
    "df = df[['mutant', 'pearson', 'dcx_conc']]\n",
    "\n",
    "df.head()"
   ]
  },
  {
   "cell_type": "code",
   "execution_count": 4,
   "metadata": {},
   "outputs": [
    {
     "data": {
      "text/html": [
       "<div>\n",
       "<style scoped>\n",
       "    .dataframe tbody tr th:only-of-type {\n",
       "        vertical-align: middle;\n",
       "    }\n",
       "\n",
       "    .dataframe tbody tr th {\n",
       "        vertical-align: top;\n",
       "    }\n",
       "\n",
       "    .dataframe thead th {\n",
       "        text-align: right;\n",
       "    }\n",
       "</style>\n",
       "<table border=\"1\" class=\"dataframe\">\n",
       "  <thead>\n",
       "    <tr style=\"text-align: right;\">\n",
       "      <th></th>\n",
       "      <th>sum_sq</th>\n",
       "      <th>df</th>\n",
       "      <th>F</th>\n",
       "      <th>PR(&gt;F)</th>\n",
       "    </tr>\n",
       "  </thead>\n",
       "  <tbody>\n",
       "    <tr>\n",
       "      <th>C(mutant)</th>\n",
       "      <td>0.366224</td>\n",
       "      <td>1.0</td>\n",
       "      <td>26.311829</td>\n",
       "      <td>9.881040e-07</td>\n",
       "    </tr>\n",
       "    <tr>\n",
       "      <th>C(dcx_conc)</th>\n",
       "      <td>0.062166</td>\n",
       "      <td>4.0</td>\n",
       "      <td>1.116602</td>\n",
       "      <td>3.513575e-01</td>\n",
       "    </tr>\n",
       "    <tr>\n",
       "      <th>C(mutant):C(dcx_conc)</th>\n",
       "      <td>0.157055</td>\n",
       "      <td>4.0</td>\n",
       "      <td>2.820945</td>\n",
       "      <td>2.751998e-02</td>\n",
       "    </tr>\n",
       "    <tr>\n",
       "      <th>Residual</th>\n",
       "      <td>1.879012</td>\n",
       "      <td>135.0</td>\n",
       "      <td>NaN</td>\n",
       "      <td>NaN</td>\n",
       "    </tr>\n",
       "  </tbody>\n",
       "</table>\n",
       "</div>"
      ],
      "text/plain": [
       "                         sum_sq     df          F        PR(>F)\n",
       "C(mutant)              0.366224    1.0  26.311829  9.881040e-07\n",
       "C(dcx_conc)            0.062166    4.0   1.116602  3.513575e-01\n",
       "C(mutant):C(dcx_conc)  0.157055    4.0   2.820945  2.751998e-02\n",
       "Residual               1.879012  135.0        NaN           NaN"
      ]
     },
     "execution_count": 4,
     "metadata": {},
     "output_type": "execute_result"
    }
   ],
   "source": [
    "#from here https://www.statology.org/two-way-anova-python/\n",
    "\n",
    "model = ols('pearson ~ C(mutant) + C(dcx_conc) + C(mutant):C(dcx_conc)', data=df).fit()\n",
    "results = sm.stats.anova_lm(model, typ=2)\n",
    "\n",
    "# results['PR(>F)'] = np.round(results['PR(>F)'], 7)\n",
    "results\n",
    "# Since the p-values for water and sun are both less than .05, this means that both factors have a statistically significant effect on plant height."
   ]
  },
  {
   "cell_type": "code",
   "execution_count": 5,
   "metadata": {},
   "outputs": [],
   "source": [
    "results.to_csv(Path.cwd() / f'{date_today} results of two-way anova.csv')"
   ]
  },
  {
   "cell_type": "code",
   "execution_count": null,
   "metadata": {},
   "outputs": [],
   "source": []
  }
 ],
 "metadata": {
  "kernelspec": {
   "display_name": "Python 3",
   "language": "python",
   "name": "python3"
  },
  "language_info": {
   "codemirror_mode": {
    "name": "ipython",
    "version": 3
   },
   "file_extension": ".py",
   "mimetype": "text/x-python",
   "name": "python",
   "nbconvert_exporter": "python",
   "pygments_lexer": "ipython3",
   "version": "3.7.4"
  }
 },
 "nbformat": 4,
 "nbformat_minor": 4
}
