{
 "cells": [
  {
   "cell_type": "code",
   "execution_count": 1,
   "metadata": {},
   "outputs": [],
   "source": [
    "import numpy as np\n",
    "import seaborn as sns\n",
    "import matplotlib.pyplot as plt\n",
    "import csv\n",
    "import pandas as pd\n",
    "import scipy as sp\n",
    "import matplotlib.mlab as mlab\n",
    "import matplotlib.artist as artist\n",
    "from pathlib import Path\n",
    "import tkinter as tk\n",
    "from tkinter import filedialog\n",
    "import itertools"
   ]
  },
  {
   "cell_type": "markdown",
   "metadata": {},
   "source": [
    "Select the folder where the Master Sheet I share with you."
   ]
  },
  {
   "cell_type": "code",
   "execution_count": 6,
   "metadata": {
    "collapsed": true,
    "jupyter": {
     "outputs_hidden": true
    }
   },
   "outputs": [
    {
     "data": {
      "text/html": [
       "<div>\n",
       "<style scoped>\n",
       "    .dataframe tbody tr th:only-of-type {\n",
       "        vertical-align: middle;\n",
       "    }\n",
       "\n",
       "    .dataframe tbody tr th {\n",
       "        vertical-align: top;\n",
       "    }\n",
       "\n",
       "    .dataframe thead th {\n",
       "        text-align: right;\n",
       "    }\n",
       "</style>\n",
       "<table border=\"1\" class=\"dataframe\">\n",
       "  <thead>\n",
       "    <tr style=\"text-align: right;\">\n",
       "      <th></th>\n",
       "      <th>Date</th>\n",
       "      <th>Investigator</th>\n",
       "      <th>CH</th>\n",
       "      <th>[Tubulin] $(\\mu M)$</th>\n",
       "      <th>[DCX] $(n M)$</th>\n",
       "      <th>Length $(\\mu m)$</th>\n",
       "      <th>Lifetime $(min)$</th>\n",
       "      <th>Growth Rate $(\\mu m / min)$</th>\n",
       "      <th>Time to Nucleate $(min)$</th>\n",
       "      <th>Shrink Length $(\\mu m)$</th>\n",
       "      <th>Shrink Lifetime $(min)$</th>\n",
       "      <th>Shrink Rate $(\\mu m / min)$</th>\n",
       "      <th>Rescues</th>\n",
       "      <th>DCX Type</th>\n",
       "    </tr>\n",
       "  </thead>\n",
       "  <tbody>\n",
       "    <tr>\n",
       "      <td>0</td>\n",
       "      <td>2020-07-03</td>\n",
       "      <td>Sofia</td>\n",
       "      <td>13</td>\n",
       "      <td>12.0</td>\n",
       "      <td>0.0</td>\n",
       "      <td>3.959000</td>\n",
       "      <td>4.024000</td>\n",
       "      <td>0.983847</td>\n",
       "      <td>0.901208</td>\n",
       "      <td>4.066000</td>\n",
       "      <td>0.083833</td>\n",
       "      <td>48.500994</td>\n",
       "      <td>False</td>\n",
       "      <td>None</td>\n",
       "    </tr>\n",
       "    <tr>\n",
       "      <td>1</td>\n",
       "      <td>2020-07-03</td>\n",
       "      <td>Sofia</td>\n",
       "      <td>13</td>\n",
       "      <td>12.0</td>\n",
       "      <td>0.0</td>\n",
       "      <td>7.490000</td>\n",
       "      <td>7.880333</td>\n",
       "      <td>0.950467</td>\n",
       "      <td>0.146708</td>\n",
       "      <td>7.918000</td>\n",
       "      <td>0.167667</td>\n",
       "      <td>47.224652</td>\n",
       "      <td>False</td>\n",
       "      <td>None</td>\n",
       "    </tr>\n",
       "    <tr>\n",
       "      <td>2</td>\n",
       "      <td>2020-07-03</td>\n",
       "      <td>Sofia</td>\n",
       "      <td>13</td>\n",
       "      <td>12.0</td>\n",
       "      <td>0.0</td>\n",
       "      <td>3.210000</td>\n",
       "      <td>3.521000</td>\n",
       "      <td>0.911673</td>\n",
       "      <td>0.230542</td>\n",
       "      <td>3.424000</td>\n",
       "      <td>0.251500</td>\n",
       "      <td>13.614314</td>\n",
       "      <td>False</td>\n",
       "      <td>None</td>\n",
       "    </tr>\n",
       "    <tr>\n",
       "      <td>3</td>\n",
       "      <td>2020-07-03</td>\n",
       "      <td>Sofia</td>\n",
       "      <td>13</td>\n",
       "      <td>12.0</td>\n",
       "      <td>0.0</td>\n",
       "      <td>12.840000</td>\n",
       "      <td>14.335500</td>\n",
       "      <td>0.895679</td>\n",
       "      <td>0.817375</td>\n",
       "      <td>12.947000</td>\n",
       "      <td>1.089833</td>\n",
       "      <td>11.879798</td>\n",
       "      <td>False</td>\n",
       "      <td>None</td>\n",
       "    </tr>\n",
       "    <tr>\n",
       "      <td>4</td>\n",
       "      <td>2020-07-03</td>\n",
       "      <td>Sofia</td>\n",
       "      <td>13</td>\n",
       "      <td>12.0</td>\n",
       "      <td>0.0</td>\n",
       "      <td>3.424000</td>\n",
       "      <td>3.940167</td>\n",
       "      <td>0.868999</td>\n",
       "      <td>0.649708</td>\n",
       "      <td>3.210000</td>\n",
       "      <td>0.251500</td>\n",
       "      <td>12.763419</td>\n",
       "      <td>False</td>\n",
       "      <td>None</td>\n",
       "    </tr>\n",
       "    <tr>\n",
       "      <td>...</td>\n",
       "      <td>...</td>\n",
       "      <td>...</td>\n",
       "      <td>...</td>\n",
       "      <td>...</td>\n",
       "      <td>...</td>\n",
       "      <td>...</td>\n",
       "      <td>...</td>\n",
       "      <td>...</td>\n",
       "      <td>...</td>\n",
       "      <td>...</td>\n",
       "      <td>...</td>\n",
       "      <td>...</td>\n",
       "      <td>...</td>\n",
       "      <td>...</td>\n",
       "    </tr>\n",
       "    <tr>\n",
       "      <td>3348</td>\n",
       "      <td>2020-09-14</td>\n",
       "      <td>Sofia</td>\n",
       "      <td>21</td>\n",
       "      <td>6.0</td>\n",
       "      <td>0.0</td>\n",
       "      <td>NaN</td>\n",
       "      <td>NaN</td>\n",
       "      <td>NaN</td>\n",
       "      <td>NaN</td>\n",
       "      <td>NaN</td>\n",
       "      <td>NaN</td>\n",
       "      <td>NaN</td>\n",
       "      <td>False</td>\n",
       "      <td>None</td>\n",
       "    </tr>\n",
       "    <tr>\n",
       "      <td>3349</td>\n",
       "      <td>2020-09-14</td>\n",
       "      <td>Sofia</td>\n",
       "      <td>21</td>\n",
       "      <td>6.0</td>\n",
       "      <td>0.0</td>\n",
       "      <td>2.478833</td>\n",
       "      <td>6.510000</td>\n",
       "      <td>0.380773</td>\n",
       "      <td>1.176000</td>\n",
       "      <td>2.461000</td>\n",
       "      <td>0.112000</td>\n",
       "      <td>21.973176</td>\n",
       "      <td>False</td>\n",
       "      <td>None</td>\n",
       "    </tr>\n",
       "    <tr>\n",
       "      <td>3350</td>\n",
       "      <td>2020-09-14</td>\n",
       "      <td>Sofia</td>\n",
       "      <td>21</td>\n",
       "      <td>6.0</td>\n",
       "      <td>0.0</td>\n",
       "      <td>1.070000</td>\n",
       "      <td>2.814000</td>\n",
       "      <td>0.380242</td>\n",
       "      <td>7.465500</td>\n",
       "      <td>1.230500</td>\n",
       "      <td>0.021000</td>\n",
       "      <td>58.595238</td>\n",
       "      <td>False</td>\n",
       "      <td>None</td>\n",
       "    </tr>\n",
       "    <tr>\n",
       "      <td>3351</td>\n",
       "      <td>2020-09-14</td>\n",
       "      <td>Sofia</td>\n",
       "      <td>21</td>\n",
       "      <td>6.0</td>\n",
       "      <td>0.0</td>\n",
       "      <td>0.668750</td>\n",
       "      <td>2.268000</td>\n",
       "      <td>0.294863</td>\n",
       "      <td>1.417500</td>\n",
       "      <td>0.682125</td>\n",
       "      <td>0.052500</td>\n",
       "      <td>12.992857</td>\n",
       "      <td>False</td>\n",
       "      <td>None</td>\n",
       "    </tr>\n",
       "    <tr>\n",
       "      <td>3352</td>\n",
       "      <td>2020-09-14</td>\n",
       "      <td>Sofia</td>\n",
       "      <td>21</td>\n",
       "      <td>6.0</td>\n",
       "      <td>0.0</td>\n",
       "      <td>4.743667</td>\n",
       "      <td>14.952000</td>\n",
       "      <td>0.317260</td>\n",
       "      <td>3.570000</td>\n",
       "      <td>4.815000</td>\n",
       "      <td>0.392000</td>\n",
       "      <td>12.283149</td>\n",
       "      <td>False</td>\n",
       "      <td>None</td>\n",
       "    </tr>\n",
       "  </tbody>\n",
       "</table>\n",
       "<p>3353 rows × 14 columns</p>\n",
       "</div>"
      ],
      "text/plain": [
       "            Date Investigator  CH  [Tubulin] $(\\mu M)$  [DCX] $(n M)$  \\\n",
       "0     2020-07-03        Sofia  13                 12.0            0.0   \n",
       "1     2020-07-03        Sofia  13                 12.0            0.0   \n",
       "2     2020-07-03        Sofia  13                 12.0            0.0   \n",
       "3     2020-07-03        Sofia  13                 12.0            0.0   \n",
       "4     2020-07-03        Sofia  13                 12.0            0.0   \n",
       "...          ...          ...  ..                  ...            ...   \n",
       "3348  2020-09-14        Sofia  21                  6.0            0.0   \n",
       "3349  2020-09-14        Sofia  21                  6.0            0.0   \n",
       "3350  2020-09-14        Sofia  21                  6.0            0.0   \n",
       "3351  2020-09-14        Sofia  21                  6.0            0.0   \n",
       "3352  2020-09-14        Sofia  21                  6.0            0.0   \n",
       "\n",
       "      Length $(\\mu m)$  Lifetime $(min)$  Growth Rate $(\\mu m / min)$  \\\n",
       "0             3.959000          4.024000                     0.983847   \n",
       "1             7.490000          7.880333                     0.950467   \n",
       "2             3.210000          3.521000                     0.911673   \n",
       "3            12.840000         14.335500                     0.895679   \n",
       "4             3.424000          3.940167                     0.868999   \n",
       "...                ...               ...                          ...   \n",
       "3348               NaN               NaN                          NaN   \n",
       "3349          2.478833          6.510000                     0.380773   \n",
       "3350          1.070000          2.814000                     0.380242   \n",
       "3351          0.668750          2.268000                     0.294863   \n",
       "3352          4.743667         14.952000                     0.317260   \n",
       "\n",
       "      Time to Nucleate $(min)$  Shrink Length $(\\mu m)$  \\\n",
       "0                     0.901208                 4.066000   \n",
       "1                     0.146708                 7.918000   \n",
       "2                     0.230542                 3.424000   \n",
       "3                     0.817375                12.947000   \n",
       "4                     0.649708                 3.210000   \n",
       "...                        ...                      ...   \n",
       "3348                       NaN                      NaN   \n",
       "3349                  1.176000                 2.461000   \n",
       "3350                  7.465500                 1.230500   \n",
       "3351                  1.417500                 0.682125   \n",
       "3352                  3.570000                 4.815000   \n",
       "\n",
       "      Shrink Lifetime $(min)$  Shrink Rate $(\\mu m / min)$  Rescues DCX Type  \n",
       "0                    0.083833                    48.500994    False     None  \n",
       "1                    0.167667                    47.224652    False     None  \n",
       "2                    0.251500                    13.614314    False     None  \n",
       "3                    1.089833                    11.879798    False     None  \n",
       "4                    0.251500                    12.763419    False     None  \n",
       "...                       ...                          ...      ...      ...  \n",
       "3348                      NaN                          NaN    False     None  \n",
       "3349                 0.112000                    21.973176    False     None  \n",
       "3350                 0.021000                    58.595238    False     None  \n",
       "3351                 0.052500                    12.992857    False     None  \n",
       "3352                 0.392000                    12.283149    False     None  \n",
       "\n",
       "[3353 rows x 14 columns]"
      ]
     },
     "execution_count": 6,
     "metadata": {},
     "output_type": "execute_result"
    }
   ],
   "source": [
    "askdirectory = filedialog.askdirectory() # show an \"Open\" dialog box and select the folder\n",
    "path = Path(askdirectory)\n",
    "data = pd.read_csv(path/('MasterSheet.csv'), encoding='utf-8') #read the Mster Sheet\n",
    "data"
   ]
  },
  {
   "cell_type": "markdown",
   "metadata": {},
   "source": [
    "These are the names  in my data frame, since I'll use them over and over agian I'd rather just declare them."
   ]
  },
  {
   "cell_type": "code",
   "execution_count": 10,
   "metadata": {},
   "outputs": [],
   "source": [
    "tubulin = '[Tubulin] ' r'$(\\mu M)$'\n",
    "tub = 'tub'\n",
    "\n",
    "DCXconc = '[DCX] ' r'$(n M)$'\n",
    "DCX = 'DCX'\n",
    "Type = 'DCX Type'\n",
    "\n",
    "Concentration = 'Concentration ' r'$(\\mu M)$'\n",
    "Length = 'Length ' r'$(\\mu m)$'\n",
    "Lifetime = 'Lifetime ' r'$(min)$'\n",
    "GrowthRate = 'Growth Rate ' r'$(\\mu m / min)$'\n",
    "TimeToNucleate = 'Time to Nucleate ' r'$(min)$'\n",
    "ShrinkageLength = 'Shrink Length ' r'$(\\mu m)$'\n",
    "ShrinkageLifetime = 'Shrink Lifetime ' r'$(min)$'\n",
    "ShrinkageRate = 'Shrink Rate ' r'$(\\mu m / min)$'\n",
    "\n",
    "parameters = [GrowthRate,TimeToNucleate,Lifetime,ShrinkageRate]"
   ]
  },
  {
   "cell_type": "markdown",
   "metadata": {},
   "source": [
    "# Fitting Data #"
   ]
  },
  {
   "cell_type": "markdown",
   "metadata": {},
   "source": [
    "First declare the functions you are going to fit to. Here x is the variable and the other inputs are the distribution's parameters."
   ]
  },
  {
   "cell_type": "code",
   "execution_count": 2,
   "metadata": {},
   "outputs": [],
   "source": [
    "def gaussian(x, mu, sig):\n",
    "    return (np.exp(-np.power(x - mu, 2.) / (2 * np.power(sig, 2.))) )/(sig*np.sqrt(2*np.pi))\n",
    "\n",
    "def exponential(x, scale):\n",
    "    return ((np.exp(-x/scale) )/(scale))\n",
    "\n",
    "def gamma(x, shape, scale):\n",
    "    return (np.power(x,shape-1)*np.exp(-x/ scale))/(sp.special.gamma(shape) * np.power(scale,shape))\n"
   ]
  },
  {
   "cell_type": "markdown",
   "metadata": {},
   "source": [
    "Then I make a function to extract a particular set of data and make a histogram. When matplotlib.pyplot makes a histogram, it saves the info on the bins used and the value of each bin."
   ]
  },
  {
   "cell_type": "code",
   "execution_count": 3,
   "metadata": {},
   "outputs": [],
   "source": [
    "def make_hist(data, parameter, tubconc, dcxtype, dcxconc): #Dataframe, what paramenter I'm plotting (e.g. GrowthRate), tubulin concentration, which dcx mutant, DCX concentration.\n",
    "    \n",
    "    selectdata = data[(data[tubulin]==tubconc)&(data[Type]==dcxtype)&(data[DCXconc]==dcxconc)] #this is specific to how my dataframe is organized, it just filters the data I'm interested in\n",
    "    \n",
    "    if parameter == GrowthRate : #The Growthrate histogram ranges from 0 to 1.5 while the other go up to 30\n",
    "        maxbin = 1.5\n",
    "        binsize = 0.05\n",
    "    else:\n",
    "        maxbin = 30\n",
    "        binsize = 1\n",
    "        \n",
    "    n, bins, patches = plt.hist(selectdata[parameter], bins=np.arange(0, maxbin + binsize, binsize), density=True); #extracting the histogrm info n is the value of a bin, patches is image info that we don't need\n",
    "    plt.clf() #This is so the image of the histogram doesn't appear, we don't need it right now\n",
    "       \n",
    "    return n, bins "
   ]
  },
  {
   "cell_type": "markdown",
   "metadata": {},
   "source": [
    "Next is the 'Master' fitting function where I only have to give it a dataframe with all my data (the Master Sheet) and the parameter I want to plot (e.g GrowthRate). Inside the function I loop for every tubulin concentration, dcx mutant and DCX concentration. Then it uses the previous function to get the histogram info. With this info it fits a curve  with optimize. The optimize function outputs the fitting coefficients and the variance matrix. From the matrix you can get the error after doing some simple math. Finally I make a dataframe that contains the coefficients and error for each condition."
   ]
  },
  {
   "cell_type": "code",
   "execution_count": 8,
   "metadata": {},
   "outputs": [],
   "source": [
    "def equation_fit(data, parameter):\n",
    "    \n",
    "    if (parameter ==  GrowthRate) | (parameter == ShrinkageRate) : #Choose an equation given a paramenter to fit\n",
    "        equation = gaussian\n",
    "    elif parameter == TimeToNucleate :\n",
    "        equation = exponential\n",
    "    elif parameter == Lifetime :\n",
    "        equation = gamma\n",
    "        \n",
    "    results = pd.DataFrame(columns=[] , index=[]) #Declare an empty dataframe where we'll later put the results in.\n",
    "    \n",
    "    for tubconc in data[tubulin].unique(): #Lopping over all of my conditions\n",
    "        for dcxtype in data[Type].unique():\n",
    "            for dcxconc in data[DCXconc].unique():\n",
    "                \n",
    "                n, bins =  make_hist(data, parameter, tubconc, dcxtype, dcxconc) #Make one histogram per condition      \n",
    "                \n",
    "                if np.isnan(np.sum(n)) == True: #If the condition doesn't exist, skip the loop (eg. DCX Type = None, [DCX] = 50nM)\n",
    "                    continue\n",
    "\n",
    "                if equation == gamma : #THe optimize function starts with a set of paramenters and iterates to minimize the error.\n",
    "                    #The default starting parameter is 1, but the gamma function needs something other than the defualt to work.\n",
    "                    coeff, var_matrix = sp.optimize.curve_fit(equation,bins[:-1],n,[2,1])\n",
    "                else :\n",
    "                    coeff, var_matrix = sp.optimize.curve_fit(equation,bins[:-1],n) #Give optimize the function of interest, and the info we got from the histogram\n",
    "\n",
    "                variance = np.diagonal(var_matrix) #This is the math you have to do to extract the error from the output matrix\n",
    "                SE = np.sqrt(variance) #SE for Standard Error\n",
    "\n",
    "            #======Making a data frame========\n",
    "                results0 = pd.DataFrame(columns=[] , index=[]) #Declare a dataframe to put this loop's coefficients\n",
    "                for k in np.arange(0,len(coeff)):\n",
    "                    header = [np.array([parameter]),np.array(['Coefficient '+ str(k)])]\n",
    "                    r0 = pd.DataFrame([coeff[k],SE[k]], index=(['Value','SE']),columns= header)\n",
    "                    results0 = pd.concat([results0, r0], axis=1, sort=False)\n",
    "\n",
    "                results0[tubulin] = tubconc #Adding the concentration info to thecoefficients we just saved\n",
    "                results0[Type] = dcxtype\n",
    "                results0[DCXconc] = dcxconc\n",
    "\n",
    "                results = pd.concat([results, results0], sort=False) #Concatenate to the big result dataframe\n",
    "\n",
    "    return results"
   ]
  },
  {
   "cell_type": "markdown",
   "metadata": {},
   "source": [
    "Then just run the function and violà done. This is all you have to do to get the coeffients, which are also the means for the exponential and gaussian, but for but for Lifetime there are a couple of more steps you have to do to on the gamma coefficients get the mean and mean error. I haven't included them right now to keep thing simple but if you're interested just ask :)"
   ]
  },
  {
   "cell_type": "code",
   "execution_count": 11,
   "metadata": {},
   "outputs": [
    {
     "name": "stderr",
     "output_type": "stream",
     "text": [
      "C:\\ProgramData\\Anaconda3\\lib\\site-packages\\ipykernel_launcher.py:8: RuntimeWarning: divide by zero encountered in power\n",
      "  \n"
     ]
    },
    {
     "data": {
      "text/plain": [
       "<Figure size 432x288 with 0 Axes>"
      ]
     },
     "metadata": {},
     "output_type": "display_data"
    }
   ],
   "source": [
    "GrowthRateFit = equation_fit(data, GrowthRate);\n",
    "TimeToNucleateFit = equation_fit(data, TimeToNucleate);\n",
    "LifetimeFit = equation_fit(data, Lifetime);\n",
    "ShrinkageRateFit = equation_fit(data, ShrinkageRate);"
   ]
  },
  {
   "cell_type": "markdown",
   "metadata": {},
   "source": [
    "Concatenate the results from above"
   ]
  },
  {
   "cell_type": "code",
   "execution_count": 15,
   "metadata": {},
   "outputs": [],
   "source": [
    "ResultFit = pd.concat([GrowthRateFit, TimeToNucleateFit,LifetimeFit,ShrinkageRateFit], axis=1, sort=False)\n",
    "ResultFit = ResultFit.loc[:,~ResultFit.columns.duplicated()]"
   ]
  },
  {
   "cell_type": "markdown",
   "metadata": {},
   "source": [
    "To plot the histogram with the fitted fuctions I use the following:"
   ]
  },
  {
   "cell_type": "code",
   "execution_count": 17,
   "metadata": {},
   "outputs": [],
   "source": [
    "def plot_hist(data, tubconc, dcxtype, dcxconc) :\n",
    "    \n",
    "    selectdata = data[(data[tubulin]==tubconc)&(data[Type]==dcxtype)&(data[DCXconc]==dcxconc)] #again select data from Master Sheet\n",
    "    fig, ax = plt.subplots(2,2,figsize=(15,15)) #declare figure\n",
    "    \n",
    "    n = len(selectdata.dropna().index) #gets the how many microtubules you analyzed per histogram\n",
    "    \n",
    "    c=0\n",
    "    for i in np.arange(len(ax)):\n",
    "        for j in np.arange(len(ax)):\n",
    "            parameter = parameters[c]\n",
    "\n",
    "            if parameter == GrowthRate : #same steps to make a histogram\n",
    "                maxbin = 1.5\n",
    "                binsize = 0.025\n",
    "\n",
    "            else:\n",
    "                maxbin = 30\n",
    "                binsize = 0.5\n",
    "\n",
    "            ax[i][j].hist(selectdata[parameter], bins=np.arange(0, maxbin + binsize, binsize), density=True);\n",
    "            ax[i][j].set_title(parameter)\n",
    "            ax[1][1].set_xlim(0,maxbin)\n",
    "            \n",
    "            c += 1\n",
    "    \n",
    "    selectcoeff = ResultFit[ResultFit[tubulin]==tubconc] #filter datafram for one [Tub]\n",
    "    \n",
    "    x = np.arange(0, 1.5 + 0.025, 0.025)\n",
    "    # keep filtering the dataframe to obtain a specific coefficient\n",
    "    mu = selectcoeff[(selectcoeff[Type] == dcxtype)&(selectcoeff[DCXconc] == dcxconc)][parameters[0]]['Coefficient 0'].loc['Value'] \n",
    "    sig = selectcoeff[(selectcoeff[Type] == dcxtype)&(selectcoeff[DCXconc] == dcxconc)][parameters[0]]['Coefficient 1'].loc['Value']\n",
    "    ax[0][0].plot(x, gaussian(x, mu, sig)); #plot a curve with the equation and its coefficients you just got. Grwoth rate\n",
    "    \n",
    "    x = np.arange(0, 30 + 0.5, 0.5)\n",
    "    scale = selectcoeff[(selectcoeff[Type] == dcxtype)&(selectcoeff[DCXconc] == dcxconc)][parameters[1]]['Coefficient 0'].loc['Value']\n",
    "    ax[0][1].plot(x, exponential(x, scale)); #same for nucleation\n",
    "    \n",
    "    shape = selectcoeff[(selectcoeff[Type] == dcxtype)&(selectcoeff[DCXconc] == dcxconc)][parameters[2]]['Coefficient 0'].loc['Value']\n",
    "    scale = selectcoeff[(selectcoeff[Type] == dcxtype)&(selectcoeff[DCXconc] == dcxconc)][parameters[2]]['Coefficient 1'].loc['Value']\n",
    "    ax[1][0].plot(x, gamma(x, shape, scale));#lifetime\n",
    "            \n",
    "    mu = selectcoeff[(selectcoeff[Type] == dcxtype)&(selectcoeff[DCXconc] == dcxconc)][parameters[3]]['Coefficient 0'].loc['Value']\n",
    "    sig = selectcoeff[(selectcoeff[Type] == dcxtype)&(selectcoeff[DCXconc] == dcxconc)][parameters[3]]['Coefficient 1'].loc['Value']\n",
    "    ax[1][1].plot(x, gaussian(x, mu, sig)); #shrikage rate\n",
    "    \n",
    "    return n"
   ]
  },
  {
   "cell_type": "code",
   "execution_count": 18,
   "metadata": {},
   "outputs": [
    {
     "data": {
      "text/plain": [
       "222"
      ]
     },
     "execution_count": 18,
     "metadata": {},
     "output_type": "execute_result"
    },
    {
     "data": {
      "image/png": "[encoded data removed]",
      "text/plain": [
       "<Figure size 1080x1080 with 4 Axes>"
      ]
     },
     "metadata": {
      "needs_background": "light"
     },
     "output_type": "display_data"
    }
   ],
   "source": [
    "plot_hist(data, 6, 'P191R', 35)"
   ]
  },
  {
   "cell_type": "markdown",
   "metadata": {},
   "source": [
    "I haven't bothered to make these pretty or to show the coefficients and SE's, but it's all in the Results dataframe :)"
   ]
  },
  {
   "cell_type": "markdown",
   "metadata": {},
   "source": [
    "|"
   ]
  }
 ],
 "metadata": {
  "kernelspec": {
   "display_name": "Python 3",
   "language": "python",
   "name": "python3"
  },
  "language_info": {
   "codemirror_mode": {
    "name": "ipython",
    "version": 3
   },
   "file_extension": ".py",
   "mimetype": "text/x-python",
   "name": "python",
   "nbconvert_exporter": "python",
   "pygments_lexer": "ipython3",
   "version": "3.7.6"
  }
 },
 "nbformat": 4,
 "nbformat_minor": 4
}
