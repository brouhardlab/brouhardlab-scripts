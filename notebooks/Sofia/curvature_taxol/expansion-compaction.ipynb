{
 "cells": [
  {
   "cell_type": "code",
   "execution_count": 1,
   "metadata": {
    "tags": []
   },
   "outputs": [],
   "source": [
    "import numpy as np\n",
    "import seaborn as sns\n",
    "import matplotlib.pyplot as plt\n",
    "import matplotlib\n",
    "import csv\n",
    "import pandas as pd\n",
    "from pandas.api.types import CategoricalDtype\n",
    "import scipy as sp\n",
    "from pathlib import Path\n",
    "import tkinter as tk\n",
    "from tkinter import filedialog\n",
    "import itertools\n",
    "from colour import Color\n",
    "from datetime import date\n",
    "from sklearn.metrics import r2_score as R2S"
   ]
  },
  {
   "cell_type": "code",
   "execution_count": 2,
   "metadata": {
    "tags": []
   },
   "outputs": [
    {
     "name": "stdout",
     "output_type": "stream",
     "text": [
      "Today's date: 2024-05-22\n"
     ]
    },
    {
     "data": {
      "text/plain": [
       "'2024-05-22'"
      ]
     },
     "execution_count": 2,
     "metadata": {},
     "output_type": "execute_result"
    }
   ],
   "source": [
    "today = date.today()\n",
    "print(\"Today's date:\", today)\n",
    "date_today = str(today)\n",
    "date_today"
   ]
  },
  {
   "cell_type": "code",
   "execution_count": 3,
   "metadata": {
    "tags": []
   },
   "outputs": [],
   "source": [
    "matplotlib.rcParams['font.family'] = 'Helvetica Neue LT Std'\n",
    "sns.set_style({'font.family':'Helvetica Neue LT Std', 'font.serif':'Helvetica Neue LT Std'})"
   ]
  },
  {
   "cell_type": "code",
   "execution_count": 4,
   "metadata": {
    "tags": []
   },
   "outputs": [
    {
     "data": {
      "text/plain": [
       "2.608695652173909"
      ]
     },
     "execution_count": 4,
     "metadata": {},
     "output_type": "execute_result"
    }
   ],
   "source": [
    "tubulin = '[Tubulin] ' r'$(\\mu M)$'\n",
    "tub = 'tub'\n",
    "\n",
    "DCXconc = '[DCX] ' r'$(n M)$'\n",
    "DCX = 'DCX'\n",
    "Type = 'DCX Type'\n",
    "\n",
    "taxol = '[Paclitaxel] (' r'$\\mu$' 'M)'#'[Taxol] ' r'$(\\mu M)$' #'[Docetaxol] ' r'$(\\mu M)$' #'[Epothilone D] ' r'$(\\mu M)$'\n",
    "epod = '[Epothilone D] (' r'$\\mu$' 'M)'\n",
    "doce = '[Docetaxel] (' r'$\\mu$' 'M)'\n",
    "sirtub = '[SiR-tubulin] (' r'$\\mu$' 'M)'\n",
    "tax = 'epoD'\n",
    "\n",
    "Concentration = 'Concentration (' r'$\\mu$' 'M)'\n",
    "Length = 'Length ' r'$(\\mu m)$'\n",
    "Lifetime = 'Lifetime ' r'$(min)$'\n",
    "GrowthRate = 'Growth Rate ' r'$(\\mu m / min)$'\n",
    "TimeToNucleate = 'Time to Nucleate ' r'$(min)$'\n",
    "ShrinkageLength = 'Shrink Length ' r'$(\\mu m)$'\n",
    "ShrinkageLifetime = 'Shrink Lifetime ' r'$(min)$'\n",
    "ShrinkageRate = 'Shrink Rate ' r'$(\\mu m / min)$'\n",
    "\n",
    "drug = '[Drug] ' r'$(\\mu M)$'\n",
    "drugtype = 'Drug Type'\n",
    "\n",
    "nogales2018 = (1- 81.76/83.95)*100\n",
    "nogales2018"
   ]
  },
  {
   "cell_type": "code",
   "execution_count": 5,
   "metadata": {
    "tags": []
   },
   "outputs": [
    {
     "data": {
      "text/plain": [
       "['#fcf2b8', '#fcf2b8', '#fcf2b8', '#fcf2b8', '#fcf2b8']"
      ]
     },
     "execution_count": 5,
     "metadata": {},
     "output_type": "execute_result"
    }
   ],
   "source": [
    "black = '#000000'\n",
    "grey = '#777777'\n",
    "blue = '#23459C'\n",
    "cyan = '#0089CF'\n",
    "green = '#79BA1A'\n",
    "purple = '#AB4A9C'\n",
    "lily = '#CB81EA'\n",
    "magenta = '#D80B8C'\n",
    "red = '#e60000'\n",
    "orange = '#FF7300'\n",
    "darkorange = '#FF5B00'\n",
    "lightorange = '#FFAC83'\n",
    "darkyellow= '#FCF2B8'\n",
    "yellow = '#FFCB05'\n",
    "lightyellow = '#FCF2B8'\n",
    "pink = '#FFA4CD'\n",
    "StartHue1 = Color(purple)\n",
    "DC1color = list(StartHue1.range_to(Color(pink),3))\n",
    "StartHue2 = Color(darkorange)\n",
    "DC2color = list(StartHue2.range_to(Color(lightorange),3))\n",
    "\n",
    "\n",
    "palette = [grey,cyan] + list(map(Color.get_hex,DC1color)) + list(map(Color.get_hex,DC2color)) + [green]\n",
    "parameters = [GrowthRate,TimeToNucleate,Lifetime,ShrinkageRate]\n",
    "\n",
    "StartHue3 = Color(lightyellow)\n",
    "Yellowcolor = list(StartHue3.range_to(Color(darkyellow),5))\n",
    "Yellowpalette = list(map(Color.get_hex,Yellowcolor))\n",
    "Yellowpalette"
   ]
  },
  {
   "cell_type": "markdown",
   "metadata": {},
   "source": [
    "## Import Kappa csv ##"
   ]
  },
  {
   "cell_type": "code",
   "execution_count": 6,
   "metadata": {
    "tags": []
   },
   "outputs": [],
   "source": [
    "askdirectory = filedialog.askdirectory() # show an \"Open\" dialog box and return the path to the selected file\n",
    "path = Path(askdirectory)"
   ]
  },
  {
   "cell_type": "code",
   "execution_count": 106,
   "metadata": {},
   "outputs": [
    {
     "data": {
      "text/plain": [
       "[WindowsPath('D:/Sofia/2023_1winter/2023-02-02_doublecap_EpoD/CH1_epoD0.1uM'),\n",
       " WindowsPath('D:/Sofia/2023_1winter/2023-02-02_doublecap_EpoD/CH2_epoD0.1uM')]"
      ]
     },
     "execution_count": 106,
     "metadata": {},
     "output_type": "execute_result"
    }
   ],
   "source": [
    "folders = [x for x in path.iterdir() if x.is_dir()]\n",
    "folders = [i for i in folders if str(i.stem).rfind(tax) != -1]\n",
    "folders"
   ]
  },
  {
   "cell_type": "code",
   "execution_count": 107,
   "metadata": {},
   "outputs": [
    {
     "data": {
      "text/plain": [
       "[WindowsPath('D:/Sofia/2023_1winter/2023-02-02_doublecap_EpoD/CH1_epoD0.1uM/1-Stack_Composite-final-1-plain.csv'),\n",
       " WindowsPath('D:/Sofia/2023_1winter/2023-02-02_doublecap_EpoD/CH1_epoD0.1uM/1-Stack_Composite-final-2-epoD.csv'),\n",
       " WindowsPath('D:/Sofia/2023_1winter/2023-02-02_doublecap_EpoD/CH2_epoD0.1uM/1-Stack_Composite-final-1-plain.csv'),\n",
       " WindowsPath('D:/Sofia/2023_1winter/2023-02-02_doublecap_EpoD/CH2_epoD0.1uM/1-Stack_Composite-final-2-epoD.csv')]"
      ]
     },
     "execution_count": 107,
     "metadata": {},
     "output_type": "execute_result"
    }
   ],
   "source": [
    "files = []\n",
    "for k in folders:\n",
    "    files0 = [x for x in k.iterdir() if x.is_file()]\n",
    "    files0 = [i for i in files0 if str(i).rfind('final') != -1 if str(i).rfind('csv') != -1]\n",
    "    files = files + files0\n",
    "files"
   ]
  },
  {
   "cell_type": "code",
   "execution_count": 108,
   "metadata": {},
   "outputs": [
    {
     "data": {
      "text/plain": [
       "[WindowsPath('D:/Sofia/2023_1winter/2023-02-02_doublecap_EpoD/CH1_epoD0.1uM/1-Stack_Composite-final-2-epoD.csv'),\n",
       " WindowsPath('D:/Sofia/2023_1winter/2023-02-02_doublecap_EpoD/CH2_epoD0.1uM/1-Stack_Composite-final-2-epoD.csv')]"
      ]
     },
     "execution_count": 108,
     "metadata": {},
     "output_type": "execute_result"
    }
   ],
   "source": [
    "files1 = [i for i in files if str(i).rfind('1-plain') != -1 ]\n",
    "files2 = [i for i in files if str(i).rfind('2-'+tax) != -1 ]\n",
    "#files3 = [i for i in files if str(i).rfind('3dcx') != -1 ]\n",
    "files2"
   ]
  },
  {
   "cell_type": "code",
   "execution_count": 109,
   "metadata": {},
   "outputs": [],
   "source": [
    "def findmetadata(tag,end,i):\n",
    "    n = len(tag)\n",
    "    locstart = str(i).rfind(tag) \n",
    "    locend = str(i).find(end, locstart)\n",
    "    tag0 = str(i)[locstart+n: locend]\n",
    "    \n",
    "    return tag0"
   ]
  },
  {
   "cell_type": "code",
   "execution_count": 110,
   "metadata": {},
   "outputs": [
    {
     "data": {
      "text/plain": [
       "(['2023-02-02', '2023-02-02'], ['1', '2'], [], [], ['0.1', '0.1'])"
      ]
     },
     "execution_count": 110,
     "metadata": {},
     "output_type": "execute_result"
    }
   ],
   "source": [
    "dates= []\n",
    "CH= []\n",
    "taxl= []\n",
    "dcx = []\n",
    "dcxtype= []\n",
    "for i in files1:\n",
    "    dateloc = str(i).rfind(\"202\")   \n",
    "    dates0 = str(i)[dateloc : dateloc+10]\n",
    "    dates = dates + [dates0]\n",
    "\n",
    "    CH0 = findmetadata(\"CH\",'_',i)\n",
    "    CH = CH + [CH0]  \n",
    "    \n",
    "    #dcx0 = findmetadata(\"DCX\",'nM',i)\n",
    "    #dcx = dcx + [dcx0] \n",
    "    \n",
    "    #type0 = findmetadata(\"type\",'_',i)\n",
    "    #dcxtype = dcxtype + [type0] \n",
    "    \n",
    "    taxl0 = findmetadata(tax,'uM',i)\n",
    "    taxl = taxl + [taxl0] \n",
    "    \n",
    "\n",
    "dates,CH,dcx, dcxtype,taxl"
   ]
  },
  {
   "cell_type": "code",
   "execution_count": 111,
   "metadata": {},
   "outputs": [],
   "source": [
    "def keep_avg_kappa(file,i,timepoint):\n",
    "    data = pd.read_csv(file, encoding='utf-8')\n",
    "    \n",
    "    keep_columns = ['Curve Name','Curve Length (um)']\n",
    "    \n",
    "    data_avg = data.drop_duplicates(subset ='Curve Length (um)', keep = 'first')\n",
    "    data_avg = data_avg[keep_columns]\n",
    "    \n",
    "    if timepoint == 'plain':\n",
    "        data_avg[taxol]=0\n",
    "        data_avg[DCXconc]=0\n",
    "        data_avg[Type]='None'\n",
    "        \n",
    "    if timepoint == 'tax':\n",
    "        data_avg[taxol]=float(taxl[i])\n",
    "        data_avg[DCXconc]=0\n",
    "        data_avg[Type]='None'\n",
    "        \n",
    "#     if timepoint == 'dcx':\n",
    "#         data_avg[taxol]=float(tax[i])\n",
    "#         data_avg[DCXconc]=float(dcx[i])\n",
    "#         data_avg[Type]=dcxtype[i]\n",
    "                \n",
    "        \n",
    "    data_avg['Date']=dates[i]\n",
    "    data_avg['CH']=CH[i]\n",
    "    \n",
    "    return data_avg"
   ]
  },
  {
   "cell_type": "code",
   "execution_count": 112,
   "metadata": {},
   "outputs": [],
   "source": [
    "data = pd.DataFrame(columns=[] , index=[])\n",
    "for i in range(0,len(files1)):\n",
    "    \n",
    "    data_1plain_avg = keep_avg_kappa(files1[i],i,'plain')\n",
    "    data_2tax_avg = keep_avg_kappa(files2[i],i,'tax')\n",
    "    #data_3dcx_avg = keep_avg_kappa(files3[i],i,'dcx')\n",
    "\n",
    "    data0 = pd.concat([data_1plain_avg, data_2tax_avg], ignore_index=True)\n",
    "\n",
    "    data0 = data0.sort_values(['Curve Name',taxol,DCXconc])\n",
    "\n",
    "    data = pd.concat([data,data0], ignore_index=True)"
   ]
  },
  {
   "cell_type": "code",
   "execution_count": 113,
   "metadata": {},
   "outputs": [
    {
     "data": {
      "text/html": [
       "<div>\n",
       "<style scoped>\n",
       "    .dataframe tbody tr th:only-of-type {\n",
       "        vertical-align: middle;\n",
       "    }\n",
       "\n",
       "    .dataframe tbody tr th {\n",
       "        vertical-align: top;\n",
       "    }\n",
       "\n",
       "    .dataframe thead th {\n",
       "        text-align: right;\n",
       "    }\n",
       "</style>\n",
       "<table border=\"1\" class=\"dataframe\">\n",
       "  <thead>\n",
       "    <tr style=\"text-align: right;\">\n",
       "      <th></th>\n",
       "      <th>Curve Name</th>\n",
       "      <th>Curve Length (um)</th>\n",
       "      <th>[Epothilone D] $(\\mu M)$</th>\n",
       "      <th>[DCX] $(n M)$</th>\n",
       "      <th>DCX Type</th>\n",
       "      <th>Date</th>\n",
       "      <th>CH</th>\n",
       "    </tr>\n",
       "  </thead>\n",
       "  <tbody>\n",
       "    <tr>\n",
       "      <td>0</td>\n",
       "      <td>CURVE 1</td>\n",
       "      <td>7.927621</td>\n",
       "      <td>0.0</td>\n",
       "      <td>0</td>\n",
       "      <td>None</td>\n",
       "      <td>2023-02-02</td>\n",
       "      <td>1</td>\n",
       "    </tr>\n",
       "    <tr>\n",
       "      <td>1</td>\n",
       "      <td>CURVE 1</td>\n",
       "      <td>8.110583</td>\n",
       "      <td>0.1</td>\n",
       "      <td>0</td>\n",
       "      <td>None</td>\n",
       "      <td>2023-02-02</td>\n",
       "      <td>1</td>\n",
       "    </tr>\n",
       "    <tr>\n",
       "      <td>2</td>\n",
       "      <td>CURVE 2</td>\n",
       "      <td>9.059712</td>\n",
       "      <td>0.0</td>\n",
       "      <td>0</td>\n",
       "      <td>None</td>\n",
       "      <td>2023-02-02</td>\n",
       "      <td>1</td>\n",
       "    </tr>\n",
       "    <tr>\n",
       "      <td>3</td>\n",
       "      <td>CURVE 2</td>\n",
       "      <td>9.263397</td>\n",
       "      <td>0.1</td>\n",
       "      <td>0</td>\n",
       "      <td>None</td>\n",
       "      <td>2023-02-02</td>\n",
       "      <td>1</td>\n",
       "    </tr>\n",
       "    <tr>\n",
       "      <td>4</td>\n",
       "      <td>CURVE 3</td>\n",
       "      <td>9.247815</td>\n",
       "      <td>0.0</td>\n",
       "      <td>0</td>\n",
       "      <td>None</td>\n",
       "      <td>2023-02-02</td>\n",
       "      <td>1</td>\n",
       "    </tr>\n",
       "    <tr>\n",
       "      <td>5</td>\n",
       "      <td>CURVE 3</td>\n",
       "      <td>9.321196</td>\n",
       "      <td>0.1</td>\n",
       "      <td>0</td>\n",
       "      <td>None</td>\n",
       "      <td>2023-02-02</td>\n",
       "      <td>1</td>\n",
       "    </tr>\n",
       "    <tr>\n",
       "      <td>6</td>\n",
       "      <td>CURVE 1</td>\n",
       "      <td>8.020421</td>\n",
       "      <td>0.0</td>\n",
       "      <td>0</td>\n",
       "      <td>None</td>\n",
       "      <td>2023-02-02</td>\n",
       "      <td>2</td>\n",
       "    </tr>\n",
       "    <tr>\n",
       "      <td>7</td>\n",
       "      <td>CURVE 1</td>\n",
       "      <td>8.268629</td>\n",
       "      <td>0.1</td>\n",
       "      <td>0</td>\n",
       "      <td>None</td>\n",
       "      <td>2023-02-02</td>\n",
       "      <td>2</td>\n",
       "    </tr>\n",
       "    <tr>\n",
       "      <td>8</td>\n",
       "      <td>CURVE 10</td>\n",
       "      <td>5.922948</td>\n",
       "      <td>0.0</td>\n",
       "      <td>0</td>\n",
       "      <td>None</td>\n",
       "      <td>2023-02-02</td>\n",
       "      <td>2</td>\n",
       "    </tr>\n",
       "    <tr>\n",
       "      <td>9</td>\n",
       "      <td>CURVE 10</td>\n",
       "      <td>6.067056</td>\n",
       "      <td>0.1</td>\n",
       "      <td>0</td>\n",
       "      <td>None</td>\n",
       "      <td>2023-02-02</td>\n",
       "      <td>2</td>\n",
       "    </tr>\n",
       "    <tr>\n",
       "      <td>10</td>\n",
       "      <td>CURVE 11</td>\n",
       "      <td>5.452587</td>\n",
       "      <td>0.0</td>\n",
       "      <td>0</td>\n",
       "      <td>None</td>\n",
       "      <td>2023-02-02</td>\n",
       "      <td>2</td>\n",
       "    </tr>\n",
       "    <tr>\n",
       "      <td>11</td>\n",
       "      <td>CURVE 11</td>\n",
       "      <td>5.450484</td>\n",
       "      <td>0.1</td>\n",
       "      <td>0</td>\n",
       "      <td>None</td>\n",
       "      <td>2023-02-02</td>\n",
       "      <td>2</td>\n",
       "    </tr>\n",
       "    <tr>\n",
       "      <td>12</td>\n",
       "      <td>CURVE 12</td>\n",
       "      <td>9.147712</td>\n",
       "      <td>0.0</td>\n",
       "      <td>0</td>\n",
       "      <td>None</td>\n",
       "      <td>2023-02-02</td>\n",
       "      <td>2</td>\n",
       "    </tr>\n",
       "    <tr>\n",
       "      <td>13</td>\n",
       "      <td>CURVE 12</td>\n",
       "      <td>9.168786</td>\n",
       "      <td>0.1</td>\n",
       "      <td>0</td>\n",
       "      <td>None</td>\n",
       "      <td>2023-02-02</td>\n",
       "      <td>2</td>\n",
       "    </tr>\n",
       "    <tr>\n",
       "      <td>14</td>\n",
       "      <td>CURVE 2</td>\n",
       "      <td>8.335512</td>\n",
       "      <td>0.0</td>\n",
       "      <td>0</td>\n",
       "      <td>None</td>\n",
       "      <td>2023-02-02</td>\n",
       "      <td>2</td>\n",
       "    </tr>\n",
       "    <tr>\n",
       "      <td>15</td>\n",
       "      <td>CURVE 2</td>\n",
       "      <td>8.509265</td>\n",
       "      <td>0.1</td>\n",
       "      <td>0</td>\n",
       "      <td>None</td>\n",
       "      <td>2023-02-02</td>\n",
       "      <td>2</td>\n",
       "    </tr>\n",
       "    <tr>\n",
       "      <td>16</td>\n",
       "      <td>CURVE 3</td>\n",
       "      <td>13.167254</td>\n",
       "      <td>0.0</td>\n",
       "      <td>0</td>\n",
       "      <td>None</td>\n",
       "      <td>2023-02-02</td>\n",
       "      <td>2</td>\n",
       "    </tr>\n",
       "    <tr>\n",
       "      <td>17</td>\n",
       "      <td>CURVE 3</td>\n",
       "      <td>13.362126</td>\n",
       "      <td>0.1</td>\n",
       "      <td>0</td>\n",
       "      <td>None</td>\n",
       "      <td>2023-02-02</td>\n",
       "      <td>2</td>\n",
       "    </tr>\n",
       "    <tr>\n",
       "      <td>18</td>\n",
       "      <td>CURVE 4</td>\n",
       "      <td>5.320811</td>\n",
       "      <td>0.0</td>\n",
       "      <td>0</td>\n",
       "      <td>None</td>\n",
       "      <td>2023-02-02</td>\n",
       "      <td>2</td>\n",
       "    </tr>\n",
       "    <tr>\n",
       "      <td>19</td>\n",
       "      <td>CURVE 4</td>\n",
       "      <td>5.322677</td>\n",
       "      <td>0.1</td>\n",
       "      <td>0</td>\n",
       "      <td>None</td>\n",
       "      <td>2023-02-02</td>\n",
       "      <td>2</td>\n",
       "    </tr>\n",
       "    <tr>\n",
       "      <td>20</td>\n",
       "      <td>CURVE 5</td>\n",
       "      <td>7.387652</td>\n",
       "      <td>0.0</td>\n",
       "      <td>0</td>\n",
       "      <td>None</td>\n",
       "      <td>2023-02-02</td>\n",
       "      <td>2</td>\n",
       "    </tr>\n",
       "    <tr>\n",
       "      <td>21</td>\n",
       "      <td>CURVE 5</td>\n",
       "      <td>7.561172</td>\n",
       "      <td>0.1</td>\n",
       "      <td>0</td>\n",
       "      <td>None</td>\n",
       "      <td>2023-02-02</td>\n",
       "      <td>2</td>\n",
       "    </tr>\n",
       "    <tr>\n",
       "      <td>22</td>\n",
       "      <td>CURVE 6</td>\n",
       "      <td>5.211931</td>\n",
       "      <td>0.0</td>\n",
       "      <td>0</td>\n",
       "      <td>None</td>\n",
       "      <td>2023-02-02</td>\n",
       "      <td>2</td>\n",
       "    </tr>\n",
       "    <tr>\n",
       "      <td>23</td>\n",
       "      <td>CURVE 6</td>\n",
       "      <td>5.221171</td>\n",
       "      <td>0.1</td>\n",
       "      <td>0</td>\n",
       "      <td>None</td>\n",
       "      <td>2023-02-02</td>\n",
       "      <td>2</td>\n",
       "    </tr>\n",
       "    <tr>\n",
       "      <td>24</td>\n",
       "      <td>CURVE 7</td>\n",
       "      <td>7.494428</td>\n",
       "      <td>0.0</td>\n",
       "      <td>0</td>\n",
       "      <td>None</td>\n",
       "      <td>2023-02-02</td>\n",
       "      <td>2</td>\n",
       "    </tr>\n",
       "    <tr>\n",
       "      <td>25</td>\n",
       "      <td>CURVE 7</td>\n",
       "      <td>7.613788</td>\n",
       "      <td>0.1</td>\n",
       "      <td>0</td>\n",
       "      <td>None</td>\n",
       "      <td>2023-02-02</td>\n",
       "      <td>2</td>\n",
       "    </tr>\n",
       "    <tr>\n",
       "      <td>26</td>\n",
       "      <td>CURVE 8</td>\n",
       "      <td>6.447007</td>\n",
       "      <td>0.0</td>\n",
       "      <td>0</td>\n",
       "      <td>None</td>\n",
       "      <td>2023-02-02</td>\n",
       "      <td>2</td>\n",
       "    </tr>\n",
       "    <tr>\n",
       "      <td>27</td>\n",
       "      <td>CURVE 8</td>\n",
       "      <td>6.560230</td>\n",
       "      <td>0.1</td>\n",
       "      <td>0</td>\n",
       "      <td>None</td>\n",
       "      <td>2023-02-02</td>\n",
       "      <td>2</td>\n",
       "    </tr>\n",
       "    <tr>\n",
       "      <td>28</td>\n",
       "      <td>CURVE 9</td>\n",
       "      <td>7.460709</td>\n",
       "      <td>0.0</td>\n",
       "      <td>0</td>\n",
       "      <td>None</td>\n",
       "      <td>2023-02-02</td>\n",
       "      <td>2</td>\n",
       "    </tr>\n",
       "    <tr>\n",
       "      <td>29</td>\n",
       "      <td>CURVE 9</td>\n",
       "      <td>7.701702</td>\n",
       "      <td>0.1</td>\n",
       "      <td>0</td>\n",
       "      <td>None</td>\n",
       "      <td>2023-02-02</td>\n",
       "      <td>2</td>\n",
       "    </tr>\n",
       "  </tbody>\n",
       "</table>\n",
       "</div>"
      ],
      "text/plain": [
       "   Curve Name  Curve Length (um)  [Epothilone D] $(\\mu M)$  [DCX] $(n M)$  \\\n",
       "0     CURVE 1           7.927621                       0.0              0   \n",
       "1     CURVE 1           8.110583                       0.1              0   \n",
       "2     CURVE 2           9.059712                       0.0              0   \n",
       "3     CURVE 2           9.263397                       0.1              0   \n",
       "4     CURVE 3           9.247815                       0.0              0   \n",
       "5     CURVE 3           9.321196                       0.1              0   \n",
       "6     CURVE 1           8.020421                       0.0              0   \n",
       "7     CURVE 1           8.268629                       0.1              0   \n",
       "8    CURVE 10           5.922948                       0.0              0   \n",
       "9    CURVE 10           6.067056                       0.1              0   \n",
       "10   CURVE 11           5.452587                       0.0              0   \n",
       "11   CURVE 11           5.450484                       0.1              0   \n",
       "12   CURVE 12           9.147712                       0.0              0   \n",
       "13   CURVE 12           9.168786                       0.1              0   \n",
       "14    CURVE 2           8.335512                       0.0              0   \n",
       "15    CURVE 2           8.509265                       0.1              0   \n",
       "16    CURVE 3          13.167254                       0.0              0   \n",
       "17    CURVE 3          13.362126                       0.1              0   \n",
       "18    CURVE 4           5.320811                       0.0              0   \n",
       "19    CURVE 4           5.322677                       0.1              0   \n",
       "20    CURVE 5           7.387652                       0.0              0   \n",
       "21    CURVE 5           7.561172                       0.1              0   \n",
       "22    CURVE 6           5.211931                       0.0              0   \n",
       "23    CURVE 6           5.221171                       0.1              0   \n",
       "24    CURVE 7           7.494428                       0.0              0   \n",
       "25    CURVE 7           7.613788                       0.1              0   \n",
       "26    CURVE 8           6.447007                       0.0              0   \n",
       "27    CURVE 8           6.560230                       0.1              0   \n",
       "28    CURVE 9           7.460709                       0.0              0   \n",
       "29    CURVE 9           7.701702                       0.1              0   \n",
       "\n",
       "   DCX Type        Date CH  \n",
       "0      None  2023-02-02  1  \n",
       "1      None  2023-02-02  1  \n",
       "2      None  2023-02-02  1  \n",
       "3      None  2023-02-02  1  \n",
       "4      None  2023-02-02  1  \n",
       "5      None  2023-02-02  1  \n",
       "6      None  2023-02-02  2  \n",
       "7      None  2023-02-02  2  \n",
       "8      None  2023-02-02  2  \n",
       "9      None  2023-02-02  2  \n",
       "10     None  2023-02-02  2  \n",
       "11     None  2023-02-02  2  \n",
       "12     None  2023-02-02  2  \n",
       "13     None  2023-02-02  2  \n",
       "14     None  2023-02-02  2  \n",
       "15     None  2023-02-02  2  \n",
       "16     None  2023-02-02  2  \n",
       "17     None  2023-02-02  2  \n",
       "18     None  2023-02-02  2  \n",
       "19     None  2023-02-02  2  \n",
       "20     None  2023-02-02  2  \n",
       "21     None  2023-02-02  2  \n",
       "22     None  2023-02-02  2  \n",
       "23     None  2023-02-02  2  \n",
       "24     None  2023-02-02  2  \n",
       "25     None  2023-02-02  2  \n",
       "26     None  2023-02-02  2  \n",
       "27     None  2023-02-02  2  \n",
       "28     None  2023-02-02  2  \n",
       "29     None  2023-02-02  2  "
      ]
     },
     "execution_count": 113,
     "metadata": {},
     "output_type": "execute_result"
    }
   ],
   "source": [
    "data"
   ]
  },
  {
   "cell_type": "code",
   "execution_count": 114,
   "metadata": {},
   "outputs": [
    {
     "data": {
      "text/plain": [
       "WindowsPath('D:/Sofia')"
      ]
     },
     "execution_count": 114,
     "metadata": {},
     "output_type": "execute_result"
    }
   ],
   "source": [
    "path.parents[1]"
   ]
  },
  {
   "cell_type": "code",
   "execution_count": 115,
   "metadata": {},
   "outputs": [
    {
     "data": {
      "text/plain": [
       "WindowsPath('D:/Sofia/2023_1winter/Expansion_Data_Sheets')"
      ]
     },
     "execution_count": 115,
     "metadata": {},
     "output_type": "execute_result"
    }
   ],
   "source": [
    "newdirectory = str(path.parents[0])+'//Expansion_Data_Sheets'\n",
    "newmydir = Path(newdirectory)\n",
    "newmydir.mkdir(exist_ok=True)\n",
    "newmydir"
   ]
  },
  {
   "cell_type": "code",
   "execution_count": 116,
   "metadata": {},
   "outputs": [
    {
     "data": {
      "text/plain": [
       "'2023-02-02_EpoD_expansion_analysed-on_2023-02-03.csv'"
      ]
     },
     "execution_count": 116,
     "metadata": {},
     "output_type": "execute_result"
    }
   ],
   "source": [
    "name = dates[0]+'_EpoD_expansion_analysed-on_'+date_today +'.csv'\n",
    "name"
   ]
  },
  {
   "cell_type": "code",
   "execution_count": 117,
   "metadata": {},
   "outputs": [],
   "source": [
    "data.to_csv(path/(name), encoding='utf-8', index=False)\n",
    "data.to_csv(newmydir/(name), encoding='utf-8', index=False)"
   ]
  },
  {
   "cell_type": "markdown",
   "metadata": {},
   "source": [
    "### JOIN ###"
   ]
  },
  {
   "cell_type": "code",
   "execution_count": 118,
   "metadata": {},
   "outputs": [],
   "source": [
    "askdirectory = filedialog.askdirectory() # show an \"Open\" dialog box and return the path to the selected file\n",
    "path = Path(askdirectory)"
   ]
  },
  {
   "cell_type": "code",
   "execution_count": 119,
   "metadata": {},
   "outputs": [
    {
     "data": {
      "text/plain": [
       "[WindowsPath('D:/Sofia/2023_1winter/Expansion_Data_Sheets/2023-01-19_EpoD_expansion_analysed-on_2023-02-01.csv'),\n",
       " WindowsPath('D:/Sofia/2023_1winter/Expansion_Data_Sheets/2023-01-24_EpoD_expansion_analysed-on_2023-02-01.csv'),\n",
       " WindowsPath('D:/Sofia/2023_1winter/Expansion_Data_Sheets/2023-01-25_EpoD_expansion_analysed-on_2023-02-01.csv'),\n",
       " WindowsPath('D:/Sofia/2023_1winter/Expansion_Data_Sheets/2023-02-02_EpoD_expansion_analysed-on_2023-02-03.csv')]"
      ]
     },
     "execution_count": 119,
     "metadata": {},
     "output_type": "execute_result"
    }
   ],
   "source": [
    "files = [x for x in path.iterdir() if x.is_file()]\n",
    "files = [i for i in files if str(i).rfind('EpoD') != -1]\n",
    "files = [i for i in files if str(i).rfind('Sheet.csv') == -1 if str(i).rfind('csv') != -1]\n",
    "files"
   ]
  },
  {
   "cell_type": "code",
   "execution_count": 120,
   "metadata": {},
   "outputs": [
    {
     "data": {
      "text/html": [
       "<div>\n",
       "<style scoped>\n",
       "    .dataframe tbody tr th:only-of-type {\n",
       "        vertical-align: middle;\n",
       "    }\n",
       "\n",
       "    .dataframe tbody tr th {\n",
       "        vertical-align: top;\n",
       "    }\n",
       "\n",
       "    .dataframe thead th {\n",
       "        text-align: right;\n",
       "    }\n",
       "</style>\n",
       "<table border=\"1\" class=\"dataframe\">\n",
       "  <thead>\n",
       "    <tr style=\"text-align: right;\">\n",
       "      <th></th>\n",
       "      <th>Curve Name</th>\n",
       "      <th>Curve Length (um)</th>\n",
       "      <th>[Epothilone D] $(\\mu M)$</th>\n",
       "      <th>[DCX] $(n M)$</th>\n",
       "      <th>DCX Type</th>\n",
       "      <th>Date</th>\n",
       "      <th>CH</th>\n",
       "    </tr>\n",
       "  </thead>\n",
       "  <tbody>\n",
       "    <tr>\n",
       "      <td>0</td>\n",
       "      <td>CURVE 1</td>\n",
       "      <td>11.829896</td>\n",
       "      <td>0.0</td>\n",
       "      <td>0</td>\n",
       "      <td>None</td>\n",
       "      <td>2023-01-19</td>\n",
       "      <td>1</td>\n",
       "    </tr>\n",
       "    <tr>\n",
       "      <td>1</td>\n",
       "      <td>CURVE 1</td>\n",
       "      <td>12.143414</td>\n",
       "      <td>10.0</td>\n",
       "      <td>0</td>\n",
       "      <td>None</td>\n",
       "      <td>2023-01-19</td>\n",
       "      <td>1</td>\n",
       "    </tr>\n",
       "    <tr>\n",
       "      <td>2</td>\n",
       "      <td>CURVE 2</td>\n",
       "      <td>7.579007</td>\n",
       "      <td>0.0</td>\n",
       "      <td>0</td>\n",
       "      <td>None</td>\n",
       "      <td>2023-01-19</td>\n",
       "      <td>1</td>\n",
       "    </tr>\n",
       "    <tr>\n",
       "      <td>3</td>\n",
       "      <td>CURVE 2</td>\n",
       "      <td>7.774119</td>\n",
       "      <td>10.0</td>\n",
       "      <td>0</td>\n",
       "      <td>None</td>\n",
       "      <td>2023-01-19</td>\n",
       "      <td>1</td>\n",
       "    </tr>\n",
       "    <tr>\n",
       "      <td>4</td>\n",
       "      <td>CURVE 3</td>\n",
       "      <td>6.910134</td>\n",
       "      <td>0.0</td>\n",
       "      <td>0</td>\n",
       "      <td>None</td>\n",
       "      <td>2023-01-19</td>\n",
       "      <td>1</td>\n",
       "    </tr>\n",
       "    <tr>\n",
       "      <td>...</td>\n",
       "      <td>...</td>\n",
       "      <td>...</td>\n",
       "      <td>...</td>\n",
       "      <td>...</td>\n",
       "      <td>...</td>\n",
       "      <td>...</td>\n",
       "      <td>...</td>\n",
       "    </tr>\n",
       "    <tr>\n",
       "      <td>135</td>\n",
       "      <td>CURVE 7</td>\n",
       "      <td>7.613788</td>\n",
       "      <td>0.1</td>\n",
       "      <td>0</td>\n",
       "      <td>None</td>\n",
       "      <td>2023-02-02</td>\n",
       "      <td>2</td>\n",
       "    </tr>\n",
       "    <tr>\n",
       "      <td>136</td>\n",
       "      <td>CURVE 8</td>\n",
       "      <td>6.447007</td>\n",
       "      <td>0.0</td>\n",
       "      <td>0</td>\n",
       "      <td>None</td>\n",
       "      <td>2023-02-02</td>\n",
       "      <td>2</td>\n",
       "    </tr>\n",
       "    <tr>\n",
       "      <td>137</td>\n",
       "      <td>CURVE 8</td>\n",
       "      <td>6.560230</td>\n",
       "      <td>0.1</td>\n",
       "      <td>0</td>\n",
       "      <td>None</td>\n",
       "      <td>2023-02-02</td>\n",
       "      <td>2</td>\n",
       "    </tr>\n",
       "    <tr>\n",
       "      <td>138</td>\n",
       "      <td>CURVE 9</td>\n",
       "      <td>7.460709</td>\n",
       "      <td>0.0</td>\n",
       "      <td>0</td>\n",
       "      <td>None</td>\n",
       "      <td>2023-02-02</td>\n",
       "      <td>2</td>\n",
       "    </tr>\n",
       "    <tr>\n",
       "      <td>139</td>\n",
       "      <td>CURVE 9</td>\n",
       "      <td>7.701702</td>\n",
       "      <td>0.1</td>\n",
       "      <td>0</td>\n",
       "      <td>None</td>\n",
       "      <td>2023-02-02</td>\n",
       "      <td>2</td>\n",
       "    </tr>\n",
       "  </tbody>\n",
       "</table>\n",
       "<p>140 rows × 7 columns</p>\n",
       "</div>"
      ],
      "text/plain": [
       "    Curve Name  Curve Length (um)  [Epothilone D] $(\\mu M)$  [DCX] $(n M)$  \\\n",
       "0      CURVE 1          11.829896                       0.0              0   \n",
       "1      CURVE 1          12.143414                      10.0              0   \n",
       "2      CURVE 2           7.579007                       0.0              0   \n",
       "3      CURVE 2           7.774119                      10.0              0   \n",
       "4      CURVE 3           6.910134                       0.0              0   \n",
       "..         ...                ...                       ...            ...   \n",
       "135    CURVE 7           7.613788                       0.1              0   \n",
       "136    CURVE 8           6.447007                       0.0              0   \n",
       "137    CURVE 8           6.560230                       0.1              0   \n",
       "138    CURVE 9           7.460709                       0.0              0   \n",
       "139    CURVE 9           7.701702                       0.1              0   \n",
       "\n",
       "    DCX Type        Date  CH  \n",
       "0       None  2023-01-19   1  \n",
       "1       None  2023-01-19   1  \n",
       "2       None  2023-01-19   1  \n",
       "3       None  2023-01-19   1  \n",
       "4       None  2023-01-19   1  \n",
       "..       ...         ...  ..  \n",
       "135     None  2023-02-02   2  \n",
       "136     None  2023-02-02   2  \n",
       "137     None  2023-02-02   2  \n",
       "138     None  2023-02-02   2  \n",
       "139     None  2023-02-02   2  \n",
       "\n",
       "[140 rows x 7 columns]"
      ]
     },
     "execution_count": 120,
     "metadata": {},
     "output_type": "execute_result"
    }
   ],
   "source": [
    "joindata = pd.read_csv(files[0], encoding='utf-8')\n",
    "for i in range(1,len(files)):\n",
    "    d = pd.read_csv(files[i], encoding='utf-8')\n",
    "    joindata = joindata.append(d, ignore_index=True)\n",
    "\n",
    "joindata.to_csv(path/('jointdata-on_'+date_today +'_Doce_MasterSheet.csv'), encoding='utf-8', index=False)\n",
    "joindata"
   ]
  },
  {
   "cell_type": "code",
   "execution_count": 121,
   "metadata": {},
   "outputs": [],
   "source": [
    "# plainData = joindata.iloc[:-2:3]\n",
    "# taxData = joindata.iloc[1:-1:3]\n",
    "# dcxData = joindata.iloc[2::3]\n",
    "plainData = joindata.iloc[:-1:2]\n",
    "taxData = joindata.iloc[1::2]"
   ]
  },
  {
   "cell_type": "code",
   "execution_count": 122,
   "metadata": {},
   "outputs": [
    {
     "data": {
      "text/html": [
       "<div>\n",
       "<style scoped>\n",
       "    .dataframe tbody tr th:only-of-type {\n",
       "        vertical-align: middle;\n",
       "    }\n",
       "\n",
       "    .dataframe tbody tr th {\n",
       "        vertical-align: top;\n",
       "    }\n",
       "\n",
       "    .dataframe thead th {\n",
       "        text-align: right;\n",
       "    }\n",
       "</style>\n",
       "<table border=\"1\" class=\"dataframe\">\n",
       "  <thead>\n",
       "    <tr style=\"text-align: right;\">\n",
       "      <th></th>\n",
       "      <th>Curve Name</th>\n",
       "      <th>Curve Length (um)</th>\n",
       "      <th>[Epothilone D] $(\\mu M)$</th>\n",
       "      <th>[DCX] $(n M)$</th>\n",
       "      <th>DCX Type</th>\n",
       "      <th>Date</th>\n",
       "      <th>CH</th>\n",
       "    </tr>\n",
       "  </thead>\n",
       "  <tbody>\n",
       "    <tr>\n",
       "      <td>1</td>\n",
       "      <td>CURVE 1</td>\n",
       "      <td>12.143414</td>\n",
       "      <td>10.0</td>\n",
       "      <td>0</td>\n",
       "      <td>None</td>\n",
       "      <td>2023-01-19</td>\n",
       "      <td>1</td>\n",
       "    </tr>\n",
       "    <tr>\n",
       "      <td>3</td>\n",
       "      <td>CURVE 2</td>\n",
       "      <td>7.774119</td>\n",
       "      <td>10.0</td>\n",
       "      <td>0</td>\n",
       "      <td>None</td>\n",
       "      <td>2023-01-19</td>\n",
       "      <td>1</td>\n",
       "    </tr>\n",
       "    <tr>\n",
       "      <td>5</td>\n",
       "      <td>CURVE 3</td>\n",
       "      <td>7.012163</td>\n",
       "      <td>10.0</td>\n",
       "      <td>0</td>\n",
       "      <td>None</td>\n",
       "      <td>2023-01-19</td>\n",
       "      <td>1</td>\n",
       "    </tr>\n",
       "    <tr>\n",
       "      <td>7</td>\n",
       "      <td>CURVE 4</td>\n",
       "      <td>6.634512</td>\n",
       "      <td>10.0</td>\n",
       "      <td>0</td>\n",
       "      <td>None</td>\n",
       "      <td>2023-01-19</td>\n",
       "      <td>1</td>\n",
       "    </tr>\n",
       "    <tr>\n",
       "      <td>9</td>\n",
       "      <td>CURVE 5</td>\n",
       "      <td>7.645918</td>\n",
       "      <td>10.0</td>\n",
       "      <td>0</td>\n",
       "      <td>None</td>\n",
       "      <td>2023-01-19</td>\n",
       "      <td>1</td>\n",
       "    </tr>\n",
       "    <tr>\n",
       "      <td>...</td>\n",
       "      <td>...</td>\n",
       "      <td>...</td>\n",
       "      <td>...</td>\n",
       "      <td>...</td>\n",
       "      <td>...</td>\n",
       "      <td>...</td>\n",
       "      <td>...</td>\n",
       "    </tr>\n",
       "    <tr>\n",
       "      <td>131</td>\n",
       "      <td>CURVE 5</td>\n",
       "      <td>7.561172</td>\n",
       "      <td>0.1</td>\n",
       "      <td>0</td>\n",
       "      <td>None</td>\n",
       "      <td>2023-02-02</td>\n",
       "      <td>2</td>\n",
       "    </tr>\n",
       "    <tr>\n",
       "      <td>133</td>\n",
       "      <td>CURVE 6</td>\n",
       "      <td>5.221171</td>\n",
       "      <td>0.1</td>\n",
       "      <td>0</td>\n",
       "      <td>None</td>\n",
       "      <td>2023-02-02</td>\n",
       "      <td>2</td>\n",
       "    </tr>\n",
       "    <tr>\n",
       "      <td>135</td>\n",
       "      <td>CURVE 7</td>\n",
       "      <td>7.613788</td>\n",
       "      <td>0.1</td>\n",
       "      <td>0</td>\n",
       "      <td>None</td>\n",
       "      <td>2023-02-02</td>\n",
       "      <td>2</td>\n",
       "    </tr>\n",
       "    <tr>\n",
       "      <td>137</td>\n",
       "      <td>CURVE 8</td>\n",
       "      <td>6.560230</td>\n",
       "      <td>0.1</td>\n",
       "      <td>0</td>\n",
       "      <td>None</td>\n",
       "      <td>2023-02-02</td>\n",
       "      <td>2</td>\n",
       "    </tr>\n",
       "    <tr>\n",
       "      <td>139</td>\n",
       "      <td>CURVE 9</td>\n",
       "      <td>7.701702</td>\n",
       "      <td>0.1</td>\n",
       "      <td>0</td>\n",
       "      <td>None</td>\n",
       "      <td>2023-02-02</td>\n",
       "      <td>2</td>\n",
       "    </tr>\n",
       "  </tbody>\n",
       "</table>\n",
       "<p>70 rows × 7 columns</p>\n",
       "</div>"
      ],
      "text/plain": [
       "    Curve Name  Curve Length (um)  [Epothilone D] $(\\mu M)$  [DCX] $(n M)$  \\\n",
       "1      CURVE 1          12.143414                      10.0              0   \n",
       "3      CURVE 2           7.774119                      10.0              0   \n",
       "5      CURVE 3           7.012163                      10.0              0   \n",
       "7      CURVE 4           6.634512                      10.0              0   \n",
       "9      CURVE 5           7.645918                      10.0              0   \n",
       "..         ...                ...                       ...            ...   \n",
       "131    CURVE 5           7.561172                       0.1              0   \n",
       "133    CURVE 6           5.221171                       0.1              0   \n",
       "135    CURVE 7           7.613788                       0.1              0   \n",
       "137    CURVE 8           6.560230                       0.1              0   \n",
       "139    CURVE 9           7.701702                       0.1              0   \n",
       "\n",
       "    DCX Type        Date  CH  \n",
       "1       None  2023-01-19   1  \n",
       "3       None  2023-01-19   1  \n",
       "5       None  2023-01-19   1  \n",
       "7       None  2023-01-19   1  \n",
       "9       None  2023-01-19   1  \n",
       "..       ...         ...  ..  \n",
       "131     None  2023-02-02   2  \n",
       "133     None  2023-02-02   2  \n",
       "135     None  2023-02-02   2  \n",
       "137     None  2023-02-02   2  \n",
       "139     None  2023-02-02   2  \n",
       "\n",
       "[70 rows x 7 columns]"
      ]
     },
     "execution_count": 122,
     "metadata": {},
     "output_type": "execute_result"
    }
   ],
   "source": [
    "taxData"
   ]
  },
  {
   "cell_type": "code",
   "execution_count": 18,
   "metadata": {
    "tags": []
   },
   "outputs": [],
   "source": [
    "def percent_expansion(beforeData, afterData):\n",
    "    ratio = beforeData['Curve Length (um)'].values / afterData['Curve Length (um)'].values\n",
    "    prcnt_expansion = (1- ratio)*100\n",
    "    afterData['Expansion %'] = prcnt_expansion\n",
    "    return afterData"
   ]
  },
  {
   "cell_type": "code",
   "execution_count": 124,
   "metadata": {},
   "outputs": [
    {
     "name": "stderr",
     "output_type": "stream",
     "text": [
      "C:\\ProgramData\\Anaconda3\\lib\\site-packages\\ipykernel_launcher.py:4: SettingWithCopyWarning: \n",
      "A value is trying to be set on a copy of a slice from a DataFrame.\n",
      "Try using .loc[row_indexer,col_indexer] = value instead\n",
      "\n",
      "See the caveats in the documentation: http://pandas.pydata.org/pandas-docs/stable/user_guide/indexing.html#returning-a-view-versus-a-copy\n",
      "  after removing the cwd from sys.path.\n"
     ]
    },
    {
     "data": {
      "text/html": [
       "<div>\n",
       "<style scoped>\n",
       "    .dataframe tbody tr th:only-of-type {\n",
       "        vertical-align: middle;\n",
       "    }\n",
       "\n",
       "    .dataframe tbody tr th {\n",
       "        vertical-align: top;\n",
       "    }\n",
       "\n",
       "    .dataframe thead th {\n",
       "        text-align: right;\n",
       "    }\n",
       "</style>\n",
       "<table border=\"1\" class=\"dataframe\">\n",
       "  <thead>\n",
       "    <tr style=\"text-align: right;\">\n",
       "      <th></th>\n",
       "      <th>Curve Name</th>\n",
       "      <th>Curve Length (um)</th>\n",
       "      <th>[Epothilone D] $(\\mu M)$</th>\n",
       "      <th>[DCX] $(n M)$</th>\n",
       "      <th>DCX Type</th>\n",
       "      <th>Date</th>\n",
       "      <th>CH</th>\n",
       "      <th>Expansion %</th>\n",
       "    </tr>\n",
       "  </thead>\n",
       "  <tbody>\n",
       "    <tr>\n",
       "      <td>1</td>\n",
       "      <td>CURVE 1</td>\n",
       "      <td>12.143414</td>\n",
       "      <td>10.0</td>\n",
       "      <td>0</td>\n",
       "      <td>None</td>\n",
       "      <td>2023-01-19</td>\n",
       "      <td>1</td>\n",
       "      <td>2.581796</td>\n",
       "    </tr>\n",
       "    <tr>\n",
       "      <td>3</td>\n",
       "      <td>CURVE 2</td>\n",
       "      <td>7.774119</td>\n",
       "      <td>10.0</td>\n",
       "      <td>0</td>\n",
       "      <td>None</td>\n",
       "      <td>2023-01-19</td>\n",
       "      <td>1</td>\n",
       "      <td>2.509758</td>\n",
       "    </tr>\n",
       "    <tr>\n",
       "      <td>5</td>\n",
       "      <td>CURVE 3</td>\n",
       "      <td>7.012163</td>\n",
       "      <td>10.0</td>\n",
       "      <td>0</td>\n",
       "      <td>None</td>\n",
       "      <td>2023-01-19</td>\n",
       "      <td>1</td>\n",
       "      <td>1.455021</td>\n",
       "    </tr>\n",
       "    <tr>\n",
       "      <td>7</td>\n",
       "      <td>CURVE 4</td>\n",
       "      <td>6.634512</td>\n",
       "      <td>10.0</td>\n",
       "      <td>0</td>\n",
       "      <td>None</td>\n",
       "      <td>2023-01-19</td>\n",
       "      <td>1</td>\n",
       "      <td>2.573112</td>\n",
       "    </tr>\n",
       "    <tr>\n",
       "      <td>9</td>\n",
       "      <td>CURVE 5</td>\n",
       "      <td>7.645918</td>\n",
       "      <td>10.0</td>\n",
       "      <td>0</td>\n",
       "      <td>None</td>\n",
       "      <td>2023-01-19</td>\n",
       "      <td>1</td>\n",
       "      <td>2.423518</td>\n",
       "    </tr>\n",
       "    <tr>\n",
       "      <td>...</td>\n",
       "      <td>...</td>\n",
       "      <td>...</td>\n",
       "      <td>...</td>\n",
       "      <td>...</td>\n",
       "      <td>...</td>\n",
       "      <td>...</td>\n",
       "      <td>...</td>\n",
       "      <td>...</td>\n",
       "    </tr>\n",
       "    <tr>\n",
       "      <td>131</td>\n",
       "      <td>CURVE 5</td>\n",
       "      <td>7.561172</td>\n",
       "      <td>0.1</td>\n",
       "      <td>0</td>\n",
       "      <td>None</td>\n",
       "      <td>2023-02-02</td>\n",
       "      <td>2</td>\n",
       "      <td>2.294891</td>\n",
       "    </tr>\n",
       "    <tr>\n",
       "      <td>133</td>\n",
       "      <td>CURVE 6</td>\n",
       "      <td>5.221171</td>\n",
       "      <td>0.1</td>\n",
       "      <td>0</td>\n",
       "      <td>None</td>\n",
       "      <td>2023-02-02</td>\n",
       "      <td>2</td>\n",
       "      <td>0.176963</td>\n",
       "    </tr>\n",
       "    <tr>\n",
       "      <td>135</td>\n",
       "      <td>CURVE 7</td>\n",
       "      <td>7.613788</td>\n",
       "      <td>0.1</td>\n",
       "      <td>0</td>\n",
       "      <td>None</td>\n",
       "      <td>2023-02-02</td>\n",
       "      <td>2</td>\n",
       "      <td>1.567684</td>\n",
       "    </tr>\n",
       "    <tr>\n",
       "      <td>137</td>\n",
       "      <td>CURVE 8</td>\n",
       "      <td>6.560230</td>\n",
       "      <td>0.1</td>\n",
       "      <td>0</td>\n",
       "      <td>None</td>\n",
       "      <td>2023-02-02</td>\n",
       "      <td>2</td>\n",
       "      <td>1.725892</td>\n",
       "    </tr>\n",
       "    <tr>\n",
       "      <td>139</td>\n",
       "      <td>CURVE 9</td>\n",
       "      <td>7.701702</td>\n",
       "      <td>0.1</td>\n",
       "      <td>0</td>\n",
       "      <td>None</td>\n",
       "      <td>2023-02-02</td>\n",
       "      <td>2</td>\n",
       "      <td>3.129085</td>\n",
       "    </tr>\n",
       "  </tbody>\n",
       "</table>\n",
       "<p>70 rows × 8 columns</p>\n",
       "</div>"
      ],
      "text/plain": [
       "    Curve Name  Curve Length (um)  [Epothilone D] $(\\mu M)$  [DCX] $(n M)$  \\\n",
       "1      CURVE 1          12.143414                      10.0              0   \n",
       "3      CURVE 2           7.774119                      10.0              0   \n",
       "5      CURVE 3           7.012163                      10.0              0   \n",
       "7      CURVE 4           6.634512                      10.0              0   \n",
       "9      CURVE 5           7.645918                      10.0              0   \n",
       "..         ...                ...                       ...            ...   \n",
       "131    CURVE 5           7.561172                       0.1              0   \n",
       "133    CURVE 6           5.221171                       0.1              0   \n",
       "135    CURVE 7           7.613788                       0.1              0   \n",
       "137    CURVE 8           6.560230                       0.1              0   \n",
       "139    CURVE 9           7.701702                       0.1              0   \n",
       "\n",
       "    DCX Type        Date  CH  Expansion %  \n",
       "1       None  2023-01-19   1     2.581796  \n",
       "3       None  2023-01-19   1     2.509758  \n",
       "5       None  2023-01-19   1     1.455021  \n",
       "7       None  2023-01-19   1     2.573112  \n",
       "9       None  2023-01-19   1     2.423518  \n",
       "..       ...         ...  ..          ...  \n",
       "131     None  2023-02-02   2     2.294891  \n",
       "133     None  2023-02-02   2     0.176963  \n",
       "135     None  2023-02-02   2     1.567684  \n",
       "137     None  2023-02-02   2     1.725892  \n",
       "139     None  2023-02-02   2     3.129085  \n",
       "\n",
       "[70 rows x 8 columns]"
      ]
     },
     "execution_count": 124,
     "metadata": {},
     "output_type": "execute_result"
    }
   ],
   "source": [
    "percent_expansion(plainData, taxData)\n",
    "#percent_expansion(plainData, dcxData)"
   ]
  },
  {
   "cell_type": "code",
   "execution_count": 125,
   "metadata": {},
   "outputs": [
    {
     "data": {
      "text/html": [
       "<div>\n",
       "<style scoped>\n",
       "    .dataframe tbody tr th:only-of-type {\n",
       "        vertical-align: middle;\n",
       "    }\n",
       "\n",
       "    .dataframe tbody tr th {\n",
       "        vertical-align: top;\n",
       "    }\n",
       "\n",
       "    .dataframe thead th {\n",
       "        text-align: right;\n",
       "    }\n",
       "</style>\n",
       "<table border=\"1\" class=\"dataframe\">\n",
       "  <thead>\n",
       "    <tr style=\"text-align: right;\">\n",
       "      <th></th>\n",
       "      <th>Curve Name</th>\n",
       "      <th>Curve Length (um)</th>\n",
       "      <th>[Epothilone D] $(\\mu M)$</th>\n",
       "      <th>[DCX] $(n M)$</th>\n",
       "      <th>DCX Type</th>\n",
       "      <th>Date</th>\n",
       "      <th>CH</th>\n",
       "      <th>Expansion %</th>\n",
       "    </tr>\n",
       "  </thead>\n",
       "  <tbody>\n",
       "    <tr>\n",
       "      <td>1</td>\n",
       "      <td>CURVE 1</td>\n",
       "      <td>12.143414</td>\n",
       "      <td>10.0</td>\n",
       "      <td>0</td>\n",
       "      <td>None</td>\n",
       "      <td>2023-01-19</td>\n",
       "      <td>1</td>\n",
       "      <td>2.581796</td>\n",
       "    </tr>\n",
       "    <tr>\n",
       "      <td>3</td>\n",
       "      <td>CURVE 2</td>\n",
       "      <td>7.774119</td>\n",
       "      <td>10.0</td>\n",
       "      <td>0</td>\n",
       "      <td>None</td>\n",
       "      <td>2023-01-19</td>\n",
       "      <td>1</td>\n",
       "      <td>2.509758</td>\n",
       "    </tr>\n",
       "    <tr>\n",
       "      <td>5</td>\n",
       "      <td>CURVE 3</td>\n",
       "      <td>7.012163</td>\n",
       "      <td>10.0</td>\n",
       "      <td>0</td>\n",
       "      <td>None</td>\n",
       "      <td>2023-01-19</td>\n",
       "      <td>1</td>\n",
       "      <td>1.455021</td>\n",
       "    </tr>\n",
       "    <tr>\n",
       "      <td>7</td>\n",
       "      <td>CURVE 4</td>\n",
       "      <td>6.634512</td>\n",
       "      <td>10.0</td>\n",
       "      <td>0</td>\n",
       "      <td>None</td>\n",
       "      <td>2023-01-19</td>\n",
       "      <td>1</td>\n",
       "      <td>2.573112</td>\n",
       "    </tr>\n",
       "    <tr>\n",
       "      <td>9</td>\n",
       "      <td>CURVE 5</td>\n",
       "      <td>7.645918</td>\n",
       "      <td>10.0</td>\n",
       "      <td>0</td>\n",
       "      <td>None</td>\n",
       "      <td>2023-01-19</td>\n",
       "      <td>1</td>\n",
       "      <td>2.423518</td>\n",
       "    </tr>\n",
       "    <tr>\n",
       "      <td>...</td>\n",
       "      <td>...</td>\n",
       "      <td>...</td>\n",
       "      <td>...</td>\n",
       "      <td>...</td>\n",
       "      <td>...</td>\n",
       "      <td>...</td>\n",
       "      <td>...</td>\n",
       "      <td>...</td>\n",
       "    </tr>\n",
       "    <tr>\n",
       "      <td>131</td>\n",
       "      <td>CURVE 5</td>\n",
       "      <td>7.561172</td>\n",
       "      <td>0.1</td>\n",
       "      <td>0</td>\n",
       "      <td>None</td>\n",
       "      <td>2023-02-02</td>\n",
       "      <td>2</td>\n",
       "      <td>2.294891</td>\n",
       "    </tr>\n",
       "    <tr>\n",
       "      <td>133</td>\n",
       "      <td>CURVE 6</td>\n",
       "      <td>5.221171</td>\n",
       "      <td>0.1</td>\n",
       "      <td>0</td>\n",
       "      <td>None</td>\n",
       "      <td>2023-02-02</td>\n",
       "      <td>2</td>\n",
       "      <td>0.176963</td>\n",
       "    </tr>\n",
       "    <tr>\n",
       "      <td>135</td>\n",
       "      <td>CURVE 7</td>\n",
       "      <td>7.613788</td>\n",
       "      <td>0.1</td>\n",
       "      <td>0</td>\n",
       "      <td>None</td>\n",
       "      <td>2023-02-02</td>\n",
       "      <td>2</td>\n",
       "      <td>1.567684</td>\n",
       "    </tr>\n",
       "    <tr>\n",
       "      <td>137</td>\n",
       "      <td>CURVE 8</td>\n",
       "      <td>6.560230</td>\n",
       "      <td>0.1</td>\n",
       "      <td>0</td>\n",
       "      <td>None</td>\n",
       "      <td>2023-02-02</td>\n",
       "      <td>2</td>\n",
       "      <td>1.725892</td>\n",
       "    </tr>\n",
       "    <tr>\n",
       "      <td>139</td>\n",
       "      <td>CURVE 9</td>\n",
       "      <td>7.701702</td>\n",
       "      <td>0.1</td>\n",
       "      <td>0</td>\n",
       "      <td>None</td>\n",
       "      <td>2023-02-02</td>\n",
       "      <td>2</td>\n",
       "      <td>3.129085</td>\n",
       "    </tr>\n",
       "  </tbody>\n",
       "</table>\n",
       "<p>70 rows × 8 columns</p>\n",
       "</div>"
      ],
      "text/plain": [
       "    Curve Name  Curve Length (um)  [Epothilone D] $(\\mu M)$  [DCX] $(n M)$  \\\n",
       "1      CURVE 1          12.143414                      10.0              0   \n",
       "3      CURVE 2           7.774119                      10.0              0   \n",
       "5      CURVE 3           7.012163                      10.0              0   \n",
       "7      CURVE 4           6.634512                      10.0              0   \n",
       "9      CURVE 5           7.645918                      10.0              0   \n",
       "..         ...                ...                       ...            ...   \n",
       "131    CURVE 5           7.561172                       0.1              0   \n",
       "133    CURVE 6           5.221171                       0.1              0   \n",
       "135    CURVE 7           7.613788                       0.1              0   \n",
       "137    CURVE 8           6.560230                       0.1              0   \n",
       "139    CURVE 9           7.701702                       0.1              0   \n",
       "\n",
       "    DCX Type        Date  CH  Expansion %  \n",
       "1       None  2023-01-19   1     2.581796  \n",
       "3       None  2023-01-19   1     2.509758  \n",
       "5       None  2023-01-19   1     1.455021  \n",
       "7       None  2023-01-19   1     2.573112  \n",
       "9       None  2023-01-19   1     2.423518  \n",
       "..       ...         ...  ..          ...  \n",
       "131     None  2023-02-02   2     2.294891  \n",
       "133     None  2023-02-02   2     0.176963  \n",
       "135     None  2023-02-02   2     1.567684  \n",
       "137     None  2023-02-02   2     1.725892  \n",
       "139     None  2023-02-02   2     3.129085  \n",
       "\n",
       "[70 rows x 8 columns]"
      ]
     },
     "execution_count": 125,
     "metadata": {},
     "output_type": "execute_result"
    }
   ],
   "source": [
    "finalData = taxData\n",
    "finalData"
   ]
  },
  {
   "cell_type": "code",
   "execution_count": 126,
   "metadata": {},
   "outputs": [],
   "source": [
    "finalData = finalData[finalData['Curve Length (um)'] > 5]"
   ]
  },
  {
   "cell_type": "code",
   "execution_count": 127,
   "metadata": {
    "tags": []
   },
   "outputs": [],
   "source": [
    "finalData.to_csv(path/('expansion_plain_to_EpoD_data-analyzed_'+date_today +'_MasterSheet.csv'), encoding='utf-8', index=False)"
   ]
  },
  {
   "cell_type": "markdown",
   "metadata": {},
   "source": [
    "## LOAD DATA ##"
   ]
  },
  {
   "cell_type": "code",
   "execution_count": 6,
   "metadata": {
    "tags": []
   },
   "outputs": [
    {
     "data": {
      "text/plain": [
       "(WindowsPath('C:/Users/sofia/OneDrive - McGill University/CurrBio2023/Sofia/Data/expansion-drug/merge-drug-data-on_2023-11-13_MasterSheet.csv'),\n",
       " 'merge-drug-data-on_2023-11-13_MasterSheet')"
      ]
     },
     "execution_count": 6,
     "metadata": {},
     "output_type": "execute_result"
    }
   ],
   "source": [
    "askfile = filedialog.askopenfilename() # show an \"Open\" dialog box and return the path to the folder on ONE date you want to process\n",
    "filepath = Path(askfile)\n",
    "filename = filepath.stem\n",
    "filepath, filename"
   ]
  },
  {
   "cell_type": "code",
   "execution_count": 7,
   "metadata": {
    "tags": []
   },
   "outputs": [
    {
     "data": {
      "text/html": [
       "<div>\n",
       "<style scoped>\n",
       "    .dataframe tbody tr th:only-of-type {\n",
       "        vertical-align: middle;\n",
       "    }\n",
       "\n",
       "    .dataframe tbody tr th {\n",
       "        vertical-align: top;\n",
       "    }\n",
       "\n",
       "    .dataframe thead th {\n",
       "        text-align: right;\n",
       "    }\n",
       "</style>\n",
       "<table border=\"1\" class=\"dataframe\">\n",
       "  <thead>\n",
       "    <tr style=\"text-align: right;\">\n",
       "      <th></th>\n",
       "      <th>CH</th>\n",
       "      <th>Curve Length (um)</th>\n",
       "      <th>Curve Name</th>\n",
       "      <th>DCX Type</th>\n",
       "      <th>Date</th>\n",
       "      <th>Drug Type</th>\n",
       "      <th>Expansion %</th>\n",
       "      <th>[DCX] $(n M)$</th>\n",
       "      <th>[Drug] $(\\mu M)$</th>\n",
       "    </tr>\n",
       "  </thead>\n",
       "  <tbody>\n",
       "    <tr>\n",
       "      <th>0</th>\n",
       "      <td>1</td>\n",
       "      <td>9.010838</td>\n",
       "      <td>CURVE 1</td>\n",
       "      <td>NaN</td>\n",
       "      <td>2022-05-25</td>\n",
       "      <td>Paclitaxel</td>\n",
       "      <td>-0.004813</td>\n",
       "      <td>0</td>\n",
       "      <td>0.0</td>\n",
       "    </tr>\n",
       "    <tr>\n",
       "      <th>1</th>\n",
       "      <td>1</td>\n",
       "      <td>4.716750</td>\n",
       "      <td>CURVE 2</td>\n",
       "      <td>NaN</td>\n",
       "      <td>2022-05-25</td>\n",
       "      <td>Paclitaxel</td>\n",
       "      <td>0.027885</td>\n",
       "      <td>0</td>\n",
       "      <td>0.0</td>\n",
       "    </tr>\n",
       "    <tr>\n",
       "      <th>2</th>\n",
       "      <td>1</td>\n",
       "      <td>8.703554</td>\n",
       "      <td>CURVE 3</td>\n",
       "      <td>NaN</td>\n",
       "      <td>2022-05-25</td>\n",
       "      <td>Paclitaxel</td>\n",
       "      <td>0.002003</td>\n",
       "      <td>0</td>\n",
       "      <td>0.0</td>\n",
       "    </tr>\n",
       "    <tr>\n",
       "      <th>3</th>\n",
       "      <td>1</td>\n",
       "      <td>7.839037</td>\n",
       "      <td>CURVE 5</td>\n",
       "      <td>NaN</td>\n",
       "      <td>2022-05-25</td>\n",
       "      <td>Paclitaxel</td>\n",
       "      <td>-0.085216</td>\n",
       "      <td>0</td>\n",
       "      <td>0.0</td>\n",
       "    </tr>\n",
       "    <tr>\n",
       "      <th>4</th>\n",
       "      <td>1</td>\n",
       "      <td>2.708195</td>\n",
       "      <td>CURVE 6</td>\n",
       "      <td>NaN</td>\n",
       "      <td>2022-05-25</td>\n",
       "      <td>Paclitaxel</td>\n",
       "      <td>0.045181</td>\n",
       "      <td>0</td>\n",
       "      <td>0.0</td>\n",
       "    </tr>\n",
       "    <tr>\n",
       "      <th>...</th>\n",
       "      <td>...</td>\n",
       "      <td>...</td>\n",
       "      <td>...</td>\n",
       "      <td>...</td>\n",
       "      <td>...</td>\n",
       "      <td>...</td>\n",
       "      <td>...</td>\n",
       "      <td>...</td>\n",
       "      <td>...</td>\n",
       "    </tr>\n",
       "    <tr>\n",
       "      <th>226</th>\n",
       "      <td>2</td>\n",
       "      <td>8.566150</td>\n",
       "      <td>CURVE 3</td>\n",
       "      <td>NaN</td>\n",
       "      <td>2022-11-10</td>\n",
       "      <td>SiR-tubulin</td>\n",
       "      <td>-0.008393</td>\n",
       "      <td>0</td>\n",
       "      <td>10.0</td>\n",
       "    </tr>\n",
       "    <tr>\n",
       "      <th>227</th>\n",
       "      <td>2</td>\n",
       "      <td>9.428532</td>\n",
       "      <td>CURVE 4</td>\n",
       "      <td>NaN</td>\n",
       "      <td>2022-11-10</td>\n",
       "      <td>SiR-tubulin</td>\n",
       "      <td>0.018932</td>\n",
       "      <td>0</td>\n",
       "      <td>10.0</td>\n",
       "    </tr>\n",
       "    <tr>\n",
       "      <th>228</th>\n",
       "      <td>2</td>\n",
       "      <td>7.548724</td>\n",
       "      <td>CURVE 5</td>\n",
       "      <td>NaN</td>\n",
       "      <td>2022-11-10</td>\n",
       "      <td>SiR-tubulin</td>\n",
       "      <td>-0.027145</td>\n",
       "      <td>0</td>\n",
       "      <td>10.0</td>\n",
       "    </tr>\n",
       "    <tr>\n",
       "      <th>229</th>\n",
       "      <td>2</td>\n",
       "      <td>10.715951</td>\n",
       "      <td>CURVE 6</td>\n",
       "      <td>NaN</td>\n",
       "      <td>2022-11-10</td>\n",
       "      <td>SiR-tubulin</td>\n",
       "      <td>0.499633</td>\n",
       "      <td>0</td>\n",
       "      <td>10.0</td>\n",
       "    </tr>\n",
       "    <tr>\n",
       "      <th>230</th>\n",
       "      <td>2</td>\n",
       "      <td>6.685246</td>\n",
       "      <td>CURVE 7</td>\n",
       "      <td>NaN</td>\n",
       "      <td>2022-11-10</td>\n",
       "      <td>SiR-tubulin</td>\n",
       "      <td>0.050626</td>\n",
       "      <td>0</td>\n",
       "      <td>10.0</td>\n",
       "    </tr>\n",
       "  </tbody>\n",
       "</table>\n",
       "<p>231 rows × 9 columns</p>\n",
       "</div>"
      ],
      "text/plain": [
       "     CH  Curve Length (um) Curve Name  DCX Type        Date    Drug Type  \\\n",
       "0     1           9.010838    CURVE 1       NaN  2022-05-25   Paclitaxel   \n",
       "1     1           4.716750    CURVE 2       NaN  2022-05-25   Paclitaxel   \n",
       "2     1           8.703554    CURVE 3       NaN  2022-05-25   Paclitaxel   \n",
       "3     1           7.839037    CURVE 5       NaN  2022-05-25   Paclitaxel   \n",
       "4     1           2.708195    CURVE 6       NaN  2022-05-25   Paclitaxel   \n",
       "..   ..                ...        ...       ...         ...          ...   \n",
       "226   2           8.566150    CURVE 3       NaN  2022-11-10  SiR-tubulin   \n",
       "227   2           9.428532    CURVE 4       NaN  2022-11-10  SiR-tubulin   \n",
       "228   2           7.548724    CURVE 5       NaN  2022-11-10  SiR-tubulin   \n",
       "229   2          10.715951    CURVE 6       NaN  2022-11-10  SiR-tubulin   \n",
       "230   2           6.685246    CURVE 7       NaN  2022-11-10  SiR-tubulin   \n",
       "\n",
       "     Expansion %  [DCX] $(n M)$  [Drug] $(\\mu M)$  \n",
       "0      -0.004813              0               0.0  \n",
       "1       0.027885              0               0.0  \n",
       "2       0.002003              0               0.0  \n",
       "3      -0.085216              0               0.0  \n",
       "4       0.045181              0               0.0  \n",
       "..           ...            ...               ...  \n",
       "226    -0.008393              0              10.0  \n",
       "227     0.018932              0              10.0  \n",
       "228    -0.027145              0              10.0  \n",
       "229     0.499633              0              10.0  \n",
       "230     0.050626              0              10.0  \n",
       "\n",
       "[231 rows x 9 columns]"
      ]
     },
     "execution_count": 7,
     "metadata": {},
     "output_type": "execute_result"
    }
   ],
   "source": [
    "finalData = pd.read_csv(filepath, encoding='utf-8')\n",
    "finalData"
   ]
  },
  {
   "cell_type": "code",
   "execution_count": 8,
   "metadata": {
    "tags": []
   },
   "outputs": [],
   "source": [
    "path = filepath.parents[0]"
   ]
  },
  {
   "cell_type": "markdown",
   "metadata": {},
   "source": [
    "## PLOT DATA ##"
   ]
  },
  {
   "cell_type": "code",
   "execution_count": 9,
   "metadata": {
    "tags": []
   },
   "outputs": [
    {
     "data": {
      "text/plain": [
       "2.608695652173909"
      ]
     },
     "execution_count": 9,
     "metadata": {},
     "output_type": "execute_result"
    }
   ],
   "source": [
    "nogales2018 = (1- 81.76/83.95)*100\n",
    "nogales2018"
   ]
  },
  {
   "cell_type": "code",
   "execution_count": 10,
   "metadata": {
    "tags": []
   },
   "outputs": [
    {
     "data": {
      "text/plain": [
       "2.043269230769229"
      ]
     },
     "execution_count": 10,
     "metadata": {},
     "output_type": "execute_result"
    }
   ],
   "source": [
    "nogales2015 = (1- 81.5/83.2)*100\n",
    "nogales2015\n"
   ]
  },
  {
   "cell_type": "code",
   "execution_count": 11,
   "metadata": {
    "tags": []
   },
   "outputs": [
    {
     "data": {
      "text/plain": [
       "(0.3667481662591676, 0.9720534629404587)"
      ]
     },
     "execution_count": 11,
     "metadata": {},
     "output_type": "execute_result"
    }
   ],
   "source": [
    "TAXnogales2017preformed = (1- 81.5/81.8)*100\n",
    "TAXnogales2017copoly = (1- 81.5/82.3)*100\n",
    "TAXnogales2017preformed , TAXnogales2017copoly\n"
   ]
  },
  {
   "cell_type": "code",
   "execution_count": 12,
   "metadata": {
    "tags": []
   },
   "outputs": [
    {
     "ename": "ValueError",
     "evalue": "Could not interpret value `Paclitaxel` for `x`. An entry with this name does not appear in `data`.",
     "output_type": "error",
     "traceback": [
      "\u001b[1;31m---------------------------------------------------------------------------\u001b[0m",
      "\u001b[1;31mValueError\u001b[0m                                Traceback (most recent call last)",
      "Cell \u001b[1;32mIn[12], line 7\u001b[0m\n\u001b[0;32m      1\u001b[0m fig, ax \u001b[38;5;241m=\u001b[39m plt\u001b[38;5;241m.\u001b[39msubplots(\u001b[38;5;241m1\u001b[39m,\u001b[38;5;241m1\u001b[39m,figsize\u001b[38;5;241m=\u001b[39m(\u001b[38;5;241m10\u001b[39m,\u001b[38;5;241m10\u001b[39m))\n\u001b[0;32m      3\u001b[0m \u001b[38;5;66;03m#rect = 0,0,1,1 # create an rectangle for the new axis\u001b[39;00m\n\u001b[0;32m      4\u001b[0m \u001b[38;5;66;03m#log_ax = fig.add_axes(rect) # create a new axis (or use an existing one)\u001b[39;00m\n\u001b[0;32m      5\u001b[0m \u001b[38;5;66;03m#log_ax.set_xscale(\"log\") # log first\u001b[39;00m\n\u001b[1;32m----> 7\u001b[0m ax \u001b[38;5;241m=\u001b[39m \u001b[43msns\u001b[49m\u001b[38;5;241;43m.\u001b[39;49m\u001b[43mboxplot\u001b[49m\u001b[43m(\u001b[49m\u001b[43mx\u001b[49m\u001b[38;5;241;43m=\u001b[39;49m\u001b[38;5;124;43m'\u001b[39;49m\u001b[38;5;124;43mPaclitaxel\u001b[39;49m\u001b[38;5;124;43m'\u001b[39;49m\u001b[43m,\u001b[49m\u001b[43m \u001b[49m\u001b[43my\u001b[49m\u001b[38;5;241;43m=\u001b[39;49m\u001b[38;5;124;43m'\u001b[39;49m\u001b[38;5;124;43mExpansion \u001b[39;49m\u001b[38;5;124;43m%\u001b[39;49m\u001b[38;5;124;43m'\u001b[39;49m\u001b[43m,\u001b[49m\u001b[43m \u001b[49m\u001b[43mdata\u001b[49m\u001b[38;5;241;43m=\u001b[39;49m\u001b[43mfinalData\u001b[49m\u001b[43m,\u001b[49m\u001b[43m \u001b[49m\u001b[43mwhis\u001b[49m\u001b[38;5;241;43m=\u001b[39;49m\u001b[43mnp\u001b[49m\u001b[38;5;241;43m.\u001b[39;49m\u001b[43minf\u001b[49m\u001b[43m,\u001b[49m\u001b[43m \u001b[49m\u001b[43mpalette\u001b[49m\u001b[38;5;241;43m=\u001b[39;49m\u001b[38;5;124;43m'\u001b[39;49m\u001b[38;5;124;43mBlues\u001b[39;49m\u001b[38;5;124;43m'\u001b[39;49m\u001b[43m,\u001b[49m\u001b[43mlinewidth\u001b[49m\u001b[38;5;241;43m=\u001b[39;49m\u001b[38;5;241;43m3\u001b[39;49m\u001b[43m)\u001b[49m\n\u001b[0;32m      8\u001b[0m ax \u001b[38;5;241m=\u001b[39m sns\u001b[38;5;241m.\u001b[39mswarmplot(x\u001b[38;5;241m=\u001b[39m\u001b[38;5;124m'\u001b[39m\u001b[38;5;124mPaclitaxel\u001b[39m\u001b[38;5;124m'\u001b[39m, y\u001b[38;5;241m=\u001b[39m\u001b[38;5;124m'\u001b[39m\u001b[38;5;124mExpansion \u001b[39m\u001b[38;5;124m%\u001b[39m\u001b[38;5;124m'\u001b[39m, data\u001b[38;5;241m=\u001b[39mfinalData, color\u001b[38;5;241m=\u001b[39m\u001b[38;5;124m\"\u001b[39m\u001b[38;5;124m.2\u001b[39m\u001b[38;5;124m\"\u001b[39m, size\u001b[38;5;241m=\u001b[39m\u001b[38;5;241m12\u001b[39m)\n\u001b[0;32m     10\u001b[0m ax\u001b[38;5;241m.\u001b[39maxhline(y \u001b[38;5;241m=\u001b[39m nogales2018, color \u001b[38;5;241m=\u001b[39m lightorange ,linestyle\u001b[38;5;241m=\u001b[39m\u001b[38;5;124m\"\u001b[39m\u001b[38;5;124m--\u001b[39m\u001b[38;5;124m\"\u001b[39m, linewidth\u001b[38;5;241m=\u001b[39m\u001b[38;5;241m5.5\u001b[39m, label\u001b[38;5;241m=\u001b[39m\u001b[38;5;124m'\u001b[39m\u001b[38;5;124mGDP\u001b[39m\u001b[38;5;124m'\u001b[39m\u001b[38;5;124mr\u001b[39m\u001b[38;5;124m'\u001b[39m\u001b[38;5;124m$\u001b[39m\u001b[38;5;124m\\\u001b[39m\u001b[38;5;124mrightarrow$\u001b[39m\u001b[38;5;124m'\u001b[39m\u001b[38;5;124m'\u001b[39m\u001b[38;5;124mGMPCPP \u001b[39m\u001b[38;5;130;01m\\n\u001b[39;00m\u001b[38;5;124m Zhang (2018)\u001b[39m\u001b[38;5;124m'\u001b[39m)\n",
      "File \u001b[1;32m~\\anaconda3\\envs\\brouhardlab-env\\Lib\\site-packages\\seaborn\\categorical.py:1582\u001b[0m, in \u001b[0;36mboxplot\u001b[1;34m(data, x, y, hue, order, hue_order, orient, color, palette, saturation, fill, dodge, width, gap, whis, linecolor, linewidth, fliersize, hue_norm, native_scale, log_scale, formatter, legend, ax, **kwargs)\u001b[0m\n\u001b[0;32m   1574\u001b[0m \u001b[38;5;28;01mdef\u001b[39;00m \u001b[38;5;21mboxplot\u001b[39m(\n\u001b[0;32m   1575\u001b[0m     data\u001b[38;5;241m=\u001b[39m\u001b[38;5;28;01mNone\u001b[39;00m, \u001b[38;5;241m*\u001b[39m, x\u001b[38;5;241m=\u001b[39m\u001b[38;5;28;01mNone\u001b[39;00m, y\u001b[38;5;241m=\u001b[39m\u001b[38;5;28;01mNone\u001b[39;00m, hue\u001b[38;5;241m=\u001b[39m\u001b[38;5;28;01mNone\u001b[39;00m, order\u001b[38;5;241m=\u001b[39m\u001b[38;5;28;01mNone\u001b[39;00m, hue_order\u001b[38;5;241m=\u001b[39m\u001b[38;5;28;01mNone\u001b[39;00m,\n\u001b[0;32m   1576\u001b[0m     orient\u001b[38;5;241m=\u001b[39m\u001b[38;5;28;01mNone\u001b[39;00m, color\u001b[38;5;241m=\u001b[39m\u001b[38;5;28;01mNone\u001b[39;00m, palette\u001b[38;5;241m=\u001b[39m\u001b[38;5;28;01mNone\u001b[39;00m, saturation\u001b[38;5;241m=\u001b[39m\u001b[38;5;241m.75\u001b[39m, fill\u001b[38;5;241m=\u001b[39m\u001b[38;5;28;01mTrue\u001b[39;00m,\n\u001b[1;32m   (...)\u001b[0m\n\u001b[0;32m   1579\u001b[0m     legend\u001b[38;5;241m=\u001b[39m\u001b[38;5;124m\"\u001b[39m\u001b[38;5;124mauto\u001b[39m\u001b[38;5;124m\"\u001b[39m, ax\u001b[38;5;241m=\u001b[39m\u001b[38;5;28;01mNone\u001b[39;00m, \u001b[38;5;241m*\u001b[39m\u001b[38;5;241m*\u001b[39mkwargs\n\u001b[0;32m   1580\u001b[0m ):\n\u001b[1;32m-> 1582\u001b[0m     p \u001b[38;5;241m=\u001b[39m \u001b[43m_CategoricalPlotter\u001b[49m\u001b[43m(\u001b[49m\n\u001b[0;32m   1583\u001b[0m \u001b[43m        \u001b[49m\u001b[43mdata\u001b[49m\u001b[38;5;241;43m=\u001b[39;49m\u001b[43mdata\u001b[49m\u001b[43m,\u001b[49m\n\u001b[0;32m   1584\u001b[0m \u001b[43m        \u001b[49m\u001b[43mvariables\u001b[49m\u001b[38;5;241;43m=\u001b[39;49m\u001b[38;5;28;43mdict\u001b[39;49m\u001b[43m(\u001b[49m\u001b[43mx\u001b[49m\u001b[38;5;241;43m=\u001b[39;49m\u001b[43mx\u001b[49m\u001b[43m,\u001b[49m\u001b[43m \u001b[49m\u001b[43my\u001b[49m\u001b[38;5;241;43m=\u001b[39;49m\u001b[43my\u001b[49m\u001b[43m,\u001b[49m\u001b[43m \u001b[49m\u001b[43mhue\u001b[49m\u001b[38;5;241;43m=\u001b[39;49m\u001b[43mhue\u001b[49m\u001b[43m)\u001b[49m\u001b[43m,\u001b[49m\n\u001b[0;32m   1585\u001b[0m \u001b[43m        \u001b[49m\u001b[43morder\u001b[49m\u001b[38;5;241;43m=\u001b[39;49m\u001b[43morder\u001b[49m\u001b[43m,\u001b[49m\n\u001b[0;32m   1586\u001b[0m \u001b[43m        \u001b[49m\u001b[43morient\u001b[49m\u001b[38;5;241;43m=\u001b[39;49m\u001b[43morient\u001b[49m\u001b[43m,\u001b[49m\n\u001b[0;32m   1587\u001b[0m \u001b[43m        \u001b[49m\u001b[43mcolor\u001b[49m\u001b[38;5;241;43m=\u001b[39;49m\u001b[43mcolor\u001b[49m\u001b[43m,\u001b[49m\n\u001b[0;32m   1588\u001b[0m \u001b[43m        \u001b[49m\u001b[43mlegend\u001b[49m\u001b[38;5;241;43m=\u001b[39;49m\u001b[43mlegend\u001b[49m\u001b[43m,\u001b[49m\n\u001b[0;32m   1589\u001b[0m \u001b[43m    \u001b[49m\u001b[43m)\u001b[49m\n\u001b[0;32m   1591\u001b[0m     \u001b[38;5;28;01mif\u001b[39;00m ax \u001b[38;5;129;01mis\u001b[39;00m \u001b[38;5;28;01mNone\u001b[39;00m:\n\u001b[0;32m   1592\u001b[0m         ax \u001b[38;5;241m=\u001b[39m plt\u001b[38;5;241m.\u001b[39mgca()\n",
      "File \u001b[1;32m~\\anaconda3\\envs\\brouhardlab-env\\Lib\\site-packages\\seaborn\\categorical.py:62\u001b[0m, in \u001b[0;36m_CategoricalPlotter.__init__\u001b[1;34m(self, data, variables, order, orient, require_numeric, color, legend)\u001b[0m\n\u001b[0;32m     51\u001b[0m \u001b[38;5;28;01mdef\u001b[39;00m \u001b[38;5;21m__init__\u001b[39m(\n\u001b[0;32m     52\u001b[0m     \u001b[38;5;28mself\u001b[39m,\n\u001b[0;32m     53\u001b[0m     data\u001b[38;5;241m=\u001b[39m\u001b[38;5;28;01mNone\u001b[39;00m,\n\u001b[1;32m   (...)\u001b[0m\n\u001b[0;32m     59\u001b[0m     legend\u001b[38;5;241m=\u001b[39m\u001b[38;5;124m\"\u001b[39m\u001b[38;5;124mauto\u001b[39m\u001b[38;5;124m\"\u001b[39m,\n\u001b[0;32m     60\u001b[0m ):\n\u001b[1;32m---> 62\u001b[0m     \u001b[38;5;28;43msuper\u001b[39;49m\u001b[43m(\u001b[49m\u001b[43m)\u001b[49m\u001b[38;5;241;43m.\u001b[39;49m\u001b[38;5;21;43m__init__\u001b[39;49m\u001b[43m(\u001b[49m\u001b[43mdata\u001b[49m\u001b[38;5;241;43m=\u001b[39;49m\u001b[43mdata\u001b[49m\u001b[43m,\u001b[49m\u001b[43m \u001b[49m\u001b[43mvariables\u001b[49m\u001b[38;5;241;43m=\u001b[39;49m\u001b[43mvariables\u001b[49m\u001b[43m)\u001b[49m\n\u001b[0;32m     64\u001b[0m     \u001b[38;5;66;03m# This method takes care of some bookkeeping that is necessary because the\u001b[39;00m\n\u001b[0;32m     65\u001b[0m     \u001b[38;5;66;03m# original categorical plots (prior to the 2021 refactor) had some rules that\u001b[39;00m\n\u001b[0;32m     66\u001b[0m     \u001b[38;5;66;03m# don't fit exactly into VectorPlotter logic. It may be wise to have a second\u001b[39;00m\n\u001b[1;32m   (...)\u001b[0m\n\u001b[0;32m     71\u001b[0m     \u001b[38;5;66;03m# default VectorPlotter rules. If we do decide to make orient part of the\u001b[39;00m\n\u001b[0;32m     72\u001b[0m     \u001b[38;5;66;03m# _base variable assignment, we'll want to figure out how to express that.\u001b[39;00m\n\u001b[0;32m     73\u001b[0m     \u001b[38;5;28;01mif\u001b[39;00m \u001b[38;5;28mself\u001b[39m\u001b[38;5;241m.\u001b[39minput_format \u001b[38;5;241m==\u001b[39m \u001b[38;5;124m\"\u001b[39m\u001b[38;5;124mwide\u001b[39m\u001b[38;5;124m\"\u001b[39m \u001b[38;5;129;01mand\u001b[39;00m orient \u001b[38;5;129;01min\u001b[39;00m [\u001b[38;5;124m\"\u001b[39m\u001b[38;5;124mh\u001b[39m\u001b[38;5;124m\"\u001b[39m, \u001b[38;5;124m\"\u001b[39m\u001b[38;5;124my\u001b[39m\u001b[38;5;124m\"\u001b[39m]:\n",
      "File \u001b[1;32m~\\anaconda3\\envs\\brouhardlab-env\\Lib\\site-packages\\seaborn\\_base.py:634\u001b[0m, in \u001b[0;36mVectorPlotter.__init__\u001b[1;34m(self, data, variables)\u001b[0m\n\u001b[0;32m    629\u001b[0m \u001b[38;5;66;03m# var_ordered is relevant only for categorical axis variables, and may\u001b[39;00m\n\u001b[0;32m    630\u001b[0m \u001b[38;5;66;03m# be better handled by an internal axis information object that tracks\u001b[39;00m\n\u001b[0;32m    631\u001b[0m \u001b[38;5;66;03m# such information and is set up by the scale_* methods. The analogous\u001b[39;00m\n\u001b[0;32m    632\u001b[0m \u001b[38;5;66;03m# information for numeric axes would be information about log scales.\u001b[39;00m\n\u001b[0;32m    633\u001b[0m \u001b[38;5;28mself\u001b[39m\u001b[38;5;241m.\u001b[39m_var_ordered \u001b[38;5;241m=\u001b[39m {\u001b[38;5;124m\"\u001b[39m\u001b[38;5;124mx\u001b[39m\u001b[38;5;124m\"\u001b[39m: \u001b[38;5;28;01mFalse\u001b[39;00m, \u001b[38;5;124m\"\u001b[39m\u001b[38;5;124my\u001b[39m\u001b[38;5;124m\"\u001b[39m: \u001b[38;5;28;01mFalse\u001b[39;00m}  \u001b[38;5;66;03m# alt., used DefaultDict\u001b[39;00m\n\u001b[1;32m--> 634\u001b[0m \u001b[38;5;28;43mself\u001b[39;49m\u001b[38;5;241;43m.\u001b[39;49m\u001b[43massign_variables\u001b[49m\u001b[43m(\u001b[49m\u001b[43mdata\u001b[49m\u001b[43m,\u001b[49m\u001b[43m \u001b[49m\u001b[43mvariables\u001b[49m\u001b[43m)\u001b[49m\n\u001b[0;32m    636\u001b[0m \u001b[38;5;66;03m# TODO Lots of tests assume that these are called to initialize the\u001b[39;00m\n\u001b[0;32m    637\u001b[0m \u001b[38;5;66;03m# mappings to default values on class initialization. I'd prefer to\u001b[39;00m\n\u001b[0;32m    638\u001b[0m \u001b[38;5;66;03m# move away from that and only have a mapping when explicitly called.\u001b[39;00m\n\u001b[0;32m    639\u001b[0m \u001b[38;5;28;01mfor\u001b[39;00m var \u001b[38;5;129;01min\u001b[39;00m [\u001b[38;5;124m\"\u001b[39m\u001b[38;5;124mhue\u001b[39m\u001b[38;5;124m\"\u001b[39m, \u001b[38;5;124m\"\u001b[39m\u001b[38;5;124msize\u001b[39m\u001b[38;5;124m\"\u001b[39m, \u001b[38;5;124m\"\u001b[39m\u001b[38;5;124mstyle\u001b[39m\u001b[38;5;124m\"\u001b[39m]:\n",
      "File \u001b[1;32m~\\anaconda3\\envs\\brouhardlab-env\\Lib\\site-packages\\seaborn\\_base.py:679\u001b[0m, in \u001b[0;36mVectorPlotter.assign_variables\u001b[1;34m(self, data, variables)\u001b[0m\n\u001b[0;32m    674\u001b[0m \u001b[38;5;28;01melse\u001b[39;00m:\n\u001b[0;32m    675\u001b[0m     \u001b[38;5;66;03m# When dealing with long-form input, use the newer PlotData\u001b[39;00m\n\u001b[0;32m    676\u001b[0m     \u001b[38;5;66;03m# object (internal but introduced for the objects interface)\u001b[39;00m\n\u001b[0;32m    677\u001b[0m     \u001b[38;5;66;03m# to centralize / standardize data consumption logic.\u001b[39;00m\n\u001b[0;32m    678\u001b[0m     \u001b[38;5;28mself\u001b[39m\u001b[38;5;241m.\u001b[39minput_format \u001b[38;5;241m=\u001b[39m \u001b[38;5;124m\"\u001b[39m\u001b[38;5;124mlong\u001b[39m\u001b[38;5;124m\"\u001b[39m\n\u001b[1;32m--> 679\u001b[0m     plot_data \u001b[38;5;241m=\u001b[39m \u001b[43mPlotData\u001b[49m\u001b[43m(\u001b[49m\u001b[43mdata\u001b[49m\u001b[43m,\u001b[49m\u001b[43m \u001b[49m\u001b[43mvariables\u001b[49m\u001b[43m)\u001b[49m\n\u001b[0;32m    680\u001b[0m     frame \u001b[38;5;241m=\u001b[39m plot_data\u001b[38;5;241m.\u001b[39mframe\n\u001b[0;32m    681\u001b[0m     names \u001b[38;5;241m=\u001b[39m plot_data\u001b[38;5;241m.\u001b[39mnames\n",
      "File \u001b[1;32m~\\anaconda3\\envs\\brouhardlab-env\\Lib\\site-packages\\seaborn\\_core\\data.py:58\u001b[0m, in \u001b[0;36mPlotData.__init__\u001b[1;34m(self, data, variables)\u001b[0m\n\u001b[0;32m     51\u001b[0m \u001b[38;5;28;01mdef\u001b[39;00m \u001b[38;5;21m__init__\u001b[39m(\n\u001b[0;32m     52\u001b[0m     \u001b[38;5;28mself\u001b[39m,\n\u001b[0;32m     53\u001b[0m     data: DataSource,\n\u001b[0;32m     54\u001b[0m     variables: \u001b[38;5;28mdict\u001b[39m[\u001b[38;5;28mstr\u001b[39m, VariableSpec],\n\u001b[0;32m     55\u001b[0m ):\n\u001b[0;32m     57\u001b[0m     data \u001b[38;5;241m=\u001b[39m handle_data_source(data)\n\u001b[1;32m---> 58\u001b[0m     frame, names, ids \u001b[38;5;241m=\u001b[39m \u001b[38;5;28;43mself\u001b[39;49m\u001b[38;5;241;43m.\u001b[39;49m\u001b[43m_assign_variables\u001b[49m\u001b[43m(\u001b[49m\u001b[43mdata\u001b[49m\u001b[43m,\u001b[49m\u001b[43m \u001b[49m\u001b[43mvariables\u001b[49m\u001b[43m)\u001b[49m\n\u001b[0;32m     60\u001b[0m     \u001b[38;5;28mself\u001b[39m\u001b[38;5;241m.\u001b[39mframe \u001b[38;5;241m=\u001b[39m frame\n\u001b[0;32m     61\u001b[0m     \u001b[38;5;28mself\u001b[39m\u001b[38;5;241m.\u001b[39mnames \u001b[38;5;241m=\u001b[39m names\n",
      "File \u001b[1;32m~\\anaconda3\\envs\\brouhardlab-env\\Lib\\site-packages\\seaborn\\_core\\data.py:232\u001b[0m, in \u001b[0;36mPlotData._assign_variables\u001b[1;34m(self, data, variables)\u001b[0m\n\u001b[0;32m    230\u001b[0m     \u001b[38;5;28;01melse\u001b[39;00m:\n\u001b[0;32m    231\u001b[0m         err \u001b[38;5;241m+\u001b[39m\u001b[38;5;241m=\u001b[39m \u001b[38;5;124m\"\u001b[39m\u001b[38;5;124mAn entry with this name does not appear in `data`.\u001b[39m\u001b[38;5;124m\"\u001b[39m\n\u001b[1;32m--> 232\u001b[0m     \u001b[38;5;28;01mraise\u001b[39;00m \u001b[38;5;167;01mValueError\u001b[39;00m(err)\n\u001b[0;32m    234\u001b[0m \u001b[38;5;28;01melse\u001b[39;00m:\n\u001b[0;32m    235\u001b[0m \n\u001b[0;32m    236\u001b[0m     \u001b[38;5;66;03m# Otherwise, assume the value somehow represents data\u001b[39;00m\n\u001b[0;32m    237\u001b[0m \n\u001b[0;32m    238\u001b[0m     \u001b[38;5;66;03m# Ignore empty data structures\u001b[39;00m\n\u001b[0;32m    239\u001b[0m     \u001b[38;5;28;01mif\u001b[39;00m \u001b[38;5;28misinstance\u001b[39m(val, Sized) \u001b[38;5;129;01mand\u001b[39;00m \u001b[38;5;28mlen\u001b[39m(val) \u001b[38;5;241m==\u001b[39m \u001b[38;5;241m0\u001b[39m:\n",
      "\u001b[1;31mValueError\u001b[0m: Could not interpret value `Paclitaxel` for `x`. An entry with this name does not appear in `data`."
     ]
    },
    {
     "data": {
      "image/png": "[encoded data removed]",
      "text/plain": [
       "<Figure size 1000x1000 with 1 Axes>"
      ]
     },
     "metadata": {},
     "output_type": "display_data"
    }
   ],
   "source": [
    "fig, ax = plt.subplots(1,1,figsize=(10,10))\n",
    "\n",
    "#rect = 0,0,1,1 # create an rectangle for the new axis\n",
    "#log_ax = fig.add_axes(rect) # create a new axis (or use an existing one)\n",
    "#log_ax.set_xscale(\"log\") # log first\n",
    "\n",
    "ax = sns.boxplot(x='Paclitaxel', y='Expansion %', data=finalData, whis=np.inf, palette='Blues',linewidth=3)\n",
    "ax = sns.swarmplot(x='Paclitaxel', y='Expansion %', data=finalData, color=\".2\", size=12)\n",
    "\n",
    "ax.axhline(y = nogales2018, color = lightorange ,linestyle=\"--\", linewidth=5.5, label='GDP'r'$\\rightarrow$''GMPCPP \\n Zhang (2018)')\n",
    "#plt.xlim(0.1,10)\n",
    "\n",
    "ax.set_ylim(-0.5,4)\n",
    "ax.legend( loc = 'lower right')\n",
    "#ax.legend('')\n",
    "ax.set_xlabel(taxol)\n",
    "\n",
    "sns.set_style(\"ticks\")\n",
    "sns.despine()\n",
    "ax.spines['left'].set_lw(5)\n",
    "ax.spines['bottom'].set_lw(5)\n",
    "ax.tick_params(axis='both', width = 5, length = 15)\n",
    "sns.set_context(\"poster\", font_scale=1.7, rc={\"lines.linewidth\":3.0})\n",
    "\n",
    "plt.tight_layout()\n",
    "\n",
    "\n",
    "# plt.savefig(path/('expansion_'+date_today+'.svg'))"
   ]
  },
  {
   "cell_type": "code",
   "execution_count": 132,
   "metadata": {},
   "outputs": [
    {
     "data": {
      "text/plain": [
       "2.608695652173909"
      ]
     },
     "execution_count": 132,
     "metadata": {},
     "output_type": "execute_result"
    }
   ],
   "source": [
    "(1- 81.76/83.95)*100"
   ]
  },
  {
   "cell_type": "code",
   "execution_count": 63,
   "metadata": {},
   "outputs": [
    {
     "ename": "NameError",
     "evalue": "name 'finalData' is not defined",
     "output_type": "error",
     "traceback": [
      "\u001b[1;31m---------------------------------------------------------------------------\u001b[0m",
      "\u001b[1;31mNameError\u001b[0m                                 Traceback (most recent call last)",
      "\u001b[1;32m<ipython-input-63-c9c5fdb10782>\u001b[0m in \u001b[0;36m<module>\u001b[1;34m\u001b[0m\n\u001b[1;32m----> 1\u001b[1;33m \u001b[0mfinalData\u001b[0m\u001b[1;33m.\u001b[0m\u001b[0mgroupby\u001b[0m\u001b[1;33m(\u001b[0m\u001b[1;33m[\u001b[0m\u001b[0mtaxol\u001b[0m\u001b[1;33m,\u001b[0m\u001b[1;34m'CH'\u001b[0m\u001b[1;33m,\u001b[0m\u001b[1;34m'Date'\u001b[0m\u001b[1;33m]\u001b[0m\u001b[1;33m)\u001b[0m\u001b[1;33m.\u001b[0m\u001b[0msize\u001b[0m\u001b[1;33m(\u001b[0m\u001b[1;33m)\u001b[0m\u001b[1;33m\u001b[0m\u001b[1;33m\u001b[0m\u001b[0m\n\u001b[0m",
      "\u001b[1;31mNameError\u001b[0m: name 'finalData' is not defined"
     ]
    }
   ],
   "source": [
    "finalData.groupby([taxol,'CH','Date']).size()"
   ]
  },
  {
   "cell_type": "code",
   "execution_count": 134,
   "metadata": {},
   "outputs": [
    {
     "data": {
      "text/plain": [
       "[Epothilone D] $(\\mu M)$\n",
       "0.1     27\n",
       "0.3     18\n",
       "1.0     10\n",
       "10.0    10\n",
       "dtype: int64"
      ]
     },
     "execution_count": 134,
     "metadata": {},
     "output_type": "execute_result"
    }
   ],
   "source": [
    "finalData.groupby(taxol).size()"
   ]
  },
  {
   "cell_type": "code",
   "execution_count": 100,
   "metadata": {},
   "outputs": [
    {
     "data": {
      "text/plain": [
       "array([ 0.01      ,  0.03162278,  0.1       ,  0.31622777,  1.        ,\n",
       "        3.16227766, 10.        ])"
      ]
     },
     "execution_count": 100,
     "metadata": {},
     "output_type": "execute_result"
    }
   ],
   "source": [
    "np.logspace(-2, 1, 7, endpoint=True)"
   ]
  },
  {
   "cell_type": "markdown",
   "metadata": {},
   "source": [
    "## change drug name to merge##"
   ]
  },
  {
   "cell_type": "code",
   "execution_count": 136,
   "metadata": {},
   "outputs": [],
   "source": [
    "finalData=finalData.rename({taxol: drug}, axis=1)\n",
    "finalData[drugtype] = 'Epothilone D'"
   ]
  },
  {
   "cell_type": "code",
   "execution_count": 137,
   "metadata": {},
   "outputs": [
    {
     "data": {
      "text/html": [
       "<div>\n",
       "<style scoped>\n",
       "    .dataframe tbody tr th:only-of-type {\n",
       "        vertical-align: middle;\n",
       "    }\n",
       "\n",
       "    .dataframe tbody tr th {\n",
       "        vertical-align: top;\n",
       "    }\n",
       "\n",
       "    .dataframe thead th {\n",
       "        text-align: right;\n",
       "    }\n",
       "</style>\n",
       "<table border=\"1\" class=\"dataframe\">\n",
       "  <thead>\n",
       "    <tr style=\"text-align: right;\">\n",
       "      <th></th>\n",
       "      <th>Curve Name</th>\n",
       "      <th>Curve Length (um)</th>\n",
       "      <th>[Drug] $(\\mu M)$</th>\n",
       "      <th>[DCX] $(n M)$</th>\n",
       "      <th>DCX Type</th>\n",
       "      <th>Date</th>\n",
       "      <th>CH</th>\n",
       "      <th>Expansion %</th>\n",
       "      <th>Drug Type</th>\n",
       "    </tr>\n",
       "  </thead>\n",
       "  <tbody>\n",
       "    <tr>\n",
       "      <td>1</td>\n",
       "      <td>CURVE 1</td>\n",
       "      <td>12.143414</td>\n",
       "      <td>10.0</td>\n",
       "      <td>0</td>\n",
       "      <td>None</td>\n",
       "      <td>2023-01-19</td>\n",
       "      <td>1</td>\n",
       "      <td>2.581796</td>\n",
       "      <td>Epothilone D</td>\n",
       "    </tr>\n",
       "    <tr>\n",
       "      <td>3</td>\n",
       "      <td>CURVE 2</td>\n",
       "      <td>7.774119</td>\n",
       "      <td>10.0</td>\n",
       "      <td>0</td>\n",
       "      <td>None</td>\n",
       "      <td>2023-01-19</td>\n",
       "      <td>1</td>\n",
       "      <td>2.509758</td>\n",
       "      <td>Epothilone D</td>\n",
       "    </tr>\n",
       "    <tr>\n",
       "      <td>5</td>\n",
       "      <td>CURVE 3</td>\n",
       "      <td>7.012163</td>\n",
       "      <td>10.0</td>\n",
       "      <td>0</td>\n",
       "      <td>None</td>\n",
       "      <td>2023-01-19</td>\n",
       "      <td>1</td>\n",
       "      <td>1.455021</td>\n",
       "      <td>Epothilone D</td>\n",
       "    </tr>\n",
       "    <tr>\n",
       "      <td>7</td>\n",
       "      <td>CURVE 4</td>\n",
       "      <td>6.634512</td>\n",
       "      <td>10.0</td>\n",
       "      <td>0</td>\n",
       "      <td>None</td>\n",
       "      <td>2023-01-19</td>\n",
       "      <td>1</td>\n",
       "      <td>2.573112</td>\n",
       "      <td>Epothilone D</td>\n",
       "    </tr>\n",
       "    <tr>\n",
       "      <td>9</td>\n",
       "      <td>CURVE 5</td>\n",
       "      <td>7.645918</td>\n",
       "      <td>10.0</td>\n",
       "      <td>0</td>\n",
       "      <td>None</td>\n",
       "      <td>2023-01-19</td>\n",
       "      <td>1</td>\n",
       "      <td>2.423518</td>\n",
       "      <td>Epothilone D</td>\n",
       "    </tr>\n",
       "    <tr>\n",
       "      <td>...</td>\n",
       "      <td>...</td>\n",
       "      <td>...</td>\n",
       "      <td>...</td>\n",
       "      <td>...</td>\n",
       "      <td>...</td>\n",
       "      <td>...</td>\n",
       "      <td>...</td>\n",
       "      <td>...</td>\n",
       "      <td>...</td>\n",
       "    </tr>\n",
       "    <tr>\n",
       "      <td>131</td>\n",
       "      <td>CURVE 5</td>\n",
       "      <td>7.561172</td>\n",
       "      <td>0.1</td>\n",
       "      <td>0</td>\n",
       "      <td>None</td>\n",
       "      <td>2023-02-02</td>\n",
       "      <td>2</td>\n",
       "      <td>2.294891</td>\n",
       "      <td>Epothilone D</td>\n",
       "    </tr>\n",
       "    <tr>\n",
       "      <td>133</td>\n",
       "      <td>CURVE 6</td>\n",
       "      <td>5.221171</td>\n",
       "      <td>0.1</td>\n",
       "      <td>0</td>\n",
       "      <td>None</td>\n",
       "      <td>2023-02-02</td>\n",
       "      <td>2</td>\n",
       "      <td>0.176963</td>\n",
       "      <td>Epothilone D</td>\n",
       "    </tr>\n",
       "    <tr>\n",
       "      <td>135</td>\n",
       "      <td>CURVE 7</td>\n",
       "      <td>7.613788</td>\n",
       "      <td>0.1</td>\n",
       "      <td>0</td>\n",
       "      <td>None</td>\n",
       "      <td>2023-02-02</td>\n",
       "      <td>2</td>\n",
       "      <td>1.567684</td>\n",
       "      <td>Epothilone D</td>\n",
       "    </tr>\n",
       "    <tr>\n",
       "      <td>137</td>\n",
       "      <td>CURVE 8</td>\n",
       "      <td>6.560230</td>\n",
       "      <td>0.1</td>\n",
       "      <td>0</td>\n",
       "      <td>None</td>\n",
       "      <td>2023-02-02</td>\n",
       "      <td>2</td>\n",
       "      <td>1.725892</td>\n",
       "      <td>Epothilone D</td>\n",
       "    </tr>\n",
       "    <tr>\n",
       "      <td>139</td>\n",
       "      <td>CURVE 9</td>\n",
       "      <td>7.701702</td>\n",
       "      <td>0.1</td>\n",
       "      <td>0</td>\n",
       "      <td>None</td>\n",
       "      <td>2023-02-02</td>\n",
       "      <td>2</td>\n",
       "      <td>3.129085</td>\n",
       "      <td>Epothilone D</td>\n",
       "    </tr>\n",
       "  </tbody>\n",
       "</table>\n",
       "<p>65 rows × 9 columns</p>\n",
       "</div>"
      ],
      "text/plain": [
       "    Curve Name  Curve Length (um)  [Drug] $(\\mu M)$  [DCX] $(n M)$ DCX Type  \\\n",
       "1      CURVE 1          12.143414              10.0              0     None   \n",
       "3      CURVE 2           7.774119              10.0              0     None   \n",
       "5      CURVE 3           7.012163              10.0              0     None   \n",
       "7      CURVE 4           6.634512              10.0              0     None   \n",
       "9      CURVE 5           7.645918              10.0              0     None   \n",
       "..         ...                ...               ...            ...      ...   \n",
       "131    CURVE 5           7.561172               0.1              0     None   \n",
       "133    CURVE 6           5.221171               0.1              0     None   \n",
       "135    CURVE 7           7.613788               0.1              0     None   \n",
       "137    CURVE 8           6.560230               0.1              0     None   \n",
       "139    CURVE 9           7.701702               0.1              0     None   \n",
       "\n",
       "           Date  CH  Expansion %     Drug Type  \n",
       "1    2023-01-19   1     2.581796  Epothilone D  \n",
       "3    2023-01-19   1     2.509758  Epothilone D  \n",
       "5    2023-01-19   1     1.455021  Epothilone D  \n",
       "7    2023-01-19   1     2.573112  Epothilone D  \n",
       "9    2023-01-19   1     2.423518  Epothilone D  \n",
       "..          ...  ..          ...           ...  \n",
       "131  2023-02-02   2     2.294891  Epothilone D  \n",
       "133  2023-02-02   2     0.176963  Epothilone D  \n",
       "135  2023-02-02   2     1.567684  Epothilone D  \n",
       "137  2023-02-02   2     1.725892  Epothilone D  \n",
       "139  2023-02-02   2     3.129085  Epothilone D  \n",
       "\n",
       "[65 rows x 9 columns]"
      ]
     },
     "execution_count": 137,
     "metadata": {},
     "output_type": "execute_result"
    }
   ],
   "source": [
    "finalData"
   ]
  },
  {
   "cell_type": "code",
   "execution_count": 138,
   "metadata": {},
   "outputs": [],
   "source": [
    "name = 'expansion_plain_to_EpoD_data-for-merge_'+date_today +'_MasterSheet.csv'\n",
    "finalData.to_csv(path/(name), encoding='utf-8', index=False)"
   ]
  },
  {
   "cell_type": "markdown",
   "metadata": {},
   "source": [
    "## Merge different drugs ##"
   ]
  },
  {
   "cell_type": "code",
   "execution_count": 116,
   "metadata": {},
   "outputs": [],
   "source": [
    "askdirectory = filedialog.askdirectory() # show an \"Open\" dialog box and return the path to the selected file\n",
    "path = Path(askdirectory)"
   ]
  },
  {
   "cell_type": "code",
   "execution_count": 157,
   "metadata": {},
   "outputs": [
    {
     "data": {
      "text/plain": [
       "[WindowsPath('D:/Sofia/2023_1winter/Expansion_Data_Sheets/expansion_plain_to_Doce_data-for-merge_2023-01-17_MasterSheet.csv'),\n",
       " WindowsPath('D:/Sofia/2023_1winter/Expansion_Data_Sheets/expansion_plain_to_EpoD_data-for-merge_2023-02-03_MasterSheet.csv'),\n",
       " WindowsPath('D:/Sofia/2023_1winter/Expansion_Data_Sheets/expansion_plain_to_Pacli_data-for-merge_2023-01-17_MasterSheet.csv'),\n",
       " WindowsPath('D:/Sofia/2023_1winter/Expansion_Data_Sheets/expansion_plain_to_SiR_data-for-merge_2023-01-17_MasterSheet.csv')]"
      ]
     },
     "execution_count": 157,
     "metadata": {},
     "output_type": "execute_result"
    }
   ],
   "source": [
    "files = [x for x in path.iterdir() if x.is_file()]\n",
    "files = [i for i in files if str(i).rfind('merge') != -1 if str(i).rfind('csv') != -1 if str(i).rfind('exp') != -1]\n",
    "files"
   ]
  },
  {
   "cell_type": "code",
   "execution_count": 158,
   "metadata": {},
   "outputs": [],
   "source": [
    "joindata = pd.read_csv(files[0], encoding='utf-8')\n",
    "for i in range(1,len(files)):\n",
    "    d = pd.read_csv(files[i], encoding='utf-8')\n",
    "    joindata = joindata.append(d, ignore_index=True)"
   ]
  },
  {
   "cell_type": "code",
   "execution_count": 159,
   "metadata": {},
   "outputs": [],
   "source": [
    "#order drugs\n",
    "Type_order = ['Paclitaxel', 'Docetaxel','Epothilone D','SiR-tubulin']\n",
    "category_Type = CategoricalDtype(Type_order, ordered=True,) \n",
    "joindata[drugtype] = joindata[drugtype].astype(category_Type)\n",
    "joindata = joindata.sort_values(by=[drugtype, drug])"
   ]
  },
  {
   "cell_type": "code",
   "execution_count": 160,
   "metadata": {},
   "outputs": [
    {
     "data": {
      "text/html": [
       "<div>\n",
       "<style scoped>\n",
       "    .dataframe tbody tr th:only-of-type {\n",
       "        vertical-align: middle;\n",
       "    }\n",
       "\n",
       "    .dataframe tbody tr th {\n",
       "        vertical-align: top;\n",
       "    }\n",
       "\n",
       "    .dataframe thead th {\n",
       "        text-align: right;\n",
       "    }\n",
       "</style>\n",
       "<table border=\"1\" class=\"dataframe\">\n",
       "  <thead>\n",
       "    <tr style=\"text-align: right;\">\n",
       "      <th></th>\n",
       "      <th>CH</th>\n",
       "      <th>Curve Length (um)</th>\n",
       "      <th>Curve Name</th>\n",
       "      <th>DCX Type</th>\n",
       "      <th>Date</th>\n",
       "      <th>Drug Type</th>\n",
       "      <th>Expansion %</th>\n",
       "      <th>[DCX] $(n M)$</th>\n",
       "      <th>[Drug] $(\\mu M)$</th>\n",
       "    </tr>\n",
       "  </thead>\n",
       "  <tbody>\n",
       "    <tr>\n",
       "      <td>157</td>\n",
       "      <td>CH1</td>\n",
       "      <td>22.776211</td>\n",
       "      <td>CURVE 1</td>\n",
       "      <td>NaN</td>\n",
       "      <td>2022-05-25</td>\n",
       "      <td>Paclitaxel</td>\n",
       "      <td>-0.004813</td>\n",
       "      <td>NaN</td>\n",
       "      <td>0.0</td>\n",
       "    </tr>\n",
       "    <tr>\n",
       "      <td>158</td>\n",
       "      <td>CH1</td>\n",
       "      <td>11.922274</td>\n",
       "      <td>CURVE 2</td>\n",
       "      <td>NaN</td>\n",
       "      <td>2022-05-25</td>\n",
       "      <td>Paclitaxel</td>\n",
       "      <td>0.027885</td>\n",
       "      <td>NaN</td>\n",
       "      <td>0.0</td>\n",
       "    </tr>\n",
       "    <tr>\n",
       "      <td>159</td>\n",
       "      <td>CH1</td>\n",
       "      <td>21.999505</td>\n",
       "      <td>CURVE 3</td>\n",
       "      <td>NaN</td>\n",
       "      <td>2022-05-25</td>\n",
       "      <td>Paclitaxel</td>\n",
       "      <td>0.002003</td>\n",
       "      <td>NaN</td>\n",
       "      <td>0.0</td>\n",
       "    </tr>\n",
       "    <tr>\n",
       "      <td>160</td>\n",
       "      <td>CH1</td>\n",
       "      <td>19.814312</td>\n",
       "      <td>CURVE 5</td>\n",
       "      <td>NaN</td>\n",
       "      <td>2022-05-25</td>\n",
       "      <td>Paclitaxel</td>\n",
       "      <td>-0.085216</td>\n",
       "      <td>NaN</td>\n",
       "      <td>0.0</td>\n",
       "    </tr>\n",
       "    <tr>\n",
       "      <td>161</td>\n",
       "      <td>CH1</td>\n",
       "      <td>6.845359</td>\n",
       "      <td>CURVE 6</td>\n",
       "      <td>NaN</td>\n",
       "      <td>2022-05-25</td>\n",
       "      <td>Paclitaxel</td>\n",
       "      <td>0.045181</td>\n",
       "      <td>NaN</td>\n",
       "      <td>0.0</td>\n",
       "    </tr>\n",
       "    <tr>\n",
       "      <td>...</td>\n",
       "      <td>...</td>\n",
       "      <td>...</td>\n",
       "      <td>...</td>\n",
       "      <td>...</td>\n",
       "      <td>...</td>\n",
       "      <td>...</td>\n",
       "      <td>...</td>\n",
       "      <td>...</td>\n",
       "      <td>...</td>\n",
       "    </tr>\n",
       "    <tr>\n",
       "      <td>219</td>\n",
       "      <td>2</td>\n",
       "      <td>8.566150</td>\n",
       "      <td>CURVE 3</td>\n",
       "      <td>None</td>\n",
       "      <td>2022-11-10</td>\n",
       "      <td>SiR-tubulin</td>\n",
       "      <td>-0.008393</td>\n",
       "      <td>0.0</td>\n",
       "      <td>10.0</td>\n",
       "    </tr>\n",
       "    <tr>\n",
       "      <td>220</td>\n",
       "      <td>2</td>\n",
       "      <td>9.428532</td>\n",
       "      <td>CURVE 4</td>\n",
       "      <td>None</td>\n",
       "      <td>2022-11-10</td>\n",
       "      <td>SiR-tubulin</td>\n",
       "      <td>0.018932</td>\n",
       "      <td>0.0</td>\n",
       "      <td>10.0</td>\n",
       "    </tr>\n",
       "    <tr>\n",
       "      <td>221</td>\n",
       "      <td>2</td>\n",
       "      <td>7.548724</td>\n",
       "      <td>CURVE 5</td>\n",
       "      <td>None</td>\n",
       "      <td>2022-11-10</td>\n",
       "      <td>SiR-tubulin</td>\n",
       "      <td>-0.027145</td>\n",
       "      <td>0.0</td>\n",
       "      <td>10.0</td>\n",
       "    </tr>\n",
       "    <tr>\n",
       "      <td>222</td>\n",
       "      <td>2</td>\n",
       "      <td>10.715951</td>\n",
       "      <td>CURVE 6</td>\n",
       "      <td>None</td>\n",
       "      <td>2022-11-10</td>\n",
       "      <td>SiR-tubulin</td>\n",
       "      <td>0.499633</td>\n",
       "      <td>0.0</td>\n",
       "      <td>10.0</td>\n",
       "    </tr>\n",
       "    <tr>\n",
       "      <td>223</td>\n",
       "      <td>2</td>\n",
       "      <td>6.685246</td>\n",
       "      <td>CURVE 7</td>\n",
       "      <td>None</td>\n",
       "      <td>2022-11-10</td>\n",
       "      <td>SiR-tubulin</td>\n",
       "      <td>0.050626</td>\n",
       "      <td>0.0</td>\n",
       "      <td>10.0</td>\n",
       "    </tr>\n",
       "  </tbody>\n",
       "</table>\n",
       "<p>224 rows × 9 columns</p>\n",
       "</div>"
      ],
      "text/plain": [
       "      CH  Curve Length (um) Curve Name DCX Type        Date    Drug Type  \\\n",
       "157  CH1          22.776211    CURVE 1      NaN  2022-05-25   Paclitaxel   \n",
       "158  CH1          11.922274    CURVE 2      NaN  2022-05-25   Paclitaxel   \n",
       "159  CH1          21.999505    CURVE 3      NaN  2022-05-25   Paclitaxel   \n",
       "160  CH1          19.814312    CURVE 5      NaN  2022-05-25   Paclitaxel   \n",
       "161  CH1           6.845359    CURVE 6      NaN  2022-05-25   Paclitaxel   \n",
       "..   ...                ...        ...      ...         ...          ...   \n",
       "219    2           8.566150    CURVE 3     None  2022-11-10  SiR-tubulin   \n",
       "220    2           9.428532    CURVE 4     None  2022-11-10  SiR-tubulin   \n",
       "221    2           7.548724    CURVE 5     None  2022-11-10  SiR-tubulin   \n",
       "222    2          10.715951    CURVE 6     None  2022-11-10  SiR-tubulin   \n",
       "223    2           6.685246    CURVE 7     None  2022-11-10  SiR-tubulin   \n",
       "\n",
       "     Expansion %  [DCX] $(n M)$  [Drug] $(\\mu M)$  \n",
       "157    -0.004813            NaN               0.0  \n",
       "158     0.027885            NaN               0.0  \n",
       "159     0.002003            NaN               0.0  \n",
       "160    -0.085216            NaN               0.0  \n",
       "161     0.045181            NaN               0.0  \n",
       "..           ...            ...               ...  \n",
       "219    -0.008393            0.0              10.0  \n",
       "220     0.018932            0.0              10.0  \n",
       "221    -0.027145            0.0              10.0  \n",
       "222     0.499633            0.0              10.0  \n",
       "223     0.050626            0.0              10.0  \n",
       "\n",
       "[224 rows x 9 columns]"
      ]
     },
     "execution_count": 160,
     "metadata": {},
     "output_type": "execute_result"
    }
   ],
   "source": [
    "joindata.to_csv(path/('merge-drug-data-on_'+date_today +'_MasterSheet.csv'), encoding='utf-8', index=False)\n",
    "joindata"
   ]
  },
  {
   "cell_type": "markdown",
   "metadata": {
    "tags": []
   },
   "source": [
    "## Load merged drugs ##"
   ]
  },
  {
   "cell_type": "code",
   "execution_count": 6,
   "metadata": {
    "tags": []
   },
   "outputs": [
    {
     "data": {
      "text/plain": [
       "(WindowsPath('C:/Users/sofia/OneDrive - McGill University/CurrBio2023/Sofia/Data/expansion-drug/merge-drug-data-on_2024-03-27_MasterSheet.csv'),\n",
       " 'merge-drug-data-on_2024-03-27_MasterSheet')"
      ]
     },
     "execution_count": 6,
     "metadata": {},
     "output_type": "execute_result"
    }
   ],
   "source": [
    "askfile = filedialog.askopenfilename() # show an \"Open\" dialog box and return the path to the folder on ONE date you want to process\n",
    "filepath = Path(askfile)\n",
    "filename = filepath.stem\n",
    "filepath, filename"
   ]
  },
  {
   "cell_type": "code",
   "execution_count": 7,
   "metadata": {
    "tags": []
   },
   "outputs": [],
   "source": [
    "mydir= filepath.parents[0]"
   ]
  },
  {
   "cell_type": "code",
   "execution_count": 8,
   "metadata": {
    "tags": []
   },
   "outputs": [],
   "source": [
    "joindata = pd.read_csv(filepath, encoding='utf-8')"
   ]
  },
  {
   "cell_type": "code",
   "execution_count": 9,
   "metadata": {
    "tags": []
   },
   "outputs": [
    {
     "data": {
      "text/html": [
       "<div>\n",
       "<style scoped>\n",
       "    .dataframe tbody tr th:only-of-type {\n",
       "        vertical-align: middle;\n",
       "    }\n",
       "\n",
       "    .dataframe tbody tr th {\n",
       "        vertical-align: top;\n",
       "    }\n",
       "\n",
       "    .dataframe thead th {\n",
       "        text-align: right;\n",
       "    }\n",
       "</style>\n",
       "<table border=\"1\" class=\"dataframe\">\n",
       "  <thead>\n",
       "    <tr style=\"text-align: right;\">\n",
       "      <th></th>\n",
       "      <th>CH</th>\n",
       "      <th>Curve Length (um)</th>\n",
       "      <th>Curve Name</th>\n",
       "      <th>DCX Type</th>\n",
       "      <th>Date</th>\n",
       "      <th>Drug Type</th>\n",
       "      <th>Expansion %</th>\n",
       "      <th>[DCX] $(n M)$</th>\n",
       "      <th>[Drug] $(\\mu M)$</th>\n",
       "    </tr>\n",
       "  </thead>\n",
       "  <tbody>\n",
       "    <tr>\n",
       "      <th>0</th>\n",
       "      <td>1</td>\n",
       "      <td>9.010838</td>\n",
       "      <td>CURVE 1</td>\n",
       "      <td>NaN</td>\n",
       "      <td>2022-05-25</td>\n",
       "      <td>Paclitaxel</td>\n",
       "      <td>-0.004813</td>\n",
       "      <td>0</td>\n",
       "      <td>0.0</td>\n",
       "    </tr>\n",
       "    <tr>\n",
       "      <th>1</th>\n",
       "      <td>1</td>\n",
       "      <td>4.716750</td>\n",
       "      <td>CURVE 2</td>\n",
       "      <td>NaN</td>\n",
       "      <td>2022-05-25</td>\n",
       "      <td>Paclitaxel</td>\n",
       "      <td>0.027885</td>\n",
       "      <td>0</td>\n",
       "      <td>0.0</td>\n",
       "    </tr>\n",
       "    <tr>\n",
       "      <th>2</th>\n",
       "      <td>1</td>\n",
       "      <td>8.703554</td>\n",
       "      <td>CURVE 3</td>\n",
       "      <td>NaN</td>\n",
       "      <td>2022-05-25</td>\n",
       "      <td>Paclitaxel</td>\n",
       "      <td>0.002003</td>\n",
       "      <td>0</td>\n",
       "      <td>0.0</td>\n",
       "    </tr>\n",
       "    <tr>\n",
       "      <th>3</th>\n",
       "      <td>1</td>\n",
       "      <td>7.839037</td>\n",
       "      <td>CURVE 5</td>\n",
       "      <td>NaN</td>\n",
       "      <td>2022-05-25</td>\n",
       "      <td>Paclitaxel</td>\n",
       "      <td>-0.085216</td>\n",
       "      <td>0</td>\n",
       "      <td>0.0</td>\n",
       "    </tr>\n",
       "    <tr>\n",
       "      <th>4</th>\n",
       "      <td>1</td>\n",
       "      <td>2.708195</td>\n",
       "      <td>CURVE 6</td>\n",
       "      <td>NaN</td>\n",
       "      <td>2022-05-25</td>\n",
       "      <td>Paclitaxel</td>\n",
       "      <td>0.045181</td>\n",
       "      <td>0</td>\n",
       "      <td>0.0</td>\n",
       "    </tr>\n",
       "    <tr>\n",
       "      <th>...</th>\n",
       "      <td>...</td>\n",
       "      <td>...</td>\n",
       "      <td>...</td>\n",
       "      <td>...</td>\n",
       "      <td>...</td>\n",
       "      <td>...</td>\n",
       "      <td>...</td>\n",
       "      <td>...</td>\n",
       "      <td>...</td>\n",
       "    </tr>\n",
       "    <tr>\n",
       "      <th>253</th>\n",
       "      <td>2</td>\n",
       "      <td>8.566150</td>\n",
       "      <td>CURVE 3</td>\n",
       "      <td>NaN</td>\n",
       "      <td>2022-11-10</td>\n",
       "      <td>SiR-tubulin</td>\n",
       "      <td>-0.008393</td>\n",
       "      <td>0</td>\n",
       "      <td>10.0</td>\n",
       "    </tr>\n",
       "    <tr>\n",
       "      <th>254</th>\n",
       "      <td>2</td>\n",
       "      <td>9.428532</td>\n",
       "      <td>CURVE 4</td>\n",
       "      <td>NaN</td>\n",
       "      <td>2022-11-10</td>\n",
       "      <td>SiR-tubulin</td>\n",
       "      <td>0.018932</td>\n",
       "      <td>0</td>\n",
       "      <td>10.0</td>\n",
       "    </tr>\n",
       "    <tr>\n",
       "      <th>255</th>\n",
       "      <td>2</td>\n",
       "      <td>7.548724</td>\n",
       "      <td>CURVE 5</td>\n",
       "      <td>NaN</td>\n",
       "      <td>2022-11-10</td>\n",
       "      <td>SiR-tubulin</td>\n",
       "      <td>-0.027145</td>\n",
       "      <td>0</td>\n",
       "      <td>10.0</td>\n",
       "    </tr>\n",
       "    <tr>\n",
       "      <th>256</th>\n",
       "      <td>2</td>\n",
       "      <td>10.715951</td>\n",
       "      <td>CURVE 6</td>\n",
       "      <td>NaN</td>\n",
       "      <td>2022-11-10</td>\n",
       "      <td>SiR-tubulin</td>\n",
       "      <td>0.499633</td>\n",
       "      <td>0</td>\n",
       "      <td>10.0</td>\n",
       "    </tr>\n",
       "    <tr>\n",
       "      <th>257</th>\n",
       "      <td>2</td>\n",
       "      <td>6.685246</td>\n",
       "      <td>CURVE 7</td>\n",
       "      <td>NaN</td>\n",
       "      <td>2022-11-10</td>\n",
       "      <td>SiR-tubulin</td>\n",
       "      <td>0.050626</td>\n",
       "      <td>0</td>\n",
       "      <td>10.0</td>\n",
       "    </tr>\n",
       "  </tbody>\n",
       "</table>\n",
       "<p>258 rows × 9 columns</p>\n",
       "</div>"
      ],
      "text/plain": [
       "     CH  Curve Length (um) Curve Name  DCX Type        Date    Drug Type  \\\n",
       "0     1           9.010838    CURVE 1       NaN  2022-05-25   Paclitaxel   \n",
       "1     1           4.716750    CURVE 2       NaN  2022-05-25   Paclitaxel   \n",
       "2     1           8.703554    CURVE 3       NaN  2022-05-25   Paclitaxel   \n",
       "3     1           7.839037    CURVE 5       NaN  2022-05-25   Paclitaxel   \n",
       "4     1           2.708195    CURVE 6       NaN  2022-05-25   Paclitaxel   \n",
       "..   ..                ...        ...       ...         ...          ...   \n",
       "253   2           8.566150    CURVE 3       NaN  2022-11-10  SiR-tubulin   \n",
       "254   2           9.428532    CURVE 4       NaN  2022-11-10  SiR-tubulin   \n",
       "255   2           7.548724    CURVE 5       NaN  2022-11-10  SiR-tubulin   \n",
       "256   2          10.715951    CURVE 6       NaN  2022-11-10  SiR-tubulin   \n",
       "257   2           6.685246    CURVE 7       NaN  2022-11-10  SiR-tubulin   \n",
       "\n",
       "     Expansion %  [DCX] $(n M)$  [Drug] $(\\mu M)$  \n",
       "0      -0.004813              0               0.0  \n",
       "1       0.027885              0               0.0  \n",
       "2       0.002003              0               0.0  \n",
       "3      -0.085216              0               0.0  \n",
       "4       0.045181              0               0.0  \n",
       "..           ...            ...               ...  \n",
       "253    -0.008393              0              10.0  \n",
       "254     0.018932              0              10.0  \n",
       "255    -0.027145              0              10.0  \n",
       "256     0.499633              0              10.0  \n",
       "257     0.050626              0              10.0  \n",
       "\n",
       "[258 rows x 9 columns]"
      ]
     },
     "execution_count": 9,
     "metadata": {},
     "output_type": "execute_result"
    }
   ],
   "source": [
    "joindata"
   ]
  },
  {
   "cell_type": "code",
   "execution_count": 10,
   "metadata": {
    "tags": []
   },
   "outputs": [
    {
     "data": {
      "text/plain": [
       "Drug Type     [Drug] $(\\mu M)$\n",
       "Docetaxel     0.1                 15\n",
       "              0.3                 28\n",
       "              1.0                 20\n",
       "Epothilone D  0.1                 27\n",
       "              0.3                 18\n",
       "              1.0                 10\n",
       "              10.0                10\n",
       "Paclitaxel    0.0                 23\n",
       "              0.1                 12\n",
       "              0.3                 11\n",
       "              1.0                  8\n",
       "              10.0                44\n",
       "SiR-tubulin   10.0                32\n",
       "dtype: int64"
      ]
     },
     "execution_count": 10,
     "metadata": {},
     "output_type": "execute_result"
    }
   ],
   "source": [
    "joindata.groupby(['Drug Type',drug]).size()"
   ]
  },
  {
   "cell_type": "code",
   "execution_count": 11,
   "metadata": {
    "tags": []
   },
   "outputs": [
    {
     "data": {
      "text/html": [
       "<div>\n",
       "<style scoped>\n",
       "    .dataframe tbody tr th:only-of-type {\n",
       "        vertical-align: middle;\n",
       "    }\n",
       "\n",
       "    .dataframe tbody tr th {\n",
       "        vertical-align: top;\n",
       "    }\n",
       "\n",
       "    .dataframe thead th {\n",
       "        text-align: right;\n",
       "    }\n",
       "</style>\n",
       "<table border=\"1\" class=\"dataframe\">\n",
       "  <thead>\n",
       "    <tr style=\"text-align: right;\">\n",
       "      <th></th>\n",
       "      <th>CH</th>\n",
       "      <th>Curve Length (um)</th>\n",
       "      <th>Curve Name</th>\n",
       "      <th>DCX Type</th>\n",
       "      <th>Date</th>\n",
       "      <th>Drug Type</th>\n",
       "      <th>Expansion %</th>\n",
       "      <th>[DCX] $(n M)$</th>\n",
       "      <th>[Drug] $(\\mu M)$</th>\n",
       "    </tr>\n",
       "  </thead>\n",
       "  <tbody>\n",
       "    <tr>\n",
       "      <th>0</th>\n",
       "      <td>1</td>\n",
       "      <td>9.010838</td>\n",
       "      <td>CURVE 1</td>\n",
       "      <td>NaN</td>\n",
       "      <td>2022-05-25</td>\n",
       "      <td>Paclitaxel</td>\n",
       "      <td>-0.004813</td>\n",
       "      <td>0</td>\n",
       "      <td>0.0</td>\n",
       "    </tr>\n",
       "    <tr>\n",
       "      <th>2</th>\n",
       "      <td>1</td>\n",
       "      <td>8.703554</td>\n",
       "      <td>CURVE 3</td>\n",
       "      <td>NaN</td>\n",
       "      <td>2022-05-25</td>\n",
       "      <td>Paclitaxel</td>\n",
       "      <td>0.002003</td>\n",
       "      <td>0</td>\n",
       "      <td>0.0</td>\n",
       "    </tr>\n",
       "    <tr>\n",
       "      <th>3</th>\n",
       "      <td>1</td>\n",
       "      <td>7.839037</td>\n",
       "      <td>CURVE 5</td>\n",
       "      <td>NaN</td>\n",
       "      <td>2022-05-25</td>\n",
       "      <td>Paclitaxel</td>\n",
       "      <td>-0.085216</td>\n",
       "      <td>0</td>\n",
       "      <td>0.0</td>\n",
       "    </tr>\n",
       "    <tr>\n",
       "      <th>6</th>\n",
       "      <td>1</td>\n",
       "      <td>8.920431</td>\n",
       "      <td>CURVE 1</td>\n",
       "      <td>NaN</td>\n",
       "      <td>2022-05-25</td>\n",
       "      <td>Paclitaxel</td>\n",
       "      <td>-0.033716</td>\n",
       "      <td>0</td>\n",
       "      <td>0.0</td>\n",
       "    </tr>\n",
       "    <tr>\n",
       "      <th>7</th>\n",
       "      <td>1</td>\n",
       "      <td>11.877965</td>\n",
       "      <td>CURVE 2</td>\n",
       "      <td>NaN</td>\n",
       "      <td>2022-05-25</td>\n",
       "      <td>Paclitaxel</td>\n",
       "      <td>0.033069</td>\n",
       "      <td>0</td>\n",
       "      <td>0.0</td>\n",
       "    </tr>\n",
       "    <tr>\n",
       "      <th>...</th>\n",
       "      <td>...</td>\n",
       "      <td>...</td>\n",
       "      <td>...</td>\n",
       "      <td>...</td>\n",
       "      <td>...</td>\n",
       "      <td>...</td>\n",
       "      <td>...</td>\n",
       "      <td>...</td>\n",
       "      <td>...</td>\n",
       "    </tr>\n",
       "    <tr>\n",
       "      <th>253</th>\n",
       "      <td>2</td>\n",
       "      <td>8.566150</td>\n",
       "      <td>CURVE 3</td>\n",
       "      <td>NaN</td>\n",
       "      <td>2022-11-10</td>\n",
       "      <td>SiR-tubulin</td>\n",
       "      <td>-0.008393</td>\n",
       "      <td>0</td>\n",
       "      <td>10.0</td>\n",
       "    </tr>\n",
       "    <tr>\n",
       "      <th>254</th>\n",
       "      <td>2</td>\n",
       "      <td>9.428532</td>\n",
       "      <td>CURVE 4</td>\n",
       "      <td>NaN</td>\n",
       "      <td>2022-11-10</td>\n",
       "      <td>SiR-tubulin</td>\n",
       "      <td>0.018932</td>\n",
       "      <td>0</td>\n",
       "      <td>10.0</td>\n",
       "    </tr>\n",
       "    <tr>\n",
       "      <th>255</th>\n",
       "      <td>2</td>\n",
       "      <td>7.548724</td>\n",
       "      <td>CURVE 5</td>\n",
       "      <td>NaN</td>\n",
       "      <td>2022-11-10</td>\n",
       "      <td>SiR-tubulin</td>\n",
       "      <td>-0.027145</td>\n",
       "      <td>0</td>\n",
       "      <td>10.0</td>\n",
       "    </tr>\n",
       "    <tr>\n",
       "      <th>256</th>\n",
       "      <td>2</td>\n",
       "      <td>10.715951</td>\n",
       "      <td>CURVE 6</td>\n",
       "      <td>NaN</td>\n",
       "      <td>2022-11-10</td>\n",
       "      <td>SiR-tubulin</td>\n",
       "      <td>0.499633</td>\n",
       "      <td>0</td>\n",
       "      <td>10.0</td>\n",
       "    </tr>\n",
       "    <tr>\n",
       "      <th>257</th>\n",
       "      <td>2</td>\n",
       "      <td>6.685246</td>\n",
       "      <td>CURVE 7</td>\n",
       "      <td>NaN</td>\n",
       "      <td>2022-11-10</td>\n",
       "      <td>SiR-tubulin</td>\n",
       "      <td>0.050626</td>\n",
       "      <td>0</td>\n",
       "      <td>10.0</td>\n",
       "    </tr>\n",
       "  </tbody>\n",
       "</table>\n",
       "<p>238 rows × 9 columns</p>\n",
       "</div>"
      ],
      "text/plain": [
       "     CH  Curve Length (um) Curve Name  DCX Type        Date    Drug Type  \\\n",
       "0     1           9.010838    CURVE 1       NaN  2022-05-25   Paclitaxel   \n",
       "2     1           8.703554    CURVE 3       NaN  2022-05-25   Paclitaxel   \n",
       "3     1           7.839037    CURVE 5       NaN  2022-05-25   Paclitaxel   \n",
       "6     1           8.920431    CURVE 1       NaN  2022-05-25   Paclitaxel   \n",
       "7     1          11.877965    CURVE 2       NaN  2022-05-25   Paclitaxel   \n",
       "..   ..                ...        ...       ...         ...          ...   \n",
       "253   2           8.566150    CURVE 3       NaN  2022-11-10  SiR-tubulin   \n",
       "254   2           9.428532    CURVE 4       NaN  2022-11-10  SiR-tubulin   \n",
       "255   2           7.548724    CURVE 5       NaN  2022-11-10  SiR-tubulin   \n",
       "256   2          10.715951    CURVE 6       NaN  2022-11-10  SiR-tubulin   \n",
       "257   2           6.685246    CURVE 7       NaN  2022-11-10  SiR-tubulin   \n",
       "\n",
       "     Expansion %  [DCX] $(n M)$  [Drug] $(\\mu M)$  \n",
       "0      -0.004813              0               0.0  \n",
       "2       0.002003              0               0.0  \n",
       "3      -0.085216              0               0.0  \n",
       "6      -0.033716              0               0.0  \n",
       "7       0.033069              0               0.0  \n",
       "..           ...            ...               ...  \n",
       "253    -0.008393              0              10.0  \n",
       "254     0.018932              0              10.0  \n",
       "255    -0.027145              0              10.0  \n",
       "256     0.499633              0              10.0  \n",
       "257     0.050626              0              10.0  \n",
       "\n",
       "[238 rows x 9 columns]"
      ]
     },
     "execution_count": 11,
     "metadata": {},
     "output_type": "execute_result"
    }
   ],
   "source": [
    "filtdata = joindata[joindata['Curve Length (um)']> 5.5]\n",
    "filtdata\n"
   ]
  },
  {
   "cell_type": "code",
   "execution_count": 12,
   "metadata": {
    "tags": []
   },
   "outputs": [
    {
     "data": {
      "text/plain": [
       "Drug Type     [Drug] $(\\mu M)$\n",
       "Docetaxel     0.1                 12\n",
       "              0.3                 28\n",
       "              1.0                 20\n",
       "Epothilone D  0.1                 22\n",
       "              0.3                 17\n",
       "              1.0                  8\n",
       "              10.0                10\n",
       "Paclitaxel    0.0                 15\n",
       "              0.1                 12\n",
       "              0.3                 10\n",
       "              1.0                  8\n",
       "              10.0                44\n",
       "SiR-tubulin   10.0                32\n",
       "dtype: int64"
      ]
     },
     "execution_count": 12,
     "metadata": {},
     "output_type": "execute_result"
    }
   ],
   "source": [
    "filtdata.groupby(['Drug Type',drug]).size()"
   ]
  },
  {
   "cell_type": "code",
   "execution_count": 13,
   "metadata": {
    "tags": []
   },
   "outputs": [],
   "source": [
    "joindata = filtdata"
   ]
  },
  {
   "cell_type": "code",
   "execution_count": 14,
   "metadata": {
    "tags": []
   },
   "outputs": [],
   "source": [
    "#### LAFRANCE expansion\n",
    "mean_exp = 2.38\n",
    "sd_exp = 0.58\n",
    "sem_exp = 0.21"
   ]
  },
  {
   "cell_type": "code",
   "execution_count": 15,
   "metadata": {
    "tags": []
   },
   "outputs": [],
   "source": [
    "def median_quantiles(joindata, drugname):\n",
    "    expdata = joindata[joindata[drugtype] == drugname][[drug,'Expansion %']]\n",
    "    medianexp = expdata.groupby(drug).quantile([0.5])\n",
    "    Q25data = expdata.groupby(drug).quantile([0.25])\n",
    "    Q75data = expdata.groupby(drug).quantile([0.75])\n",
    "    return pd.concat([medianexp.reset_index(), Q25data.reset_index(), Q75data.reset_index()], axis=1)"
   ]
  },
  {
   "cell_type": "code",
   "execution_count": 25,
   "metadata": {
    "tags": []
   },
   "outputs": [
    {
     "data": {
      "text/html": [
       "<div>\n",
       "<style scoped>\n",
       "    .dataframe tbody tr th:only-of-type {\n",
       "        vertical-align: middle;\n",
       "    }\n",
       "\n",
       "    .dataframe tbody tr th {\n",
       "        vertical-align: top;\n",
       "    }\n",
       "\n",
       "    .dataframe thead th {\n",
       "        text-align: right;\n",
       "    }\n",
       "</style>\n",
       "<table border=\"1\" class=\"dataframe\">\n",
       "  <thead>\n",
       "    <tr style=\"text-align: right;\">\n",
       "      <th></th>\n",
       "      <th>[Drug] $(\\mu M)$</th>\n",
       "      <th>level_1</th>\n",
       "      <th>Expansion %</th>\n",
       "      <th>[Drug] $(\\mu M)$</th>\n",
       "      <th>level_1</th>\n",
       "      <th>Expansion %</th>\n",
       "      <th>[Drug] $(\\mu M)$</th>\n",
       "      <th>level_1</th>\n",
       "      <th>Expansion %</th>\n",
       "    </tr>\n",
       "  </thead>\n",
       "  <tbody>\n",
       "    <tr>\n",
       "      <th>0</th>\n",
       "      <td>0.0</td>\n",
       "      <td>0.5</td>\n",
       "      <td>0.000000</td>\n",
       "      <td>0.0</td>\n",
       "      <td>0.25</td>\n",
       "      <td>-0.009426</td>\n",
       "      <td>0.0</td>\n",
       "      <td>0.75</td>\n",
       "      <td>0.008480</td>\n",
       "    </tr>\n",
       "    <tr>\n",
       "      <th>1</th>\n",
       "      <td>0.1</td>\n",
       "      <td>0.5</td>\n",
       "      <td>0.179532</td>\n",
       "      <td>0.1</td>\n",
       "      <td>0.25</td>\n",
       "      <td>0.101524</td>\n",
       "      <td>0.1</td>\n",
       "      <td>0.75</td>\n",
       "      <td>0.231136</td>\n",
       "    </tr>\n",
       "    <tr>\n",
       "      <th>2</th>\n",
       "      <td>0.3</td>\n",
       "      <td>0.5</td>\n",
       "      <td>0.988436</td>\n",
       "      <td>0.3</td>\n",
       "      <td>0.25</td>\n",
       "      <td>0.610086</td>\n",
       "      <td>0.3</td>\n",
       "      <td>0.75</td>\n",
       "      <td>1.406808</td>\n",
       "    </tr>\n",
       "    <tr>\n",
       "      <th>3</th>\n",
       "      <td>1.0</td>\n",
       "      <td>0.5</td>\n",
       "      <td>2.678609</td>\n",
       "      <td>1.0</td>\n",
       "      <td>0.25</td>\n",
       "      <td>2.153693</td>\n",
       "      <td>1.0</td>\n",
       "      <td>0.75</td>\n",
       "      <td>2.790141</td>\n",
       "    </tr>\n",
       "    <tr>\n",
       "      <th>4</th>\n",
       "      <td>10.0</td>\n",
       "      <td>0.5</td>\n",
       "      <td>2.748794</td>\n",
       "      <td>10.0</td>\n",
       "      <td>0.25</td>\n",
       "      <td>2.417072</td>\n",
       "      <td>10.0</td>\n",
       "      <td>0.75</td>\n",
       "      <td>3.162341</td>\n",
       "    </tr>\n",
       "  </tbody>\n",
       "</table>\n",
       "</div>"
      ],
      "text/plain": [
       "   [Drug] $(\\mu M)$  level_1  Expansion %  [Drug] $(\\mu M)$  level_1  \\\n",
       "0               0.0      0.5     0.000000               0.0     0.25   \n",
       "1               0.1      0.5     0.179532               0.1     0.25   \n",
       "2               0.3      0.5     0.988436               0.3     0.25   \n",
       "3               1.0      0.5     2.678609               1.0     0.25   \n",
       "4              10.0      0.5     2.748794              10.0     0.25   \n",
       "\n",
       "   Expansion %  [Drug] $(\\mu M)$  level_1  Expansion %  \n",
       "0    -0.009426               0.0     0.75     0.008480  \n",
       "1     0.101524               0.1     0.75     0.231136  \n",
       "2     0.610086               0.3     0.75     1.406808  \n",
       "3     2.153693               1.0     0.75     2.790141  \n",
       "4     2.417072              10.0     0.75     3.162341  "
      ]
     },
     "execution_count": 25,
     "metadata": {},
     "output_type": "execute_result"
    }
   ],
   "source": [
    "median_quantiles(joindata, 'Paclitaxel')"
   ]
  },
  {
   "cell_type": "code",
   "execution_count": 26,
   "metadata": {
    "tags": []
   },
   "outputs": [
    {
     "data": {
      "text/html": [
       "<div>\n",
       "<style scoped>\n",
       "    .dataframe tbody tr th:only-of-type {\n",
       "        vertical-align: middle;\n",
       "    }\n",
       "\n",
       "    .dataframe tbody tr th {\n",
       "        vertical-align: top;\n",
       "    }\n",
       "\n",
       "    .dataframe thead th {\n",
       "        text-align: right;\n",
       "    }\n",
       "</style>\n",
       "<table border=\"1\" class=\"dataframe\">\n",
       "  <thead>\n",
       "    <tr style=\"text-align: right;\">\n",
       "      <th></th>\n",
       "      <th>[Drug] $(\\mu M)$</th>\n",
       "      <th>level_1</th>\n",
       "      <th>Expansion %</th>\n",
       "      <th>[Drug] $(\\mu M)$</th>\n",
       "      <th>level_1</th>\n",
       "      <th>Expansion %</th>\n",
       "      <th>[Drug] $(\\mu M)$</th>\n",
       "      <th>level_1</th>\n",
       "      <th>Expansion %</th>\n",
       "    </tr>\n",
       "  </thead>\n",
       "  <tbody>\n",
       "    <tr>\n",
       "      <th>0</th>\n",
       "      <td>0.1</td>\n",
       "      <td>0.5</td>\n",
       "      <td>0.777297</td>\n",
       "      <td>0.1</td>\n",
       "      <td>0.25</td>\n",
       "      <td>0.063015</td>\n",
       "      <td>0.1</td>\n",
       "      <td>0.75</td>\n",
       "      <td>1.419159</td>\n",
       "    </tr>\n",
       "    <tr>\n",
       "      <th>1</th>\n",
       "      <td>0.3</td>\n",
       "      <td>0.5</td>\n",
       "      <td>2.556015</td>\n",
       "      <td>0.3</td>\n",
       "      <td>0.25</td>\n",
       "      <td>2.197710</td>\n",
       "      <td>0.3</td>\n",
       "      <td>0.75</td>\n",
       "      <td>2.834853</td>\n",
       "    </tr>\n",
       "    <tr>\n",
       "      <th>2</th>\n",
       "      <td>1.0</td>\n",
       "      <td>0.5</td>\n",
       "      <td>2.803312</td>\n",
       "      <td>1.0</td>\n",
       "      <td>0.25</td>\n",
       "      <td>2.549283</td>\n",
       "      <td>1.0</td>\n",
       "      <td>0.75</td>\n",
       "      <td>2.925565</td>\n",
       "    </tr>\n",
       "  </tbody>\n",
       "</table>\n",
       "</div>"
      ],
      "text/plain": [
       "   [Drug] $(\\mu M)$  level_1  Expansion %  [Drug] $(\\mu M)$  level_1  \\\n",
       "0               0.1      0.5     0.777297               0.1     0.25   \n",
       "1               0.3      0.5     2.556015               0.3     0.25   \n",
       "2               1.0      0.5     2.803312               1.0     0.25   \n",
       "\n",
       "   Expansion %  [Drug] $(\\mu M)$  level_1  Expansion %  \n",
       "0     0.063015               0.1     0.75     1.419159  \n",
       "1     2.197710               0.3     0.75     2.834853  \n",
       "2     2.549283               1.0     0.75     2.925565  "
      ]
     },
     "execution_count": 26,
     "metadata": {},
     "output_type": "execute_result"
    }
   ],
   "source": [
    "median_quantiles(joindata, 'Docetaxel')"
   ]
  },
  {
   "cell_type": "code",
   "execution_count": 27,
   "metadata": {
    "tags": []
   },
   "outputs": [
    {
     "data": {
      "text/html": [
       "<div>\n",
       "<style scoped>\n",
       "    .dataframe tbody tr th:only-of-type {\n",
       "        vertical-align: middle;\n",
       "    }\n",
       "\n",
       "    .dataframe tbody tr th {\n",
       "        vertical-align: top;\n",
       "    }\n",
       "\n",
       "    .dataframe thead th {\n",
       "        text-align: right;\n",
       "    }\n",
       "</style>\n",
       "<table border=\"1\" class=\"dataframe\">\n",
       "  <thead>\n",
       "    <tr style=\"text-align: right;\">\n",
       "      <th></th>\n",
       "      <th>[Drug] $(\\mu M)$</th>\n",
       "      <th>level_1</th>\n",
       "      <th>Expansion %</th>\n",
       "      <th>[Drug] $(\\mu M)$</th>\n",
       "      <th>level_1</th>\n",
       "      <th>Expansion %</th>\n",
       "      <th>[Drug] $(\\mu M)$</th>\n",
       "      <th>level_1</th>\n",
       "      <th>Expansion %</th>\n",
       "    </tr>\n",
       "  </thead>\n",
       "  <tbody>\n",
       "    <tr>\n",
       "      <th>0</th>\n",
       "      <td>0.1</td>\n",
       "      <td>0.5</td>\n",
       "      <td>1.844379</td>\n",
       "      <td>0.1</td>\n",
       "      <td>0.25</td>\n",
       "      <td>0.955034</td>\n",
       "      <td>0.1</td>\n",
       "      <td>0.75</td>\n",
       "      <td>2.307005</td>\n",
       "    </tr>\n",
       "    <tr>\n",
       "      <th>1</th>\n",
       "      <td>0.3</td>\n",
       "      <td>0.5</td>\n",
       "      <td>1.910179</td>\n",
       "      <td>0.3</td>\n",
       "      <td>0.25</td>\n",
       "      <td>1.750747</td>\n",
       "      <td>0.3</td>\n",
       "      <td>0.75</td>\n",
       "      <td>2.370524</td>\n",
       "    </tr>\n",
       "    <tr>\n",
       "      <th>2</th>\n",
       "      <td>1.0</td>\n",
       "      <td>0.5</td>\n",
       "      <td>2.156737</td>\n",
       "      <td>1.0</td>\n",
       "      <td>0.25</td>\n",
       "      <td>2.046954</td>\n",
       "      <td>1.0</td>\n",
       "      <td>0.75</td>\n",
       "      <td>2.946186</td>\n",
       "    </tr>\n",
       "    <tr>\n",
       "      <th>3</th>\n",
       "      <td>10.0</td>\n",
       "      <td>0.5</td>\n",
       "      <td>2.466638</td>\n",
       "      <td>10.0</td>\n",
       "      <td>0.25</td>\n",
       "      <td>2.010308</td>\n",
       "      <td>10.0</td>\n",
       "      <td>0.75</td>\n",
       "      <td>2.579625</td>\n",
       "    </tr>\n",
       "  </tbody>\n",
       "</table>\n",
       "</div>"
      ],
      "text/plain": [
       "   [Drug] $(\\mu M)$  level_1  Expansion %  [Drug] $(\\mu M)$  level_1  \\\n",
       "0               0.1      0.5     1.844379               0.1     0.25   \n",
       "1               0.3      0.5     1.910179               0.3     0.25   \n",
       "2               1.0      0.5     2.156737               1.0     0.25   \n",
       "3              10.0      0.5     2.466638              10.0     0.25   \n",
       "\n",
       "   Expansion %  [Drug] $(\\mu M)$  level_1  Expansion %  \n",
       "0     0.955034               0.1     0.75     2.307005  \n",
       "1     1.750747               0.3     0.75     2.370524  \n",
       "2     2.046954               1.0     0.75     2.946186  \n",
       "3     2.010308              10.0     0.75     2.579625  "
      ]
     },
     "execution_count": 27,
     "metadata": {},
     "output_type": "execute_result"
    }
   ],
   "source": [
    "median_quantiles(joindata, 'Epothilone D')"
   ]
  },
  {
   "cell_type": "code",
   "execution_count": 28,
   "metadata": {
    "tags": []
   },
   "outputs": [
    {
     "data": {
      "text/html": [
       "<div>\n",
       "<style scoped>\n",
       "    .dataframe tbody tr th:only-of-type {\n",
       "        vertical-align: middle;\n",
       "    }\n",
       "\n",
       "    .dataframe tbody tr th {\n",
       "        vertical-align: top;\n",
       "    }\n",
       "\n",
       "    .dataframe thead th {\n",
       "        text-align: right;\n",
       "    }\n",
       "</style>\n",
       "<table border=\"1\" class=\"dataframe\">\n",
       "  <thead>\n",
       "    <tr style=\"text-align: right;\">\n",
       "      <th></th>\n",
       "      <th>[Drug] $(\\mu M)$</th>\n",
       "      <th>level_1</th>\n",
       "      <th>Expansion %</th>\n",
       "      <th>[Drug] $(\\mu M)$</th>\n",
       "      <th>level_1</th>\n",
       "      <th>Expansion %</th>\n",
       "      <th>[Drug] $(\\mu M)$</th>\n",
       "      <th>level_1</th>\n",
       "      <th>Expansion %</th>\n",
       "    </tr>\n",
       "  </thead>\n",
       "  <tbody>\n",
       "    <tr>\n",
       "      <th>0</th>\n",
       "      <td>10.0</td>\n",
       "      <td>0.5</td>\n",
       "      <td>0.026325</td>\n",
       "      <td>10.0</td>\n",
       "      <td>0.25</td>\n",
       "      <td>0.005712</td>\n",
       "      <td>10.0</td>\n",
       "      <td>0.75</td>\n",
       "      <td>0.070178</td>\n",
       "    </tr>\n",
       "  </tbody>\n",
       "</table>\n",
       "</div>"
      ],
      "text/plain": [
       "   [Drug] $(\\mu M)$  level_1  Expansion %  [Drug] $(\\mu M)$  level_1  \\\n",
       "0              10.0      0.5     0.026325              10.0     0.25   \n",
       "\n",
       "   Expansion %  [Drug] $(\\mu M)$  level_1  Expansion %  \n",
       "0     0.005712              10.0     0.75     0.070178  "
      ]
     },
     "execution_count": 28,
     "metadata": {},
     "output_type": "execute_result"
    }
   ],
   "source": [
    "median_quantiles(joindata, 'SiR-tubulin')"
   ]
  },
  {
   "cell_type": "code",
   "execution_count": 26,
   "metadata": {
    "tags": []
   },
   "outputs": [],
   "source": [
    "def mean_sd(joindata, drugname):\n",
    "    expdata = joindata[joindata[drugtype] == drugname][[drug,'Expansion %']]\n",
    "    meandata = expdata.groupby([drug]).mean()\n",
    "    stddata = expdata.groupby([drug]).sem()\n",
    "    ncount = expdata.groupby([drug]).count()\n",
    "    x = meandata.index.values\n",
    "    y = meandata['Expansion %'].values\n",
    "    yerr = stddata['Expansion %'].values\n",
    "    n = ncount['Expansion %'].values\n",
    "    \n",
    "    data = {drugtype : drugname,\n",
    "        drug: x,\n",
    "        'Mean Expansion %': y,\n",
    "         'SEM Expansion %': yerr,\n",
    "            'n': n\n",
    "           }\n",
    "    \n",
    "    df = pd.DataFrame(data)\n",
    "\n",
    "    return df"
   ]
  },
  {
   "cell_type": "code",
   "execution_count": 27,
   "metadata": {
    "tags": []
   },
   "outputs": [
    {
     "data": {
      "text/html": [
       "<div>\n",
       "<style scoped>\n",
       "    .dataframe tbody tr th:only-of-type {\n",
       "        vertical-align: middle;\n",
       "    }\n",
       "\n",
       "    .dataframe tbody tr th {\n",
       "        vertical-align: top;\n",
       "    }\n",
       "\n",
       "    .dataframe thead th {\n",
       "        text-align: right;\n",
       "    }\n",
       "</style>\n",
       "<table border=\"1\" class=\"dataframe\">\n",
       "  <thead>\n",
       "    <tr style=\"text-align: right;\">\n",
       "      <th></th>\n",
       "      <th>Drug Type</th>\n",
       "      <th>[Drug] $(\\mu M)$</th>\n",
       "      <th>Mean Expansion %</th>\n",
       "      <th>SEM Expansion %</th>\n",
       "      <th>n</th>\n",
       "    </tr>\n",
       "  </thead>\n",
       "  <tbody>\n",
       "    <tr>\n",
       "      <th>0</th>\n",
       "      <td>Paclitaxel</td>\n",
       "      <td>0.0</td>\n",
       "      <td>-0.005661</td>\n",
       "      <td>0.007015</td>\n",
       "      <td>15</td>\n",
       "    </tr>\n",
       "    <tr>\n",
       "      <th>1</th>\n",
       "      <td>Paclitaxel</td>\n",
       "      <td>0.1</td>\n",
       "      <td>0.181421</td>\n",
       "      <td>0.033646</td>\n",
       "      <td>12</td>\n",
       "    </tr>\n",
       "    <tr>\n",
       "      <th>2</th>\n",
       "      <td>Paclitaxel</td>\n",
       "      <td>0.3</td>\n",
       "      <td>1.052885</td>\n",
       "      <td>0.186107</td>\n",
       "      <td>10</td>\n",
       "    </tr>\n",
       "    <tr>\n",
       "      <th>3</th>\n",
       "      <td>Paclitaxel</td>\n",
       "      <td>1.0</td>\n",
       "      <td>2.571357</td>\n",
       "      <td>0.155771</td>\n",
       "      <td>8</td>\n",
       "    </tr>\n",
       "    <tr>\n",
       "      <th>4</th>\n",
       "      <td>Paclitaxel</td>\n",
       "      <td>10.0</td>\n",
       "      <td>2.300036</td>\n",
       "      <td>0.086749</td>\n",
       "      <td>44</td>\n",
       "    </tr>\n",
       "  </tbody>\n",
       "</table>\n",
       "</div>"
      ],
      "text/plain": [
       "    Drug Type  [Drug] $(\\mu M)$  Mean Expansion %  SEM Expansion %   n\n",
       "0  Paclitaxel               0.0         -0.005661         0.007015  15\n",
       "1  Paclitaxel               0.1          0.181421         0.033646  12\n",
       "2  Paclitaxel               0.3          1.052885         0.186107  10\n",
       "3  Paclitaxel               1.0          2.571357         0.155771   8\n",
       "4  Paclitaxel              10.0          2.300036         0.086749  44"
      ]
     },
     "execution_count": 27,
     "metadata": {},
     "output_type": "execute_result"
    }
   ],
   "source": [
    "PTXmean = mean_sd(joindata, 'Paclitaxel')\n",
    "PTXmean"
   ]
  },
  {
   "cell_type": "code",
   "execution_count": 236,
   "metadata": {
    "tags": []
   },
   "outputs": [
    {
     "data": {
      "text/html": [
       "<div>\n",
       "<style scoped>\n",
       "    .dataframe tbody tr th:only-of-type {\n",
       "        vertical-align: middle;\n",
       "    }\n",
       "\n",
       "    .dataframe tbody tr th {\n",
       "        vertical-align: top;\n",
       "    }\n",
       "\n",
       "    .dataframe thead th {\n",
       "        text-align: right;\n",
       "    }\n",
       "</style>\n",
       "<table border=\"1\" class=\"dataframe\">\n",
       "  <thead>\n",
       "    <tr style=\"text-align: right;\">\n",
       "      <th></th>\n",
       "      <th>Drug Type</th>\n",
       "      <th>[Drug] $(\\mu M)$</th>\n",
       "      <th>Mean Expansion %</th>\n",
       "      <th>SEM Expansion %</th>\n",
       "      <th>n</th>\n",
       "    </tr>\n",
       "  </thead>\n",
       "  <tbody>\n",
       "    <tr>\n",
       "      <th>0</th>\n",
       "      <td>Docetaxel</td>\n",
       "      <td>0.1</td>\n",
       "      <td>0.774085</td>\n",
       "      <td>0.214739</td>\n",
       "      <td>12</td>\n",
       "    </tr>\n",
       "    <tr>\n",
       "      <th>1</th>\n",
       "      <td>Docetaxel</td>\n",
       "      <td>0.3</td>\n",
       "      <td>2.554492</td>\n",
       "      <td>0.097005</td>\n",
       "      <td>28</td>\n",
       "    </tr>\n",
       "    <tr>\n",
       "      <th>2</th>\n",
       "      <td>Docetaxel</td>\n",
       "      <td>1.0</td>\n",
       "      <td>2.761353</td>\n",
       "      <td>0.071960</td>\n",
       "      <td>20</td>\n",
       "    </tr>\n",
       "  </tbody>\n",
       "</table>\n",
       "</div>"
      ],
      "text/plain": [
       "   Drug Type  [Drug] $(\\mu M)$  Mean Expansion %  SEM Expansion %   n\n",
       "0  Docetaxel               0.1          0.774085         0.214739  12\n",
       "1  Docetaxel               0.3          2.554492         0.097005  28\n",
       "2  Docetaxel               1.0          2.761353         0.071960  20"
      ]
     },
     "execution_count": 236,
     "metadata": {},
     "output_type": "execute_result"
    }
   ],
   "source": [
    "DTXmean = mean_sd(joindata, 'Docetaxel')\n",
    "DTXmean"
   ]
  },
  {
   "cell_type": "code",
   "execution_count": 237,
   "metadata": {
    "tags": []
   },
   "outputs": [
    {
     "data": {
      "text/html": [
       "<div>\n",
       "<style scoped>\n",
       "    .dataframe tbody tr th:only-of-type {\n",
       "        vertical-align: middle;\n",
       "    }\n",
       "\n",
       "    .dataframe tbody tr th {\n",
       "        vertical-align: top;\n",
       "    }\n",
       "\n",
       "    .dataframe thead th {\n",
       "        text-align: right;\n",
       "    }\n",
       "</style>\n",
       "<table border=\"1\" class=\"dataframe\">\n",
       "  <thead>\n",
       "    <tr style=\"text-align: right;\">\n",
       "      <th></th>\n",
       "      <th>Drug Type</th>\n",
       "      <th>[Drug] $(\\mu M)$</th>\n",
       "      <th>Mean Expansion %</th>\n",
       "      <th>SEM Expansion %</th>\n",
       "      <th>n</th>\n",
       "    </tr>\n",
       "  </thead>\n",
       "  <tbody>\n",
       "    <tr>\n",
       "      <th>0</th>\n",
       "      <td>Epothilone D</td>\n",
       "      <td>0.1</td>\n",
       "      <td>1.658166</td>\n",
       "      <td>0.202788</td>\n",
       "      <td>22</td>\n",
       "    </tr>\n",
       "    <tr>\n",
       "      <th>1</th>\n",
       "      <td>Epothilone D</td>\n",
       "      <td>0.3</td>\n",
       "      <td>1.968370</td>\n",
       "      <td>0.147349</td>\n",
       "      <td>17</td>\n",
       "    </tr>\n",
       "    <tr>\n",
       "      <th>2</th>\n",
       "      <td>Epothilone D</td>\n",
       "      <td>1.0</td>\n",
       "      <td>2.439872</td>\n",
       "      <td>0.255322</td>\n",
       "      <td>8</td>\n",
       "    </tr>\n",
       "    <tr>\n",
       "      <th>3</th>\n",
       "      <td>Epothilone D</td>\n",
       "      <td>10.0</td>\n",
       "      <td>2.305376</td>\n",
       "      <td>0.192127</td>\n",
       "      <td>10</td>\n",
       "    </tr>\n",
       "  </tbody>\n",
       "</table>\n",
       "</div>"
      ],
      "text/plain": [
       "      Drug Type  [Drug] $(\\mu M)$  Mean Expansion %  SEM Expansion %   n\n",
       "0  Epothilone D               0.1          1.658166         0.202788  22\n",
       "1  Epothilone D               0.3          1.968370         0.147349  17\n",
       "2  Epothilone D               1.0          2.439872         0.255322   8\n",
       "3  Epothilone D              10.0          2.305376         0.192127  10"
      ]
     },
     "execution_count": 237,
     "metadata": {},
     "output_type": "execute_result"
    }
   ],
   "source": [
    "EpoDmean = mean_sd(joindata, 'Epothilone D')\n",
    "EpoDmean"
   ]
  },
  {
   "cell_type": "code",
   "execution_count": 238,
   "metadata": {
    "tags": []
   },
   "outputs": [
    {
     "data": {
      "text/html": [
       "<div>\n",
       "<style scoped>\n",
       "    .dataframe tbody tr th:only-of-type {\n",
       "        vertical-align: middle;\n",
       "    }\n",
       "\n",
       "    .dataframe tbody tr th {\n",
       "        vertical-align: top;\n",
       "    }\n",
       "\n",
       "    .dataframe thead th {\n",
       "        text-align: right;\n",
       "    }\n",
       "</style>\n",
       "<table border=\"1\" class=\"dataframe\">\n",
       "  <thead>\n",
       "    <tr style=\"text-align: right;\">\n",
       "      <th></th>\n",
       "      <th>Drug Type</th>\n",
       "      <th>[Drug] $(\\mu M)$</th>\n",
       "      <th>Mean Expansion %</th>\n",
       "      <th>SEM Expansion %</th>\n",
       "      <th>n</th>\n",
       "    </tr>\n",
       "  </thead>\n",
       "  <tbody>\n",
       "    <tr>\n",
       "      <th>0</th>\n",
       "      <td>SiR-tubulin</td>\n",
       "      <td>10.0</td>\n",
       "      <td>0.057693</td>\n",
       "      <td>0.019081</td>\n",
       "      <td>32</td>\n",
       "    </tr>\n",
       "  </tbody>\n",
       "</table>\n",
       "</div>"
      ],
      "text/plain": [
       "     Drug Type  [Drug] $(\\mu M)$  Mean Expansion %  SEM Expansion %   n\n",
       "0  SiR-tubulin              10.0          0.057693         0.019081  32"
      ]
     },
     "execution_count": 238,
     "metadata": {},
     "output_type": "execute_result"
    }
   ],
   "source": [
    "SiRmean = mean_sd(joindata, 'SiR-tubulin')\n",
    "SiRmean"
   ]
  },
  {
   "cell_type": "code",
   "execution_count": 228,
   "metadata": {
    "tags": []
   },
   "outputs": [
    {
     "data": {
      "text/plain": [
       "(2.38, 1.7999999999999998, 2.96)"
      ]
     },
     "execution_count": 228,
     "metadata": {},
     "output_type": "execute_result"
    }
   ],
   "source": [
    "mean_exp, mean_exp - sd_exp,  mean_exp + sd_exp"
   ]
  },
  {
   "cell_type": "code",
   "execution_count": 315,
   "metadata": {
    "tags": []
   },
   "outputs": [
    {
     "data": {
      "text/plain": [
       "(2.38, 2.17, 2.59)"
      ]
     },
     "execution_count": 315,
     "metadata": {},
     "output_type": "execute_result"
    }
   ],
   "source": [
    "mean_exp, mean_exp - sem_exp,  mean_exp + sem_exp"
   ]
  },
  {
   "cell_type": "code",
   "execution_count": 39,
   "metadata": {
    "tags": []
   },
   "outputs": [],
   "source": [
    "def hillEQ(x, n, kd,A):\n",
    "    return A * np.power(x, n)/(kd + np.power(x, n))\n",
    "def MMEQ(x, kd,A):\n",
    "    return A * np.power(x, 1)/(kd + np.power(x, 1))\n"
   ]
  },
  {
   "cell_type": "code",
   "execution_count": 18,
   "metadata": {
    "tags": []
   },
   "outputs": [],
   "source": [
    "def fit_hill(mean_df):\n",
    "\n",
    "    x = mean_df[drug].values\n",
    "    y = mean_df['Mean Expansion %'].values\n",
    "    yerr = mean_df['SEM Expansion %'].values\n",
    "\n",
    "    coeff, var_matrix = sp.optimize.curve_fit(hillEQ,x,y,sigma = yerr)\n",
    "    n,kd,A = coeff\n",
    "\n",
    "    variance = np.diagonal(var_matrix) #Refer [3]\n",
    "    SE = np.sqrt(variance) #Refer [4]\n",
    "    dn,dkd,dA = SE\n",
    "    \n",
    "    K = np.power(kd, 1/n)\n",
    "    dK = np.sqrt(np.square( np.power(kd, 1/(n-1)) /n *dkd   )\n",
    "                 +np.square(  np.log(kd) * np.power(kd, 1/n) / np.square(n) * dn  )\n",
    "                )\n",
    "    \n",
    "    print([K, dK])\n",
    "\n",
    "\n",
    "    return coeff, SE"
   ]
  },
  {
   "cell_type": "code",
   "execution_count": 19,
   "metadata": {
    "tags": []
   },
   "outputs": [
    {
     "name": "stdout",
     "output_type": "stream",
     "text": [
      "[0.29179011619430695, 0.08717661417929032]\n"
     ]
    },
    {
     "data": {
      "text/plain": [
       "(array([2.39335056, 0.05244769, 2.37807424]),\n",
       " array([0.58015011, 0.06248325, 0.14518827]))"
      ]
     },
     "execution_count": 19,
     "metadata": {},
     "output_type": "execute_result"
    }
   ],
   "source": [
    "coeffPTX, SE = fit_hill(PTXmean)\n",
    "coeffPTX, SE"
   ]
  },
  {
   "cell_type": "code",
   "execution_count": 299,
   "metadata": {
    "tags": []
   },
   "outputs": [
    {
     "name": "stdout",
     "output_type": "stream",
     "text": [
      "[nan, nan]\n"
     ]
    },
    {
     "name": "stderr",
     "output_type": "stream",
     "text": [
      "C:\\Users\\sofia\\anaconda3\\envs\\brouhardlab-env\\Lib\\site-packages\\scipy\\optimize\\_minpack_py.py:1010: OptimizeWarning: Covariance of the parameters could not be estimated\n",
      "  warnings.warn('Covariance of the parameters could not be estimated',\n",
      "C:\\Users\\sofia\\AppData\\Local\\Temp\\ipykernel_29052\\470498736.py:14: RuntimeWarning: invalid value encountered in power\n",
      "  K = np.power(kd, 1/n)\n",
      "C:\\Users\\sofia\\AppData\\Local\\Temp\\ipykernel_29052\\470498736.py:15: RuntimeWarning: invalid value encountered in power\n",
      "  dK = np.sqrt(np.square( np.power(kd, 1/(n-1)) /n *dkd   )\n",
      "C:\\Users\\sofia\\AppData\\Local\\Temp\\ipykernel_29052\\470498736.py:16: RuntimeWarning: invalid value encountered in log\n",
      "  +np.square(  np.log(kd) * np.power(kd, 1/n) / np.square(n) * dn  )\n",
      "C:\\Users\\sofia\\AppData\\Local\\Temp\\ipykernel_29052\\470498736.py:16: RuntimeWarning: invalid value encountered in power\n",
      "  +np.square(  np.log(kd) * np.power(kd, 1/n) / np.square(n) * dn  )\n"
     ]
    },
    {
     "data": {
      "text/plain": [
       "(array([-2.11396255e-05, -9.99899824e-01,  2.81822645e-04]),\n",
       " array([inf, inf, inf]))"
      ]
     },
     "execution_count": 299,
     "metadata": {},
     "output_type": "execute_result"
    }
   ],
   "source": [
    "coeffDTX, SE = fit_hill(DTXmean)\n",
    "coeffDTX, SE"
   ]
  },
  {
   "cell_type": "code",
   "execution_count": 300,
   "metadata": {
    "tags": []
   },
   "outputs": [
    {
     "name": "stdout",
     "output_type": "stream",
     "text": [
      "[0.04084440980509462, 511176921.15394574]\n"
     ]
    },
    {
     "data": {
      "text/plain": [
       "(array([0.87453516, 0.06100798, 2.37431626]),\n",
       " array([0.63684615, 0.09320571, 0.21018415]))"
      ]
     },
     "execution_count": 300,
     "metadata": {},
     "output_type": "execute_result"
    }
   ],
   "source": [
    "coeffEpoD, SE = fit_hill(EpoDmean)\n",
    "coeffEpoD, SE"
   ]
  },
  {
   "cell_type": "code",
   "execution_count": 43,
   "metadata": {
    "tags": []
   },
   "outputs": [],
   "source": [
    "x = PTXmean[drug].values\n",
    "y = PTXmean['Mean Expansion %'].values\n",
    "yerr = PTXmean['SEM Expansion %'].values\n",
    "coeffMM, var_matrix = sp.optimize.curve_fit(MMEQ,x,y,sigma = yerr)\n",
    "variance = np.diagonal(var_matrix) #Refer [3]\n",
    "SEMM = np.sqrt(variance)"
   ]
  },
  {
   "cell_type": "markdown",
   "metadata": {},
   "source": [
    "### fit with hill plot ###"
   ]
  },
  {
   "cell_type": "code",
   "execution_count": 21,
   "metadata": {
    "tags": []
   },
   "outputs": [
    {
     "ename": "NameError",
     "evalue": "name 'x' is not defined",
     "output_type": "error",
     "traceback": [
      "\u001b[1;31m---------------------------------------------------------------------------\u001b[0m",
      "\u001b[1;31mNameError\u001b[0m                                 Traceback (most recent call last)",
      "Cell \u001b[1;32mIn[21], line 1\u001b[0m\n\u001b[1;32m----> 1\u001b[0m logx \u001b[38;5;241m=\u001b[39m np\u001b[38;5;241m.\u001b[39mlog(\u001b[43mx\u001b[49m[\u001b[38;5;241m1\u001b[39m:])\n\u001b[0;32m      2\u001b[0m normy \u001b[38;5;241m=\u001b[39m y[\u001b[38;5;241m1\u001b[39m:]\u001b[38;5;241m/\u001b[39mnogales2018\n\u001b[0;32m      3\u001b[0m logy \u001b[38;5;241m=\u001b[39m np\u001b[38;5;241m.\u001b[39mlog(normy\u001b[38;5;241m/\u001b[39m(\u001b[38;5;241m1\u001b[39m\u001b[38;5;241m-\u001b[39mnormy))\n",
      "\u001b[1;31mNameError\u001b[0m: name 'x' is not defined"
     ]
    }
   ],
   "source": [
    "logx = np.log(x[1:])\n",
    "normy = y[1:]/nogales2018\n",
    "logy = np.log(normy/(1-normy))\n",
    "\n",
    "p, cov = np.polyfit(logx, logy, 1, cov=True)\n",
    "var = np.diagonal(cov) #Refer [3]\n",
    "SElin = np.sqrt(var) #Refer [4]\n",
    "\n",
    "p, SElin"
   ]
  },
  {
   "cell_type": "code",
   "execution_count": 189,
   "metadata": {
    "tags": []
   },
   "outputs": [
    {
     "data": {
      "text/plain": [
       "0.4742966914374558"
      ]
     },
     "execution_count": 189,
     "metadata": {},
     "output_type": "execute_result"
    }
   ],
   "source": [
    "R2S(logy,logx*p[0]+p[1])"
   ]
  },
  {
   "cell_type": "code",
   "execution_count": 22,
   "metadata": {
    "tags": []
   },
   "outputs": [],
   "source": [
    "def K_A(p):\n",
    "    return np.exp(-p[1]/p[0]) , np.exp(-p[1]/p[0])/p[0]*np.sqrt(np.square(SElin[1])+np.square(p[1]*SElin[0]/p[0]))"
   ]
  },
  {
   "cell_type": "code",
   "execution_count": 23,
   "metadata": {
    "tags": []
   },
   "outputs": [
    {
     "ename": "NameError",
     "evalue": "name 'p' is not defined",
     "output_type": "error",
     "traceback": [
      "\u001b[1;31m---------------------------------------------------------------------------\u001b[0m",
      "\u001b[1;31mNameError\u001b[0m                                 Traceback (most recent call last)",
      "Cell \u001b[1;32mIn[23], line 1\u001b[0m\n\u001b[1;32m----> 1\u001b[0m K_A(\u001b[43mp\u001b[49m)\n",
      "\u001b[1;31mNameError\u001b[0m: name 'p' is not defined"
     ]
    }
   ],
   "source": [
    "K_A(p)"
   ]
  },
  {
   "cell_type": "code",
   "execution_count": 192,
   "metadata": {
    "tags": []
   },
   "outputs": [
    {
     "data": {
      "text/plain": [
       "(0.3248890697387657, 0.4326352290776032)"
      ]
     },
     "execution_count": 192,
     "metadata": {},
     "output_type": "execute_result"
    }
   ],
   "source": [
    "m,b=p\n",
    "np.exp(-b), np.exp(-b)*SElin[1]"
   ]
  },
  {
   "cell_type": "code",
   "execution_count": 20,
   "metadata": {
    "tags": []
   },
   "outputs": [],
   "source": [
    "pacli_yellow = '#F3BB53'\n",
    "doce_purple = '#C275C8'\n",
    "epo_blue = '#5A94B9'\n",
    "sir_red = '#F05656'"
   ]
  },
  {
   "cell_type": "code",
   "execution_count": 302,
   "metadata": {
    "tags": []
   },
   "outputs": [
    {
     "data": {
      "image/png": "[encoded data removed]",
      "text/plain": [
       "<Figure size 250x250 with 1 Axes>"
      ]
     },
     "metadata": {},
     "output_type": "display_data"
    }
   ],
   "source": [
    "fig, ax = plt.subplots(1,1,figsize=(2.5,2.5))\n",
    "ax.errorbar(logx , logy , yerr= 0, fmt='',marker='o', markersize=scattersize,capsize = cap,\n",
    "                              markeredgewidth=4,color='#F3BB53', alpha = 1, ls='')\n",
    "\n",
    "x0 = np.arange(-2.5, 0.5, 0.05)\n",
    "ax.plot(x0, x0*m+b,color = '#E34A00', lw=3,ls= '-',alpha = 0.5)\n",
    "\n",
    "# ax.set_ylim(-4,4)\n",
    "# ax.set_xlim(-3,1)\n",
    "ax.set_xlabel(r'$\\log$''([Ptx])')\n",
    "# ax.set_xticks(np.arange(0, 22.1, 2))\n",
    "ax.set_yticks(np.arange(-2, 2.1,4))\n",
    "ax.set_ylabel(r'$\\log(\\frac{E_N}{1-E_N})$') \n",
    "ax.spines['right'].set_visible(False)\n",
    "ax.spines['top'].set_visible(False)\n",
    "ax.spines['left'].set_lw(3)\n",
    "ax.spines['bottom'].set_lw(3)\n",
    "ax.tick_params(axis='both', width = 3.5, length = 7)\n",
    "\n",
    "#ax.legend((r'$n=2.98 \\pm 0.54$' '\\n' r'$kd=0.020 \\pm 0.017$',),loc='upper left',title='Hill Equation')\n",
    "\n",
    "sns.set_context(\"poster\", font_scale=1, rc={\"lines.linewidth\":3.0})\n",
    "\n",
    "#plt.savefig(mydir/('logexpHillfit_'+date_today+'.pdf'), bbox_inches = 'tight')"
   ]
  },
  {
   "cell_type": "code",
   "execution_count": 24,
   "metadata": {
    "tags": []
   },
   "outputs": [],
   "source": [
    "\n",
    "meanpointprops = dict(marker='D', markeredgecolor='white',\n",
    "                      markerfacecolor='white')"
   ]
  },
  {
   "cell_type": "code",
   "execution_count": 46,
   "metadata": {
    "tags": []
   },
   "outputs": [
    {
     "name": "stderr",
     "output_type": "stream",
     "text": [
      "C:\\Users\\sofia\\AppData\\Local\\Temp\\ipykernel_9004\\3790400707.py:2: RuntimeWarning: invalid value encountered in power\n",
      "  return A * np.power(x, n)/(kd + np.power(x, n))\n",
      "C:\\Users\\sofia\\AppData\\Local\\Temp\\ipykernel_9004\\3790400707.py:2: RuntimeWarning: invalid value encountered in power\n",
      "  return A * np.power(x, n)/(kd + np.power(x, n))\n"
     ]
    },
    {
     "data": {
      "image/png": "[encoded data removed]",
      "text/plain": [
       "<Figure size 1300x600 with 2 Axes>"
      ]
     },
     "metadata": {},
     "output_type": "display_data"
    }
   ],
   "source": [
    "scattersize = 2\n",
    "cap = 5\n",
    "\n",
    "fig, ax = plt.subplots(1,2,figsize=(13,6))\n",
    "\n",
    "x0 = np.arange(1e-8, 1.2, 0.05)\n",
    "\n",
    "\n",
    "ax[0].set_yticks(np.arange(0, 4.1, 1))\n",
    "ax[0].set_xticks(np.arange(0, 1.6, 0.5))\n",
    "ax[0].set_ylabel('Expansion %')\n",
    "ax[0].set_xlim(-0.07,1.5)\n",
    "ax[0].set_ylim(-0.1,4.0)\n",
    "\n",
    "x0 = np.arange(-0.1, 12, 0.01)\n",
    "\n",
    "ax[1].set_yticks(np.arange(0, 4.1, 1))\n",
    "ax[1].set_xticks(np.arange(0, 10.1, 5))\n",
    "ax[1].set_xlim(-0.07,12)\n",
    "ax[1].set_ylim(-0.1,4.0)\n",
    "\n",
    "for i in np.arange(len(ax)):\n",
    "    \n",
    "    ax[i].plot(x0, hillEQ(x0, coeffPTX[0],coeffPTX[1], coeffPTX[2]),color = '#E34A00', lw=3,ls= '-',alpha = 0.5)\n",
    "    ax[i].plot(x0, MMEQ(x0, coeffMM[0],coeffMM[1]),color = grey, lw=3,ls= '-',alpha = 0.5)\n",
    "    ax[i].axhline(y = mean_exp, color = cyan ,linestyle=\"--\", linewidth=4,alpha = 0.3) \n",
    "    ax[i].fill_between(x0, mean_exp - sem_exp, mean_exp + sem_exp, facecolor=cyan, alpha=0.1)\n",
    "    ax[i].set_xlabel(taxol)\n",
    "\n",
    "    #x0 = np.arange(0, 10, 0.05)\n",
    "    #ax[i].plot(x0, hillEQ(x0, n, kd),color = blue, lw=3,ls= '-',alpha = 0.5)\n",
    "\n",
    "    ax[i].spines['right'].set_visible(False)\n",
    "    ax[i].spines['top'].set_visible(False)\n",
    "    ax[i].spines['left'].set_lw(3)\n",
    "    ax[i].spines['bottom'].set_lw(3)\n",
    "\n",
    "    ax[i].tick_params(axis='both', width = 3.5, length = 7)\n",
    "\n",
    "\n",
    "    sns.stripplot(x=drug, y='Expansion %', data=filtdata[filtdata[drugtype]=='Paclitaxel'], color=\".2\", size=5, dodge=True, alpha=0.9,native_scale=True, ax=ax[i])\n",
    "\n",
    "\n",
    "sns.boxplot(x= drug, y='Expansion %', data=filtdata[filtdata[drugtype]=='Paclitaxel'], whis=np.inf,linewidth=2.5,native_scale=True, ax=ax[0],color='#F3BB53')#,showmeans=True,meanprops=meanpointprops)\n",
    "sns.boxplot(x= drug, y='Expansion %', data=filtdata[filtdata[drugtype]=='Paclitaxel'], whis=np.inf,width = 6,linewidth=2.5,native_scale=True, ax=ax[1],color='#F3BB53')#,showmeans=True,meanprops=meanpointprops)\n",
    "\n",
    "\n",
    "#ax.legend((r'$n=2.96 \\pm 1.22$' '\\n' r'$kd=0.042 \\pm 0.061$',),loc='lower right',title='Hill Equation')\n",
    "\n",
    "sns.set_context(\"poster\", font_scale=1, rc={\"lines.linewidth\":3.0})\n",
    "sns.set_style({'font.family':'Helvetica Neue LT Std', 'font.serif':'Helvetica Neue LT Std'})\n",
    "plt.savefig(mydir/('Pacli-saturationBAR'+date_today+'.pdf'), bbox_inches = 'tight')"
   ]
  },
  {
   "cell_type": "code",
   "execution_count": 320,
   "metadata": {
    "tags": []
   },
   "outputs": [
    {
     "data": {
      "image/png": "[encoded data removed]",
      "text/plain": [
       "<Figure size 1300x600 with 2 Axes>"
      ]
     },
     "metadata": {},
     "output_type": "display_data"
    }
   ],
   "source": [
    "#'[Paclitaxel] ' r'$(\\mu M)$'#'[Taxol] ' r'$(\\mu M)$' #'[Docetaxol] ' r'$(\\mu M)$' #'[Epothilone D] ' r'$(\\mu M)$'\n",
    "docedata = joindata[joindata[drugtype] == 'Docetaxel' ]\n",
    "\n",
    "scattersize = 9\n",
    "cap = 5\n",
    "\n",
    "fig, ax = plt.subplots(1,2,figsize=(13,6))\n",
    "\n",
    "x0 = np.arange(0, 1.2, 0.01)\n",
    "\n",
    "ax[0].set_yticks(np.arange(0, 4.1, 1))\n",
    "ax[0].set_xticks(np.arange(0, 1.6, 0.5))\n",
    "ax[0].set_ylabel('Expansion %')\n",
    "ax[0].set_xlim(-0.07,1.5)\n",
    "ax[0].set_ylim(-0.1,4.0)\n",
    "\n",
    "x0 = np.arange(-0.1, 12, 0.01)\n",
    "\n",
    "ax[1].set_yticks(np.arange(0, 4.1, 1))\n",
    "ax[1].set_xticks(np.arange(0, 10.1, 5))\n",
    "ax[1].set_xlim(-0.07,12)\n",
    "ax[1].set_ylim(-0.1,4.0)\n",
    "\n",
    "sns.boxplot(x= drug, y='Expansion %', data=docedata,color = doce_purple, whis=np.inf,width = 0.4,linewidth=2.5,native_scale=True, ax=ax[0],showmeans=True,meanprops=meanpointprops)\n",
    "\n",
    "sns.boxplot(x= drug, y='Expansion %', data=docedata,color = doce_purple, whis=np.inf,width = 3,linewidth=2.5,native_scale=True, ax=ax[1])\n",
    "\n",
    "\n",
    "for i in np.arange(len(ax)):\n",
    "        \n",
    "    ax[i].set_xlabel(doce)\n",
    "    sns.stripplot(x=drug, y='Expansion %', data=docedata, color=\".2\", size=5, dodge=True, alpha=0.9,native_scale=True, ax=ax[i])\n",
    "\n",
    "    #x0 = np.arange(0, 10, 0.05)\n",
    "    #ax[i].plot(x0, hillEQ(x0, coeffDTX[0],coeffDTX[1], coeffDTX[2]),color = doce_purple, lw=3,ls= '-',alpha = 0.5)\n",
    "    ax[i].axhline(y = mean_exp, color = cyan ,linestyle=\"--\", linewidth=4,alpha = 0.3) \n",
    "    ax[i].fill_between(x0, mean_exp - sem_exp, mean_exp + sem_exp, facecolor=cyan, alpha=0.1)\n",
    "\n",
    "    ax[i].spines['right'].set_visible(False)\n",
    "    ax[i].spines['top'].set_visible(False)\n",
    "    ax[i].spines['left'].set_lw(3)\n",
    "    ax[i].spines['bottom'].set_lw(3)\n",
    "    ax[i].tick_params(axis='both', width = 3.5, length = 7)\n",
    "\n",
    "#ax.legend((r'$n=2.96 \\pm 1.22$' '\\n' r'$kd=0.042 \\pm 0.061$',),loc='lower right',title='Hill Equation')\n",
    "\n",
    "sns.set_context(\"poster\", font_scale=1, rc={\"lines.linewidth\":3.0})\n",
    "\n",
    "#plt.savefig(mydir/('Doce-saturationBAR'+date_today+'.pdf'), bbox_inches = 'tight')"
   ]
  },
  {
   "cell_type": "code",
   "execution_count": 321,
   "metadata": {
    "tags": []
   },
   "outputs": [
    {
     "data": {
      "image/png": "[encoded data removed]",
      "text/plain": [
       "<Figure size 1300x600 with 2 Axes>"
      ]
     },
     "metadata": {},
     "output_type": "display_data"
    }
   ],
   "source": [
    "#'[Paclitaxel] ' r'$(\\mu M)$'#'[Taxol] ' r'$(\\mu M)$' #'[Docetaxol] ' r'$(\\mu M)$' #'[Epothilone D] ' r'$(\\mu M)$'\n",
    "epodata = joindata[joindata[drugtype] == 'Epothilone D' ]\n",
    "\n",
    "scattersize = 9\n",
    "cap = 5\n",
    "\n",
    "fig, ax = plt.subplots(1,2,figsize=(13,6))\n",
    "\n",
    "x0 = np.arange(0, 1.2, 0.01)\n",
    "\n",
    "ax[0].set_yticks(np.arange(0, 4.1, 1))\n",
    "ax[0].set_xticks(np.arange(0, 1.6, 0.5))\n",
    "ax[0].set_ylabel('Expansion %')\n",
    "ax[0].set_xlim(-0.07,1.5)\n",
    "ax[0].set_ylim(-0.1,4.0)\n",
    "\n",
    "\n",
    "x0 = np.arange(-0.1, 12, 0.01)\n",
    "\n",
    "ax[1].set_yticks(np.arange(0, 4.1, 1))\n",
    "ax[1].set_xticks(np.arange(0, 10.1, 5))\n",
    "ax[1].set_xlim(-0.07,12)\n",
    "ax[1].set_ylim(-0.1,4.0)\n",
    "\n",
    "\n",
    "\n",
    "sns.boxplot(x= drug, y='Expansion %', data=epodata,color = epo_blue, whis=np.inf,width = 0.4,linewidth=2.5,native_scale=True, ax=ax[0],showmeans=True,meanprops=meanpointprops)\n",
    "\n",
    "sns.boxplot(x= drug, y='Expansion %', data=epodata,color = epo_blue, whis=np.inf,width = 3,linewidth=2.5,native_scale=True, ax=ax[1])\n",
    "\n",
    "\n",
    "for i in np.arange(len(ax)):\n",
    "        \n",
    "    ax[i].set_xlabel(epod)\n",
    "    sns.stripplot(x=drug, y='Expansion %', data=epodata, color=\".2\", size=5, dodge=True, alpha=0.9,native_scale=True, ax=ax[i])\n",
    "\n",
    "    #ax[i].plot(x0, hillEQ(x0, coeffEpoD[0],coeffEpoD[1], coeffEpoD[2]),color = blue, lw=3,ls= '-',alpha = 0.5)\n",
    "    ax[i].axhline(y = mean_exp, color = cyan ,linestyle=\"--\", linewidth=4,alpha = 0.3) \n",
    "    ax[i].fill_between(x0, mean_exp - sem_exp, mean_exp + sem_exp, facecolor=cyan, alpha=0.1)\n",
    "\n",
    "    ax[i].spines['right'].set_visible(False)\n",
    "    ax[i].spines['top'].set_visible(False)\n",
    "    ax[i].spines['left'].set_lw(3)\n",
    "    ax[i].spines['bottom'].set_lw(3)\n",
    "    ax[i].tick_params(axis='both', width = 3.5, length = 7)\n",
    "\n",
    "#ax.legend((r'$n=2.96 \\pm 1.22$' '\\n' r'$kd=0.042 \\pm 0.061$',),loc='lower right',title='Hill Equation')\n",
    "\n",
    "sns.set_context(\"poster\", font_scale=1, rc={\"lines.linewidth\":3.0})\n",
    "\n",
    "#plt.savefig(mydir/('EpoD-saturationBAR'+date_today+'.pdf'), bbox_inches = 'tight')"
   ]
  },
  {
   "cell_type": "code",
   "execution_count": 295,
   "metadata": {
    "tags": []
   },
   "outputs": [
    {
     "data": {
      "text/plain": [
       "WindowsPath('C:/Users/sofia/OneDrive - McGill University/CurrBio2023/Sofia/Data/expansion-drug')"
      ]
     },
     "execution_count": 295,
     "metadata": {},
     "output_type": "execute_result"
    }
   ],
   "source": [
    "mydir"
   ]
  },
  {
   "cell_type": "code",
   "execution_count": 285,
   "metadata": {
    "tags": []
   },
   "outputs": [
    {
     "name": "stderr",
     "output_type": "stream",
     "text": [
      "C:\\Users\\sofia\\anaconda3\\envs\\brouhardlab-env\\Lib\\site-packages\\seaborn\\categorical.py:3370: UserWarning: 50.0% of the points cannot be placed; you may want to decrease the size of the markers or use stripplot.\n",
      "  warnings.warn(msg, UserWarning)\n",
      "C:\\Users\\sofia\\anaconda3\\envs\\brouhardlab-env\\Lib\\site-packages\\seaborn\\categorical.py:3370: UserWarning: 50.0% of the points cannot be placed; you may want to decrease the size of the markers or use stripplot.\n",
      "  warnings.warn(msg, UserWarning)\n"
     ]
    },
    {
     "data": {
      "image/png": "[encoded data removed]",
      "text/plain": [
       "<Figure size 1300x600 with 2 Axes>"
      ]
     },
     "metadata": {},
     "output_type": "display_data"
    }
   ],
   "source": [
    "#'[Paclitaxel] ' r'$(\\mu M)$'#'[Taxol] ' r'$(\\mu M)$' #'[Docetaxol] ' r'$(\\mu M)$' #'[Epothilone D] ' r'$(\\mu M)$'\n",
    "sirdata = joindata[joindata[drugtype] == 'SiR-tubulin' ]\n",
    "\n",
    "scattersize = 9\n",
    "cap = 5\n",
    "\n",
    "fig, ax = plt.subplots(1,2,figsize=(13,6))\n",
    "\n",
    "x0 = np.arange(0, 1.2, 0.05)\n",
    "\n",
    "ax[0].set_yticks(np.arange(0, 4.1, 1))\n",
    "ax[0].set_xticks(np.arange(0, 1.6, 0.5))\n",
    "ax[0].set_ylabel('Expansion %')\n",
    "ax[0].set_xlim(-0.07,1.5)\n",
    "ax[0].set_ylim(-0.1,4.0)\n",
    "\n",
    "x0 = np.arange(0, 12, 0.05)\n",
    "\n",
    "ax[1].set_yticks(np.arange(0, 4.1, 1))\n",
    "ax[1].set_xticks(np.arange(0, 10.1, 5))\n",
    "ax[1].set_xlim(-0.07,12)\n",
    "ax[1].set_ylim(-0.1,4.0)\n",
    "\n",
    "sns.boxplot(x= drug, y='Expansion %', data=sirdata,color= sir_red, whis=np.inf,width = 0.4,linewidth=2.5,native_scale=True, ax=ax[0])\n",
    "\n",
    "sns.boxplot(x= drug, y='Expansion %', data=sirdata,color= sir_red, whis=np.inf,width = 1,linewidth=2.5,native_scale=True, ax=ax[1])\n",
    "\n",
    "\n",
    "for i in np.arange(len(ax)):\n",
    "        \n",
    "    ax[i].set_xlabel(sirtub)\n",
    "    sns.swarmplot(x=drug, y='Expansion %', data=sirdata, color=\".2\", size=5, dodge=True, alpha=0.9,native_scale=True, ax=ax[i])\n",
    "\n",
    "    #x0 = np.arange(0, 10, 0.05)\n",
    "    #ax[i].plot(x0, hillEQ(x0, n, kd),color = blue, lw=3,ls= '-',alpha = 0.5)\n",
    "\n",
    "    ax[i].spines['right'].set_visible(False)\n",
    "    ax[i].spines['top'].set_visible(False)\n",
    "    ax[i].spines['left'].set_lw(3)\n",
    "    ax[i].spines['bottom'].set_lw(3)\n",
    "    ax[i].tick_params(axis='both', width = 3.5, length = 7)\n",
    "\n",
    "#ax.legend((r'$n=2.96 \\pm 1.22$' '\\n' r'$kd=0.042 \\pm 0.061$',),loc='lower right',title='Hill Equation')\n",
    "\n",
    "sns.set_context(\"poster\", font_scale=1, rc={\"lines.linewidth\":3.0})\n",
    "\n",
    "plt.savefig(mydir/('expHillfit_Sir_'+date_today+'.pdf'), bbox_inches = 'tight')"
   ]
  },
  {
   "cell_type": "code",
   "execution_count": 74,
   "metadata": {},
   "outputs": [
    {
     "name": "stderr",
     "output_type": "stream",
     "text": [
      "C:\\Users\\Brouhard Lab\\AppData\\Local\\Temp\\ipykernel_4332\\3630994210.py:8: FutureWarning: \n",
      "\n",
      "Setting a gradient palette using color= is deprecated and will be removed in v0.14.0. Set `palette='dark:.2'` for the same effect.\n",
      "\n",
      "  ax = sns.swarmplot(x=drug, y='Expansion %',hue=drugtype, data=joindata, color=\".2\", size=8, dodge=True, alpha=0.9)\n",
      "C:\\Users\\Brouhard Lab\\anaconda3\\envs\\brouhardlab-env\\lib\\site-packages\\seaborn\\categorical.py:3370: UserWarning: 13.0% of the points cannot be placed; you may want to decrease the size of the markers or use stripplot.\n",
      "  warnings.warn(msg, UserWarning)\n",
      "C:\\Users\\Brouhard Lab\\anaconda3\\envs\\brouhardlab-env\\lib\\site-packages\\seaborn\\categorical.py:3370: UserWarning: 6.2% of the points cannot be placed; you may want to decrease the size of the markers or use stripplot.\n",
      "  warnings.warn(msg, UserWarning)\n"
     ]
    },
    {
     "data": {
      "image/png": "[encoded data removed]",
      "text/plain": [
       "<Figure size 1200x1200 with 1 Axes>"
      ]
     },
     "metadata": {},
     "output_type": "display_data"
    }
   ],
   "source": [
    "fig, ax = plt.subplots(1,1,figsize=(12,12))\n",
    "\n",
    "#rect = 0,0,1,1 # create an rectangle for the new axis\n",
    "#log_ax = fig.add_axes(rect) # create a new axis (or use an existing one)\n",
    "#log_ax.set_xscale(\"log\") # log first\n",
    "\n",
    "ax = sns.boxplot(x= drug, y='Expansion %',hue=drugtype, data=joindata, whis=np.inf,linewidth=2.5, palette='Blues')\n",
    "ax = sns.swarmplot(x=drug, y='Expansion %',hue=drugtype, data=joindata, color=\".2\", size=8, dodge=True, alpha=0.9)\n",
    "\n",
    "ax.axhline(y = nogales2018, color = lightorange ,linestyle=\"--\", linewidth=5.5, label='GDP'r'$\\rightarrow$''GMPCPP \\n Zhang (2018)')\n",
    "#plt.xlim(0.1,10)\n",
    "\n",
    "ax.set_ylim(-0.5,4)\n",
    "ax.legend( loc = 'lower right')\n",
    "#ax.legend('')\n",
    "ax.set_xlabel(drug)\n",
    "\n",
    "sns.set_style(\"ticks\")\n",
    "sns.despine()\n",
    "ax.spines['left'].set_lw(5)\n",
    "ax.spines['bottom'].set_lw(5)\n",
    "ax.tick_params(axis='both', width = 5, length = 15)\n",
    "sns.set_context(\"poster\", font_scale=1.7, rc={\"lines.linewidth\":3.0})\n",
    "\n",
    "plt.tight_layout()\n",
    "\n",
    "\n",
    "#plt.savefig(path/('mergedrugs_'+date_today+'.svg'))"
   ]
  },
  {
   "cell_type": "code",
   "execution_count": 16,
   "metadata": {
    "tags": []
   },
   "outputs": [],
   "source": [
    "def ttest_exp(joindata,drug1,conc1,drug2,conc2):\n",
    "    expdata1 = joindata[(joindata[drugtype] == drug1) & (joindata[drug] == conc1)][['Expansion %']].values\n",
    "    expdata2 = joindata[(joindata[drugtype] == drug2) & (joindata[drug] == conc2)][['Expansion %']].values\n",
    "    \n",
    "    return sp.stats.ttest_ind(expdata1, expdata2, axis=0, equal_var=False,alternative = \"greater\") #,alternative = \"greater\""
   ]
  },
  {
   "cell_type": "code",
   "execution_count": 89,
   "metadata": {
    "tags": []
   },
   "outputs": [
    {
     "data": {
      "text/plain": [
       "TtestResult(statistic=array([-1.95531254]), pvalue=array([0.05502848]), df=array([62.3963603]))"
      ]
     },
     "execution_count": 89,
     "metadata": {},
     "output_type": "execute_result"
    }
   ],
   "source": [
    "ttest_exp(joindata,'Paclitaxel',10,'Docetaxel',0.3)"
   ]
  },
  {
   "cell_type": "code",
   "execution_count": 17,
   "metadata": {
    "tags": []
   },
   "outputs": [
    {
     "data": {
      "text/plain": [
       "TtestResult(statistic=array([2.98090156]), pvalue=array([0.0023868]), df=array([41.83150572]))"
      ]
     },
     "execution_count": 17,
     "metadata": {},
     "output_type": "execute_result"
    }
   ],
   "source": [
    "ttest_exp(joindata,'SiR-tubulin',10,'Paclitaxel',0)"
   ]
  },
  {
   "cell_type": "code",
   "execution_count": 91,
   "metadata": {
    "tags": []
   },
   "outputs": [
    {
     "data": {
      "text/plain": [
       "TtestResult(statistic=array([0.22397113]), pvalue=array([0.82672596]), df=array([11.45052154]))"
      ]
     },
     "execution_count": 91,
     "metadata": {},
     "output_type": "execute_result"
    }
   ],
   "source": [
    "ttest_exp(joindata,'Paclitaxel',10,'Epothilone D',1)"
   ]
  },
  {
   "cell_type": "code",
   "execution_count": 94,
   "metadata": {
    "tags": []
   },
   "outputs": [
    {
     "data": {
      "text/plain": [
       "TtestResult(statistic=array([4.21620389]), pvalue=array([0.00017627]), df=array([22.11327188]))"
      ]
     },
     "execution_count": 94,
     "metadata": {},
     "output_type": "execute_result"
    }
   ],
   "source": [
    "ttest_exp(joindata,'Epothilone D',0.3,'Paclitaxel',0.3)"
   ]
  },
  {
   "cell_type": "code",
   "execution_count": 83,
   "metadata": {
    "tags": []
   },
   "outputs": [
    {
     "data": {
      "text/plain": [
       "2.3000362801222596"
      ]
     },
     "execution_count": 83,
     "metadata": {},
     "output_type": "execute_result"
    }
   ],
   "source": [
    "joindata[(joindata[drugtype] == 'Paclitaxel') & (joindata[drug] == 10)][['Expansion %']].values.mean()"
   ]
  },
  {
   "cell_type": "markdown",
   "metadata": {},
   "source": [
    "## LOAD MAP7 ##"
   ]
  },
  {
   "cell_type": "code",
   "execution_count": 11,
   "metadata": {
    "tags": []
   },
   "outputs": [
    {
     "data": {
      "text/plain": [
       "(WindowsPath('C:/Users/sofia/OneDrive - McGill University/CurrBio2023/Sofia/Data/expansion-MAP7/jointdata-MAP7-on_2022-10-31_MasterSheet.csv'),\n",
       " 'jointdata-MAP7-on_2022-10-31_MasterSheet')"
      ]
     },
     "execution_count": 11,
     "metadata": {},
     "output_type": "execute_result"
    }
   ],
   "source": [
    "askfile = filedialog.askopenfilename() # show an \"Open\" dialog box and return the path to the folder on ONE date you want to process\n",
    "filepath = Path(askfile)\n",
    "filename = filepath.stem\n",
    "filepath, filename"
   ]
  },
  {
   "cell_type": "code",
   "execution_count": 12,
   "metadata": {
    "tags": []
   },
   "outputs": [],
   "source": [
    "mydir= filepath.parents[0]"
   ]
  },
  {
   "cell_type": "code",
   "execution_count": 13,
   "metadata": {
    "tags": []
   },
   "outputs": [],
   "source": [
    "joindata = pd.read_csv(filepath, encoding='utf-8')"
   ]
  },
  {
   "cell_type": "code",
   "execution_count": 14,
   "metadata": {
    "tags": []
   },
   "outputs": [
    {
     "data": {
      "text/html": [
       "<div>\n",
       "<style scoped>\n",
       "    .dataframe tbody tr th:only-of-type {\n",
       "        vertical-align: middle;\n",
       "    }\n",
       "\n",
       "    .dataframe tbody tr th {\n",
       "        vertical-align: top;\n",
       "    }\n",
       "\n",
       "    .dataframe thead th {\n",
       "        text-align: right;\n",
       "    }\n",
       "</style>\n",
       "<table border=\"1\" class=\"dataframe\">\n",
       "  <thead>\n",
       "    <tr style=\"text-align: right;\">\n",
       "      <th></th>\n",
       "      <th>Curve Name</th>\n",
       "      <th>Curve Length (um)</th>\n",
       "      <th>[MAP] $(n M)$</th>\n",
       "      <th>MAP Type</th>\n",
       "      <th>Date</th>\n",
       "      <th>CH</th>\n",
       "    </tr>\n",
       "  </thead>\n",
       "  <tbody>\n",
       "    <tr>\n",
       "      <th>0</th>\n",
       "      <td>CURVE 1</td>\n",
       "      <td>8.826065</td>\n",
       "      <td>0</td>\n",
       "      <td>MAP7</td>\n",
       "      <td>2022-10-25</td>\n",
       "      <td>1</td>\n",
       "    </tr>\n",
       "    <tr>\n",
       "      <th>1</th>\n",
       "      <td>CURVE 1</td>\n",
       "      <td>8.887982</td>\n",
       "      <td>125</td>\n",
       "      <td>MAP7</td>\n",
       "      <td>2022-10-25</td>\n",
       "      <td>1</td>\n",
       "    </tr>\n",
       "    <tr>\n",
       "      <th>2</th>\n",
       "      <td>CURVE 2</td>\n",
       "      <td>6.994892</td>\n",
       "      <td>0</td>\n",
       "      <td>MAP7</td>\n",
       "      <td>2022-10-25</td>\n",
       "      <td>1</td>\n",
       "    </tr>\n",
       "    <tr>\n",
       "      <th>3</th>\n",
       "      <td>CURVE 2</td>\n",
       "      <td>6.991910</td>\n",
       "      <td>125</td>\n",
       "      <td>MAP7</td>\n",
       "      <td>2022-10-25</td>\n",
       "      <td>1</td>\n",
       "    </tr>\n",
       "    <tr>\n",
       "      <th>4</th>\n",
       "      <td>CURVE 3</td>\n",
       "      <td>7.389935</td>\n",
       "      <td>0</td>\n",
       "      <td>MAP7</td>\n",
       "      <td>2022-10-25</td>\n",
       "      <td>1</td>\n",
       "    </tr>\n",
       "    <tr>\n",
       "      <th>...</th>\n",
       "      <td>...</td>\n",
       "      <td>...</td>\n",
       "      <td>...</td>\n",
       "      <td>...</td>\n",
       "      <td>...</td>\n",
       "      <td>...</td>\n",
       "    </tr>\n",
       "    <tr>\n",
       "      <th>69</th>\n",
       "      <td>CURVE 5</td>\n",
       "      <td>8.814653</td>\n",
       "      <td>125</td>\n",
       "      <td>MAP7</td>\n",
       "      <td>2022-10-26</td>\n",
       "      <td>2</td>\n",
       "    </tr>\n",
       "    <tr>\n",
       "      <th>70</th>\n",
       "      <td>CURVE 6</td>\n",
       "      <td>9.779360</td>\n",
       "      <td>0</td>\n",
       "      <td>MAP7</td>\n",
       "      <td>2022-10-26</td>\n",
       "      <td>2</td>\n",
       "    </tr>\n",
       "    <tr>\n",
       "      <th>71</th>\n",
       "      <td>CURVE 6</td>\n",
       "      <td>9.774572</td>\n",
       "      <td>125</td>\n",
       "      <td>MAP7</td>\n",
       "      <td>2022-10-26</td>\n",
       "      <td>2</td>\n",
       "    </tr>\n",
       "    <tr>\n",
       "      <th>72</th>\n",
       "      <td>CURVE 7</td>\n",
       "      <td>8.934038</td>\n",
       "      <td>0</td>\n",
       "      <td>MAP7</td>\n",
       "      <td>2022-10-26</td>\n",
       "      <td>2</td>\n",
       "    </tr>\n",
       "    <tr>\n",
       "      <th>73</th>\n",
       "      <td>CURVE 7</td>\n",
       "      <td>9.165759</td>\n",
       "      <td>125</td>\n",
       "      <td>MAP7</td>\n",
       "      <td>2022-10-26</td>\n",
       "      <td>2</td>\n",
       "    </tr>\n",
       "  </tbody>\n",
       "</table>\n",
       "<p>74 rows × 6 columns</p>\n",
       "</div>"
      ],
      "text/plain": [
       "   Curve Name  Curve Length (um)  [MAP] $(n M)$ MAP Type        Date  CH\n",
       "0     CURVE 1           8.826065              0     MAP7  2022-10-25   1\n",
       "1     CURVE 1           8.887982            125     MAP7  2022-10-25   1\n",
       "2     CURVE 2           6.994892              0     MAP7  2022-10-25   1\n",
       "3     CURVE 2           6.991910            125     MAP7  2022-10-25   1\n",
       "4     CURVE 3           7.389935              0     MAP7  2022-10-25   1\n",
       "..        ...                ...            ...      ...         ...  ..\n",
       "69    CURVE 5           8.814653            125     MAP7  2022-10-26   2\n",
       "70    CURVE 6           9.779360              0     MAP7  2022-10-26   2\n",
       "71    CURVE 6           9.774572            125     MAP7  2022-10-26   2\n",
       "72    CURVE 7           8.934038              0     MAP7  2022-10-26   2\n",
       "73    CURVE 7           9.165759            125     MAP7  2022-10-26   2\n",
       "\n",
       "[74 rows x 6 columns]"
      ]
     },
     "execution_count": 14,
     "metadata": {},
     "output_type": "execute_result"
    }
   ],
   "source": [
    "joindata"
   ]
  },
  {
   "cell_type": "code",
   "execution_count": 19,
   "metadata": {
    "tags": []
   },
   "outputs": [
    {
     "name": "stderr",
     "output_type": "stream",
     "text": [
      "C:\\Users\\sofia\\AppData\\Local\\Temp\\ipykernel_18148\\4009520246.py:4: SettingWithCopyWarning: \n",
      "A value is trying to be set on a copy of a slice from a DataFrame.\n",
      "Try using .loc[row_indexer,col_indexer] = value instead\n",
      "\n",
      "See the caveats in the documentation: https://pandas.pydata.org/pandas-docs/stable/user_guide/indexing.html#returning-a-view-versus-a-copy\n",
      "  afterData['Expansion %'] = prcnt_expansion\n"
     ]
    },
    {
     "data": {
      "text/html": [
       "<div>\n",
       "<style scoped>\n",
       "    .dataframe tbody tr th:only-of-type {\n",
       "        vertical-align: middle;\n",
       "    }\n",
       "\n",
       "    .dataframe tbody tr th {\n",
       "        vertical-align: top;\n",
       "    }\n",
       "\n",
       "    .dataframe thead th {\n",
       "        text-align: right;\n",
       "    }\n",
       "</style>\n",
       "<table border=\"1\" class=\"dataframe\">\n",
       "  <thead>\n",
       "    <tr style=\"text-align: right;\">\n",
       "      <th></th>\n",
       "      <th>Curve Name</th>\n",
       "      <th>Curve Length (um)</th>\n",
       "      <th>[MAP] $(n M)$</th>\n",
       "      <th>MAP Type</th>\n",
       "      <th>Date</th>\n",
       "      <th>CH</th>\n",
       "      <th>Expansion %</th>\n",
       "    </tr>\n",
       "  </thead>\n",
       "  <tbody>\n",
       "    <tr>\n",
       "      <th>1</th>\n",
       "      <td>CURVE 1</td>\n",
       "      <td>8.887982</td>\n",
       "      <td>125</td>\n",
       "      <td>MAP7</td>\n",
       "      <td>2022-10-25</td>\n",
       "      <td>1</td>\n",
       "      <td>0.696632</td>\n",
       "    </tr>\n",
       "    <tr>\n",
       "      <th>3</th>\n",
       "      <td>CURVE 2</td>\n",
       "      <td>6.991910</td>\n",
       "      <td>125</td>\n",
       "      <td>MAP7</td>\n",
       "      <td>2022-10-25</td>\n",
       "      <td>1</td>\n",
       "      <td>-0.042643</td>\n",
       "    </tr>\n",
       "    <tr>\n",
       "      <th>5</th>\n",
       "      <td>CURVE 3</td>\n",
       "      <td>7.386777</td>\n",
       "      <td>125</td>\n",
       "      <td>MAP7</td>\n",
       "      <td>2022-10-25</td>\n",
       "      <td>1</td>\n",
       "      <td>-0.042755</td>\n",
       "    </tr>\n",
       "    <tr>\n",
       "      <th>7</th>\n",
       "      <td>CURVE 4</td>\n",
       "      <td>6.158234</td>\n",
       "      <td>125</td>\n",
       "      <td>MAP7</td>\n",
       "      <td>2022-10-25</td>\n",
       "      <td>1</td>\n",
       "      <td>0.938534</td>\n",
       "    </tr>\n",
       "    <tr>\n",
       "      <th>9</th>\n",
       "      <td>CURVE 5</td>\n",
       "      <td>5.652410</td>\n",
       "      <td>125</td>\n",
       "      <td>MAP7</td>\n",
       "      <td>2022-10-25</td>\n",
       "      <td>1</td>\n",
       "      <td>0.731462</td>\n",
       "    </tr>\n",
       "    <tr>\n",
       "      <th>11</th>\n",
       "      <td>CURVE 6</td>\n",
       "      <td>10.479588</td>\n",
       "      <td>125</td>\n",
       "      <td>MAP7</td>\n",
       "      <td>2022-10-25</td>\n",
       "      <td>1</td>\n",
       "      <td>0.911355</td>\n",
       "    </tr>\n",
       "    <tr>\n",
       "      <th>13</th>\n",
       "      <td>CURVE 7</td>\n",
       "      <td>8.090412</td>\n",
       "      <td>125</td>\n",
       "      <td>MAP7</td>\n",
       "      <td>2022-10-25</td>\n",
       "      <td>1</td>\n",
       "      <td>0.526813</td>\n",
       "    </tr>\n",
       "    <tr>\n",
       "      <th>15</th>\n",
       "      <td>CURVE 8</td>\n",
       "      <td>5.162394</td>\n",
       "      <td>125</td>\n",
       "      <td>MAP7</td>\n",
       "      <td>2022-10-25</td>\n",
       "      <td>1</td>\n",
       "      <td>0.430062</td>\n",
       "    </tr>\n",
       "    <tr>\n",
       "      <th>17</th>\n",
       "      <td>CURVE 9</td>\n",
       "      <td>8.323663</td>\n",
       "      <td>125</td>\n",
       "      <td>MAP7</td>\n",
       "      <td>2022-10-25</td>\n",
       "      <td>1</td>\n",
       "      <td>0.145048</td>\n",
       "    </tr>\n",
       "    <tr>\n",
       "      <th>19</th>\n",
       "      <td>CURVE 1</td>\n",
       "      <td>6.699203</td>\n",
       "      <td>125</td>\n",
       "      <td>MAP7</td>\n",
       "      <td>2022-10-25</td>\n",
       "      <td>2</td>\n",
       "      <td>0.658076</td>\n",
       "    </tr>\n",
       "    <tr>\n",
       "      <th>21</th>\n",
       "      <td>CURVE 10</td>\n",
       "      <td>9.530884</td>\n",
       "      <td>125</td>\n",
       "      <td>MAP7</td>\n",
       "      <td>2022-10-25</td>\n",
       "      <td>2</td>\n",
       "      <td>0.626819</td>\n",
       "    </tr>\n",
       "    <tr>\n",
       "      <th>23</th>\n",
       "      <td>CURVE 11</td>\n",
       "      <td>9.357244</td>\n",
       "      <td>125</td>\n",
       "      <td>MAP7</td>\n",
       "      <td>2022-10-25</td>\n",
       "      <td>2</td>\n",
       "      <td>0.723028</td>\n",
       "    </tr>\n",
       "    <tr>\n",
       "      <th>25</th>\n",
       "      <td>CURVE 2</td>\n",
       "      <td>8.491541</td>\n",
       "      <td>125</td>\n",
       "      <td>MAP7</td>\n",
       "      <td>2022-10-25</td>\n",
       "      <td>2</td>\n",
       "      <td>0.442267</td>\n",
       "    </tr>\n",
       "    <tr>\n",
       "      <th>27</th>\n",
       "      <td>CURVE 3</td>\n",
       "      <td>7.763929</td>\n",
       "      <td>125</td>\n",
       "      <td>MAP7</td>\n",
       "      <td>2022-10-25</td>\n",
       "      <td>2</td>\n",
       "      <td>0.718842</td>\n",
       "    </tr>\n",
       "    <tr>\n",
       "      <th>29</th>\n",
       "      <td>CURVE 4</td>\n",
       "      <td>8.800713</td>\n",
       "      <td>125</td>\n",
       "      <td>MAP7</td>\n",
       "      <td>2022-10-25</td>\n",
       "      <td>2</td>\n",
       "      <td>0.882595</td>\n",
       "    </tr>\n",
       "    <tr>\n",
       "      <th>31</th>\n",
       "      <td>CURVE 5</td>\n",
       "      <td>9.307599</td>\n",
       "      <td>125</td>\n",
       "      <td>MAP7</td>\n",
       "      <td>2022-10-25</td>\n",
       "      <td>2</td>\n",
       "      <td>0.743990</td>\n",
       "    </tr>\n",
       "    <tr>\n",
       "      <th>33</th>\n",
       "      <td>CURVE 6</td>\n",
       "      <td>10.159024</td>\n",
       "      <td>125</td>\n",
       "      <td>MAP7</td>\n",
       "      <td>2022-10-25</td>\n",
       "      <td>2</td>\n",
       "      <td>0.644965</td>\n",
       "    </tr>\n",
       "    <tr>\n",
       "      <th>35</th>\n",
       "      <td>CURVE 7</td>\n",
       "      <td>6.817953</td>\n",
       "      <td>125</td>\n",
       "      <td>MAP7</td>\n",
       "      <td>2022-10-25</td>\n",
       "      <td>2</td>\n",
       "      <td>0.620109</td>\n",
       "    </tr>\n",
       "    <tr>\n",
       "      <th>37</th>\n",
       "      <td>CURVE 8</td>\n",
       "      <td>7.996838</td>\n",
       "      <td>125</td>\n",
       "      <td>MAP7</td>\n",
       "      <td>2022-10-25</td>\n",
       "      <td>2</td>\n",
       "      <td>0.579421</td>\n",
       "    </tr>\n",
       "    <tr>\n",
       "      <th>39</th>\n",
       "      <td>CURVE 9</td>\n",
       "      <td>4.963899</td>\n",
       "      <td>125</td>\n",
       "      <td>MAP7</td>\n",
       "      <td>2022-10-25</td>\n",
       "      <td>2</td>\n",
       "      <td>0.919383</td>\n",
       "    </tr>\n",
       "    <tr>\n",
       "      <th>41</th>\n",
       "      <td>CURVE 1</td>\n",
       "      <td>8.289159</td>\n",
       "      <td>125</td>\n",
       "      <td>MAP7</td>\n",
       "      <td>2022-10-26</td>\n",
       "      <td>1</td>\n",
       "      <td>0.692117</td>\n",
       "    </tr>\n",
       "    <tr>\n",
       "      <th>43</th>\n",
       "      <td>CURVE 10</td>\n",
       "      <td>6.763141</td>\n",
       "      <td>125</td>\n",
       "      <td>MAP7</td>\n",
       "      <td>2022-10-26</td>\n",
       "      <td>1</td>\n",
       "      <td>0.289488</td>\n",
       "    </tr>\n",
       "    <tr>\n",
       "      <th>45</th>\n",
       "      <td>CURVE 2</td>\n",
       "      <td>10.814757</td>\n",
       "      <td>125</td>\n",
       "      <td>MAP7</td>\n",
       "      <td>2022-10-26</td>\n",
       "      <td>1</td>\n",
       "      <td>-0.094008</td>\n",
       "    </tr>\n",
       "    <tr>\n",
       "      <th>47</th>\n",
       "      <td>CURVE 3</td>\n",
       "      <td>9.938246</td>\n",
       "      <td>125</td>\n",
       "      <td>MAP7</td>\n",
       "      <td>2022-10-26</td>\n",
       "      <td>1</td>\n",
       "      <td>0.479306</td>\n",
       "    </tr>\n",
       "    <tr>\n",
       "      <th>49</th>\n",
       "      <td>CURVE 4</td>\n",
       "      <td>9.651149</td>\n",
       "      <td>125</td>\n",
       "      <td>MAP7</td>\n",
       "      <td>2022-10-26</td>\n",
       "      <td>1</td>\n",
       "      <td>0.514174</td>\n",
       "    </tr>\n",
       "    <tr>\n",
       "      <th>51</th>\n",
       "      <td>CURVE 5</td>\n",
       "      <td>7.009785</td>\n",
       "      <td>125</td>\n",
       "      <td>MAP7</td>\n",
       "      <td>2022-10-26</td>\n",
       "      <td>1</td>\n",
       "      <td>0.220919</td>\n",
       "    </tr>\n",
       "    <tr>\n",
       "      <th>53</th>\n",
       "      <td>CURVE 6</td>\n",
       "      <td>8.954055</td>\n",
       "      <td>125</td>\n",
       "      <td>MAP7</td>\n",
       "      <td>2022-10-26</td>\n",
       "      <td>1</td>\n",
       "      <td>0.274220</td>\n",
       "    </tr>\n",
       "    <tr>\n",
       "      <th>55</th>\n",
       "      <td>CURVE 7</td>\n",
       "      <td>8.055194</td>\n",
       "      <td>125</td>\n",
       "      <td>MAP7</td>\n",
       "      <td>2022-10-26</td>\n",
       "      <td>1</td>\n",
       "      <td>0.161622</td>\n",
       "    </tr>\n",
       "    <tr>\n",
       "      <th>57</th>\n",
       "      <td>CURVE 8</td>\n",
       "      <td>8.929540</td>\n",
       "      <td>125</td>\n",
       "      <td>MAP7</td>\n",
       "      <td>2022-10-26</td>\n",
       "      <td>1</td>\n",
       "      <td>0.104257</td>\n",
       "    </tr>\n",
       "    <tr>\n",
       "      <th>59</th>\n",
       "      <td>CURVE 9</td>\n",
       "      <td>6.419065</td>\n",
       "      <td>125</td>\n",
       "      <td>MAP7</td>\n",
       "      <td>2022-10-26</td>\n",
       "      <td>1</td>\n",
       "      <td>0.352913</td>\n",
       "    </tr>\n",
       "    <tr>\n",
       "      <th>61</th>\n",
       "      <td>CURVE 1</td>\n",
       "      <td>9.437727</td>\n",
       "      <td>125</td>\n",
       "      <td>MAP7</td>\n",
       "      <td>2022-10-26</td>\n",
       "      <td>2</td>\n",
       "      <td>0.860671</td>\n",
       "    </tr>\n",
       "    <tr>\n",
       "      <th>63</th>\n",
       "      <td>CURVE 2</td>\n",
       "      <td>6.927420</td>\n",
       "      <td>125</td>\n",
       "      <td>MAP7</td>\n",
       "      <td>2022-10-26</td>\n",
       "      <td>2</td>\n",
       "      <td>0.453342</td>\n",
       "    </tr>\n",
       "    <tr>\n",
       "      <th>65</th>\n",
       "      <td>CURVE 3</td>\n",
       "      <td>9.202709</td>\n",
       "      <td>125</td>\n",
       "      <td>MAP7</td>\n",
       "      <td>2022-10-26</td>\n",
       "      <td>2</td>\n",
       "      <td>0.474699</td>\n",
       "    </tr>\n",
       "    <tr>\n",
       "      <th>67</th>\n",
       "      <td>CURVE 4</td>\n",
       "      <td>4.389540</td>\n",
       "      <td>125</td>\n",
       "      <td>MAP7</td>\n",
       "      <td>2022-10-26</td>\n",
       "      <td>2</td>\n",
       "      <td>0.512447</td>\n",
       "    </tr>\n",
       "    <tr>\n",
       "      <th>69</th>\n",
       "      <td>CURVE 5</td>\n",
       "      <td>8.814653</td>\n",
       "      <td>125</td>\n",
       "      <td>MAP7</td>\n",
       "      <td>2022-10-26</td>\n",
       "      <td>2</td>\n",
       "      <td>1.421344</td>\n",
       "    </tr>\n",
       "    <tr>\n",
       "      <th>71</th>\n",
       "      <td>CURVE 6</td>\n",
       "      <td>9.774572</td>\n",
       "      <td>125</td>\n",
       "      <td>MAP7</td>\n",
       "      <td>2022-10-26</td>\n",
       "      <td>2</td>\n",
       "      <td>-0.048977</td>\n",
       "    </tr>\n",
       "    <tr>\n",
       "      <th>73</th>\n",
       "      <td>CURVE 7</td>\n",
       "      <td>9.165759</td>\n",
       "      <td>125</td>\n",
       "      <td>MAP7</td>\n",
       "      <td>2022-10-26</td>\n",
       "      <td>2</td>\n",
       "      <td>2.528122</td>\n",
       "    </tr>\n",
       "  </tbody>\n",
       "</table>\n",
       "</div>"
      ],
      "text/plain": [
       "   Curve Name  Curve Length (um)  [MAP] $(n M)$ MAP Type        Date  CH  \\\n",
       "1     CURVE 1           8.887982            125     MAP7  2022-10-25   1   \n",
       "3     CURVE 2           6.991910            125     MAP7  2022-10-25   1   \n",
       "5     CURVE 3           7.386777            125     MAP7  2022-10-25   1   \n",
       "7     CURVE 4           6.158234            125     MAP7  2022-10-25   1   \n",
       "9     CURVE 5           5.652410            125     MAP7  2022-10-25   1   \n",
       "11    CURVE 6          10.479588            125     MAP7  2022-10-25   1   \n",
       "13    CURVE 7           8.090412            125     MAP7  2022-10-25   1   \n",
       "15    CURVE 8           5.162394            125     MAP7  2022-10-25   1   \n",
       "17    CURVE 9           8.323663            125     MAP7  2022-10-25   1   \n",
       "19    CURVE 1           6.699203            125     MAP7  2022-10-25   2   \n",
       "21   CURVE 10           9.530884            125     MAP7  2022-10-25   2   \n",
       "23   CURVE 11           9.357244            125     MAP7  2022-10-25   2   \n",
       "25    CURVE 2           8.491541            125     MAP7  2022-10-25   2   \n",
       "27    CURVE 3           7.763929            125     MAP7  2022-10-25   2   \n",
       "29    CURVE 4           8.800713            125     MAP7  2022-10-25   2   \n",
       "31    CURVE 5           9.307599            125     MAP7  2022-10-25   2   \n",
       "33    CURVE 6          10.159024            125     MAP7  2022-10-25   2   \n",
       "35    CURVE 7           6.817953            125     MAP7  2022-10-25   2   \n",
       "37    CURVE 8           7.996838            125     MAP7  2022-10-25   2   \n",
       "39    CURVE 9           4.963899            125     MAP7  2022-10-25   2   \n",
       "41    CURVE 1           8.289159            125     MAP7  2022-10-26   1   \n",
       "43   CURVE 10           6.763141            125     MAP7  2022-10-26   1   \n",
       "45    CURVE 2          10.814757            125     MAP7  2022-10-26   1   \n",
       "47    CURVE 3           9.938246            125     MAP7  2022-10-26   1   \n",
       "49    CURVE 4           9.651149            125     MAP7  2022-10-26   1   \n",
       "51    CURVE 5           7.009785            125     MAP7  2022-10-26   1   \n",
       "53    CURVE 6           8.954055            125     MAP7  2022-10-26   1   \n",
       "55    CURVE 7           8.055194            125     MAP7  2022-10-26   1   \n",
       "57    CURVE 8           8.929540            125     MAP7  2022-10-26   1   \n",
       "59    CURVE 9           6.419065            125     MAP7  2022-10-26   1   \n",
       "61    CURVE 1           9.437727            125     MAP7  2022-10-26   2   \n",
       "63    CURVE 2           6.927420            125     MAP7  2022-10-26   2   \n",
       "65    CURVE 3           9.202709            125     MAP7  2022-10-26   2   \n",
       "67    CURVE 4           4.389540            125     MAP7  2022-10-26   2   \n",
       "69    CURVE 5           8.814653            125     MAP7  2022-10-26   2   \n",
       "71    CURVE 6           9.774572            125     MAP7  2022-10-26   2   \n",
       "73    CURVE 7           9.165759            125     MAP7  2022-10-26   2   \n",
       "\n",
       "    Expansion %  \n",
       "1      0.696632  \n",
       "3     -0.042643  \n",
       "5     -0.042755  \n",
       "7      0.938534  \n",
       "9      0.731462  \n",
       "11     0.911355  \n",
       "13     0.526813  \n",
       "15     0.430062  \n",
       "17     0.145048  \n",
       "19     0.658076  \n",
       "21     0.626819  \n",
       "23     0.723028  \n",
       "25     0.442267  \n",
       "27     0.718842  \n",
       "29     0.882595  \n",
       "31     0.743990  \n",
       "33     0.644965  \n",
       "35     0.620109  \n",
       "37     0.579421  \n",
       "39     0.919383  \n",
       "41     0.692117  \n",
       "43     0.289488  \n",
       "45    -0.094008  \n",
       "47     0.479306  \n",
       "49     0.514174  \n",
       "51     0.220919  \n",
       "53     0.274220  \n",
       "55     0.161622  \n",
       "57     0.104257  \n",
       "59     0.352913  \n",
       "61     0.860671  \n",
       "63     0.453342  \n",
       "65     0.474699  \n",
       "67     0.512447  \n",
       "69     1.421344  \n",
       "71    -0.048977  \n",
       "73     2.528122  "
      ]
     },
     "execution_count": 19,
     "metadata": {},
     "output_type": "execute_result"
    }
   ],
   "source": [
    "plainData = joindata.iloc[:-1:2]\n",
    "map7Data = joindata.iloc[1::2]\n",
    "percent_expansion(plainData, map7Data)\n",
    "finalData = map7Data\n",
    "finalData"
   ]
  },
  {
   "cell_type": "code",
   "execution_count": 22,
   "metadata": {
    "tags": []
   },
   "outputs": [],
   "source": [
    "finalData = finalData[finalData['Curve Length (um)'] > 5.5]"
   ]
  },
  {
   "cell_type": "code",
   "execution_count": 25,
   "metadata": {
    "tags": []
   },
   "outputs": [],
   "source": [
    "finalData.to_csv(mydir/('expansion_plain_to_MAP7_data-analyzed_'+date_today +'_MasterSheet.csv'), encoding='utf-8', index=False)"
   ]
  },
  {
   "cell_type": "code",
   "execution_count": 24,
   "metadata": {
    "tags": []
   },
   "outputs": [
    {
     "data": {
      "image/png": "[encoded data removed]",
      "text/plain": [
       "<Figure size 1650x600 with 3 Axes>"
      ]
     },
     "metadata": {},
     "output_type": "display_data"
    }
   ],
   "source": [
    "fig, ax = plt.subplots(1,3,figsize=(16.5,6))\n",
    "\n",
    "for i in np.arange(len(ax)):\n",
    "\n",
    "    sns.boxplot(x='MAP Type', y='Expansion %', data=finalData, whis=np.inf,width = 0.5,linewidth=3, ax=ax[i])\n",
    "    sns.swarmplot(x='MAP Type', y='Expansion %', data=finalData, size=7, ax=ax[i], color=\".2\")\n",
    "\n",
    "    ax[i].axhline(y = nogales2018, color = '#7FC4E7' ,linestyle=\"--\", linewidth=5.5)\n",
    "\n",
    "    ax[i].set_ylim(-0.2,4)\n",
    "    ax[i].spines['left'].set_lw(5)\n",
    "    ax[i].spines['bottom'].set_lw(5)\n",
    "    ax[i].tick_params(axis='both', width = 3.5, length = 7)\n",
    "    \n",
    "    #ax[i].legend([])\n",
    "\n",
    "\n",
    "sns.set_style(\"ticks\")\n",
    "sns.despine()\n",
    "\n",
    "sns.set_context(\"poster\", font_scale=1, rc={\"lines.linewidth\":3.0})\n",
    "\n",
    "sns.set_style({'font.family':'Helvetica Neue LT Std', 'font.serif':'Helvetica Neue LT Std'})\n",
    "\n",
    "plt.tight_layout()\n",
    "\n",
    "\n",
    "plt.savefig(mydir/('expantion_MAP7_'+date_today+'.pdf'))\n",
    "# plt.savefig(path/('compaction_'+date_today+'.png'))"
   ]
  },
  {
   "cell_type": "code",
   "execution_count": 22,
   "metadata": {
    "tags": []
   },
   "outputs": [],
   "source": [
    "def median_quantiles(joindata, drugname):\n",
    "    expdata = joindata[joindata['MAP Type'] == drugname][['MAP Type','Expansion %']]\n",
    "    medianexp = expdata.groupby('MAP Type').quantile([0.5])\n",
    "    Q25data = expdata.groupby('MAP Type').quantile([0.25])\n",
    "    Q75data = expdata.groupby('MAP Type').quantile([0.75])\n",
    "    return pd.concat([medianexp.reset_index(), Q25data.reset_index(), Q75data.reset_index()], axis=1)"
   ]
  },
  {
   "cell_type": "code",
   "execution_count": 23,
   "metadata": {
    "tags": []
   },
   "outputs": [
    {
     "data": {
      "text/html": [
       "<div>\n",
       "<style scoped>\n",
       "    .dataframe tbody tr th:only-of-type {\n",
       "        vertical-align: middle;\n",
       "    }\n",
       "\n",
       "    .dataframe tbody tr th {\n",
       "        vertical-align: top;\n",
       "    }\n",
       "\n",
       "    .dataframe thead th {\n",
       "        text-align: right;\n",
       "    }\n",
       "</style>\n",
       "<table border=\"1\" class=\"dataframe\">\n",
       "  <thead>\n",
       "    <tr style=\"text-align: right;\">\n",
       "      <th></th>\n",
       "      <th>MAP Type</th>\n",
       "      <th>level_1</th>\n",
       "      <th>Expansion %</th>\n",
       "      <th>MAP Type</th>\n",
       "      <th>level_1</th>\n",
       "      <th>Expansion %</th>\n",
       "      <th>MAP Type</th>\n",
       "      <th>level_1</th>\n",
       "      <th>Expansion %</th>\n",
       "    </tr>\n",
       "  </thead>\n",
       "  <tbody>\n",
       "    <tr>\n",
       "      <th>0</th>\n",
       "      <td>MAP7</td>\n",
       "      <td>0.5</td>\n",
       "      <td>0.526813</td>\n",
       "      <td>MAP7</td>\n",
       "      <td>0.25</td>\n",
       "      <td>0.281854</td>\n",
       "      <td>MAP7</td>\n",
       "      <td>0.75</td>\n",
       "      <td>0.720935</td>\n",
       "    </tr>\n",
       "  </tbody>\n",
       "</table>\n",
       "</div>"
      ],
      "text/plain": [
       "  MAP Type  level_1  Expansion % MAP Type  level_1  Expansion % MAP Type  \\\n",
       "0     MAP7      0.5     0.526813     MAP7     0.25     0.281854     MAP7   \n",
       "\n",
       "   level_1  Expansion %  \n",
       "0     0.75     0.720935  "
      ]
     },
     "execution_count": 23,
     "metadata": {},
     "output_type": "execute_result"
    }
   ],
   "source": [
    "median_quantiles(finalData, 'MAP7')"
   ]
  },
  {
   "cell_type": "code",
   "execution_count": 39,
   "metadata": {
    "tags": []
   },
   "outputs": [
    {
     "data": {
      "text/plain": [
       "TtestResult(statistic=array([2.42865597]), pvalue=array([0.01550094]), df=array([12.5552429]))"
      ]
     },
     "execution_count": 39,
     "metadata": {},
     "output_type": "execute_result"
    }
   ],
   "source": [
    "expdata1 = finalData[['Expansion %']].values\n",
    "expdata2 = filtdata[(filtdata[drugtype] == 'Paclitaxel') & (filtdata[drug] == 0.3)][['Expansion %']].values\n",
    "    \n",
    "sp.stats.ttest_ind(expdata2, expdata1, axis=0, equal_var=False,alternative = \"greater\") #,alternative = \"greater\""
   ]
  },
  {
   "cell_type": "code",
   "execution_count": 27,
   "metadata": {
    "tags": []
   },
   "outputs": [],
   "source": [
    "def mean_sd_map7(joindata):\n",
    "    expdata = joindata[['MAP Type','Expansion %']]\n",
    "    meandata = expdata.groupby(['MAP Type']).mean()\n",
    "    stddata = expdata.groupby(['MAP Type']).sem()\n",
    "    ncount = expdata.groupby(['MAP Type']).count()\n",
    "    x = meandata.index.values\n",
    "    y = meandata['Expansion %'].values\n",
    "    yerr = stddata['Expansion %'].values\n",
    "    n = ncount['Expansion %'].values\n",
    "    \n",
    "    data = {'MAP Type' : 'MAP7',\n",
    "        'Mean Expansion %': y,\n",
    "         'SEM Expansion %': yerr,\n",
    "            'n': n\n",
    "           }\n",
    "    \n",
    "    df = pd.DataFrame(data)\n",
    "\n",
    "    return df"
   ]
  },
  {
   "cell_type": "code",
   "execution_count": 28,
   "metadata": {
    "tags": []
   },
   "outputs": [
    {
     "data": {
      "text/html": [
       "<div>\n",
       "<style scoped>\n",
       "    .dataframe tbody tr th:only-of-type {\n",
       "        vertical-align: middle;\n",
       "    }\n",
       "\n",
       "    .dataframe tbody tr th {\n",
       "        vertical-align: top;\n",
       "    }\n",
       "\n",
       "    .dataframe thead th {\n",
       "        text-align: right;\n",
       "    }\n",
       "</style>\n",
       "<table border=\"1\" class=\"dataframe\">\n",
       "  <thead>\n",
       "    <tr style=\"text-align: right;\">\n",
       "      <th></th>\n",
       "      <th>MAP Type</th>\n",
       "      <th>Mean Expansion %</th>\n",
       "      <th>SEM Expansion %</th>\n",
       "      <th>n</th>\n",
       "    </tr>\n",
       "  </thead>\n",
       "  <tbody>\n",
       "    <tr>\n",
       "      <th>0</th>\n",
       "      <td>MAP7</td>\n",
       "      <td>0.564375</td>\n",
       "      <td>0.082686</td>\n",
       "      <td>34</td>\n",
       "    </tr>\n",
       "  </tbody>\n",
       "</table>\n",
       "</div>"
      ],
      "text/plain": [
       "  MAP Type  Mean Expansion %  SEM Expansion %   n\n",
       "0     MAP7          0.564375         0.082686  34"
      ]
     },
     "execution_count": 28,
     "metadata": {},
     "output_type": "execute_result"
    }
   ],
   "source": [
    "mean_sd_map7(finalData)"
   ]
  },
  {
   "cell_type": "code",
   "execution_count": 1,
   "metadata": {
    "tags": []
   },
   "outputs": [],
   "source": [
    "#### LAFRANCE expansion\n",
    "mean_exp = 2.38\n",
    "sd_exp = 0.58\n",
    "sem_exp = 0.21"
   ]
  },
  {
   "cell_type": "code",
   "execution_count": 2,
   "metadata": {
    "tags": []
   },
   "outputs": [],
   "source": [
    "def inner_deformation(d,w,k):\n",
    "    return  ((1-w*k/2)-1)*100\n",
    "def outer_deformation(d,w,k):\n",
    "    return  ((1+w*k/2)-1)*100"
   ]
  },
  {
   "cell_type": "code",
   "execution_count": 3,
   "metadata": {
    "tags": []
   },
   "outputs": [],
   "source": [
    "d  = 8.355 /1000\n",
    "w =  25/1000"
   ]
  },
  {
   "cell_type": "code",
   "execution_count": 57,
   "metadata": {
    "tags": []
   },
   "outputs": [
    {
     "data": {
      "image/png": "[encoded data removed]",
      "text/plain": [
       "<Figure size 500x500 with 1 Axes>"
      ]
     },
     "metadata": {},
     "output_type": "display_data"
    }
   ],
   "source": [
    "fig, ax = plt.subplots(1,1,figsize=(5,5))\n",
    "\n",
    "k = np.arange(0, 2, 0.05)\n",
    "ax.plot(k, inner_deformation(d,w,k),color = cyan, lw=3,ls= '-',alpha = 0.5)\n",
    "ax.plot(k, outer_deformation(d,w,k),color = '#E34A00', lw=3,ls= '-',alpha = 0.5)\n",
    "ax.axhline(y = mean_exp, color = cyan ,linestyle=\"--\", linewidth=4,alpha = 0.3) \n",
    "ax.fill_between(k, mean_exp - sem_exp, mean_exp + sem_exp, facecolor=cyan, alpha=0.1)\n",
    "ax.axhline(y = -mean_exp, color = cyan ,linestyle=\"--\", linewidth=4,alpha = 0.3) \n",
    "ax.fill_between(k, -mean_exp + sem_exp, - mean_exp - sem_exp, facecolor=cyan, alpha=0.1)\n",
    "\n",
    "# ax.set_ylim(-4,4)\n",
    "# ax.set_xlim(-3,1)\n",
    "ax.set_xlabel(r'$\\kappa$'' ('r'$\\mu$''m'r'$^{-1}$'')')\n",
    "# ax.set_xticks(np.arange(0, 22.1, 2))\n",
    "# ax.set_yticks(np.arange(-2, 2.1,4))\n",
    "ax.set_ylabel('Dimer deformation %') \n",
    "\n",
    "ax.spines['right'].set_visible(False)\n",
    "ax.spines['top'].set_visible(False)\n",
    "ax.spines['left'].set_lw(3)\n",
    "ax.spines['bottom'].set_lw(3)\n",
    "ax.tick_params(axis='both', width = 3.5, length = 7)\n",
    "\n",
    "#ax.legend((r'$n=2.98 \\pm 0.54$' '\\n' r'$kd=0.020 \\pm 0.017$',),loc='upper left',title='Hill Equation')\n",
    "\n",
    "sns.set_context(\"poster\", font_scale=1, rc={\"lines.linewidth\":3.0})\n",
    "\n",
    "plt.savefig(mydir/('deformation_'+date_today+'.pdf'), bbox_inches = 'tight')"
   ]
  },
  {
   "cell_type": "code",
   "execution_count": 50,
   "metadata": {
    "tags": []
   },
   "outputs": [
    {
     "ename": "NameError",
     "evalue": "name 'mydir' is not defined",
     "output_type": "error",
     "traceback": [
      "\u001b[1;31m---------------------------------------------------------------------------\u001b[0m",
      "\u001b[1;31mNameError\u001b[0m                                 Traceback (most recent call last)",
      "Cell \u001b[1;32mIn[50], line 1\u001b[0m\n\u001b[1;32m----> 1\u001b[0m \u001b[43mmydir\u001b[49m\n",
      "\u001b[1;31mNameError\u001b[0m: name 'mydir' is not defined"
     ]
    }
   ],
   "source": [
    "mydir"
   ]
  },
  {
   "cell_type": "code",
   "execution_count": 4,
   "metadata": {
    "tags": []
   },
   "outputs": [
    {
     "data": {
      "text/plain": [
       "1.1300000000000043"
      ]
     },
     "execution_count": 4,
     "metadata": {},
     "output_type": "execute_result"
    }
   ],
   "source": [
    "2.38 + inner_deformation(d,w,1)"
   ]
  },
  {
   "cell_type": "code",
   "execution_count": 70,
   "metadata": {
    "tags": []
   },
   "outputs": [
    {
     "data": {
      "text/plain": [
       "-1.2499999999999956"
      ]
     },
     "execution_count": 70,
     "metadata": {},
     "output_type": "execute_result"
    }
   ],
   "source": [
    "inner_deformation(d,w,1)"
   ]
  },
  {
   "cell_type": "code",
   "execution_count": null,
   "metadata": {},
   "outputs": [],
   "source": []
  }
 ],
 "metadata": {
  "kernelspec": {
   "display_name": "Python 3 (ipykernel)",
   "language": "python",
   "name": "python3"
  },
  "language_info": {
   "codemirror_mode": {
    "name": "ipython",
    "version": 3
   },
   "file_extension": ".py",
   "mimetype": "text/x-python",
   "name": "python",
   "nbconvert_exporter": "python",
   "pygments_lexer": "ipython3",
   "version": "3.11.5"
  }
 },
 "nbformat": 4,
 "nbformat_minor": 4
}
