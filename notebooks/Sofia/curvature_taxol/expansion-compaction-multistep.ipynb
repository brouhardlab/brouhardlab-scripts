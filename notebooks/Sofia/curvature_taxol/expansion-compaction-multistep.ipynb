{
 "cells": [
  {
   "cell_type": "code",
   "execution_count": 1,
   "metadata": {
    "tags": []
   },
   "outputs": [],
   "source": [
    "import numpy as np\n",
    "import seaborn as sns\n",
    "import matplotlib.pyplot as plt\n",
    "import matplotlib\n",
    "import csv\n",
    "import pandas as pd\n",
    "from pandas.api.types import CategoricalDtype\n",
    "import scipy as sp\n",
    "from pathlib import Path\n",
    "import tkinter as tk\n",
    "from tkinter import filedialog\n",
    "import itertools\n",
    "from colour import Color\n",
    "from datetime import date\n",
    "from sklearn.metrics import r2_score as R2S"
   ]
  },
  {
   "cell_type": "code",
   "execution_count": 2,
   "metadata": {
    "tags": []
   },
   "outputs": [
    {
     "name": "stdout",
     "output_type": "stream",
     "text": [
      "Today's date: 2024-04-03\n"
     ]
    },
    {
     "data": {
      "text/plain": [
       "'2024-04-03'"
      ]
     },
     "execution_count": 2,
     "metadata": {},
     "output_type": "execute_result"
    }
   ],
   "source": [
    "today = date.today()\n",
    "print(\"Today's date:\", today)\n",
    "date_today = str(today)\n",
    "date_today"
   ]
  },
  {
   "cell_type": "code",
   "execution_count": 3,
   "metadata": {
    "tags": []
   },
   "outputs": [],
   "source": [
    "tubulin = '[Tubulin] (' r'$\\mu$' 'M)'\n",
    "tub = 'tub'\n",
    "\n",
    "DCXconc = '[DCX] (nM)' \n",
    "DCX = 'DCX'\n",
    "Type = 'DCX Type'\n",
    "\n",
    "drug = '[Drug] (' r'$\\mu$' 'M)'\n",
    "\n",
    "Concentration = 'Concentration (' r'$\\mu$' 'M)'\n"
   ]
  },
  {
   "cell_type": "code",
   "execution_count": 4,
   "metadata": {
    "tags": []
   },
   "outputs": [
    {
     "data": {
      "text/plain": [
       "['#fcf2b8', '#fcf2b8', '#fcf2b8', '#fcf2b8', '#fcf2b8']"
      ]
     },
     "execution_count": 4,
     "metadata": {},
     "output_type": "execute_result"
    }
   ],
   "source": [
    "black = '#000000'\n",
    "grey = '#777777'\n",
    "blue = '#23459C'\n",
    "cyan = '#0089CF'\n",
    "green = '#79BA1A'\n",
    "purple = '#AB4A9C'\n",
    "lily = '#CB81EA'\n",
    "magenta = '#D80B8C'\n",
    "red = '#e60000'\n",
    "orange = '#FF7300'\n",
    "darkorange = '#FF5B00'\n",
    "lightorange = '#FFAC83'\n",
    "darkyellow= '#FCF2B8'\n",
    "yellow = '#FFCB05'\n",
    "lightyellow = '#FCF2B8'\n",
    "pink = '#FFA4CD'\n",
    "StartHue1 = Color(purple)\n",
    "DC1color = list(StartHue1.range_to(Color(pink),3))\n",
    "StartHue2 = Color(darkorange)\n",
    "DC2color = list(StartHue2.range_to(Color(lightorange),3))\n",
    "\n",
    "\n",
    "palette = [grey,cyan] + list(map(Color.get_hex,DC1color)) + list(map(Color.get_hex,DC2color)) + [green]\n",
    "\n",
    "\n",
    "StartHue3 = Color(lightyellow)\n",
    "Yellowcolor = list(StartHue3.range_to(Color(darkyellow),5))\n",
    "Yellowpalette = list(map(Color.get_hex,Yellowcolor))\n",
    "Yellowpalette"
   ]
  },
  {
   "cell_type": "code",
   "execution_count": 5,
   "metadata": {
    "tags": []
   },
   "outputs": [],
   "source": [
    "matplotlib.rcParams['font.family'] = 'Helvetica Neue LT Std'"
   ]
  },
  {
   "cell_type": "markdown",
   "metadata": {},
   "source": [
    "## Import Kappa csv ##"
   ]
  },
  {
   "cell_type": "code",
   "execution_count": 224,
   "metadata": {
    "tags": []
   },
   "outputs": [],
   "source": [
    "askdirectory = filedialog.askdirectory() # show an \"Open\" dialog box and return the path to the selected file\n",
    "path = Path(askdirectory)"
   ]
  },
  {
   "cell_type": "code",
   "execution_count": 226,
   "metadata": {
    "tags": []
   },
   "outputs": [
    {
     "data": {
      "text/plain": [
       "[WindowsPath('D:/Sofia/2023_2summer-fall-DCXintensitydynmts/2023-12-12_sec-dcx_WT-doublecap-tax/CH1_DCX500nM_typeWT_taxol10uM_compact'),\n",
       " WindowsPath('D:/Sofia/2023_2summer-fall-DCXintensitydynmts/2023-12-12_sec-dcx_WT-doublecap-tax/CH2_DCX500nM_typeWT_taxol10uM_compact')]"
      ]
     },
     "execution_count": 226,
     "metadata": {},
     "output_type": "execute_result"
    }
   ],
   "source": [
    "folders = [x for x in path.iterdir() if x.is_dir()]\n",
    "folders = [i for i in folders if (str(i)[-4:] == 'pact') == True]\n",
    "folders"
   ]
  },
  {
   "cell_type": "code",
   "execution_count": 227,
   "metadata": {
    "tags": []
   },
   "outputs": [
    {
     "data": {
      "text/plain": [
       "[WindowsPath('D:/Sofia/2023_2summer-fall-DCXintensitydynmts/2023-12-12_sec-dcx_WT-doublecap-tax/CH1_DCX500nM_typeWT_taxol10uM_compact/Stack_1-plain_Composite-amplified-final.csv'),\n",
       " WindowsPath('D:/Sofia/2023_2summer-fall-DCXintensitydynmts/2023-12-12_sec-dcx_WT-doublecap-tax/CH1_DCX500nM_typeWT_taxol10uM_compact/Stack_2-tax_Composite-amplified-final.csv'),\n",
       " WindowsPath('D:/Sofia/2023_2summer-fall-DCXintensitydynmts/2023-12-12_sec-dcx_WT-doublecap-tax/CH1_DCX500nM_typeWT_taxol10uM_compact/Stack_3-dcx_Composite-amplified-final.csv'),\n",
       " WindowsPath('D:/Sofia/2023_2summer-fall-DCXintensitydynmts/2023-12-12_sec-dcx_WT-doublecap-tax/CH2_DCX500nM_typeWT_taxol10uM_compact/Stack_1-plain_Composite-amplified-final.csv'),\n",
       " WindowsPath('D:/Sofia/2023_2summer-fall-DCXintensitydynmts/2023-12-12_sec-dcx_WT-doublecap-tax/CH2_DCX500nM_typeWT_taxol10uM_compact/Stack_2-tax_Composite-amplified-final.csv'),\n",
       " WindowsPath('D:/Sofia/2023_2summer-fall-DCXintensitydynmts/2023-12-12_sec-dcx_WT-doublecap-tax/CH2_DCX500nM_typeWT_taxol10uM_compact/Stack_3-dcx_Composite-amplified-final.csv')]"
      ]
     },
     "execution_count": 227,
     "metadata": {},
     "output_type": "execute_result"
    }
   ],
   "source": [
    "files = []\n",
    "for k in folders:\n",
    "    files0 = [x for x in k.iterdir() if x.is_file()]\n",
    "    files0 = [i for i in files0 if str(i).rfind('final') != -1 if str(i).rfind('csv') != -1]\n",
    "    files = files + files0\n",
    "files"
   ]
  },
  {
   "cell_type": "code",
   "execution_count": 228,
   "metadata": {
    "tags": []
   },
   "outputs": [
    {
     "data": {
      "text/plain": [
       "[WindowsPath('D:/Sofia/2023_2summer-fall-DCXintensitydynmts/2023-12-12_sec-dcx_WT-doublecap-tax/CH1_DCX500nM_typeWT_taxol10uM_compact/Stack_1-plain_Composite-amplified-final.csv'),\n",
       " WindowsPath('D:/Sofia/2023_2summer-fall-DCXintensitydynmts/2023-12-12_sec-dcx_WT-doublecap-tax/CH2_DCX500nM_typeWT_taxol10uM_compact/Stack_1-plain_Composite-amplified-final.csv')]"
      ]
     },
     "execution_count": 228,
     "metadata": {},
     "output_type": "execute_result"
    }
   ],
   "source": [
    "files1 = [i for i in files if str(i).rfind('1-plain') != -1 ]\n",
    "files2 = [i for i in files if str(i).rfind('2-tax') != -1 ]\n",
    "files3 = [i for i in files if str(i).rfind('3-dcx') != -1 ]\n",
    "files1"
   ]
  },
  {
   "cell_type": "code",
   "execution_count": 229,
   "metadata": {
    "tags": []
   },
   "outputs": [],
   "source": [
    "def findmetadata(tag,end,i):\n",
    "    n = len(tag)\n",
    "    locstart = str(i).rfind(tag) \n",
    "    locend = str(i).find(end, locstart)\n",
    "    tag0 = str(i)[locstart+n: locend]\n",
    "    \n",
    "    return tag0"
   ]
  },
  {
   "cell_type": "code",
   "execution_count": 230,
   "metadata": {
    "tags": []
   },
   "outputs": [
    {
     "data": {
      "text/plain": [
       "(['2023-12-12', '2023-12-12'],\n",
       " ['1', '2'],\n",
       " [500.0, 500.0],\n",
       " ['WT', 'WT'],\n",
       " [10.0, 10.0])"
      ]
     },
     "execution_count": 230,
     "metadata": {},
     "output_type": "execute_result"
    }
   ],
   "source": [
    "dates= []\n",
    "CH= []\n",
    "tax= []\n",
    "dcx = []\n",
    "dcxtype= []\n",
    "for i in files1:\n",
    "    dateloc = str(i).rfind(\"202\")   \n",
    "    dates0 = str(i)[dateloc : dateloc+10]\n",
    "    dates = dates + [dates0]\n",
    "\n",
    "    CH0 = findmetadata(\"CH\",'_',i)\n",
    "    CH = CH + [CH0]  \n",
    "    \n",
    "    dcx0 = findmetadata(\"_DCX\",'nM',i)\n",
    "    dcx = dcx + [float(dcx0)] \n",
    "    \n",
    "    type0 = findmetadata(\"type\",'_',i)\n",
    "    dcxtype = dcxtype + [type0] \n",
    "    \n",
    "    tax0 = findmetadata(\"taxol\",'uM',i)\n",
    "    tax = tax + [float(tax0)] \n",
    "    \n",
    "\n",
    "dates,CH,dcx, dcxtype,tax"
   ]
  },
  {
   "cell_type": "code",
   "execution_count": 231,
   "metadata": {
    "tags": []
   },
   "outputs": [],
   "source": [
    "def keep_avg_kappa(file,i,timepoint):\n",
    "    data = pd.read_csv(file, encoding='utf-8')\n",
    "    \n",
    "    keep_columns = ['Curve Name','Curve Length (um)']\n",
    "    \n",
    "    data_avg = data.drop_duplicates(subset ='Curve Length (um)', keep = 'first')\n",
    "    data_avg = data_avg[keep_columns]\n",
    "    \n",
    "    if timepoint == 'plain':\n",
    "        data_avg[drug]=0\n",
    "        data_avg['Drug Type']='None'\n",
    "        data_avg[DCXconc]=0\n",
    "        data_avg[Type]='None'\n",
    "        \n",
    "    if timepoint == 'tax':\n",
    "        data_avg[drug]=float(tax[i])\n",
    "        data_avg['Drug Type']='Paclitaxel'\n",
    "        data_avg[DCXconc]=0\n",
    "        data_avg[Type]='None'\n",
    "        \n",
    "    if timepoint == 'dcx':\n",
    "        data_avg[drug]=float(tax[i])\n",
    "        data_avg['Drug Type']='Paclitaxel'\n",
    "        data_avg[DCXconc]=float(dcx[i])\n",
    "        data_avg[Type]=dcxtype[i]\n",
    "                \n",
    "        \n",
    "    data_avg['Date']=dates[i]\n",
    "    data_avg['CH']=CH[i]\n",
    "    \n",
    "    return data_avg"
   ]
  },
  {
   "cell_type": "code",
   "execution_count": 232,
   "metadata": {
    "tags": []
   },
   "outputs": [],
   "source": [
    "data = pd.DataFrame(columns=[] , index=[])\n",
    "for i in range(0,len(files1)):\n",
    "    \n",
    "    data_1plain_avg = keep_avg_kappa(files1[i],i,'plain')\n",
    "    data_2tax_avg = keep_avg_kappa(files2[i],i,'tax')\n",
    "    data_3dcx_avg = keep_avg_kappa(files3[i],i,'dcx')\n",
    "\n",
    "    data0 = pd.concat([data_1plain_avg, data_2tax_avg, data_3dcx_avg], ignore_index=True)\n",
    "\n",
    "    data0 = data0.sort_values(['Curve Name',drug,DCXconc])\n",
    "\n",
    "    data = pd.concat([data,data0], ignore_index=True)"
   ]
  },
  {
   "cell_type": "code",
   "execution_count": 233,
   "metadata": {
    "tags": []
   },
   "outputs": [
    {
     "data": {
      "text/html": [
       "<div>\n",
       "<style scoped>\n",
       "    .dataframe tbody tr th:only-of-type {\n",
       "        vertical-align: middle;\n",
       "    }\n",
       "\n",
       "    .dataframe tbody tr th {\n",
       "        vertical-align: top;\n",
       "    }\n",
       "\n",
       "    .dataframe thead th {\n",
       "        text-align: right;\n",
       "    }\n",
       "</style>\n",
       "<table border=\"1\" class=\"dataframe\">\n",
       "  <thead>\n",
       "    <tr style=\"text-align: right;\">\n",
       "      <th></th>\n",
       "      <th>Curve Name</th>\n",
       "      <th>Curve Length (um)</th>\n",
       "      <th>[Drug] ($\\mu$M)</th>\n",
       "      <th>Drug Type</th>\n",
       "      <th>[DCX] (nM)</th>\n",
       "      <th>DCX Type</th>\n",
       "      <th>Date</th>\n",
       "      <th>CH</th>\n",
       "    </tr>\n",
       "  </thead>\n",
       "  <tbody>\n",
       "    <tr>\n",
       "      <th>0</th>\n",
       "      <td>CURVE 1</td>\n",
       "      <td>6.079942</td>\n",
       "      <td>0.0</td>\n",
       "      <td>None</td>\n",
       "      <td>0.0</td>\n",
       "      <td>None</td>\n",
       "      <td>2023-12-12</td>\n",
       "      <td>1</td>\n",
       "    </tr>\n",
       "    <tr>\n",
       "      <th>1</th>\n",
       "      <td>CURVE 1</td>\n",
       "      <td>6.213966</td>\n",
       "      <td>10.0</td>\n",
       "      <td>Paclitaxel</td>\n",
       "      <td>0.0</td>\n",
       "      <td>None</td>\n",
       "      <td>2023-12-12</td>\n",
       "      <td>1</td>\n",
       "    </tr>\n",
       "    <tr>\n",
       "      <th>2</th>\n",
       "      <td>CURVE 1</td>\n",
       "      <td>6.075509</td>\n",
       "      <td>10.0</td>\n",
       "      <td>Paclitaxel</td>\n",
       "      <td>500.0</td>\n",
       "      <td>WT</td>\n",
       "      <td>2023-12-12</td>\n",
       "      <td>1</td>\n",
       "    </tr>\n",
       "    <tr>\n",
       "      <th>3</th>\n",
       "      <td>CURVE 2</td>\n",
       "      <td>5.724138</td>\n",
       "      <td>0.0</td>\n",
       "      <td>None</td>\n",
       "      <td>0.0</td>\n",
       "      <td>None</td>\n",
       "      <td>2023-12-12</td>\n",
       "      <td>1</td>\n",
       "    </tr>\n",
       "    <tr>\n",
       "      <th>4</th>\n",
       "      <td>CURVE 2</td>\n",
       "      <td>5.824448</td>\n",
       "      <td>10.0</td>\n",
       "      <td>Paclitaxel</td>\n",
       "      <td>0.0</td>\n",
       "      <td>None</td>\n",
       "      <td>2023-12-12</td>\n",
       "      <td>1</td>\n",
       "    </tr>\n",
       "    <tr>\n",
       "      <th>5</th>\n",
       "      <td>CURVE 2</td>\n",
       "      <td>5.720080</td>\n",
       "      <td>10.0</td>\n",
       "      <td>Paclitaxel</td>\n",
       "      <td>500.0</td>\n",
       "      <td>WT</td>\n",
       "      <td>2023-12-12</td>\n",
       "      <td>1</td>\n",
       "    </tr>\n",
       "    <tr>\n",
       "      <th>6</th>\n",
       "      <td>CURVE 1</td>\n",
       "      <td>8.677009</td>\n",
       "      <td>0.0</td>\n",
       "      <td>None</td>\n",
       "      <td>0.0</td>\n",
       "      <td>None</td>\n",
       "      <td>2023-12-12</td>\n",
       "      <td>2</td>\n",
       "    </tr>\n",
       "    <tr>\n",
       "      <th>7</th>\n",
       "      <td>CURVE 1</td>\n",
       "      <td>8.810119</td>\n",
       "      <td>10.0</td>\n",
       "      <td>Paclitaxel</td>\n",
       "      <td>0.0</td>\n",
       "      <td>None</td>\n",
       "      <td>2023-12-12</td>\n",
       "      <td>2</td>\n",
       "    </tr>\n",
       "    <tr>\n",
       "      <th>8</th>\n",
       "      <td>CURVE 1</td>\n",
       "      <td>8.698247</td>\n",
       "      <td>10.0</td>\n",
       "      <td>Paclitaxel</td>\n",
       "      <td>500.0</td>\n",
       "      <td>WT</td>\n",
       "      <td>2023-12-12</td>\n",
       "      <td>2</td>\n",
       "    </tr>\n",
       "    <tr>\n",
       "      <th>9</th>\n",
       "      <td>CURVE 2</td>\n",
       "      <td>6.228867</td>\n",
       "      <td>0.0</td>\n",
       "      <td>None</td>\n",
       "      <td>0.0</td>\n",
       "      <td>None</td>\n",
       "      <td>2023-12-12</td>\n",
       "      <td>2</td>\n",
       "    </tr>\n",
       "    <tr>\n",
       "      <th>10</th>\n",
       "      <td>CURVE 2</td>\n",
       "      <td>6.365793</td>\n",
       "      <td>10.0</td>\n",
       "      <td>Paclitaxel</td>\n",
       "      <td>0.0</td>\n",
       "      <td>None</td>\n",
       "      <td>2023-12-12</td>\n",
       "      <td>2</td>\n",
       "    </tr>\n",
       "    <tr>\n",
       "      <th>11</th>\n",
       "      <td>CURVE 2</td>\n",
       "      <td>6.230530</td>\n",
       "      <td>10.0</td>\n",
       "      <td>Paclitaxel</td>\n",
       "      <td>500.0</td>\n",
       "      <td>WT</td>\n",
       "      <td>2023-12-12</td>\n",
       "      <td>2</td>\n",
       "    </tr>\n",
       "  </tbody>\n",
       "</table>\n",
       "</div>"
      ],
      "text/plain": [
       "   Curve Name  Curve Length (um)  [Drug] ($\\mu$M)   Drug Type  [DCX] (nM)  \\\n",
       "0     CURVE 1           6.079942              0.0        None         0.0   \n",
       "1     CURVE 1           6.213966             10.0  Paclitaxel         0.0   \n",
       "2     CURVE 1           6.075509             10.0  Paclitaxel       500.0   \n",
       "3     CURVE 2           5.724138              0.0        None         0.0   \n",
       "4     CURVE 2           5.824448             10.0  Paclitaxel         0.0   \n",
       "5     CURVE 2           5.720080             10.0  Paclitaxel       500.0   \n",
       "6     CURVE 1           8.677009              0.0        None         0.0   \n",
       "7     CURVE 1           8.810119             10.0  Paclitaxel         0.0   \n",
       "8     CURVE 1           8.698247             10.0  Paclitaxel       500.0   \n",
       "9     CURVE 2           6.228867              0.0        None         0.0   \n",
       "10    CURVE 2           6.365793             10.0  Paclitaxel         0.0   \n",
       "11    CURVE 2           6.230530             10.0  Paclitaxel       500.0   \n",
       "\n",
       "   DCX Type        Date CH  \n",
       "0      None  2023-12-12  1  \n",
       "1      None  2023-12-12  1  \n",
       "2        WT  2023-12-12  1  \n",
       "3      None  2023-12-12  1  \n",
       "4      None  2023-12-12  1  \n",
       "5        WT  2023-12-12  1  \n",
       "6      None  2023-12-12  2  \n",
       "7      None  2023-12-12  2  \n",
       "8        WT  2023-12-12  2  \n",
       "9      None  2023-12-12  2  \n",
       "10     None  2023-12-12  2  \n",
       "11       WT  2023-12-12  2  "
      ]
     },
     "execution_count": 233,
     "metadata": {},
     "output_type": "execute_result"
    }
   ],
   "source": [
    "data"
   ]
  },
  {
   "cell_type": "code",
   "execution_count": 234,
   "metadata": {
    "tags": []
   },
   "outputs": [
    {
     "data": {
      "text/plain": [
       "WindowsPath('D:/Sofia')"
      ]
     },
     "execution_count": 234,
     "metadata": {},
     "output_type": "execute_result"
    }
   ],
   "source": [
    "path.parents[1]"
   ]
  },
  {
   "cell_type": "code",
   "execution_count": 235,
   "metadata": {
    "tags": []
   },
   "outputs": [
    {
     "data": {
      "text/plain": [
       "WindowsPath('D:/Sofia/2023_2summer-fall-DCXintensitydynmts/Compaction_Data_Sheets')"
      ]
     },
     "execution_count": 235,
     "metadata": {},
     "output_type": "execute_result"
    }
   ],
   "source": [
    "newdirectory = str(path.parents[0])+'//Compaction_Data_Sheets'\n",
    "newmydir = Path(newdirectory)\n",
    "newmydir.mkdir(exist_ok=True)\n",
    "newmydir"
   ]
  },
  {
   "cell_type": "code",
   "execution_count": 236,
   "metadata": {
    "tags": []
   },
   "outputs": [
    {
     "data": {
      "text/plain": [
       "'2023-12-12_WT_compaction_analysed-on_2023-12-12.csv'"
      ]
     },
     "execution_count": 236,
     "metadata": {},
     "output_type": "execute_result"
    }
   ],
   "source": [
    "name = dates[0]+'_'+dcxtype[0]+'_compaction_analysed-on_'+date_today +'.csv'\n",
    "name"
   ]
  },
  {
   "cell_type": "code",
   "execution_count": 237,
   "metadata": {
    "tags": []
   },
   "outputs": [],
   "source": [
    "data.to_csv(path/(name), encoding='utf-8', index=False)\n",
    "data.to_csv(newmydir/(name), encoding='utf-8', index=False)"
   ]
  },
  {
   "cell_type": "markdown",
   "metadata": {},
   "source": [
    "### JOIN ###"
   ]
  },
  {
   "cell_type": "code",
   "execution_count": 238,
   "metadata": {
    "tags": []
   },
   "outputs": [],
   "source": [
    "askdirectory = filedialog.askdirectory() # show an \"Open\" dialog box and return the path to the selected file\n",
    "path = Path(askdirectory)"
   ]
  },
  {
   "cell_type": "code",
   "execution_count": 239,
   "metadata": {
    "tags": []
   },
   "outputs": [
    {
     "data": {
      "text/plain": [
       "[WindowsPath('D:/Sofia/2023_2summer-fall-DCXintensitydynmts/Compaction_Data_Sheets/2023-06-22_R178L_compaction_analysed-on_2023-11-15.csv'),\n",
       " WindowsPath('D:/Sofia/2023_2summer-fall-DCXintensitydynmts/Compaction_Data_Sheets/2023-11-10_R89G_compaction_analysed-on_2023-11-15.csv'),\n",
       " WindowsPath('D:/Sofia/2023_2summer-fall-DCXintensitydynmts/Compaction_Data_Sheets/2023-11-20_WT_compaction_analysed-on_2023-11-21.csv'),\n",
       " WindowsPath('D:/Sofia/2023_2summer-fall-DCXintensitydynmts/Compaction_Data_Sheets/2023-11-30_R178L_compaction_analysed-on_2023-11-30.csv'),\n",
       " WindowsPath('D:/Sofia/2023_2summer-fall-DCXintensitydynmts/Compaction_Data_Sheets/2023-12-01_R89G_compaction_analysed-on_2023-12-01.csv'),\n",
       " WindowsPath('D:/Sofia/2023_2summer-fall-DCXintensitydynmts/Compaction_Data_Sheets/2023-12-05_WT_compaction_analysed-on_2023-12-05.csv'),\n",
       " WindowsPath('D:/Sofia/2023_2summer-fall-DCXintensitydynmts/Compaction_Data_Sheets/2023-12-12_WT_compaction_analysed-on_2023-12-12.csv')]"
      ]
     },
     "execution_count": 239,
     "metadata": {},
     "output_type": "execute_result"
    }
   ],
   "source": [
    "files = [x for x in path.iterdir() if x.is_file()]\n",
    "files = [i for i in files if (str(i)[-9:] != 'Sheet.csv') == True]\n",
    "files = [i for i in files if (str(i)[-3:] == 'csv') == True]\n",
    "files"
   ]
  },
  {
   "cell_type": "code",
   "execution_count": 240,
   "metadata": {
    "tags": []
   },
   "outputs": [
    {
     "data": {
      "text/html": [
       "<div>\n",
       "<style scoped>\n",
       "    .dataframe tbody tr th:only-of-type {\n",
       "        vertical-align: middle;\n",
       "    }\n",
       "\n",
       "    .dataframe tbody tr th {\n",
       "        vertical-align: top;\n",
       "    }\n",
       "\n",
       "    .dataframe thead th {\n",
       "        text-align: right;\n",
       "    }\n",
       "</style>\n",
       "<table border=\"1\" class=\"dataframe\">\n",
       "  <thead>\n",
       "    <tr style=\"text-align: right;\">\n",
       "      <th></th>\n",
       "      <th>Curve Name</th>\n",
       "      <th>Curve Length (um)</th>\n",
       "      <th>[Drug] ($\\mu$M)</th>\n",
       "      <th>Drug Type</th>\n",
       "      <th>[DCX] (nM)</th>\n",
       "      <th>DCX Type</th>\n",
       "      <th>Date</th>\n",
       "      <th>CH</th>\n",
       "    </tr>\n",
       "  </thead>\n",
       "  <tbody>\n",
       "    <tr>\n",
       "      <th>0</th>\n",
       "      <td>CURVE 1</td>\n",
       "      <td>10.496977</td>\n",
       "      <td>0.0</td>\n",
       "      <td>None</td>\n",
       "      <td>0.0</td>\n",
       "      <td>None</td>\n",
       "      <td>2023-06-22</td>\n",
       "      <td>1</td>\n",
       "    </tr>\n",
       "    <tr>\n",
       "      <th>1</th>\n",
       "      <td>CURVE 1</td>\n",
       "      <td>10.791002</td>\n",
       "      <td>10.0</td>\n",
       "      <td>Paclitaxel</td>\n",
       "      <td>0.0</td>\n",
       "      <td>None</td>\n",
       "      <td>2023-06-22</td>\n",
       "      <td>1</td>\n",
       "    </tr>\n",
       "    <tr>\n",
       "      <th>2</th>\n",
       "      <td>CURVE 1</td>\n",
       "      <td>10.544506</td>\n",
       "      <td>10.0</td>\n",
       "      <td>Paclitaxel</td>\n",
       "      <td>500.0</td>\n",
       "      <td>R178L</td>\n",
       "      <td>2023-06-22</td>\n",
       "      <td>1</td>\n",
       "    </tr>\n",
       "    <tr>\n",
       "      <th>3</th>\n",
       "      <td>CURVE 2</td>\n",
       "      <td>14.549901</td>\n",
       "      <td>0.0</td>\n",
       "      <td>None</td>\n",
       "      <td>0.0</td>\n",
       "      <td>None</td>\n",
       "      <td>2023-06-22</td>\n",
       "      <td>1</td>\n",
       "    </tr>\n",
       "    <tr>\n",
       "      <th>4</th>\n",
       "      <td>CURVE 2</td>\n",
       "      <td>14.968765</td>\n",
       "      <td>10.0</td>\n",
       "      <td>Paclitaxel</td>\n",
       "      <td>0.0</td>\n",
       "      <td>None</td>\n",
       "      <td>2023-06-22</td>\n",
       "      <td>1</td>\n",
       "    </tr>\n",
       "    <tr>\n",
       "      <th>...</th>\n",
       "      <td>...</td>\n",
       "      <td>...</td>\n",
       "      <td>...</td>\n",
       "      <td>...</td>\n",
       "      <td>...</td>\n",
       "      <td>...</td>\n",
       "      <td>...</td>\n",
       "      <td>...</td>\n",
       "    </tr>\n",
       "    <tr>\n",
       "      <th>127</th>\n",
       "      <td>CURVE 1</td>\n",
       "      <td>8.810119</td>\n",
       "      <td>10.0</td>\n",
       "      <td>Paclitaxel</td>\n",
       "      <td>0.0</td>\n",
       "      <td>None</td>\n",
       "      <td>2023-12-12</td>\n",
       "      <td>2</td>\n",
       "    </tr>\n",
       "    <tr>\n",
       "      <th>128</th>\n",
       "      <td>CURVE 1</td>\n",
       "      <td>8.698247</td>\n",
       "      <td>10.0</td>\n",
       "      <td>Paclitaxel</td>\n",
       "      <td>500.0</td>\n",
       "      <td>WT</td>\n",
       "      <td>2023-12-12</td>\n",
       "      <td>2</td>\n",
       "    </tr>\n",
       "    <tr>\n",
       "      <th>129</th>\n",
       "      <td>CURVE 2</td>\n",
       "      <td>6.228867</td>\n",
       "      <td>0.0</td>\n",
       "      <td>None</td>\n",
       "      <td>0.0</td>\n",
       "      <td>None</td>\n",
       "      <td>2023-12-12</td>\n",
       "      <td>2</td>\n",
       "    </tr>\n",
       "    <tr>\n",
       "      <th>130</th>\n",
       "      <td>CURVE 2</td>\n",
       "      <td>6.365793</td>\n",
       "      <td>10.0</td>\n",
       "      <td>Paclitaxel</td>\n",
       "      <td>0.0</td>\n",
       "      <td>None</td>\n",
       "      <td>2023-12-12</td>\n",
       "      <td>2</td>\n",
       "    </tr>\n",
       "    <tr>\n",
       "      <th>131</th>\n",
       "      <td>CURVE 2</td>\n",
       "      <td>6.230530</td>\n",
       "      <td>10.0</td>\n",
       "      <td>Paclitaxel</td>\n",
       "      <td>500.0</td>\n",
       "      <td>WT</td>\n",
       "      <td>2023-12-12</td>\n",
       "      <td>2</td>\n",
       "    </tr>\n",
       "  </tbody>\n",
       "</table>\n",
       "<p>132 rows × 8 columns</p>\n",
       "</div>"
      ],
      "text/plain": [
       "    Curve Name  Curve Length (um)  [Drug] ($\\mu$M)   Drug Type  [DCX] (nM)  \\\n",
       "0      CURVE 1          10.496977              0.0        None         0.0   \n",
       "1      CURVE 1          10.791002             10.0  Paclitaxel         0.0   \n",
       "2      CURVE 1          10.544506             10.0  Paclitaxel       500.0   \n",
       "3      CURVE 2          14.549901              0.0        None         0.0   \n",
       "4      CURVE 2          14.968765             10.0  Paclitaxel         0.0   \n",
       "..         ...                ...              ...         ...         ...   \n",
       "127    CURVE 1           8.810119             10.0  Paclitaxel         0.0   \n",
       "128    CURVE 1           8.698247             10.0  Paclitaxel       500.0   \n",
       "129    CURVE 2           6.228867              0.0        None         0.0   \n",
       "130    CURVE 2           6.365793             10.0  Paclitaxel         0.0   \n",
       "131    CURVE 2           6.230530             10.0  Paclitaxel       500.0   \n",
       "\n",
       "    DCX Type        Date  CH  \n",
       "0       None  2023-06-22   1  \n",
       "1       None  2023-06-22   1  \n",
       "2      R178L  2023-06-22   1  \n",
       "3       None  2023-06-22   1  \n",
       "4       None  2023-06-22   1  \n",
       "..       ...         ...  ..  \n",
       "127     None  2023-12-12   2  \n",
       "128       WT  2023-12-12   2  \n",
       "129     None  2023-12-12   2  \n",
       "130     None  2023-12-12   2  \n",
       "131       WT  2023-12-12   2  \n",
       "\n",
       "[132 rows x 8 columns]"
      ]
     },
     "execution_count": 240,
     "metadata": {},
     "output_type": "execute_result"
    }
   ],
   "source": [
    "joindata = pd.read_csv(files[0], encoding='utf-8',keep_default_na=False,na_values=['NaN'])\n",
    "for i in range(1,len(files)):\n",
    "    d = pd.read_csv(files[i], encoding='utf-8',keep_default_na=False,na_values=['NaN'])\n",
    "    joindata = pd.concat([joindata, d], ignore_index=True)\n",
    "\n",
    "\n",
    "joindata.to_csv(path/('jointdata-on_'+date_today +'_MasterSheet.csv'), encoding='utf-8', index=False)\n",
    "joindata"
   ]
  },
  {
   "cell_type": "markdown",
   "metadata": {},
   "source": [
    "## Calculate expansion ##"
   ]
  },
  {
   "cell_type": "code",
   "execution_count": 241,
   "metadata": {
    "tags": []
   },
   "outputs": [],
   "source": [
    "# joindata = data"
   ]
  },
  {
   "cell_type": "code",
   "execution_count": 242,
   "metadata": {
    "tags": []
   },
   "outputs": [],
   "source": [
    "plainData = joindata.iloc[:-2:3]\n",
    "taxData = joindata.iloc[1:-1:3]\n",
    "dcxData = joindata.iloc[2::3]\n"
   ]
  },
  {
   "cell_type": "code",
   "execution_count": 243,
   "metadata": {
    "tags": []
   },
   "outputs": [],
   "source": [
    "def percent_expansion(beforeData, afterData):\n",
    "    ratio = beforeData['Curve Length (um)'].values / afterData['Curve Length (um)'].values\n",
    "    prcnt_expansion = (1- ratio)*100\n",
    "    afterData['Expansion %'] = prcnt_expansion\n",
    "    return afterData"
   ]
  },
  {
   "cell_type": "code",
   "execution_count": 244,
   "metadata": {
    "tags": []
   },
   "outputs": [
    {
     "name": "stderr",
     "output_type": "stream",
     "text": [
      "C:\\Users\\Brouhard Lab\\AppData\\Local\\Temp\\ipykernel_4276\\4009520246.py:4: SettingWithCopyWarning: \n",
      "A value is trying to be set on a copy of a slice from a DataFrame.\n",
      "Try using .loc[row_indexer,col_indexer] = value instead\n",
      "\n",
      "See the caveats in the documentation: https://pandas.pydata.org/pandas-docs/stable/user_guide/indexing.html#returning-a-view-versus-a-copy\n",
      "  afterData['Expansion %'] = prcnt_expansion\n",
      "C:\\Users\\Brouhard Lab\\AppData\\Local\\Temp\\ipykernel_4276\\4009520246.py:4: SettingWithCopyWarning: \n",
      "A value is trying to be set on a copy of a slice from a DataFrame.\n",
      "Try using .loc[row_indexer,col_indexer] = value instead\n",
      "\n",
      "See the caveats in the documentation: https://pandas.pydata.org/pandas-docs/stable/user_guide/indexing.html#returning-a-view-versus-a-copy\n",
      "  afterData['Expansion %'] = prcnt_expansion\n"
     ]
    },
    {
     "data": {
      "text/html": [
       "<div>\n",
       "<style scoped>\n",
       "    .dataframe tbody tr th:only-of-type {\n",
       "        vertical-align: middle;\n",
       "    }\n",
       "\n",
       "    .dataframe tbody tr th {\n",
       "        vertical-align: top;\n",
       "    }\n",
       "\n",
       "    .dataframe thead th {\n",
       "        text-align: right;\n",
       "    }\n",
       "</style>\n",
       "<table border=\"1\" class=\"dataframe\">\n",
       "  <thead>\n",
       "    <tr style=\"text-align: right;\">\n",
       "      <th></th>\n",
       "      <th>Curve Name</th>\n",
       "      <th>Curve Length (um)</th>\n",
       "      <th>[Drug] ($\\mu$M)</th>\n",
       "      <th>Drug Type</th>\n",
       "      <th>[DCX] (nM)</th>\n",
       "      <th>DCX Type</th>\n",
       "      <th>Date</th>\n",
       "      <th>CH</th>\n",
       "      <th>Expansion %</th>\n",
       "    </tr>\n",
       "  </thead>\n",
       "  <tbody>\n",
       "    <tr>\n",
       "      <th>2</th>\n",
       "      <td>CURVE 1</td>\n",
       "      <td>10.544506</td>\n",
       "      <td>10.0</td>\n",
       "      <td>Paclitaxel</td>\n",
       "      <td>500.0</td>\n",
       "      <td>R178L</td>\n",
       "      <td>2023-06-22</td>\n",
       "      <td>1</td>\n",
       "      <td>0.450750</td>\n",
       "    </tr>\n",
       "    <tr>\n",
       "      <th>5</th>\n",
       "      <td>CURVE 2</td>\n",
       "      <td>14.589281</td>\n",
       "      <td>10.0</td>\n",
       "      <td>Paclitaxel</td>\n",
       "      <td>500.0</td>\n",
       "      <td>R178L</td>\n",
       "      <td>2023-06-22</td>\n",
       "      <td>1</td>\n",
       "      <td>0.269922</td>\n",
       "    </tr>\n",
       "    <tr>\n",
       "      <th>8</th>\n",
       "      <td>CURVE 3</td>\n",
       "      <td>14.801374</td>\n",
       "      <td>10.0</td>\n",
       "      <td>Paclitaxel</td>\n",
       "      <td>500.0</td>\n",
       "      <td>R178L</td>\n",
       "      <td>2023-06-22</td>\n",
       "      <td>1</td>\n",
       "      <td>0.424582</td>\n",
       "    </tr>\n",
       "    <tr>\n",
       "      <th>11</th>\n",
       "      <td>CURVE 4</td>\n",
       "      <td>11.574313</td>\n",
       "      <td>10.0</td>\n",
       "      <td>Paclitaxel</td>\n",
       "      <td>500.0</td>\n",
       "      <td>R178L</td>\n",
       "      <td>2023-06-22</td>\n",
       "      <td>1</td>\n",
       "      <td>0.633906</td>\n",
       "    </tr>\n",
       "    <tr>\n",
       "      <th>14</th>\n",
       "      <td>CURVE 5</td>\n",
       "      <td>9.836784</td>\n",
       "      <td>10.0</td>\n",
       "      <td>Paclitaxel</td>\n",
       "      <td>500.0</td>\n",
       "      <td>R178L</td>\n",
       "      <td>2023-06-22</td>\n",
       "      <td>1</td>\n",
       "      <td>0.066940</td>\n",
       "    </tr>\n",
       "    <tr>\n",
       "      <th>17</th>\n",
       "      <td>CURVE 1</td>\n",
       "      <td>16.394800</td>\n",
       "      <td>10.0</td>\n",
       "      <td>Paclitaxel</td>\n",
       "      <td>500.0</td>\n",
       "      <td>R178L</td>\n",
       "      <td>2023-06-22</td>\n",
       "      <td>2</td>\n",
       "      <td>-0.018447</td>\n",
       "    </tr>\n",
       "    <tr>\n",
       "      <th>20</th>\n",
       "      <td>CURVE 3</td>\n",
       "      <td>11.821795</td>\n",
       "      <td>10.0</td>\n",
       "      <td>Paclitaxel</td>\n",
       "      <td>500.0</td>\n",
       "      <td>R178L</td>\n",
       "      <td>2023-06-22</td>\n",
       "      <td>2</td>\n",
       "      <td>-0.023934</td>\n",
       "    </tr>\n",
       "    <tr>\n",
       "      <th>23</th>\n",
       "      <td>CURVE 1</td>\n",
       "      <td>19.449787</td>\n",
       "      <td>10.0</td>\n",
       "      <td>Paclitaxel</td>\n",
       "      <td>500.0</td>\n",
       "      <td>R89G</td>\n",
       "      <td>2023-11-10</td>\n",
       "      <td>1</td>\n",
       "      <td>0.753593</td>\n",
       "    </tr>\n",
       "    <tr>\n",
       "      <th>26</th>\n",
       "      <td>CURVE 2</td>\n",
       "      <td>5.045669</td>\n",
       "      <td>10.0</td>\n",
       "      <td>Paclitaxel</td>\n",
       "      <td>500.0</td>\n",
       "      <td>R89G</td>\n",
       "      <td>2023-11-10</td>\n",
       "      <td>1</td>\n",
       "      <td>0.651527</td>\n",
       "    </tr>\n",
       "    <tr>\n",
       "      <th>29</th>\n",
       "      <td>CURVE 3</td>\n",
       "      <td>14.131694</td>\n",
       "      <td>10.0</td>\n",
       "      <td>Paclitaxel</td>\n",
       "      <td>500.0</td>\n",
       "      <td>R89G</td>\n",
       "      <td>2023-11-10</td>\n",
       "      <td>1</td>\n",
       "      <td>0.915662</td>\n",
       "    </tr>\n",
       "    <tr>\n",
       "      <th>32</th>\n",
       "      <td>CURVE 1</td>\n",
       "      <td>12.070302</td>\n",
       "      <td>10.0</td>\n",
       "      <td>Paclitaxel</td>\n",
       "      <td>500.0</td>\n",
       "      <td>R89G</td>\n",
       "      <td>2023-11-10</td>\n",
       "      <td>3</td>\n",
       "      <td>1.297317</td>\n",
       "    </tr>\n",
       "    <tr>\n",
       "      <th>35</th>\n",
       "      <td>CURVE 2</td>\n",
       "      <td>10.875737</td>\n",
       "      <td>10.0</td>\n",
       "      <td>Paclitaxel</td>\n",
       "      <td>500.0</td>\n",
       "      <td>R89G</td>\n",
       "      <td>2023-11-10</td>\n",
       "      <td>3</td>\n",
       "      <td>0.090249</td>\n",
       "    </tr>\n",
       "    <tr>\n",
       "      <th>38</th>\n",
       "      <td>CURVE 1</td>\n",
       "      <td>13.973230</td>\n",
       "      <td>10.0</td>\n",
       "      <td>Paclitaxel</td>\n",
       "      <td>500.0</td>\n",
       "      <td>R89G</td>\n",
       "      <td>2023-11-10</td>\n",
       "      <td>4</td>\n",
       "      <td>0.696034</td>\n",
       "    </tr>\n",
       "    <tr>\n",
       "      <th>41</th>\n",
       "      <td>CURVE 2</td>\n",
       "      <td>13.080257</td>\n",
       "      <td>10.0</td>\n",
       "      <td>Paclitaxel</td>\n",
       "      <td>500.0</td>\n",
       "      <td>R89G</td>\n",
       "      <td>2023-11-10</td>\n",
       "      <td>4</td>\n",
       "      <td>-0.090784</td>\n",
       "    </tr>\n",
       "    <tr>\n",
       "      <th>44</th>\n",
       "      <td>CURVE 1</td>\n",
       "      <td>6.582923</td>\n",
       "      <td>10.0</td>\n",
       "      <td>Paclitaxel</td>\n",
       "      <td>500.0</td>\n",
       "      <td>WT</td>\n",
       "      <td>2023-11-20</td>\n",
       "      <td>1</td>\n",
       "      <td>0.164010</td>\n",
       "    </tr>\n",
       "    <tr>\n",
       "      <th>47</th>\n",
       "      <td>CURVE 2</td>\n",
       "      <td>5.289420</td>\n",
       "      <td>10.0</td>\n",
       "      <td>Paclitaxel</td>\n",
       "      <td>500.0</td>\n",
       "      <td>WT</td>\n",
       "      <td>2023-11-20</td>\n",
       "      <td>1</td>\n",
       "      <td>0.036555</td>\n",
       "    </tr>\n",
       "    <tr>\n",
       "      <th>50</th>\n",
       "      <td>CURVE 3</td>\n",
       "      <td>4.941830</td>\n",
       "      <td>10.0</td>\n",
       "      <td>Paclitaxel</td>\n",
       "      <td>500.0</td>\n",
       "      <td>WT</td>\n",
       "      <td>2023-11-20</td>\n",
       "      <td>1</td>\n",
       "      <td>0.431366</td>\n",
       "    </tr>\n",
       "    <tr>\n",
       "      <th>53</th>\n",
       "      <td>CURVE 1</td>\n",
       "      <td>6.078194</td>\n",
       "      <td>10.0</td>\n",
       "      <td>Paclitaxel</td>\n",
       "      <td>500.0</td>\n",
       "      <td>WT</td>\n",
       "      <td>2023-11-20</td>\n",
       "      <td>2</td>\n",
       "      <td>-0.065684</td>\n",
       "    </tr>\n",
       "    <tr>\n",
       "      <th>56</th>\n",
       "      <td>CURVE 2</td>\n",
       "      <td>4.667058</td>\n",
       "      <td>10.0</td>\n",
       "      <td>Paclitaxel</td>\n",
       "      <td>500.0</td>\n",
       "      <td>WT</td>\n",
       "      <td>2023-11-20</td>\n",
       "      <td>2</td>\n",
       "      <td>0.060920</td>\n",
       "    </tr>\n",
       "    <tr>\n",
       "      <th>59</th>\n",
       "      <td>CURVE 1</td>\n",
       "      <td>5.305425</td>\n",
       "      <td>10.0</td>\n",
       "      <td>Paclitaxel</td>\n",
       "      <td>500.0</td>\n",
       "      <td>WT</td>\n",
       "      <td>2023-11-20</td>\n",
       "      <td>3</td>\n",
       "      <td>0.241990</td>\n",
       "    </tr>\n",
       "    <tr>\n",
       "      <th>62</th>\n",
       "      <td>CURVE 2</td>\n",
       "      <td>5.046634</td>\n",
       "      <td>10.0</td>\n",
       "      <td>Paclitaxel</td>\n",
       "      <td>500.0</td>\n",
       "      <td>WT</td>\n",
       "      <td>2023-11-20</td>\n",
       "      <td>3</td>\n",
       "      <td>-0.033399</td>\n",
       "    </tr>\n",
       "    <tr>\n",
       "      <th>65</th>\n",
       "      <td>CURVE 1</td>\n",
       "      <td>7.445086</td>\n",
       "      <td>10.0</td>\n",
       "      <td>Paclitaxel</td>\n",
       "      <td>500.0</td>\n",
       "      <td>WT</td>\n",
       "      <td>2023-11-20</td>\n",
       "      <td>4</td>\n",
       "      <td>-0.011071</td>\n",
       "    </tr>\n",
       "    <tr>\n",
       "      <th>68</th>\n",
       "      <td>CURVE 2</td>\n",
       "      <td>5.479361</td>\n",
       "      <td>10.0</td>\n",
       "      <td>Paclitaxel</td>\n",
       "      <td>500.0</td>\n",
       "      <td>WT</td>\n",
       "      <td>2023-11-20</td>\n",
       "      <td>4</td>\n",
       "      <td>0.077447</td>\n",
       "    </tr>\n",
       "    <tr>\n",
       "      <th>71</th>\n",
       "      <td>CURVE 3</td>\n",
       "      <td>5.061707</td>\n",
       "      <td>10.0</td>\n",
       "      <td>Paclitaxel</td>\n",
       "      <td>500.0</td>\n",
       "      <td>WT</td>\n",
       "      <td>2023-11-20</td>\n",
       "      <td>4</td>\n",
       "      <td>0.014604</td>\n",
       "    </tr>\n",
       "    <tr>\n",
       "      <th>74</th>\n",
       "      <td>CURVE 4</td>\n",
       "      <td>4.818494</td>\n",
       "      <td>10.0</td>\n",
       "      <td>Paclitaxel</td>\n",
       "      <td>500.0</td>\n",
       "      <td>WT</td>\n",
       "      <td>2023-11-20</td>\n",
       "      <td>4</td>\n",
       "      <td>-0.067306</td>\n",
       "    </tr>\n",
       "    <tr>\n",
       "      <th>77</th>\n",
       "      <td>CURVE 5</td>\n",
       "      <td>5.377305</td>\n",
       "      <td>10.0</td>\n",
       "      <td>Paclitaxel</td>\n",
       "      <td>500.0</td>\n",
       "      <td>WT</td>\n",
       "      <td>2023-11-20</td>\n",
       "      <td>4</td>\n",
       "      <td>0.022097</td>\n",
       "    </tr>\n",
       "    <tr>\n",
       "      <th>80</th>\n",
       "      <td>CURVE 6</td>\n",
       "      <td>4.727677</td>\n",
       "      <td>10.0</td>\n",
       "      <td>Paclitaxel</td>\n",
       "      <td>500.0</td>\n",
       "      <td>WT</td>\n",
       "      <td>2023-11-20</td>\n",
       "      <td>4</td>\n",
       "      <td>-0.047439</td>\n",
       "    </tr>\n",
       "    <tr>\n",
       "      <th>83</th>\n",
       "      <td>CURVE 1</td>\n",
       "      <td>7.733125</td>\n",
       "      <td>10.0</td>\n",
       "      <td>Paclitaxel</td>\n",
       "      <td>500.0</td>\n",
       "      <td>R178L</td>\n",
       "      <td>2023-11-30</td>\n",
       "      <td>1</td>\n",
       "      <td>0.208652</td>\n",
       "    </tr>\n",
       "    <tr>\n",
       "      <th>86</th>\n",
       "      <td>CURVE 2</td>\n",
       "      <td>6.537283</td>\n",
       "      <td>10.0</td>\n",
       "      <td>Paclitaxel</td>\n",
       "      <td>500.0</td>\n",
       "      <td>R178L</td>\n",
       "      <td>2023-11-30</td>\n",
       "      <td>1</td>\n",
       "      <td>-0.003649</td>\n",
       "    </tr>\n",
       "    <tr>\n",
       "      <th>89</th>\n",
       "      <td>CURVE 1</td>\n",
       "      <td>9.049052</td>\n",
       "      <td>10.0</td>\n",
       "      <td>Paclitaxel</td>\n",
       "      <td>500.0</td>\n",
       "      <td>R89G</td>\n",
       "      <td>2023-12-01</td>\n",
       "      <td>1</td>\n",
       "      <td>0.220243</td>\n",
       "    </tr>\n",
       "    <tr>\n",
       "      <th>92</th>\n",
       "      <td>CURVE 2</td>\n",
       "      <td>7.284641</td>\n",
       "      <td>10.0</td>\n",
       "      <td>Paclitaxel</td>\n",
       "      <td>500.0</td>\n",
       "      <td>R89G</td>\n",
       "      <td>2023-12-01</td>\n",
       "      <td>1</td>\n",
       "      <td>0.473872</td>\n",
       "    </tr>\n",
       "    <tr>\n",
       "      <th>95</th>\n",
       "      <td>CURVE 3</td>\n",
       "      <td>10.451647</td>\n",
       "      <td>10.0</td>\n",
       "      <td>Paclitaxel</td>\n",
       "      <td>500.0</td>\n",
       "      <td>R89G</td>\n",
       "      <td>2023-12-01</td>\n",
       "      <td>1</td>\n",
       "      <td>0.446875</td>\n",
       "    </tr>\n",
       "    <tr>\n",
       "      <th>98</th>\n",
       "      <td>CURVE 1</td>\n",
       "      <td>7.807083</td>\n",
       "      <td>10.0</td>\n",
       "      <td>Paclitaxel</td>\n",
       "      <td>500.0</td>\n",
       "      <td>R89G</td>\n",
       "      <td>2023-12-01</td>\n",
       "      <td>2</td>\n",
       "      <td>0.031624</td>\n",
       "    </tr>\n",
       "    <tr>\n",
       "      <th>101</th>\n",
       "      <td>CURVE 2</td>\n",
       "      <td>9.145865</td>\n",
       "      <td>10.0</td>\n",
       "      <td>Paclitaxel</td>\n",
       "      <td>500.0</td>\n",
       "      <td>R89G</td>\n",
       "      <td>2023-12-01</td>\n",
       "      <td>2</td>\n",
       "      <td>0.666410</td>\n",
       "    </tr>\n",
       "    <tr>\n",
       "      <th>104</th>\n",
       "      <td>CURVE 3</td>\n",
       "      <td>6.814893</td>\n",
       "      <td>10.0</td>\n",
       "      <td>Paclitaxel</td>\n",
       "      <td>500.0</td>\n",
       "      <td>R89G</td>\n",
       "      <td>2023-12-01</td>\n",
       "      <td>2</td>\n",
       "      <td>0.082065</td>\n",
       "    </tr>\n",
       "    <tr>\n",
       "      <th>107</th>\n",
       "      <td>CURVE 1</td>\n",
       "      <td>8.310060</td>\n",
       "      <td>10.0</td>\n",
       "      <td>Paclitaxel</td>\n",
       "      <td>500.0</td>\n",
       "      <td>WT</td>\n",
       "      <td>2023-12-05</td>\n",
       "      <td>1</td>\n",
       "      <td>0.025492</td>\n",
       "    </tr>\n",
       "    <tr>\n",
       "      <th>110</th>\n",
       "      <td>CURVE 2</td>\n",
       "      <td>6.032938</td>\n",
       "      <td>10.0</td>\n",
       "      <td>Paclitaxel</td>\n",
       "      <td>500.0</td>\n",
       "      <td>WT</td>\n",
       "      <td>2023-12-05</td>\n",
       "      <td>1</td>\n",
       "      <td>0.036230</td>\n",
       "    </tr>\n",
       "    <tr>\n",
       "      <th>113</th>\n",
       "      <td>CURVE 3</td>\n",
       "      <td>8.023004</td>\n",
       "      <td>10.0</td>\n",
       "      <td>Paclitaxel</td>\n",
       "      <td>500.0</td>\n",
       "      <td>WT</td>\n",
       "      <td>2023-12-05</td>\n",
       "      <td>1</td>\n",
       "      <td>0.037663</td>\n",
       "    </tr>\n",
       "    <tr>\n",
       "      <th>116</th>\n",
       "      <td>CURVE 4</td>\n",
       "      <td>7.726061</td>\n",
       "      <td>10.0</td>\n",
       "      <td>Paclitaxel</td>\n",
       "      <td>500.0</td>\n",
       "      <td>WT</td>\n",
       "      <td>2023-12-05</td>\n",
       "      <td>1</td>\n",
       "      <td>0.001595</td>\n",
       "    </tr>\n",
       "    <tr>\n",
       "      <th>119</th>\n",
       "      <td>CURVE 1</td>\n",
       "      <td>7.968813</td>\n",
       "      <td>10.0</td>\n",
       "      <td>Paclitaxel</td>\n",
       "      <td>500.0</td>\n",
       "      <td>WT</td>\n",
       "      <td>2023-12-05</td>\n",
       "      <td>2</td>\n",
       "      <td>0.012327</td>\n",
       "    </tr>\n",
       "    <tr>\n",
       "      <th>122</th>\n",
       "      <td>CURVE 1</td>\n",
       "      <td>6.075509</td>\n",
       "      <td>10.0</td>\n",
       "      <td>Paclitaxel</td>\n",
       "      <td>500.0</td>\n",
       "      <td>WT</td>\n",
       "      <td>2023-12-12</td>\n",
       "      <td>1</td>\n",
       "      <td>-0.072971</td>\n",
       "    </tr>\n",
       "    <tr>\n",
       "      <th>125</th>\n",
       "      <td>CURVE 2</td>\n",
       "      <td>5.720080</td>\n",
       "      <td>10.0</td>\n",
       "      <td>Paclitaxel</td>\n",
       "      <td>500.0</td>\n",
       "      <td>WT</td>\n",
       "      <td>2023-12-12</td>\n",
       "      <td>1</td>\n",
       "      <td>-0.070944</td>\n",
       "    </tr>\n",
       "    <tr>\n",
       "      <th>128</th>\n",
       "      <td>CURVE 1</td>\n",
       "      <td>8.698247</td>\n",
       "      <td>10.0</td>\n",
       "      <td>Paclitaxel</td>\n",
       "      <td>500.0</td>\n",
       "      <td>WT</td>\n",
       "      <td>2023-12-12</td>\n",
       "      <td>2</td>\n",
       "      <td>0.244161</td>\n",
       "    </tr>\n",
       "    <tr>\n",
       "      <th>131</th>\n",
       "      <td>CURVE 2</td>\n",
       "      <td>6.230530</td>\n",
       "      <td>10.0</td>\n",
       "      <td>Paclitaxel</td>\n",
       "      <td>500.0</td>\n",
       "      <td>WT</td>\n",
       "      <td>2023-12-12</td>\n",
       "      <td>2</td>\n",
       "      <td>0.026699</td>\n",
       "    </tr>\n",
       "  </tbody>\n",
       "</table>\n",
       "</div>"
      ],
      "text/plain": [
       "    Curve Name  Curve Length (um)  [Drug] ($\\mu$M)   Drug Type  [DCX] (nM)  \\\n",
       "2      CURVE 1          10.544506             10.0  Paclitaxel       500.0   \n",
       "5      CURVE 2          14.589281             10.0  Paclitaxel       500.0   \n",
       "8      CURVE 3          14.801374             10.0  Paclitaxel       500.0   \n",
       "11     CURVE 4          11.574313             10.0  Paclitaxel       500.0   \n",
       "14     CURVE 5           9.836784             10.0  Paclitaxel       500.0   \n",
       "17     CURVE 1          16.394800             10.0  Paclitaxel       500.0   \n",
       "20     CURVE 3          11.821795             10.0  Paclitaxel       500.0   \n",
       "23     CURVE 1          19.449787             10.0  Paclitaxel       500.0   \n",
       "26     CURVE 2           5.045669             10.0  Paclitaxel       500.0   \n",
       "29     CURVE 3          14.131694             10.0  Paclitaxel       500.0   \n",
       "32     CURVE 1          12.070302             10.0  Paclitaxel       500.0   \n",
       "35     CURVE 2          10.875737             10.0  Paclitaxel       500.0   \n",
       "38     CURVE 1          13.973230             10.0  Paclitaxel       500.0   \n",
       "41     CURVE 2          13.080257             10.0  Paclitaxel       500.0   \n",
       "44     CURVE 1           6.582923             10.0  Paclitaxel       500.0   \n",
       "47     CURVE 2           5.289420             10.0  Paclitaxel       500.0   \n",
       "50     CURVE 3           4.941830             10.0  Paclitaxel       500.0   \n",
       "53     CURVE 1           6.078194             10.0  Paclitaxel       500.0   \n",
       "56     CURVE 2           4.667058             10.0  Paclitaxel       500.0   \n",
       "59     CURVE 1           5.305425             10.0  Paclitaxel       500.0   \n",
       "62     CURVE 2           5.046634             10.0  Paclitaxel       500.0   \n",
       "65     CURVE 1           7.445086             10.0  Paclitaxel       500.0   \n",
       "68     CURVE 2           5.479361             10.0  Paclitaxel       500.0   \n",
       "71     CURVE 3           5.061707             10.0  Paclitaxel       500.0   \n",
       "74     CURVE 4           4.818494             10.0  Paclitaxel       500.0   \n",
       "77     CURVE 5           5.377305             10.0  Paclitaxel       500.0   \n",
       "80     CURVE 6           4.727677             10.0  Paclitaxel       500.0   \n",
       "83     CURVE 1           7.733125             10.0  Paclitaxel       500.0   \n",
       "86     CURVE 2           6.537283             10.0  Paclitaxel       500.0   \n",
       "89     CURVE 1           9.049052             10.0  Paclitaxel       500.0   \n",
       "92     CURVE 2           7.284641             10.0  Paclitaxel       500.0   \n",
       "95     CURVE 3          10.451647             10.0  Paclitaxel       500.0   \n",
       "98     CURVE 1           7.807083             10.0  Paclitaxel       500.0   \n",
       "101    CURVE 2           9.145865             10.0  Paclitaxel       500.0   \n",
       "104    CURVE 3           6.814893             10.0  Paclitaxel       500.0   \n",
       "107    CURVE 1           8.310060             10.0  Paclitaxel       500.0   \n",
       "110    CURVE 2           6.032938             10.0  Paclitaxel       500.0   \n",
       "113    CURVE 3           8.023004             10.0  Paclitaxel       500.0   \n",
       "116    CURVE 4           7.726061             10.0  Paclitaxel       500.0   \n",
       "119    CURVE 1           7.968813             10.0  Paclitaxel       500.0   \n",
       "122    CURVE 1           6.075509             10.0  Paclitaxel       500.0   \n",
       "125    CURVE 2           5.720080             10.0  Paclitaxel       500.0   \n",
       "128    CURVE 1           8.698247             10.0  Paclitaxel       500.0   \n",
       "131    CURVE 2           6.230530             10.0  Paclitaxel       500.0   \n",
       "\n",
       "    DCX Type        Date  CH  Expansion %  \n",
       "2      R178L  2023-06-22   1     0.450750  \n",
       "5      R178L  2023-06-22   1     0.269922  \n",
       "8      R178L  2023-06-22   1     0.424582  \n",
       "11     R178L  2023-06-22   1     0.633906  \n",
       "14     R178L  2023-06-22   1     0.066940  \n",
       "17     R178L  2023-06-22   2    -0.018447  \n",
       "20     R178L  2023-06-22   2    -0.023934  \n",
       "23      R89G  2023-11-10   1     0.753593  \n",
       "26      R89G  2023-11-10   1     0.651527  \n",
       "29      R89G  2023-11-10   1     0.915662  \n",
       "32      R89G  2023-11-10   3     1.297317  \n",
       "35      R89G  2023-11-10   3     0.090249  \n",
       "38      R89G  2023-11-10   4     0.696034  \n",
       "41      R89G  2023-11-10   4    -0.090784  \n",
       "44        WT  2023-11-20   1     0.164010  \n",
       "47        WT  2023-11-20   1     0.036555  \n",
       "50        WT  2023-11-20   1     0.431366  \n",
       "53        WT  2023-11-20   2    -0.065684  \n",
       "56        WT  2023-11-20   2     0.060920  \n",
       "59        WT  2023-11-20   3     0.241990  \n",
       "62        WT  2023-11-20   3    -0.033399  \n",
       "65        WT  2023-11-20   4    -0.011071  \n",
       "68        WT  2023-11-20   4     0.077447  \n",
       "71        WT  2023-11-20   4     0.014604  \n",
       "74        WT  2023-11-20   4    -0.067306  \n",
       "77        WT  2023-11-20   4     0.022097  \n",
       "80        WT  2023-11-20   4    -0.047439  \n",
       "83     R178L  2023-11-30   1     0.208652  \n",
       "86     R178L  2023-11-30   1    -0.003649  \n",
       "89      R89G  2023-12-01   1     0.220243  \n",
       "92      R89G  2023-12-01   1     0.473872  \n",
       "95      R89G  2023-12-01   1     0.446875  \n",
       "98      R89G  2023-12-01   2     0.031624  \n",
       "101     R89G  2023-12-01   2     0.666410  \n",
       "104     R89G  2023-12-01   2     0.082065  \n",
       "107       WT  2023-12-05   1     0.025492  \n",
       "110       WT  2023-12-05   1     0.036230  \n",
       "113       WT  2023-12-05   1     0.037663  \n",
       "116       WT  2023-12-05   1     0.001595  \n",
       "119       WT  2023-12-05   2     0.012327  \n",
       "122       WT  2023-12-12   1    -0.072971  \n",
       "125       WT  2023-12-12   1    -0.070944  \n",
       "128       WT  2023-12-12   2     0.244161  \n",
       "131       WT  2023-12-12   2     0.026699  "
      ]
     },
     "execution_count": 244,
     "metadata": {},
     "output_type": "execute_result"
    }
   ],
   "source": [
    "percent_expansion(plainData, taxData)\n",
    "percent_expansion(plainData, dcxData)"
   ]
  },
  {
   "cell_type": "code",
   "execution_count": 396,
   "metadata": {
    "tags": []
   },
   "outputs": [],
   "source": [
    "finalData = pd.concat([taxData, dcxData], ignore_index=True)\n",
    "# finalData = finalData.sort_values([drug,'CH','Curve Name',Type,DCXconc])\n",
    "finalData = finalData[finalData['Curve Length (um)'] > 5.5]"
   ]
  },
  {
   "cell_type": "code",
   "execution_count": 397,
   "metadata": {
    "tags": []
   },
   "outputs": [
    {
     "data": {
      "text/html": [
       "<div>\n",
       "<style scoped>\n",
       "    .dataframe tbody tr th:only-of-type {\n",
       "        vertical-align: middle;\n",
       "    }\n",
       "\n",
       "    .dataframe tbody tr th {\n",
       "        vertical-align: top;\n",
       "    }\n",
       "\n",
       "    .dataframe thead th {\n",
       "        text-align: right;\n",
       "    }\n",
       "</style>\n",
       "<table border=\"1\" class=\"dataframe\">\n",
       "  <thead>\n",
       "    <tr style=\"text-align: right;\">\n",
       "      <th></th>\n",
       "      <th>Curve Name</th>\n",
       "      <th>Curve Length (um)</th>\n",
       "      <th>[Drug] ($\\mu$M)</th>\n",
       "      <th>Drug Type</th>\n",
       "      <th>[DCX] (nM)</th>\n",
       "      <th>DCX Type</th>\n",
       "      <th>Date</th>\n",
       "      <th>CH</th>\n",
       "      <th>Expansion %</th>\n",
       "    </tr>\n",
       "  </thead>\n",
       "  <tbody>\n",
       "    <tr>\n",
       "      <th>0</th>\n",
       "      <td>CURVE 1</td>\n",
       "      <td>10.791002</td>\n",
       "      <td>10.0</td>\n",
       "      <td>Paclitaxel</td>\n",
       "      <td>0.0</td>\n",
       "      <td>None</td>\n",
       "      <td>2023-06-22</td>\n",
       "      <td>1</td>\n",
       "      <td>2.724724</td>\n",
       "    </tr>\n",
       "    <tr>\n",
       "      <th>1</th>\n",
       "      <td>CURVE 2</td>\n",
       "      <td>14.968765</td>\n",
       "      <td>10.0</td>\n",
       "      <td>Paclitaxel</td>\n",
       "      <td>0.0</td>\n",
       "      <td>None</td>\n",
       "      <td>2023-06-22</td>\n",
       "      <td>1</td>\n",
       "      <td>2.798253</td>\n",
       "    </tr>\n",
       "    <tr>\n",
       "      <th>2</th>\n",
       "      <td>CURVE 3</td>\n",
       "      <td>15.221201</td>\n",
       "      <td>10.0</td>\n",
       "      <td>Paclitaxel</td>\n",
       "      <td>0.0</td>\n",
       "      <td>None</td>\n",
       "      <td>2023-06-22</td>\n",
       "      <td>1</td>\n",
       "      <td>3.171042</td>\n",
       "    </tr>\n",
       "    <tr>\n",
       "      <th>3</th>\n",
       "      <td>CURVE 4</td>\n",
       "      <td>11.789268</td>\n",
       "      <td>10.0</td>\n",
       "      <td>Paclitaxel</td>\n",
       "      <td>0.0</td>\n",
       "      <td>None</td>\n",
       "      <td>2023-06-22</td>\n",
       "      <td>1</td>\n",
       "      <td>2.445658</td>\n",
       "    </tr>\n",
       "    <tr>\n",
       "      <th>4</th>\n",
       "      <td>CURVE 5</td>\n",
       "      <td>10.073687</td>\n",
       "      <td>10.0</td>\n",
       "      <td>Paclitaxel</td>\n",
       "      <td>0.0</td>\n",
       "      <td>None</td>\n",
       "      <td>2023-06-22</td>\n",
       "      <td>1</td>\n",
       "      <td>2.417072</td>\n",
       "    </tr>\n",
       "    <tr>\n",
       "      <th>...</th>\n",
       "      <td>...</td>\n",
       "      <td>...</td>\n",
       "      <td>...</td>\n",
       "      <td>...</td>\n",
       "      <td>...</td>\n",
       "      <td>...</td>\n",
       "      <td>...</td>\n",
       "      <td>...</td>\n",
       "      <td>...</td>\n",
       "    </tr>\n",
       "    <tr>\n",
       "      <th>83</th>\n",
       "      <td>CURVE 1</td>\n",
       "      <td>7.968813</td>\n",
       "      <td>10.0</td>\n",
       "      <td>Paclitaxel</td>\n",
       "      <td>500.0</td>\n",
       "      <td>WT</td>\n",
       "      <td>2023-12-05</td>\n",
       "      <td>2</td>\n",
       "      <td>0.012327</td>\n",
       "    </tr>\n",
       "    <tr>\n",
       "      <th>84</th>\n",
       "      <td>CURVE 1</td>\n",
       "      <td>6.075509</td>\n",
       "      <td>10.0</td>\n",
       "      <td>Paclitaxel</td>\n",
       "      <td>500.0</td>\n",
       "      <td>WT</td>\n",
       "      <td>2023-12-12</td>\n",
       "      <td>1</td>\n",
       "      <td>-0.072971</td>\n",
       "    </tr>\n",
       "    <tr>\n",
       "      <th>85</th>\n",
       "      <td>CURVE 2</td>\n",
       "      <td>5.720080</td>\n",
       "      <td>10.0</td>\n",
       "      <td>Paclitaxel</td>\n",
       "      <td>500.0</td>\n",
       "      <td>WT</td>\n",
       "      <td>2023-12-12</td>\n",
       "      <td>1</td>\n",
       "      <td>-0.070944</td>\n",
       "    </tr>\n",
       "    <tr>\n",
       "      <th>86</th>\n",
       "      <td>CURVE 1</td>\n",
       "      <td>8.698247</td>\n",
       "      <td>10.0</td>\n",
       "      <td>Paclitaxel</td>\n",
       "      <td>500.0</td>\n",
       "      <td>WT</td>\n",
       "      <td>2023-12-12</td>\n",
       "      <td>2</td>\n",
       "      <td>0.244161</td>\n",
       "    </tr>\n",
       "    <tr>\n",
       "      <th>87</th>\n",
       "      <td>CURVE 2</td>\n",
       "      <td>6.230530</td>\n",
       "      <td>10.0</td>\n",
       "      <td>Paclitaxel</td>\n",
       "      <td>500.0</td>\n",
       "      <td>WT</td>\n",
       "      <td>2023-12-12</td>\n",
       "      <td>2</td>\n",
       "      <td>0.026699</td>\n",
       "    </tr>\n",
       "  </tbody>\n",
       "</table>\n",
       "<p>67 rows × 9 columns</p>\n",
       "</div>"
      ],
      "text/plain": [
       "   Curve Name  Curve Length (um)  [Drug] ($\\mu$M)   Drug Type  [DCX] (nM)  \\\n",
       "0     CURVE 1          10.791002             10.0  Paclitaxel         0.0   \n",
       "1     CURVE 2          14.968765             10.0  Paclitaxel         0.0   \n",
       "2     CURVE 3          15.221201             10.0  Paclitaxel         0.0   \n",
       "3     CURVE 4          11.789268             10.0  Paclitaxel         0.0   \n",
       "4     CURVE 5          10.073687             10.0  Paclitaxel         0.0   \n",
       "..        ...                ...              ...         ...         ...   \n",
       "83    CURVE 1           7.968813             10.0  Paclitaxel       500.0   \n",
       "84    CURVE 1           6.075509             10.0  Paclitaxel       500.0   \n",
       "85    CURVE 2           5.720080             10.0  Paclitaxel       500.0   \n",
       "86    CURVE 1           8.698247             10.0  Paclitaxel       500.0   \n",
       "87    CURVE 2           6.230530             10.0  Paclitaxel       500.0   \n",
       "\n",
       "   DCX Type        Date  CH  Expansion %  \n",
       "0      None  2023-06-22   1     2.724724  \n",
       "1      None  2023-06-22   1     2.798253  \n",
       "2      None  2023-06-22   1     3.171042  \n",
       "3      None  2023-06-22   1     2.445658  \n",
       "4      None  2023-06-22   1     2.417072  \n",
       "..      ...         ...  ..          ...  \n",
       "83       WT  2023-12-05   2     0.012327  \n",
       "84       WT  2023-12-12   1    -0.072971  \n",
       "85       WT  2023-12-12   1    -0.070944  \n",
       "86       WT  2023-12-12   2     0.244161  \n",
       "87       WT  2023-12-12   2     0.026699  \n",
       "\n",
       "[67 rows x 9 columns]"
      ]
     },
     "execution_count": 397,
     "metadata": {},
     "output_type": "execute_result"
    }
   ],
   "source": [
    "finalData"
   ]
  },
  {
   "cell_type": "code",
   "execution_count": 398,
   "metadata": {
    "tags": []
   },
   "outputs": [],
   "source": [
    "finalData.to_csv(path/('expansion_plain_to_tax_dcx_data-analyzed_'+date_today +'_MasterSheet.csv'), encoding='utf-8', index=False)"
   ]
  },
  {
   "cell_type": "markdown",
   "metadata": {
    "tags": []
   },
   "source": [
    "## Load merged CSV ##"
   ]
  },
  {
   "cell_type": "code",
   "execution_count": 40,
   "metadata": {
    "tags": []
   },
   "outputs": [
    {
     "data": {
      "text/plain": [
       "(WindowsPath('C:/Users/sofia/OneDrive - McGill University/CurrBio2023/Sofia/Data/compaction-dcx/expansion_plain_to_ALLtax_dcx_data-analyzed_2024-03-27_MasterSheet.csv'),\n",
       " 'expansion_plain_to_ALLtax_dcx_data-analyzed_2024-03-27_MasterSheet')"
      ]
     },
     "execution_count": 40,
     "metadata": {},
     "output_type": "execute_result"
    }
   ],
   "source": [
    "askfile = filedialog.askopenfilename() # show an \"Open\" dialog box and return the path to the folder on ONE date you want to process\n",
    "filepath = Path(askfile)\n",
    "filename = filepath.stem\n",
    "filepath, filename"
   ]
  },
  {
   "cell_type": "code",
   "execution_count": 41,
   "metadata": {
    "tags": []
   },
   "outputs": [],
   "source": [
    "mydir= filepath.parents[0]"
   ]
  },
  {
   "cell_type": "code",
   "execution_count": 51,
   "metadata": {
    "tags": []
   },
   "outputs": [],
   "source": [
    "finalData = pd.read_csv(filepath, encoding='utf-8').fillna('None')\n",
    "finalData = finalData [finalData ['Curve Length (um)']> 5.5]"
   ]
  },
  {
   "cell_type": "code",
   "execution_count": 52,
   "metadata": {
    "tags": []
   },
   "outputs": [
    {
     "data": {
      "text/html": [
       "<div>\n",
       "<style scoped>\n",
       "    .dataframe tbody tr th:only-of-type {\n",
       "        vertical-align: middle;\n",
       "    }\n",
       "\n",
       "    .dataframe tbody tr th {\n",
       "        vertical-align: top;\n",
       "    }\n",
       "\n",
       "    .dataframe thead th {\n",
       "        text-align: right;\n",
       "    }\n",
       "</style>\n",
       "<table border=\"1\" class=\"dataframe\">\n",
       "  <thead>\n",
       "    <tr style=\"text-align: right;\">\n",
       "      <th></th>\n",
       "      <th></th>\n",
       "      <th>CH</th>\n",
       "      <th>Curve Length (um)</th>\n",
       "      <th>Curve Name</th>\n",
       "      <th>Date</th>\n",
       "      <th>Drug Type</th>\n",
       "      <th>Expansion %</th>\n",
       "      <th>[DCX] (nM)</th>\n",
       "    </tr>\n",
       "    <tr>\n",
       "      <th>DCX Type</th>\n",
       "      <th>[Drug] ($\\mu$M)</th>\n",
       "      <th></th>\n",
       "      <th></th>\n",
       "      <th></th>\n",
       "      <th></th>\n",
       "      <th></th>\n",
       "      <th></th>\n",
       "      <th></th>\n",
       "    </tr>\n",
       "  </thead>\n",
       "  <tbody>\n",
       "    <tr>\n",
       "      <th>Control</th>\n",
       "      <th>0.0</th>\n",
       "      <td>15</td>\n",
       "      <td>15</td>\n",
       "      <td>15</td>\n",
       "      <td>15</td>\n",
       "      <td>15</td>\n",
       "      <td>15</td>\n",
       "      <td>15</td>\n",
       "    </tr>\n",
       "    <tr>\n",
       "      <th rowspan=\"4\" valign=\"top\">None</th>\n",
       "      <th>0.1</th>\n",
       "      <td>12</td>\n",
       "      <td>12</td>\n",
       "      <td>12</td>\n",
       "      <td>12</td>\n",
       "      <td>12</td>\n",
       "      <td>12</td>\n",
       "      <td>12</td>\n",
       "    </tr>\n",
       "    <tr>\n",
       "      <th>0.3</th>\n",
       "      <td>10</td>\n",
       "      <td>10</td>\n",
       "      <td>10</td>\n",
       "      <td>10</td>\n",
       "      <td>10</td>\n",
       "      <td>10</td>\n",
       "      <td>10</td>\n",
       "    </tr>\n",
       "    <tr>\n",
       "      <th>1.0</th>\n",
       "      <td>8</td>\n",
       "      <td>8</td>\n",
       "      <td>8</td>\n",
       "      <td>8</td>\n",
       "      <td>8</td>\n",
       "      <td>8</td>\n",
       "      <td>8</td>\n",
       "    </tr>\n",
       "    <tr>\n",
       "      <th>10.0</th>\n",
       "      <td>44</td>\n",
       "      <td>44</td>\n",
       "      <td>44</td>\n",
       "      <td>44</td>\n",
       "      <td>44</td>\n",
       "      <td>44</td>\n",
       "      <td>44</td>\n",
       "    </tr>\n",
       "    <tr>\n",
       "      <th>R178L</th>\n",
       "      <th>10.0</th>\n",
       "      <td>9</td>\n",
       "      <td>9</td>\n",
       "      <td>9</td>\n",
       "      <td>9</td>\n",
       "      <td>9</td>\n",
       "      <td>9</td>\n",
       "      <td>9</td>\n",
       "    </tr>\n",
       "    <tr>\n",
       "      <th>R89G</th>\n",
       "      <th>10.0</th>\n",
       "      <td>12</td>\n",
       "      <td>12</td>\n",
       "      <td>12</td>\n",
       "      <td>12</td>\n",
       "      <td>12</td>\n",
       "      <td>12</td>\n",
       "      <td>12</td>\n",
       "    </tr>\n",
       "    <tr>\n",
       "      <th>WT</th>\n",
       "      <th>10.0</th>\n",
       "      <td>12</td>\n",
       "      <td>12</td>\n",
       "      <td>12</td>\n",
       "      <td>12</td>\n",
       "      <td>12</td>\n",
       "      <td>12</td>\n",
       "      <td>12</td>\n",
       "    </tr>\n",
       "  </tbody>\n",
       "</table>\n",
       "</div>"
      ],
      "text/plain": [
       "                          CH  Curve Length (um)  Curve Name  Date  Drug Type  \\\n",
       "DCX Type [Drug] ($\\mu$M)                                                       \n",
       "Control  0.0              15                 15          15    15         15   \n",
       "None     0.1              12                 12          12    12         12   \n",
       "         0.3              10                 10          10    10         10   \n",
       "         1.0               8                  8           8     8          8   \n",
       "         10.0             44                 44          44    44         44   \n",
       "R178L    10.0              9                  9           9     9          9   \n",
       "R89G     10.0             12                 12          12    12         12   \n",
       "WT       10.0             12                 12          12    12         12   \n",
       "\n",
       "                          Expansion %  [DCX] (nM)  \n",
       "DCX Type [Drug] ($\\mu$M)                           \n",
       "Control  0.0                       15          15  \n",
       "None     0.1                       12          12  \n",
       "         0.3                       10          10  \n",
       "         1.0                        8           8  \n",
       "         10.0                      44          44  \n",
       "R178L    10.0                       9           9  \n",
       "R89G     10.0                      12          12  \n",
       "WT       10.0                      12          12  "
      ]
     },
     "execution_count": 52,
     "metadata": {},
     "output_type": "execute_result"
    }
   ],
   "source": [
    "finalData.groupby(['DCX Type',drug]).count()"
   ]
  },
  {
   "cell_type": "code",
   "execution_count": 45,
   "metadata": {
    "tags": []
   },
   "outputs": [
    {
     "data": {
      "text/plain": [
       "2.608695652173909"
      ]
     },
     "execution_count": 45,
     "metadata": {},
     "output_type": "execute_result"
    }
   ],
   "source": [
    "nogales2018 = (1- 81.76/83.95)*100\n",
    "nogales2018"
   ]
  },
  {
   "cell_type": "code",
   "execution_count": 46,
   "metadata": {
    "tags": []
   },
   "outputs": [
    {
     "data": {
      "text/plain": [
       "(0.3667481662591676, 0.9720534629404587)"
      ]
     },
     "execution_count": 46,
     "metadata": {},
     "output_type": "execute_result"
    }
   ],
   "source": [
    "TAXnogales2017preformed = (1- 81.5/81.8)*100\n",
    "TAXnogales2017copoly = (1- 81.5/82.3)*100\n",
    "TAXnogales2017preformed , TAXnogales2017copoly\n"
   ]
  },
  {
   "cell_type": "code",
   "execution_count": 47,
   "metadata": {
    "tags": []
   },
   "outputs": [],
   "source": [
    "#### LAFRANCE expansion\n",
    "mean_exp = 2.38\n",
    "sd_exp = 0.58\n",
    "sem_exp = 0.21"
   ]
  },
  {
   "cell_type": "code",
   "execution_count": 48,
   "metadata": {
    "tags": []
   },
   "outputs": [],
   "source": [
    "# finalData = finalData[(finalData['Date'] != '2023-11-20') & (finalData['Date'] != '2023-11-10') ]"
   ]
  },
  {
   "cell_type": "code",
   "execution_count": 14,
   "metadata": {
    "tags": []
   },
   "outputs": [],
   "source": [
    "Mut = ['WT','R89G','R178L']\n",
    "dcx_palette = [green,pink,orange]\n"
   ]
  },
  {
   "cell_type": "code",
   "execution_count": 15,
   "metadata": {
    "tags": []
   },
   "outputs": [
    {
     "data": {
      "text/html": [
       "<div>\n",
       "<style scoped>\n",
       "    .dataframe tbody tr th:only-of-type {\n",
       "        vertical-align: middle;\n",
       "    }\n",
       "\n",
       "    .dataframe tbody tr th {\n",
       "        vertical-align: top;\n",
       "    }\n",
       "\n",
       "    .dataframe thead th {\n",
       "        text-align: right;\n",
       "    }\n",
       "</style>\n",
       "<table border=\"1\" class=\"dataframe\">\n",
       "  <thead>\n",
       "    <tr style=\"text-align: right;\">\n",
       "      <th></th>\n",
       "      <th>CH</th>\n",
       "      <th>Curve Length (um)</th>\n",
       "      <th>Curve Name</th>\n",
       "      <th>DCX Type</th>\n",
       "      <th>Date</th>\n",
       "      <th>Drug Type</th>\n",
       "      <th>Expansion %</th>\n",
       "      <th>[DCX] (nM)</th>\n",
       "      <th>[Drug] ($\\mu$M)</th>\n",
       "    </tr>\n",
       "  </thead>\n",
       "  <tbody>\n",
       "    <tr>\n",
       "      <th>0</th>\n",
       "      <td>1.0</td>\n",
       "      <td>10.791002</td>\n",
       "      <td>CURVE 1</td>\n",
       "      <td>None</td>\n",
       "      <td>2023-06-22</td>\n",
       "      <td>Paclitaxel</td>\n",
       "      <td>2.724724</td>\n",
       "      <td>0.0</td>\n",
       "      <td>10.0</td>\n",
       "    </tr>\n",
       "    <tr>\n",
       "      <th>1</th>\n",
       "      <td>1.0</td>\n",
       "      <td>14.968765</td>\n",
       "      <td>CURVE 2</td>\n",
       "      <td>None</td>\n",
       "      <td>2023-06-22</td>\n",
       "      <td>Paclitaxel</td>\n",
       "      <td>2.798253</td>\n",
       "      <td>0.0</td>\n",
       "      <td>10.0</td>\n",
       "    </tr>\n",
       "    <tr>\n",
       "      <th>2</th>\n",
       "      <td>1.0</td>\n",
       "      <td>15.221201</td>\n",
       "      <td>CURVE 3</td>\n",
       "      <td>None</td>\n",
       "      <td>2023-06-22</td>\n",
       "      <td>Paclitaxel</td>\n",
       "      <td>3.171042</td>\n",
       "      <td>0.0</td>\n",
       "      <td>10.0</td>\n",
       "    </tr>\n",
       "    <tr>\n",
       "      <th>3</th>\n",
       "      <td>1.0</td>\n",
       "      <td>11.789268</td>\n",
       "      <td>CURVE 4</td>\n",
       "      <td>None</td>\n",
       "      <td>2023-06-22</td>\n",
       "      <td>Paclitaxel</td>\n",
       "      <td>2.445658</td>\n",
       "      <td>0.0</td>\n",
       "      <td>10.0</td>\n",
       "    </tr>\n",
       "    <tr>\n",
       "      <th>4</th>\n",
       "      <td>1.0</td>\n",
       "      <td>10.073687</td>\n",
       "      <td>CURVE 5</td>\n",
       "      <td>None</td>\n",
       "      <td>2023-06-22</td>\n",
       "      <td>Paclitaxel</td>\n",
       "      <td>2.417072</td>\n",
       "      <td>0.0</td>\n",
       "      <td>10.0</td>\n",
       "    </tr>\n",
       "    <tr>\n",
       "      <th>...</th>\n",
       "      <td>...</td>\n",
       "      <td>...</td>\n",
       "      <td>...</td>\n",
       "      <td>...</td>\n",
       "      <td>...</td>\n",
       "      <td>...</td>\n",
       "      <td>...</td>\n",
       "      <td>...</td>\n",
       "      <td>...</td>\n",
       "    </tr>\n",
       "    <tr>\n",
       "      <th>134</th>\n",
       "      <td>None</td>\n",
       "      <td>None</td>\n",
       "      <td>None</td>\n",
       "      <td>None</td>\n",
       "      <td>None</td>\n",
       "      <td>None</td>\n",
       "      <td>None</td>\n",
       "      <td>None</td>\n",
       "      <td>None</td>\n",
       "    </tr>\n",
       "    <tr>\n",
       "      <th>135</th>\n",
       "      <td>None</td>\n",
       "      <td>None</td>\n",
       "      <td>None</td>\n",
       "      <td>None</td>\n",
       "      <td>None</td>\n",
       "      <td>None</td>\n",
       "      <td>None</td>\n",
       "      <td>None</td>\n",
       "      <td>None</td>\n",
       "    </tr>\n",
       "    <tr>\n",
       "      <th>136</th>\n",
       "      <td>None</td>\n",
       "      <td>None</td>\n",
       "      <td>None</td>\n",
       "      <td>None</td>\n",
       "      <td>None</td>\n",
       "      <td>None</td>\n",
       "      <td>None</td>\n",
       "      <td>None</td>\n",
       "      <td>None</td>\n",
       "    </tr>\n",
       "    <tr>\n",
       "      <th>137</th>\n",
       "      <td>None</td>\n",
       "      <td>None</td>\n",
       "      <td>None</td>\n",
       "      <td>None</td>\n",
       "      <td>None</td>\n",
       "      <td>None</td>\n",
       "      <td>None</td>\n",
       "      <td>None</td>\n",
       "      <td>None</td>\n",
       "    </tr>\n",
       "    <tr>\n",
       "      <th>138</th>\n",
       "      <td>None</td>\n",
       "      <td>None</td>\n",
       "      <td>None</td>\n",
       "      <td>None</td>\n",
       "      <td>None</td>\n",
       "      <td>None</td>\n",
       "      <td>None</td>\n",
       "      <td>None</td>\n",
       "      <td>None</td>\n",
       "    </tr>\n",
       "  </tbody>\n",
       "</table>\n",
       "<p>88 rows × 9 columns</p>\n",
       "</div>"
      ],
      "text/plain": [
       "       CH Curve Length (um) Curve Name DCX Type        Date   Drug Type  \\\n",
       "0     1.0         10.791002    CURVE 1     None  2023-06-22  Paclitaxel   \n",
       "1     1.0         14.968765    CURVE 2     None  2023-06-22  Paclitaxel   \n",
       "2     1.0         15.221201    CURVE 3     None  2023-06-22  Paclitaxel   \n",
       "3     1.0         11.789268    CURVE 4     None  2023-06-22  Paclitaxel   \n",
       "4     1.0         10.073687    CURVE 5     None  2023-06-22  Paclitaxel   \n",
       "..    ...               ...        ...      ...         ...         ...   \n",
       "134  None              None       None     None        None        None   \n",
       "135  None              None       None     None        None        None   \n",
       "136  None              None       None     None        None        None   \n",
       "137  None              None       None     None        None        None   \n",
       "138  None              None       None     None        None        None   \n",
       "\n",
       "    Expansion % [DCX] (nM) [Drug] ($\\mu$M)  \n",
       "0      2.724724        0.0            10.0  \n",
       "1      2.798253        0.0            10.0  \n",
       "2      3.171042        0.0            10.0  \n",
       "3      2.445658        0.0            10.0  \n",
       "4      2.417072        0.0            10.0  \n",
       "..          ...        ...             ...  \n",
       "134        None       None            None  \n",
       "135        None       None            None  \n",
       "136        None       None            None  \n",
       "137        None       None            None  \n",
       "138        None       None            None  \n",
       "\n",
       "[88 rows x 9 columns]"
      ]
     },
     "execution_count": 15,
     "metadata": {},
     "output_type": "execute_result"
    }
   ],
   "source": [
    "finalData[(finalData['DCX Type']=='None') | (finalData['DCX Type']=='WT') | (finalData['DCX Type']==Mut[0])| (finalData[drug]==0)]"
   ]
  },
  {
   "cell_type": "code",
   "execution_count": 57,
   "metadata": {
    "tags": []
   },
   "outputs": [
    {
     "data": {
      "image/png": "[encoded data removed]",
      "text/plain": [
       "<Figure size 1650x600 with 3 Axes>"
      ]
     },
     "metadata": {},
     "output_type": "display_data"
    }
   ],
   "source": [
    "x0 = np.arange(-0.3, 2.5, 0.05)\n",
    "\n",
    "fig, ax = plt.subplots(1,3,figsize=(16.5,6))\n",
    "\n",
    "for i in np.arange(len(ax)):\n",
    "\n",
    "    DCXdata = finalData[((finalData['DCX Type']=='None') & (finalData[drug]==10))| (finalData['DCX Type']=='WT') | (finalData['DCX Type']==Mut[i])| (finalData[drug]==0)]\n",
    "\n",
    "    sns.boxplot(x=Type, y='Expansion %', data=DCXdata, whis=np.inf, color=dcx_palette[i],linewidth=3, ax=ax[i])\n",
    "    sns.stripplot(x=Type, y='Expansion %', data=DCXdata, size=7, ax=ax[i], color=\".2\")\n",
    "                  #, hue = 'Curve Length (um)', palette = 'flare') #, color=\".2\") #, hue = 'Curve Length (um)')\n",
    "\n",
    "    ax[i].axhline(y = mean_exp, color = cyan ,linestyle=\"--\", linewidth=4,alpha = 0.3) \n",
    "    ax[i].fill_between(x0, mean_exp - sem_exp, mean_exp + sem_exp, facecolor=cyan, alpha=0.1)\n",
    "\n",
    "    ax[i].set_ylim(-0.2,4)\n",
    "    ax[i].spines['left'].set_lw(5)\n",
    "    ax[i].spines['bottom'].set_lw(5)\n",
    "    ax[i].tick_params(axis='both', width = 3.5, length = 7)\n",
    "    \n",
    "    #ax[i].legend([])\n",
    "\n",
    "\n",
    "sns.set_style(\"ticks\")\n",
    "sns.despine()\n",
    "\n",
    "sns.set_context(\"poster\", font_scale=1, rc={\"lines.linewidth\":3.0})\n",
    "\n",
    "sns.set_style({'font.family':'Helvetica Neue LT Std', 'font.serif':'Helvetica Neue LT Std'})\n",
    "\n",
    "plt.tight_layout()\n",
    "\n",
    "\n",
    "#plt.savefig(mydir/('compaction_Wcontrol'+date_today+'.pdf'))\n",
    "# plt.savefig(path/('compaction_'+date_today+'.png'))"
   ]
  },
  {
   "cell_type": "code",
   "execution_count": 58,
   "metadata": {
    "tags": []
   },
   "outputs": [
    {
     "data": {
      "image/png": "[encoded data removed]",
      "text/plain": [
       "<Figure size 1650x600 with 3 Axes>"
      ]
     },
     "metadata": {},
     "output_type": "display_data"
    }
   ],
   "source": [
    "x0 = np.arange(-0.3, 2.5, 0.05)\n",
    "\n",
    "fig, ax = plt.subplots(1,3,figsize=(16.5,6))\n",
    "\n",
    "for i in np.arange(len(ax)):\n",
    "\n",
    "    DCXdata = finalData[((finalData['DCX Type']=='None') & (finalData[drug]==10))| (finalData['DCX Type']=='WT') | (finalData['DCX Type']==Mut[i])]\n",
    "\n",
    "    sns.boxplot(x=Type, y='Expansion %', data=DCXdata, whis=np.inf, color=dcx_palette[i],linewidth=3, ax=ax[i])\n",
    "    sns.swarmplot(x=Type, y='Expansion %', data=DCXdata, size=7, ax=ax[i], color=\".2\")\n",
    "                  #, hue = 'Curve Length (um)', palette = 'flare') #, color=\".2\") #, hue = 'Curve Length (um)')\n",
    "\n",
    "    ax[i].axhline(y = mean_exp, color = cyan ,linestyle=\"--\", linewidth=4,alpha = 0.3) \n",
    "    ax[i].fill_between(x0, mean_exp - sem_exp, mean_exp + sem_exp, facecolor=cyan, alpha=0.1)\n",
    "\n",
    "    ax[i].set_ylim(-0.2,4)\n",
    "    ax[i].spines['left'].set_lw(5)\n",
    "    ax[i].spines['bottom'].set_lw(5)\n",
    "    ax[i].tick_params(axis='both', width = 3.5, length = 7)\n",
    "    \n",
    "    #ax[i].legend([])\n",
    "\n",
    "\n",
    "sns.set_style(\"ticks\")\n",
    "sns.despine()\n",
    "\n",
    "sns.set_context(\"poster\", font_scale=1, rc={\"lines.linewidth\":3.0})\n",
    "\n",
    "sns.set_style({'font.family':'Helvetica Neue LT Std', 'font.serif':'Helvetica Neue LT Std'})\n",
    "\n",
    "plt.tight_layout()\n",
    "\n",
    "\n",
    "plt.savefig(mydir/('compaction_WOcontrol'+date_today+'.pdf'))\n",
    "# plt.savefig(path/('compaction_'+date_today+'.png'))"
   ]
  },
  {
   "cell_type": "raw",
   "metadata": {},
   "source": [
    "Symbol  Meaning\n",
    "\n",
    "ns  P > 0.05\n",
    "\n",
    "*  P ≤ 0.05\n",
    "\n",
    "**  P ≤ 0.01\n",
    "\n",
    "***  P ≤ 0.001\n",
    "\n",
    "****  P ≤ 0.0001 (For the last two choices only)"
   ]
  },
  {
   "cell_type": "code",
   "execution_count": 59,
   "metadata": {
    "tags": []
   },
   "outputs": [],
   "source": [
    "none_exp = finalData[ (finalData['DCX Type']=='None') ]['Expansion %'].values\n",
    "wt_compact = finalData[ (finalData['DCX Type']=='WT') ]['Expansion %'].values\n",
    "r89g_compact = finalData[ (finalData['DCX Type']=='R89G') ]['Expansion %'].values\n",
    "r178l_compact = finalData[ (finalData['DCX Type']=='R178L') ]['Expansion %'].values"
   ]
  },
  {
   "cell_type": "code",
   "execution_count": 60,
   "metadata": {
    "tags": []
   },
   "outputs": [
    {
     "data": {
      "text/plain": [
       "array([2.72472406, 2.79825319, 3.17104161, 2.44565763, 2.41707174,\n",
       "       1.98135213, 2.36591863, 1.87962304, 2.3780591 , 1.84874922,\n",
       "       2.31932458, 2.43743378, 2.37527391, 1.46468196, 2.53969288,\n",
       "       1.24318484, 1.45814368, 2.42959739, 1.83775845, 1.86276895,\n",
       "       1.43662013, 1.68842484, 2.43414643, 2.21528414, 1.52397311,\n",
       "       2.2785084 , 2.41885083, 2.22998987, 2.56387059, 2.18447597,\n",
       "       2.15681889, 1.72221899, 1.51087941, 2.15097107, 2.53087917,\n",
       "       3.16234111, 2.8266461 , 2.21607855, 2.74879367, 1.7573134 ,\n",
       "       3.2680745 , 3.7052511 , 3.67479871, 2.81807659, 0.02714314,\n",
       "       0.28846871, 0.11429395, 0.06321428, 0.19391013, 0.40701703,\n",
       "       0.16848597, 0.04330519, 0.19057897, 0.33121005, 0.21202513,\n",
       "       0.1373974 , 1.5636467 , 1.51515384, 1.07694574, 0.53887493,\n",
       "       0.89992613, 1.08177195, 0.34265545, 0.44077631, 2.24537496,\n",
       "       0.82371904, 2.03950845, 2.99001293, 2.68193127, 3.22719762,\n",
       "       2.67528763, 2.7235165 , 2.19068536, 2.04271698])"
      ]
     },
     "execution_count": 60,
     "metadata": {},
     "output_type": "execute_result"
    }
   ],
   "source": [
    "none_exp"
   ]
  },
  {
   "cell_type": "code",
   "execution_count": 61,
   "metadata": {
    "tags": []
   },
   "outputs": [
    {
     "data": {
      "text/plain": [
       "TtestResult(statistic=-3.5458851935462237, pvalue=0.001987650425800098, df=12.105908779618403)"
      ]
     },
     "execution_count": 61,
     "metadata": {},
     "output_type": "execute_result"
    }
   ],
   "source": [
    "sp.stats.ttest_ind(wt_compact, r89g_compact, axis=0, equal_var=False,alternative = \"less\") #one star"
   ]
  },
  {
   "cell_type": "code",
   "execution_count": 15,
   "metadata": {
    "tags": []
   },
   "outputs": [
    {
     "data": {
      "text/plain": [
       "TtestResult(statistic=-2.324315161301438, pvalue=0.021415342105999793, df=9.849106997948992)"
      ]
     },
     "execution_count": 15,
     "metadata": {},
     "output_type": "execute_result"
    }
   ],
   "source": [
    "sp.stats.ttest_ind(wt_compact, r178l_compact, axis=0, equal_var=False,alternative = \"less\") #n.s."
   ]
  },
  {
   "cell_type": "code",
   "execution_count": 16,
   "metadata": {
    "tags": []
   },
   "outputs": [
    {
     "data": {
      "text/plain": [
       "TtestResult(statistic=1.6746221470625993, pvalue=0.11129071300079323, df=18.00396446142569)"
      ]
     },
     "execution_count": 16,
     "metadata": {},
     "output_type": "execute_result"
    }
   ],
   "source": [
    "sp.stats.ttest_ind(r89g_compact, r178l_compact , axis=0, equal_var=False,alternative = \"two-sided\")"
   ]
  },
  {
   "cell_type": "code",
   "execution_count": 43,
   "metadata": {},
   "outputs": [],
   "source": [
    "def median_quantiles(joindata):\n",
    "    expdata = joindata[['DCX Type','Expansion %']]\n",
    "    medianexp = expdata.groupby('DCX Type').quantile([0.5])\n",
    "    Q25data = expdata.groupby('DCX Type').quantile([0.25])\n",
    "    Q75data = expdata.groupby('DCX Type').quantile([0.75])\n",
    "    return pd.concat([medianexp.reset_index(), Q25data.reset_index(), Q75data.reset_index()], axis=1)"
   ]
  },
  {
   "cell_type": "code",
   "execution_count": 44,
   "metadata": {},
   "outputs": [
    {
     "data": {
      "text/html": [
       "<div>\n",
       "<style scoped>\n",
       "    .dataframe tbody tr th:only-of-type {\n",
       "        vertical-align: middle;\n",
       "    }\n",
       "\n",
       "    .dataframe tbody tr th {\n",
       "        vertical-align: top;\n",
       "    }\n",
       "\n",
       "    .dataframe thead th {\n",
       "        text-align: right;\n",
       "    }\n",
       "</style>\n",
       "<table border=\"1\" class=\"dataframe\">\n",
       "  <thead>\n",
       "    <tr style=\"text-align: right;\">\n",
       "      <th></th>\n",
       "      <th>DCX Type</th>\n",
       "      <th>level_1</th>\n",
       "      <th>Expansion %</th>\n",
       "      <th>DCX Type</th>\n",
       "      <th>level_1</th>\n",
       "      <th>Expansion %</th>\n",
       "      <th>DCX Type</th>\n",
       "      <th>level_1</th>\n",
       "      <th>Expansion %</th>\n",
       "    </tr>\n",
       "  </thead>\n",
       "  <tbody>\n",
       "    <tr>\n",
       "      <th>0</th>\n",
       "      <td>None</td>\n",
       "      <td>0.5</td>\n",
       "      <td>2.222637</td>\n",
       "      <td>None</td>\n",
       "      <td>0.25</td>\n",
       "      <td>1.840506</td>\n",
       "      <td>None</td>\n",
       "      <td>0.75</td>\n",
       "      <td>2.426911</td>\n",
       "    </tr>\n",
       "    <tr>\n",
       "      <th>1</th>\n",
       "      <td>R178L</td>\n",
       "      <td>0.5</td>\n",
       "      <td>0.208652</td>\n",
       "      <td>R178L</td>\n",
       "      <td>0.25</td>\n",
       "      <td>-0.003649</td>\n",
       "      <td>R178L</td>\n",
       "      <td>0.75</td>\n",
       "      <td>0.424582</td>\n",
       "    </tr>\n",
       "    <tr>\n",
       "      <th>2</th>\n",
       "      <td>R89G</td>\n",
       "      <td>0.5</td>\n",
       "      <td>0.460374</td>\n",
       "      <td>R89G</td>\n",
       "      <td>0.25</td>\n",
       "      <td>0.088203</td>\n",
       "      <td>R89G</td>\n",
       "      <td>0.75</td>\n",
       "      <td>0.710424</td>\n",
       "    </tr>\n",
       "    <tr>\n",
       "      <th>3</th>\n",
       "      <td>WT</td>\n",
       "      <td>0.5</td>\n",
       "      <td>0.018909</td>\n",
       "      <td>WT</td>\n",
       "      <td>0.25</td>\n",
       "      <td>-0.024724</td>\n",
       "      <td>WT</td>\n",
       "      <td>0.75</td>\n",
       "      <td>0.036588</td>\n",
       "    </tr>\n",
       "  </tbody>\n",
       "</table>\n",
       "</div>"
      ],
      "text/plain": [
       "  DCX Type  level_1  Expansion % DCX Type  level_1  Expansion % DCX Type  \\\n",
       "0     None      0.5     2.222637     None     0.25     1.840506     None   \n",
       "1    R178L      0.5     0.208652    R178L     0.25    -0.003649    R178L   \n",
       "2     R89G      0.5     0.460374     R89G     0.25     0.088203     R89G   \n",
       "3       WT      0.5     0.018909       WT     0.25    -0.024724       WT   \n",
       "\n",
       "   level_1  Expansion %  \n",
       "0     0.75     2.426911  \n",
       "1     0.75     0.424582  \n",
       "2     0.75     0.710424  \n",
       "3     0.75     0.036588  "
      ]
     },
     "execution_count": 44,
     "metadata": {},
     "output_type": "execute_result"
    }
   ],
   "source": [
    "median_quantiles(joindata)"
   ]
  },
  {
   "cell_type": "code",
   "execution_count": 38,
   "metadata": {
    "tags": []
   },
   "outputs": [],
   "source": [
    "def mean_sd(joindata, dcxname, drugconc):\n",
    "    expdata = joindata[(joindata[Type] == dcxname) & (joindata[drug] == drugconc)][[Type,'Expansion %']]\n",
    "    meandata = expdata.groupby([Type]).mean()\n",
    "    stddata = expdata.groupby([Type]).sem()\n",
    "    ncount = expdata.groupby([Type]).count()\n",
    "    x = meandata.index.values\n",
    "    y = meandata['Expansion %'].values\n",
    "    yerr = stddata['Expansion %'].values\n",
    "    n = ncount['Expansion %'].values\n",
    "    \n",
    "    data = {Type : dcxname,\n",
    "        drug: x,\n",
    "        'Mean Expansion %': y,\n",
    "         'SEM Expansion %': yerr,\n",
    "            'n': n\n",
    "           }\n",
    "    \n",
    "    df = pd.DataFrame(data)\n",
    "\n",
    "    return df"
   ]
  },
  {
   "cell_type": "code",
   "execution_count": 41,
   "metadata": {
    "tags": []
   },
   "outputs": [
    {
     "data": {
      "text/html": [
       "<div>\n",
       "<style scoped>\n",
       "    .dataframe tbody tr th:only-of-type {\n",
       "        vertical-align: middle;\n",
       "    }\n",
       "\n",
       "    .dataframe tbody tr th {\n",
       "        vertical-align: top;\n",
       "    }\n",
       "\n",
       "    .dataframe thead th {\n",
       "        text-align: right;\n",
       "    }\n",
       "</style>\n",
       "<table border=\"1\" class=\"dataframe\">\n",
       "  <thead>\n",
       "    <tr style=\"text-align: right;\">\n",
       "      <th></th>\n",
       "      <th>DCX Type</th>\n",
       "      <th>[Drug] ($\\mu$M)</th>\n",
       "      <th>Mean Expansion %</th>\n",
       "      <th>SEM Expansion %</th>\n",
       "      <th>n</th>\n",
       "    </tr>\n",
       "  </thead>\n",
       "  <tbody>\n",
       "    <tr>\n",
       "      <th>0</th>\n",
       "      <td>WT</td>\n",
       "      <td>WT</td>\n",
       "      <td>0.027292</td>\n",
       "      <td>0.027055</td>\n",
       "      <td>12</td>\n",
       "    </tr>\n",
       "  </tbody>\n",
       "</table>\n",
       "</div>"
      ],
      "text/plain": [
       "  DCX Type [Drug] ($\\mu$M)  Mean Expansion %  SEM Expansion %   n\n",
       "0       WT              WT          0.027292         0.027055  12"
      ]
     },
     "execution_count": 41,
     "metadata": {},
     "output_type": "execute_result"
    }
   ],
   "source": [
    "mean_sd(finalData, 'WT',10)"
   ]
  },
  {
   "cell_type": "code",
   "execution_count": 40,
   "metadata": {
    "tags": []
   },
   "outputs": [
    {
     "data": {
      "text/html": [
       "<div>\n",
       "<style scoped>\n",
       "    .dataframe tbody tr th:only-of-type {\n",
       "        vertical-align: middle;\n",
       "    }\n",
       "\n",
       "    .dataframe tbody tr th {\n",
       "        vertical-align: top;\n",
       "    }\n",
       "\n",
       "    .dataframe thead th {\n",
       "        text-align: right;\n",
       "    }\n",
       "</style>\n",
       "<table border=\"1\" class=\"dataframe\">\n",
       "  <thead>\n",
       "    <tr style=\"text-align: right;\">\n",
       "      <th></th>\n",
       "      <th>DCX Type</th>\n",
       "      <th>[Drug] ($\\mu$M)</th>\n",
       "      <th>Mean Expansion %</th>\n",
       "      <th>SEM Expansion %</th>\n",
       "      <th>n</th>\n",
       "    </tr>\n",
       "  </thead>\n",
       "  <tbody>\n",
       "    <tr>\n",
       "      <th>0</th>\n",
       "      <td>Control</td>\n",
       "      <td>Control</td>\n",
       "      <td>-0.005661</td>\n",
       "      <td>0.007015</td>\n",
       "      <td>15</td>\n",
       "    </tr>\n",
       "  </tbody>\n",
       "</table>\n",
       "</div>"
      ],
      "text/plain": [
       "  DCX Type [Drug] ($\\mu$M)  Mean Expansion %  SEM Expansion %   n\n",
       "0  Control         Control         -0.005661         0.007015  15"
      ]
     },
     "execution_count": 40,
     "metadata": {},
     "output_type": "execute_result"
    }
   ],
   "source": [
    "mean_sd(finalData, 'Control', 0)"
   ]
  },
  {
   "cell_type": "code",
   "execution_count": 42,
   "metadata": {
    "tags": []
   },
   "outputs": [
    {
     "data": {
      "text/html": [
       "<div>\n",
       "<style scoped>\n",
       "    .dataframe tbody tr th:only-of-type {\n",
       "        vertical-align: middle;\n",
       "    }\n",
       "\n",
       "    .dataframe tbody tr th {\n",
       "        vertical-align: top;\n",
       "    }\n",
       "\n",
       "    .dataframe thead th {\n",
       "        text-align: right;\n",
       "    }\n",
       "</style>\n",
       "<table border=\"1\" class=\"dataframe\">\n",
       "  <thead>\n",
       "    <tr style=\"text-align: right;\">\n",
       "      <th></th>\n",
       "      <th>DCX Type</th>\n",
       "      <th>[Drug] ($\\mu$M)</th>\n",
       "      <th>Mean Expansion %</th>\n",
       "      <th>SEM Expansion %</th>\n",
       "      <th>n</th>\n",
       "    </tr>\n",
       "  </thead>\n",
       "  <tbody>\n",
       "    <tr>\n",
       "      <th>0</th>\n",
       "      <td>None</td>\n",
       "      <td>None</td>\n",
       "      <td>2.300036</td>\n",
       "      <td>0.086749</td>\n",
       "      <td>44</td>\n",
       "    </tr>\n",
       "  </tbody>\n",
       "</table>\n",
       "</div>"
      ],
      "text/plain": [
       "  DCX Type [Drug] ($\\mu$M)  Mean Expansion %  SEM Expansion %   n\n",
       "0     None            None          2.300036         0.086749  44"
      ]
     },
     "execution_count": 42,
     "metadata": {},
     "output_type": "execute_result"
    }
   ],
   "source": [
    "mean_sd(finalData, 'None', 10)"
   ]
  },
  {
   "cell_type": "code",
   "execution_count": 44,
   "metadata": {
    "tags": []
   },
   "outputs": [
    {
     "data": {
      "text/html": [
       "<div>\n",
       "<style scoped>\n",
       "    .dataframe tbody tr th:only-of-type {\n",
       "        vertical-align: middle;\n",
       "    }\n",
       "\n",
       "    .dataframe tbody tr th {\n",
       "        vertical-align: top;\n",
       "    }\n",
       "\n",
       "    .dataframe thead th {\n",
       "        text-align: right;\n",
       "    }\n",
       "</style>\n",
       "<table border=\"1\" class=\"dataframe\">\n",
       "  <thead>\n",
       "    <tr style=\"text-align: right;\">\n",
       "      <th></th>\n",
       "      <th>DCX Type</th>\n",
       "      <th>[Drug] ($\\mu$M)</th>\n",
       "      <th>Mean Expansion %</th>\n",
       "      <th>SEM Expansion %</th>\n",
       "      <th>n</th>\n",
       "    </tr>\n",
       "  </thead>\n",
       "  <tbody>\n",
       "    <tr>\n",
       "      <th>0</th>\n",
       "      <td>R89G</td>\n",
       "      <td>R89G</td>\n",
       "      <td>0.465263</td>\n",
       "      <td>0.120516</td>\n",
       "      <td>12</td>\n",
       "    </tr>\n",
       "  </tbody>\n",
       "</table>\n",
       "</div>"
      ],
      "text/plain": [
       "  DCX Type [Drug] ($\\mu$M)  Mean Expansion %  SEM Expansion %   n\n",
       "0     R89G            R89G          0.465263         0.120516  12"
      ]
     },
     "execution_count": 44,
     "metadata": {},
     "output_type": "execute_result"
    }
   ],
   "source": [
    "mean_sd(finalData, 'R89G',10)"
   ]
  },
  {
   "cell_type": "code",
   "execution_count": 45,
   "metadata": {
    "tags": []
   },
   "outputs": [
    {
     "data": {
      "text/html": [
       "<div>\n",
       "<style scoped>\n",
       "    .dataframe tbody tr th:only-of-type {\n",
       "        vertical-align: middle;\n",
       "    }\n",
       "\n",
       "    .dataframe tbody tr th {\n",
       "        vertical-align: top;\n",
       "    }\n",
       "\n",
       "    .dataframe thead th {\n",
       "        text-align: right;\n",
       "    }\n",
       "</style>\n",
       "<table border=\"1\" class=\"dataframe\">\n",
       "  <thead>\n",
       "    <tr style=\"text-align: right;\">\n",
       "      <th></th>\n",
       "      <th>DCX Type</th>\n",
       "      <th>[Drug] ($\\mu$M)</th>\n",
       "      <th>Mean Expansion %</th>\n",
       "      <th>SEM Expansion %</th>\n",
       "      <th>n</th>\n",
       "    </tr>\n",
       "  </thead>\n",
       "  <tbody>\n",
       "    <tr>\n",
       "      <th>0</th>\n",
       "      <td>R178L</td>\n",
       "      <td>R178L</td>\n",
       "      <td>0.223191</td>\n",
       "      <td>0.079822</td>\n",
       "      <td>9</td>\n",
       "    </tr>\n",
       "  </tbody>\n",
       "</table>\n",
       "</div>"
      ],
      "text/plain": [
       "  DCX Type [Drug] ($\\mu$M)  Mean Expansion %  SEM Expansion %  n\n",
       "0    R178L           R178L          0.223191         0.079822  9"
      ]
     },
     "execution_count": 45,
     "metadata": {},
     "output_type": "execute_result"
    }
   ],
   "source": [
    "mean_sd(finalData, 'R178L',10)"
   ]
  },
  {
   "cell_type": "code",
   "execution_count": 64,
   "metadata": {
    "tags": []
   },
   "outputs": [],
   "source": [
    "control = finalData[ (finalData[drug]==0) ]['Expansion %'].values"
   ]
  },
  {
   "cell_type": "code",
   "execution_count": 22,
   "metadata": {
    "tags": []
   },
   "outputs": [
    {
     "data": {
      "text/plain": [
       "array([0.1640103936490944, -0.065683829, -0.011070619, 0.025491733,\n",
       "       0.036230161, 0.037662772, 0.00159547, 0.012326643, -0.072970858,\n",
       "       -0.070943648, 0.2441611531670107, 0.026698564], dtype=object)"
      ]
     },
     "execution_count": 22,
     "metadata": {},
     "output_type": "execute_result"
    }
   ],
   "source": [
    "wt_compact"
   ]
  },
  {
   "cell_type": "code",
   "execution_count": 65,
   "metadata": {
    "tags": []
   },
   "outputs": [
    {
     "data": {
      "text/plain": [
       "array([-0.00481313,  0.00200268, -0.08521625, -0.03371603,  0.03306943,\n",
       "        0.01652796,  0.01203349,  0.00793386, -0.01041992, -0.0084321 ,\n",
       "        0.00418154, -0.00433377,  0.00902561,  0.        , -0.02275096])"
      ]
     },
     "execution_count": 65,
     "metadata": {},
     "output_type": "execute_result"
    }
   ],
   "source": [
    "control"
   ]
  },
  {
   "cell_type": "code",
   "execution_count": 66,
   "metadata": {
    "tags": []
   },
   "outputs": [
    {
     "data": {
      "text/plain": [
       "TtestResult(statistic=1.17901579441432, pvalue=0.13018691957374, df=12.484535143863065)"
      ]
     },
     "execution_count": 66,
     "metadata": {},
     "output_type": "execute_result"
    }
   ],
   "source": [
    "sp.stats.ttest_ind(wt_compact,control, axis=0, equal_var=False,alternative = \"greater\")"
   ]
  },
  {
   "cell_type": "code",
   "execution_count": 19,
   "metadata": {
    "tags": []
   },
   "outputs": [
    {
     "data": {
      "text/plain": [
       "TtestResult(statistic=-3.9009648460762842, pvalue=0.0024416381828750162, df=11.074570134891317)"
      ]
     },
     "execution_count": 19,
     "metadata": {},
     "output_type": "execute_result"
    }
   ],
   "source": [
    "sp.stats.ttest_ind(noneexp, r89g_compact , axis=0, equal_var=False)"
   ]
  },
  {
   "cell_type": "code",
   "execution_count": 20,
   "metadata": {
    "tags": []
   },
   "outputs": [
    {
     "data": {
      "text/plain": [
       "TtestResult(statistic=-2.8560136161293315, pvalue=0.020949482667167636, df=8.123780880306944)"
      ]
     },
     "execution_count": 20,
     "metadata": {},
     "output_type": "execute_result"
    }
   ],
   "source": [
    "sp.stats.ttest_ind(noneexp, r178l_compact, axis=0, equal_var=False) #n.s."
   ]
  },
  {
   "cell_type": "code",
   "execution_count": 46,
   "metadata": {
    "tags": []
   },
   "outputs": [
    {
     "data": {
      "text/plain": [
       "TtestResult(statistic=-1.6746221470625993, pvalue=0.11129071300079323, df=18.00396446142569)"
      ]
     },
     "execution_count": 46,
     "metadata": {},
     "output_type": "execute_result"
    }
   ],
   "source": [
    "sp.stats.ttest_ind( r178l_compact, r89g_compact , axis=0, equal_var=False)"
   ]
  },
  {
   "cell_type": "code",
   "execution_count": 21,
   "metadata": {
    "tags": []
   },
   "outputs": [
    {
     "data": {
      "text/plain": [
       "TtestResult(statistic=-2.8147165029740084, pvalue=0.008415811457790202, df=30.935360626706135)"
      ]
     },
     "execution_count": 21,
     "metadata": {},
     "output_type": "execute_result"
    }
   ],
   "source": [
    "exp10um = finalData[  (finalData['DCX Type']=='Control') & (finalData[drug]==10) ]['Expansion %'].values\n",
    "sp.stats.ttest_ind(none_exp, exp10um, axis=0, equal_var=False)"
   ]
  },
  {
   "cell_type": "code",
   "execution_count": 70,
   "metadata": {
    "tags": []
   },
   "outputs": [],
   "source": [
    "DCXdata = finalData[(finalData[DCXconc]==0) &  (finalData[drug]==10)]"
   ]
  },
  {
   "cell_type": "code",
   "execution_count": 73,
   "metadata": {
    "tags": []
   },
   "outputs": [],
   "source": [
    "x = DCXdata['Curve Length (um)'].values\n",
    "y = DCXdata['Expansion %'].values"
   ]
  },
  {
   "cell_type": "code",
   "execution_count": 74,
   "metadata": {
    "tags": []
   },
   "outputs": [
    {
     "data": {
      "text/plain": [
       "(array([0.01782813, 2.25024024]), array([0.02412712, 0.2462428 ]))"
      ]
     },
     "execution_count": 74,
     "metadata": {},
     "output_type": "execute_result"
    }
   ],
   "source": [
    "p, cov = np.polyfit(x,y, 1, cov=True)\n",
    "var = np.diagonal(cov) #Refer [3]\n",
    "SElin = np.sqrt(var) #Refer [4]\n",
    "mG,bG=p\n",
    "p, SElin"
   ]
  },
  {
   "cell_type": "code",
   "execution_count": 77,
   "metadata": {
    "tags": []
   },
   "outputs": [
    {
     "data": {
      "text/plain": [
       "0.009169550565450546"
      ]
     },
     "execution_count": 77,
     "metadata": {},
     "output_type": "execute_result"
    }
   ],
   "source": [
    "R2S(y,np.multiply(x,p[0])+p[1])"
   ]
  },
  {
   "cell_type": "code",
   "execution_count": 86,
   "metadata": {
    "tags": []
   },
   "outputs": [
    {
     "data": {
      "image/png": "[encoded data removed]",
      "text/plain": [
       "<Figure size 500x500 with 1 Axes>"
      ]
     },
     "metadata": {},
     "output_type": "display_data"
    }
   ],
   "source": [
    "fig, ax = plt.subplots(1,1,figsize=(5,5))\n",
    "k = np.arange(5, 20, 0.1)\n",
    "\n",
    "\n",
    "\n",
    "# sns.boxplot(x=Type, y='Expansion %', data=DCXdata, whis=np.inf, color=dcx_palette[i],linewidth=3, ax=ax[i])\n",
    "sns.stripplot(x='Curve Length (um)', y='Expansion %', data=DCXdata, size=7, hue = 'Curve Length (um)', palette = 'flare',native_scale=True) #, color=\".2\") #, hue = 'Curve Length (um)')\n",
    "ax.plot(k, np.multiply(k,p[0])+p[1],color = '#777777', lw=5,ls= '-',alpha = 1)\n",
    "\n",
    "ax.axhline(y = mean_exp, color = cyan ,linestyle=\"--\", linewidth=4,alpha = 0.3) \n",
    "ax.fill_between(k, mean_exp - sem_exp, mean_exp + sem_exp, facecolor=cyan, alpha=0.1)\n",
    "\n",
    "ax.spines['right'].set_visible(False)\n",
    "ax.spines['top'].set_visible(False)\n",
    "ax.spines['left'].set_lw(3)\n",
    "ax.spines['bottom'].set_lw(3)\n",
    "ax.tick_params(axis='both', width = 3.5, length = 7)\n",
    "\n",
    "\n",
    "sns.set_style(\"ticks\")\n",
    "sns.despine()\n",
    "\n",
    "sns.set_context(\"poster\", font_scale=1, rc={\"lines.linewidth\":3.0})\n",
    "\n",
    "sns.set_style({'font.family':'Helvetica Neue LT Std', 'font.serif':'Helvetica Neue LT Std'})\n",
    "\n",
    "plt.tight_layout()\n",
    "\n",
    "\n",
    "plt.savefig(mydir/('expansion-by-length_'+date_today+'.pdf'))\n",
    "# plt.savefig(path/('compaction_'+date_today+'.png'))"
   ]
  },
  {
   "cell_type": "code",
   "execution_count": 54,
   "metadata": {},
   "outputs": [
    {
     "data": {
      "text/plain": [
       "23.0"
      ]
     },
     "execution_count": 54,
     "metadata": {},
     "output_type": "execute_result"
    }
   ],
   "source": [
    "(88-12-11-9-10)/2"
   ]
  },
  {
   "cell_type": "code",
   "execution_count": 1,
   "metadata": {},
   "outputs": [],
   "source": [
    "notax = 8.3301\n",
    "tax = 8.5893\n",
    "taxdcx = 8.3690"
   ]
  },
  {
   "cell_type": "code",
   "execution_count": 3,
   "metadata": {},
   "outputs": [],
   "source": [
    "def simple_expansion(before,after):\n",
    "    return (1- before/after)*100"
   ]
  },
  {
   "cell_type": "code",
   "execution_count": 4,
   "metadata": {},
   "outputs": [
    {
     "data": {
      "text/plain": [
       "3.0177080786560007"
      ]
     },
     "execution_count": 4,
     "metadata": {},
     "output_type": "execute_result"
    }
   ],
   "source": [
    "simple_expansion(notax,tax)"
   ]
  },
  {
   "cell_type": "code",
   "execution_count": 5,
   "metadata": {},
   "outputs": [
    {
     "data": {
      "text/plain": [
       "0.4648106105866856"
      ]
     },
     "execution_count": 5,
     "metadata": {},
     "output_type": "execute_result"
    }
   ],
   "source": [
    "simple_expansion(notax,taxdcx)"
   ]
  },
  {
   "cell_type": "code",
   "execution_count": null,
   "metadata": {},
   "outputs": [],
   "source": []
  }
 ],
 "metadata": {
  "kernelspec": {
   "display_name": "Python 3 (ipykernel)",
   "language": "python",
   "name": "python3"
  },
  "language_info": {
   "codemirror_mode": {
    "name": "ipython",
    "version": 3
   },
   "file_extension": ".py",
   "mimetype": "text/x-python",
   "name": "python",
   "nbconvert_exporter": "python",
   "pygments_lexer": "ipython3",
   "version": "3.11.5"
  }
 },
 "nbformat": 4,
 "nbformat_minor": 4
}
