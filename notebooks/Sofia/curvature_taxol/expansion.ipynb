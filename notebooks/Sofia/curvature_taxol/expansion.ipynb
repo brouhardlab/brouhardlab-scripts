{
 "cells": [
  {
   "cell_type": "code",
   "execution_count": 1,
   "metadata": {},
   "outputs": [],
   "source": [
    "import numpy as np\n",
    "import seaborn as sns\n",
    "import matplotlib.pyplot as plt\n",
    "import csv\n",
    "import pandas as pd\n",
    "from pandas.api.types import CategoricalDtype\n",
    "import scipy as sp\n",
    "from pathlib import Path\n",
    "import tkinter as tk\n",
    "from tkinter import filedialog\n",
    "import itertools\n",
    "from colour import Color\n",
    "from datetime import date"
   ]
  },
  {
   "cell_type": "code",
   "execution_count": 2,
   "metadata": {},
   "outputs": [
    {
     "name": "stdout",
     "output_type": "stream",
     "text": [
      "Today's date: 2022-06-02\n"
     ]
    },
    {
     "data": {
      "text/plain": [
       "'2022-06-02'"
      ]
     },
     "execution_count": 2,
     "metadata": {},
     "output_type": "execute_result"
    }
   ],
   "source": [
    "today = date.today()\n",
    "print(\"Today's date:\", today)\n",
    "date_today = str(today)\n",
    "date_today"
   ]
  },
  {
   "cell_type": "code",
   "execution_count": 3,
   "metadata": {},
   "outputs": [],
   "source": [
    "tubulin = '[Tubulin] ' r'$(\\mu M)$'\n",
    "tub = 'tub'\n",
    "\n",
    "DCXconc = '[DCX] ' r'$(n M)$'\n",
    "DCX = 'DCX'\n",
    "Type = 'DCX Type'\n",
    "\n",
    "taxol = '[Taxol] ' r'$(\\mu M)$'\n",
    "\n",
    "Concentration = 'Concentration ' r'$(\\mu M)$'\n",
    "Length = 'Length ' r'$(\\mu m)$'\n",
    "Lifetime = 'Lifetime ' r'$(min)$'\n",
    "GrowthRate = 'Growth Rate ' r'$(\\mu m / min)$'\n",
    "TimeToNucleate = 'Time to Nucleate ' r'$(min)$'\n",
    "ShrinkageLength = 'Shrink Length ' r'$(\\mu m)$'\n",
    "ShrinkageLifetime = 'Shrink Lifetime ' r'$(min)$'\n",
    "ShrinkageRate = 'Shrink Rate ' r'$(\\mu m / min)$'"
   ]
  },
  {
   "cell_type": "code",
   "execution_count": 44,
   "metadata": {},
   "outputs": [
    {
     "data": {
      "text/plain": [
       "['#fcf2b8', '#fcf2b8', '#fcf2b8', '#fcf2b8', '#fcf2b8']"
      ]
     },
     "execution_count": 44,
     "metadata": {},
     "output_type": "execute_result"
    }
   ],
   "source": [
    "black = '#000000'\n",
    "grey = '#777777'\n",
    "blue = '#23459C'\n",
    "cyan = '#0089CF'\n",
    "green = '#79BA1A'\n",
    "purple = '#AB4A9C'\n",
    "lily = '#CB81EA'\n",
    "magenta = '#D80B8C'\n",
    "red = '#e60000'\n",
    "orange = '#FF7300'\n",
    "darkorange = '#FF5B00'\n",
    "lightorange = '#FFAC83'\n",
    "darkyellow= '#FCF2B8'\n",
    "yellow = '#FFCB05'\n",
    "lightyellow = '#FCF2B8'\n",
    "pink = '#FFA4CD'\n",
    "StartHue1 = Color(purple)\n",
    "DC1color = list(StartHue1.range_to(Color(pink),3))\n",
    "StartHue2 = Color(darkorange)\n",
    "DC2color = list(StartHue2.range_to(Color(lightorange),3))\n",
    "\n",
    "\n",
    "palette = [grey,cyan] + list(map(Color.get_hex,DC1color)) + list(map(Color.get_hex,DC2color)) + [green]\n",
    "parameters = [GrowthRate,TimeToNucleate,Lifetime,ShrinkageRate]\n",
    "\n",
    "StartHue3 = Color(lightyellow)\n",
    "Yellowcolor = list(StartHue3.range_to(Color(darkyellow),5))\n",
    "Yellowpalette = list(map(Color.get_hex,Yellowcolor))\n",
    "Yellowpalette"
   ]
  },
  {
   "cell_type": "markdown",
   "metadata": {},
   "source": [
    "## Import Kappa csv ##"
   ]
  },
  {
   "cell_type": "code",
   "execution_count": 202,
   "metadata": {},
   "outputs": [],
   "source": [
    "askdirectory = filedialog.askdirectory() # show an \"Open\" dialog box and return the path to the selected file\n",
    "path = Path(askdirectory)"
   ]
  },
  {
   "cell_type": "code",
   "execution_count": 203,
   "metadata": {},
   "outputs": [
    {
     "data": {
      "text/plain": [
       "[WindowsPath('C:/Users/sofia/OneDrive/Documentos/2022_1winter/2022-05-25_doublecapped/CH3_0.3uMtax/1-Stream_Composite_stack-1vs223-after-yes.csv'),\n",
       " WindowsPath('C:/Users/sofia/OneDrive/Documentos/2022_1winter/2022-05-25_doublecapped/CH3_0.3uMtax/1-Stream_Composite_stack-1vs223-before-yes.csv')]"
      ]
     },
     "execution_count": 203,
     "metadata": {},
     "output_type": "execute_result"
    }
   ],
   "source": [
    "files = [x for x in path.iterdir() if x.is_file()]\n",
    "files = [i for i in files if (str(i)[-7:] == 'yes.csv') == True]\n",
    "files"
   ]
  },
  {
   "cell_type": "code",
   "execution_count": 204,
   "metadata": {},
   "outputs": [
    {
     "data": {
      "text/plain": [
       "('2022-05-25', 'CH3', '0.3')"
      ]
     },
     "execution_count": 204,
     "metadata": {},
     "output_type": "execute_result"
    }
   ],
   "source": [
    "i = files[0]\n",
    "dateloc = str(i).rfind(\"202\")   \n",
    "dates = str(i)[dateloc : dateloc+10]\n",
    "\n",
    "CHlocstart = str(i).find(\"CH\") \n",
    "CHlocend = str(i).find('_', CHlocstart)\n",
    "CH = str(i)[CHlocstart: CHlocend]\n",
    "\n",
    "taxlocend = str(i).find('tax', CHlocend)\n",
    "tax = str(i)[CHlocend+1: taxlocend-2]\n",
    "\n",
    "dates,CH,tax"
   ]
  },
  {
   "cell_type": "code",
   "execution_count": 206,
   "metadata": {},
   "outputs": [],
   "source": [
    "keep_columns = ['Curve Name','Curve Length (um)']\n",
    "\n",
    "data_notax_avg = data_notax.drop_duplicates(subset ='Curve Length (um)', keep = 'first')\n",
    "data_notax_avg = data_notax_avg[keep_columns]\n",
    "data_notax_avg[taxol]=0\n",
    "\n",
    "data_Wtax_avg = data_Wtax.drop_duplicates(subset ='Curve Length (um)', keep = 'first')\n",
    "data_Wtax_avg = data_Wtax_avg[keep_columns]\n",
    "data_Wtax_avg[taxol]=float(tax)\n",
    "\n",
    "data = pd.concat([data_notax_avg, data_Wtax_avg], ignore_index=True)\n",
    "data['Date']=dates\n",
    "data['CH']=CH\n",
    "\n",
    "\n",
    "data = data.sort_values(['Curve Name',taxol])"
   ]
  },
  {
   "cell_type": "code",
   "execution_count": 207,
   "metadata": {},
   "outputs": [
    {
     "data": {
      "text/html": [
       "<div>\n",
       "<style scoped>\n",
       "    .dataframe tbody tr th:only-of-type {\n",
       "        vertical-align: middle;\n",
       "    }\n",
       "\n",
       "    .dataframe tbody tr th {\n",
       "        vertical-align: top;\n",
       "    }\n",
       "\n",
       "    .dataframe thead th {\n",
       "        text-align: right;\n",
       "    }\n",
       "</style>\n",
       "<table border=\"1\" class=\"dataframe\">\n",
       "  <thead>\n",
       "    <tr style=\"text-align: right;\">\n",
       "      <th></th>\n",
       "      <th>Curve Name</th>\n",
       "      <th>Curve Length (um)</th>\n",
       "      <th>[Taxol] $(\\mu M)$</th>\n",
       "      <th>Date</th>\n",
       "      <th>CH</th>\n",
       "    </tr>\n",
       "  </thead>\n",
       "  <tbody>\n",
       "    <tr>\n",
       "      <th>0</th>\n",
       "      <td>CURVE 1</td>\n",
       "      <td>15.540096</td>\n",
       "      <td>0.0</td>\n",
       "      <td>2022-05-25</td>\n",
       "      <td>CH3</td>\n",
       "    </tr>\n",
       "    <tr>\n",
       "      <th>5</th>\n",
       "      <td>CURVE 1</td>\n",
       "      <td>15.681216</td>\n",
       "      <td>0.3</td>\n",
       "      <td>2022-05-25</td>\n",
       "      <td>CH3</td>\n",
       "    </tr>\n",
       "    <tr>\n",
       "      <th>1</th>\n",
       "      <td>CURVE 2</td>\n",
       "      <td>16.678328</td>\n",
       "      <td>0.0</td>\n",
       "      <td>2022-05-25</td>\n",
       "      <td>CH3</td>\n",
       "    </tr>\n",
       "    <tr>\n",
       "      <th>6</th>\n",
       "      <td>CURVE 2</td>\n",
       "      <td>16.860723</td>\n",
       "      <td>0.3</td>\n",
       "      <td>2022-05-25</td>\n",
       "      <td>CH3</td>\n",
       "    </tr>\n",
       "    <tr>\n",
       "      <th>2</th>\n",
       "      <td>CURVE 3</td>\n",
       "      <td>9.195676</td>\n",
       "      <td>0.0</td>\n",
       "      <td>2022-05-25</td>\n",
       "      <td>CH3</td>\n",
       "    </tr>\n",
       "    <tr>\n",
       "      <th>7</th>\n",
       "      <td>CURVE 3</td>\n",
       "      <td>9.270717</td>\n",
       "      <td>0.3</td>\n",
       "      <td>2022-05-25</td>\n",
       "      <td>CH3</td>\n",
       "    </tr>\n",
       "    <tr>\n",
       "      <th>3</th>\n",
       "      <td>CURVE 4</td>\n",
       "      <td>14.524334</td>\n",
       "      <td>0.0</td>\n",
       "      <td>2022-05-25</td>\n",
       "      <td>CH3</td>\n",
       "    </tr>\n",
       "    <tr>\n",
       "      <th>8</th>\n",
       "      <td>CURVE 4</td>\n",
       "      <td>14.574274</td>\n",
       "      <td>0.3</td>\n",
       "      <td>2022-05-25</td>\n",
       "      <td>CH3</td>\n",
       "    </tr>\n",
       "    <tr>\n",
       "      <th>4</th>\n",
       "      <td>CURVE 5</td>\n",
       "      <td>15.932753</td>\n",
       "      <td>0.0</td>\n",
       "      <td>2022-05-25</td>\n",
       "      <td>CH3</td>\n",
       "    </tr>\n",
       "    <tr>\n",
       "      <th>9</th>\n",
       "      <td>CURVE 5</td>\n",
       "      <td>16.003292</td>\n",
       "      <td>0.3</td>\n",
       "      <td>2022-05-25</td>\n",
       "      <td>CH3</td>\n",
       "    </tr>\n",
       "  </tbody>\n",
       "</table>\n",
       "</div>"
      ],
      "text/plain": [
       "  Curve Name  Curve Length (um)  [Taxol] $(\\mu M)$        Date   CH\n",
       "0    CURVE 1          15.540096                0.0  2022-05-25  CH3\n",
       "5    CURVE 1          15.681216                0.3  2022-05-25  CH3\n",
       "1    CURVE 2          16.678328                0.0  2022-05-25  CH3\n",
       "6    CURVE 2          16.860723                0.3  2022-05-25  CH3\n",
       "2    CURVE 3           9.195676                0.0  2022-05-25  CH3\n",
       "7    CURVE 3           9.270717                0.3  2022-05-25  CH3\n",
       "3    CURVE 4          14.524334                0.0  2022-05-25  CH3\n",
       "8    CURVE 4          14.574274                0.3  2022-05-25  CH3\n",
       "4    CURVE 5          15.932753                0.0  2022-05-25  CH3\n",
       "9    CURVE 5          16.003292                0.3  2022-05-25  CH3"
      ]
     },
     "execution_count": 207,
     "metadata": {},
     "output_type": "execute_result"
    }
   ],
   "source": [
    "data"
   ]
  },
  {
   "cell_type": "code",
   "execution_count": 208,
   "metadata": {},
   "outputs": [],
   "source": [
    "newdirectory = str(path.parents[1])+'//Expansion_Data_Sheets'\n",
    "newmydir = Path(newdirectory)\n",
    "newmydir.mkdir(exist_ok=True)"
   ]
  },
  {
   "cell_type": "code",
   "execution_count": 209,
   "metadata": {},
   "outputs": [],
   "source": [
    "data.to_csv(path/(dates+'_'+CH+'_expansion0_analysed-on_'+date_today +'.csv'), encoding='utf-8', index=False)\n",
    "data.to_csv(newmydir/(dates+'_'+CH+'_expansion0_analysed-on_'+date_today+'.csv'), encoding='utf-8', index=False)"
   ]
  },
  {
   "cell_type": "markdown",
   "metadata": {},
   "source": [
    "### Ratio ###"
   ]
  },
  {
   "cell_type": "code",
   "execution_count": 5,
   "metadata": {},
   "outputs": [],
   "source": [
    "askdirectory = filedialog.askdirectory() # show an \"Open\" dialog box and return the path to the selected file\n",
    "path = Path(askdirectory)"
   ]
  },
  {
   "cell_type": "code",
   "execution_count": 6,
   "metadata": {},
   "outputs": [
    {
     "data": {
      "text/plain": [
       "[WindowsPath('C:/Users/Brouhard Lab/OneDrive/Documentos/2022_1winter/Expansion_Data_Sheets/2022-05-03_CH2_expansion_analysed-on_2022-05-18.csv'),\n",
       " WindowsPath('C:/Users/Brouhard Lab/OneDrive/Documentos/2022_1winter/Expansion_Data_Sheets/2022-05-13_CH1_expansion_analysed-on_2022-05-17.csv'),\n",
       " WindowsPath('C:/Users/Brouhard Lab/OneDrive/Documentos/2022_1winter/Expansion_Data_Sheets/2022-05-13_CH2_expansion_analysed-on_2022-05-17.csv'),\n",
       " WindowsPath('C:/Users/Brouhard Lab/OneDrive/Documentos/2022_1winter/Expansion_Data_Sheets/2022-05-13_CH3_expansion_analysed-on_2022-05-17.csv'),\n",
       " WindowsPath('C:/Users/Brouhard Lab/OneDrive/Documentos/2022_1winter/Expansion_Data_Sheets/2022-05-13_CH4_expansion_analysed-on_2022-05-17.csv'),\n",
       " WindowsPath('C:/Users/Brouhard Lab/OneDrive/Documentos/2022_1winter/Expansion_Data_Sheets/2022-05-25_CH1_expansion1_analysed-on_2022-05-29.csv'),\n",
       " WindowsPath('C:/Users/Brouhard Lab/OneDrive/Documentos/2022_1winter/Expansion_Data_Sheets/2022-05-25_CH1_expansion2_analysed-on_2022-05-29.csv'),\n",
       " WindowsPath('C:/Users/Brouhard Lab/OneDrive/Documentos/2022_1winter/Expansion_Data_Sheets/2022-05-25_CH1_expansion3_analysed-on_2022-05-29.csv'),\n",
       " WindowsPath('C:/Users/Brouhard Lab/OneDrive/Documentos/2022_1winter/Expansion_Data_Sheets/2022-05-25_CH2_expansion0_analysed-on_2022-05-29.csv'),\n",
       " WindowsPath('C:/Users/Brouhard Lab/OneDrive/Documentos/2022_1winter/Expansion_Data_Sheets/2022-05-25_CH3_expansion0_analysed-on_2022-05-29.csv'),\n",
       " WindowsPath('C:/Users/Brouhard Lab/OneDrive/Documentos/2022_1winter/Expansion_Data_Sheets/2022-05-25_CH4_expansion0_analysed-on_2022-05-29.csv'),\n",
       " WindowsPath('C:/Users/Brouhard Lab/OneDrive/Documentos/2022_1winter/Expansion_Data_Sheets/2022-05-25_CH5_expansion0_analysed-on_2022-05-29.csv')]"
      ]
     },
     "execution_count": 6,
     "metadata": {},
     "output_type": "execute_result"
    }
   ],
   "source": [
    "files = [x for x in path.iterdir() if x.is_file()]\n",
    "files = [i for i in files if (str(i)[-9:] != 'Sheet.csv') == True]\n",
    "files = [i for i in files if (str(i)[-3:] == 'csv') == True]\n",
    "files"
   ]
  },
  {
   "cell_type": "code",
   "execution_count": 7,
   "metadata": {},
   "outputs": [
    {
     "data": {
      "text/html": [
       "<div>\n",
       "<style scoped>\n",
       "    .dataframe tbody tr th:only-of-type {\n",
       "        vertical-align: middle;\n",
       "    }\n",
       "\n",
       "    .dataframe tbody tr th {\n",
       "        vertical-align: top;\n",
       "    }\n",
       "\n",
       "    .dataframe thead th {\n",
       "        text-align: right;\n",
       "    }\n",
       "</style>\n",
       "<table border=\"1\" class=\"dataframe\">\n",
       "  <thead>\n",
       "    <tr style=\"text-align: right;\">\n",
       "      <th></th>\n",
       "      <th>Curve Name</th>\n",
       "      <th>Curve Length (um)</th>\n",
       "      <th>[Taxol] $(\\mu M)$</th>\n",
       "      <th>Date</th>\n",
       "      <th>CH</th>\n",
       "    </tr>\n",
       "  </thead>\n",
       "  <tbody>\n",
       "    <tr>\n",
       "      <td>0</td>\n",
       "      <td>CURVE 1</td>\n",
       "      <td>20.464017</td>\n",
       "      <td>0.0</td>\n",
       "      <td>2022-05-03</td>\n",
       "      <td>CH2</td>\n",
       "    </tr>\n",
       "    <tr>\n",
       "      <td>1</td>\n",
       "      <td>CURVE 1</td>\n",
       "      <td>20.995385</td>\n",
       "      <td>10.0</td>\n",
       "      <td>2022-05-03</td>\n",
       "      <td>CH2</td>\n",
       "    </tr>\n",
       "    <tr>\n",
       "      <td>2</td>\n",
       "      <td>CURVE 10</td>\n",
       "      <td>19.873343</td>\n",
       "      <td>0.0</td>\n",
       "      <td>2022-05-03</td>\n",
       "      <td>CH2</td>\n",
       "    </tr>\n",
       "    <tr>\n",
       "      <td>3</td>\n",
       "      <td>CURVE 10</td>\n",
       "      <td>20.522329</td>\n",
       "      <td>10.0</td>\n",
       "      <td>2022-05-03</td>\n",
       "      <td>CH2</td>\n",
       "    </tr>\n",
       "    <tr>\n",
       "      <td>4</td>\n",
       "      <td>CURVE 2</td>\n",
       "      <td>14.120813</td>\n",
       "      <td>0.0</td>\n",
       "      <td>2022-05-03</td>\n",
       "      <td>CH2</td>\n",
       "    </tr>\n",
       "    <tr>\n",
       "      <td>...</td>\n",
       "      <td>...</td>\n",
       "      <td>...</td>\n",
       "      <td>...</td>\n",
       "      <td>...</td>\n",
       "      <td>...</td>\n",
       "    </tr>\n",
       "    <tr>\n",
       "      <td>125</td>\n",
       "      <td>CURVE 2</td>\n",
       "      <td>23.829905</td>\n",
       "      <td>0.3</td>\n",
       "      <td>2022-05-25</td>\n",
       "      <td>CH4</td>\n",
       "    </tr>\n",
       "    <tr>\n",
       "      <td>126</td>\n",
       "      <td>CURVE 1</td>\n",
       "      <td>14.716855</td>\n",
       "      <td>0.0</td>\n",
       "      <td>2022-05-25</td>\n",
       "      <td>CH5</td>\n",
       "    </tr>\n",
       "    <tr>\n",
       "      <td>127</td>\n",
       "      <td>CURVE 1</td>\n",
       "      <td>15.023748</td>\n",
       "      <td>1.0</td>\n",
       "      <td>2022-05-25</td>\n",
       "      <td>CH5</td>\n",
       "    </tr>\n",
       "    <tr>\n",
       "      <td>128</td>\n",
       "      <td>CURVE 2</td>\n",
       "      <td>22.356874</td>\n",
       "      <td>0.0</td>\n",
       "      <td>2022-05-25</td>\n",
       "      <td>CH5</td>\n",
       "    </tr>\n",
       "    <tr>\n",
       "      <td>129</td>\n",
       "      <td>CURVE 2</td>\n",
       "      <td>23.184601</td>\n",
       "      <td>1.0</td>\n",
       "      <td>2022-05-25</td>\n",
       "      <td>CH5</td>\n",
       "    </tr>\n",
       "  </tbody>\n",
       "</table>\n",
       "<p>130 rows × 5 columns</p>\n",
       "</div>"
      ],
      "text/plain": [
       "    Curve Name  Curve Length (um)  [Taxol] $(\\mu M)$        Date   CH\n",
       "0      CURVE 1          20.464017                0.0  2022-05-03  CH2\n",
       "1      CURVE 1          20.995385               10.0  2022-05-03  CH2\n",
       "2     CURVE 10          19.873343                0.0  2022-05-03  CH2\n",
       "3     CURVE 10          20.522329               10.0  2022-05-03  CH2\n",
       "4      CURVE 2          14.120813                0.0  2022-05-03  CH2\n",
       "..         ...                ...                ...         ...  ...\n",
       "125    CURVE 2          23.829905                0.3  2022-05-25  CH4\n",
       "126    CURVE 1          14.716855                0.0  2022-05-25  CH5\n",
       "127    CURVE 1          15.023748                1.0  2022-05-25  CH5\n",
       "128    CURVE 2          22.356874                0.0  2022-05-25  CH5\n",
       "129    CURVE 2          23.184601                1.0  2022-05-25  CH5\n",
       "\n",
       "[130 rows x 5 columns]"
      ]
     },
     "execution_count": 7,
     "metadata": {},
     "output_type": "execute_result"
    }
   ],
   "source": [
    "joindata = pd.read_csv(files[0], encoding='utf-8')\n",
    "for i in range(1,len(files)):\n",
    "    d = pd.read_csv(files[i], encoding='utf-8')\n",
    "    joindata = joindata.append(d, ignore_index=True)\n",
    "\n",
    "joindata.to_csv(path/('jointdata-on_'+date_today +'_MasterSheet.csv'), encoding='utf-8', index=False)\n",
    "joindata"
   ]
  },
  {
   "cell_type": "markdown",
   "metadata": {},
   "source": [
    "### If data already joint ###"
   ]
  },
  {
   "cell_type": "code",
   "execution_count": 8,
   "metadata": {},
   "outputs": [
    {
     "name": "stderr",
     "output_type": "stream",
     "text": [
      "C:\\ProgramData\\Anaconda3\\lib\\site-packages\\ipykernel_launcher.py:5: SettingWithCopyWarning: \n",
      "A value is trying to be set on a copy of a slice from a DataFrame.\n",
      "Try using .loc[row_indexer,col_indexer] = value instead\n",
      "\n",
      "See the caveats in the documentation: http://pandas.pydata.org/pandas-docs/stable/user_guide/indexing.html#returning-a-view-versus-a-copy\n",
      "  \"\"\"\n"
     ]
    }
   ],
   "source": [
    "NoTaxolData = joindata.iloc[:-2:2]\n",
    "TaxolData = joindata.iloc[1:-1:2]\n",
    "ratio = NoTaxolData['Curve Length (um)'].values / TaxolData['Curve Length (um)'].values\n",
    "percent_expansion = (1- ratio)*100\n",
    "TaxolData['Expansion %'] = percent_expansion"
   ]
  },
  {
   "cell_type": "code",
   "execution_count": 9,
   "metadata": {},
   "outputs": [],
   "source": [
    "TaxolData.to_csv(path/('expansiondata-on_'+date_today +'_MasterSheet.csv'), encoding='utf-8', index=False)\n"
   ]
  },
  {
   "cell_type": "code",
   "execution_count": 18,
   "metadata": {},
   "outputs": [
    {
     "data": {
      "text/plain": [
       "2.608695652173909"
      ]
     },
     "execution_count": 18,
     "metadata": {},
     "output_type": "execute_result"
    }
   ],
   "source": [
    "nogales2018 = (1- 81.76/83.95)*100\n",
    "nogales2018"
   ]
  },
  {
   "cell_type": "code",
   "execution_count": 19,
   "metadata": {},
   "outputs": [
    {
     "data": {
      "text/plain": [
       "2.043269230769229"
      ]
     },
     "execution_count": 19,
     "metadata": {},
     "output_type": "execute_result"
    }
   ],
   "source": [
    "nogales2017 = (1- 81.5/83.2)*100\n",
    "nogales2017\n"
   ]
  },
  {
   "cell_type": "code",
   "execution_count": 20,
   "metadata": {},
   "outputs": [
    {
     "data": {
      "text/plain": [
       "(0.3667481662591676, 0.9720534629404587)"
      ]
     },
     "execution_count": 20,
     "metadata": {},
     "output_type": "execute_result"
    }
   ],
   "source": [
    "TAXnogales2017preformed = (1- 81.5/81.8)*100\n",
    "TAXnogales2017copoly = (1- 81.5/82.3)*100\n",
    "TAXnogales2017preformed , TAXnogales2017copoly\n"
   ]
  },
  {
   "cell_type": "code",
   "execution_count": 50,
   "metadata": {},
   "outputs": [
    {
     "data": {
      "image/png": "[encoded data removed]",
      "text/plain": [
       "<Figure size 720x720 with 1 Axes>"
      ]
     },
     "metadata": {},
     "output_type": "display_data"
    }
   ],
   "source": [
    "fig, ax = plt.subplots(1,1,figsize=(10,10))\n",
    "\n",
    "#rect = 0,0,1,1 # create an rectangle for the new axis\n",
    "#log_ax = fig.add_axes(rect) # create a new axis (or use an existing one)\n",
    "#log_ax.set_xscale(\"log\") # log first\n",
    "\n",
    "ax = sns.boxplot(x=taxol, y='Expansion %', data=TaxolData, whis=np.inf, palette='Blues',linewidth=3)\n",
    "ax = sns.swarmplot(x=taxol, y='Expansion %', data=TaxolData, color=\".2\", size=12, label='TIRF Data')\n",
    "ax.axhline(y = nogales2018, color = lightorange ,linestyle=\"--\", linewidth=5.5, label='GDP'r'$\\rightarrow$''GMPCPP \\n Zhang (2018)')\n",
    "ax.axhline(y = TAXnogales2017preformed, color = orange ,linestyle=\"--\", linewidth=5.5, label='GDP'r'$\\rightarrow$''Taxol-GDP \\n Kellogg (2017)')\n",
    "#plt.xlim(0.1,10)\n",
    "\n",
    "ax.set_ylim(None,4)\n",
    "ax.legend( loc = 'upper left')\n",
    "#ax.legend('')\n",
    "ax.set_xlabel('[ Taxol ] ' r'$ ( \\mu M ) $')\n",
    "\n",
    "sns.set_style(\"ticks\")\n",
    "sns.despine()\n",
    "ax.spines['left'].set_lw(5)\n",
    "ax.spines['bottom'].set_lw(5)\n",
    "ax.tick_params(axis='both', width = 5, length = 15)\n",
    "sns.set_context(\"poster\", font_scale=1.7, rc={\"lines.linewidth\":3.0})\n",
    "\n",
    "plt.tight_layout()\n",
    "\n",
    "\n",
    "plt.savefig(path/('expansion_'+date_today+'.svg'))"
   ]
  },
  {
   "cell_type": "code",
   "execution_count": 38,
   "metadata": {},
   "outputs": [
    {
     "data": {
      "text/plain": [
       "2.608695652173909"
      ]
     },
     "execution_count": 38,
     "metadata": {},
     "output_type": "execute_result"
    }
   ],
   "source": [
    "(1- 81.76/83.95)*100"
   ]
  },
  {
   "cell_type": "code",
   "execution_count": 51,
   "metadata": {},
   "outputs": [
    {
     "data": {
      "text/html": [
       "<div>\n",
       "<style scoped>\n",
       "    .dataframe tbody tr th:only-of-type {\n",
       "        vertical-align: middle;\n",
       "    }\n",
       "\n",
       "    .dataframe tbody tr th {\n",
       "        vertical-align: top;\n",
       "    }\n",
       "\n",
       "    .dataframe thead th {\n",
       "        text-align: right;\n",
       "    }\n",
       "</style>\n",
       "<table border=\"1\" class=\"dataframe\">\n",
       "  <thead>\n",
       "    <tr style=\"text-align: right;\">\n",
       "      <th></th>\n",
       "      <th>Curve Name</th>\n",
       "      <th>Curve Length (um)</th>\n",
       "      <th>[Taxol] $(\\mu M)$</th>\n",
       "      <th>Date</th>\n",
       "      <th>CH</th>\n",
       "    </tr>\n",
       "  </thead>\n",
       "  <tbody>\n",
       "    <tr>\n",
       "      <td>0</td>\n",
       "      <td>CURVE 1</td>\n",
       "      <td>20.464017</td>\n",
       "      <td>0.0</td>\n",
       "      <td>2022-05-03</td>\n",
       "      <td>CH2</td>\n",
       "    </tr>\n",
       "    <tr>\n",
       "      <td>1</td>\n",
       "      <td>CURVE 1</td>\n",
       "      <td>20.995385</td>\n",
       "      <td>10.0</td>\n",
       "      <td>2022-05-03</td>\n",
       "      <td>CH2</td>\n",
       "    </tr>\n",
       "    <tr>\n",
       "      <td>2</td>\n",
       "      <td>CURVE 10</td>\n",
       "      <td>19.873343</td>\n",
       "      <td>0.0</td>\n",
       "      <td>2022-05-03</td>\n",
       "      <td>CH2</td>\n",
       "    </tr>\n",
       "    <tr>\n",
       "      <td>3</td>\n",
       "      <td>CURVE 10</td>\n",
       "      <td>20.522329</td>\n",
       "      <td>10.0</td>\n",
       "      <td>2022-05-03</td>\n",
       "      <td>CH2</td>\n",
       "    </tr>\n",
       "    <tr>\n",
       "      <td>4</td>\n",
       "      <td>CURVE 2</td>\n",
       "      <td>14.120813</td>\n",
       "      <td>0.0</td>\n",
       "      <td>2022-05-03</td>\n",
       "      <td>CH2</td>\n",
       "    </tr>\n",
       "    <tr>\n",
       "      <td>...</td>\n",
       "      <td>...</td>\n",
       "      <td>...</td>\n",
       "      <td>...</td>\n",
       "      <td>...</td>\n",
       "      <td>...</td>\n",
       "    </tr>\n",
       "    <tr>\n",
       "      <td>125</td>\n",
       "      <td>CURVE 2</td>\n",
       "      <td>23.829905</td>\n",
       "      <td>0.3</td>\n",
       "      <td>2022-05-25</td>\n",
       "      <td>CH4</td>\n",
       "    </tr>\n",
       "    <tr>\n",
       "      <td>126</td>\n",
       "      <td>CURVE 1</td>\n",
       "      <td>14.716855</td>\n",
       "      <td>0.0</td>\n",
       "      <td>2022-05-25</td>\n",
       "      <td>CH5</td>\n",
       "    </tr>\n",
       "    <tr>\n",
       "      <td>127</td>\n",
       "      <td>CURVE 1</td>\n",
       "      <td>15.023748</td>\n",
       "      <td>1.0</td>\n",
       "      <td>2022-05-25</td>\n",
       "      <td>CH5</td>\n",
       "    </tr>\n",
       "    <tr>\n",
       "      <td>128</td>\n",
       "      <td>CURVE 2</td>\n",
       "      <td>22.356874</td>\n",
       "      <td>0.0</td>\n",
       "      <td>2022-05-25</td>\n",
       "      <td>CH5</td>\n",
       "    </tr>\n",
       "    <tr>\n",
       "      <td>129</td>\n",
       "      <td>CURVE 2</td>\n",
       "      <td>23.184601</td>\n",
       "      <td>1.0</td>\n",
       "      <td>2022-05-25</td>\n",
       "      <td>CH5</td>\n",
       "    </tr>\n",
       "  </tbody>\n",
       "</table>\n",
       "<p>130 rows × 5 columns</p>\n",
       "</div>"
      ],
      "text/plain": [
       "    Curve Name  Curve Length (um)  [Taxol] $(\\mu M)$        Date   CH\n",
       "0      CURVE 1          20.464017                0.0  2022-05-03  CH2\n",
       "1      CURVE 1          20.995385               10.0  2022-05-03  CH2\n",
       "2     CURVE 10          19.873343                0.0  2022-05-03  CH2\n",
       "3     CURVE 10          20.522329               10.0  2022-05-03  CH2\n",
       "4      CURVE 2          14.120813                0.0  2022-05-03  CH2\n",
       "..         ...                ...                ...         ...  ...\n",
       "125    CURVE 2          23.829905                0.3  2022-05-25  CH4\n",
       "126    CURVE 1          14.716855                0.0  2022-05-25  CH5\n",
       "127    CURVE 1          15.023748                1.0  2022-05-25  CH5\n",
       "128    CURVE 2          22.356874                0.0  2022-05-25  CH5\n",
       "129    CURVE 2          23.184601                1.0  2022-05-25  CH5\n",
       "\n",
       "[130 rows x 5 columns]"
      ]
     },
     "execution_count": 51,
     "metadata": {},
     "output_type": "execute_result"
    }
   ],
   "source": [
    "joindata"
   ]
  },
  {
   "cell_type": "code",
   "execution_count": 52,
   "metadata": {},
   "outputs": [
    {
     "data": {
      "text/plain": [
       "[Taxol] $(\\mu M)$\n",
       "0.0     88\n",
       "0.1     12\n",
       "0.3     11\n",
       "1.0      9\n",
       "10.0    10\n",
       "dtype: int64"
      ]
     },
     "execution_count": 52,
     "metadata": {},
     "output_type": "execute_result"
    }
   ],
   "source": [
    "joindata.groupby(taxol).size()"
   ]
  },
  {
   "cell_type": "code",
   "execution_count": 54,
   "metadata": {},
   "outputs": [
    {
     "data": {
      "text/plain": [
       "23.0"
      ]
     },
     "execution_count": 54,
     "metadata": {},
     "output_type": "execute_result"
    }
   ],
   "source": [
    "(88-12-11-9-10)/2"
   ]
  },
  {
   "cell_type": "code",
   "execution_count": null,
   "metadata": {},
   "outputs": [],
   "source": []
  }
 ],
 "metadata": {
  "kernelspec": {
   "display_name": "Python 3 (ipykernel)",
   "language": "python",
   "name": "python3"
  },
  "language_info": {
   "codemirror_mode": {
    "name": "ipython",
    "version": 3
   },
   "file_extension": ".py",
   "mimetype": "text/x-python",
   "name": "python",
   "nbconvert_exporter": "python",
   "pygments_lexer": "ipython3",
   "version": "3.10.9"
  }
 },
 "nbformat": 4,
 "nbformat_minor": 4
}
