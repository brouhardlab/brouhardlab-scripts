{
 "cells": [
  {
   "cell_type": "code",
   "execution_count": 3,
   "metadata": {},
   "outputs": [],
   "source": [
    "import numpy as np\n",
    "import matplotlib.pyplot as plt\n",
    "import sys\n",
    "import pandas as pd"
   ]
  },
  {
   "cell_type": "code",
   "execution_count": 4,
   "metadata": {},
   "outputs": [],
   "source": [
    "def labeling(unlab,lab,ratio,dis):\n",
    "    xlab = (ratio[0]*unlab[0]*unlab[1])/((ratio[1]-ratio[0])*lab[0])\n",
    "    xlab = round(xlab, 1)\n",
    "    \n",
    "    if xlab > lab[1]:\n",
    "        sys.exit('Not enough labeled tubulin')\n",
    "    \n",
    "    xvol = xlab+unlab[1]+dis\n",
    "    xvol = round(xvol, 1)\n",
    "    \n",
    "    xconc = (lab[0]*xlab+unlab[0]*unlab[1])/(xvol)\n",
    "    xconc = round(xconc, 1)\n",
    "    \n",
    "    print(str(xlab)+' uL labeled tubulin')\n",
    "    print(str(xconc)+' uM final concentration')\n",
    "    print(str(xvol)+' uL final volume')\n",
    "    \n",
    "    return xconc, xvol"
   ]
  },
  {
   "cell_type": "code",
   "execution_count": 5,
   "metadata": {},
   "outputs": [],
   "source": [
    "def aliquot(final,conc):\n",
    "    tub = 25*conc/final[0]\n",
    "    tub = round(tub,2)\n",
    "    brb80 = 22 - tub\n",
    "    tube = round(tub+0.1,1)\n",
    "    \n",
    "    x = (conc,tub,brb80,tube)\n",
    "    \n",
    "    df = pd.DataFrame(np.array([x]), columns=['[Tub]','Tub(uL)','BRB80(uL)','Tube(uL)'])\n",
    "    \n",
    "    return df        "
   ]
  },
  {
   "cell_type": "code",
   "execution_count": 22,
   "metadata": {},
   "outputs": [],
   "source": [
    "lab = [70,4]  #labeled tubulin [concentration(uM), volume(ul)]\n",
    "unlab = [276, 9.7]   #unlabeled tubulin [concentration(uM), volume(ul)]\n",
    "ratio = [0, 20] #labeling ratio if no label put 0 in first entrance\n",
    "dis = 10 #volume of BRB80 added to dissolve tubulin (ul)\n",
    "\n",
    "conc = [6,8,10,12,14] #Planned experiment Concentrations \n",
    "aliq = [1,2,3,3,1] # No. of aliquots per concentration"
   ]
  },
  {
   "cell_type": "code",
   "execution_count": 17,
   "metadata": {},
   "outputs": [
    {
     "name": "stdout",
     "output_type": "stream",
     "text": [
      "0.0 uL labeled tubulin\n",
      "135.9 uM final concentration\n",
      "19.7 uL final volume\n"
     ]
    }
   ],
   "source": [
    "final = labeling(unlab,lab,ratio,dis);"
   ]
  },
  {
   "cell_type": "code",
   "execution_count": 23,
   "metadata": {},
   "outputs": [
    {
     "data": {
      "text/html": [
       "<div>\n",
       "<style scoped>\n",
       "    .dataframe tbody tr th:only-of-type {\n",
       "        vertical-align: middle;\n",
       "    }\n",
       "\n",
       "    .dataframe tbody tr th {\n",
       "        vertical-align: top;\n",
       "    }\n",
       "\n",
       "    .dataframe thead th {\n",
       "        text-align: right;\n",
       "    }\n",
       "</style>\n",
       "<table border=\"1\" class=\"dataframe\">\n",
       "  <thead>\n",
       "    <tr style=\"text-align: right;\">\n",
       "      <th></th>\n",
       "      <th>[Tub]</th>\n",
       "      <th>Tub(uL)</th>\n",
       "      <th>BRB80(uL)</th>\n",
       "      <th>Tube(uL)</th>\n",
       "    </tr>\n",
       "  </thead>\n",
       "  <tbody>\n",
       "    <tr>\n",
       "      <th>0</th>\n",
       "      <td>6.0</td>\n",
       "      <td>1.10</td>\n",
       "      <td>20.90</td>\n",
       "      <td>1.2</td>\n",
       "    </tr>\n",
       "    <tr>\n",
       "      <th>1</th>\n",
       "      <td>8.0</td>\n",
       "      <td>1.47</td>\n",
       "      <td>20.53</td>\n",
       "      <td>1.6</td>\n",
       "    </tr>\n",
       "    <tr>\n",
       "      <th>2</th>\n",
       "      <td>10.0</td>\n",
       "      <td>1.84</td>\n",
       "      <td>20.16</td>\n",
       "      <td>1.9</td>\n",
       "    </tr>\n",
       "    <tr>\n",
       "      <th>3</th>\n",
       "      <td>12.0</td>\n",
       "      <td>2.21</td>\n",
       "      <td>19.79</td>\n",
       "      <td>2.3</td>\n",
       "    </tr>\n",
       "    <tr>\n",
       "      <th>4</th>\n",
       "      <td>14.0</td>\n",
       "      <td>2.58</td>\n",
       "      <td>19.42</td>\n",
       "      <td>2.7</td>\n",
       "    </tr>\n",
       "  </tbody>\n",
       "</table>\n",
       "</div>"
      ],
      "text/plain": [
       "   [Tub]  Tub(uL)  BRB80(uL)  Tube(uL)\n",
       "0    6.0     1.10      20.90       1.2\n",
       "1    8.0     1.47      20.53       1.6\n",
       "2   10.0     1.84      20.16       1.9\n",
       "3   12.0     2.21      19.79       2.3\n",
       "4   14.0     2.58      19.42       2.7"
      ]
     },
     "execution_count": 23,
     "metadata": {},
     "output_type": "execute_result"
    }
   ],
   "source": [
    "tube = aliquot(final,conc[0])\n",
    "\n",
    "for i in conc[1:]:\n",
    "    tb = aliquot(final,i)\n",
    "    tube = tube.append(tb,ignore_index=True)\n",
    "\n",
    "tube"
   ]
  },
  {
   "cell_type": "code",
   "execution_count": 24,
   "metadata": {},
   "outputs": [
    {
     "name": "stdout",
     "output_type": "stream",
     "text": [
      "19.7 of 19.7 uL Enough tubulin :)\n"
     ]
    }
   ],
   "source": [
    "usedvol = round(sum(tube['Tube(uL)']*aliq),2)\n",
    "if usedvol > final[1]:\n",
    "    sys.exit(str(usedvol)+' of '+str(final[1])+' u|L NOT enough tubulin')\n",
    "\n",
    "print(str(usedvol)+' of '+str(final[1])+' uL Enough tubulin :)')"
   ]
  },
  {
   "cell_type": "code",
   "execution_count": null,
   "metadata": {},
   "outputs": [],
   "source": []
  },
  {
   "cell_type": "code",
   "execution_count": null,
   "metadata": {},
   "outputs": [],
   "source": []
  }
 ],
 "metadata": {
  "kernelspec": {
   "display_name": "Python 3",
   "language": "python",
   "name": "python3"
  },
  "language_info": {
   "codemirror_mode": {
    "name": "ipython",
    "version": 3
   },
   "file_extension": ".py",
   "mimetype": "text/x-python",
   "name": "python",
   "nbconvert_exporter": "python",
   "pygments_lexer": "ipython3",
   "version": "3.7.1"
  }
 },
 "nbformat": 4,
 "nbformat_minor": 2
}
