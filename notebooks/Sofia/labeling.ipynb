{
 "cells": [
  {
   "cell_type": "code",
   "execution_count": 1,
   "metadata": {},
   "outputs": [],
   "source": [
    "import numpy as np\n",
    "import matplotlib.pyplot as plt\n",
    "import sys\n",
    "import pandas as pd"
   ]
  },
  {
   "cell_type": "code",
   "execution_count": 2,
   "metadata": {},
   "outputs": [],
   "source": [
    "def labeling(unlab,lab,ratio,dis):\n",
    "    xlab = (ratio[0]*unlab[0]*unlab[1])/((ratio[1]-ratio[0])*lab[0])\n",
    "    xlab = round(xlab, 2)\n",
    "    \n",
    "    if xlab > lab[1]:\n",
    "        sys.exit('Not enough labeled tubulin')\n",
    "    \n",
    "    xvol = xlab+unlab[1]+dis\n",
    "    xvol = round(xvol, 2)\n",
    "    \n",
    "    xconc = (lab[0]*xlab+unlab[0]*unlab[1])/(xvol)\n",
    "    xconc = round(xconc, 2)\n",
    "    \n",
    "    print(str(xlab)+' uL labeled tubulin')\n",
    "    print(str(xconc)+' uM final concentration')\n",
    "    print(str(xvol)+' uL final volume')\n",
    "    \n",
    "    return xconc, xvol"
   ]
  },
  {
   "cell_type": "code",
   "execution_count": 3,
   "metadata": {},
   "outputs": [],
   "source": [
    "def aliquot(final,conc):\n",
    "    tub = 25*conc/final[0]\n",
    "    tub = round(tub,3)\n",
    "    brb80 = 21.75 - tub\n",
    "    tube = round(tub+0.15,2)\n",
    "    \n",
    "    x = (conc,tub,brb80,tube)\n",
    "    \n",
    "    df = pd.DataFrame(np.array([x]), columns=['[Tub]','Tub(uL)','BRB80(uL)','Tube(uL)'])\n",
    "    \n",
    "    return df        "
   ]
  },
  {
   "cell_type": "code",
   "execution_count": 16,
   "metadata": {},
   "outputs": [],
   "source": [
    "x = 4\n",
    "lab = [70,4]  #labeled tubulin [concentration(uM), volume(ul)]\n",
    "unlab = [283.1, x]   #unlabeled tubulin [concentration(uM), volume(ul)]\n",
    "ratio = [1, 10] #labeling ratio\n",
    "dis = x #volume of BRB80 added to dissolve tubulin (ul)"
   ]
  },
  {
   "cell_type": "code",
   "execution_count": 17,
   "metadata": {},
   "outputs": [
    {
     "name": "stdout",
     "output_type": "stream",
     "text": [
      "1.8 uL labeled tubulin\n",
      "128.41 uM final concentration\n",
      "9.8 uL final volume\n"
     ]
    }
   ],
   "source": [
    "final = labeling(unlab,lab,ratio,dis);"
   ]
  },
  {
   "cell_type": "code",
   "execution_count": 14,
   "metadata": {},
   "outputs": [],
   "source": [
    "conc = [7] #Planned experiment Concentrations \n",
    "aliq = [4] # No. of aliquots per concentration"
   ]
  },
  {
   "cell_type": "code",
   "execution_count": 15,
   "metadata": {},
   "outputs": [
    {
     "data": {
      "text/html": [
       "<div>\n",
       "<style scoped>\n",
       "    .dataframe tbody tr th:only-of-type {\n",
       "        vertical-align: middle;\n",
       "    }\n",
       "\n",
       "    .dataframe tbody tr th {\n",
       "        vertical-align: top;\n",
       "    }\n",
       "\n",
       "    .dataframe thead th {\n",
       "        text-align: right;\n",
       "    }\n",
       "</style>\n",
       "<table border=\"1\" class=\"dataframe\">\n",
       "  <thead>\n",
       "    <tr style=\"text-align: right;\">\n",
       "      <th></th>\n",
       "      <th>[Tub]</th>\n",
       "      <th>Tub(uL)</th>\n",
       "      <th>BRB80(uL)</th>\n",
       "      <th>Tube(uL)</th>\n",
       "    </tr>\n",
       "  </thead>\n",
       "  <tbody>\n",
       "    <tr>\n",
       "      <th>0</th>\n",
       "      <td>7.0</td>\n",
       "      <td>1.559</td>\n",
       "      <td>20.191</td>\n",
       "      <td>1.71</td>\n",
       "    </tr>\n",
       "  </tbody>\n",
       "</table>\n",
       "</div>"
      ],
      "text/plain": [
       "   [Tub]  Tub(uL)  BRB80(uL)  Tube(uL)\n",
       "0    7.0    1.559     20.191      1.71"
      ]
     },
     "execution_count": 15,
     "metadata": {},
     "output_type": "execute_result"
    }
   ],
   "source": [
    "tube = aliquot(final,conc[0])\n",
    "\n",
    "for i in conc[1:]:\n",
    "    tb = aliquot(final,i)\n",
    "    tube = tube.append(tb,ignore_index=True)\n",
    "\n",
    "tube"
   ]
  },
  {
   "cell_type": "code",
   "execution_count": 53,
   "metadata": {},
   "outputs": [
    {
     "data": {
      "text/plain": [
       "18.812"
      ]
     },
     "execution_count": 53,
     "metadata": {},
     "output_type": "execute_result"
    }
   ],
   "source": [
    "20.312-1.5"
   ]
  },
  {
   "cell_type": "code",
   "execution_count": 170,
   "metadata": {},
   "outputs": [
    {
     "name": "stdout",
     "output_type": "stream",
     "text": [
      "22.6 of 22.9 uL Enough tubulin :)\n"
     ]
    }
   ],
   "source": [
    "usedvol = sum(tube['Tube(uL)']*aliq)\n",
    "if usedvol > final[1]:\n",
    "    sys.exit(str(usedvol)+' of '+str(final[1])+' uL NOT enough tubulin')\n",
    "\n",
    "print(str(usedvol)+' of '+str(final[1])+' uL Enough tubulin :)')"
   ]
  },
  {
   "cell_type": "code",
   "execution_count": 29,
   "metadata": {},
   "outputs": [
    {
     "data": {
      "text/plain": [
       "9.162790697674419"
      ]
     },
     "execution_count": 29,
     "metadata": {},
     "output_type": "execute_result"
    }
   ],
   "source": [
    "19.7/2.15\n"
   ]
  },
  {
   "cell_type": "code",
   "execution_count": 32,
   "metadata": {},
   "outputs": [
    {
     "data": {
      "text/plain": [
       "0.5813953488372093"
      ]
     },
     "execution_count": 32,
     "metadata": {},
     "output_type": "execute_result"
    }
   ],
   "source": [
    "25*0.003/12.9*100"
   ]
  },
  {
   "cell_type": "code",
   "execution_count": 39,
   "metadata": {},
   "outputs": [
    {
     "data": {
      "text/plain": [
       "19.1"
      ]
     },
     "execution_count": 39,
     "metadata": {},
     "output_type": "execute_result"
    }
   ],
   "source": [
    "21.75-2.07-0.58"
   ]
  },
  {
   "cell_type": "code",
   "execution_count": 87,
   "metadata": {},
   "outputs": [
    {
     "data": {
      "text/plain": [
       "array([  100.        ,   464.15888336,  2154.43469003, 10000.        ])"
      ]
     },
     "execution_count": 87,
     "metadata": {},
     "output_type": "execute_result"
    }
   ],
   "source": [
    "np.logspace(2,4,4)"
   ]
  },
  {
   "cell_type": "code",
   "execution_count": 92,
   "metadata": {},
   "outputs": [
    {
     "data": {
      "text/plain": [
       "10000.0"
      ]
     },
     "execution_count": 92,
     "metadata": {},
     "output_type": "execute_result"
    }
   ],
   "source": [
    "1000/0.1"
   ]
  },
  {
   "cell_type": "code",
   "execution_count": 93,
   "metadata": {},
   "outputs": [
    {
     "data": {
      "text/plain": [
       "100.0"
      ]
     },
     "execution_count": 93,
     "metadata": {},
     "output_type": "execute_result"
    }
   ],
   "source": [
    "10000/100"
   ]
  },
  {
   "cell_type": "code",
   "execution_count": null,
   "metadata": {},
   "outputs": [],
   "source": []
  }
 ],
 "metadata": {
  "kernelspec": {
   "display_name": "Python 3 (ipykernel)",
   "language": "python",
   "name": "python3"
  },
  "language_info": {
   "codemirror_mode": {
    "name": "ipython",
    "version": 3
   },
   "file_extension": ".py",
   "mimetype": "text/x-python",
   "name": "python",
   "nbconvert_exporter": "python",
   "pygments_lexer": "ipython3",
   "version": "3.11.5"
  }
 },
 "nbformat": 4,
 "nbformat_minor": 4
}
